{
 "cells": [
  {
   "cell_type": "markdown",
   "id": "a8ab389bfc445334",
   "metadata": {},
   "source": [
    "# Praktikum Umformtechnik - Warmwalzen Route: Draht\n",
    "\n",
    "Dieses Notebook soll zur Erstellung der Kaliberfolge und der Berechnung dieser mittels PyRolL dienen."
   ]
  },
  {
   "cell_type": "markdown",
   "id": "f128e35bab440483",
   "metadata": {},
   "source": [
    "### Einladen der Pakete\n",
    "\n",
    "Zunächst werden dazu die notwendigen Pakete eingeladen. Sollten weitere Pakete wie Numpy oder ähnliche benötigt werden können diese hier noch importiert werden (die Pakete müssen dazu installiert sein - anschließend muss die nachfolgende zelle ausgeführt werden) "
   ]
  },
  {
   "cell_type": "code",
   "execution_count": 29,
   "id": "initial_id",
   "metadata": {
    "ExecuteTime": {
     "end_time": "2025-01-14T10:18:20.485816Z",
     "start_time": "2025-01-14T10:18:17.665149Z"
    }
   },
   "outputs": [],
   "source": [
    "from typing import Sequence\n",
    "import pandas as pd\n",
    "import plotly.graph_objects as go\n",
    "import plotly.express as px\n",
    "\n",
    "import pyroll.basic as pr\n",
    "from pyroll.core import Unit\n",
    "\n",
    "import plotly.io as pio\n",
    "pio.templates.default = \"simple_white\""
   ]
  },
  {
   "cell_type": "markdown",
   "id": "45b8790fee374bcf",
   "metadata": {},
   "source": [
    "Für PyRolL im speziellen wird hier das paket pyroll-basic verwendet. Dieses beinhaltet die nachfolgend aufgelisteten Pakete:\n",
    "\n",
    "- `pyroll-core`\n",
    "- `pyroll-cli`\n",
    "- `pyroll-report`\n",
    "- `pyroll-export`\n",
    "- `pyroll-integral-thermal`\n",
    "- `pyroll-lippmann-mahrenholz-force-torque`\n",
    "- `pyroll-wusatowski-spreading`\n",
    "- `pyroll-zouhar-contact`\n",
    "- `pyroll-freiberg-flow-stress`\n",
    "- `pyroll-lendl-equivalent-method`\n",
    "- `pyroll-linear-thermal-expansion`\n",
    "- `pyroll-elastic-mill-spring`\n",
    "- `pyroll-gripping-analysis`\n",
    "\n",
    "Dokumentation zu den Funktionsweisen der einzelnen Pakete kann auf der [GitHub Seite von PyRolL](https://github.com/pyroll-project) gefunden werden"
   ]
  },
  {
   "cell_type": "markdown",
   "id": "806b39b4194bac18",
   "metadata": {},
   "source": [
    "Neben den obigen Paketen zum Plotten und zur Berechnung werden nachfolgend auch Pakete für das Logging impor und dieses Konfiguriert. Dadurch erzeugt PyRolL bei der Berechnung mehr Nachrichten über den Simulationsstand."
   ]
  },
  {
   "cell_type": "code",
   "execution_count": 30,
   "id": "434eb59ddfe1d048",
   "metadata": {
    "ExecuteTime": {
     "end_time": "2025-01-14T10:18:20.489405Z",
     "start_time": "2025-01-14T10:18:20.486994Z"
    }
   },
   "outputs": [],
   "source": [
    "import logging\n",
    "import sys\n",
    "\n",
    "logging.basicConfig(stream=sys.stdout, format='[%(levelname)s] %(name)s: %(message)s')\n",
    "logging.getLogger(\"pyroll\").setLevel(logging.INFO) "
   ]
  },
  {
   "cell_type": "markdown",
   "id": "f9d1786aff4db081",
   "metadata": {},
   "source": [
    "### Definition der Einlaufenden Materials und der Stichfolge\n",
    "\n",
    "Nachfolgend werden nun das in_profile also das einlaufende Profil definiert und die Stichfolge aufgesetzt.\n",
    "\n",
    "In nachfolgender Zelle soll dazu zunächst das in_profil ergänzt werden. Es soll ein runder C45 Stahl mit einem Durchmesser von 42 mm gewalzt werden. "
   ]
  },
  {
   "cell_type": "code",
   "execution_count": 31,
   "id": "124812022fca98a7",
   "metadata": {
    "ExecuteTime": {
     "end_time": "2025-01-14T10:18:20.494223Z",
     "start_time": "2025-01-14T10:18:20.489405Z"
    }
   },
   "outputs": [],
   "source": [
    "# in_profile = pr.Profile.round(\n",
    "#     diameter=42e-3,\n",
    "#     temperature=1200 + 273.15,\n",
    "#     strain=0,\n",
    "#     length=100e-3,\n",
    "#     material=\"C45\",\n",
    "#     density=7.5e3,\n",
    "#     specific_heat_capacity=690,\n",
    "# )\n",
    "\n",
    "in_profile = pr.Profile.square(\n",
    "    diagonal=43.1e-3,\n",
    "    corner_radius=5e-3,\n",
    "    temperature=1040 + 273.15,\n",
    "    strain=0,\n",
    "    material=\"C45\",\n",
    "    density=7.5e3,\n",
    "    specific_heat_capacity=690,\n",
    ")"
   ]
  },
  {
   "cell_type": "markdown",
   "id": "89f2ea89440e12b0",
   "metadata": {},
   "source": [
    "Wie im Praktikum besprochen ist für die Trio-Anlage besonders, dass mittlere Walzenradien verwendet werden sollen. Diese sind nachfolgend zu definieren, um sie später einfach verwenden zu können."
   ]
  },
  {
   "cell_type": "code",
   "execution_count": 32,
   "id": "2efdc7b8ebc168c6",
   "metadata": {
    "ExecuteTime": {
     "end_time": "2025-01-14T10:18:20.500086Z",
     "start_time": "2025-01-14T10:18:20.496978Z"
    }
   },
   "outputs": [],
   "source": [
    "mean_roll_radius_1_upper = (328e-3 + 324e-3) / 2 / 2\n",
    "mean_roll_radius_1_lower = (324e-3 + 320e-3) / 2 / 2\n",
    "mean_roll_radius_2_upper = (299e-3 + 297e-3) / 2 / 2\n",
    "mean_roll_radius_2_lower = (297e-3 + 295e-3) / 2 / 2\n",
    "mean_roll_radius_3_upper = (280e-3 + 278e-3) / 2 / 2\n",
    "mean_roll_radius_3_lower = (278e-3 + 276e-3) / 2 / 2"
   ]
  },
  {
   "cell_type": "markdown",
   "id": "630c60a23c6e10d",
   "metadata": {},
   "source": [
    "Selbiges gilt auch für den Walzspalt. Ihn wollen wir auch nachfolgend definieren um ihn später je gerüst einheitlich verwenden und auch ändern zu können."
   ]
  },
  {
   "cell_type": "code",
   "execution_count": 33,
   "id": "15217c2b177724d",
   "metadata": {
    "ExecuteTime": {
     "end_time": "2025-01-14T10:18:20.503989Z",
     "start_time": "2025-01-14T10:18:20.500086Z"
    }
   },
   "outputs": [],
   "source": [
    "roll_gap_1_upper = 3e-3\n",
    "roll_gap_1_lower = 3e-3\n",
    "roll_gap_2_upper = 0.35e-3\n",
    "roll_gap_2_lower = 1e-3\n",
    "roll_gap_3_upper = 0.01e-3\n",
    "roll_gap_3_lower = 0.01e-3"
   ]
  },
  {
   "cell_type": "markdown",
   "id": "926eb18e42ee7296",
   "metadata": {},
   "source": [
    "Anschließend soll nun noch der Transport definiert werden, da dieser konstant über alle Stiche bleiben wird."
   ]
  },
  {
   "cell_type": "code",
   "execution_count": 34,
   "id": "c0845fb5f167059",
   "metadata": {
    "ExecuteTime": {
     "end_time": "2025-01-14T10:18:20.507583Z",
     "start_time": "2025-01-14T10:18:20.503989Z"
    }
   },
   "outputs": [],
   "source": [
    "transport = pr.Transport(\n",
    "    label=\"Transport\",\n",
    "    duration=5.0\n",
    ")"
   ]
  },
  {
   "cell_type": "markdown",
   "id": "5b4e65800ae714f0",
   "metadata": {},
   "source": [
    "Letztlich wird nun noch die Stichfolge definiert:"
   ]
  },
  {
   "cell_type": "code",
   "execution_count": 35,
   "id": "d6e489fb-79eb-4e2d-8938-3a32b8818fcc",
   "metadata": {
    "ExecuteTime": {
     "end_time": "2025-01-14T10:18:20.519196Z",
     "start_time": "2025-01-14T10:18:20.508588Z"
    }
   },
   "outputs": [],
   "source": [
    "sequence = pr.PassSequence([\n",
    "    # pr.RollPass(\n",
    "    #     label=\"Raute I\",\n",
    "    #     roll=pr.Roll(\n",
    "    #         groove=pr.DiamondGroove(\n",
    "    #             usable_width=76.55e-3,\n",
    "    #             tip_depth=22.1e-3,\n",
    "    #             r1=12e-3,\n",
    "    #             r2=8e-3\n",
    "    #         ),\n",
    "    #         nominal_radius=mean_roll_radius_1_lower,\n",
    "    # \n",
    "    #     ),\n",
    "    #     gap=roll_gap_1_lower,\n",
    "    #     velocity=1,\n",
    "    #     coulomb_friction_coefficient=0.4,\n",
    "    # ),\n",
    "    # \n",
    "    # pr.Transport(\n",
    "    # label=\"Transport 1\",\n",
    "    # duration=5.0\n",
    "    # ),\n",
    "    # \n",
    "    # pr.RollPass(\n",
    "    #     label=\"Quadrat II\",\n",
    "    #     roll=pr.Roll(\n",
    "    #         groove=pr.SquareGroove(\n",
    "    #             usable_width=52.7e-3,\n",
    "    #             tip_depth=25.95e-3,\n",
    "    #             r1=8e-3,\n",
    "    #             r2=6e-3\n",
    "    #         ),\n",
    "    #         nominal_radius=mean_roll_radius_1_upper,\n",
    "    # \n",
    "    #     ),\n",
    "    #     gap=roll_gap_1_upper,\n",
    "    #     velocity=1,\n",
    "    #     coulomb_friction_coefficient=0.4,\n",
    "    # ),\n",
    "    # \n",
    "    # pr.Transport(\n",
    "    # label=\"Transport 2\",\n",
    "    # duration=5.0\n",
    "    # ),\n",
    "    # \n",
    "    # pr.RollPass(\n",
    "    #     label=\"Raute III\",\n",
    "    #     roll=pr.Roll(\n",
    "    #         groove=pr.DiamondGroove(\n",
    "    #             usable_width=58.3e-3,\n",
    "    #             tip_depth=16.85e-3,\n",
    "    #             r1=7e-3,\n",
    "    #             r2=8e-3\n",
    "    #         ),\n",
    "    #         nominal_radius=mean_roll_radius_1_lower,\n",
    "    # \n",
    "    #     ),\n",
    "    #     gap=roll_gap_1_lower,\n",
    "    #     velocity=1,\n",
    "    #     coulomb_friction_coefficient=0.4,\n",
    "    # ),\n",
    "    # \n",
    "    # pr.Transport(\n",
    "    # label=\"Transport 3\",\n",
    "    # duration=5.0\n",
    "    # ),\n",
    "    # \n",
    "    # pr.RollPass(\n",
    "    #     label=\"Quadrat IV\",\n",
    "    #     roll=pr.Roll(\n",
    "    #         groove=pr.SquareGroove(\n",
    "    #             usable_width=40.74e-3,\n",
    "    #             tip_depth=20.05e-3,\n",
    "    #             r1=7e-3,\n",
    "    #             r2=5e-3\n",
    "    #         ),\n",
    "    #         nominal_radius=mean_roll_radius_1_upper,\n",
    "    # \n",
    "    #     ),\n",
    "    #     gap=roll_gap_1_upper,\n",
    "    #     velocity=1,\n",
    "    #     coulomb_friction_coefficient=0.4,\n",
    "    # ),\n",
    "    # \n",
    "    # pr.Transport(\n",
    "    # label=\"Transport 4\",\n",
    "    # duration=5.0\n",
    "    # ),\n",
    "    \n",
    "    pr.RollPass(\n",
    "        label=\"Oval V\",\n",
    "        roll=pr.Roll(\n",
    "            groove=pr.CircularOvalGroove(\n",
    "                depth=7.25e-3,\n",
    "                r1=6e-3,\n",
    "                r2=44.5e-3\n",
    "            ),\n",
    "            nominal_radius=mean_roll_radius_1_lower,\n",
    "        ),\n",
    "        gap=roll_gap_1_lower,\n",
    "        velocity=1,\n",
    "        coulomb_friction_coefficient=0.4,\n",
    "        stand_stiffness=1e9\n",
    "    ),\n",
    "    \n",
    "    pr.Transport(\n",
    "    label=\"Transport 5\",\n",
    "    duration=5.0\n",
    "    ),\n",
    "    \n",
    "    pr.RollPass(\n",
    "        label=\"Quadrat VI\",\n",
    "        roll=pr.Roll(\n",
    "            groove=pr.SquareGroove(\n",
    "                usable_width=29.64e-3,\n",
    "                tip_depth=14.625e-3,\n",
    "                r1=6e-3,\n",
    "                r2=4e-3\n",
    "            ),\n",
    "            nominal_radius=mean_roll_radius_1_upper,\n",
    "\n",
    "        ),\n",
    "        gap=roll_gap_1_upper,\n",
    "        velocity=1,\n",
    "        coulomb_friction_coefficient=0.4,\n",
    "        stand_stiffness=1e9\n",
    "    ),\n",
    "    \n",
    "    pr.Transport(\n",
    "    label=\"Transport 6\",\n",
    "    duration=5.0\n",
    "    ),\n",
    "    \n",
    "    pr.RollPass(\n",
    "        label=\"Oval VII\",\n",
    "        roll=pr.Roll(\n",
    "            groove=pr.CircularOvalGroove(\n",
    "                depth=5.05e-3,\n",
    "                r1=7e-3,\n",
    "                r2=33e-3\n",
    "            ),\n",
    "            nominal_radius=mean_roll_radius_1_lower,\n",
    "\n",
    "        ),\n",
    "        gap=roll_gap_1_lower,\n",
    "        velocity=1,\n",
    "        coulomb_friction_coefficient=0.4,\n",
    "        stand_stiffness=1e9\n",
    "    ),\n",
    "    \n",
    "    pr.Transport(\n",
    "    label=\"Transport 7\",\n",
    "    duration=5.0\n",
    "    ),\n",
    "    \n",
    "    pr.RollPass(\n",
    "        label=\"Quadrat VIII\",\n",
    "        roll=pr.Roll(\n",
    "            groove=pr.SquareGroove(\n",
    "                usable_width=21.54e-3,\n",
    "                tip_depth=10.6e-3,\n",
    "                r1=5e-3,\n",
    "                r2=3e-3\n",
    "            ),\n",
    "            nominal_radius=mean_roll_radius_1_upper,\n",
    "\n",
    "        ),\n",
    "        gap=roll_gap_1_upper,\n",
    "        velocity=1,\n",
    "        coulomb_friction_coefficient=0.4,\n",
    "        stand_stiffness=1e9\n",
    "    ),\n",
    "    \n",
    "    pr.Transport(\n",
    "    label=\"Transport 8\",\n",
    "    duration=5.0\n",
    "    ),\n",
    "    \n",
    "    pr.RollPass(\n",
    "        label=\"Oval IX\",\n",
    "        roll=pr.Roll(\n",
    "            groove=pr.CircularOvalGroove(\n",
    "                depth=4.43e-3,\n",
    "                r1=6e-3,\n",
    "                r2=25.5e-3\n",
    "            ),\n",
    "            nominal_radius=mean_roll_radius_2_lower,\n",
    "\n",
    "        ),\n",
    "        gap=roll_gap_2_lower,\n",
    "        velocity=1,\n",
    "        coulomb_friction_coefficient=0.4,\n",
    "        stand_stiffness=1e9\n",
    "    ),\n",
    "    \n",
    "    pr.Transport(\n",
    "    label=\"Transport 9\",\n",
    "    duration=5.0\n",
    "    ),\n",
    "    \n",
    "    pr.RollPass(\n",
    "        label=\"Quadrat X\",\n",
    "        roll=pr.Roll(\n",
    "            groove=pr.SquareGroove(\n",
    "                usable_width=16.22e-3,\n",
    "                tip_depth=8.11e-3,\n",
    "                r1=2e-3,\n",
    "                r2=1e-3\n",
    "            ),\n",
    "            nominal_radius=mean_roll_radius_3_upper,\n",
    "\n",
    "        ),\n",
    "        gap=roll_gap_3_upper,\n",
    "        velocity=1,\n",
    "        coulomb_friction_coefficient=0.4,\n",
    "        stand_stiffness=1e9\n",
    "    ),\n",
    "    \n",
    "    pr.Transport(\n",
    "    label=\"Transport 10\",\n",
    "    duration=5.0\n",
    "    ),\n",
    "    \n",
    "    pr.RollPass(\n",
    "        label=\"Oval XI\",\n",
    "        roll=pr.Roll(\n",
    "            groove=pr.CircularOvalGroove(\n",
    "                depth=3.53e-3,\n",
    "                r1=6e-3,\n",
    "                r2=17e-3\n",
    "            ),\n",
    "            nominal_radius=mean_roll_radius_2_lower,\n",
    "\n",
    "        ),\n",
    "        gap=roll_gap_2_lower,\n",
    "        velocity=1,\n",
    "        coulomb_friction_coefficient=0.4,\n",
    "        stand_stiffness=1e9\n",
    "    ),\n",
    "    \n",
    "    pr.Transport(\n",
    "    label=\"Transport 11\",\n",
    "    duration=5.0\n",
    "    ),\n",
    "    \n",
    "    pr.RollPass(\n",
    "        label=\"Quadrat XII\",\n",
    "        roll=pr.Roll(\n",
    "            groove=pr.SquareGroove(\n",
    "                usable_width=13.58e-3,\n",
    "                tip_depth=6.70e-3,\n",
    "                r1=4e-3,\n",
    "                r2=2e-3\n",
    "            ),\n",
    "            nominal_radius=mean_roll_radius_3_upper,\n",
    "\n",
    "        ),\n",
    "        gap=roll_gap_3_upper,\n",
    "        velocity=1,\n",
    "        coulomb_friction_coefficient=0.4,\n",
    "        stand_stiffness=1e9\n",
    "    ),\n",
    "    \n",
    "    \n",
    "    pr.Transport(\n",
    "    label=\"Transport 12\",\n",
    "    duration=5.0\n",
    "    ),\n",
    "    \n",
    "    pr.RollPass(\n",
    "        label=\"Oval XIII\",\n",
    "        roll=pr.Roll(\n",
    "            groove=pr.CircularOvalGroove(\n",
    "                depth=2.7e-3,\n",
    "                r1=5e-3,\n",
    "                r2=13.2e-3\n",
    "            ),\n",
    "            nominal_radius=mean_roll_radius_2_lower,\n",
    "\n",
    "        ),\n",
    "        gap=roll_gap_2_lower,\n",
    "        velocity=1,\n",
    "        coulomb_friction_coefficient=0.4,\n",
    "        stand_stiffness=1e9\n",
    "    ),\n",
    "    \n",
    "    pr.Transport(\n",
    "    label=\"Transport 13\",\n",
    "    duration=5.0\n",
    "    ),\n",
    "    \n",
    "    pr.RollPass(\n",
    "        label=\"Quadrat XIV\",\n",
    "        roll=pr.Roll(\n",
    "            groove=pr.SquareGroove(\n",
    "                usable_width=10.73e-3,\n",
    "                tip_depth=5.37e-3,\n",
    "                r1=3.6e-3,\n",
    "                r2=1.6e-3\n",
    "            ),\n",
    "            nominal_radius=mean_roll_radius_3_upper,\n",
    "\n",
    "        ),\n",
    "        gap=roll_gap_3_upper,\n",
    "        velocity=1,\n",
    "        coulomb_friction_coefficient=0.4,\n",
    "        stand_stiffness=1e9\n",
    "    ),\n",
    "    \n",
    "    pr.Transport(\n",
    "    label=\"Transport 14\",\n",
    "    duration=5.0\n",
    "    ),\n",
    "    \n",
    "    pr.RollPass(\n",
    "        label=\"Oval XV\",\n",
    "        roll=pr.Roll(\n",
    "            groove=pr.CircularOvalGroove(\n",
    "                depth=2.16e-3,\n",
    "                r1=4e-3,\n",
    "                r2=12.15e-3\n",
    "            ),\n",
    "            nominal_radius=mean_roll_radius_3_lower,\n",
    "\n",
    "        ),\n",
    "        gap=roll_gap_3_lower,\n",
    "        velocity=1,\n",
    "        coulomb_friction_coefficient=0.4,\n",
    "        stand_stiffness=1e9\n",
    "    ),\n",
    "    \n",
    "    pr.Transport(\n",
    "    label=\"Transport 15\",\n",
    "    duration=5.0\n",
    "    ),\n",
    "    \n",
    "    pr.RollPass(\n",
    "        label=\"Fertigrund XVIa\",\n",
    "        roll=pr.Roll(\n",
    "            groove=pr.RoundGroove(\n",
    "                r1=1.5e-3,\n",
    "                r2=3.9e-3,\n",
    "                depth=3.65e-3\n",
    "            ),\n",
    "            nominal_radius=mean_roll_radius_2_upper,\n",
    "\n",
    "        ),\n",
    "        gap=roll_gap_2_upper,\n",
    "        velocity=1,\n",
    "        coulomb_friction_coefficient=0.4,\n",
    "        stand_stiffness=1e9\n",
    "    ),\n",
    "])"
   ]
  },
  {
   "cell_type": "markdown",
   "id": "fa9c520e40b3e367",
   "metadata": {},
   "source": [
    "Mit dem Solve befehl wird die Simulation nun gestartet."
   ]
  },
  {
   "cell_type": "code",
   "execution_count": 36,
   "id": "6b0587f0-01fa-4eaa-ab73-a454e08c683f",
   "metadata": {
    "ExecuteTime": {
     "end_time": "2025-01-14T10:18:21.369505Z",
     "start_time": "2025-01-14T10:18:20.519499Z"
    }
   },
   "outputs": [
    {
     "name": "stdout",
     "output_type": "stream",
     "text": [
      "[INFO] pyroll.core.Unit: Started solving of PassSequence.\n",
      "[INFO] pyroll.core.Unit: Started solving of TwoRollPass 'Oval V'.\n",
      "[INFO] pyroll.core.Unit: Started solving of Rotator 'Auto-Rotator for TwoRollPass 'Oval V''.\n",
      "[INFO] pyroll.core.Unit: Finished solving of Rotator 'Auto-Rotator for TwoRollPass 'Oval V'' after 2 iterations.\n",
      "[INFO] pyroll.core.Unit: Solution took 0.005 s.\n",
      "[INFO] pyroll.core.Unit: Finished solving of TwoRollPass 'Oval V' after 9 iterations.\n",
      "[INFO] pyroll.core.Unit: Solution took 0.099 s.\n",
      "[INFO] pyroll.core.Unit: Started solving of Transport 'Transport 5'.\n",
      "[INFO] pyroll.core.Unit: Finished solving of Transport 'Transport 5' after 2 iterations.\n",
      "[INFO] pyroll.core.Unit: Solution took 0.003 s.\n",
      "[INFO] pyroll.core.Unit: Started solving of TwoRollPass 'Quadrat VI'.\n",
      "[INFO] pyroll.core.Unit: Started solving of Rotator 'Auto-Rotator for TwoRollPass 'Quadrat VI''.\n",
      "[INFO] pyroll.core.Unit: Finished solving of Rotator 'Auto-Rotator for TwoRollPass 'Quadrat VI'' after 2 iterations.\n",
      "[INFO] pyroll.core.Unit: Solution took 0.003 s.\n",
      "[INFO] pyroll.core.Unit: Finished solving of TwoRollPass 'Quadrat VI' after 7 iterations.\n",
      "[INFO] pyroll.core.Unit: Solution took 0.076 s.\n",
      "[INFO] pyroll.core.Unit: Started solving of Transport 'Transport 6'.\n",
      "[INFO] pyroll.core.Unit: Finished solving of Transport 'Transport 6' after 2 iterations.\n",
      "[INFO] pyroll.core.Unit: Solution took 0.005 s.\n",
      "[INFO] pyroll.core.Unit: Started solving of TwoRollPass 'Oval VII'.\n",
      "[INFO] pyroll.core.Unit: Started solving of Rotator 'Auto-Rotator for TwoRollPass 'Oval VII''.\n",
      "[INFO] pyroll.core.Unit: Finished solving of Rotator 'Auto-Rotator for TwoRollPass 'Oval VII'' after 2 iterations.\n",
      "[INFO] pyroll.core.Unit: Solution took 0.005 s.\n",
      "[INFO] pyroll.core.Unit: Finished solving of TwoRollPass 'Oval VII' after 9 iterations.\n",
      "[INFO] pyroll.core.Unit: Solution took 0.147 s.\n",
      "[INFO] pyroll.core.Unit: Started solving of Transport 'Transport 7'.\n",
      "[INFO] pyroll.core.Unit: Finished solving of Transport 'Transport 7' after 3 iterations.\n",
      "[INFO] pyroll.core.Unit: Solution took 0.007 s.\n",
      "[INFO] pyroll.core.Unit: Started solving of TwoRollPass 'Quadrat VIII'.\n",
      "[INFO] pyroll.core.Unit: Started solving of Rotator 'Auto-Rotator for TwoRollPass 'Quadrat VIII''.\n",
      "[INFO] pyroll.core.Unit: Finished solving of Rotator 'Auto-Rotator for TwoRollPass 'Quadrat VIII'' after 2 iterations.\n",
      "[INFO] pyroll.core.Unit: Solution took 0.005 s.\n",
      "[INFO] pyroll.core.Unit: Finished solving of TwoRollPass 'Quadrat VIII' after 7 iterations.\n",
      "[INFO] pyroll.core.Unit: Solution took 0.092 s.\n",
      "[INFO] pyroll.core.Unit: Started solving of Transport 'Transport 8'.\n",
      "[INFO] pyroll.core.Unit: Finished solving of Transport 'Transport 8' after 3 iterations.\n",
      "[INFO] pyroll.core.Unit: Solution took 0.007 s.\n",
      "[INFO] pyroll.core.Unit: Started solving of TwoRollPass 'Oval IX'.\n",
      "[INFO] pyroll.core.Unit: Started solving of Rotator 'Auto-Rotator for TwoRollPass 'Oval IX''.\n",
      "[INFO] pyroll.core.Unit: Finished solving of Rotator 'Auto-Rotator for TwoRollPass 'Oval IX'' after 2 iterations.\n",
      "[INFO] pyroll.core.Unit: Solution took 0.003 s.\n",
      "[INFO] pyroll.core.Unit: Finished solving of TwoRollPass 'Oval IX' after 9 iterations.\n",
      "[INFO] pyroll.core.Unit: Solution took 0.105 s.\n",
      "[INFO] pyroll.core.Unit: Started solving of Transport 'Transport 9'.\n",
      "[INFO] pyroll.core.Unit: Finished solving of Transport 'Transport 9' after 3 iterations.\n",
      "[INFO] pyroll.core.Unit: Solution took 0.009 s.\n",
      "[INFO] pyroll.core.Unit: Started solving of TwoRollPass 'Quadrat X'.\n",
      "[INFO] pyroll.core.Unit: Started solving of Rotator 'Auto-Rotator for TwoRollPass 'Quadrat X''.\n",
      "[INFO] pyroll.core.Unit: Finished solving of Rotator 'Auto-Rotator for TwoRollPass 'Quadrat X'' after 2 iterations.\n",
      "[INFO] pyroll.core.Unit: Solution took 0.008 s.\n",
      "[INFO] pyroll.core.Unit: Finished solving of TwoRollPass 'Quadrat X' after 6 iterations.\n",
      "[INFO] pyroll.core.Unit: Solution took 0.104 s.\n",
      "[INFO] pyroll.core.Unit: Started solving of Transport 'Transport 10'.\n",
      "[INFO] pyroll.core.Unit: Finished solving of Transport 'Transport 10' after 3 iterations.\n",
      "[INFO] pyroll.core.Unit: Solution took 0.005 s.\n",
      "[INFO] pyroll.core.Unit: Started solving of TwoRollPass 'Oval XI'.\n",
      "[INFO] pyroll.core.Unit: Started solving of Rotator 'Auto-Rotator for TwoRollPass 'Oval XI''.\n",
      "[INFO] pyroll.core.Unit: Finished solving of Rotator 'Auto-Rotator for TwoRollPass 'Oval XI'' after 2 iterations.\n",
      "[INFO] pyroll.core.Unit: Solution took 0.005 s.\n",
      "[INFO] pyroll.core.Unit: Finished solving of TwoRollPass 'Oval XI' after 9 iterations.\n",
      "[INFO] pyroll.core.Unit: Solution took 0.155 s.\n",
      "[INFO] pyroll.core.Unit: Started solving of Transport 'Transport 11'.\n",
      "[INFO] pyroll.core.Unit: Finished solving of Transport 'Transport 11' after 3 iterations.\n",
      "[INFO] pyroll.core.Unit: Solution took 0.007 s.\n",
      "[INFO] pyroll.core.Unit: Started solving of TwoRollPass 'Quadrat XII'.\n",
      "[INFO] pyroll.core.Unit: Started solving of Rotator 'Auto-Rotator for TwoRollPass 'Quadrat XII''.\n",
      "[INFO] pyroll.core.Unit: Finished solving of Rotator 'Auto-Rotator for TwoRollPass 'Quadrat XII'' after 2 iterations.\n",
      "[INFO] pyroll.core.Unit: Solution took 0.005 s.\n",
      "[INFO] pyroll.core.Unit: Finished solving of TwoRollPass 'Quadrat XII' after 7 iterations.\n",
      "[INFO] pyroll.core.Unit: Solution took 0.117 s.\n",
      "[INFO] pyroll.core.Unit: Started solving of Transport 'Transport 12'.\n",
      "[INFO] pyroll.core.Unit: Finished solving of Transport 'Transport 12' after 3 iterations.\n",
      "[INFO] pyroll.core.Unit: Solution took 0.003 s.\n",
      "[INFO] pyroll.core.Unit: Started solving of TwoRollPass 'Oval XIII'.\n",
      "[INFO] pyroll.core.Unit: Started solving of Rotator 'Auto-Rotator for TwoRollPass 'Oval XIII''.\n",
      "[INFO] pyroll.core.Unit: Finished solving of Rotator 'Auto-Rotator for TwoRollPass 'Oval XIII'' after 2 iterations.\n",
      "[INFO] pyroll.core.Unit: Solution took 0.002 s.\n",
      "[INFO] pyroll.core.Unit: Finished solving of TwoRollPass 'Oval XIII' after 9 iterations.\n",
      "[INFO] pyroll.core.Unit: Solution took 0.117 s.\n",
      "[INFO] pyroll.core.Unit: Started solving of Transport 'Transport 13'.\n",
      "[INFO] pyroll.core.Unit: Finished solving of Transport 'Transport 13' after 3 iterations.\n",
      "[INFO] pyroll.core.Unit: Solution took 0.010 s.\n",
      "[INFO] pyroll.core.Unit: Started solving of TwoRollPass 'Quadrat XIV'.\n",
      "[INFO] pyroll.core.Unit: Started solving of Rotator 'Auto-Rotator for TwoRollPass 'Quadrat XIV''.\n",
      "[INFO] pyroll.core.Unit: Finished solving of Rotator 'Auto-Rotator for TwoRollPass 'Quadrat XIV'' after 2 iterations.\n",
      "[INFO] pyroll.core.Unit: Solution took 0.007 s.\n",
      "[INFO] pyroll.core.Unit: Finished solving of TwoRollPass 'Quadrat XIV' after 7 iterations.\n",
      "[INFO] pyroll.core.Unit: Solution took 0.094 s.\n",
      "[INFO] pyroll.core.Unit: Started solving of Transport 'Transport 14'.\n",
      "[INFO] pyroll.core.Unit: Finished solving of Transport 'Transport 14' after 3 iterations.\n",
      "[INFO] pyroll.core.Unit: Solution took 0.004 s.\n",
      "[INFO] pyroll.core.Unit: Started solving of TwoRollPass 'Oval XV'.\n",
      "[INFO] pyroll.core.Unit: Started solving of Rotator 'Auto-Rotator for TwoRollPass 'Oval XV''.\n",
      "[INFO] pyroll.core.Unit: Finished solving of Rotator 'Auto-Rotator for TwoRollPass 'Oval XV'' after 2 iterations.\n",
      "[INFO] pyroll.core.Unit: Solution took 0.002 s.\n",
      "[INFO] pyroll.core.Unit: Finished solving of TwoRollPass 'Oval XV' after 9 iterations.\n",
      "[INFO] pyroll.core.Unit: Solution took 0.097 s.\n",
      "[INFO] pyroll.core.Unit: Started solving of Transport 'Transport 15'.\n",
      "[INFO] pyroll.core.Unit: Finished solving of Transport 'Transport 15' after 3 iterations.\n",
      "[INFO] pyroll.core.Unit: Solution took 0.003 s.\n",
      "[INFO] pyroll.core.Unit: Started solving of TwoRollPass 'Fertigrund XVIa'.\n",
      "[INFO] pyroll.core.Unit: Started solving of Rotator 'Auto-Rotator for TwoRollPass 'Fertigrund XVIa''.\n",
      "[INFO] pyroll.core.Unit: Finished solving of Rotator 'Auto-Rotator for TwoRollPass 'Fertigrund XVIa'' after 2 iterations.\n",
      "[INFO] pyroll.core.Unit: Solution took 0.005 s.\n",
      "[INFO] pyroll.core.Unit: Finished solving of TwoRollPass 'Fertigrund XVIa' after 7 iterations.\n",
      "[INFO] pyroll.core.Unit: Solution took 0.068 s.\n",
      "[INFO] pyroll.core.Unit: Started solving of TwoRollPass 'Oval V'.\n",
      "[INFO] pyroll.core.Unit: Started solving of Rotator 'Auto-Rotator for TwoRollPass 'Oval V''.\n",
      "[INFO] pyroll.core.Unit: Finished solving of Rotator 'Auto-Rotator for TwoRollPass 'Oval V'' after 2 iterations.\n",
      "[INFO] pyroll.core.Unit: Solution took 0.004 s.\n",
      "[INFO] pyroll.core.Unit: Finished solving of TwoRollPass 'Oval V' after 7 iterations.\n",
      "[INFO] pyroll.core.Unit: Solution took 0.111 s.\n",
      "[INFO] pyroll.core.Unit: Started solving of Transport 'Transport 5'.\n",
      "[INFO] pyroll.core.Unit: Finished solving of Transport 'Transport 5' after 1 iterations.\n",
      "[INFO] pyroll.core.Unit: Solution took 0.002 s.\n",
      "[INFO] pyroll.core.Unit: Started solving of TwoRollPass 'Quadrat VI'.\n",
      "[INFO] pyroll.core.Unit: Started solving of Rotator 'Auto-Rotator for TwoRollPass 'Quadrat VI''.\n",
      "[INFO] pyroll.core.Unit: Finished solving of Rotator 'Auto-Rotator for TwoRollPass 'Quadrat VI'' after 2 iterations.\n",
      "[INFO] pyroll.core.Unit: Solution took 0.003 s.\n",
      "[INFO] pyroll.core.Unit: Finished solving of TwoRollPass 'Quadrat VI' after 5 iterations.\n",
      "[INFO] pyroll.core.Unit: Solution took 0.054 s.\n",
      "[INFO] pyroll.core.Unit: Started solving of Transport 'Transport 6'.\n",
      "[INFO] pyroll.core.Unit: Finished solving of Transport 'Transport 6' after 1 iterations.\n",
      "[INFO] pyroll.core.Unit: Solution took 0.003 s.\n",
      "[INFO] pyroll.core.Unit: Started solving of TwoRollPass 'Oval VII'.\n",
      "[INFO] pyroll.core.Unit: Started solving of Rotator 'Auto-Rotator for TwoRollPass 'Oval VII''.\n",
      "[INFO] pyroll.core.Unit: Finished solving of Rotator 'Auto-Rotator for TwoRollPass 'Oval VII'' after 2 iterations.\n",
      "[INFO] pyroll.core.Unit: Solution took 0.003 s.\n",
      "[INFO] pyroll.core.Unit: Finished solving of TwoRollPass 'Oval VII' after 7 iterations.\n",
      "[INFO] pyroll.core.Unit: Solution took 0.098 s.\n",
      "[INFO] pyroll.core.Unit: Started solving of Transport 'Transport 7'.\n",
      "[INFO] pyroll.core.Unit: Finished solving of Transport 'Transport 7' after 1 iterations.\n",
      "[INFO] pyroll.core.Unit: Solution took 0.005 s.\n",
      "[INFO] pyroll.core.Unit: Started solving of TwoRollPass 'Quadrat VIII'.\n",
      "[INFO] pyroll.core.Unit: Started solving of Rotator 'Auto-Rotator for TwoRollPass 'Quadrat VIII''.\n",
      "[INFO] pyroll.core.Unit: Finished solving of Rotator 'Auto-Rotator for TwoRollPass 'Quadrat VIII'' after 2 iterations.\n",
      "[INFO] pyroll.core.Unit: Solution took 0.010 s.\n",
      "[INFO] pyroll.core.Unit: Finished solving of TwoRollPass 'Quadrat VIII' after 5 iterations.\n",
      "[INFO] pyroll.core.Unit: Solution took 0.153 s.\n",
      "[INFO] pyroll.core.Unit: Started solving of Transport 'Transport 8'.\n",
      "[INFO] pyroll.core.Unit: Finished solving of Transport 'Transport 8' after 1 iterations.\n",
      "[INFO] pyroll.core.Unit: Solution took 0.004 s.\n",
      "[INFO] pyroll.core.Unit: Started solving of TwoRollPass 'Oval IX'.\n",
      "[INFO] pyroll.core.Unit: Started solving of Rotator 'Auto-Rotator for TwoRollPass 'Oval IX''.\n",
      "[INFO] pyroll.core.Unit: Finished solving of Rotator 'Auto-Rotator for TwoRollPass 'Oval IX'' after 2 iterations.\n",
      "[INFO] pyroll.core.Unit: Solution took 0.009 s.\n",
      "[INFO] pyroll.core.Unit: Finished solving of TwoRollPass 'Oval IX' after 7 iterations.\n",
      "[INFO] pyroll.core.Unit: Solution took 0.126 s.\n",
      "[INFO] pyroll.core.Unit: Started solving of Transport 'Transport 9'.\n",
      "[INFO] pyroll.core.Unit: Finished solving of Transport 'Transport 9' after 1 iterations.\n",
      "[INFO] pyroll.core.Unit: Solution took 0.004 s.\n",
      "[INFO] pyroll.core.Unit: Started solving of TwoRollPass 'Quadrat X'.\n",
      "[INFO] pyroll.core.Unit: Started solving of Rotator 'Auto-Rotator for TwoRollPass 'Quadrat X''.\n",
      "[INFO] pyroll.core.Unit: Finished solving of Rotator 'Auto-Rotator for TwoRollPass 'Quadrat X'' after 2 iterations.\n",
      "[INFO] pyroll.core.Unit: Solution took 0.006 s.\n",
      "[INFO] pyroll.core.Unit: Finished solving of TwoRollPass 'Quadrat X' after 3 iterations.\n",
      "[INFO] pyroll.core.Unit: Solution took 0.072 s.\n",
      "[INFO] pyroll.core.Unit: Started solving of Transport 'Transport 10'.\n",
      "[INFO] pyroll.core.Unit: Finished solving of Transport 'Transport 10' after 1 iterations.\n",
      "[INFO] pyroll.core.Unit: Solution took 0.004 s.\n",
      "[INFO] pyroll.core.Unit: Started solving of TwoRollPass 'Oval XI'.\n",
      "[INFO] pyroll.core.Unit: Started solving of Rotator 'Auto-Rotator for TwoRollPass 'Oval XI''.\n",
      "[INFO] pyroll.core.Unit: Finished solving of Rotator 'Auto-Rotator for TwoRollPass 'Oval XI'' after 2 iterations.\n",
      "[INFO] pyroll.core.Unit: Solution took 0.006 s.\n",
      "[INFO] pyroll.core.Unit: Finished solving of TwoRollPass 'Oval XI' after 5 iterations.\n",
      "[INFO] pyroll.core.Unit: Solution took 0.066 s.\n",
      "[INFO] pyroll.core.Unit: Started solving of Transport 'Transport 11'.\n",
      "[INFO] pyroll.core.Unit: Finished solving of Transport 'Transport 11' after 1 iterations.\n",
      "[INFO] pyroll.core.Unit: Solution took 0.004 s.\n",
      "[INFO] pyroll.core.Unit: Started solving of TwoRollPass 'Quadrat XII'.\n",
      "[INFO] pyroll.core.Unit: Started solving of Rotator 'Auto-Rotator for TwoRollPass 'Quadrat XII''.\n",
      "[INFO] pyroll.core.Unit: Finished solving of Rotator 'Auto-Rotator for TwoRollPass 'Quadrat XII'' after 2 iterations.\n",
      "[INFO] pyroll.core.Unit: Solution took 0.003 s.\n",
      "[INFO] pyroll.core.Unit: Finished solving of TwoRollPass 'Quadrat XII' after 5 iterations.\n",
      "[INFO] pyroll.core.Unit: Solution took 0.053 s.\n",
      "[INFO] pyroll.core.Unit: Started solving of Transport 'Transport 12'.\n",
      "[INFO] pyroll.core.Unit: Finished solving of Transport 'Transport 12' after 1 iterations.\n",
      "[INFO] pyroll.core.Unit: Solution took 0.002 s.\n",
      "[INFO] pyroll.core.Unit: Started solving of TwoRollPass 'Oval XIII'.\n",
      "[INFO] pyroll.core.Unit: Started solving of Rotator 'Auto-Rotator for TwoRollPass 'Oval XIII''.\n",
      "[INFO] pyroll.core.Unit: Finished solving of Rotator 'Auto-Rotator for TwoRollPass 'Oval XIII'' after 2 iterations.\n",
      "[INFO] pyroll.core.Unit: Solution took 0.004 s.\n",
      "[INFO] pyroll.core.Unit: Finished solving of TwoRollPass 'Oval XIII' after 5 iterations.\n",
      "[INFO] pyroll.core.Unit: Solution took 0.050 s.\n",
      "[INFO] pyroll.core.Unit: Started solving of Transport 'Transport 13'.\n",
      "[INFO] pyroll.core.Unit: Finished solving of Transport 'Transport 13' after 1 iterations.\n",
      "[INFO] pyroll.core.Unit: Solution took 0.002 s.\n",
      "[INFO] pyroll.core.Unit: Started solving of TwoRollPass 'Quadrat XIV'.\n",
      "[INFO] pyroll.core.Unit: Started solving of Rotator 'Auto-Rotator for TwoRollPass 'Quadrat XIV''.\n",
      "[INFO] pyroll.core.Unit: Finished solving of Rotator 'Auto-Rotator for TwoRollPass 'Quadrat XIV'' after 2 iterations.\n",
      "[INFO] pyroll.core.Unit: Solution took 0.003 s.\n",
      "[INFO] pyroll.core.Unit: Finished solving of TwoRollPass 'Quadrat XIV' after 5 iterations.\n",
      "[INFO] pyroll.core.Unit: Solution took 0.084 s.\n",
      "[INFO] pyroll.core.Unit: Started solving of Transport 'Transport 14'.\n",
      "[INFO] pyroll.core.Unit: Finished solving of Transport 'Transport 14' after 1 iterations.\n",
      "[INFO] pyroll.core.Unit: Solution took 0.003 s.\n",
      "[INFO] pyroll.core.Unit: Started solving of TwoRollPass 'Oval XV'.\n",
      "[INFO] pyroll.core.Unit: Started solving of Rotator 'Auto-Rotator for TwoRollPass 'Oval XV''.\n",
      "[INFO] pyroll.core.Unit: Finished solving of Rotator 'Auto-Rotator for TwoRollPass 'Oval XV'' after 2 iterations.\n",
      "[INFO] pyroll.core.Unit: Solution took 0.007 s.\n",
      "[INFO] pyroll.core.Unit: Finished solving of TwoRollPass 'Oval XV' after 7 iterations.\n",
      "[INFO] pyroll.core.Unit: Solution took 0.130 s.\n",
      "[INFO] pyroll.core.Unit: Started solving of Transport 'Transport 15'.\n",
      "[INFO] pyroll.core.Unit: Finished solving of Transport 'Transport 15' after 1 iterations.\n",
      "[INFO] pyroll.core.Unit: Solution took 0.002 s.\n",
      "[INFO] pyroll.core.Unit: Started solving of TwoRollPass 'Fertigrund XVIa'.\n",
      "[INFO] pyroll.core.Unit: Started solving of Rotator 'Auto-Rotator for TwoRollPass 'Fertigrund XVIa''.\n",
      "[INFO] pyroll.core.Unit: Finished solving of Rotator 'Auto-Rotator for TwoRollPass 'Fertigrund XVIa'' after 2 iterations.\n",
      "[INFO] pyroll.core.Unit: Solution took 0.006 s.\n",
      "[INFO] pyroll.core.Unit: Finished solving of TwoRollPass 'Fertigrund XVIa' after 5 iterations.\n",
      "[INFO] pyroll.core.Unit: Solution took 0.078 s.\n",
      "[INFO] pyroll.core.Unit: Finished solving of PassSequence after 2 iterations.\n",
      "[INFO] pyroll.core.Unit: Solution took 2.565 s.\n"
     ]
    },
    {
     "data": {
      "text/html": [
       "<table><tr><td style='text-align: center'><div>                        <script type=\"text/javascript\">window.PlotlyConfig = {MathJaxConfig: 'local'};</script>\n",
       "        <script charset=\"utf-8\" src=\"https://cdn.plot.ly/plotly-2.35.2.min.js\"></script>                <div id=\"c348e5f1-0291-4ec4-80ae-63376697179f\" class=\"plotly-graph-div\" style=\"height:480px; width:640px;\"></div>            <script type=\"text/javascript\">                                    window.PLOTLYENV=window.PLOTLYENV || {};                                    if (document.getElementById(\"c348e5f1-0291-4ec4-80ae-63376697179f\")) {                    Plotly.newPlot(                        \"c348e5f1-0291-4ec4-80ae-63376697179f\",                        [{\"hovertemplate\":\"z=%{x}\\u003cbr\\u003ey=%{y}\\u003cextra\\u003e\\u003c\\u002fextra\\u003e\",\"legendgroup\":\"\",\"line\":{\"color\":\"#1F77B4\",\"dash\":\"solid\"},\"marker\":{\"symbol\":\"circle\"},\"mode\":\"lines\",\"name\":\"\",\"orientation\":\"v\",\"showlegend\":false,\"x\":[-0.002882540761523898,-0.002882540761523898,-0.0027671427489480115,-0.0025826665656848106,-0.0023981903824216097,-0.002213714199158409,-0.0020292380158952084,-0.0018447618326320075,-0.0016602856493688066,-0.0014758094661056062,-0.0012913332828424053,-0.0011068570995792044,-0.000922380916316004,-0.0007379047330528031,-0.0005534285497896022,-0.00036895236652640176,-0.00018447618326320088,0.0,0.00018447618326320088,0.00036895236652640176,0.0005534285497896022,0.0007379047330528031,0.000922380916316004,0.0011068570995792044,0.0012913332828424053,0.0014758094661056062,0.0016602856493688066,0.0018447618326320075,0.0020292380158952084,0.002213714199158409,0.0023981903824216097,0.0025826665656848106,0.0027671427489480115,0.002882540761523898,0.002882540761523898,0.0027671427489480115,0.0025826665656848106,0.0023981903824216097,0.002213714199158409,0.0020292380158952084,0.0018447618326320075,0.0016602856493688066,0.0014758094661056062,0.0012913332828424053,0.0011068570995792044,0.000922380916316004,0.0007379047330528031,0.0005534285497896022,0.00036895236652640176,0.00018447618326320088,0.0,-0.00018447618326320088,-0.00036895236652640176,-0.0005534285497896022,-0.0007379047330528031,-0.000922380916316004,-0.0011068570995792044,-0.0012913332828424053,-0.0014758094661056062,-0.0016602856493688066,-0.0018447618326320075,-0.0020292380158952084,-0.002213714199158409,-0.0023981903824216097,-0.0025826665656848106,-0.0027671427489480115,-0.002882540761523898],\"xaxis\":\"x\",\"y\":[-0.00254868007001455,0.00254868007001455,0.002673257813041644,0.0028472993362237595,0.003000497177638193,0.003135836253134757,0.003255494418978311,0.003361110269019927,0.0034539448228188547,0.0035349842686295857,0.0036050079283370374,0.0036646346561009283,0.0037143552809437183,0.0037545556667762736,0.00378553323263481,0.0038075087445148875,0.0038206345488005725,0.003825,0.0038206345488005725,0.0038075087445148875,0.00378553323263481,0.0037545556667762736,0.0037143552809437183,0.0036646346561009283,0.0036050079283370374,0.0035349842686295857,0.0034539448228188547,0.003361110269019927,0.003255494418978311,0.003135836253134757,0.003000497177638193,0.0028472993362237595,0.002673257813041644,0.00254868007001455,-0.00254868007001455,-0.002673257813041644,-0.0028472993362237595,-0.003000497177638193,-0.003135836253134757,-0.003255494418978311,-0.003361110269019927,-0.0034539448228188547,-0.0035349842686295857,-0.0036050079283370374,-0.0036646346561009283,-0.0037143552809437183,-0.0037545556667762736,-0.00378553323263481,-0.0038075087445148875,-0.0038206345488005725,-0.003825,-0.0038206345488005725,-0.0038075087445148875,-0.00378553323263481,-0.0037545556667762736,-0.0037143552809437183,-0.0036646346561009283,-0.0036050079283370374,-0.0035349842686295857,-0.0034539448228188547,-0.003361110269019927,-0.003255494418978311,-0.003135836253134757,-0.003000497177638193,-0.0028472993362237595,-0.002673257813041644,-0.00254868007001455],\"yaxis\":\"y\",\"type\":\"scatter\",\"fill\":\"toself\"}],                        {\"template\":{\"data\":{\"histogram2dcontour\":[{\"type\":\"histogram2dcontour\",\"colorbar\":{\"outlinewidth\":1,\"tickcolor\":\"rgb(36,36,36)\",\"ticks\":\"outside\"},\"colorscale\":[[0.0,\"#440154\"],[0.1111111111111111,\"#482878\"],[0.2222222222222222,\"#3e4989\"],[0.3333333333333333,\"#31688e\"],[0.4444444444444444,\"#26828e\"],[0.5555555555555556,\"#1f9e89\"],[0.6666666666666666,\"#35b779\"],[0.7777777777777778,\"#6ece58\"],[0.8888888888888888,\"#b5de2b\"],[1.0,\"#fde725\"]]}],\"choropleth\":[{\"type\":\"choropleth\",\"colorbar\":{\"outlinewidth\":1,\"tickcolor\":\"rgb(36,36,36)\",\"ticks\":\"outside\"}}],\"histogram2d\":[{\"type\":\"histogram2d\",\"colorbar\":{\"outlinewidth\":1,\"tickcolor\":\"rgb(36,36,36)\",\"ticks\":\"outside\"},\"colorscale\":[[0.0,\"#440154\"],[0.1111111111111111,\"#482878\"],[0.2222222222222222,\"#3e4989\"],[0.3333333333333333,\"#31688e\"],[0.4444444444444444,\"#26828e\"],[0.5555555555555556,\"#1f9e89\"],[0.6666666666666666,\"#35b779\"],[0.7777777777777778,\"#6ece58\"],[0.8888888888888888,\"#b5de2b\"],[1.0,\"#fde725\"]]}],\"heatmap\":[{\"type\":\"heatmap\",\"colorbar\":{\"outlinewidth\":1,\"tickcolor\":\"rgb(36,36,36)\",\"ticks\":\"outside\"},\"colorscale\":[[0.0,\"#440154\"],[0.1111111111111111,\"#482878\"],[0.2222222222222222,\"#3e4989\"],[0.3333333333333333,\"#31688e\"],[0.4444444444444444,\"#26828e\"],[0.5555555555555556,\"#1f9e89\"],[0.6666666666666666,\"#35b779\"],[0.7777777777777778,\"#6ece58\"],[0.8888888888888888,\"#b5de2b\"],[1.0,\"#fde725\"]]}],\"heatmapgl\":[{\"type\":\"heatmapgl\",\"colorbar\":{\"outlinewidth\":1,\"tickcolor\":\"rgb(36,36,36)\",\"ticks\":\"outside\"},\"colorscale\":[[0.0,\"#440154\"],[0.1111111111111111,\"#482878\"],[0.2222222222222222,\"#3e4989\"],[0.3333333333333333,\"#31688e\"],[0.4444444444444444,\"#26828e\"],[0.5555555555555556,\"#1f9e89\"],[0.6666666666666666,\"#35b779\"],[0.7777777777777778,\"#6ece58\"],[0.8888888888888888,\"#b5de2b\"],[1.0,\"#fde725\"]]}],\"contourcarpet\":[{\"type\":\"contourcarpet\",\"colorbar\":{\"outlinewidth\":1,\"tickcolor\":\"rgb(36,36,36)\",\"ticks\":\"outside\"}}],\"contour\":[{\"type\":\"contour\",\"colorbar\":{\"outlinewidth\":1,\"tickcolor\":\"rgb(36,36,36)\",\"ticks\":\"outside\"},\"colorscale\":[[0.0,\"#440154\"],[0.1111111111111111,\"#482878\"],[0.2222222222222222,\"#3e4989\"],[0.3333333333333333,\"#31688e\"],[0.4444444444444444,\"#26828e\"],[0.5555555555555556,\"#1f9e89\"],[0.6666666666666666,\"#35b779\"],[0.7777777777777778,\"#6ece58\"],[0.8888888888888888,\"#b5de2b\"],[1.0,\"#fde725\"]]}],\"surface\":[{\"type\":\"surface\",\"colorbar\":{\"outlinewidth\":1,\"tickcolor\":\"rgb(36,36,36)\",\"ticks\":\"outside\"},\"colorscale\":[[0.0,\"#440154\"],[0.1111111111111111,\"#482878\"],[0.2222222222222222,\"#3e4989\"],[0.3333333333333333,\"#31688e\"],[0.4444444444444444,\"#26828e\"],[0.5555555555555556,\"#1f9e89\"],[0.6666666666666666,\"#35b779\"],[0.7777777777777778,\"#6ece58\"],[0.8888888888888888,\"#b5de2b\"],[1.0,\"#fde725\"]]}],\"mesh3d\":[{\"type\":\"mesh3d\",\"colorbar\":{\"outlinewidth\":1,\"tickcolor\":\"rgb(36,36,36)\",\"ticks\":\"outside\"}}],\"scatter\":[{\"fillpattern\":{\"fillmode\":\"overlay\",\"size\":10,\"solidity\":0.2},\"type\":\"scatter\"}],\"parcoords\":[{\"type\":\"parcoords\",\"line\":{\"colorbar\":{\"outlinewidth\":1,\"tickcolor\":\"rgb(36,36,36)\",\"ticks\":\"outside\"}}}],\"scatterpolargl\":[{\"type\":\"scatterpolargl\",\"marker\":{\"colorbar\":{\"outlinewidth\":1,\"tickcolor\":\"rgb(36,36,36)\",\"ticks\":\"outside\"}}}],\"bar\":[{\"error_x\":{\"color\":\"rgb(36,36,36)\"},\"error_y\":{\"color\":\"rgb(36,36,36)\"},\"marker\":{\"line\":{\"color\":\"white\",\"width\":0.5},\"pattern\":{\"fillmode\":\"overlay\",\"size\":10,\"solidity\":0.2}},\"type\":\"bar\"}],\"scattergeo\":[{\"type\":\"scattergeo\",\"marker\":{\"colorbar\":{\"outlinewidth\":1,\"tickcolor\":\"rgb(36,36,36)\",\"ticks\":\"outside\"}}}],\"scatterpolar\":[{\"type\":\"scatterpolar\",\"marker\":{\"colorbar\":{\"outlinewidth\":1,\"tickcolor\":\"rgb(36,36,36)\",\"ticks\":\"outside\"}}}],\"histogram\":[{\"marker\":{\"line\":{\"color\":\"white\",\"width\":0.6}},\"type\":\"histogram\"}],\"scattergl\":[{\"type\":\"scattergl\",\"marker\":{\"colorbar\":{\"outlinewidth\":1,\"tickcolor\":\"rgb(36,36,36)\",\"ticks\":\"outside\"}}}],\"scatter3d\":[{\"type\":\"scatter3d\",\"line\":{\"colorbar\":{\"outlinewidth\":1,\"tickcolor\":\"rgb(36,36,36)\",\"ticks\":\"outside\"}},\"marker\":{\"colorbar\":{\"outlinewidth\":1,\"tickcolor\":\"rgb(36,36,36)\",\"ticks\":\"outside\"}}}],\"scattermapbox\":[{\"type\":\"scattermapbox\",\"marker\":{\"colorbar\":{\"outlinewidth\":1,\"tickcolor\":\"rgb(36,36,36)\",\"ticks\":\"outside\"}}}],\"scatterternary\":[{\"type\":\"scatterternary\",\"marker\":{\"colorbar\":{\"outlinewidth\":1,\"tickcolor\":\"rgb(36,36,36)\",\"ticks\":\"outside\"}}}],\"scattercarpet\":[{\"type\":\"scattercarpet\",\"marker\":{\"colorbar\":{\"outlinewidth\":1,\"tickcolor\":\"rgb(36,36,36)\",\"ticks\":\"outside\"}}}],\"carpet\":[{\"aaxis\":{\"endlinecolor\":\"rgb(36,36,36)\",\"gridcolor\":\"white\",\"linecolor\":\"white\",\"minorgridcolor\":\"white\",\"startlinecolor\":\"rgb(36,36,36)\"},\"baxis\":{\"endlinecolor\":\"rgb(36,36,36)\",\"gridcolor\":\"white\",\"linecolor\":\"white\",\"minorgridcolor\":\"white\",\"startlinecolor\":\"rgb(36,36,36)\"},\"type\":\"carpet\"}],\"table\":[{\"cells\":{\"fill\":{\"color\":\"rgb(237,237,237)\"},\"line\":{\"color\":\"white\"}},\"header\":{\"fill\":{\"color\":\"rgb(217,217,217)\"},\"line\":{\"color\":\"white\"}},\"type\":\"table\"}],\"barpolar\":[{\"marker\":{\"line\":{\"color\":\"white\",\"width\":0.5},\"pattern\":{\"fillmode\":\"overlay\",\"size\":10,\"solidity\":0.2}},\"type\":\"barpolar\"}],\"pie\":[{\"automargin\":true,\"type\":\"pie\"}]},\"layout\":{\"autotypenumbers\":\"strict\",\"colorway\":[\"#1F77B4\",\"#FF7F0E\",\"#2CA02C\",\"#D62728\",\"#9467BD\",\"#8C564B\",\"#E377C2\",\"#7F7F7F\",\"#BCBD22\",\"#17BECF\"],\"font\":{\"color\":\"rgb(36,36,36)\"},\"hovermode\":\"closest\",\"hoverlabel\":{\"align\":\"left\"},\"paper_bgcolor\":\"white\",\"plot_bgcolor\":\"white\",\"polar\":{\"bgcolor\":\"white\",\"angularaxis\":{\"gridcolor\":\"rgb(232,232,232)\",\"linecolor\":\"rgb(36,36,36)\",\"showgrid\":false,\"showline\":true,\"ticks\":\"outside\"},\"radialaxis\":{\"gridcolor\":\"rgb(232,232,232)\",\"linecolor\":\"rgb(36,36,36)\",\"showgrid\":false,\"showline\":true,\"ticks\":\"outside\"}},\"ternary\":{\"bgcolor\":\"white\",\"aaxis\":{\"gridcolor\":\"rgb(232,232,232)\",\"linecolor\":\"rgb(36,36,36)\",\"showgrid\":false,\"showline\":true,\"ticks\":\"outside\"},\"baxis\":{\"gridcolor\":\"rgb(232,232,232)\",\"linecolor\":\"rgb(36,36,36)\",\"showgrid\":false,\"showline\":true,\"ticks\":\"outside\"},\"caxis\":{\"gridcolor\":\"rgb(232,232,232)\",\"linecolor\":\"rgb(36,36,36)\",\"showgrid\":false,\"showline\":true,\"ticks\":\"outside\"}},\"coloraxis\":{\"colorbar\":{\"outlinewidth\":1,\"tickcolor\":\"rgb(36,36,36)\",\"ticks\":\"outside\"}},\"colorscale\":{\"sequential\":[[0.0,\"#440154\"],[0.1111111111111111,\"#482878\"],[0.2222222222222222,\"#3e4989\"],[0.3333333333333333,\"#31688e\"],[0.4444444444444444,\"#26828e\"],[0.5555555555555556,\"#1f9e89\"],[0.6666666666666666,\"#35b779\"],[0.7777777777777778,\"#6ece58\"],[0.8888888888888888,\"#b5de2b\"],[1.0,\"#fde725\"]],\"sequentialminus\":[[0.0,\"#440154\"],[0.1111111111111111,\"#482878\"],[0.2222222222222222,\"#3e4989\"],[0.3333333333333333,\"#31688e\"],[0.4444444444444444,\"#26828e\"],[0.5555555555555556,\"#1f9e89\"],[0.6666666666666666,\"#35b779\"],[0.7777777777777778,\"#6ece58\"],[0.8888888888888888,\"#b5de2b\"],[1.0,\"#fde725\"]],\"diverging\":[[0.0,\"rgb(103,0,31)\"],[0.1,\"rgb(178,24,43)\"],[0.2,\"rgb(214,96,77)\"],[0.3,\"rgb(244,165,130)\"],[0.4,\"rgb(253,219,199)\"],[0.5,\"rgb(247,247,247)\"],[0.6,\"rgb(209,229,240)\"],[0.7,\"rgb(146,197,222)\"],[0.8,\"rgb(67,147,195)\"],[0.9,\"rgb(33,102,172)\"],[1.0,\"rgb(5,48,97)\"]]},\"xaxis\":{\"gridcolor\":\"rgb(232,232,232)\",\"linecolor\":\"rgb(36,36,36)\",\"showgrid\":false,\"showline\":true,\"ticks\":\"outside\",\"title\":{\"standoff\":15},\"zerolinecolor\":\"rgb(36,36,36)\",\"automargin\":true,\"zeroline\":false},\"yaxis\":{\"gridcolor\":\"rgb(232,232,232)\",\"linecolor\":\"rgb(36,36,36)\",\"showgrid\":false,\"showline\":true,\"ticks\":\"outside\",\"title\":{\"standoff\":15},\"zerolinecolor\":\"rgb(36,36,36)\",\"automargin\":true,\"zeroline\":false},\"scene\":{\"xaxis\":{\"backgroundcolor\":\"white\",\"gridcolor\":\"rgb(232,232,232)\",\"linecolor\":\"rgb(36,36,36)\",\"showbackground\":true,\"showgrid\":false,\"showline\":true,\"ticks\":\"outside\",\"zerolinecolor\":\"rgb(36,36,36)\",\"gridwidth\":2,\"zeroline\":false},\"yaxis\":{\"backgroundcolor\":\"white\",\"gridcolor\":\"rgb(232,232,232)\",\"linecolor\":\"rgb(36,36,36)\",\"showbackground\":true,\"showgrid\":false,\"showline\":true,\"ticks\":\"outside\",\"zerolinecolor\":\"rgb(36,36,36)\",\"gridwidth\":2,\"zeroline\":false},\"zaxis\":{\"backgroundcolor\":\"white\",\"gridcolor\":\"rgb(232,232,232)\",\"linecolor\":\"rgb(36,36,36)\",\"showbackground\":true,\"showgrid\":false,\"showline\":true,\"ticks\":\"outside\",\"zerolinecolor\":\"rgb(36,36,36)\",\"gridwidth\":2,\"zeroline\":false}},\"shapedefaults\":{\"fillcolor\":\"black\",\"line\":{\"width\":0},\"opacity\":0.3},\"annotationdefaults\":{\"arrowhead\":0,\"arrowwidth\":1},\"geo\":{\"bgcolor\":\"white\",\"landcolor\":\"white\",\"subunitcolor\":\"white\",\"showland\":true,\"showlakes\":true,\"lakecolor\":\"white\"},\"title\":{\"x\":0.05},\"mapbox\":{\"style\":\"light\"}}},\"xaxis\":{\"anchor\":\"y\",\"domain\":[0.0,1.0],\"title\":{\"text\":\"z\"}},\"yaxis\":{\"anchor\":\"x\",\"domain\":[0.0,1.0],\"title\":{\"text\":\"y\"},\"scaleanchor\":\"x\",\"scaleratio\":1},\"legend\":{\"tracegroupgap\":0},\"margin\":{\"t\":60},\"width\":640,\"height\":480},                        {\"responsive\": true}                    )                };                            </script>        </div></td></tr><tr><td style='text-align: left'><details><summary style='font-weight:bold'>Profile</summary><table><tr><td style='text-align:left'>classifiers</td><td><table style='margin:0'><tr><td>&#x27;symmetric&#x27;</td></tr><tr><td>&#x27;generic_elongation&#x27;</td></tr><tr><td>&#x27;round&#x27;</td></tr></table></td></tr><tr><td style='text-align:left'>cross_section</td><td><table><tr><td style='text-align: center'><div>                        <script type=\"text/javascript\">window.PlotlyConfig = {MathJaxConfig: 'local'};</script>\n",
       "        <script charset=\"utf-8\" src=\"https://cdn.plot.ly/plotly-2.35.2.min.js\"></script>                <div id=\"f953ea10-a772-46e3-804d-4b98e74e33e7\" class=\"plotly-graph-div\" style=\"height:480px; width:640px;\"></div>            <script type=\"text/javascript\">                                    window.PLOTLYENV=window.PLOTLYENV || {};                                    if (document.getElementById(\"f953ea10-a772-46e3-804d-4b98e74e33e7\")) {                    Plotly.newPlot(                        \"f953ea10-a772-46e3-804d-4b98e74e33e7\",                        [{\"hovertemplate\":\"z=%{x}\\u003cbr\\u003ey=%{y}\\u003cextra\\u003e\\u003c\\u002fextra\\u003e\",\"legendgroup\":\"\",\"line\":{\"color\":\"#1F77B4\",\"dash\":\"solid\"},\"marker\":{\"symbol\":\"circle\"},\"mode\":\"lines\",\"name\":\"\",\"orientation\":\"v\",\"showlegend\":false,\"x\":[-0.002882540761523898,-0.002882540761523898,-0.0027671427489480115,-0.0025826665656848106,-0.0023981903824216097,-0.002213714199158409,-0.0020292380158952084,-0.0018447618326320075,-0.0016602856493688066,-0.0014758094661056062,-0.0012913332828424053,-0.0011068570995792044,-0.000922380916316004,-0.0007379047330528031,-0.0005534285497896022,-0.00036895236652640176,-0.00018447618326320088,0.0,0.00018447618326320088,0.00036895236652640176,0.0005534285497896022,0.0007379047330528031,0.000922380916316004,0.0011068570995792044,0.0012913332828424053,0.0014758094661056062,0.0016602856493688066,0.0018447618326320075,0.0020292380158952084,0.002213714199158409,0.0023981903824216097,0.0025826665656848106,0.0027671427489480115,0.002882540761523898,0.002882540761523898,0.0027671427489480115,0.0025826665656848106,0.0023981903824216097,0.002213714199158409,0.0020292380158952084,0.0018447618326320075,0.0016602856493688066,0.0014758094661056062,0.0012913332828424053,0.0011068570995792044,0.000922380916316004,0.0007379047330528031,0.0005534285497896022,0.00036895236652640176,0.00018447618326320088,0.0,-0.00018447618326320088,-0.00036895236652640176,-0.0005534285497896022,-0.0007379047330528031,-0.000922380916316004,-0.0011068570995792044,-0.0012913332828424053,-0.0014758094661056062,-0.0016602856493688066,-0.0018447618326320075,-0.0020292380158952084,-0.002213714199158409,-0.0023981903824216097,-0.0025826665656848106,-0.0027671427489480115,-0.002882540761523898],\"xaxis\":\"x\",\"y\":[-0.00254868007001455,0.00254868007001455,0.002673257813041644,0.0028472993362237595,0.003000497177638193,0.003135836253134757,0.003255494418978311,0.003361110269019927,0.0034539448228188547,0.0035349842686295857,0.0036050079283370374,0.0036646346561009283,0.0037143552809437183,0.0037545556667762736,0.00378553323263481,0.0038075087445148875,0.0038206345488005725,0.003825,0.0038206345488005725,0.0038075087445148875,0.00378553323263481,0.0037545556667762736,0.0037143552809437183,0.0036646346561009283,0.0036050079283370374,0.0035349842686295857,0.0034539448228188547,0.003361110269019927,0.003255494418978311,0.003135836253134757,0.003000497177638193,0.0028472993362237595,0.002673257813041644,0.00254868007001455,-0.00254868007001455,-0.002673257813041644,-0.0028472993362237595,-0.003000497177638193,-0.003135836253134757,-0.003255494418978311,-0.003361110269019927,-0.0034539448228188547,-0.0035349842686295857,-0.0036050079283370374,-0.0036646346561009283,-0.0037143552809437183,-0.0037545556667762736,-0.00378553323263481,-0.0038075087445148875,-0.0038206345488005725,-0.003825,-0.0038206345488005725,-0.0038075087445148875,-0.00378553323263481,-0.0037545556667762736,-0.0037143552809437183,-0.0036646346561009283,-0.0036050079283370374,-0.0035349842686295857,-0.0034539448228188547,-0.003361110269019927,-0.003255494418978311,-0.003135836253134757,-0.003000497177638193,-0.0028472993362237595,-0.002673257813041644,-0.00254868007001455],\"yaxis\":\"y\",\"type\":\"scatter\",\"fill\":\"toself\"}],                        {\"template\":{\"data\":{\"histogram2dcontour\":[{\"type\":\"histogram2dcontour\",\"colorbar\":{\"outlinewidth\":1,\"tickcolor\":\"rgb(36,36,36)\",\"ticks\":\"outside\"},\"colorscale\":[[0.0,\"#440154\"],[0.1111111111111111,\"#482878\"],[0.2222222222222222,\"#3e4989\"],[0.3333333333333333,\"#31688e\"],[0.4444444444444444,\"#26828e\"],[0.5555555555555556,\"#1f9e89\"],[0.6666666666666666,\"#35b779\"],[0.7777777777777778,\"#6ece58\"],[0.8888888888888888,\"#b5de2b\"],[1.0,\"#fde725\"]]}],\"choropleth\":[{\"type\":\"choropleth\",\"colorbar\":{\"outlinewidth\":1,\"tickcolor\":\"rgb(36,36,36)\",\"ticks\":\"outside\"}}],\"histogram2d\":[{\"type\":\"histogram2d\",\"colorbar\":{\"outlinewidth\":1,\"tickcolor\":\"rgb(36,36,36)\",\"ticks\":\"outside\"},\"colorscale\":[[0.0,\"#440154\"],[0.1111111111111111,\"#482878\"],[0.2222222222222222,\"#3e4989\"],[0.3333333333333333,\"#31688e\"],[0.4444444444444444,\"#26828e\"],[0.5555555555555556,\"#1f9e89\"],[0.6666666666666666,\"#35b779\"],[0.7777777777777778,\"#6ece58\"],[0.8888888888888888,\"#b5de2b\"],[1.0,\"#fde725\"]]}],\"heatmap\":[{\"type\":\"heatmap\",\"colorbar\":{\"outlinewidth\":1,\"tickcolor\":\"rgb(36,36,36)\",\"ticks\":\"outside\"},\"colorscale\":[[0.0,\"#440154\"],[0.1111111111111111,\"#482878\"],[0.2222222222222222,\"#3e4989\"],[0.3333333333333333,\"#31688e\"],[0.4444444444444444,\"#26828e\"],[0.5555555555555556,\"#1f9e89\"],[0.6666666666666666,\"#35b779\"],[0.7777777777777778,\"#6ece58\"],[0.8888888888888888,\"#b5de2b\"],[1.0,\"#fde725\"]]}],\"heatmapgl\":[{\"type\":\"heatmapgl\",\"colorbar\":{\"outlinewidth\":1,\"tickcolor\":\"rgb(36,36,36)\",\"ticks\":\"outside\"},\"colorscale\":[[0.0,\"#440154\"],[0.1111111111111111,\"#482878\"],[0.2222222222222222,\"#3e4989\"],[0.3333333333333333,\"#31688e\"],[0.4444444444444444,\"#26828e\"],[0.5555555555555556,\"#1f9e89\"],[0.6666666666666666,\"#35b779\"],[0.7777777777777778,\"#6ece58\"],[0.8888888888888888,\"#b5de2b\"],[1.0,\"#fde725\"]]}],\"contourcarpet\":[{\"type\":\"contourcarpet\",\"colorbar\":{\"outlinewidth\":1,\"tickcolor\":\"rgb(36,36,36)\",\"ticks\":\"outside\"}}],\"contour\":[{\"type\":\"contour\",\"colorbar\":{\"outlinewidth\":1,\"tickcolor\":\"rgb(36,36,36)\",\"ticks\":\"outside\"},\"colorscale\":[[0.0,\"#440154\"],[0.1111111111111111,\"#482878\"],[0.2222222222222222,\"#3e4989\"],[0.3333333333333333,\"#31688e\"],[0.4444444444444444,\"#26828e\"],[0.5555555555555556,\"#1f9e89\"],[0.6666666666666666,\"#35b779\"],[0.7777777777777778,\"#6ece58\"],[0.8888888888888888,\"#b5de2b\"],[1.0,\"#fde725\"]]}],\"surface\":[{\"type\":\"surface\",\"colorbar\":{\"outlinewidth\":1,\"tickcolor\":\"rgb(36,36,36)\",\"ticks\":\"outside\"},\"colorscale\":[[0.0,\"#440154\"],[0.1111111111111111,\"#482878\"],[0.2222222222222222,\"#3e4989\"],[0.3333333333333333,\"#31688e\"],[0.4444444444444444,\"#26828e\"],[0.5555555555555556,\"#1f9e89\"],[0.6666666666666666,\"#35b779\"],[0.7777777777777778,\"#6ece58\"],[0.8888888888888888,\"#b5de2b\"],[1.0,\"#fde725\"]]}],\"mesh3d\":[{\"type\":\"mesh3d\",\"colorbar\":{\"outlinewidth\":1,\"tickcolor\":\"rgb(36,36,36)\",\"ticks\":\"outside\"}}],\"scatter\":[{\"fillpattern\":{\"fillmode\":\"overlay\",\"size\":10,\"solidity\":0.2},\"type\":\"scatter\"}],\"parcoords\":[{\"type\":\"parcoords\",\"line\":{\"colorbar\":{\"outlinewidth\":1,\"tickcolor\":\"rgb(36,36,36)\",\"ticks\":\"outside\"}}}],\"scatterpolargl\":[{\"type\":\"scatterpolargl\",\"marker\":{\"colorbar\":{\"outlinewidth\":1,\"tickcolor\":\"rgb(36,36,36)\",\"ticks\":\"outside\"}}}],\"bar\":[{\"error_x\":{\"color\":\"rgb(36,36,36)\"},\"error_y\":{\"color\":\"rgb(36,36,36)\"},\"marker\":{\"line\":{\"color\":\"white\",\"width\":0.5},\"pattern\":{\"fillmode\":\"overlay\",\"size\":10,\"solidity\":0.2}},\"type\":\"bar\"}],\"scattergeo\":[{\"type\":\"scattergeo\",\"marker\":{\"colorbar\":{\"outlinewidth\":1,\"tickcolor\":\"rgb(36,36,36)\",\"ticks\":\"outside\"}}}],\"scatterpolar\":[{\"type\":\"scatterpolar\",\"marker\":{\"colorbar\":{\"outlinewidth\":1,\"tickcolor\":\"rgb(36,36,36)\",\"ticks\":\"outside\"}}}],\"histogram\":[{\"marker\":{\"line\":{\"color\":\"white\",\"width\":0.6}},\"type\":\"histogram\"}],\"scattergl\":[{\"type\":\"scattergl\",\"marker\":{\"colorbar\":{\"outlinewidth\":1,\"tickcolor\":\"rgb(36,36,36)\",\"ticks\":\"outside\"}}}],\"scatter3d\":[{\"type\":\"scatter3d\",\"line\":{\"colorbar\":{\"outlinewidth\":1,\"tickcolor\":\"rgb(36,36,36)\",\"ticks\":\"outside\"}},\"marker\":{\"colorbar\":{\"outlinewidth\":1,\"tickcolor\":\"rgb(36,36,36)\",\"ticks\":\"outside\"}}}],\"scattermapbox\":[{\"type\":\"scattermapbox\",\"marker\":{\"colorbar\":{\"outlinewidth\":1,\"tickcolor\":\"rgb(36,36,36)\",\"ticks\":\"outside\"}}}],\"scatterternary\":[{\"type\":\"scatterternary\",\"marker\":{\"colorbar\":{\"outlinewidth\":1,\"tickcolor\":\"rgb(36,36,36)\",\"ticks\":\"outside\"}}}],\"scattercarpet\":[{\"type\":\"scattercarpet\",\"marker\":{\"colorbar\":{\"outlinewidth\":1,\"tickcolor\":\"rgb(36,36,36)\",\"ticks\":\"outside\"}}}],\"carpet\":[{\"aaxis\":{\"endlinecolor\":\"rgb(36,36,36)\",\"gridcolor\":\"white\",\"linecolor\":\"white\",\"minorgridcolor\":\"white\",\"startlinecolor\":\"rgb(36,36,36)\"},\"baxis\":{\"endlinecolor\":\"rgb(36,36,36)\",\"gridcolor\":\"white\",\"linecolor\":\"white\",\"minorgridcolor\":\"white\",\"startlinecolor\":\"rgb(36,36,36)\"},\"type\":\"carpet\"}],\"table\":[{\"cells\":{\"fill\":{\"color\":\"rgb(237,237,237)\"},\"line\":{\"color\":\"white\"}},\"header\":{\"fill\":{\"color\":\"rgb(217,217,217)\"},\"line\":{\"color\":\"white\"}},\"type\":\"table\"}],\"barpolar\":[{\"marker\":{\"line\":{\"color\":\"white\",\"width\":0.5},\"pattern\":{\"fillmode\":\"overlay\",\"size\":10,\"solidity\":0.2}},\"type\":\"barpolar\"}],\"pie\":[{\"automargin\":true,\"type\":\"pie\"}]},\"layout\":{\"autotypenumbers\":\"strict\",\"colorway\":[\"#1F77B4\",\"#FF7F0E\",\"#2CA02C\",\"#D62728\",\"#9467BD\",\"#8C564B\",\"#E377C2\",\"#7F7F7F\",\"#BCBD22\",\"#17BECF\"],\"font\":{\"color\":\"rgb(36,36,36)\"},\"hovermode\":\"closest\",\"hoverlabel\":{\"align\":\"left\"},\"paper_bgcolor\":\"white\",\"plot_bgcolor\":\"white\",\"polar\":{\"bgcolor\":\"white\",\"angularaxis\":{\"gridcolor\":\"rgb(232,232,232)\",\"linecolor\":\"rgb(36,36,36)\",\"showgrid\":false,\"showline\":true,\"ticks\":\"outside\"},\"radialaxis\":{\"gridcolor\":\"rgb(232,232,232)\",\"linecolor\":\"rgb(36,36,36)\",\"showgrid\":false,\"showline\":true,\"ticks\":\"outside\"}},\"ternary\":{\"bgcolor\":\"white\",\"aaxis\":{\"gridcolor\":\"rgb(232,232,232)\",\"linecolor\":\"rgb(36,36,36)\",\"showgrid\":false,\"showline\":true,\"ticks\":\"outside\"},\"baxis\":{\"gridcolor\":\"rgb(232,232,232)\",\"linecolor\":\"rgb(36,36,36)\",\"showgrid\":false,\"showline\":true,\"ticks\":\"outside\"},\"caxis\":{\"gridcolor\":\"rgb(232,232,232)\",\"linecolor\":\"rgb(36,36,36)\",\"showgrid\":false,\"showline\":true,\"ticks\":\"outside\"}},\"coloraxis\":{\"colorbar\":{\"outlinewidth\":1,\"tickcolor\":\"rgb(36,36,36)\",\"ticks\":\"outside\"}},\"colorscale\":{\"sequential\":[[0.0,\"#440154\"],[0.1111111111111111,\"#482878\"],[0.2222222222222222,\"#3e4989\"],[0.3333333333333333,\"#31688e\"],[0.4444444444444444,\"#26828e\"],[0.5555555555555556,\"#1f9e89\"],[0.6666666666666666,\"#35b779\"],[0.7777777777777778,\"#6ece58\"],[0.8888888888888888,\"#b5de2b\"],[1.0,\"#fde725\"]],\"sequentialminus\":[[0.0,\"#440154\"],[0.1111111111111111,\"#482878\"],[0.2222222222222222,\"#3e4989\"],[0.3333333333333333,\"#31688e\"],[0.4444444444444444,\"#26828e\"],[0.5555555555555556,\"#1f9e89\"],[0.6666666666666666,\"#35b779\"],[0.7777777777777778,\"#6ece58\"],[0.8888888888888888,\"#b5de2b\"],[1.0,\"#fde725\"]],\"diverging\":[[0.0,\"rgb(103,0,31)\"],[0.1,\"rgb(178,24,43)\"],[0.2,\"rgb(214,96,77)\"],[0.3,\"rgb(244,165,130)\"],[0.4,\"rgb(253,219,199)\"],[0.5,\"rgb(247,247,247)\"],[0.6,\"rgb(209,229,240)\"],[0.7,\"rgb(146,197,222)\"],[0.8,\"rgb(67,147,195)\"],[0.9,\"rgb(33,102,172)\"],[1.0,\"rgb(5,48,97)\"]]},\"xaxis\":{\"gridcolor\":\"rgb(232,232,232)\",\"linecolor\":\"rgb(36,36,36)\",\"showgrid\":false,\"showline\":true,\"ticks\":\"outside\",\"title\":{\"standoff\":15},\"zerolinecolor\":\"rgb(36,36,36)\",\"automargin\":true,\"zeroline\":false},\"yaxis\":{\"gridcolor\":\"rgb(232,232,232)\",\"linecolor\":\"rgb(36,36,36)\",\"showgrid\":false,\"showline\":true,\"ticks\":\"outside\",\"title\":{\"standoff\":15},\"zerolinecolor\":\"rgb(36,36,36)\",\"automargin\":true,\"zeroline\":false},\"scene\":{\"xaxis\":{\"backgroundcolor\":\"white\",\"gridcolor\":\"rgb(232,232,232)\",\"linecolor\":\"rgb(36,36,36)\",\"showbackground\":true,\"showgrid\":false,\"showline\":true,\"ticks\":\"outside\",\"zerolinecolor\":\"rgb(36,36,36)\",\"gridwidth\":2,\"zeroline\":false},\"yaxis\":{\"backgroundcolor\":\"white\",\"gridcolor\":\"rgb(232,232,232)\",\"linecolor\":\"rgb(36,36,36)\",\"showbackground\":true,\"showgrid\":false,\"showline\":true,\"ticks\":\"outside\",\"zerolinecolor\":\"rgb(36,36,36)\",\"gridwidth\":2,\"zeroline\":false},\"zaxis\":{\"backgroundcolor\":\"white\",\"gridcolor\":\"rgb(232,232,232)\",\"linecolor\":\"rgb(36,36,36)\",\"showbackground\":true,\"showgrid\":false,\"showline\":true,\"ticks\":\"outside\",\"zerolinecolor\":\"rgb(36,36,36)\",\"gridwidth\":2,\"zeroline\":false}},\"shapedefaults\":{\"fillcolor\":\"black\",\"line\":{\"width\":0},\"opacity\":0.3},\"annotationdefaults\":{\"arrowhead\":0,\"arrowwidth\":1},\"geo\":{\"bgcolor\":\"white\",\"landcolor\":\"white\",\"subunitcolor\":\"white\",\"showland\":true,\"showlakes\":true,\"lakecolor\":\"white\"},\"title\":{\"x\":0.05},\"mapbox\":{\"style\":\"light\"}}},\"xaxis\":{\"anchor\":\"y\",\"domain\":[0.0,1.0],\"title\":{\"text\":\"z\"}},\"yaxis\":{\"anchor\":\"x\",\"domain\":[0.0,1.0],\"title\":{\"text\":\"y\"},\"scaleanchor\":\"x\",\"scaleratio\":1},\"legend\":{\"tracegroupgap\":0},\"margin\":{\"t\":60},\"width\":640,\"height\":480},                        {\"responsive\": true}                    )                };                            </script>        </div></td></tr><tr><td style='text-align: left'><details><summary style='font-weight:bold'>Polygon</summary><table><tr><td style='text-align:left'>area</td><td>3.956925735552167e-05</td></tr><tr><td style='text-align:left'>height</td><td>0.00765</td></tr><tr><td style='text-align:left'>perimeter</td><td>0.023178132921199232</td></tr><tr><td style='text-align:left'>width</td><td>0.005765081523047796</td></tr></table></details></td></tr></table></td></tr><tr><td style='text-align:left'>density</td><td>7500.0</td></tr><tr><td style='text-align:left'>length</td><td>0.0</td></tr><tr><td style='text-align:left'>material</td><td>&#x27;C45&#x27;</td></tr><tr><td style='text-align:left'>specific_heat_capacity</td><td>690</td></tr><tr><td style='text-align:left'>strain</td><td>np.float64(0.3428031951732092)</td></tr><tr><td style='text-align:left'>t</td><td>np.float64(55.38860633910903)</td></tr><tr><td style='text-align:left'>temperature</td><td>np.float64(1119.3154150722037)</td></tr></table></details></td></tr></table>"
      ],
      "text/plain": [
       "Profile(\n",
       "    classifiers={'generic_elongation', 'round', 'symmetric'},\n",
       "    cross_section=Polygon(\n",
       "        area=3.956925735552167e-05,\n",
       "        height=0.00765,\n",
       "        perimeter=0.023178132921199232,\n",
       "        width=0.005765081523047796,\n",
       "        ),\n",
       "    density=7500.0,\n",
       "    length=0.0,\n",
       "    material='C45',\n",
       "    specific_heat_capacity=690,\n",
       "    strain=np.float64(0.3428031951732092),\n",
       "    t=np.float64(55.38860633910903),\n",
       "    temperature=np.float64(1119.3154150722037),\n",
       "    )"
      ]
     },
     "execution_count": 36,
     "metadata": {},
     "output_type": "execute_result"
    }
   ],
   "source": [
    "sequence.solve(in_profile)"
   ]
  },
  {
   "cell_type": "code",
   "execution_count": 37,
   "id": "28cb7a7ddee8c154",
   "metadata": {
    "ExecuteTime": {
     "end_time": "2025-01-14T10:18:21.681886Z",
     "start_time": "2025-01-14T10:18:21.370573Z"
    }
   },
   "outputs": [
    {
     "data": {
      "application/vnd.plotly.v1+json": {
       "config": {
        "plotlyServerURL": "https://plot.ly"
       },
       "data": [
        {
         "fill": "toself",
         "line": {
          "color": "red"
         },
         "mode": "lines",
         "name": "in profile",
         "type": "scatter",
         "x": [
          0.003961329470487147,
          -0.003961329470487147,
          -0.004392939501496623,
          -0.004933729051326541,
          -0.005435250928831142,
          -0.005898929043465183,
          -0.006326019193524236,
          -0.006717629348146711,
          -0.007074736421907482,
          -0.007398200209735912,
          -0.007688774998633334,
          -0.007947119258802825,
          -0.00817380373004237,
          -0.008369318152335489,
          -0.00853407683732053,
          -0.008668423235979338,
          -0.008772633624701948,
          -0.008846920004803433,
          -0.008891432288034237,
          -0.00890625982143008,
          -0.008891432288034237,
          -0.008846920004803433,
          -0.008772633624701948,
          -0.008668423235979338,
          -0.00853407683732053,
          -0.008369318152335489,
          -0.00817380373004237,
          -0.007947119258802825,
          -0.007688774998633334,
          -0.007398200209735912,
          -0.007074736421907482,
          -0.006717629348146711,
          -0.006326019193524236,
          -0.005898929043465183,
          -0.005435250928831142,
          -0.004933729051326541,
          -0.004392939501496623,
          -0.003961329470487147,
          0.003961329470487147,
          0.004392939501496623,
          0.004933729051326541,
          0.005435250928831142,
          0.005898929043465183,
          0.006326019193524236,
          0.006717629348146711,
          0.007074736421907482,
          0.007398200209735912,
          0.007688774998633334,
          0.007947119258802825,
          0.00817380373004237,
          0.008369318152335489,
          0.00853407683732053,
          0.008668423235979338,
          0.008772633624701948,
          0.008846920004803433,
          0.008891432288034237,
          0.00890625982143008,
          0.008891432288034237,
          0.008846920004803433,
          0.008772633624701948,
          0.008668423235979338,
          0.00853407683732053,
          0.008369318152335489,
          0.00817380373004237,
          0.007947119258802825,
          0.007688774998633334,
          0.007398200209735912,
          0.007074736421907482,
          0.006717629348146711,
          0.006326019193524236,
          0.005898929043465183,
          0.005435250928831142,
          0.004933729051326541,
          0.004392939501496623,
          0.003961329470487147
         ],
         "y": [
          -0.020379625076127856,
          -0.020379625076127856,
          -0.019527300073582967,
          -0.018378635363372205,
          -0.01722997065316144,
          -0.016081305942950676,
          -0.014932641232739914,
          -0.013783976522529152,
          -0.01263531181231839,
          -0.011486647102107627,
          -0.010337982391896863,
          -0.0091893176816861,
          -0.008040652971475338,
          -0.006891988261264574,
          -0.005743323551053812,
          -0.004594658840843049,
          -0.003445994130632287,
          -0.0022973294204215247,
          -0.0011486647102107624,
          0,
          0.0011486647102107624,
          0.0022973294204215247,
          0.003445994130632287,
          0.004594658840843049,
          0.005743323551053812,
          0.006891988261264574,
          0.008040652971475338,
          0.0091893176816861,
          0.010337982391896863,
          0.011486647102107627,
          0.01263531181231839,
          0.013783976522529152,
          0.014932641232739914,
          0.016081305942950676,
          0.01722997065316144,
          0.018378635363372205,
          0.019527300073582967,
          0.020379625076127856,
          0.020379625076127856,
          0.019527300073582967,
          0.018378635363372205,
          0.01722997065316144,
          0.016081305942950676,
          0.014932641232739914,
          0.013783976522529152,
          0.01263531181231839,
          0.011486647102107627,
          0.010337982391896863,
          0.0091893176816861,
          0.008040652971475338,
          0.006891988261264574,
          0.005743323551053812,
          0.004594658840843049,
          0.003445994130632287,
          0.0022973294204215247,
          0.0011486647102107624,
          0,
          -0.0011486647102107624,
          -0.0022973294204215247,
          -0.003445994130632287,
          -0.004594658840843049,
          -0.005743323551053812,
          -0.006891988261264574,
          -0.008040652971475338,
          -0.0091893176816861,
          -0.010337982391896863,
          -0.011486647102107627,
          -0.01263531181231839,
          -0.013783976522529152,
          -0.014932641232739914,
          -0.016081305942950676,
          -0.01722997065316144,
          -0.018378635363372205,
          -0.019527300073582967,
          -0.020379625076127856
         ]
        },
        {
         "line": {
          "color": "red",
          "dash": "dash"
         },
         "mode": "lines",
         "name": "in eq. rectangle",
         "type": "scatter",
         "x": [
          -0.00890625982143008,
          0.00890625982143008,
          0.00890625982143008,
          -0.00890625982143008,
          -0.00890625982143008
         ],
         "y": [
          -0.017714816526281128,
          -0.017714816526281128,
          0.017714816526281128,
          0.017714816526281128,
          -0.017714816526281128
         ]
        },
        {
         "fill": "toself",
         "line": {
          "color": "blue"
         },
         "mode": "lines",
         "name": "out profile",
         "type": "scatter",
         "x": [
          -0.011539543370323525,
          -0.011539543370323525,
          -0.0028096342078768456,
          -0.0026691524974830033,
          -0.002528670787089161,
          -0.0023881890766953187,
          -0.0022477073663014764,
          -0.002107225655907634,
          -0.0019667439455137922,
          -0.0018262622351199497,
          -0.0016857805247261074,
          -0.001545298814332265,
          -0.0014048171039384228,
          -0.0012643353935445805,
          -0.0011238536831507384,
          -0.0009833719727568961,
          -0.0008428902623630538,
          -0.0007024085519692115,
          -0.0005619268415753692,
          -0.0004214451311815269,
          -0.0002809634207876846,
          -0.0001404817103938423,
          0,
          0.0001404817103938423,
          0.0002809634207876846,
          0.0004214451311815269,
          0.0005619268415753692,
          0.0007024085519692115,
          0.0008428902623630538,
          0.0009833719727568961,
          0.0011238536831507384,
          0.0012643353935445805,
          0.0014048171039384228,
          0.001545298814332265,
          0.0016857805247261074,
          0.0018262622351199497,
          0.0019667439455137922,
          0.002107225655907634,
          0.0022477073663014764,
          0.0023881890766953187,
          0.002528670787089161,
          0.0026691524974830033,
          0.0028096342078768456,
          0.011539543370323525,
          0.011539543370323525,
          0.0028096342078768456,
          0.0026691524974830033,
          0.002528670787089161,
          0.0023881890766953187,
          0.0022477073663014764,
          0.002107225655907634,
          0.0019667439455137922,
          0.0018262622351199497,
          0.0016857805247261074,
          0.001545298814332265,
          0.0014048171039384228,
          0.0012643353935445805,
          0.0011238536831507384,
          0.0009833719727568961,
          0.0008428902623630538,
          0.0007024085519692115,
          0.0005619268415753692,
          0.0004214451311815269,
          0.0002809634207876846,
          0.0001404817103938423,
          0,
          -0.0001404817103938423,
          -0.0002809634207876846,
          -0.0004214451311815269,
          -0.0005619268415753692,
          -0.0007024085519692115,
          -0.0008428902623630538,
          -0.0009833719727568961,
          -0.0011238536831507384,
          -0.0012643353935445805,
          -0.0014048171039384228,
          -0.001545298814332265,
          -0.0016857805247261074,
          -0.0018262622351199497,
          -0.0019667439455137922,
          -0.002107225655907634,
          -0.0022477073663014764,
          -0.0023881890766953187,
          -0.002528670787089161,
          -0.0026691524974830033,
          -0.0028096342078768456,
          -0.011539543370323525
         ],
         "y": [
          -0.004737292726654415,
          0.004737292726654415,
          0.01335233466327943,
          0.013484437374540116,
          0.013604565052539522,
          0.013714062895172357,
          0.013813986404229275,
          0.013905179847085548,
          0.013988328996803327,
          0.014063997754266592,
          0.014132654278001833,
          0.014194690058030979,
          0.0142504341087258,
          0.014300163699825959,
          0.014344112576223395,
          0.014382477317787997,
          0.014415422294083697,
          0.014443083536717837,
          0.014465571761136541,
          0.014482974705648532,
          0.014495358909287638,
          0.014502771015932744,
          0.014505238665964227,
          0.014502771015932744,
          0.014495358909287638,
          0.014482974705648532,
          0.014465571761136541,
          0.014443083536717837,
          0.014415422294083697,
          0.014382477317787997,
          0.014344112576223395,
          0.014300163699825959,
          0.0142504341087258,
          0.014194690058030979,
          0.014132654278001833,
          0.014063997754266592,
          0.013988328996803327,
          0.013905179847085548,
          0.013813986404229275,
          0.013714062895172357,
          0.013604565052539522,
          0.013484437374540116,
          0.01335233466327943,
          0.004737292726654415,
          -0.004737292726654415,
          -0.01335233466327943,
          -0.013484437374540116,
          -0.013604565052539522,
          -0.013714062895172357,
          -0.013813986404229275,
          -0.013905179847085548,
          -0.013988328996803327,
          -0.014063997754266592,
          -0.014132654278001833,
          -0.014194690058030979,
          -0.0142504341087258,
          -0.014300163699825959,
          -0.014344112576223395,
          -0.014382477317787997,
          -0.014415422294083697,
          -0.014443083536717837,
          -0.014465571761136541,
          -0.014482974705648532,
          -0.014495358909287638,
          -0.014502771015932744,
          -0.014505238665964227,
          -0.014502771015932744,
          -0.014495358909287638,
          -0.014482974705648532,
          -0.014465571761136541,
          -0.014443083536717837,
          -0.014415422294083697,
          -0.014382477317787997,
          -0.014344112576223395,
          -0.014300163699825959,
          -0.0142504341087258,
          -0.014194690058030979,
          -0.014132654278001833,
          -0.014063997754266592,
          -0.013988328996803327,
          -0.013905179847085548,
          -0.013813986404229275,
          -0.013714062895172357,
          -0.013604565052539522,
          -0.013484437374540116,
          -0.01335233466327943,
          -0.004737292726654415
         ]
        },
        {
         "line": {
          "color": "blue",
          "dash": "dash"
         },
         "mode": "lines",
         "name": "out eq. rectangle",
         "type": "scatter",
         "x": [
          -0.011539543370323525,
          0.011539543370323525,
          0.011539543370323525,
          -0.011539543370323525,
          -0.011539543370323525
         ],
         "y": [
          -0.011890109801993197,
          -0.011890109801993197,
          0.011890109801993197,
          0.011890109801993197,
          -0.011890109801993197
         ]
        },
        {
         "line": {
          "color": "black"
         },
         "mode": "lines",
         "name": "roll surface",
         "showlegend": true,
         "type": "scatter",
         "x": [
          -0.023210037227734376,
          -0.017282037227734377,
          -0.017071314662143615,
          -0.01686059209655285,
          -0.016649869530962084,
          -0.016439146965371323,
          -0.01622842439978056,
          -0.016017701834189796,
          -0.01580697926859903,
          -0.015596256703008269,
          -0.015385534137417506,
          -0.015174811571826742,
          -0.014964089006235979,
          -0.014753366440645215,
          -0.014542643875054452,
          -0.014331921309463688,
          -0.014121198743872925,
          -0.013910476178282161,
          -0.013699753612691398,
          -0.013489031047100634,
          -0.013278308481509871,
          -0.013067585915919108,
          -0.0028096342078768456,
          -0.0026691524974830033,
          -0.002528670787089161,
          -0.0023881890766953187,
          -0.0022477073663014764,
          -0.002107225655907634,
          -0.0019667439455137922,
          -0.0018262622351199497,
          -0.0016857805247261074,
          -0.001545298814332265,
          -0.0014048171039384228,
          -0.0012643353935445805,
          -0.0011238536831507384,
          -0.0009833719727568961,
          -0.0008428902623630538,
          -0.0007024085519692115,
          -0.0005619268415753692,
          -0.0004214451311815269,
          -0.0002809634207876846,
          -0.0001404817103938423,
          0,
          0.0001404817103938423,
          0.0002809634207876846,
          0.0004214451311815269,
          0.0005619268415753692,
          0.0007024085519692115,
          0.0008428902623630538,
          0.0009833719727568961,
          0.0011238536831507384,
          0.0012643353935445805,
          0.0014048171039384228,
          0.001545298814332265,
          0.0016857805247261074,
          0.0018262622351199497,
          0.0019667439455137922,
          0.002107225655907634,
          0.0022477073663014764,
          0.0023881890766953187,
          0.002528670787089161,
          0.0026691524974830033,
          0.0028096342078768456,
          0.013067585915919108,
          0.013278308481509871,
          0.013489031047100634,
          0.013699753612691398,
          0.013910476178282161,
          0.014121198743872925,
          0.014331921309463688,
          0.014542643875054452,
          0.014753366440645215,
          0.014964089006235979,
          0.015174811571826742,
          0.015385534137417506,
          0.015596256703008269,
          0.01580697926859903,
          0.016017701834189796,
          0.01622842439978056,
          0.016439146965371323,
          0.016649869530962084,
          0.01686059209655285,
          0.017071314662143615,
          0.017282037227734377,
          0.023210037227734376
         ],
         "y": [
          0.0014999999999999996,
          0.0014999999999999996,
          0.0015037014750472226,
          0.0015148196350148824,
          0.001533395940473541,
          0.0015595003572415264,
          0.001593232693869585,
          0.0016347245578207945,
          0.0016841420222643445,
          0.0017416891346112469,
          0.0018076124492074006,
          0.0018822068358576383,
          0.0019658229118998715,
          0.0020588765819435882,
          0.002161861367546451,
          0.0022753645037413475,
          0.002400088228318019,
          0.0025368783926024256,
          0.002686763656187802,
          0.0028510104201370555,
          0.0030312019371361663,
          0.0032293560040271944,
          0.01335233466327943,
          0.013484437374540116,
          0.013604565052539522,
          0.013714062895172357,
          0.013813986404229275,
          0.013905179847085548,
          0.013988328996803327,
          0.014063997754266592,
          0.014132654278001833,
          0.014194690058030979,
          0.0142504341087258,
          0.014300163699825959,
          0.014344112576223395,
          0.014382477317787997,
          0.014415422294083697,
          0.014443083536717837,
          0.014465571761136541,
          0.014482974705648532,
          0.014495358909287638,
          0.014502771015932744,
          0.014505238665964227,
          0.014502771015932744,
          0.014495358909287638,
          0.014482974705648532,
          0.014465571761136541,
          0.014443083536717837,
          0.014415422294083697,
          0.014382477317787997,
          0.014344112576223395,
          0.014300163699825959,
          0.0142504341087258,
          0.014194690058030979,
          0.014132654278001833,
          0.014063997754266592,
          0.013988328996803327,
          0.013905179847085548,
          0.013813986404229275,
          0.013714062895172357,
          0.013604565052539522,
          0.013484437374540116,
          0.01335233466327943,
          0.0032293560040271944,
          0.0030312019371361663,
          0.0028510104201370555,
          0.002686763656187802,
          0.0025368783926024256,
          0.002400088228318019,
          0.0022753645037413475,
          0.002161861367546451,
          0.0020588765819435882,
          0.0019658229118998715,
          0.0018822068358576383,
          0.0018076124492074006,
          0.0017416891346112469,
          0.0016841420222643445,
          0.0016347245578207945,
          0.001593232693869585,
          0.0015595003572415264,
          0.001533395940473541,
          0.0015148196350148824,
          0.0015037014750472226,
          0.0014999999999999996,
          0.0014999999999999996
         ]
        },
        {
         "line": {
          "color": "black"
         },
         "mode": "lines",
         "name": "roll surface",
         "showlegend": false,
         "type": "scatter",
         "x": [
          0.023210037227734376,
          0.017282037227734377,
          0.017071314662143615,
          0.01686059209655285,
          0.016649869530962084,
          0.016439146965371323,
          0.01622842439978056,
          0.016017701834189796,
          0.01580697926859903,
          0.015596256703008269,
          0.015385534137417506,
          0.015174811571826742,
          0.014964089006235979,
          0.014753366440645215,
          0.014542643875054452,
          0.014331921309463688,
          0.014121198743872925,
          0.013910476178282161,
          0.013699753612691398,
          0.013489031047100634,
          0.013278308481509871,
          0.013067585915919108,
          0.0028096342078768456,
          0.0026691524974830033,
          0.002528670787089161,
          0.0023881890766953187,
          0.0022477073663014764,
          0.002107225655907634,
          0.0019667439455137922,
          0.0018262622351199497,
          0.0016857805247261074,
          0.001545298814332265,
          0.0014048171039384228,
          0.0012643353935445805,
          0.0011238536831507384,
          0.0009833719727568961,
          0.0008428902623630538,
          0.0007024085519692115,
          0.0005619268415753692,
          0.0004214451311815269,
          0.0002809634207876846,
          0.0001404817103938423,
          0,
          -0.0001404817103938423,
          -0.0002809634207876846,
          -0.0004214451311815269,
          -0.0005619268415753692,
          -0.0007024085519692115,
          -0.0008428902623630538,
          -0.0009833719727568961,
          -0.0011238536831507384,
          -0.0012643353935445805,
          -0.0014048171039384228,
          -0.001545298814332265,
          -0.0016857805247261074,
          -0.0018262622351199497,
          -0.0019667439455137922,
          -0.002107225655907634,
          -0.0022477073663014764,
          -0.0023881890766953187,
          -0.002528670787089161,
          -0.0026691524974830033,
          -0.0028096342078768456,
          -0.013067585915919108,
          -0.013278308481509871,
          -0.013489031047100634,
          -0.013699753612691398,
          -0.013910476178282161,
          -0.014121198743872925,
          -0.014331921309463688,
          -0.014542643875054452,
          -0.014753366440645215,
          -0.014964089006235979,
          -0.015174811571826742,
          -0.015385534137417506,
          -0.015596256703008269,
          -0.01580697926859903,
          -0.016017701834189796,
          -0.01622842439978056,
          -0.016439146965371323,
          -0.016649869530962084,
          -0.01686059209655285,
          -0.017071314662143615,
          -0.017282037227734377,
          -0.023210037227734376
         ],
         "y": [
          -0.0014999999999999996,
          -0.0014999999999999996,
          -0.0015037014750472226,
          -0.0015148196350148824,
          -0.001533395940473541,
          -0.0015595003572415264,
          -0.001593232693869585,
          -0.0016347245578207945,
          -0.0016841420222643445,
          -0.0017416891346112469,
          -0.0018076124492074006,
          -0.0018822068358576383,
          -0.0019658229118998715,
          -0.0020588765819435882,
          -0.002161861367546451,
          -0.0022753645037413475,
          -0.002400088228318019,
          -0.0025368783926024256,
          -0.002686763656187802,
          -0.0028510104201370555,
          -0.0030312019371361663,
          -0.0032293560040271944,
          -0.01335233466327943,
          -0.013484437374540116,
          -0.013604565052539522,
          -0.013714062895172357,
          -0.013813986404229275,
          -0.013905179847085548,
          -0.013988328996803327,
          -0.014063997754266592,
          -0.014132654278001833,
          -0.014194690058030979,
          -0.0142504341087258,
          -0.014300163699825959,
          -0.014344112576223395,
          -0.014382477317787997,
          -0.014415422294083697,
          -0.014443083536717837,
          -0.014465571761136541,
          -0.014482974705648532,
          -0.014495358909287638,
          -0.014502771015932744,
          -0.014505238665964227,
          -0.014502771015932744,
          -0.014495358909287638,
          -0.014482974705648532,
          -0.014465571761136541,
          -0.014443083536717837,
          -0.014415422294083697,
          -0.014382477317787997,
          -0.014344112576223395,
          -0.014300163699825959,
          -0.0142504341087258,
          -0.014194690058030979,
          -0.014132654278001833,
          -0.014063997754266592,
          -0.013988328996803327,
          -0.013905179847085548,
          -0.013813986404229275,
          -0.013714062895172357,
          -0.013604565052539522,
          -0.013484437374540116,
          -0.01335233466327943,
          -0.0032293560040271944,
          -0.0030312019371361663,
          -0.0028510104201370555,
          -0.002686763656187802,
          -0.0025368783926024256,
          -0.002400088228318019,
          -0.0022753645037413475,
          -0.002161861367546451,
          -0.0020588765819435882,
          -0.0019658229118998715,
          -0.0018822068358576383,
          -0.0018076124492074006,
          -0.0017416891346112469,
          -0.0016841420222643445,
          -0.0016347245578207945,
          -0.001593232693869585,
          -0.0015595003572415264,
          -0.001533395940473541,
          -0.0015148196350148824,
          -0.0015037014750472226,
          -0.0014999999999999996,
          -0.0014999999999999996
         ]
        }
       ],
       "layout": {
        "height": 480,
        "template": {
         "data": {
          "bar": [
           {
            "error_x": {
             "color": "rgb(36,36,36)"
            },
            "error_y": {
             "color": "rgb(36,36,36)"
            },
            "marker": {
             "line": {
              "color": "white",
              "width": 0.5
             },
             "pattern": {
              "fillmode": "overlay",
              "size": 10,
              "solidity": 0.2
             }
            },
            "type": "bar"
           }
          ],
          "barpolar": [
           {
            "marker": {
             "line": {
              "color": "white",
              "width": 0.5
             },
             "pattern": {
              "fillmode": "overlay",
              "size": 10,
              "solidity": 0.2
             }
            },
            "type": "barpolar"
           }
          ],
          "carpet": [
           {
            "aaxis": {
             "endlinecolor": "rgb(36,36,36)",
             "gridcolor": "white",
             "linecolor": "white",
             "minorgridcolor": "white",
             "startlinecolor": "rgb(36,36,36)"
            },
            "baxis": {
             "endlinecolor": "rgb(36,36,36)",
             "gridcolor": "white",
             "linecolor": "white",
             "minorgridcolor": "white",
             "startlinecolor": "rgb(36,36,36)"
            },
            "type": "carpet"
           }
          ],
          "choropleth": [
           {
            "colorbar": {
             "outlinewidth": 1,
             "tickcolor": "rgb(36,36,36)",
             "ticks": "outside"
            },
            "type": "choropleth"
           }
          ],
          "contour": [
           {
            "colorbar": {
             "outlinewidth": 1,
             "tickcolor": "rgb(36,36,36)",
             "ticks": "outside"
            },
            "colorscale": [
             [
              0,
              "#440154"
             ],
             [
              0.1111111111111111,
              "#482878"
             ],
             [
              0.2222222222222222,
              "#3e4989"
             ],
             [
              0.3333333333333333,
              "#31688e"
             ],
             [
              0.4444444444444444,
              "#26828e"
             ],
             [
              0.5555555555555556,
              "#1f9e89"
             ],
             [
              0.6666666666666666,
              "#35b779"
             ],
             [
              0.7777777777777778,
              "#6ece58"
             ],
             [
              0.8888888888888888,
              "#b5de2b"
             ],
             [
              1,
              "#fde725"
             ]
            ],
            "type": "contour"
           }
          ],
          "contourcarpet": [
           {
            "colorbar": {
             "outlinewidth": 1,
             "tickcolor": "rgb(36,36,36)",
             "ticks": "outside"
            },
            "type": "contourcarpet"
           }
          ],
          "heatmap": [
           {
            "colorbar": {
             "outlinewidth": 1,
             "tickcolor": "rgb(36,36,36)",
             "ticks": "outside"
            },
            "colorscale": [
             [
              0,
              "#440154"
             ],
             [
              0.1111111111111111,
              "#482878"
             ],
             [
              0.2222222222222222,
              "#3e4989"
             ],
             [
              0.3333333333333333,
              "#31688e"
             ],
             [
              0.4444444444444444,
              "#26828e"
             ],
             [
              0.5555555555555556,
              "#1f9e89"
             ],
             [
              0.6666666666666666,
              "#35b779"
             ],
             [
              0.7777777777777778,
              "#6ece58"
             ],
             [
              0.8888888888888888,
              "#b5de2b"
             ],
             [
              1,
              "#fde725"
             ]
            ],
            "type": "heatmap"
           }
          ],
          "heatmapgl": [
           {
            "colorbar": {
             "outlinewidth": 1,
             "tickcolor": "rgb(36,36,36)",
             "ticks": "outside"
            },
            "colorscale": [
             [
              0,
              "#440154"
             ],
             [
              0.1111111111111111,
              "#482878"
             ],
             [
              0.2222222222222222,
              "#3e4989"
             ],
             [
              0.3333333333333333,
              "#31688e"
             ],
             [
              0.4444444444444444,
              "#26828e"
             ],
             [
              0.5555555555555556,
              "#1f9e89"
             ],
             [
              0.6666666666666666,
              "#35b779"
             ],
             [
              0.7777777777777778,
              "#6ece58"
             ],
             [
              0.8888888888888888,
              "#b5de2b"
             ],
             [
              1,
              "#fde725"
             ]
            ],
            "type": "heatmapgl"
           }
          ],
          "histogram": [
           {
            "marker": {
             "line": {
              "color": "white",
              "width": 0.6
             }
            },
            "type": "histogram"
           }
          ],
          "histogram2d": [
           {
            "colorbar": {
             "outlinewidth": 1,
             "tickcolor": "rgb(36,36,36)",
             "ticks": "outside"
            },
            "colorscale": [
             [
              0,
              "#440154"
             ],
             [
              0.1111111111111111,
              "#482878"
             ],
             [
              0.2222222222222222,
              "#3e4989"
             ],
             [
              0.3333333333333333,
              "#31688e"
             ],
             [
              0.4444444444444444,
              "#26828e"
             ],
             [
              0.5555555555555556,
              "#1f9e89"
             ],
             [
              0.6666666666666666,
              "#35b779"
             ],
             [
              0.7777777777777778,
              "#6ece58"
             ],
             [
              0.8888888888888888,
              "#b5de2b"
             ],
             [
              1,
              "#fde725"
             ]
            ],
            "type": "histogram2d"
           }
          ],
          "histogram2dcontour": [
           {
            "colorbar": {
             "outlinewidth": 1,
             "tickcolor": "rgb(36,36,36)",
             "ticks": "outside"
            },
            "colorscale": [
             [
              0,
              "#440154"
             ],
             [
              0.1111111111111111,
              "#482878"
             ],
             [
              0.2222222222222222,
              "#3e4989"
             ],
             [
              0.3333333333333333,
              "#31688e"
             ],
             [
              0.4444444444444444,
              "#26828e"
             ],
             [
              0.5555555555555556,
              "#1f9e89"
             ],
             [
              0.6666666666666666,
              "#35b779"
             ],
             [
              0.7777777777777778,
              "#6ece58"
             ],
             [
              0.8888888888888888,
              "#b5de2b"
             ],
             [
              1,
              "#fde725"
             ]
            ],
            "type": "histogram2dcontour"
           }
          ],
          "mesh3d": [
           {
            "colorbar": {
             "outlinewidth": 1,
             "tickcolor": "rgb(36,36,36)",
             "ticks": "outside"
            },
            "type": "mesh3d"
           }
          ],
          "parcoords": [
           {
            "line": {
             "colorbar": {
              "outlinewidth": 1,
              "tickcolor": "rgb(36,36,36)",
              "ticks": "outside"
             }
            },
            "type": "parcoords"
           }
          ],
          "pie": [
           {
            "automargin": true,
            "type": "pie"
           }
          ],
          "scatter": [
           {
            "fillpattern": {
             "fillmode": "overlay",
             "size": 10,
             "solidity": 0.2
            },
            "type": "scatter"
           }
          ],
          "scatter3d": [
           {
            "line": {
             "colorbar": {
              "outlinewidth": 1,
              "tickcolor": "rgb(36,36,36)",
              "ticks": "outside"
             }
            },
            "marker": {
             "colorbar": {
              "outlinewidth": 1,
              "tickcolor": "rgb(36,36,36)",
              "ticks": "outside"
             }
            },
            "type": "scatter3d"
           }
          ],
          "scattercarpet": [
           {
            "marker": {
             "colorbar": {
              "outlinewidth": 1,
              "tickcolor": "rgb(36,36,36)",
              "ticks": "outside"
             }
            },
            "type": "scattercarpet"
           }
          ],
          "scattergeo": [
           {
            "marker": {
             "colorbar": {
              "outlinewidth": 1,
              "tickcolor": "rgb(36,36,36)",
              "ticks": "outside"
             }
            },
            "type": "scattergeo"
           }
          ],
          "scattergl": [
           {
            "marker": {
             "colorbar": {
              "outlinewidth": 1,
              "tickcolor": "rgb(36,36,36)",
              "ticks": "outside"
             }
            },
            "type": "scattergl"
           }
          ],
          "scattermapbox": [
           {
            "marker": {
             "colorbar": {
              "outlinewidth": 1,
              "tickcolor": "rgb(36,36,36)",
              "ticks": "outside"
             }
            },
            "type": "scattermapbox"
           }
          ],
          "scatterpolar": [
           {
            "marker": {
             "colorbar": {
              "outlinewidth": 1,
              "tickcolor": "rgb(36,36,36)",
              "ticks": "outside"
             }
            },
            "type": "scatterpolar"
           }
          ],
          "scatterpolargl": [
           {
            "marker": {
             "colorbar": {
              "outlinewidth": 1,
              "tickcolor": "rgb(36,36,36)",
              "ticks": "outside"
             }
            },
            "type": "scatterpolargl"
           }
          ],
          "scatterternary": [
           {
            "marker": {
             "colorbar": {
              "outlinewidth": 1,
              "tickcolor": "rgb(36,36,36)",
              "ticks": "outside"
             }
            },
            "type": "scatterternary"
           }
          ],
          "surface": [
           {
            "colorbar": {
             "outlinewidth": 1,
             "tickcolor": "rgb(36,36,36)",
             "ticks": "outside"
            },
            "colorscale": [
             [
              0,
              "#440154"
             ],
             [
              0.1111111111111111,
              "#482878"
             ],
             [
              0.2222222222222222,
              "#3e4989"
             ],
             [
              0.3333333333333333,
              "#31688e"
             ],
             [
              0.4444444444444444,
              "#26828e"
             ],
             [
              0.5555555555555556,
              "#1f9e89"
             ],
             [
              0.6666666666666666,
              "#35b779"
             ],
             [
              0.7777777777777778,
              "#6ece58"
             ],
             [
              0.8888888888888888,
              "#b5de2b"
             ],
             [
              1,
              "#fde725"
             ]
            ],
            "type": "surface"
           }
          ],
          "table": [
           {
            "cells": {
             "fill": {
              "color": "rgb(237,237,237)"
             },
             "line": {
              "color": "white"
             }
            },
            "header": {
             "fill": {
              "color": "rgb(217,217,217)"
             },
             "line": {
              "color": "white"
             }
            },
            "type": "table"
           }
          ]
         },
         "layout": {
          "annotationdefaults": {
           "arrowhead": 0,
           "arrowwidth": 1
          },
          "autotypenumbers": "strict",
          "coloraxis": {
           "colorbar": {
            "outlinewidth": 1,
            "tickcolor": "rgb(36,36,36)",
            "ticks": "outside"
           }
          },
          "colorscale": {
           "diverging": [
            [
             0,
             "rgb(103,0,31)"
            ],
            [
             0.1,
             "rgb(178,24,43)"
            ],
            [
             0.2,
             "rgb(214,96,77)"
            ],
            [
             0.3,
             "rgb(244,165,130)"
            ],
            [
             0.4,
             "rgb(253,219,199)"
            ],
            [
             0.5,
             "rgb(247,247,247)"
            ],
            [
             0.6,
             "rgb(209,229,240)"
            ],
            [
             0.7,
             "rgb(146,197,222)"
            ],
            [
             0.8,
             "rgb(67,147,195)"
            ],
            [
             0.9,
             "rgb(33,102,172)"
            ],
            [
             1,
             "rgb(5,48,97)"
            ]
           ],
           "sequential": [
            [
             0,
             "#440154"
            ],
            [
             0.1111111111111111,
             "#482878"
            ],
            [
             0.2222222222222222,
             "#3e4989"
            ],
            [
             0.3333333333333333,
             "#31688e"
            ],
            [
             0.4444444444444444,
             "#26828e"
            ],
            [
             0.5555555555555556,
             "#1f9e89"
            ],
            [
             0.6666666666666666,
             "#35b779"
            ],
            [
             0.7777777777777778,
             "#6ece58"
            ],
            [
             0.8888888888888888,
             "#b5de2b"
            ],
            [
             1,
             "#fde725"
            ]
           ],
           "sequentialminus": [
            [
             0,
             "#440154"
            ],
            [
             0.1111111111111111,
             "#482878"
            ],
            [
             0.2222222222222222,
             "#3e4989"
            ],
            [
             0.3333333333333333,
             "#31688e"
            ],
            [
             0.4444444444444444,
             "#26828e"
            ],
            [
             0.5555555555555556,
             "#1f9e89"
            ],
            [
             0.6666666666666666,
             "#35b779"
            ],
            [
             0.7777777777777778,
             "#6ece58"
            ],
            [
             0.8888888888888888,
             "#b5de2b"
            ],
            [
             1,
             "#fde725"
            ]
           ]
          },
          "colorway": [
           "#1F77B4",
           "#FF7F0E",
           "#2CA02C",
           "#D62728",
           "#9467BD",
           "#8C564B",
           "#E377C2",
           "#7F7F7F",
           "#BCBD22",
           "#17BECF"
          ],
          "font": {
           "color": "rgb(36,36,36)"
          },
          "geo": {
           "bgcolor": "white",
           "lakecolor": "white",
           "landcolor": "white",
           "showlakes": true,
           "showland": true,
           "subunitcolor": "white"
          },
          "hoverlabel": {
           "align": "left"
          },
          "hovermode": "closest",
          "mapbox": {
           "style": "light"
          },
          "paper_bgcolor": "white",
          "plot_bgcolor": "white",
          "polar": {
           "angularaxis": {
            "gridcolor": "rgb(232,232,232)",
            "linecolor": "rgb(36,36,36)",
            "showgrid": false,
            "showline": true,
            "ticks": "outside"
           },
           "bgcolor": "white",
           "radialaxis": {
            "gridcolor": "rgb(232,232,232)",
            "linecolor": "rgb(36,36,36)",
            "showgrid": false,
            "showline": true,
            "ticks": "outside"
           }
          },
          "scene": {
           "xaxis": {
            "backgroundcolor": "white",
            "gridcolor": "rgb(232,232,232)",
            "gridwidth": 2,
            "linecolor": "rgb(36,36,36)",
            "showbackground": true,
            "showgrid": false,
            "showline": true,
            "ticks": "outside",
            "zeroline": false,
            "zerolinecolor": "rgb(36,36,36)"
           },
           "yaxis": {
            "backgroundcolor": "white",
            "gridcolor": "rgb(232,232,232)",
            "gridwidth": 2,
            "linecolor": "rgb(36,36,36)",
            "showbackground": true,
            "showgrid": false,
            "showline": true,
            "ticks": "outside",
            "zeroline": false,
            "zerolinecolor": "rgb(36,36,36)"
           },
           "zaxis": {
            "backgroundcolor": "white",
            "gridcolor": "rgb(232,232,232)",
            "gridwidth": 2,
            "linecolor": "rgb(36,36,36)",
            "showbackground": true,
            "showgrid": false,
            "showline": true,
            "ticks": "outside",
            "zeroline": false,
            "zerolinecolor": "rgb(36,36,36)"
           }
          },
          "shapedefaults": {
           "fillcolor": "black",
           "line": {
            "width": 0
           },
           "opacity": 0.3
          },
          "ternary": {
           "aaxis": {
            "gridcolor": "rgb(232,232,232)",
            "linecolor": "rgb(36,36,36)",
            "showgrid": false,
            "showline": true,
            "ticks": "outside"
           },
           "baxis": {
            "gridcolor": "rgb(232,232,232)",
            "linecolor": "rgb(36,36,36)",
            "showgrid": false,
            "showline": true,
            "ticks": "outside"
           },
           "bgcolor": "white",
           "caxis": {
            "gridcolor": "rgb(232,232,232)",
            "linecolor": "rgb(36,36,36)",
            "showgrid": false,
            "showline": true,
            "ticks": "outside"
           }
          },
          "title": {
           "x": 0.05
          },
          "xaxis": {
           "automargin": true,
           "gridcolor": "rgb(232,232,232)",
           "linecolor": "rgb(36,36,36)",
           "showgrid": false,
           "showline": true,
           "ticks": "outside",
           "title": {
            "standoff": 15
           },
           "zeroline": false,
           "zerolinecolor": "rgb(36,36,36)"
          },
          "yaxis": {
           "automargin": true,
           "gridcolor": "rgb(232,232,232)",
           "linecolor": "rgb(36,36,36)",
           "showgrid": false,
           "showline": true,
           "ticks": "outside",
           "title": {
            "standoff": 15
           },
           "zeroline": false,
           "zerolinecolor": "rgb(36,36,36)"
          }
         }
        },
        "title": {
         "text": "Roll Pass 'Quadrat VI'"
        },
        "width": 640,
        "xaxis": {
         "title": {
          "text": "z"
         }
        },
        "yaxis": {
         "scaleanchor": "x",
         "scaleratio": 1,
         "title": {
          "text": "y"
         }
        }
       }
      }
     },
     "metadata": {},
     "output_type": "display_data"
    }
   ],
   "source": [
    "sequence.roll_passes[1].plot()"
   ]
  },
  {
   "cell_type": "markdown",
   "id": "8ef71fbcdf2c97",
   "metadata": {},
   "source": [
    "### Auswertung\n",
    "\n",
    "Nachfolgend sind nun noch einige hilfreiche funktionen oder Beispiele aus vorigen Praktika gegeben. Weitere Auswertungsmöglichkeiten werden im Praktikum besprochen."
   ]
  },
  {
   "cell_type": "code",
   "execution_count": 38,
   "id": "c51a11a07a289d48",
   "metadata": {},
   "outputs": [
    {
     "data": {
      "application/vnd.plotly.v1+json": {
       "config": {
        "plotlyServerURL": "https://plot.ly"
       },
       "data": [
        {
         "fill": "toself",
         "line": {
          "color": "red"
         },
         "mode": "lines",
         "name": "in profile",
         "type": "scatter",
         "x": [
          0.003961329470487147,
          -0.003961329470487147,
          -0.004392939501496623,
          -0.004933729051326541,
          -0.005435250928831142,
          -0.005898929043465183,
          -0.006326019193524236,
          -0.006717629348146711,
          -0.007074736421907482,
          -0.007398200209735912,
          -0.007688774998633334,
          -0.007947119258802825,
          -0.00817380373004237,
          -0.008369318152335489,
          -0.00853407683732053,
          -0.008668423235979338,
          -0.008772633624701948,
          -0.008846920004803433,
          -0.008891432288034237,
          -0.00890625982143008,
          -0.008891432288034237,
          -0.008846920004803433,
          -0.008772633624701948,
          -0.008668423235979338,
          -0.00853407683732053,
          -0.008369318152335489,
          -0.00817380373004237,
          -0.007947119258802825,
          -0.007688774998633334,
          -0.007398200209735912,
          -0.007074736421907482,
          -0.006717629348146711,
          -0.006326019193524236,
          -0.005898929043465183,
          -0.005435250928831142,
          -0.004933729051326541,
          -0.004392939501496623,
          -0.003961329470487147,
          0.003961329470487147,
          0.004392939501496623,
          0.004933729051326541,
          0.005435250928831142,
          0.005898929043465183,
          0.006326019193524236,
          0.006717629348146711,
          0.007074736421907482,
          0.007398200209735912,
          0.007688774998633334,
          0.007947119258802825,
          0.00817380373004237,
          0.008369318152335489,
          0.00853407683732053,
          0.008668423235979338,
          0.008772633624701948,
          0.008846920004803433,
          0.008891432288034237,
          0.00890625982143008,
          0.008891432288034237,
          0.008846920004803433,
          0.008772633624701948,
          0.008668423235979338,
          0.00853407683732053,
          0.008369318152335489,
          0.00817380373004237,
          0.007947119258802825,
          0.007688774998633334,
          0.007398200209735912,
          0.007074736421907482,
          0.006717629348146711,
          0.006326019193524236,
          0.005898929043465183,
          0.005435250928831142,
          0.004933729051326541,
          0.004392939501496623,
          0.003961329470487147
         ],
         "y": [
          -0.020379625076127856,
          -0.020379625076127856,
          -0.019527300073582967,
          -0.018378635363372205,
          -0.01722997065316144,
          -0.016081305942950676,
          -0.014932641232739914,
          -0.013783976522529152,
          -0.01263531181231839,
          -0.011486647102107627,
          -0.010337982391896863,
          -0.0091893176816861,
          -0.008040652971475338,
          -0.006891988261264574,
          -0.005743323551053812,
          -0.004594658840843049,
          -0.003445994130632287,
          -0.0022973294204215247,
          -0.0011486647102107624,
          0,
          0.0011486647102107624,
          0.0022973294204215247,
          0.003445994130632287,
          0.004594658840843049,
          0.005743323551053812,
          0.006891988261264574,
          0.008040652971475338,
          0.0091893176816861,
          0.010337982391896863,
          0.011486647102107627,
          0.01263531181231839,
          0.013783976522529152,
          0.014932641232739914,
          0.016081305942950676,
          0.01722997065316144,
          0.018378635363372205,
          0.019527300073582967,
          0.020379625076127856,
          0.020379625076127856,
          0.019527300073582967,
          0.018378635363372205,
          0.01722997065316144,
          0.016081305942950676,
          0.014932641232739914,
          0.013783976522529152,
          0.01263531181231839,
          0.011486647102107627,
          0.010337982391896863,
          0.0091893176816861,
          0.008040652971475338,
          0.006891988261264574,
          0.005743323551053812,
          0.004594658840843049,
          0.003445994130632287,
          0.0022973294204215247,
          0.0011486647102107624,
          0,
          -0.0011486647102107624,
          -0.0022973294204215247,
          -0.003445994130632287,
          -0.004594658840843049,
          -0.005743323551053812,
          -0.006891988261264574,
          -0.008040652971475338,
          -0.0091893176816861,
          -0.010337982391896863,
          -0.011486647102107627,
          -0.01263531181231839,
          -0.013783976522529152,
          -0.014932641232739914,
          -0.016081305942950676,
          -0.01722997065316144,
          -0.018378635363372205,
          -0.019527300073582967,
          -0.020379625076127856
         ]
        },
        {
         "line": {
          "color": "red",
          "dash": "dash"
         },
         "mode": "lines",
         "name": "in eq. rectangle",
         "type": "scatter",
         "x": [
          -0.00890625982143008,
          0.00890625982143008,
          0.00890625982143008,
          -0.00890625982143008,
          -0.00890625982143008
         ],
         "y": [
          -0.017714816526281128,
          -0.017714816526281128,
          0.017714816526281128,
          0.017714816526281128,
          -0.017714816526281128
         ]
        },
        {
         "fill": "toself",
         "line": {
          "color": "blue"
         },
         "mode": "lines",
         "name": "out profile",
         "type": "scatter",
         "x": [
          -0.011539543370323525,
          -0.011539543370323525,
          -0.0028096342078768456,
          -0.0026691524974830033,
          -0.002528670787089161,
          -0.0023881890766953187,
          -0.0022477073663014764,
          -0.002107225655907634,
          -0.0019667439455137922,
          -0.0018262622351199497,
          -0.0016857805247261074,
          -0.001545298814332265,
          -0.0014048171039384228,
          -0.0012643353935445805,
          -0.0011238536831507384,
          -0.0009833719727568961,
          -0.0008428902623630538,
          -0.0007024085519692115,
          -0.0005619268415753692,
          -0.0004214451311815269,
          -0.0002809634207876846,
          -0.0001404817103938423,
          0,
          0.0001404817103938423,
          0.0002809634207876846,
          0.0004214451311815269,
          0.0005619268415753692,
          0.0007024085519692115,
          0.0008428902623630538,
          0.0009833719727568961,
          0.0011238536831507384,
          0.0012643353935445805,
          0.0014048171039384228,
          0.001545298814332265,
          0.0016857805247261074,
          0.0018262622351199497,
          0.0019667439455137922,
          0.002107225655907634,
          0.0022477073663014764,
          0.0023881890766953187,
          0.002528670787089161,
          0.0026691524974830033,
          0.0028096342078768456,
          0.011539543370323525,
          0.011539543370323525,
          0.0028096342078768456,
          0.0026691524974830033,
          0.002528670787089161,
          0.0023881890766953187,
          0.0022477073663014764,
          0.002107225655907634,
          0.0019667439455137922,
          0.0018262622351199497,
          0.0016857805247261074,
          0.001545298814332265,
          0.0014048171039384228,
          0.0012643353935445805,
          0.0011238536831507384,
          0.0009833719727568961,
          0.0008428902623630538,
          0.0007024085519692115,
          0.0005619268415753692,
          0.0004214451311815269,
          0.0002809634207876846,
          0.0001404817103938423,
          0,
          -0.0001404817103938423,
          -0.0002809634207876846,
          -0.0004214451311815269,
          -0.0005619268415753692,
          -0.0007024085519692115,
          -0.0008428902623630538,
          -0.0009833719727568961,
          -0.0011238536831507384,
          -0.0012643353935445805,
          -0.0014048171039384228,
          -0.001545298814332265,
          -0.0016857805247261074,
          -0.0018262622351199497,
          -0.0019667439455137922,
          -0.002107225655907634,
          -0.0022477073663014764,
          -0.0023881890766953187,
          -0.002528670787089161,
          -0.0026691524974830033,
          -0.0028096342078768456,
          -0.011539543370323525
         ],
         "y": [
          -0.004737292726654415,
          0.004737292726654415,
          0.01335233466327943,
          0.013484437374540116,
          0.013604565052539522,
          0.013714062895172357,
          0.013813986404229275,
          0.013905179847085548,
          0.013988328996803327,
          0.014063997754266592,
          0.014132654278001833,
          0.014194690058030979,
          0.0142504341087258,
          0.014300163699825959,
          0.014344112576223395,
          0.014382477317787997,
          0.014415422294083697,
          0.014443083536717837,
          0.014465571761136541,
          0.014482974705648532,
          0.014495358909287638,
          0.014502771015932744,
          0.014505238665964227,
          0.014502771015932744,
          0.014495358909287638,
          0.014482974705648532,
          0.014465571761136541,
          0.014443083536717837,
          0.014415422294083697,
          0.014382477317787997,
          0.014344112576223395,
          0.014300163699825959,
          0.0142504341087258,
          0.014194690058030979,
          0.014132654278001833,
          0.014063997754266592,
          0.013988328996803327,
          0.013905179847085548,
          0.013813986404229275,
          0.013714062895172357,
          0.013604565052539522,
          0.013484437374540116,
          0.01335233466327943,
          0.004737292726654415,
          -0.004737292726654415,
          -0.01335233466327943,
          -0.013484437374540116,
          -0.013604565052539522,
          -0.013714062895172357,
          -0.013813986404229275,
          -0.013905179847085548,
          -0.013988328996803327,
          -0.014063997754266592,
          -0.014132654278001833,
          -0.014194690058030979,
          -0.0142504341087258,
          -0.014300163699825959,
          -0.014344112576223395,
          -0.014382477317787997,
          -0.014415422294083697,
          -0.014443083536717837,
          -0.014465571761136541,
          -0.014482974705648532,
          -0.014495358909287638,
          -0.014502771015932744,
          -0.014505238665964227,
          -0.014502771015932744,
          -0.014495358909287638,
          -0.014482974705648532,
          -0.014465571761136541,
          -0.014443083536717837,
          -0.014415422294083697,
          -0.014382477317787997,
          -0.014344112576223395,
          -0.014300163699825959,
          -0.0142504341087258,
          -0.014194690058030979,
          -0.014132654278001833,
          -0.014063997754266592,
          -0.013988328996803327,
          -0.013905179847085548,
          -0.013813986404229275,
          -0.013714062895172357,
          -0.013604565052539522,
          -0.013484437374540116,
          -0.01335233466327943,
          -0.004737292726654415
         ]
        },
        {
         "line": {
          "color": "blue",
          "dash": "dash"
         },
         "mode": "lines",
         "name": "out eq. rectangle",
         "type": "scatter",
         "x": [
          -0.011539543370323525,
          0.011539543370323525,
          0.011539543370323525,
          -0.011539543370323525,
          -0.011539543370323525
         ],
         "y": [
          -0.011890109801993197,
          -0.011890109801993197,
          0.011890109801993197,
          0.011890109801993197,
          -0.011890109801993197
         ]
        },
        {
         "line": {
          "color": "black"
         },
         "mode": "lines",
         "name": "roll surface",
         "showlegend": true,
         "type": "scatter",
         "x": [
          -0.023210037227734376,
          -0.017282037227734377,
          -0.017071314662143615,
          -0.01686059209655285,
          -0.016649869530962084,
          -0.016439146965371323,
          -0.01622842439978056,
          -0.016017701834189796,
          -0.01580697926859903,
          -0.015596256703008269,
          -0.015385534137417506,
          -0.015174811571826742,
          -0.014964089006235979,
          -0.014753366440645215,
          -0.014542643875054452,
          -0.014331921309463688,
          -0.014121198743872925,
          -0.013910476178282161,
          -0.013699753612691398,
          -0.013489031047100634,
          -0.013278308481509871,
          -0.013067585915919108,
          -0.0028096342078768456,
          -0.0026691524974830033,
          -0.002528670787089161,
          -0.0023881890766953187,
          -0.0022477073663014764,
          -0.002107225655907634,
          -0.0019667439455137922,
          -0.0018262622351199497,
          -0.0016857805247261074,
          -0.001545298814332265,
          -0.0014048171039384228,
          -0.0012643353935445805,
          -0.0011238536831507384,
          -0.0009833719727568961,
          -0.0008428902623630538,
          -0.0007024085519692115,
          -0.0005619268415753692,
          -0.0004214451311815269,
          -0.0002809634207876846,
          -0.0001404817103938423,
          0,
          0.0001404817103938423,
          0.0002809634207876846,
          0.0004214451311815269,
          0.0005619268415753692,
          0.0007024085519692115,
          0.0008428902623630538,
          0.0009833719727568961,
          0.0011238536831507384,
          0.0012643353935445805,
          0.0014048171039384228,
          0.001545298814332265,
          0.0016857805247261074,
          0.0018262622351199497,
          0.0019667439455137922,
          0.002107225655907634,
          0.0022477073663014764,
          0.0023881890766953187,
          0.002528670787089161,
          0.0026691524974830033,
          0.0028096342078768456,
          0.013067585915919108,
          0.013278308481509871,
          0.013489031047100634,
          0.013699753612691398,
          0.013910476178282161,
          0.014121198743872925,
          0.014331921309463688,
          0.014542643875054452,
          0.014753366440645215,
          0.014964089006235979,
          0.015174811571826742,
          0.015385534137417506,
          0.015596256703008269,
          0.01580697926859903,
          0.016017701834189796,
          0.01622842439978056,
          0.016439146965371323,
          0.016649869530962084,
          0.01686059209655285,
          0.017071314662143615,
          0.017282037227734377,
          0.023210037227734376
         ],
         "y": [
          0.0014999999999999996,
          0.0014999999999999996,
          0.0015037014750472226,
          0.0015148196350148824,
          0.001533395940473541,
          0.0015595003572415264,
          0.001593232693869585,
          0.0016347245578207945,
          0.0016841420222643445,
          0.0017416891346112469,
          0.0018076124492074006,
          0.0018822068358576383,
          0.0019658229118998715,
          0.0020588765819435882,
          0.002161861367546451,
          0.0022753645037413475,
          0.002400088228318019,
          0.0025368783926024256,
          0.002686763656187802,
          0.0028510104201370555,
          0.0030312019371361663,
          0.0032293560040271944,
          0.01335233466327943,
          0.013484437374540116,
          0.013604565052539522,
          0.013714062895172357,
          0.013813986404229275,
          0.013905179847085548,
          0.013988328996803327,
          0.014063997754266592,
          0.014132654278001833,
          0.014194690058030979,
          0.0142504341087258,
          0.014300163699825959,
          0.014344112576223395,
          0.014382477317787997,
          0.014415422294083697,
          0.014443083536717837,
          0.014465571761136541,
          0.014482974705648532,
          0.014495358909287638,
          0.014502771015932744,
          0.014505238665964227,
          0.014502771015932744,
          0.014495358909287638,
          0.014482974705648532,
          0.014465571761136541,
          0.014443083536717837,
          0.014415422294083697,
          0.014382477317787997,
          0.014344112576223395,
          0.014300163699825959,
          0.0142504341087258,
          0.014194690058030979,
          0.014132654278001833,
          0.014063997754266592,
          0.013988328996803327,
          0.013905179847085548,
          0.013813986404229275,
          0.013714062895172357,
          0.013604565052539522,
          0.013484437374540116,
          0.01335233466327943,
          0.0032293560040271944,
          0.0030312019371361663,
          0.0028510104201370555,
          0.002686763656187802,
          0.0025368783926024256,
          0.002400088228318019,
          0.0022753645037413475,
          0.002161861367546451,
          0.0020588765819435882,
          0.0019658229118998715,
          0.0018822068358576383,
          0.0018076124492074006,
          0.0017416891346112469,
          0.0016841420222643445,
          0.0016347245578207945,
          0.001593232693869585,
          0.0015595003572415264,
          0.001533395940473541,
          0.0015148196350148824,
          0.0015037014750472226,
          0.0014999999999999996,
          0.0014999999999999996
         ]
        },
        {
         "line": {
          "color": "black"
         },
         "mode": "lines",
         "name": "roll surface",
         "showlegend": false,
         "type": "scatter",
         "x": [
          0.023210037227734376,
          0.017282037227734377,
          0.017071314662143615,
          0.01686059209655285,
          0.016649869530962084,
          0.016439146965371323,
          0.01622842439978056,
          0.016017701834189796,
          0.01580697926859903,
          0.015596256703008269,
          0.015385534137417506,
          0.015174811571826742,
          0.014964089006235979,
          0.014753366440645215,
          0.014542643875054452,
          0.014331921309463688,
          0.014121198743872925,
          0.013910476178282161,
          0.013699753612691398,
          0.013489031047100634,
          0.013278308481509871,
          0.013067585915919108,
          0.0028096342078768456,
          0.0026691524974830033,
          0.002528670787089161,
          0.0023881890766953187,
          0.0022477073663014764,
          0.002107225655907634,
          0.0019667439455137922,
          0.0018262622351199497,
          0.0016857805247261074,
          0.001545298814332265,
          0.0014048171039384228,
          0.0012643353935445805,
          0.0011238536831507384,
          0.0009833719727568961,
          0.0008428902623630538,
          0.0007024085519692115,
          0.0005619268415753692,
          0.0004214451311815269,
          0.0002809634207876846,
          0.0001404817103938423,
          0,
          -0.0001404817103938423,
          -0.0002809634207876846,
          -0.0004214451311815269,
          -0.0005619268415753692,
          -0.0007024085519692115,
          -0.0008428902623630538,
          -0.0009833719727568961,
          -0.0011238536831507384,
          -0.0012643353935445805,
          -0.0014048171039384228,
          -0.001545298814332265,
          -0.0016857805247261074,
          -0.0018262622351199497,
          -0.0019667439455137922,
          -0.002107225655907634,
          -0.0022477073663014764,
          -0.0023881890766953187,
          -0.002528670787089161,
          -0.0026691524974830033,
          -0.0028096342078768456,
          -0.013067585915919108,
          -0.013278308481509871,
          -0.013489031047100634,
          -0.013699753612691398,
          -0.013910476178282161,
          -0.014121198743872925,
          -0.014331921309463688,
          -0.014542643875054452,
          -0.014753366440645215,
          -0.014964089006235979,
          -0.015174811571826742,
          -0.015385534137417506,
          -0.015596256703008269,
          -0.01580697926859903,
          -0.016017701834189796,
          -0.01622842439978056,
          -0.016439146965371323,
          -0.016649869530962084,
          -0.01686059209655285,
          -0.017071314662143615,
          -0.017282037227734377,
          -0.023210037227734376
         ],
         "y": [
          -0.0014999999999999996,
          -0.0014999999999999996,
          -0.0015037014750472226,
          -0.0015148196350148824,
          -0.001533395940473541,
          -0.0015595003572415264,
          -0.001593232693869585,
          -0.0016347245578207945,
          -0.0016841420222643445,
          -0.0017416891346112469,
          -0.0018076124492074006,
          -0.0018822068358576383,
          -0.0019658229118998715,
          -0.0020588765819435882,
          -0.002161861367546451,
          -0.0022753645037413475,
          -0.002400088228318019,
          -0.0025368783926024256,
          -0.002686763656187802,
          -0.0028510104201370555,
          -0.0030312019371361663,
          -0.0032293560040271944,
          -0.01335233466327943,
          -0.013484437374540116,
          -0.013604565052539522,
          -0.013714062895172357,
          -0.013813986404229275,
          -0.013905179847085548,
          -0.013988328996803327,
          -0.014063997754266592,
          -0.014132654278001833,
          -0.014194690058030979,
          -0.0142504341087258,
          -0.014300163699825959,
          -0.014344112576223395,
          -0.014382477317787997,
          -0.014415422294083697,
          -0.014443083536717837,
          -0.014465571761136541,
          -0.014482974705648532,
          -0.014495358909287638,
          -0.014502771015932744,
          -0.014505238665964227,
          -0.014502771015932744,
          -0.014495358909287638,
          -0.014482974705648532,
          -0.014465571761136541,
          -0.014443083536717837,
          -0.014415422294083697,
          -0.014382477317787997,
          -0.014344112576223395,
          -0.014300163699825959,
          -0.0142504341087258,
          -0.014194690058030979,
          -0.014132654278001833,
          -0.014063997754266592,
          -0.013988328996803327,
          -0.013905179847085548,
          -0.013813986404229275,
          -0.013714062895172357,
          -0.013604565052539522,
          -0.013484437374540116,
          -0.01335233466327943,
          -0.0032293560040271944,
          -0.0030312019371361663,
          -0.0028510104201370555,
          -0.002686763656187802,
          -0.0025368783926024256,
          -0.002400088228318019,
          -0.0022753645037413475,
          -0.002161861367546451,
          -0.0020588765819435882,
          -0.0019658229118998715,
          -0.0018822068358576383,
          -0.0018076124492074006,
          -0.0017416891346112469,
          -0.0016841420222643445,
          -0.0016347245578207945,
          -0.001593232693869585,
          -0.0015595003572415264,
          -0.001533395940473541,
          -0.0015148196350148824,
          -0.0015037014750472226,
          -0.0014999999999999996,
          -0.0014999999999999996
         ]
        }
       ],
       "layout": {
        "height": 480,
        "template": {
         "data": {
          "bar": [
           {
            "error_x": {
             "color": "rgb(36,36,36)"
            },
            "error_y": {
             "color": "rgb(36,36,36)"
            },
            "marker": {
             "line": {
              "color": "white",
              "width": 0.5
             },
             "pattern": {
              "fillmode": "overlay",
              "size": 10,
              "solidity": 0.2
             }
            },
            "type": "bar"
           }
          ],
          "barpolar": [
           {
            "marker": {
             "line": {
              "color": "white",
              "width": 0.5
             },
             "pattern": {
              "fillmode": "overlay",
              "size": 10,
              "solidity": 0.2
             }
            },
            "type": "barpolar"
           }
          ],
          "carpet": [
           {
            "aaxis": {
             "endlinecolor": "rgb(36,36,36)",
             "gridcolor": "white",
             "linecolor": "white",
             "minorgridcolor": "white",
             "startlinecolor": "rgb(36,36,36)"
            },
            "baxis": {
             "endlinecolor": "rgb(36,36,36)",
             "gridcolor": "white",
             "linecolor": "white",
             "minorgridcolor": "white",
             "startlinecolor": "rgb(36,36,36)"
            },
            "type": "carpet"
           }
          ],
          "choropleth": [
           {
            "colorbar": {
             "outlinewidth": 1,
             "tickcolor": "rgb(36,36,36)",
             "ticks": "outside"
            },
            "type": "choropleth"
           }
          ],
          "contour": [
           {
            "colorbar": {
             "outlinewidth": 1,
             "tickcolor": "rgb(36,36,36)",
             "ticks": "outside"
            },
            "colorscale": [
             [
              0,
              "#440154"
             ],
             [
              0.1111111111111111,
              "#482878"
             ],
             [
              0.2222222222222222,
              "#3e4989"
             ],
             [
              0.3333333333333333,
              "#31688e"
             ],
             [
              0.4444444444444444,
              "#26828e"
             ],
             [
              0.5555555555555556,
              "#1f9e89"
             ],
             [
              0.6666666666666666,
              "#35b779"
             ],
             [
              0.7777777777777778,
              "#6ece58"
             ],
             [
              0.8888888888888888,
              "#b5de2b"
             ],
             [
              1,
              "#fde725"
             ]
            ],
            "type": "contour"
           }
          ],
          "contourcarpet": [
           {
            "colorbar": {
             "outlinewidth": 1,
             "tickcolor": "rgb(36,36,36)",
             "ticks": "outside"
            },
            "type": "contourcarpet"
           }
          ],
          "heatmap": [
           {
            "colorbar": {
             "outlinewidth": 1,
             "tickcolor": "rgb(36,36,36)",
             "ticks": "outside"
            },
            "colorscale": [
             [
              0,
              "#440154"
             ],
             [
              0.1111111111111111,
              "#482878"
             ],
             [
              0.2222222222222222,
              "#3e4989"
             ],
             [
              0.3333333333333333,
              "#31688e"
             ],
             [
              0.4444444444444444,
              "#26828e"
             ],
             [
              0.5555555555555556,
              "#1f9e89"
             ],
             [
              0.6666666666666666,
              "#35b779"
             ],
             [
              0.7777777777777778,
              "#6ece58"
             ],
             [
              0.8888888888888888,
              "#b5de2b"
             ],
             [
              1,
              "#fde725"
             ]
            ],
            "type": "heatmap"
           }
          ],
          "heatmapgl": [
           {
            "colorbar": {
             "outlinewidth": 1,
             "tickcolor": "rgb(36,36,36)",
             "ticks": "outside"
            },
            "colorscale": [
             [
              0,
              "#440154"
             ],
             [
              0.1111111111111111,
              "#482878"
             ],
             [
              0.2222222222222222,
              "#3e4989"
             ],
             [
              0.3333333333333333,
              "#31688e"
             ],
             [
              0.4444444444444444,
              "#26828e"
             ],
             [
              0.5555555555555556,
              "#1f9e89"
             ],
             [
              0.6666666666666666,
              "#35b779"
             ],
             [
              0.7777777777777778,
              "#6ece58"
             ],
             [
              0.8888888888888888,
              "#b5de2b"
             ],
             [
              1,
              "#fde725"
             ]
            ],
            "type": "heatmapgl"
           }
          ],
          "histogram": [
           {
            "marker": {
             "line": {
              "color": "white",
              "width": 0.6
             }
            },
            "type": "histogram"
           }
          ],
          "histogram2d": [
           {
            "colorbar": {
             "outlinewidth": 1,
             "tickcolor": "rgb(36,36,36)",
             "ticks": "outside"
            },
            "colorscale": [
             [
              0,
              "#440154"
             ],
             [
              0.1111111111111111,
              "#482878"
             ],
             [
              0.2222222222222222,
              "#3e4989"
             ],
             [
              0.3333333333333333,
              "#31688e"
             ],
             [
              0.4444444444444444,
              "#26828e"
             ],
             [
              0.5555555555555556,
              "#1f9e89"
             ],
             [
              0.6666666666666666,
              "#35b779"
             ],
             [
              0.7777777777777778,
              "#6ece58"
             ],
             [
              0.8888888888888888,
              "#b5de2b"
             ],
             [
              1,
              "#fde725"
             ]
            ],
            "type": "histogram2d"
           }
          ],
          "histogram2dcontour": [
           {
            "colorbar": {
             "outlinewidth": 1,
             "tickcolor": "rgb(36,36,36)",
             "ticks": "outside"
            },
            "colorscale": [
             [
              0,
              "#440154"
             ],
             [
              0.1111111111111111,
              "#482878"
             ],
             [
              0.2222222222222222,
              "#3e4989"
             ],
             [
              0.3333333333333333,
              "#31688e"
             ],
             [
              0.4444444444444444,
              "#26828e"
             ],
             [
              0.5555555555555556,
              "#1f9e89"
             ],
             [
              0.6666666666666666,
              "#35b779"
             ],
             [
              0.7777777777777778,
              "#6ece58"
             ],
             [
              0.8888888888888888,
              "#b5de2b"
             ],
             [
              1,
              "#fde725"
             ]
            ],
            "type": "histogram2dcontour"
           }
          ],
          "mesh3d": [
           {
            "colorbar": {
             "outlinewidth": 1,
             "tickcolor": "rgb(36,36,36)",
             "ticks": "outside"
            },
            "type": "mesh3d"
           }
          ],
          "parcoords": [
           {
            "line": {
             "colorbar": {
              "outlinewidth": 1,
              "tickcolor": "rgb(36,36,36)",
              "ticks": "outside"
             }
            },
            "type": "parcoords"
           }
          ],
          "pie": [
           {
            "automargin": true,
            "type": "pie"
           }
          ],
          "scatter": [
           {
            "fillpattern": {
             "fillmode": "overlay",
             "size": 10,
             "solidity": 0.2
            },
            "type": "scatter"
           }
          ],
          "scatter3d": [
           {
            "line": {
             "colorbar": {
              "outlinewidth": 1,
              "tickcolor": "rgb(36,36,36)",
              "ticks": "outside"
             }
            },
            "marker": {
             "colorbar": {
              "outlinewidth": 1,
              "tickcolor": "rgb(36,36,36)",
              "ticks": "outside"
             }
            },
            "type": "scatter3d"
           }
          ],
          "scattercarpet": [
           {
            "marker": {
             "colorbar": {
              "outlinewidth": 1,
              "tickcolor": "rgb(36,36,36)",
              "ticks": "outside"
             }
            },
            "type": "scattercarpet"
           }
          ],
          "scattergeo": [
           {
            "marker": {
             "colorbar": {
              "outlinewidth": 1,
              "tickcolor": "rgb(36,36,36)",
              "ticks": "outside"
             }
            },
            "type": "scattergeo"
           }
          ],
          "scattergl": [
           {
            "marker": {
             "colorbar": {
              "outlinewidth": 1,
              "tickcolor": "rgb(36,36,36)",
              "ticks": "outside"
             }
            },
            "type": "scattergl"
           }
          ],
          "scattermapbox": [
           {
            "marker": {
             "colorbar": {
              "outlinewidth": 1,
              "tickcolor": "rgb(36,36,36)",
              "ticks": "outside"
             }
            },
            "type": "scattermapbox"
           }
          ],
          "scatterpolar": [
           {
            "marker": {
             "colorbar": {
              "outlinewidth": 1,
              "tickcolor": "rgb(36,36,36)",
              "ticks": "outside"
             }
            },
            "type": "scatterpolar"
           }
          ],
          "scatterpolargl": [
           {
            "marker": {
             "colorbar": {
              "outlinewidth": 1,
              "tickcolor": "rgb(36,36,36)",
              "ticks": "outside"
             }
            },
            "type": "scatterpolargl"
           }
          ],
          "scatterternary": [
           {
            "marker": {
             "colorbar": {
              "outlinewidth": 1,
              "tickcolor": "rgb(36,36,36)",
              "ticks": "outside"
             }
            },
            "type": "scatterternary"
           }
          ],
          "surface": [
           {
            "colorbar": {
             "outlinewidth": 1,
             "tickcolor": "rgb(36,36,36)",
             "ticks": "outside"
            },
            "colorscale": [
             [
              0,
              "#440154"
             ],
             [
              0.1111111111111111,
              "#482878"
             ],
             [
              0.2222222222222222,
              "#3e4989"
             ],
             [
              0.3333333333333333,
              "#31688e"
             ],
             [
              0.4444444444444444,
              "#26828e"
             ],
             [
              0.5555555555555556,
              "#1f9e89"
             ],
             [
              0.6666666666666666,
              "#35b779"
             ],
             [
              0.7777777777777778,
              "#6ece58"
             ],
             [
              0.8888888888888888,
              "#b5de2b"
             ],
             [
              1,
              "#fde725"
             ]
            ],
            "type": "surface"
           }
          ],
          "table": [
           {
            "cells": {
             "fill": {
              "color": "rgb(237,237,237)"
             },
             "line": {
              "color": "white"
             }
            },
            "header": {
             "fill": {
              "color": "rgb(217,217,217)"
             },
             "line": {
              "color": "white"
             }
            },
            "type": "table"
           }
          ]
         },
         "layout": {
          "annotationdefaults": {
           "arrowhead": 0,
           "arrowwidth": 1
          },
          "autotypenumbers": "strict",
          "coloraxis": {
           "colorbar": {
            "outlinewidth": 1,
            "tickcolor": "rgb(36,36,36)",
            "ticks": "outside"
           }
          },
          "colorscale": {
           "diverging": [
            [
             0,
             "rgb(103,0,31)"
            ],
            [
             0.1,
             "rgb(178,24,43)"
            ],
            [
             0.2,
             "rgb(214,96,77)"
            ],
            [
             0.3,
             "rgb(244,165,130)"
            ],
            [
             0.4,
             "rgb(253,219,199)"
            ],
            [
             0.5,
             "rgb(247,247,247)"
            ],
            [
             0.6,
             "rgb(209,229,240)"
            ],
            [
             0.7,
             "rgb(146,197,222)"
            ],
            [
             0.8,
             "rgb(67,147,195)"
            ],
            [
             0.9,
             "rgb(33,102,172)"
            ],
            [
             1,
             "rgb(5,48,97)"
            ]
           ],
           "sequential": [
            [
             0,
             "#440154"
            ],
            [
             0.1111111111111111,
             "#482878"
            ],
            [
             0.2222222222222222,
             "#3e4989"
            ],
            [
             0.3333333333333333,
             "#31688e"
            ],
            [
             0.4444444444444444,
             "#26828e"
            ],
            [
             0.5555555555555556,
             "#1f9e89"
            ],
            [
             0.6666666666666666,
             "#35b779"
            ],
            [
             0.7777777777777778,
             "#6ece58"
            ],
            [
             0.8888888888888888,
             "#b5de2b"
            ],
            [
             1,
             "#fde725"
            ]
           ],
           "sequentialminus": [
            [
             0,
             "#440154"
            ],
            [
             0.1111111111111111,
             "#482878"
            ],
            [
             0.2222222222222222,
             "#3e4989"
            ],
            [
             0.3333333333333333,
             "#31688e"
            ],
            [
             0.4444444444444444,
             "#26828e"
            ],
            [
             0.5555555555555556,
             "#1f9e89"
            ],
            [
             0.6666666666666666,
             "#35b779"
            ],
            [
             0.7777777777777778,
             "#6ece58"
            ],
            [
             0.8888888888888888,
             "#b5de2b"
            ],
            [
             1,
             "#fde725"
            ]
           ]
          },
          "colorway": [
           "#1F77B4",
           "#FF7F0E",
           "#2CA02C",
           "#D62728",
           "#9467BD",
           "#8C564B",
           "#E377C2",
           "#7F7F7F",
           "#BCBD22",
           "#17BECF"
          ],
          "font": {
           "color": "rgb(36,36,36)"
          },
          "geo": {
           "bgcolor": "white",
           "lakecolor": "white",
           "landcolor": "white",
           "showlakes": true,
           "showland": true,
           "subunitcolor": "white"
          },
          "hoverlabel": {
           "align": "left"
          },
          "hovermode": "closest",
          "mapbox": {
           "style": "light"
          },
          "paper_bgcolor": "white",
          "plot_bgcolor": "white",
          "polar": {
           "angularaxis": {
            "gridcolor": "rgb(232,232,232)",
            "linecolor": "rgb(36,36,36)",
            "showgrid": false,
            "showline": true,
            "ticks": "outside"
           },
           "bgcolor": "white",
           "radialaxis": {
            "gridcolor": "rgb(232,232,232)",
            "linecolor": "rgb(36,36,36)",
            "showgrid": false,
            "showline": true,
            "ticks": "outside"
           }
          },
          "scene": {
           "xaxis": {
            "backgroundcolor": "white",
            "gridcolor": "rgb(232,232,232)",
            "gridwidth": 2,
            "linecolor": "rgb(36,36,36)",
            "showbackground": true,
            "showgrid": false,
            "showline": true,
            "ticks": "outside",
            "zeroline": false,
            "zerolinecolor": "rgb(36,36,36)"
           },
           "yaxis": {
            "backgroundcolor": "white",
            "gridcolor": "rgb(232,232,232)",
            "gridwidth": 2,
            "linecolor": "rgb(36,36,36)",
            "showbackground": true,
            "showgrid": false,
            "showline": true,
            "ticks": "outside",
            "zeroline": false,
            "zerolinecolor": "rgb(36,36,36)"
           },
           "zaxis": {
            "backgroundcolor": "white",
            "gridcolor": "rgb(232,232,232)",
            "gridwidth": 2,
            "linecolor": "rgb(36,36,36)",
            "showbackground": true,
            "showgrid": false,
            "showline": true,
            "ticks": "outside",
            "zeroline": false,
            "zerolinecolor": "rgb(36,36,36)"
           }
          },
          "shapedefaults": {
           "fillcolor": "black",
           "line": {
            "width": 0
           },
           "opacity": 0.3
          },
          "ternary": {
           "aaxis": {
            "gridcolor": "rgb(232,232,232)",
            "linecolor": "rgb(36,36,36)",
            "showgrid": false,
            "showline": true,
            "ticks": "outside"
           },
           "baxis": {
            "gridcolor": "rgb(232,232,232)",
            "linecolor": "rgb(36,36,36)",
            "showgrid": false,
            "showline": true,
            "ticks": "outside"
           },
           "bgcolor": "white",
           "caxis": {
            "gridcolor": "rgb(232,232,232)",
            "linecolor": "rgb(36,36,36)",
            "showgrid": false,
            "showline": true,
            "ticks": "outside"
           }
          },
          "title": {
           "x": 0.05
          },
          "xaxis": {
           "automargin": true,
           "gridcolor": "rgb(232,232,232)",
           "linecolor": "rgb(36,36,36)",
           "showgrid": false,
           "showline": true,
           "ticks": "outside",
           "title": {
            "standoff": 15
           },
           "zeroline": false,
           "zerolinecolor": "rgb(36,36,36)"
          },
          "yaxis": {
           "automargin": true,
           "gridcolor": "rgb(232,232,232)",
           "linecolor": "rgb(36,36,36)",
           "showgrid": false,
           "showline": true,
           "ticks": "outside",
           "title": {
            "standoff": 15
           },
           "zeroline": false,
           "zerolinecolor": "rgb(36,36,36)"
          }
         }
        },
        "title": {
         "text": "Roll Pass 'Quadrat VI'"
        },
        "width": 640,
        "xaxis": {
         "title": {
          "text": "z"
         }
        },
        "yaxis": {
         "scaleanchor": "x",
         "scaleratio": 1,
         "title": {
          "text": "y"
         }
        }
       }
      }
     },
     "metadata": {},
     "output_type": "display_data"
    }
   ],
   "source": [
    "sequence[2].plot()"
   ]
  },
  {
   "cell_type": "code",
   "execution_count": 39,
   "id": "acf1f049ccd31c24",
   "metadata": {
    "collapsed": false,
    "jupyter": {
     "outputs_hidden": false
    }
   },
   "outputs": [],
   "source": [
    "from pyroll.export.convert import _to_dict, _flatten_dict\n",
    "def to_pandas_replacement(sequence: Sequence[Unit]) -> pd.DataFrame:\n",
    "    \"\"\"\n",
    "    Exports a PyRolL PassSequence object to a pandas ``DataFrame``.\n",
    "    Uses a flattened version of the result of ``to_dict()``.\n",
    "    \"\"\"\n",
    "    df_full = pd.DataFrame([\n",
    "        _flatten_dict(_to_dict(u)) for u in sequence\n",
    "    ])\n",
    "    df_full.sort_index(axis=\"columns\", inplace=True)\n",
    "    return df_full"
   ]
  },
  {
   "cell_type": "code",
   "execution_count": 40,
   "id": "b6711e89aaa97e28",
   "metadata": {
    "ExecuteTime": {
     "end_time": "2025-01-14T10:18:21.898350Z",
     "start_time": "2025-01-14T10:18:21.712760Z"
    }
   },
   "outputs": [
    {
     "data": {
      "text/html": [
       "<div>\n",
       "<style scoped>\n",
       "    .dataframe tbody tr th:only-of-type {\n",
       "        vertical-align: middle;\n",
       "    }\n",
       "\n",
       "    .dataframe tbody tr th {\n",
       "        vertical-align: top;\n",
       "    }\n",
       "\n",
       "    .dataframe thead th {\n",
       "        text-align: right;\n",
       "    }\n",
       "</style>\n",
       "<table border=\"1\" class=\"dataframe\">\n",
       "  <thead>\n",
       "    <tr style=\"text-align: right;\">\n",
       "      <th></th>\n",
       "      <th>abs_draught</th>\n",
       "      <th>back_tension</th>\n",
       "      <th>bite_angle</th>\n",
       "      <th>classifiers</th>\n",
       "      <th>contact_area</th>\n",
       "      <th>contour_lines_coords</th>\n",
       "      <th>contour_lines_height</th>\n",
       "      <th>contour_lines_length</th>\n",
       "      <th>contour_lines_width</th>\n",
       "      <th>contour_lines_x</th>\n",
       "      <th>...</th>\n",
       "      <th>volume</th>\n",
       "      <th>wusatowski_exponent</th>\n",
       "      <th>wusatowski_friction_coefficient</th>\n",
       "      <th>wusatowski_material_coefficient</th>\n",
       "      <th>wusatowski_temperature_coefficient</th>\n",
       "      <th>wusatowski_velocity_coefficient</th>\n",
       "      <th>zouhar_contact_c1</th>\n",
       "      <th>zouhar_contact_c2</th>\n",
       "      <th>zouhar_contact_c3</th>\n",
       "      <th>zouhar_contact_in_width</th>\n",
       "    </tr>\n",
       "  </thead>\n",
       "  <tbody>\n",
       "    <tr>\n",
       "      <th>0</th>\n",
       "      <td>-0.013732</td>\n",
       "      <td>0.0</td>\n",
       "      <td>0.347499</td>\n",
       "      <td>[circular_oval, symmetric, oval, generic_elong...</td>\n",
       "      <td>0.003680</td>\n",
       "      <td>[[-0.03583173090990724, 0.0016562598214300798]...</td>\n",
       "      <td>0.017813</td>\n",
       "      <td>0.148619</td>\n",
       "      <td>0.071663</td>\n",
       "      <td>[-0.03583173090990724, -0.026070817018267762, ...</td>\n",
       "      <td>...</td>\n",
       "      <td>3.659109e-05</td>\n",
       "      <td>0.446932</td>\n",
       "      <td>1.0</td>\n",
       "      <td>1.0</td>\n",
       "      <td>1.0</td>\n",
       "      <td>1.014367</td>\n",
       "      <td>0.82</td>\n",
       "      <td>0.2</td>\n",
       "      <td>1.02</td>\n",
       "      <td>0.030476</td>\n",
       "    </tr>\n",
       "    <tr>\n",
       "      <th>1</th>\n",
       "      <td>NaN</td>\n",
       "      <td>NaN</td>\n",
       "      <td>NaN</td>\n",
       "      <td>NaN</td>\n",
       "      <td>NaN</td>\n",
       "      <td>NaN</td>\n",
       "      <td>NaN</td>\n",
       "      <td>NaN</td>\n",
       "      <td>NaN</td>\n",
       "      <td>NaN</td>\n",
       "      <td>...</td>\n",
       "      <td>NaN</td>\n",
       "      <td>NaN</td>\n",
       "      <td>NaN</td>\n",
       "      <td>NaN</td>\n",
       "      <td>NaN</td>\n",
       "      <td>NaN</td>\n",
       "      <td>NaN</td>\n",
       "      <td>NaN</td>\n",
       "      <td>NaN</td>\n",
       "      <td>NaN</td>\n",
       "    </tr>\n",
       "    <tr>\n",
       "      <th>2</th>\n",
       "      <td>-0.011649</td>\n",
       "      <td>0.0</td>\n",
       "      <td>0.280793</td>\n",
       "      <td>[diamond, square, generic_elongation, symmetric]</td>\n",
       "      <td>0.001352</td>\n",
       "      <td>[[-0.023210037227734376, 0.0014999999999999996...</td>\n",
       "      <td>0.029010</td>\n",
       "      <td>0.112508</td>\n",
       "      <td>0.046420</td>\n",
       "      <td>[-0.023210037227734376, -0.017282037227734377,...</td>\n",
       "      <td>...</td>\n",
       "      <td>2.139694e-05</td>\n",
       "      <td>0.647181</td>\n",
       "      <td>1.0</td>\n",
       "      <td>1.0</td>\n",
       "      <td>1.0</td>\n",
       "      <td>1.000998</td>\n",
       "      <td>1.00</td>\n",
       "      <td>0.1</td>\n",
       "      <td>1.00</td>\n",
       "      <td>0.007923</td>\n",
       "    </tr>\n",
       "    <tr>\n",
       "      <th>3</th>\n",
       "      <td>NaN</td>\n",
       "      <td>NaN</td>\n",
       "      <td>NaN</td>\n",
       "      <td>NaN</td>\n",
       "      <td>NaN</td>\n",
       "      <td>NaN</td>\n",
       "      <td>NaN</td>\n",
       "      <td>NaN</td>\n",
       "      <td>NaN</td>\n",
       "      <td>NaN</td>\n",
       "      <td>...</td>\n",
       "      <td>NaN</td>\n",
       "      <td>NaN</td>\n",
       "      <td>NaN</td>\n",
       "      <td>NaN</td>\n",
       "      <td>NaN</td>\n",
       "      <td>NaN</td>\n",
       "      <td>NaN</td>\n",
       "      <td>NaN</td>\n",
       "      <td>NaN</td>\n",
       "      <td>NaN</td>\n",
       "    </tr>\n",
       "    <tr>\n",
       "      <th>4</th>\n",
       "      <td>-0.008682</td>\n",
       "      <td>0.0</td>\n",
       "      <td>0.300933</td>\n",
       "      <td>[circular_oval, symmetric, oval, generic_elong...</td>\n",
       "      <td>0.002432</td>\n",
       "      <td>[[-0.026510212098303156, 0.0016194235007149268...</td>\n",
       "      <td>0.013339</td>\n",
       "      <td>0.109488</td>\n",
       "      <td>0.053020</td>\n",
       "      <td>[-0.026510212098303156, -0.019455012207654873,...</td>\n",
       "      <td>...</td>\n",
       "      <td>1.754602e-05</td>\n",
       "      <td>0.490090</td>\n",
       "      <td>1.0</td>\n",
       "      <td>1.0</td>\n",
       "      <td>1.0</td>\n",
       "      <td>1.010285</td>\n",
       "      <td>0.82</td>\n",
       "      <td>0.2</td>\n",
       "      <td>1.02</td>\n",
       "      <td>0.023019</td>\n",
       "    </tr>\n",
       "    <tr>\n",
       "      <th>5</th>\n",
       "      <td>NaN</td>\n",
       "      <td>NaN</td>\n",
       "      <td>NaN</td>\n",
       "      <td>NaN</td>\n",
       "      <td>NaN</td>\n",
       "      <td>NaN</td>\n",
       "      <td>NaN</td>\n",
       "      <td>NaN</td>\n",
       "      <td>NaN</td>\n",
       "      <td>NaN</td>\n",
       "      <td>...</td>\n",
       "      <td>NaN</td>\n",
       "      <td>NaN</td>\n",
       "      <td>NaN</td>\n",
       "      <td>NaN</td>\n",
       "      <td>NaN</td>\n",
       "      <td>NaN</td>\n",
       "      <td>NaN</td>\n",
       "      <td>NaN</td>\n",
       "      <td>NaN</td>\n",
       "      <td>NaN</td>\n",
       "    </tr>\n",
       "    <tr>\n",
       "      <th>6</th>\n",
       "      <td>-0.008563</td>\n",
       "      <td>0.0</td>\n",
       "      <td>0.237338</td>\n",
       "      <td>[diamond, square, generic_elongation, symmetric]</td>\n",
       "      <td>0.000887</td>\n",
       "      <td>[[-0.01712580662215131, 0.0014999999999999996]...</td>\n",
       "      <td>0.021781</td>\n",
       "      <td>0.082552</td>\n",
       "      <td>0.034252</td>\n",
       "      <td>[-0.01712580662215131, -0.01281780662215131, -...</td>\n",
       "      <td>...</td>\n",
       "      <td>1.047274e-05</td>\n",
       "      <td>0.691330</td>\n",
       "      <td>1.0</td>\n",
       "      <td>1.0</td>\n",
       "      <td>1.0</td>\n",
       "      <td>1.000481</td>\n",
       "      <td>1.00</td>\n",
       "      <td>0.1</td>\n",
       "      <td>1.00</td>\n",
       "      <td>0.005922</td>\n",
       "    </tr>\n",
       "    <tr>\n",
       "      <th>7</th>\n",
       "      <td>NaN</td>\n",
       "      <td>NaN</td>\n",
       "      <td>NaN</td>\n",
       "      <td>NaN</td>\n",
       "      <td>NaN</td>\n",
       "      <td>NaN</td>\n",
       "      <td>NaN</td>\n",
       "      <td>NaN</td>\n",
       "      <td>NaN</td>\n",
       "      <td>NaN</td>\n",
       "      <td>...</td>\n",
       "      <td>NaN</td>\n",
       "      <td>NaN</td>\n",
       "      <td>NaN</td>\n",
       "      <td>NaN</td>\n",
       "      <td>NaN</td>\n",
       "      <td>NaN</td>\n",
       "      <td>NaN</td>\n",
       "      <td>NaN</td>\n",
       "      <td>NaN</td>\n",
       "      <td>NaN</td>\n",
       "    </tr>\n",
       "    <tr>\n",
       "      <th>8</th>\n",
       "      <td>-0.006529</td>\n",
       "      <td>0.0</td>\n",
       "      <td>0.270077</td>\n",
       "      <td>[circular_oval, symmetric, oval, generic_elong...</td>\n",
       "      <td>0.001537</td>\n",
       "      <td>[[-0.02189104061731336, 0.0005887238273056834]...</td>\n",
       "      <td>0.010037</td>\n",
       "      <td>0.090763</td>\n",
       "      <td>0.043782</td>\n",
       "      <td>[-0.02189104061731336, -0.016107920412020915, ...</td>\n",
       "      <td>...</td>\n",
       "      <td>8.316060e-06</td>\n",
       "      <td>0.528938</td>\n",
       "      <td>1.0</td>\n",
       "      <td>1.0</td>\n",
       "      <td>1.0</td>\n",
       "      <td>1.010201</td>\n",
       "      <td>0.82</td>\n",
       "      <td>0.2</td>\n",
       "      <td>1.02</td>\n",
       "      <td>0.017307</td>\n",
       "    </tr>\n",
       "    <tr>\n",
       "      <th>9</th>\n",
       "      <td>NaN</td>\n",
       "      <td>NaN</td>\n",
       "      <td>NaN</td>\n",
       "      <td>NaN</td>\n",
       "      <td>NaN</td>\n",
       "      <td>NaN</td>\n",
       "      <td>NaN</td>\n",
       "      <td>NaN</td>\n",
       "      <td>NaN</td>\n",
       "      <td>NaN</td>\n",
       "      <td>...</td>\n",
       "      <td>NaN</td>\n",
       "      <td>NaN</td>\n",
       "      <td>NaN</td>\n",
       "      <td>NaN</td>\n",
       "      <td>NaN</td>\n",
       "      <td>NaN</td>\n",
       "      <td>NaN</td>\n",
       "      <td>NaN</td>\n",
       "      <td>NaN</td>\n",
       "      <td>NaN</td>\n",
       "    </tr>\n",
       "    <tr>\n",
       "      <th>10</th>\n",
       "      <td>-0.008323</td>\n",
       "      <td>0.0</td>\n",
       "      <td>0.245759</td>\n",
       "      <td>[diamond, square, generic_elongation, symmetric]</td>\n",
       "      <td>0.000654</td>\n",
       "      <td>[[-0.01218242712474619, 4.999999999999796e-06]...</td>\n",
       "      <td>0.015402</td>\n",
       "      <td>0.060964</td>\n",
       "      <td>0.024365</td>\n",
       "      <td>[-0.01218242712474619, -0.00893842712474619, -...</td>\n",
       "      <td>...</td>\n",
       "      <td>4.832466e-06</td>\n",
       "      <td>0.708185</td>\n",
       "      <td>1.0</td>\n",
       "      <td>1.0</td>\n",
       "      <td>1.0</td>\n",
       "      <td>1.010437</td>\n",
       "      <td>1.00</td>\n",
       "      <td>0.1</td>\n",
       "      <td>1.00</td>\n",
       "      <td>0.004390</td>\n",
       "    </tr>\n",
       "    <tr>\n",
       "      <th>11</th>\n",
       "      <td>NaN</td>\n",
       "      <td>NaN</td>\n",
       "      <td>NaN</td>\n",
       "      <td>NaN</td>\n",
       "      <td>NaN</td>\n",
       "      <td>NaN</td>\n",
       "      <td>NaN</td>\n",
       "      <td>NaN</td>\n",
       "      <td>NaN</td>\n",
       "      <td>NaN</td>\n",
       "      <td>...</td>\n",
       "      <td>NaN</td>\n",
       "      <td>NaN</td>\n",
       "      <td>NaN</td>\n",
       "      <td>NaN</td>\n",
       "      <td>NaN</td>\n",
       "      <td>NaN</td>\n",
       "      <td>NaN</td>\n",
       "      <td>NaN</td>\n",
       "      <td>NaN</td>\n",
       "      <td>NaN</td>\n",
       "    </tr>\n",
       "    <tr>\n",
       "      <th>12</th>\n",
       "      <td>-0.003872</td>\n",
       "      <td>0.0</td>\n",
       "      <td>0.192800</td>\n",
       "      <td>[circular_oval, symmetric, oval, generic_elong...</td>\n",
       "      <td>0.000716</td>\n",
       "      <td>[[-0.01644988123876536, 0.000547777667314624],...</td>\n",
       "      <td>0.008156</td>\n",
       "      <td>0.068468</td>\n",
       "      <td>0.032900</td>\n",
       "      <td>[-0.01644988123876536, -0.012244145539807993, ...</td>\n",
       "      <td>...</td>\n",
       "      <td>3.134184e-06</td>\n",
       "      <td>0.616047</td>\n",
       "      <td>1.0</td>\n",
       "      <td>1.0</td>\n",
       "      <td>1.0</td>\n",
       "      <td>1.002191</td>\n",
       "      <td>0.82</td>\n",
       "      <td>0.2</td>\n",
       "      <td>1.02</td>\n",
       "      <td>0.011476</td>\n",
       "    </tr>\n",
       "    <tr>\n",
       "      <th>13</th>\n",
       "      <td>NaN</td>\n",
       "      <td>NaN</td>\n",
       "      <td>NaN</td>\n",
       "      <td>NaN</td>\n",
       "      <td>NaN</td>\n",
       "      <td>NaN</td>\n",
       "      <td>NaN</td>\n",
       "      <td>NaN</td>\n",
       "      <td>NaN</td>\n",
       "      <td>NaN</td>\n",
       "      <td>...</td>\n",
       "      <td>NaN</td>\n",
       "      <td>NaN</td>\n",
       "      <td>NaN</td>\n",
       "      <td>NaN</td>\n",
       "      <td>NaN</td>\n",
       "      <td>NaN</td>\n",
       "      <td>NaN</td>\n",
       "      <td>NaN</td>\n",
       "      <td>NaN</td>\n",
       "      <td>NaN</td>\n",
       "    </tr>\n",
       "    <tr>\n",
       "      <th>14</th>\n",
       "      <td>-0.004004</td>\n",
       "      <td>0.0</td>\n",
       "      <td>0.151850</td>\n",
       "      <td>[diamond, square, generic_elongation, symmetric]</td>\n",
       "      <td>0.000319</td>\n",
       "      <td>[[-0.01114724344186865, 4.999999999999796e-06]...</td>\n",
       "      <td>0.011791</td>\n",
       "      <td>0.053250</td>\n",
       "      <td>0.022294</td>\n",
       "      <td>[-0.01114724344186865, -0.00843124344186865, -...</td>\n",
       "      <td>...</td>\n",
       "      <td>1.846309e-06</td>\n",
       "      <td>0.717887</td>\n",
       "      <td>1.0</td>\n",
       "      <td>1.0</td>\n",
       "      <td>1.0</td>\n",
       "      <td>0.997912</td>\n",
       "      <td>1.00</td>\n",
       "      <td>0.1</td>\n",
       "      <td>1.00</td>\n",
       "      <td>0.004730</td>\n",
       "    </tr>\n",
       "    <tr>\n",
       "      <th>15</th>\n",
       "      <td>NaN</td>\n",
       "      <td>NaN</td>\n",
       "      <td>NaN</td>\n",
       "      <td>NaN</td>\n",
       "      <td>NaN</td>\n",
       "      <td>NaN</td>\n",
       "      <td>NaN</td>\n",
       "      <td>NaN</td>\n",
       "      <td>NaN</td>\n",
       "      <td>NaN</td>\n",
       "      <td>...</td>\n",
       "      <td>NaN</td>\n",
       "      <td>NaN</td>\n",
       "      <td>NaN</td>\n",
       "      <td>NaN</td>\n",
       "      <td>NaN</td>\n",
       "      <td>NaN</td>\n",
       "      <td>NaN</td>\n",
       "      <td>NaN</td>\n",
       "      <td>NaN</td>\n",
       "      <td>NaN</td>\n",
       "    </tr>\n",
       "    <tr>\n",
       "      <th>16</th>\n",
       "      <td>-0.002963</td>\n",
       "      <td>0.0</td>\n",
       "      <td>0.184248</td>\n",
       "      <td>[circular_oval, symmetric, oval, generic_elong...</td>\n",
       "      <td>0.000576</td>\n",
       "      <td>[[-0.012788310082940919, 0.000546315387194217]...</td>\n",
       "      <td>0.006493</td>\n",
       "      <td>0.053158</td>\n",
       "      <td>0.025577</td>\n",
       "      <td>[-0.012788310082940919, -0.009538867857350785,...</td>\n",
       "      <td>...</td>\n",
       "      <td>1.961308e-06</td>\n",
       "      <td>0.636729</td>\n",
       "      <td>1.0</td>\n",
       "      <td>1.0</td>\n",
       "      <td>1.0</td>\n",
       "      <td>1.001609</td>\n",
       "      <td>0.82</td>\n",
       "      <td>0.2</td>\n",
       "      <td>1.02</td>\n",
       "      <td>0.009581</td>\n",
       "    </tr>\n",
       "    <tr>\n",
       "      <th>17</th>\n",
       "      <td>NaN</td>\n",
       "      <td>NaN</td>\n",
       "      <td>NaN</td>\n",
       "      <td>NaN</td>\n",
       "      <td>NaN</td>\n",
       "      <td>NaN</td>\n",
       "      <td>NaN</td>\n",
       "      <td>NaN</td>\n",
       "      <td>NaN</td>\n",
       "      <td>NaN</td>\n",
       "      <td>...</td>\n",
       "      <td>NaN</td>\n",
       "      <td>NaN</td>\n",
       "      <td>NaN</td>\n",
       "      <td>NaN</td>\n",
       "      <td>NaN</td>\n",
       "      <td>NaN</td>\n",
       "      <td>NaN</td>\n",
       "      <td>NaN</td>\n",
       "      <td>NaN</td>\n",
       "      <td>NaN</td>\n",
       "    </tr>\n",
       "    <tr>\n",
       "      <th>18</th>\n",
       "      <td>-0.003478</td>\n",
       "      <td>0.0</td>\n",
       "      <td>0.149784</td>\n",
       "      <td>[diamond, square, generic_elongation, symmetric]</td>\n",
       "      <td>0.000252</td>\n",
       "      <td>[[-0.009003151141499629, 4.999999999999796e-06...</td>\n",
       "      <td>0.009422</td>\n",
       "      <td>0.042917</td>\n",
       "      <td>0.018006</td>\n",
       "      <td>[-0.009003151141499629, -0.0068571511414996286...</td>\n",
       "      <td>...</td>\n",
       "      <td>1.186404e-06</td>\n",
       "      <td>0.750014</td>\n",
       "      <td>1.0</td>\n",
       "      <td>1.0</td>\n",
       "      <td>1.0</td>\n",
       "      <td>0.999703</td>\n",
       "      <td>1.00</td>\n",
       "      <td>0.1</td>\n",
       "      <td>1.00</td>\n",
       "      <td>0.003377</td>\n",
       "    </tr>\n",
       "    <tr>\n",
       "      <th>19</th>\n",
       "      <td>NaN</td>\n",
       "      <td>NaN</td>\n",
       "      <td>NaN</td>\n",
       "      <td>NaN</td>\n",
       "      <td>NaN</td>\n",
       "      <td>NaN</td>\n",
       "      <td>NaN</td>\n",
       "      <td>NaN</td>\n",
       "      <td>NaN</td>\n",
       "      <td>NaN</td>\n",
       "      <td>...</td>\n",
       "      <td>NaN</td>\n",
       "      <td>NaN</td>\n",
       "      <td>NaN</td>\n",
       "      <td>NaN</td>\n",
       "      <td>NaN</td>\n",
       "      <td>NaN</td>\n",
       "      <td>NaN</td>\n",
       "      <td>NaN</td>\n",
       "      <td>NaN</td>\n",
       "      <td>NaN</td>\n",
       "    </tr>\n",
       "    <tr>\n",
       "      <th>20</th>\n",
       "      <td>-0.003136</td>\n",
       "      <td>0.0</td>\n",
       "      <td>0.180148</td>\n",
       "      <td>[circular_oval, symmetric, oval, generic_elong...</td>\n",
       "      <td>0.000462</td>\n",
       "      <td>[[-0.01086772137273662, 5.308413018657061e-05]...</td>\n",
       "      <td>0.004426</td>\n",
       "      <td>0.044990</td>\n",
       "      <td>0.021735</td>\n",
       "      <td>[-0.01086772137273662, -0.008068605827526835, ...</td>\n",
       "      <td>...</td>\n",
       "      <td>1.089953e-06</td>\n",
       "      <td>0.665021</td>\n",
       "      <td>1.0</td>\n",
       "      <td>1.0</td>\n",
       "      <td>1.0</td>\n",
       "      <td>1.012025</td>\n",
       "      <td>0.82</td>\n",
       "      <td>0.2</td>\n",
       "      <td>1.02</td>\n",
       "      <td>0.007600</td>\n",
       "    </tr>\n",
       "    <tr>\n",
       "      <th>21</th>\n",
       "      <td>NaN</td>\n",
       "      <td>NaN</td>\n",
       "      <td>NaN</td>\n",
       "      <td>NaN</td>\n",
       "      <td>NaN</td>\n",
       "      <td>NaN</td>\n",
       "      <td>NaN</td>\n",
       "      <td>NaN</td>\n",
       "      <td>NaN</td>\n",
       "      <td>NaN</td>\n",
       "      <td>...</td>\n",
       "      <td>NaN</td>\n",
       "      <td>NaN</td>\n",
       "      <td>NaN</td>\n",
       "      <td>NaN</td>\n",
       "      <td>NaN</td>\n",
       "      <td>NaN</td>\n",
       "      <td>NaN</td>\n",
       "      <td>NaN</td>\n",
       "      <td>NaN</td>\n",
       "      <td>NaN</td>\n",
       "    </tr>\n",
       "    <tr>\n",
       "      <th>22</th>\n",
       "      <td>-0.002849</td>\n",
       "      <td>0.0</td>\n",
       "      <td>0.158293</td>\n",
       "      <td>[symmetric, generic_elongation, round]</td>\n",
       "      <td>0.000170</td>\n",
       "      <td>[[-0.006723308428428389, 0.0001749999999999998...</td>\n",
       "      <td>0.007650</td>\n",
       "      <td>0.033254</td>\n",
       "      <td>0.013447</td>\n",
       "      <td>[-0.006723308428428389, -0.005108571228827097,...</td>\n",
       "      <td>...</td>\n",
       "      <td>9.078239e-07</td>\n",
       "      <td>0.822760</td>\n",
       "      <td>1.0</td>\n",
       "      <td>1.0</td>\n",
       "      <td>1.0</td>\n",
       "      <td>0.995907</td>\n",
       "      <td>1.00</td>\n",
       "      <td>0.0</td>\n",
       "      <td>1.00</td>\n",
       "      <td>0.001645</td>\n",
       "    </tr>\n",
       "  </tbody>\n",
       "</table>\n",
       "<p>23 rows × 263 columns</p>\n",
       "</div>"
      ],
      "text/plain": [
       "    abs_draught  back_tension  bite_angle  \\\n",
       "0     -0.013732           0.0    0.347499   \n",
       "1           NaN           NaN         NaN   \n",
       "2     -0.011649           0.0    0.280793   \n",
       "3           NaN           NaN         NaN   \n",
       "4     -0.008682           0.0    0.300933   \n",
       "5           NaN           NaN         NaN   \n",
       "6     -0.008563           0.0    0.237338   \n",
       "7           NaN           NaN         NaN   \n",
       "8     -0.006529           0.0    0.270077   \n",
       "9           NaN           NaN         NaN   \n",
       "10    -0.008323           0.0    0.245759   \n",
       "11          NaN           NaN         NaN   \n",
       "12    -0.003872           0.0    0.192800   \n",
       "13          NaN           NaN         NaN   \n",
       "14    -0.004004           0.0    0.151850   \n",
       "15          NaN           NaN         NaN   \n",
       "16    -0.002963           0.0    0.184248   \n",
       "17          NaN           NaN         NaN   \n",
       "18    -0.003478           0.0    0.149784   \n",
       "19          NaN           NaN         NaN   \n",
       "20    -0.003136           0.0    0.180148   \n",
       "21          NaN           NaN         NaN   \n",
       "22    -0.002849           0.0    0.158293   \n",
       "\n",
       "                                          classifiers  contact_area  \\\n",
       "0   [circular_oval, symmetric, oval, generic_elong...      0.003680   \n",
       "1                                                 NaN           NaN   \n",
       "2    [diamond, square, generic_elongation, symmetric]      0.001352   \n",
       "3                                                 NaN           NaN   \n",
       "4   [circular_oval, symmetric, oval, generic_elong...      0.002432   \n",
       "5                                                 NaN           NaN   \n",
       "6    [diamond, square, generic_elongation, symmetric]      0.000887   \n",
       "7                                                 NaN           NaN   \n",
       "8   [circular_oval, symmetric, oval, generic_elong...      0.001537   \n",
       "9                                                 NaN           NaN   \n",
       "10   [diamond, square, generic_elongation, symmetric]      0.000654   \n",
       "11                                                NaN           NaN   \n",
       "12  [circular_oval, symmetric, oval, generic_elong...      0.000716   \n",
       "13                                                NaN           NaN   \n",
       "14   [diamond, square, generic_elongation, symmetric]      0.000319   \n",
       "15                                                NaN           NaN   \n",
       "16  [circular_oval, symmetric, oval, generic_elong...      0.000576   \n",
       "17                                                NaN           NaN   \n",
       "18   [diamond, square, generic_elongation, symmetric]      0.000252   \n",
       "19                                                NaN           NaN   \n",
       "20  [circular_oval, symmetric, oval, generic_elong...      0.000462   \n",
       "21                                                NaN           NaN   \n",
       "22             [symmetric, generic_elongation, round]      0.000170   \n",
       "\n",
       "                                 contour_lines_coords  contour_lines_height  \\\n",
       "0   [[-0.03583173090990724, 0.0016562598214300798]...              0.017813   \n",
       "1                                                 NaN                   NaN   \n",
       "2   [[-0.023210037227734376, 0.0014999999999999996...              0.029010   \n",
       "3                                                 NaN                   NaN   \n",
       "4   [[-0.026510212098303156, 0.0016194235007149268...              0.013339   \n",
       "5                                                 NaN                   NaN   \n",
       "6   [[-0.01712580662215131, 0.0014999999999999996]...              0.021781   \n",
       "7                                                 NaN                   NaN   \n",
       "8   [[-0.02189104061731336, 0.0005887238273056834]...              0.010037   \n",
       "9                                                 NaN                   NaN   \n",
       "10  [[-0.01218242712474619, 4.999999999999796e-06]...              0.015402   \n",
       "11                                                NaN                   NaN   \n",
       "12  [[-0.01644988123876536, 0.000547777667314624],...              0.008156   \n",
       "13                                                NaN                   NaN   \n",
       "14  [[-0.01114724344186865, 4.999999999999796e-06]...              0.011791   \n",
       "15                                                NaN                   NaN   \n",
       "16  [[-0.012788310082940919, 0.000546315387194217]...              0.006493   \n",
       "17                                                NaN                   NaN   \n",
       "18  [[-0.009003151141499629, 4.999999999999796e-06...              0.009422   \n",
       "19                                                NaN                   NaN   \n",
       "20  [[-0.01086772137273662, 5.308413018657061e-05]...              0.004426   \n",
       "21                                                NaN                   NaN   \n",
       "22  [[-0.006723308428428389, 0.0001749999999999998...              0.007650   \n",
       "\n",
       "    contour_lines_length  contour_lines_width  \\\n",
       "0               0.148619             0.071663   \n",
       "1                    NaN                  NaN   \n",
       "2               0.112508             0.046420   \n",
       "3                    NaN                  NaN   \n",
       "4               0.109488             0.053020   \n",
       "5                    NaN                  NaN   \n",
       "6               0.082552             0.034252   \n",
       "7                    NaN                  NaN   \n",
       "8               0.090763             0.043782   \n",
       "9                    NaN                  NaN   \n",
       "10              0.060964             0.024365   \n",
       "11                   NaN                  NaN   \n",
       "12              0.068468             0.032900   \n",
       "13                   NaN                  NaN   \n",
       "14              0.053250             0.022294   \n",
       "15                   NaN                  NaN   \n",
       "16              0.053158             0.025577   \n",
       "17                   NaN                  NaN   \n",
       "18              0.042917             0.018006   \n",
       "19                   NaN                  NaN   \n",
       "20              0.044990             0.021735   \n",
       "21                   NaN                  NaN   \n",
       "22              0.033254             0.013447   \n",
       "\n",
       "                                      contour_lines_x  ...        volume  \\\n",
       "0   [-0.03583173090990724, -0.026070817018267762, ...  ...  3.659109e-05   \n",
       "1                                                 NaN  ...           NaN   \n",
       "2   [-0.023210037227734376, -0.017282037227734377,...  ...  2.139694e-05   \n",
       "3                                                 NaN  ...           NaN   \n",
       "4   [-0.026510212098303156, -0.019455012207654873,...  ...  1.754602e-05   \n",
       "5                                                 NaN  ...           NaN   \n",
       "6   [-0.01712580662215131, -0.01281780662215131, -...  ...  1.047274e-05   \n",
       "7                                                 NaN  ...           NaN   \n",
       "8   [-0.02189104061731336, -0.016107920412020915, ...  ...  8.316060e-06   \n",
       "9                                                 NaN  ...           NaN   \n",
       "10  [-0.01218242712474619, -0.00893842712474619, -...  ...  4.832466e-06   \n",
       "11                                                NaN  ...           NaN   \n",
       "12  [-0.01644988123876536, -0.012244145539807993, ...  ...  3.134184e-06   \n",
       "13                                                NaN  ...           NaN   \n",
       "14  [-0.01114724344186865, -0.00843124344186865, -...  ...  1.846309e-06   \n",
       "15                                                NaN  ...           NaN   \n",
       "16  [-0.012788310082940919, -0.009538867857350785,...  ...  1.961308e-06   \n",
       "17                                                NaN  ...           NaN   \n",
       "18  [-0.009003151141499629, -0.0068571511414996286...  ...  1.186404e-06   \n",
       "19                                                NaN  ...           NaN   \n",
       "20  [-0.01086772137273662, -0.008068605827526835, ...  ...  1.089953e-06   \n",
       "21                                                NaN  ...           NaN   \n",
       "22  [-0.006723308428428389, -0.005108571228827097,...  ...  9.078239e-07   \n",
       "\n",
       "   wusatowski_exponent  wusatowski_friction_coefficient  \\\n",
       "0             0.446932                              1.0   \n",
       "1                  NaN                              NaN   \n",
       "2             0.647181                              1.0   \n",
       "3                  NaN                              NaN   \n",
       "4             0.490090                              1.0   \n",
       "5                  NaN                              NaN   \n",
       "6             0.691330                              1.0   \n",
       "7                  NaN                              NaN   \n",
       "8             0.528938                              1.0   \n",
       "9                  NaN                              NaN   \n",
       "10            0.708185                              1.0   \n",
       "11                 NaN                              NaN   \n",
       "12            0.616047                              1.0   \n",
       "13                 NaN                              NaN   \n",
       "14            0.717887                              1.0   \n",
       "15                 NaN                              NaN   \n",
       "16            0.636729                              1.0   \n",
       "17                 NaN                              NaN   \n",
       "18            0.750014                              1.0   \n",
       "19                 NaN                              NaN   \n",
       "20            0.665021                              1.0   \n",
       "21                 NaN                              NaN   \n",
       "22            0.822760                              1.0   \n",
       "\n",
       "    wusatowski_material_coefficient  wusatowski_temperature_coefficient  \\\n",
       "0                               1.0                                 1.0   \n",
       "1                               NaN                                 NaN   \n",
       "2                               1.0                                 1.0   \n",
       "3                               NaN                                 NaN   \n",
       "4                               1.0                                 1.0   \n",
       "5                               NaN                                 NaN   \n",
       "6                               1.0                                 1.0   \n",
       "7                               NaN                                 NaN   \n",
       "8                               1.0                                 1.0   \n",
       "9                               NaN                                 NaN   \n",
       "10                              1.0                                 1.0   \n",
       "11                              NaN                                 NaN   \n",
       "12                              1.0                                 1.0   \n",
       "13                              NaN                                 NaN   \n",
       "14                              1.0                                 1.0   \n",
       "15                              NaN                                 NaN   \n",
       "16                              1.0                                 1.0   \n",
       "17                              NaN                                 NaN   \n",
       "18                              1.0                                 1.0   \n",
       "19                              NaN                                 NaN   \n",
       "20                              1.0                                 1.0   \n",
       "21                              NaN                                 NaN   \n",
       "22                              1.0                                 1.0   \n",
       "\n",
       "    wusatowski_velocity_coefficient  zouhar_contact_c1  zouhar_contact_c2  \\\n",
       "0                          1.014367               0.82                0.2   \n",
       "1                               NaN                NaN                NaN   \n",
       "2                          1.000998               1.00                0.1   \n",
       "3                               NaN                NaN                NaN   \n",
       "4                          1.010285               0.82                0.2   \n",
       "5                               NaN                NaN                NaN   \n",
       "6                          1.000481               1.00                0.1   \n",
       "7                               NaN                NaN                NaN   \n",
       "8                          1.010201               0.82                0.2   \n",
       "9                               NaN                NaN                NaN   \n",
       "10                         1.010437               1.00                0.1   \n",
       "11                              NaN                NaN                NaN   \n",
       "12                         1.002191               0.82                0.2   \n",
       "13                              NaN                NaN                NaN   \n",
       "14                         0.997912               1.00                0.1   \n",
       "15                              NaN                NaN                NaN   \n",
       "16                         1.001609               0.82                0.2   \n",
       "17                              NaN                NaN                NaN   \n",
       "18                         0.999703               1.00                0.1   \n",
       "19                              NaN                NaN                NaN   \n",
       "20                         1.012025               0.82                0.2   \n",
       "21                              NaN                NaN                NaN   \n",
       "22                         0.995907               1.00                0.0   \n",
       "\n",
       "   zouhar_contact_c3  zouhar_contact_in_width  \n",
       "0               1.02                 0.030476  \n",
       "1                NaN                      NaN  \n",
       "2               1.00                 0.007923  \n",
       "3                NaN                      NaN  \n",
       "4               1.02                 0.023019  \n",
       "5                NaN                      NaN  \n",
       "6               1.00                 0.005922  \n",
       "7                NaN                      NaN  \n",
       "8               1.02                 0.017307  \n",
       "9                NaN                      NaN  \n",
       "10              1.00                 0.004390  \n",
       "11               NaN                      NaN  \n",
       "12              1.02                 0.011476  \n",
       "13               NaN                      NaN  \n",
       "14              1.00                 0.004730  \n",
       "15               NaN                      NaN  \n",
       "16              1.02                 0.009581  \n",
       "17               NaN                      NaN  \n",
       "18              1.00                 0.003377  \n",
       "19               NaN                      NaN  \n",
       "20              1.02                 0.007600  \n",
       "21               NaN                      NaN  \n",
       "22              1.00                 0.001645  \n",
       "\n",
       "[23 rows x 263 columns]"
      ]
     },
     "execution_count": 40,
     "metadata": {},
     "output_type": "execute_result"
    }
   ],
   "source": [
    "df = to_pandas_replacement(sequence)\n",
    "df"
   ]
  },
  {
   "cell_type": "markdown",
   "id": "3f111ed89ae21bdd",
   "metadata": {
    "collapsed": false,
    "jupyter": {
     "outputs_hidden": false
    }
   },
   "source": [
    "Nun nutzen wir das Plot-Paket `plotly` um unsere Ergebnisse in einem Diagramm anzuzeigen. Es können auch andere Titelnamen gewählt werden aus der vorherigen Tabelle. Dazu ist der Text nach `y=df[` zu ersetzen."
   ]
  },
  {
   "cell_type": "code",
   "execution_count": 41,
   "id": "1245a3d4c954e519",
   "metadata": {
    "ExecuteTime": {
     "end_time": "2025-01-14T10:18:21.906656Z",
     "start_time": "2025-01-14T10:18:21.898350Z"
    }
   },
   "outputs": [
    {
     "data": {
      "application/vnd.plotly.v1+json": {
       "config": {
        "plotlyServerURL": "https://plot.ly"
       },
       "data": [
        {
         "name": "temperature_in",
         "type": "scatter",
         "x": [
          "Oval V",
          "Transport 5",
          "Quadrat VI",
          "Transport 6",
          "Oval VII",
          "Transport 7",
          "Quadrat VIII",
          "Transport 8",
          "Oval IX",
          "Transport 9",
          "Quadrat X",
          "Transport 10",
          "Oval XI",
          "Transport 11",
          "Quadrat XII",
          "Transport 12",
          "Oval XIII",
          "Transport 13",
          "Quadrat XIV",
          "Transport 14",
          "Oval XV",
          "Transport 15",
          "Fertigrund XVIa"
         ],
         "y": [
          1313.15,
          1327.3377992586547,
          1302.7307044758531,
          1312.5776018681854,
          1288.8931153345754,
          1302.3456977641786,
          1271.974175738366,
          1283.3293001359887,
          1254.6240989431456,
          1271.19461179991,
          1234.78433336896,
          1257.139664289025,
          1217.96648492756,
          1232.694236063487,
          1191.3211604660564,
          1207.4967353323186,
          1167.5305912321453,
          1185.179212347705,
          1140.8644664586861,
          1162.578443428933,
          1119.350736502527,
          1157.0771688773614,
          1101.155229831505
         ]
        }
       ],
       "layout": {
        "height": 500,
        "template": {
         "data": {
          "bar": [
           {
            "error_x": {
             "color": "rgb(36,36,36)"
            },
            "error_y": {
             "color": "rgb(36,36,36)"
            },
            "marker": {
             "line": {
              "color": "white",
              "width": 0.5
             },
             "pattern": {
              "fillmode": "overlay",
              "size": 10,
              "solidity": 0.2
             }
            },
            "type": "bar"
           }
          ],
          "barpolar": [
           {
            "marker": {
             "line": {
              "color": "white",
              "width": 0.5
             },
             "pattern": {
              "fillmode": "overlay",
              "size": 10,
              "solidity": 0.2
             }
            },
            "type": "barpolar"
           }
          ],
          "carpet": [
           {
            "aaxis": {
             "endlinecolor": "rgb(36,36,36)",
             "gridcolor": "white",
             "linecolor": "white",
             "minorgridcolor": "white",
             "startlinecolor": "rgb(36,36,36)"
            },
            "baxis": {
             "endlinecolor": "rgb(36,36,36)",
             "gridcolor": "white",
             "linecolor": "white",
             "minorgridcolor": "white",
             "startlinecolor": "rgb(36,36,36)"
            },
            "type": "carpet"
           }
          ],
          "choropleth": [
           {
            "colorbar": {
             "outlinewidth": 1,
             "tickcolor": "rgb(36,36,36)",
             "ticks": "outside"
            },
            "type": "choropleth"
           }
          ],
          "contour": [
           {
            "colorbar": {
             "outlinewidth": 1,
             "tickcolor": "rgb(36,36,36)",
             "ticks": "outside"
            },
            "colorscale": [
             [
              0,
              "#440154"
             ],
             [
              0.1111111111111111,
              "#482878"
             ],
             [
              0.2222222222222222,
              "#3e4989"
             ],
             [
              0.3333333333333333,
              "#31688e"
             ],
             [
              0.4444444444444444,
              "#26828e"
             ],
             [
              0.5555555555555556,
              "#1f9e89"
             ],
             [
              0.6666666666666666,
              "#35b779"
             ],
             [
              0.7777777777777778,
              "#6ece58"
             ],
             [
              0.8888888888888888,
              "#b5de2b"
             ],
             [
              1,
              "#fde725"
             ]
            ],
            "type": "contour"
           }
          ],
          "contourcarpet": [
           {
            "colorbar": {
             "outlinewidth": 1,
             "tickcolor": "rgb(36,36,36)",
             "ticks": "outside"
            },
            "type": "contourcarpet"
           }
          ],
          "heatmap": [
           {
            "colorbar": {
             "outlinewidth": 1,
             "tickcolor": "rgb(36,36,36)",
             "ticks": "outside"
            },
            "colorscale": [
             [
              0,
              "#440154"
             ],
             [
              0.1111111111111111,
              "#482878"
             ],
             [
              0.2222222222222222,
              "#3e4989"
             ],
             [
              0.3333333333333333,
              "#31688e"
             ],
             [
              0.4444444444444444,
              "#26828e"
             ],
             [
              0.5555555555555556,
              "#1f9e89"
             ],
             [
              0.6666666666666666,
              "#35b779"
             ],
             [
              0.7777777777777778,
              "#6ece58"
             ],
             [
              0.8888888888888888,
              "#b5de2b"
             ],
             [
              1,
              "#fde725"
             ]
            ],
            "type": "heatmap"
           }
          ],
          "heatmapgl": [
           {
            "colorbar": {
             "outlinewidth": 1,
             "tickcolor": "rgb(36,36,36)",
             "ticks": "outside"
            },
            "colorscale": [
             [
              0,
              "#440154"
             ],
             [
              0.1111111111111111,
              "#482878"
             ],
             [
              0.2222222222222222,
              "#3e4989"
             ],
             [
              0.3333333333333333,
              "#31688e"
             ],
             [
              0.4444444444444444,
              "#26828e"
             ],
             [
              0.5555555555555556,
              "#1f9e89"
             ],
             [
              0.6666666666666666,
              "#35b779"
             ],
             [
              0.7777777777777778,
              "#6ece58"
             ],
             [
              0.8888888888888888,
              "#b5de2b"
             ],
             [
              1,
              "#fde725"
             ]
            ],
            "type": "heatmapgl"
           }
          ],
          "histogram": [
           {
            "marker": {
             "line": {
              "color": "white",
              "width": 0.6
             }
            },
            "type": "histogram"
           }
          ],
          "histogram2d": [
           {
            "colorbar": {
             "outlinewidth": 1,
             "tickcolor": "rgb(36,36,36)",
             "ticks": "outside"
            },
            "colorscale": [
             [
              0,
              "#440154"
             ],
             [
              0.1111111111111111,
              "#482878"
             ],
             [
              0.2222222222222222,
              "#3e4989"
             ],
             [
              0.3333333333333333,
              "#31688e"
             ],
             [
              0.4444444444444444,
              "#26828e"
             ],
             [
              0.5555555555555556,
              "#1f9e89"
             ],
             [
              0.6666666666666666,
              "#35b779"
             ],
             [
              0.7777777777777778,
              "#6ece58"
             ],
             [
              0.8888888888888888,
              "#b5de2b"
             ],
             [
              1,
              "#fde725"
             ]
            ],
            "type": "histogram2d"
           }
          ],
          "histogram2dcontour": [
           {
            "colorbar": {
             "outlinewidth": 1,
             "tickcolor": "rgb(36,36,36)",
             "ticks": "outside"
            },
            "colorscale": [
             [
              0,
              "#440154"
             ],
             [
              0.1111111111111111,
              "#482878"
             ],
             [
              0.2222222222222222,
              "#3e4989"
             ],
             [
              0.3333333333333333,
              "#31688e"
             ],
             [
              0.4444444444444444,
              "#26828e"
             ],
             [
              0.5555555555555556,
              "#1f9e89"
             ],
             [
              0.6666666666666666,
              "#35b779"
             ],
             [
              0.7777777777777778,
              "#6ece58"
             ],
             [
              0.8888888888888888,
              "#b5de2b"
             ],
             [
              1,
              "#fde725"
             ]
            ],
            "type": "histogram2dcontour"
           }
          ],
          "mesh3d": [
           {
            "colorbar": {
             "outlinewidth": 1,
             "tickcolor": "rgb(36,36,36)",
             "ticks": "outside"
            },
            "type": "mesh3d"
           }
          ],
          "parcoords": [
           {
            "line": {
             "colorbar": {
              "outlinewidth": 1,
              "tickcolor": "rgb(36,36,36)",
              "ticks": "outside"
             }
            },
            "type": "parcoords"
           }
          ],
          "pie": [
           {
            "automargin": true,
            "type": "pie"
           }
          ],
          "scatter": [
           {
            "fillpattern": {
             "fillmode": "overlay",
             "size": 10,
             "solidity": 0.2
            },
            "type": "scatter"
           }
          ],
          "scatter3d": [
           {
            "line": {
             "colorbar": {
              "outlinewidth": 1,
              "tickcolor": "rgb(36,36,36)",
              "ticks": "outside"
             }
            },
            "marker": {
             "colorbar": {
              "outlinewidth": 1,
              "tickcolor": "rgb(36,36,36)",
              "ticks": "outside"
             }
            },
            "type": "scatter3d"
           }
          ],
          "scattercarpet": [
           {
            "marker": {
             "colorbar": {
              "outlinewidth": 1,
              "tickcolor": "rgb(36,36,36)",
              "ticks": "outside"
             }
            },
            "type": "scattercarpet"
           }
          ],
          "scattergeo": [
           {
            "marker": {
             "colorbar": {
              "outlinewidth": 1,
              "tickcolor": "rgb(36,36,36)",
              "ticks": "outside"
             }
            },
            "type": "scattergeo"
           }
          ],
          "scattergl": [
           {
            "marker": {
             "colorbar": {
              "outlinewidth": 1,
              "tickcolor": "rgb(36,36,36)",
              "ticks": "outside"
             }
            },
            "type": "scattergl"
           }
          ],
          "scattermapbox": [
           {
            "marker": {
             "colorbar": {
              "outlinewidth": 1,
              "tickcolor": "rgb(36,36,36)",
              "ticks": "outside"
             }
            },
            "type": "scattermapbox"
           }
          ],
          "scatterpolar": [
           {
            "marker": {
             "colorbar": {
              "outlinewidth": 1,
              "tickcolor": "rgb(36,36,36)",
              "ticks": "outside"
             }
            },
            "type": "scatterpolar"
           }
          ],
          "scatterpolargl": [
           {
            "marker": {
             "colorbar": {
              "outlinewidth": 1,
              "tickcolor": "rgb(36,36,36)",
              "ticks": "outside"
             }
            },
            "type": "scatterpolargl"
           }
          ],
          "scatterternary": [
           {
            "marker": {
             "colorbar": {
              "outlinewidth": 1,
              "tickcolor": "rgb(36,36,36)",
              "ticks": "outside"
             }
            },
            "type": "scatterternary"
           }
          ],
          "surface": [
           {
            "colorbar": {
             "outlinewidth": 1,
             "tickcolor": "rgb(36,36,36)",
             "ticks": "outside"
            },
            "colorscale": [
             [
              0,
              "#440154"
             ],
             [
              0.1111111111111111,
              "#482878"
             ],
             [
              0.2222222222222222,
              "#3e4989"
             ],
             [
              0.3333333333333333,
              "#31688e"
             ],
             [
              0.4444444444444444,
              "#26828e"
             ],
             [
              0.5555555555555556,
              "#1f9e89"
             ],
             [
              0.6666666666666666,
              "#35b779"
             ],
             [
              0.7777777777777778,
              "#6ece58"
             ],
             [
              0.8888888888888888,
              "#b5de2b"
             ],
             [
              1,
              "#fde725"
             ]
            ],
            "type": "surface"
           }
          ],
          "table": [
           {
            "cells": {
             "fill": {
              "color": "rgb(237,237,237)"
             },
             "line": {
              "color": "white"
             }
            },
            "header": {
             "fill": {
              "color": "rgb(217,217,217)"
             },
             "line": {
              "color": "white"
             }
            },
            "type": "table"
           }
          ]
         },
         "layout": {
          "annotationdefaults": {
           "arrowhead": 0,
           "arrowwidth": 1
          },
          "autotypenumbers": "strict",
          "coloraxis": {
           "colorbar": {
            "outlinewidth": 1,
            "tickcolor": "rgb(36,36,36)",
            "ticks": "outside"
           }
          },
          "colorscale": {
           "diverging": [
            [
             0,
             "rgb(103,0,31)"
            ],
            [
             0.1,
             "rgb(178,24,43)"
            ],
            [
             0.2,
             "rgb(214,96,77)"
            ],
            [
             0.3,
             "rgb(244,165,130)"
            ],
            [
             0.4,
             "rgb(253,219,199)"
            ],
            [
             0.5,
             "rgb(247,247,247)"
            ],
            [
             0.6,
             "rgb(209,229,240)"
            ],
            [
             0.7,
             "rgb(146,197,222)"
            ],
            [
             0.8,
             "rgb(67,147,195)"
            ],
            [
             0.9,
             "rgb(33,102,172)"
            ],
            [
             1,
             "rgb(5,48,97)"
            ]
           ],
           "sequential": [
            [
             0,
             "#440154"
            ],
            [
             0.1111111111111111,
             "#482878"
            ],
            [
             0.2222222222222222,
             "#3e4989"
            ],
            [
             0.3333333333333333,
             "#31688e"
            ],
            [
             0.4444444444444444,
             "#26828e"
            ],
            [
             0.5555555555555556,
             "#1f9e89"
            ],
            [
             0.6666666666666666,
             "#35b779"
            ],
            [
             0.7777777777777778,
             "#6ece58"
            ],
            [
             0.8888888888888888,
             "#b5de2b"
            ],
            [
             1,
             "#fde725"
            ]
           ],
           "sequentialminus": [
            [
             0,
             "#440154"
            ],
            [
             0.1111111111111111,
             "#482878"
            ],
            [
             0.2222222222222222,
             "#3e4989"
            ],
            [
             0.3333333333333333,
             "#31688e"
            ],
            [
             0.4444444444444444,
             "#26828e"
            ],
            [
             0.5555555555555556,
             "#1f9e89"
            ],
            [
             0.6666666666666666,
             "#35b779"
            ],
            [
             0.7777777777777778,
             "#6ece58"
            ],
            [
             0.8888888888888888,
             "#b5de2b"
            ],
            [
             1,
             "#fde725"
            ]
           ]
          },
          "colorway": [
           "#1F77B4",
           "#FF7F0E",
           "#2CA02C",
           "#D62728",
           "#9467BD",
           "#8C564B",
           "#E377C2",
           "#7F7F7F",
           "#BCBD22",
           "#17BECF"
          ],
          "font": {
           "color": "rgb(36,36,36)"
          },
          "geo": {
           "bgcolor": "white",
           "lakecolor": "white",
           "landcolor": "white",
           "showlakes": true,
           "showland": true,
           "subunitcolor": "white"
          },
          "hoverlabel": {
           "align": "left"
          },
          "hovermode": "closest",
          "mapbox": {
           "style": "light"
          },
          "paper_bgcolor": "white",
          "plot_bgcolor": "white",
          "polar": {
           "angularaxis": {
            "gridcolor": "rgb(232,232,232)",
            "linecolor": "rgb(36,36,36)",
            "showgrid": false,
            "showline": true,
            "ticks": "outside"
           },
           "bgcolor": "white",
           "radialaxis": {
            "gridcolor": "rgb(232,232,232)",
            "linecolor": "rgb(36,36,36)",
            "showgrid": false,
            "showline": true,
            "ticks": "outside"
           }
          },
          "scene": {
           "xaxis": {
            "backgroundcolor": "white",
            "gridcolor": "rgb(232,232,232)",
            "gridwidth": 2,
            "linecolor": "rgb(36,36,36)",
            "showbackground": true,
            "showgrid": false,
            "showline": true,
            "ticks": "outside",
            "zeroline": false,
            "zerolinecolor": "rgb(36,36,36)"
           },
           "yaxis": {
            "backgroundcolor": "white",
            "gridcolor": "rgb(232,232,232)",
            "gridwidth": 2,
            "linecolor": "rgb(36,36,36)",
            "showbackground": true,
            "showgrid": false,
            "showline": true,
            "ticks": "outside",
            "zeroline": false,
            "zerolinecolor": "rgb(36,36,36)"
           },
           "zaxis": {
            "backgroundcolor": "white",
            "gridcolor": "rgb(232,232,232)",
            "gridwidth": 2,
            "linecolor": "rgb(36,36,36)",
            "showbackground": true,
            "showgrid": false,
            "showline": true,
            "ticks": "outside",
            "zeroline": false,
            "zerolinecolor": "rgb(36,36,36)"
           }
          },
          "shapedefaults": {
           "fillcolor": "black",
           "line": {
            "width": 0
           },
           "opacity": 0.3
          },
          "ternary": {
           "aaxis": {
            "gridcolor": "rgb(232,232,232)",
            "linecolor": "rgb(36,36,36)",
            "showgrid": false,
            "showline": true,
            "ticks": "outside"
           },
           "baxis": {
            "gridcolor": "rgb(232,232,232)",
            "linecolor": "rgb(36,36,36)",
            "showgrid": false,
            "showline": true,
            "ticks": "outside"
           },
           "bgcolor": "white",
           "caxis": {
            "gridcolor": "rgb(232,232,232)",
            "linecolor": "rgb(36,36,36)",
            "showgrid": false,
            "showline": true,
            "ticks": "outside"
           }
          },
          "title": {
           "x": 0.05
          },
          "xaxis": {
           "automargin": true,
           "gridcolor": "rgb(232,232,232)",
           "linecolor": "rgb(36,36,36)",
           "showgrid": false,
           "showline": true,
           "ticks": "outside",
           "title": {
            "standoff": 15
           },
           "zeroline": false,
           "zerolinecolor": "rgb(36,36,36)"
          },
          "yaxis": {
           "automargin": true,
           "gridcolor": "rgb(232,232,232)",
           "linecolor": "rgb(36,36,36)",
           "showgrid": false,
           "showline": true,
           "ticks": "outside",
           "title": {
            "standoff": 15
           },
           "zeroline": false,
           "zerolinecolor": "rgb(36,36,36)"
          }
         }
        },
        "width": 800
       }
      }
     },
     "metadata": {},
     "output_type": "display_data"
    }
   ],
   "source": [
    "fig = go.Figure()\n",
    "fig.add_trace(go.Scatter(x=df[\"label\"], y=df[\"in_profile_temperature\"], name=\"temperature_in\"))\n",
    "fig.update_layout(width=800, height=500)\n",
    "fig.show()"
   ]
  },
  {
   "cell_type": "markdown",
   "id": "bc556589595a52a8",
   "metadata": {
    "collapsed": false,
    "jupyter": {
     "outputs_hidden": false
    }
   },
   "source": [
    "Hier extrahieren wir alle Walzstiche aus der Stichfolge, da Transporte nicht bestimmte Werte, wie die `roll force` besitzen."
   ]
  },
  {
   "cell_type": "code",
   "execution_count": 42,
   "id": "907be6fdd5109f2f",
   "metadata": {
    "ExecuteTime": {
     "end_time": "2025-01-14T10:18:22.067473Z",
     "start_time": "2025-01-14T10:18:21.907663Z"
    }
   },
   "outputs": [
    {
     "data": {
      "text/html": [
       "<div>\n",
       "<style scoped>\n",
       "    .dataframe tbody tr th:only-of-type {\n",
       "        vertical-align: middle;\n",
       "    }\n",
       "\n",
       "    .dataframe tbody tr th {\n",
       "        vertical-align: top;\n",
       "    }\n",
       "\n",
       "    .dataframe thead th {\n",
       "        text-align: right;\n",
       "    }\n",
       "</style>\n",
       "<table border=\"1\" class=\"dataframe\">\n",
       "  <thead>\n",
       "    <tr style=\"text-align: right;\">\n",
       "      <th></th>\n",
       "      <th>abs_draught</th>\n",
       "      <th>back_tension</th>\n",
       "      <th>bite_angle</th>\n",
       "      <th>classifiers</th>\n",
       "      <th>contact_area</th>\n",
       "      <th>contour_lines_coords</th>\n",
       "      <th>contour_lines_height</th>\n",
       "      <th>contour_lines_length</th>\n",
       "      <th>contour_lines_width</th>\n",
       "      <th>contour_lines_x</th>\n",
       "      <th>...</th>\n",
       "      <th>volume</th>\n",
       "      <th>wusatowski_exponent</th>\n",
       "      <th>wusatowski_friction_coefficient</th>\n",
       "      <th>wusatowski_material_coefficient</th>\n",
       "      <th>wusatowski_temperature_coefficient</th>\n",
       "      <th>wusatowski_velocity_coefficient</th>\n",
       "      <th>zouhar_contact_c1</th>\n",
       "      <th>zouhar_contact_c2</th>\n",
       "      <th>zouhar_contact_c3</th>\n",
       "      <th>zouhar_contact_in_width</th>\n",
       "    </tr>\n",
       "  </thead>\n",
       "  <tbody>\n",
       "    <tr>\n",
       "      <th>0</th>\n",
       "      <td>-0.013732</td>\n",
       "      <td>0</td>\n",
       "      <td>0.347499</td>\n",
       "      <td>[circular_oval, symmetric, oval, generic_elong...</td>\n",
       "      <td>0.003680</td>\n",
       "      <td>[[-0.03583173090990724, 0.0016562598214300798]...</td>\n",
       "      <td>0.017813</td>\n",
       "      <td>0.148619</td>\n",
       "      <td>0.071663</td>\n",
       "      <td>[-0.03583173090990724, -0.026070817018267762, ...</td>\n",
       "      <td>...</td>\n",
       "      <td>3.659109e-05</td>\n",
       "      <td>0.446932</td>\n",
       "      <td>1</td>\n",
       "      <td>1</td>\n",
       "      <td>1</td>\n",
       "      <td>1.014367</td>\n",
       "      <td>0.82</td>\n",
       "      <td>0.2</td>\n",
       "      <td>1.02</td>\n",
       "      <td>0.030476</td>\n",
       "    </tr>\n",
       "    <tr>\n",
       "      <th>1</th>\n",
       "      <td>-0.011649</td>\n",
       "      <td>0</td>\n",
       "      <td>0.280793</td>\n",
       "      <td>[diamond, square, generic_elongation, symmetric]</td>\n",
       "      <td>0.001352</td>\n",
       "      <td>[[-0.023210037227734376, 0.0014999999999999996...</td>\n",
       "      <td>0.029010</td>\n",
       "      <td>0.112508</td>\n",
       "      <td>0.046420</td>\n",
       "      <td>[-0.023210037227734376, -0.017282037227734377,...</td>\n",
       "      <td>...</td>\n",
       "      <td>2.139694e-05</td>\n",
       "      <td>0.647181</td>\n",
       "      <td>1</td>\n",
       "      <td>1</td>\n",
       "      <td>1</td>\n",
       "      <td>1.000998</td>\n",
       "      <td>1.00</td>\n",
       "      <td>0.1</td>\n",
       "      <td>1.00</td>\n",
       "      <td>0.007923</td>\n",
       "    </tr>\n",
       "    <tr>\n",
       "      <th>2</th>\n",
       "      <td>-0.008682</td>\n",
       "      <td>0</td>\n",
       "      <td>0.300933</td>\n",
       "      <td>[circular_oval, symmetric, oval, generic_elong...</td>\n",
       "      <td>0.002432</td>\n",
       "      <td>[[-0.026510212098303156, 0.0016194235007149268...</td>\n",
       "      <td>0.013339</td>\n",
       "      <td>0.109488</td>\n",
       "      <td>0.053020</td>\n",
       "      <td>[-0.026510212098303156, -0.019455012207654873,...</td>\n",
       "      <td>...</td>\n",
       "      <td>1.754602e-05</td>\n",
       "      <td>0.490090</td>\n",
       "      <td>1</td>\n",
       "      <td>1</td>\n",
       "      <td>1</td>\n",
       "      <td>1.010285</td>\n",
       "      <td>0.82</td>\n",
       "      <td>0.2</td>\n",
       "      <td>1.02</td>\n",
       "      <td>0.023019</td>\n",
       "    </tr>\n",
       "    <tr>\n",
       "      <th>3</th>\n",
       "      <td>-0.008563</td>\n",
       "      <td>0</td>\n",
       "      <td>0.237338</td>\n",
       "      <td>[diamond, square, generic_elongation, symmetric]</td>\n",
       "      <td>0.000887</td>\n",
       "      <td>[[-0.01712580662215131, 0.0014999999999999996]...</td>\n",
       "      <td>0.021781</td>\n",
       "      <td>0.082552</td>\n",
       "      <td>0.034252</td>\n",
       "      <td>[-0.01712580662215131, -0.01281780662215131, -...</td>\n",
       "      <td>...</td>\n",
       "      <td>1.047274e-05</td>\n",
       "      <td>0.691330</td>\n",
       "      <td>1</td>\n",
       "      <td>1</td>\n",
       "      <td>1</td>\n",
       "      <td>1.000481</td>\n",
       "      <td>1.00</td>\n",
       "      <td>0.1</td>\n",
       "      <td>1.00</td>\n",
       "      <td>0.005922</td>\n",
       "    </tr>\n",
       "    <tr>\n",
       "      <th>4</th>\n",
       "      <td>-0.006529</td>\n",
       "      <td>0</td>\n",
       "      <td>0.270077</td>\n",
       "      <td>[circular_oval, symmetric, oval, generic_elong...</td>\n",
       "      <td>0.001537</td>\n",
       "      <td>[[-0.02189104061731336, 0.0005887238273056834]...</td>\n",
       "      <td>0.010037</td>\n",
       "      <td>0.090763</td>\n",
       "      <td>0.043782</td>\n",
       "      <td>[-0.02189104061731336, -0.016107920412020915, ...</td>\n",
       "      <td>...</td>\n",
       "      <td>8.316060e-06</td>\n",
       "      <td>0.528938</td>\n",
       "      <td>1</td>\n",
       "      <td>1</td>\n",
       "      <td>1</td>\n",
       "      <td>1.010201</td>\n",
       "      <td>0.82</td>\n",
       "      <td>0.2</td>\n",
       "      <td>1.02</td>\n",
       "      <td>0.017307</td>\n",
       "    </tr>\n",
       "    <tr>\n",
       "      <th>5</th>\n",
       "      <td>-0.008323</td>\n",
       "      <td>0</td>\n",
       "      <td>0.245759</td>\n",
       "      <td>[diamond, square, generic_elongation, symmetric]</td>\n",
       "      <td>0.000654</td>\n",
       "      <td>[[-0.01218242712474619, 4.999999999999796e-06]...</td>\n",
       "      <td>0.015402</td>\n",
       "      <td>0.060964</td>\n",
       "      <td>0.024365</td>\n",
       "      <td>[-0.01218242712474619, -0.00893842712474619, -...</td>\n",
       "      <td>...</td>\n",
       "      <td>4.832466e-06</td>\n",
       "      <td>0.708185</td>\n",
       "      <td>1</td>\n",
       "      <td>1</td>\n",
       "      <td>1</td>\n",
       "      <td>1.010437</td>\n",
       "      <td>1.00</td>\n",
       "      <td>0.1</td>\n",
       "      <td>1.00</td>\n",
       "      <td>0.004390</td>\n",
       "    </tr>\n",
       "    <tr>\n",
       "      <th>6</th>\n",
       "      <td>-0.003872</td>\n",
       "      <td>0</td>\n",
       "      <td>0.192800</td>\n",
       "      <td>[circular_oval, symmetric, oval, generic_elong...</td>\n",
       "      <td>0.000716</td>\n",
       "      <td>[[-0.01644988123876536, 0.000547777667314624],...</td>\n",
       "      <td>0.008156</td>\n",
       "      <td>0.068468</td>\n",
       "      <td>0.032900</td>\n",
       "      <td>[-0.01644988123876536, -0.012244145539807993, ...</td>\n",
       "      <td>...</td>\n",
       "      <td>3.134184e-06</td>\n",
       "      <td>0.616047</td>\n",
       "      <td>1</td>\n",
       "      <td>1</td>\n",
       "      <td>1</td>\n",
       "      <td>1.002191</td>\n",
       "      <td>0.82</td>\n",
       "      <td>0.2</td>\n",
       "      <td>1.02</td>\n",
       "      <td>0.011476</td>\n",
       "    </tr>\n",
       "    <tr>\n",
       "      <th>7</th>\n",
       "      <td>-0.004004</td>\n",
       "      <td>0</td>\n",
       "      <td>0.151850</td>\n",
       "      <td>[diamond, square, generic_elongation, symmetric]</td>\n",
       "      <td>0.000319</td>\n",
       "      <td>[[-0.01114724344186865, 4.999999999999796e-06]...</td>\n",
       "      <td>0.011791</td>\n",
       "      <td>0.053250</td>\n",
       "      <td>0.022294</td>\n",
       "      <td>[-0.01114724344186865, -0.00843124344186865, -...</td>\n",
       "      <td>...</td>\n",
       "      <td>1.846309e-06</td>\n",
       "      <td>0.717887</td>\n",
       "      <td>1</td>\n",
       "      <td>1</td>\n",
       "      <td>1</td>\n",
       "      <td>0.997912</td>\n",
       "      <td>1.00</td>\n",
       "      <td>0.1</td>\n",
       "      <td>1.00</td>\n",
       "      <td>0.004730</td>\n",
       "    </tr>\n",
       "    <tr>\n",
       "      <th>8</th>\n",
       "      <td>-0.002963</td>\n",
       "      <td>0</td>\n",
       "      <td>0.184248</td>\n",
       "      <td>[circular_oval, symmetric, oval, generic_elong...</td>\n",
       "      <td>0.000576</td>\n",
       "      <td>[[-0.012788310082940919, 0.000546315387194217]...</td>\n",
       "      <td>0.006493</td>\n",
       "      <td>0.053158</td>\n",
       "      <td>0.025577</td>\n",
       "      <td>[-0.012788310082940919, -0.009538867857350785,...</td>\n",
       "      <td>...</td>\n",
       "      <td>1.961308e-06</td>\n",
       "      <td>0.636729</td>\n",
       "      <td>1</td>\n",
       "      <td>1</td>\n",
       "      <td>1</td>\n",
       "      <td>1.001609</td>\n",
       "      <td>0.82</td>\n",
       "      <td>0.2</td>\n",
       "      <td>1.02</td>\n",
       "      <td>0.009581</td>\n",
       "    </tr>\n",
       "    <tr>\n",
       "      <th>9</th>\n",
       "      <td>-0.003478</td>\n",
       "      <td>0</td>\n",
       "      <td>0.149784</td>\n",
       "      <td>[diamond, square, generic_elongation, symmetric]</td>\n",
       "      <td>0.000252</td>\n",
       "      <td>[[-0.009003151141499629, 4.999999999999796e-06...</td>\n",
       "      <td>0.009422</td>\n",
       "      <td>0.042917</td>\n",
       "      <td>0.018006</td>\n",
       "      <td>[-0.009003151141499629, -0.0068571511414996286...</td>\n",
       "      <td>...</td>\n",
       "      <td>1.186404e-06</td>\n",
       "      <td>0.750014</td>\n",
       "      <td>1</td>\n",
       "      <td>1</td>\n",
       "      <td>1</td>\n",
       "      <td>0.999703</td>\n",
       "      <td>1.00</td>\n",
       "      <td>0.1</td>\n",
       "      <td>1.00</td>\n",
       "      <td>0.003377</td>\n",
       "    </tr>\n",
       "    <tr>\n",
       "      <th>10</th>\n",
       "      <td>-0.003136</td>\n",
       "      <td>0</td>\n",
       "      <td>0.180148</td>\n",
       "      <td>[circular_oval, symmetric, oval, generic_elong...</td>\n",
       "      <td>0.000462</td>\n",
       "      <td>[[-0.01086772137273662, 5.308413018657061e-05]...</td>\n",
       "      <td>0.004426</td>\n",
       "      <td>0.044990</td>\n",
       "      <td>0.021735</td>\n",
       "      <td>[-0.01086772137273662, -0.008068605827526835, ...</td>\n",
       "      <td>...</td>\n",
       "      <td>1.089953e-06</td>\n",
       "      <td>0.665021</td>\n",
       "      <td>1</td>\n",
       "      <td>1</td>\n",
       "      <td>1</td>\n",
       "      <td>1.012025</td>\n",
       "      <td>0.82</td>\n",
       "      <td>0.2</td>\n",
       "      <td>1.02</td>\n",
       "      <td>0.007600</td>\n",
       "    </tr>\n",
       "    <tr>\n",
       "      <th>11</th>\n",
       "      <td>-0.002849</td>\n",
       "      <td>0</td>\n",
       "      <td>0.158293</td>\n",
       "      <td>[symmetric, generic_elongation, round]</td>\n",
       "      <td>0.000170</td>\n",
       "      <td>[[-0.006723308428428389, 0.0001749999999999998...</td>\n",
       "      <td>0.007650</td>\n",
       "      <td>0.033254</td>\n",
       "      <td>0.013447</td>\n",
       "      <td>[-0.006723308428428389, -0.005108571228827097,...</td>\n",
       "      <td>...</td>\n",
       "      <td>9.078239e-07</td>\n",
       "      <td>0.822760</td>\n",
       "      <td>1</td>\n",
       "      <td>1</td>\n",
       "      <td>1</td>\n",
       "      <td>0.995907</td>\n",
       "      <td>1.00</td>\n",
       "      <td>0.0</td>\n",
       "      <td>1.00</td>\n",
       "      <td>0.001645</td>\n",
       "    </tr>\n",
       "  </tbody>\n",
       "</table>\n",
       "<p>12 rows × 257 columns</p>\n",
       "</div>"
      ],
      "text/plain": [
       "    abs_draught  back_tension  bite_angle  \\\n",
       "0     -0.013732             0    0.347499   \n",
       "1     -0.011649             0    0.280793   \n",
       "2     -0.008682             0    0.300933   \n",
       "3     -0.008563             0    0.237338   \n",
       "4     -0.006529             0    0.270077   \n",
       "5     -0.008323             0    0.245759   \n",
       "6     -0.003872             0    0.192800   \n",
       "7     -0.004004             0    0.151850   \n",
       "8     -0.002963             0    0.184248   \n",
       "9     -0.003478             0    0.149784   \n",
       "10    -0.003136             0    0.180148   \n",
       "11    -0.002849             0    0.158293   \n",
       "\n",
       "                                          classifiers  contact_area  \\\n",
       "0   [circular_oval, symmetric, oval, generic_elong...      0.003680   \n",
       "1    [diamond, square, generic_elongation, symmetric]      0.001352   \n",
       "2   [circular_oval, symmetric, oval, generic_elong...      0.002432   \n",
       "3    [diamond, square, generic_elongation, symmetric]      0.000887   \n",
       "4   [circular_oval, symmetric, oval, generic_elong...      0.001537   \n",
       "5    [diamond, square, generic_elongation, symmetric]      0.000654   \n",
       "6   [circular_oval, symmetric, oval, generic_elong...      0.000716   \n",
       "7    [diamond, square, generic_elongation, symmetric]      0.000319   \n",
       "8   [circular_oval, symmetric, oval, generic_elong...      0.000576   \n",
       "9    [diamond, square, generic_elongation, symmetric]      0.000252   \n",
       "10  [circular_oval, symmetric, oval, generic_elong...      0.000462   \n",
       "11             [symmetric, generic_elongation, round]      0.000170   \n",
       "\n",
       "                                 contour_lines_coords  contour_lines_height  \\\n",
       "0   [[-0.03583173090990724, 0.0016562598214300798]...              0.017813   \n",
       "1   [[-0.023210037227734376, 0.0014999999999999996...              0.029010   \n",
       "2   [[-0.026510212098303156, 0.0016194235007149268...              0.013339   \n",
       "3   [[-0.01712580662215131, 0.0014999999999999996]...              0.021781   \n",
       "4   [[-0.02189104061731336, 0.0005887238273056834]...              0.010037   \n",
       "5   [[-0.01218242712474619, 4.999999999999796e-06]...              0.015402   \n",
       "6   [[-0.01644988123876536, 0.000547777667314624],...              0.008156   \n",
       "7   [[-0.01114724344186865, 4.999999999999796e-06]...              0.011791   \n",
       "8   [[-0.012788310082940919, 0.000546315387194217]...              0.006493   \n",
       "9   [[-0.009003151141499629, 4.999999999999796e-06...              0.009422   \n",
       "10  [[-0.01086772137273662, 5.308413018657061e-05]...              0.004426   \n",
       "11  [[-0.006723308428428389, 0.0001749999999999998...              0.007650   \n",
       "\n",
       "    contour_lines_length  contour_lines_width  \\\n",
       "0               0.148619             0.071663   \n",
       "1               0.112508             0.046420   \n",
       "2               0.109488             0.053020   \n",
       "3               0.082552             0.034252   \n",
       "4               0.090763             0.043782   \n",
       "5               0.060964             0.024365   \n",
       "6               0.068468             0.032900   \n",
       "7               0.053250             0.022294   \n",
       "8               0.053158             0.025577   \n",
       "9               0.042917             0.018006   \n",
       "10              0.044990             0.021735   \n",
       "11              0.033254             0.013447   \n",
       "\n",
       "                                      contour_lines_x  ...        volume  \\\n",
       "0   [-0.03583173090990724, -0.026070817018267762, ...  ...  3.659109e-05   \n",
       "1   [-0.023210037227734376, -0.017282037227734377,...  ...  2.139694e-05   \n",
       "2   [-0.026510212098303156, -0.019455012207654873,...  ...  1.754602e-05   \n",
       "3   [-0.01712580662215131, -0.01281780662215131, -...  ...  1.047274e-05   \n",
       "4   [-0.02189104061731336, -0.016107920412020915, ...  ...  8.316060e-06   \n",
       "5   [-0.01218242712474619, -0.00893842712474619, -...  ...  4.832466e-06   \n",
       "6   [-0.01644988123876536, -0.012244145539807993, ...  ...  3.134184e-06   \n",
       "7   [-0.01114724344186865, -0.00843124344186865, -...  ...  1.846309e-06   \n",
       "8   [-0.012788310082940919, -0.009538867857350785,...  ...  1.961308e-06   \n",
       "9   [-0.009003151141499629, -0.0068571511414996286...  ...  1.186404e-06   \n",
       "10  [-0.01086772137273662, -0.008068605827526835, ...  ...  1.089953e-06   \n",
       "11  [-0.006723308428428389, -0.005108571228827097,...  ...  9.078239e-07   \n",
       "\n",
       "   wusatowski_exponent  wusatowski_friction_coefficient  \\\n",
       "0             0.446932                                1   \n",
       "1             0.647181                                1   \n",
       "2             0.490090                                1   \n",
       "3             0.691330                                1   \n",
       "4             0.528938                                1   \n",
       "5             0.708185                                1   \n",
       "6             0.616047                                1   \n",
       "7             0.717887                                1   \n",
       "8             0.636729                                1   \n",
       "9             0.750014                                1   \n",
       "10            0.665021                                1   \n",
       "11            0.822760                                1   \n",
       "\n",
       "    wusatowski_material_coefficient  wusatowski_temperature_coefficient  \\\n",
       "0                                 1                                   1   \n",
       "1                                 1                                   1   \n",
       "2                                 1                                   1   \n",
       "3                                 1                                   1   \n",
       "4                                 1                                   1   \n",
       "5                                 1                                   1   \n",
       "6                                 1                                   1   \n",
       "7                                 1                                   1   \n",
       "8                                 1                                   1   \n",
       "9                                 1                                   1   \n",
       "10                                1                                   1   \n",
       "11                                1                                   1   \n",
       "\n",
       "    wusatowski_velocity_coefficient  zouhar_contact_c1 zouhar_contact_c2  \\\n",
       "0                          1.014367               0.82               0.2   \n",
       "1                          1.000998               1.00               0.1   \n",
       "2                          1.010285               0.82               0.2   \n",
       "3                          1.000481               1.00               0.1   \n",
       "4                          1.010201               0.82               0.2   \n",
       "5                          1.010437               1.00               0.1   \n",
       "6                          1.002191               0.82               0.2   \n",
       "7                          0.997912               1.00               0.1   \n",
       "8                          1.001609               0.82               0.2   \n",
       "9                          0.999703               1.00               0.1   \n",
       "10                         1.012025               0.82               0.2   \n",
       "11                         0.995907               1.00               0.0   \n",
       "\n",
       "    zouhar_contact_c3  zouhar_contact_in_width  \n",
       "0                1.02                 0.030476  \n",
       "1                1.00                 0.007923  \n",
       "2                1.02                 0.023019  \n",
       "3                1.00                 0.005922  \n",
       "4                1.02                 0.017307  \n",
       "5                1.00                 0.004390  \n",
       "6                1.02                 0.011476  \n",
       "7                1.00                 0.004730  \n",
       "8                1.02                 0.009581  \n",
       "9                1.00                 0.003377  \n",
       "10               1.02                 0.007600  \n",
       "11               1.00                 0.001645  \n",
       "\n",
       "[12 rows x 257 columns]"
      ]
     },
     "execution_count": 42,
     "metadata": {},
     "output_type": "execute_result"
    }
   ],
   "source": [
    "df_roll_passes = to_pandas_replacement(sequence.roll_passes)\n",
    "df_roll_passes"
   ]
  },
  {
   "cell_type": "markdown",
   "id": "9555bd3cef60b6a8",
   "metadata": {
    "collapsed": false,
    "jupyter": {
     "outputs_hidden": false
    }
   },
   "source": [
    "Mit dieser Funktion können Sie alle Schlüssel ausgeben, die Sie für den Zugriff auf Werte verwenden können, wenn Sie sich nicht sicher sind, wie diese Schlüssel benannt sind. Sie ist standardmäßig deaktiviert. Um sie zu verwenden, entfernen Sie das `#`."
   ]
  },
  {
   "cell_type": "code",
   "execution_count": 43,
   "id": "fc49fae2-7c05-453c-b208-aae286b000d7",
   "metadata": {
    "ExecuteTime": {
     "end_time": "2025-01-14T10:18:22.070875Z",
     "start_time": "2025-01-14T10:18:22.067473Z"
    }
   },
   "outputs": [],
   "source": [
    "# for key in df_roll_passes.keys():\n",
    "#    print(key)"
   ]
  },
  {
   "cell_type": "markdown",
   "id": "37727158472598aa",
   "metadata": {
    "collapsed": false,
    "jupyter": {
     "outputs_hidden": false
    }
   },
   "source": [
    "Im Folgenden werden die Walzkräfte als Balkendiagramm dargestellt. Auch hier können Sie die angezeigten Werte ändern, indem Sie den Text hinter `y=` ändern."
   ]
  },
  {
   "cell_type": "code",
   "execution_count": 44,
   "id": "491d9d1ad6954930",
   "metadata": {
    "ExecuteTime": {
     "end_time": "2025-01-14T10:18:22.112091Z",
     "start_time": "2025-01-14T10:18:22.070875Z"
    }
   },
   "outputs": [
    {
     "data": {
      "application/vnd.plotly.v1+json": {
       "config": {
        "plotlyServerURL": "https://plot.ly"
       },
       "data": [
        {
         "alignmentgroup": "True",
         "hovertemplate": "label=%{x}<br>roll_force=%{y}<extra></extra>",
         "legendgroup": "",
         "marker": {
          "color": "#1F77B4",
          "pattern": {
           "shape": ""
          }
         },
         "name": "",
         "offsetgroup": "",
         "orientation": "v",
         "showlegend": false,
         "textposition": "auto",
         "type": "bar",
         "x": [
          "Oval V",
          "Quadrat VI",
          "Oval VII",
          "Quadrat VIII",
          "Oval IX",
          "Quadrat X",
          "Oval XI",
          "Quadrat XII",
          "Oval XIII",
          "Quadrat XIV",
          "Oval XV",
          "Fertigrund XVIa"
         ],
         "xaxis": "x",
         "y": [
          312554.1377388395,
          110872.51121558127,
          238859.21517201638,
          84488.2761417622,
          177459.13250215555,
          76120.17954761106,
          95803.59997481419,
          43766.17627722995,
          92841.83903126986,
          41563.44474067792,
          96183.87217166467,
          29970.67080805042
         ],
         "yaxis": "y"
        }
       ],
       "layout": {
        "barmode": "relative",
        "height": 500,
        "legend": {
         "tracegroupgap": 0
        },
        "margin": {
         "t": 60
        },
        "template": {
         "data": {
          "bar": [
           {
            "error_x": {
             "color": "rgb(36,36,36)"
            },
            "error_y": {
             "color": "rgb(36,36,36)"
            },
            "marker": {
             "line": {
              "color": "white",
              "width": 0.5
             },
             "pattern": {
              "fillmode": "overlay",
              "size": 10,
              "solidity": 0.2
             }
            },
            "type": "bar"
           }
          ],
          "barpolar": [
           {
            "marker": {
             "line": {
              "color": "white",
              "width": 0.5
             },
             "pattern": {
              "fillmode": "overlay",
              "size": 10,
              "solidity": 0.2
             }
            },
            "type": "barpolar"
           }
          ],
          "carpet": [
           {
            "aaxis": {
             "endlinecolor": "rgb(36,36,36)",
             "gridcolor": "white",
             "linecolor": "white",
             "minorgridcolor": "white",
             "startlinecolor": "rgb(36,36,36)"
            },
            "baxis": {
             "endlinecolor": "rgb(36,36,36)",
             "gridcolor": "white",
             "linecolor": "white",
             "minorgridcolor": "white",
             "startlinecolor": "rgb(36,36,36)"
            },
            "type": "carpet"
           }
          ],
          "choropleth": [
           {
            "colorbar": {
             "outlinewidth": 1,
             "tickcolor": "rgb(36,36,36)",
             "ticks": "outside"
            },
            "type": "choropleth"
           }
          ],
          "contour": [
           {
            "colorbar": {
             "outlinewidth": 1,
             "tickcolor": "rgb(36,36,36)",
             "ticks": "outside"
            },
            "colorscale": [
             [
              0,
              "#440154"
             ],
             [
              0.1111111111111111,
              "#482878"
             ],
             [
              0.2222222222222222,
              "#3e4989"
             ],
             [
              0.3333333333333333,
              "#31688e"
             ],
             [
              0.4444444444444444,
              "#26828e"
             ],
             [
              0.5555555555555556,
              "#1f9e89"
             ],
             [
              0.6666666666666666,
              "#35b779"
             ],
             [
              0.7777777777777778,
              "#6ece58"
             ],
             [
              0.8888888888888888,
              "#b5de2b"
             ],
             [
              1,
              "#fde725"
             ]
            ],
            "type": "contour"
           }
          ],
          "contourcarpet": [
           {
            "colorbar": {
             "outlinewidth": 1,
             "tickcolor": "rgb(36,36,36)",
             "ticks": "outside"
            },
            "type": "contourcarpet"
           }
          ],
          "heatmap": [
           {
            "colorbar": {
             "outlinewidth": 1,
             "tickcolor": "rgb(36,36,36)",
             "ticks": "outside"
            },
            "colorscale": [
             [
              0,
              "#440154"
             ],
             [
              0.1111111111111111,
              "#482878"
             ],
             [
              0.2222222222222222,
              "#3e4989"
             ],
             [
              0.3333333333333333,
              "#31688e"
             ],
             [
              0.4444444444444444,
              "#26828e"
             ],
             [
              0.5555555555555556,
              "#1f9e89"
             ],
             [
              0.6666666666666666,
              "#35b779"
             ],
             [
              0.7777777777777778,
              "#6ece58"
             ],
             [
              0.8888888888888888,
              "#b5de2b"
             ],
             [
              1,
              "#fde725"
             ]
            ],
            "type": "heatmap"
           }
          ],
          "heatmapgl": [
           {
            "colorbar": {
             "outlinewidth": 1,
             "tickcolor": "rgb(36,36,36)",
             "ticks": "outside"
            },
            "colorscale": [
             [
              0,
              "#440154"
             ],
             [
              0.1111111111111111,
              "#482878"
             ],
             [
              0.2222222222222222,
              "#3e4989"
             ],
             [
              0.3333333333333333,
              "#31688e"
             ],
             [
              0.4444444444444444,
              "#26828e"
             ],
             [
              0.5555555555555556,
              "#1f9e89"
             ],
             [
              0.6666666666666666,
              "#35b779"
             ],
             [
              0.7777777777777778,
              "#6ece58"
             ],
             [
              0.8888888888888888,
              "#b5de2b"
             ],
             [
              1,
              "#fde725"
             ]
            ],
            "type": "heatmapgl"
           }
          ],
          "histogram": [
           {
            "marker": {
             "line": {
              "color": "white",
              "width": 0.6
             }
            },
            "type": "histogram"
           }
          ],
          "histogram2d": [
           {
            "colorbar": {
             "outlinewidth": 1,
             "tickcolor": "rgb(36,36,36)",
             "ticks": "outside"
            },
            "colorscale": [
             [
              0,
              "#440154"
             ],
             [
              0.1111111111111111,
              "#482878"
             ],
             [
              0.2222222222222222,
              "#3e4989"
             ],
             [
              0.3333333333333333,
              "#31688e"
             ],
             [
              0.4444444444444444,
              "#26828e"
             ],
             [
              0.5555555555555556,
              "#1f9e89"
             ],
             [
              0.6666666666666666,
              "#35b779"
             ],
             [
              0.7777777777777778,
              "#6ece58"
             ],
             [
              0.8888888888888888,
              "#b5de2b"
             ],
             [
              1,
              "#fde725"
             ]
            ],
            "type": "histogram2d"
           }
          ],
          "histogram2dcontour": [
           {
            "colorbar": {
             "outlinewidth": 1,
             "tickcolor": "rgb(36,36,36)",
             "ticks": "outside"
            },
            "colorscale": [
             [
              0,
              "#440154"
             ],
             [
              0.1111111111111111,
              "#482878"
             ],
             [
              0.2222222222222222,
              "#3e4989"
             ],
             [
              0.3333333333333333,
              "#31688e"
             ],
             [
              0.4444444444444444,
              "#26828e"
             ],
             [
              0.5555555555555556,
              "#1f9e89"
             ],
             [
              0.6666666666666666,
              "#35b779"
             ],
             [
              0.7777777777777778,
              "#6ece58"
             ],
             [
              0.8888888888888888,
              "#b5de2b"
             ],
             [
              1,
              "#fde725"
             ]
            ],
            "type": "histogram2dcontour"
           }
          ],
          "mesh3d": [
           {
            "colorbar": {
             "outlinewidth": 1,
             "tickcolor": "rgb(36,36,36)",
             "ticks": "outside"
            },
            "type": "mesh3d"
           }
          ],
          "parcoords": [
           {
            "line": {
             "colorbar": {
              "outlinewidth": 1,
              "tickcolor": "rgb(36,36,36)",
              "ticks": "outside"
             }
            },
            "type": "parcoords"
           }
          ],
          "pie": [
           {
            "automargin": true,
            "type": "pie"
           }
          ],
          "scatter": [
           {
            "fillpattern": {
             "fillmode": "overlay",
             "size": 10,
             "solidity": 0.2
            },
            "type": "scatter"
           }
          ],
          "scatter3d": [
           {
            "line": {
             "colorbar": {
              "outlinewidth": 1,
              "tickcolor": "rgb(36,36,36)",
              "ticks": "outside"
             }
            },
            "marker": {
             "colorbar": {
              "outlinewidth": 1,
              "tickcolor": "rgb(36,36,36)",
              "ticks": "outside"
             }
            },
            "type": "scatter3d"
           }
          ],
          "scattercarpet": [
           {
            "marker": {
             "colorbar": {
              "outlinewidth": 1,
              "tickcolor": "rgb(36,36,36)",
              "ticks": "outside"
             }
            },
            "type": "scattercarpet"
           }
          ],
          "scattergeo": [
           {
            "marker": {
             "colorbar": {
              "outlinewidth": 1,
              "tickcolor": "rgb(36,36,36)",
              "ticks": "outside"
             }
            },
            "type": "scattergeo"
           }
          ],
          "scattergl": [
           {
            "marker": {
             "colorbar": {
              "outlinewidth": 1,
              "tickcolor": "rgb(36,36,36)",
              "ticks": "outside"
             }
            },
            "type": "scattergl"
           }
          ],
          "scattermapbox": [
           {
            "marker": {
             "colorbar": {
              "outlinewidth": 1,
              "tickcolor": "rgb(36,36,36)",
              "ticks": "outside"
             }
            },
            "type": "scattermapbox"
           }
          ],
          "scatterpolar": [
           {
            "marker": {
             "colorbar": {
              "outlinewidth": 1,
              "tickcolor": "rgb(36,36,36)",
              "ticks": "outside"
             }
            },
            "type": "scatterpolar"
           }
          ],
          "scatterpolargl": [
           {
            "marker": {
             "colorbar": {
              "outlinewidth": 1,
              "tickcolor": "rgb(36,36,36)",
              "ticks": "outside"
             }
            },
            "type": "scatterpolargl"
           }
          ],
          "scatterternary": [
           {
            "marker": {
             "colorbar": {
              "outlinewidth": 1,
              "tickcolor": "rgb(36,36,36)",
              "ticks": "outside"
             }
            },
            "type": "scatterternary"
           }
          ],
          "surface": [
           {
            "colorbar": {
             "outlinewidth": 1,
             "tickcolor": "rgb(36,36,36)",
             "ticks": "outside"
            },
            "colorscale": [
             [
              0,
              "#440154"
             ],
             [
              0.1111111111111111,
              "#482878"
             ],
             [
              0.2222222222222222,
              "#3e4989"
             ],
             [
              0.3333333333333333,
              "#31688e"
             ],
             [
              0.4444444444444444,
              "#26828e"
             ],
             [
              0.5555555555555556,
              "#1f9e89"
             ],
             [
              0.6666666666666666,
              "#35b779"
             ],
             [
              0.7777777777777778,
              "#6ece58"
             ],
             [
              0.8888888888888888,
              "#b5de2b"
             ],
             [
              1,
              "#fde725"
             ]
            ],
            "type": "surface"
           }
          ],
          "table": [
           {
            "cells": {
             "fill": {
              "color": "rgb(237,237,237)"
             },
             "line": {
              "color": "white"
             }
            },
            "header": {
             "fill": {
              "color": "rgb(217,217,217)"
             },
             "line": {
              "color": "white"
             }
            },
            "type": "table"
           }
          ]
         },
         "layout": {
          "annotationdefaults": {
           "arrowhead": 0,
           "arrowwidth": 1
          },
          "autotypenumbers": "strict",
          "coloraxis": {
           "colorbar": {
            "outlinewidth": 1,
            "tickcolor": "rgb(36,36,36)",
            "ticks": "outside"
           }
          },
          "colorscale": {
           "diverging": [
            [
             0,
             "rgb(103,0,31)"
            ],
            [
             0.1,
             "rgb(178,24,43)"
            ],
            [
             0.2,
             "rgb(214,96,77)"
            ],
            [
             0.3,
             "rgb(244,165,130)"
            ],
            [
             0.4,
             "rgb(253,219,199)"
            ],
            [
             0.5,
             "rgb(247,247,247)"
            ],
            [
             0.6,
             "rgb(209,229,240)"
            ],
            [
             0.7,
             "rgb(146,197,222)"
            ],
            [
             0.8,
             "rgb(67,147,195)"
            ],
            [
             0.9,
             "rgb(33,102,172)"
            ],
            [
             1,
             "rgb(5,48,97)"
            ]
           ],
           "sequential": [
            [
             0,
             "#440154"
            ],
            [
             0.1111111111111111,
             "#482878"
            ],
            [
             0.2222222222222222,
             "#3e4989"
            ],
            [
             0.3333333333333333,
             "#31688e"
            ],
            [
             0.4444444444444444,
             "#26828e"
            ],
            [
             0.5555555555555556,
             "#1f9e89"
            ],
            [
             0.6666666666666666,
             "#35b779"
            ],
            [
             0.7777777777777778,
             "#6ece58"
            ],
            [
             0.8888888888888888,
             "#b5de2b"
            ],
            [
             1,
             "#fde725"
            ]
           ],
           "sequentialminus": [
            [
             0,
             "#440154"
            ],
            [
             0.1111111111111111,
             "#482878"
            ],
            [
             0.2222222222222222,
             "#3e4989"
            ],
            [
             0.3333333333333333,
             "#31688e"
            ],
            [
             0.4444444444444444,
             "#26828e"
            ],
            [
             0.5555555555555556,
             "#1f9e89"
            ],
            [
             0.6666666666666666,
             "#35b779"
            ],
            [
             0.7777777777777778,
             "#6ece58"
            ],
            [
             0.8888888888888888,
             "#b5de2b"
            ],
            [
             1,
             "#fde725"
            ]
           ]
          },
          "colorway": [
           "#1F77B4",
           "#FF7F0E",
           "#2CA02C",
           "#D62728",
           "#9467BD",
           "#8C564B",
           "#E377C2",
           "#7F7F7F",
           "#BCBD22",
           "#17BECF"
          ],
          "font": {
           "color": "rgb(36,36,36)"
          },
          "geo": {
           "bgcolor": "white",
           "lakecolor": "white",
           "landcolor": "white",
           "showlakes": true,
           "showland": true,
           "subunitcolor": "white"
          },
          "hoverlabel": {
           "align": "left"
          },
          "hovermode": "closest",
          "mapbox": {
           "style": "light"
          },
          "paper_bgcolor": "white",
          "plot_bgcolor": "white",
          "polar": {
           "angularaxis": {
            "gridcolor": "rgb(232,232,232)",
            "linecolor": "rgb(36,36,36)",
            "showgrid": false,
            "showline": true,
            "ticks": "outside"
           },
           "bgcolor": "white",
           "radialaxis": {
            "gridcolor": "rgb(232,232,232)",
            "linecolor": "rgb(36,36,36)",
            "showgrid": false,
            "showline": true,
            "ticks": "outside"
           }
          },
          "scene": {
           "xaxis": {
            "backgroundcolor": "white",
            "gridcolor": "rgb(232,232,232)",
            "gridwidth": 2,
            "linecolor": "rgb(36,36,36)",
            "showbackground": true,
            "showgrid": false,
            "showline": true,
            "ticks": "outside",
            "zeroline": false,
            "zerolinecolor": "rgb(36,36,36)"
           },
           "yaxis": {
            "backgroundcolor": "white",
            "gridcolor": "rgb(232,232,232)",
            "gridwidth": 2,
            "linecolor": "rgb(36,36,36)",
            "showbackground": true,
            "showgrid": false,
            "showline": true,
            "ticks": "outside",
            "zeroline": false,
            "zerolinecolor": "rgb(36,36,36)"
           },
           "zaxis": {
            "backgroundcolor": "white",
            "gridcolor": "rgb(232,232,232)",
            "gridwidth": 2,
            "linecolor": "rgb(36,36,36)",
            "showbackground": true,
            "showgrid": false,
            "showline": true,
            "ticks": "outside",
            "zeroline": false,
            "zerolinecolor": "rgb(36,36,36)"
           }
          },
          "shapedefaults": {
           "fillcolor": "black",
           "line": {
            "width": 0
           },
           "opacity": 0.3
          },
          "ternary": {
           "aaxis": {
            "gridcolor": "rgb(232,232,232)",
            "linecolor": "rgb(36,36,36)",
            "showgrid": false,
            "showline": true,
            "ticks": "outside"
           },
           "baxis": {
            "gridcolor": "rgb(232,232,232)",
            "linecolor": "rgb(36,36,36)",
            "showgrid": false,
            "showline": true,
            "ticks": "outside"
           },
           "bgcolor": "white",
           "caxis": {
            "gridcolor": "rgb(232,232,232)",
            "linecolor": "rgb(36,36,36)",
            "showgrid": false,
            "showline": true,
            "ticks": "outside"
           }
          },
          "title": {
           "x": 0.05
          },
          "xaxis": {
           "automargin": true,
           "gridcolor": "rgb(232,232,232)",
           "linecolor": "rgb(36,36,36)",
           "showgrid": false,
           "showline": true,
           "ticks": "outside",
           "title": {
            "standoff": 15
           },
           "zeroline": false,
           "zerolinecolor": "rgb(36,36,36)"
          },
          "yaxis": {
           "automargin": true,
           "gridcolor": "rgb(232,232,232)",
           "linecolor": "rgb(36,36,36)",
           "showgrid": false,
           "showline": true,
           "ticks": "outside",
           "title": {
            "standoff": 15
           },
           "zeroline": false,
           "zerolinecolor": "rgb(36,36,36)"
          }
         }
        },
        "width": 800,
        "xaxis": {
         "anchor": "y",
         "domain": [
          0,
          1
         ],
         "title": {
          "text": "label"
         }
        },
        "yaxis": {
         "anchor": "x",
         "domain": [
          0,
          1
         ],
         "title": {
          "text": "roll_force"
         }
        }
       }
      }
     },
     "metadata": {},
     "output_type": "display_data"
    }
   ],
   "source": [
    "fig = px.bar(df_roll_passes, x=\"label\", y=\"roll_force\")\n",
    "fig.update_layout(width=800, height=500)\n",
    "fig.show()"
   ]
  },
  {
   "cell_type": "markdown",
   "id": "c18a6ebf2b606247",
   "metadata": {
    "collapsed": false,
    "jupyter": {
     "outputs_hidden": false
    }
   },
   "source": [
    "Diese Tabelle dient dazu, Ihnen einen besseren Überblick über mehrere Werte zu geben. Sie können die Ansicht einfach ändern, indem Sie auf die Reiter klicken."
   ]
  },
  {
   "cell_type": "code",
   "execution_count": 45,
   "id": "861aa817caac5dff",
   "metadata": {
    "ExecuteTime": {
     "end_time": "2025-01-14T10:18:22.137253Z",
     "start_time": "2025-01-14T10:18:22.112091Z"
    }
   },
   "outputs": [
    {
     "data": {
      "application/vnd.plotly.v1+json": {
       "config": {
        "plotlyServerURL": "https://plot.ly"
       },
       "data": [
        {
         "name": "roll_force",
         "type": "bar",
         "visible": true,
         "x": [
          "Oval V",
          "Quadrat VI",
          "Oval VII",
          "Quadrat VIII",
          "Oval IX",
          "Quadrat X",
          "Oval XI",
          "Quadrat XII",
          "Oval XIII",
          "Quadrat XIV",
          "Oval XV",
          "Fertigrund XVIa"
         ],
         "y": [
          312554.1377388395,
          110872.51121558127,
          238859.21517201638,
          84488.2761417622,
          177459.13250215555,
          76120.17954761106,
          95803.59997481419,
          43766.17627722995,
          92841.83903126986,
          41563.44474067792,
          96183.87217166467,
          29970.67080805042
         ]
        },
        {
         "name": "roll_roll_torque",
         "type": "bar",
         "visible": false,
         "x": [
          "Oval V",
          "Quadrat VI",
          "Oval VII",
          "Quadrat VIII",
          "Oval IX",
          "Quadrat X",
          "Oval XI",
          "Quadrat XII",
          "Oval XIII",
          "Quadrat XIV",
          "Oval XV",
          "Fertigrund XVIa"
         ],
         "y": [
          6481.916096573731,
          3107.3155404741306,
          3587.0591570286433,
          2019.273850470226,
          2223.363733244018,
          1671.0213289093442,
          999.5805888390278,
          707.2524301099347,
          772.675191483332,
          602.3539892909456,
          850.2409711625377,
          381.6774700636052
         ]
        },
        {
         "name": "roll_contact_area",
         "type": "bar",
         "visible": false,
         "x": [
          "Oval V",
          "Quadrat VI",
          "Oval VII",
          "Quadrat VIII",
          "Oval IX",
          "Quadrat X",
          "Oval XI",
          "Quadrat XII",
          "Oval XIII",
          "Quadrat XIV",
          "Oval XV",
          "Fertigrund XVIa"
         ],
         "y": [
          0.0018399070161796175,
          0.0006758115449550614,
          0.001215808281760459,
          0.0004436347299049313,
          0.000768530161566879,
          0.00032718771149018306,
          0.0003581129280897383,
          0.00015966902290694132,
          0.00028799825209540605,
          0.00012603739056741946,
          0.00023081400809033556,
          0.00008488397438141635
         ]
        },
        {
         "name": "in_profile_cross_section_height",
         "type": "bar",
         "visible": false,
         "x": [
          "Oval V",
          "Quadrat VI",
          "Oval VII",
          "Quadrat VIII",
          "Oval IX",
          "Quadrat X",
          "Oval XI",
          "Quadrat XII",
          "Oval XIII",
          "Quadrat XIV",
          "Oval XV",
          "Fertigrund XVIa"
         ],
         "y": [
          0.0304763022691402,
          0.04075925015225571,
          0.023018922360870157,
          0.03039358376762936,
          0.017307176603232357,
          0.023322237867773356,
          0.011476343058657665,
          0.014865417045613826,
          0.00958066082686113,
          0.012440872652510149,
          0.007599906057072939,
          0.01128437656772663
         ]
        },
        {
         "name": "out_profile_cross_section_height",
         "type": "bar",
         "visible": false,
         "x": [
          "Oval V",
          "Quadrat VI",
          "Oval VII",
          "Quadrat VIII",
          "Oval IX",
          "Quadrat X",
          "Oval XI",
          "Quadrat XII",
          "Oval XIII",
          "Quadrat XIV",
          "Oval XV",
          "Fertigrund XVIa"
         ],
         "y": [
          0.01781251964286016,
          0.029010477331928453,
          0.013338847001429854,
          0.021781420591108196,
          0.010037447654611367,
          0.015401572875253807,
          0.008155555334629248,
          0.011790510889466869,
          0.0064926307743884346,
          0.009422407309954974,
          0.004426168260373141,
          0.00765
         ]
        },
        {
         "name": "temperature_change_by_contact",
         "type": "bar",
         "visible": false,
         "x": [
          "Oval V",
          "Quadrat VI",
          "Oval VII",
          "Quadrat VIII",
          "Oval IX",
          "Quadrat X",
          "Oval XI",
          "Quadrat XII",
          "Oval XIII",
          "Quadrat XIV",
          "Oval XV",
          "Fertigrund XVIa"
         ],
         "y": [
          -6.270591395046582,
          -3.0884364375401683,
          -7.445950808288486,
          -3.4926303089610022,
          -7.960698193264877,
          -4.79689775577267,
          -6.836945306276054,
          -3.6730060167795675,
          -8.005479017917178,
          -4.2542541105021074,
          -10.137475279216076,
          -4.059037888927033
         ]
        },
        {
         "name": "temperature_change_by_deformation",
         "type": "bar",
         "visible": false,
         "x": [
          "Oval V",
          "Quadrat VI",
          "Oval VII",
          "Quadrat VIII",
          "Oval IX",
          "Quadrat X",
          "Oval XI",
          "Quadrat XII",
          "Oval XIII",
          "Quadrat XIV",
          "Oval XV",
          "Fertigrund XVIa"
         ],
         "y": [
          20.4583906537012,
          12.935333829872347,
          20.898533237891552,
          14.847754706583688,
          24.531211050029267,
          27.1522286758376,
          21.564696442203196,
          19.848580883041823,
          25.654100133476994,
          25.968231080748904,
          47.86390765405037,
          22.219223129625757
         ]
        },
        {
         "name": "in_profile_temperature",
         "type": "bar",
         "visible": false,
         "x": [
          "Oval V",
          "Quadrat VI",
          "Oval VII",
          "Quadrat VIII",
          "Oval IX",
          "Quadrat X",
          "Oval XI",
          "Quadrat XII",
          "Oval XIII",
          "Quadrat XIV",
          "Oval XV",
          "Fertigrund XVIa"
         ],
         "y": [
          1313.15,
          1302.7307044758531,
          1288.8931153345754,
          1271.974175738366,
          1254.6240989431456,
          1234.78433336896,
          1217.96648492756,
          1191.3211604660564,
          1167.5305912321453,
          1140.8644664586861,
          1119.350736502527,
          1101.155229831505
         ]
        },
        {
         "name": "out_profile_flow_stress",
         "type": "bar",
         "visible": false,
         "x": [
          "Oval V",
          "Quadrat VI",
          "Oval VII",
          "Quadrat VIII",
          "Oval IX",
          "Quadrat X",
          "Oval XI",
          "Quadrat XII",
          "Oval XIII",
          "Quadrat XIV",
          "Oval XV",
          "Fertigrund XVIa"
         ],
         "y": [
          121799536.69817206,
          131751974.6671422,
          134435141.1203179,
          146318256.73282135,
          151702527.9937119,
          162165294.60517412,
          176127004.6276152,
          195850363.54874843,
          202366053.39230582,
          223663300.07999596,
          225935269.3669816,
          241781201.82373056
         ]
        }
       ],
       "layout": {
        "height": 500,
        "template": {
         "data": {
          "bar": [
           {
            "error_x": {
             "color": "rgb(36,36,36)"
            },
            "error_y": {
             "color": "rgb(36,36,36)"
            },
            "marker": {
             "line": {
              "color": "white",
              "width": 0.5
             },
             "pattern": {
              "fillmode": "overlay",
              "size": 10,
              "solidity": 0.2
             }
            },
            "type": "bar"
           }
          ],
          "barpolar": [
           {
            "marker": {
             "line": {
              "color": "white",
              "width": 0.5
             },
             "pattern": {
              "fillmode": "overlay",
              "size": 10,
              "solidity": 0.2
             }
            },
            "type": "barpolar"
           }
          ],
          "carpet": [
           {
            "aaxis": {
             "endlinecolor": "rgb(36,36,36)",
             "gridcolor": "white",
             "linecolor": "white",
             "minorgridcolor": "white",
             "startlinecolor": "rgb(36,36,36)"
            },
            "baxis": {
             "endlinecolor": "rgb(36,36,36)",
             "gridcolor": "white",
             "linecolor": "white",
             "minorgridcolor": "white",
             "startlinecolor": "rgb(36,36,36)"
            },
            "type": "carpet"
           }
          ],
          "choropleth": [
           {
            "colorbar": {
             "outlinewidth": 1,
             "tickcolor": "rgb(36,36,36)",
             "ticks": "outside"
            },
            "type": "choropleth"
           }
          ],
          "contour": [
           {
            "colorbar": {
             "outlinewidth": 1,
             "tickcolor": "rgb(36,36,36)",
             "ticks": "outside"
            },
            "colorscale": [
             [
              0,
              "#440154"
             ],
             [
              0.1111111111111111,
              "#482878"
             ],
             [
              0.2222222222222222,
              "#3e4989"
             ],
             [
              0.3333333333333333,
              "#31688e"
             ],
             [
              0.4444444444444444,
              "#26828e"
             ],
             [
              0.5555555555555556,
              "#1f9e89"
             ],
             [
              0.6666666666666666,
              "#35b779"
             ],
             [
              0.7777777777777778,
              "#6ece58"
             ],
             [
              0.8888888888888888,
              "#b5de2b"
             ],
             [
              1,
              "#fde725"
             ]
            ],
            "type": "contour"
           }
          ],
          "contourcarpet": [
           {
            "colorbar": {
             "outlinewidth": 1,
             "tickcolor": "rgb(36,36,36)",
             "ticks": "outside"
            },
            "type": "contourcarpet"
           }
          ],
          "heatmap": [
           {
            "colorbar": {
             "outlinewidth": 1,
             "tickcolor": "rgb(36,36,36)",
             "ticks": "outside"
            },
            "colorscale": [
             [
              0,
              "#440154"
             ],
             [
              0.1111111111111111,
              "#482878"
             ],
             [
              0.2222222222222222,
              "#3e4989"
             ],
             [
              0.3333333333333333,
              "#31688e"
             ],
             [
              0.4444444444444444,
              "#26828e"
             ],
             [
              0.5555555555555556,
              "#1f9e89"
             ],
             [
              0.6666666666666666,
              "#35b779"
             ],
             [
              0.7777777777777778,
              "#6ece58"
             ],
             [
              0.8888888888888888,
              "#b5de2b"
             ],
             [
              1,
              "#fde725"
             ]
            ],
            "type": "heatmap"
           }
          ],
          "heatmapgl": [
           {
            "colorbar": {
             "outlinewidth": 1,
             "tickcolor": "rgb(36,36,36)",
             "ticks": "outside"
            },
            "colorscale": [
             [
              0,
              "#440154"
             ],
             [
              0.1111111111111111,
              "#482878"
             ],
             [
              0.2222222222222222,
              "#3e4989"
             ],
             [
              0.3333333333333333,
              "#31688e"
             ],
             [
              0.4444444444444444,
              "#26828e"
             ],
             [
              0.5555555555555556,
              "#1f9e89"
             ],
             [
              0.6666666666666666,
              "#35b779"
             ],
             [
              0.7777777777777778,
              "#6ece58"
             ],
             [
              0.8888888888888888,
              "#b5de2b"
             ],
             [
              1,
              "#fde725"
             ]
            ],
            "type": "heatmapgl"
           }
          ],
          "histogram": [
           {
            "marker": {
             "line": {
              "color": "white",
              "width": 0.6
             }
            },
            "type": "histogram"
           }
          ],
          "histogram2d": [
           {
            "colorbar": {
             "outlinewidth": 1,
             "tickcolor": "rgb(36,36,36)",
             "ticks": "outside"
            },
            "colorscale": [
             [
              0,
              "#440154"
             ],
             [
              0.1111111111111111,
              "#482878"
             ],
             [
              0.2222222222222222,
              "#3e4989"
             ],
             [
              0.3333333333333333,
              "#31688e"
             ],
             [
              0.4444444444444444,
              "#26828e"
             ],
             [
              0.5555555555555556,
              "#1f9e89"
             ],
             [
              0.6666666666666666,
              "#35b779"
             ],
             [
              0.7777777777777778,
              "#6ece58"
             ],
             [
              0.8888888888888888,
              "#b5de2b"
             ],
             [
              1,
              "#fde725"
             ]
            ],
            "type": "histogram2d"
           }
          ],
          "histogram2dcontour": [
           {
            "colorbar": {
             "outlinewidth": 1,
             "tickcolor": "rgb(36,36,36)",
             "ticks": "outside"
            },
            "colorscale": [
             [
              0,
              "#440154"
             ],
             [
              0.1111111111111111,
              "#482878"
             ],
             [
              0.2222222222222222,
              "#3e4989"
             ],
             [
              0.3333333333333333,
              "#31688e"
             ],
             [
              0.4444444444444444,
              "#26828e"
             ],
             [
              0.5555555555555556,
              "#1f9e89"
             ],
             [
              0.6666666666666666,
              "#35b779"
             ],
             [
              0.7777777777777778,
              "#6ece58"
             ],
             [
              0.8888888888888888,
              "#b5de2b"
             ],
             [
              1,
              "#fde725"
             ]
            ],
            "type": "histogram2dcontour"
           }
          ],
          "mesh3d": [
           {
            "colorbar": {
             "outlinewidth": 1,
             "tickcolor": "rgb(36,36,36)",
             "ticks": "outside"
            },
            "type": "mesh3d"
           }
          ],
          "parcoords": [
           {
            "line": {
             "colorbar": {
              "outlinewidth": 1,
              "tickcolor": "rgb(36,36,36)",
              "ticks": "outside"
             }
            },
            "type": "parcoords"
           }
          ],
          "pie": [
           {
            "automargin": true,
            "type": "pie"
           }
          ],
          "scatter": [
           {
            "fillpattern": {
             "fillmode": "overlay",
             "size": 10,
             "solidity": 0.2
            },
            "type": "scatter"
           }
          ],
          "scatter3d": [
           {
            "line": {
             "colorbar": {
              "outlinewidth": 1,
              "tickcolor": "rgb(36,36,36)",
              "ticks": "outside"
             }
            },
            "marker": {
             "colorbar": {
              "outlinewidth": 1,
              "tickcolor": "rgb(36,36,36)",
              "ticks": "outside"
             }
            },
            "type": "scatter3d"
           }
          ],
          "scattercarpet": [
           {
            "marker": {
             "colorbar": {
              "outlinewidth": 1,
              "tickcolor": "rgb(36,36,36)",
              "ticks": "outside"
             }
            },
            "type": "scattercarpet"
           }
          ],
          "scattergeo": [
           {
            "marker": {
             "colorbar": {
              "outlinewidth": 1,
              "tickcolor": "rgb(36,36,36)",
              "ticks": "outside"
             }
            },
            "type": "scattergeo"
           }
          ],
          "scattergl": [
           {
            "marker": {
             "colorbar": {
              "outlinewidth": 1,
              "tickcolor": "rgb(36,36,36)",
              "ticks": "outside"
             }
            },
            "type": "scattergl"
           }
          ],
          "scattermapbox": [
           {
            "marker": {
             "colorbar": {
              "outlinewidth": 1,
              "tickcolor": "rgb(36,36,36)",
              "ticks": "outside"
             }
            },
            "type": "scattermapbox"
           }
          ],
          "scatterpolar": [
           {
            "marker": {
             "colorbar": {
              "outlinewidth": 1,
              "tickcolor": "rgb(36,36,36)",
              "ticks": "outside"
             }
            },
            "type": "scatterpolar"
           }
          ],
          "scatterpolargl": [
           {
            "marker": {
             "colorbar": {
              "outlinewidth": 1,
              "tickcolor": "rgb(36,36,36)",
              "ticks": "outside"
             }
            },
            "type": "scatterpolargl"
           }
          ],
          "scatterternary": [
           {
            "marker": {
             "colorbar": {
              "outlinewidth": 1,
              "tickcolor": "rgb(36,36,36)",
              "ticks": "outside"
             }
            },
            "type": "scatterternary"
           }
          ],
          "surface": [
           {
            "colorbar": {
             "outlinewidth": 1,
             "tickcolor": "rgb(36,36,36)",
             "ticks": "outside"
            },
            "colorscale": [
             [
              0,
              "#440154"
             ],
             [
              0.1111111111111111,
              "#482878"
             ],
             [
              0.2222222222222222,
              "#3e4989"
             ],
             [
              0.3333333333333333,
              "#31688e"
             ],
             [
              0.4444444444444444,
              "#26828e"
             ],
             [
              0.5555555555555556,
              "#1f9e89"
             ],
             [
              0.6666666666666666,
              "#35b779"
             ],
             [
              0.7777777777777778,
              "#6ece58"
             ],
             [
              0.8888888888888888,
              "#b5de2b"
             ],
             [
              1,
              "#fde725"
             ]
            ],
            "type": "surface"
           }
          ],
          "table": [
           {
            "cells": {
             "fill": {
              "color": "rgb(237,237,237)"
             },
             "line": {
              "color": "white"
             }
            },
            "header": {
             "fill": {
              "color": "rgb(217,217,217)"
             },
             "line": {
              "color": "white"
             }
            },
            "type": "table"
           }
          ]
         },
         "layout": {
          "annotationdefaults": {
           "arrowhead": 0,
           "arrowwidth": 1
          },
          "autotypenumbers": "strict",
          "coloraxis": {
           "colorbar": {
            "outlinewidth": 1,
            "tickcolor": "rgb(36,36,36)",
            "ticks": "outside"
           }
          },
          "colorscale": {
           "diverging": [
            [
             0,
             "rgb(103,0,31)"
            ],
            [
             0.1,
             "rgb(178,24,43)"
            ],
            [
             0.2,
             "rgb(214,96,77)"
            ],
            [
             0.3,
             "rgb(244,165,130)"
            ],
            [
             0.4,
             "rgb(253,219,199)"
            ],
            [
             0.5,
             "rgb(247,247,247)"
            ],
            [
             0.6,
             "rgb(209,229,240)"
            ],
            [
             0.7,
             "rgb(146,197,222)"
            ],
            [
             0.8,
             "rgb(67,147,195)"
            ],
            [
             0.9,
             "rgb(33,102,172)"
            ],
            [
             1,
             "rgb(5,48,97)"
            ]
           ],
           "sequential": [
            [
             0,
             "#440154"
            ],
            [
             0.1111111111111111,
             "#482878"
            ],
            [
             0.2222222222222222,
             "#3e4989"
            ],
            [
             0.3333333333333333,
             "#31688e"
            ],
            [
             0.4444444444444444,
             "#26828e"
            ],
            [
             0.5555555555555556,
             "#1f9e89"
            ],
            [
             0.6666666666666666,
             "#35b779"
            ],
            [
             0.7777777777777778,
             "#6ece58"
            ],
            [
             0.8888888888888888,
             "#b5de2b"
            ],
            [
             1,
             "#fde725"
            ]
           ],
           "sequentialminus": [
            [
             0,
             "#440154"
            ],
            [
             0.1111111111111111,
             "#482878"
            ],
            [
             0.2222222222222222,
             "#3e4989"
            ],
            [
             0.3333333333333333,
             "#31688e"
            ],
            [
             0.4444444444444444,
             "#26828e"
            ],
            [
             0.5555555555555556,
             "#1f9e89"
            ],
            [
             0.6666666666666666,
             "#35b779"
            ],
            [
             0.7777777777777778,
             "#6ece58"
            ],
            [
             0.8888888888888888,
             "#b5de2b"
            ],
            [
             1,
             "#fde725"
            ]
           ]
          },
          "colorway": [
           "#1F77B4",
           "#FF7F0E",
           "#2CA02C",
           "#D62728",
           "#9467BD",
           "#8C564B",
           "#E377C2",
           "#7F7F7F",
           "#BCBD22",
           "#17BECF"
          ],
          "font": {
           "color": "rgb(36,36,36)"
          },
          "geo": {
           "bgcolor": "white",
           "lakecolor": "white",
           "landcolor": "white",
           "showlakes": true,
           "showland": true,
           "subunitcolor": "white"
          },
          "hoverlabel": {
           "align": "left"
          },
          "hovermode": "closest",
          "mapbox": {
           "style": "light"
          },
          "paper_bgcolor": "white",
          "plot_bgcolor": "white",
          "polar": {
           "angularaxis": {
            "gridcolor": "rgb(232,232,232)",
            "linecolor": "rgb(36,36,36)",
            "showgrid": false,
            "showline": true,
            "ticks": "outside"
           },
           "bgcolor": "white",
           "radialaxis": {
            "gridcolor": "rgb(232,232,232)",
            "linecolor": "rgb(36,36,36)",
            "showgrid": false,
            "showline": true,
            "ticks": "outside"
           }
          },
          "scene": {
           "xaxis": {
            "backgroundcolor": "white",
            "gridcolor": "rgb(232,232,232)",
            "gridwidth": 2,
            "linecolor": "rgb(36,36,36)",
            "showbackground": true,
            "showgrid": false,
            "showline": true,
            "ticks": "outside",
            "zeroline": false,
            "zerolinecolor": "rgb(36,36,36)"
           },
           "yaxis": {
            "backgroundcolor": "white",
            "gridcolor": "rgb(232,232,232)",
            "gridwidth": 2,
            "linecolor": "rgb(36,36,36)",
            "showbackground": true,
            "showgrid": false,
            "showline": true,
            "ticks": "outside",
            "zeroline": false,
            "zerolinecolor": "rgb(36,36,36)"
           },
           "zaxis": {
            "backgroundcolor": "white",
            "gridcolor": "rgb(232,232,232)",
            "gridwidth": 2,
            "linecolor": "rgb(36,36,36)",
            "showbackground": true,
            "showgrid": false,
            "showline": true,
            "ticks": "outside",
            "zeroline": false,
            "zerolinecolor": "rgb(36,36,36)"
           }
          },
          "shapedefaults": {
           "fillcolor": "black",
           "line": {
            "width": 0
           },
           "opacity": 0.3
          },
          "ternary": {
           "aaxis": {
            "gridcolor": "rgb(232,232,232)",
            "linecolor": "rgb(36,36,36)",
            "showgrid": false,
            "showline": true,
            "ticks": "outside"
           },
           "baxis": {
            "gridcolor": "rgb(232,232,232)",
            "linecolor": "rgb(36,36,36)",
            "showgrid": false,
            "showline": true,
            "ticks": "outside"
           },
           "bgcolor": "white",
           "caxis": {
            "gridcolor": "rgb(232,232,232)",
            "linecolor": "rgb(36,36,36)",
            "showgrid": false,
            "showline": true,
            "ticks": "outside"
           }
          },
          "title": {
           "x": 0.05
          },
          "xaxis": {
           "automargin": true,
           "gridcolor": "rgb(232,232,232)",
           "linecolor": "rgb(36,36,36)",
           "showgrid": false,
           "showline": true,
           "ticks": "outside",
           "title": {
            "standoff": 15
           },
           "zeroline": false,
           "zerolinecolor": "rgb(36,36,36)"
          },
          "yaxis": {
           "automargin": true,
           "gridcolor": "rgb(232,232,232)",
           "linecolor": "rgb(36,36,36)",
           "showgrid": false,
           "showline": true,
           "ticks": "outside",
           "title": {
            "standoff": 15
           },
           "zeroline": false,
           "zerolinecolor": "rgb(36,36,36)"
          }
         }
        },
        "updatemenus": [
         {
          "active": 0,
          "buttons": [
           {
            "args": [
             {
              "visible": [
               true,
               false,
               false,
               false,
               false,
               false,
               false,
               false,
               false
              ]
             }
            ],
            "label": "roll_force",
            "method": "update"
           },
           {
            "args": [
             {
              "visible": [
               false,
               true,
               false,
               false,
               false,
               false,
               false,
               false,
               false
              ]
             }
            ],
            "label": "roll_roll_torque",
            "method": "update"
           },
           {
            "args": [
             {
              "visible": [
               false,
               false,
               true,
               false,
               false,
               false,
               false,
               false,
               false
              ]
             }
            ],
            "label": "roll_contact_area",
            "method": "update"
           },
           {
            "args": [
             {
              "visible": [
               false,
               false,
               false,
               true,
               false,
               false,
               false,
               false,
               false
              ]
             }
            ],
            "label": "in_profile_cross_section_height",
            "method": "update"
           },
           {
            "args": [
             {
              "visible": [
               false,
               false,
               false,
               false,
               true,
               false,
               false,
               false,
               false
              ]
             }
            ],
            "label": "out_profile_cross_section_height",
            "method": "update"
           },
           {
            "args": [
             {
              "visible": [
               false,
               false,
               false,
               false,
               false,
               true,
               false,
               false,
               false
              ]
             }
            ],
            "label": "temperature_change_by_contact",
            "method": "update"
           },
           {
            "args": [
             {
              "visible": [
               false,
               false,
               false,
               false,
               false,
               false,
               true,
               false,
               false
              ]
             }
            ],
            "label": "temperature_change_by_deformation",
            "method": "update"
           },
           {
            "args": [
             {
              "visible": [
               false,
               false,
               false,
               false,
               false,
               false,
               false,
               true,
               false
              ]
             }
            ],
            "label": "in_profile_temperature",
            "method": "update"
           },
           {
            "args": [
             {
              "visible": [
               false,
               false,
               false,
               false,
               false,
               false,
               false,
               false,
               true
              ]
             }
            ],
            "label": "out_profile_flow_stress",
            "method": "update"
           }
          ],
          "direction": "down",
          "type": "buttons",
          "x": -0.15,
          "y": 1
         }
        ],
        "width": 1000
       }
      }
     },
     "metadata": {},
     "output_type": "display_data"
    }
   ],
   "source": [
    "import plotly.graph_objects as go\n",
    "\n",
    "columns = [\"roll_force\", \"roll_roll_torque\", \"roll_contact_area\", \"in_profile_cross_section_height\", \"out_profile_cross_section_height\", \"temperature_change_by_contact\", \"temperature_change_by_deformation\", \"in_profile_temperature\", \"out_profile_flow_stress\"]\n",
    "fig = go.Figure()\n",
    "\n",
    "buttons = []\n",
    "for i, col in enumerate(columns):\n",
    "    fig.add_trace(go.Bar(x=df_roll_passes[\"label\"], y=df_roll_passes[col], visible=(i == 0), name=col))\n",
    "    visibility = [False] * len(columns)\n",
    "    visibility[i] = True\n",
    "    buttons.append(dict(label=col, method=\"update\", args=[{\"visible\": visibility}]))\n",
    "    \n",
    "fig.update_layout(updatemenus=[dict(active=0, buttons=buttons, type=\"buttons\", direction=\"down\", x=-0.15, y=1)], width=1000, height=500)\n",
    "fig.show()"
   ]
  },
  {
   "cell_type": "code",
   "execution_count": 46,
   "id": "aaf967d151dc238f",
   "metadata": {
    "ExecuteTime": {
     "end_time": "2025-01-14T10:18:22.167669Z",
     "start_time": "2025-01-14T10:18:22.138259Z"
    },
    "collapsed": false,
    "jupyter": {
     "outputs_hidden": false
    }
   },
   "outputs": [
    {
     "data": {
      "application/vnd.plotly.v1+json": {
       "config": {
        "plotlyServerURL": "https://plot.ly"
       },
       "data": [
        {
         "fill": "toself",
         "line": {
          "color": "red"
         },
         "mode": "lines",
         "name": "in profile",
         "type": "scatter",
         "x": [
          0.0008222602811839489,
          -0.0008222602811839489,
          -0.0009155616035829122,
          -0.001063102193128557,
          -0.0012004218486572269,
          -0.001327894360333933,
          -0.0014458505594400698,
          -0.001554583494516385,
          -0.001654352727436351,
          -0.001745387915935749,
          -0.0018278918118792258,
          -0.0019020427764376748,
          -0.001967996891892022,
          -0.0020258897332102667,
          -0.00207583784960483,
          -0.0021179399960525595,
          -0.002152278146577999,
          -0.0021789183144616795,
          -0.002197911199061041,
          -0.0022092926743320297,
          -0.0022130841301865704,
          -0.0022092926743320297,
          -0.002197911199061041,
          -0.0021789183144616795,
          -0.002152278146577999,
          -0.0021179399960525595,
          -0.00207583784960483,
          -0.0020258897332102667,
          -0.001967996891892022,
          -0.0019020427764376748,
          -0.0018278918118792258,
          -0.001745387915935749,
          -0.001654352727436351,
          -0.001554583494516385,
          -0.0014458505594400698,
          -0.001327894360333933,
          -0.0012004218486572269,
          -0.001063102193128557,
          -0.0009155616035829122,
          -0.0008222602811839489,
          0.0008222602811839489,
          0.0009155616035829122,
          0.001063102193128557,
          0.0012004218486572269,
          0.001327894360333933,
          0.0014458505594400698,
          0.001554583494516385,
          0.001654352727436351,
          0.001745387915935749,
          0.0018278918118792258,
          0.0019020427764376748,
          0.001967996891892022,
          0.0020258897332102667,
          0.00207583784960483,
          0.0021179399960525595,
          0.002152278146577999,
          0.0021789183144616795,
          0.002197911199061041,
          0.0022092926743320297,
          0.0022130841301865704,
          0.0022092926743320297,
          0.002197911199061041,
          0.0021789183144616795,
          0.002152278146577999,
          0.0021179399960525595,
          0.00207583784960483,
          0.0020258897332102667,
          0.001967996891892022,
          0.0019020427764376748,
          0.0018278918118792258,
          0.001745387915935749,
          0.001654352727436351,
          0.001554583494516385,
          0.0014458505594400698,
          0.001327894360333933,
          0.0012004218486572269,
          0.001063102193128557,
          0.0009155616035829122,
          0.0008222602811839489
         ],
         "y": [
          -0.005642188283863315,
          -0.005642188283863315,
          -0.005463170571145018,
          -0.005159661094970295,
          -0.004856151618795572,
          -0.004552642142620848,
          -0.004249132666446126,
          -0.0039456231902714025,
          -0.003642113714096679,
          -0.003338604237921956,
          -0.0030350947617472325,
          -0.0027315852855725096,
          -0.0024280758093977862,
          -0.0021245663332230633,
          -0.00182105685704834,
          -0.0015175473808736167,
          -0.0012140379046988933,
          -0.00091052842852417,
          -0.0006070189523494467,
          -0.00030350947617472333,
          0,
          0.00030350947617472333,
          0.0006070189523494467,
          0.00091052842852417,
          0.0012140379046988933,
          0.0015175473808736167,
          0.00182105685704834,
          0.0021245663332230633,
          0.0024280758093977862,
          0.0027315852855725096,
          0.0030350947617472325,
          0.003338604237921956,
          0.003642113714096679,
          0.0039456231902714025,
          0.004249132666446126,
          0.004552642142620848,
          0.004856151618795572,
          0.005159661094970295,
          0.005463170571145018,
          0.005642188283863315,
          0.005642188283863315,
          0.005463170571145018,
          0.005159661094970295,
          0.004856151618795572,
          0.004552642142620848,
          0.004249132666446126,
          0.0039456231902714025,
          0.003642113714096679,
          0.003338604237921956,
          0.0030350947617472325,
          0.0027315852855725096,
          0.0024280758093977862,
          0.0021245663332230633,
          0.00182105685704834,
          0.0015175473808736167,
          0.0012140379046988933,
          0.00091052842852417,
          0.0006070189523494467,
          0.00030350947617472333,
          0,
          -0.00030350947617472333,
          -0.0006070189523494467,
          -0.00091052842852417,
          -0.0012140379046988933,
          -0.0015175473808736167,
          -0.00182105685704834,
          -0.0021245663332230633,
          -0.0024280758093977862,
          -0.0027315852855725096,
          -0.0030350947617472325,
          -0.003338604237921956,
          -0.003642113714096679,
          -0.0039456231902714025,
          -0.004249132666446126,
          -0.004552642142620848,
          -0.004856151618795572,
          -0.005159661094970295,
          -0.005463170571145018,
          -0.005642188283863315
         ]
        },
        {
         "line": {
          "color": "red",
          "dash": "dash"
         },
         "mode": "lines",
         "name": "in eq. rectangle",
         "type": "scatter",
         "x": [
          -0.0022130841301865704,
          0.0022130841301865704,
          0.0022130841301865704,
          -0.0022130841301865704,
          -0.0022130841301865704
         ],
         "y": [
          -0.005118532623412247,
          -0.005118532623412247,
          0.005118532623412247,
          0.005118532623412247,
          -0.005118532623412247
         ]
        },
        {
         "fill": "toself",
         "line": {
          "color": "blue"
         },
         "mode": "lines",
         "name": "out profile",
         "type": "scatter",
         "x": [
          -0.002882540761523898,
          -0.002882540761523898,
          -0.0027671427489480115,
          -0.0025826665656848106,
          -0.0023981903824216097,
          -0.002213714199158409,
          -0.0020292380158952084,
          -0.0018447618326320075,
          -0.0016602856493688066,
          -0.0014758094661056062,
          -0.0012913332828424053,
          -0.0011068570995792044,
          -0.000922380916316004,
          -0.0007379047330528031,
          -0.0005534285497896022,
          -0.00036895236652640176,
          -0.00018447618326320088,
          0,
          0.00018447618326320088,
          0.00036895236652640176,
          0.0005534285497896022,
          0.0007379047330528031,
          0.000922380916316004,
          0.0011068570995792044,
          0.0012913332828424053,
          0.0014758094661056062,
          0.0016602856493688066,
          0.0018447618326320075,
          0.0020292380158952084,
          0.002213714199158409,
          0.0023981903824216097,
          0.0025826665656848106,
          0.0027671427489480115,
          0.002882540761523898,
          0.002882540761523898,
          0.0027671427489480115,
          0.0025826665656848106,
          0.0023981903824216097,
          0.002213714199158409,
          0.0020292380158952084,
          0.0018447618326320075,
          0.0016602856493688066,
          0.0014758094661056062,
          0.0012913332828424053,
          0.0011068570995792044,
          0.000922380916316004,
          0.0007379047330528031,
          0.0005534285497896022,
          0.00036895236652640176,
          0.00018447618326320088,
          0,
          -0.00018447618326320088,
          -0.00036895236652640176,
          -0.0005534285497896022,
          -0.0007379047330528031,
          -0.000922380916316004,
          -0.0011068570995792044,
          -0.0012913332828424053,
          -0.0014758094661056062,
          -0.0016602856493688066,
          -0.0018447618326320075,
          -0.0020292380158952084,
          -0.002213714199158409,
          -0.0023981903824216097,
          -0.0025826665656848106,
          -0.0027671427489480115,
          -0.002882540761523898
         ],
         "y": [
          -0.00254868007001455,
          0.00254868007001455,
          0.002673257813041644,
          0.0028472993362237595,
          0.003000497177638193,
          0.003135836253134757,
          0.003255494418978311,
          0.003361110269019927,
          0.0034539448228188547,
          0.0035349842686295857,
          0.0036050079283370374,
          0.0036646346561009283,
          0.0037143552809437183,
          0.0037545556667762736,
          0.00378553323263481,
          0.0038075087445148875,
          0.0038206345488005725,
          0.003825,
          0.0038206345488005725,
          0.0038075087445148875,
          0.00378553323263481,
          0.0037545556667762736,
          0.0037143552809437183,
          0.0036646346561009283,
          0.0036050079283370374,
          0.0035349842686295857,
          0.0034539448228188547,
          0.003361110269019927,
          0.003255494418978311,
          0.003135836253134757,
          0.003000497177638193,
          0.0028472993362237595,
          0.002673257813041644,
          0.00254868007001455,
          -0.00254868007001455,
          -0.002673257813041644,
          -0.0028472993362237595,
          -0.003000497177638193,
          -0.003135836253134757,
          -0.003255494418978311,
          -0.003361110269019927,
          -0.0034539448228188547,
          -0.0035349842686295857,
          -0.0036050079283370374,
          -0.0036646346561009283,
          -0.0037143552809437183,
          -0.0037545556667762736,
          -0.00378553323263481,
          -0.0038075087445148875,
          -0.0038206345488005725,
          -0.003825,
          -0.0038206345488005725,
          -0.0038075087445148875,
          -0.00378553323263481,
          -0.0037545556667762736,
          -0.0037143552809437183,
          -0.0036646346561009283,
          -0.0036050079283370374,
          -0.0035349842686295857,
          -0.0034539448228188547,
          -0.003361110269019927,
          -0.003255494418978311,
          -0.003135836253134757,
          -0.003000497177638193,
          -0.0028472993362237595,
          -0.002673257813041644,
          -0.00254868007001455
         ]
        },
        {
         "line": {
          "color": "blue",
          "dash": "dash"
         },
         "mode": "lines",
         "name": "out eq. rectangle",
         "type": "scatter",
         "x": [
          -0.002882540761523898,
          0.002882540761523898,
          0.002882540761523898,
          -0.002882540761523898,
          -0.002882540761523898
         ],
         "y": [
          -0.003693834048228576,
          -0.003693834048228576,
          0.003693834048228576,
          0.003693834048228576,
          -0.003693834048228576
         ]
        },
        {
         "line": {
          "color": "black"
         },
         "mode": "lines",
         "name": "roll surface",
         "showlegend": true,
         "type": "scatter",
         "x": [
          -0.006723308428428389,
          -0.005108571228827097,
          -0.005037618850648943,
          -0.004966666472470789,
          -0.004895714094292635,
          -0.0048247617161144805,
          -0.004753809337936327,
          -0.004682856959758172,
          -0.0046119045815800185,
          -0.004540952203401864,
          -0.00446999982522371,
          -0.004399047447045556,
          -0.004328095068867402,
          -0.004257142690689247,
          -0.004186190312511094,
          -0.00411523793433294,
          -0.004044285556154785,
          -0.003973333177976631,
          -0.003902380799798477,
          -0.003831428421620323,
          -0.0037604760434421687,
          -0.003689523665264015,
          -0.003505047482000814,
          -0.0033205712987376137,
          -0.003136095115474413,
          -0.002951618932211212,
          -0.0027671427489480115,
          -0.0025826665656848106,
          -0.0023981903824216097,
          -0.002213714199158409,
          -0.0020292380158952084,
          -0.0018447618326320075,
          -0.0016602856493688066,
          -0.0014758094661056062,
          -0.0012913332828424053,
          -0.0011068570995792044,
          -0.000922380916316004,
          -0.0007379047330528031,
          -0.0005534285497896022,
          -0.00036895236652640176,
          -0.00018447618326320088,
          0,
          0.00018447618326320088,
          0.00036895236652640176,
          0.0005534285497896022,
          0.0007379047330528031,
          0.000922380916316004,
          0.0011068570995792044,
          0.0012913332828424053,
          0.0014758094661056062,
          0.0016602856493688066,
          0.0018447618326320075,
          0.0020292380158952084,
          0.002213714199158409,
          0.0023981903824216097,
          0.0025826665656848106,
          0.0027671427489480115,
          0.002951618932211212,
          0.003136095115474413,
          0.0033205712987376137,
          0.003505047482000814,
          0.003689523665264015,
          0.0037604760434421687,
          0.003831428421620323,
          0.003902380799798477,
          0.003973333177976631,
          0.004044285556154785,
          0.00411523793433294,
          0.004186190312511094,
          0.004257142690689247,
          0.004328095068867402,
          0.004399047447045556,
          0.00446999982522371,
          0.004540952203401864,
          0.0046119045815800185,
          0.004682856959758172,
          0.004753809337936327,
          0.0048247617161144805,
          0.004895714094292635,
          0.004966666472470789,
          0.005037618850648943,
          0.005108571228827097,
          0.006723308428428389
         ],
         "y": [
          0.0001749999999999998,
          0.0001749999999999998,
          0.00017667901969208727,
          0.00018172740595581239,
          0.00019017952590968815,
          0.00020209397431681752,
          0.00021755566117549253,
          0.00023667897842271973,
          0.0002596123352549852,
          0.00028654451206554373,
          0.00031771352968505543,
          0.00035341912730002794,
          0.00039404060808526467,
          0.000440062979563555,
          0.000492116470139156,
          0.0005510387168370147,
          0.0006179777642147516,
          0.0006945742925130766,
          0.0007833135927245758,
          0.0008882940511220216,
          0.0010172467247196895,
          0.0011888888888888878,
          0.0016351585157288056,
          0.0019704354670827423,
          0.0022433846589161015,
          0.002474106839466001,
          0.002673257813041644,
          0.0028472993362237595,
          0.003000497177638193,
          0.003135836253134757,
          0.003255494418978311,
          0.003361110269019927,
          0.0034539448228188547,
          0.0035349842686295857,
          0.0036050079283370374,
          0.0036646346561009283,
          0.0037143552809437183,
          0.0037545556667762736,
          0.00378553323263481,
          0.0038075087445148875,
          0.0038206345488005725,
          0.003825,
          0.0038206345488005725,
          0.0038075087445148875,
          0.00378553323263481,
          0.0037545556667762736,
          0.0037143552809437183,
          0.0036646346561009283,
          0.0036050079283370374,
          0.0035349842686295857,
          0.0034539448228188547,
          0.003361110269019927,
          0.003255494418978311,
          0.003135836253134757,
          0.003000497177638193,
          0.0028472993362237595,
          0.002673257813041644,
          0.002474106839466001,
          0.0022433846589161015,
          0.0019704354670827423,
          0.0016351585157288056,
          0.0011888888888888878,
          0.0010172467247196895,
          0.0008882940511220216,
          0.0007833135927245758,
          0.0006945742925130766,
          0.0006179777642147516,
          0.0005510387168370147,
          0.000492116470139156,
          0.000440062979563555,
          0.00039404060808526467,
          0.00035341912730002794,
          0.00031771352968505543,
          0.00028654451206554373,
          0.0002596123352549852,
          0.00023667897842271973,
          0.00021755566117549253,
          0.00020209397431681752,
          0.00019017952590968815,
          0.00018172740595581239,
          0.00017667901969208727,
          0.0001749999999999998,
          0.0001749999999999998
         ]
        },
        {
         "line": {
          "color": "black"
         },
         "mode": "lines",
         "name": "roll surface",
         "showlegend": false,
         "type": "scatter",
         "x": [
          0.006723308428428389,
          0.005108571228827097,
          0.005037618850648943,
          0.004966666472470789,
          0.004895714094292635,
          0.0048247617161144805,
          0.004753809337936327,
          0.004682856959758172,
          0.0046119045815800185,
          0.004540952203401864,
          0.00446999982522371,
          0.004399047447045556,
          0.004328095068867402,
          0.004257142690689247,
          0.004186190312511094,
          0.00411523793433294,
          0.004044285556154785,
          0.003973333177976631,
          0.003902380799798477,
          0.003831428421620323,
          0.0037604760434421687,
          0.003689523665264015,
          0.003505047482000814,
          0.0033205712987376137,
          0.003136095115474413,
          0.002951618932211212,
          0.0027671427489480115,
          0.0025826665656848106,
          0.0023981903824216097,
          0.002213714199158409,
          0.0020292380158952084,
          0.0018447618326320075,
          0.0016602856493688066,
          0.0014758094661056062,
          0.0012913332828424053,
          0.0011068570995792044,
          0.000922380916316004,
          0.0007379047330528031,
          0.0005534285497896022,
          0.00036895236652640176,
          0.00018447618326320088,
          0,
          -0.00018447618326320088,
          -0.00036895236652640176,
          -0.0005534285497896022,
          -0.0007379047330528031,
          -0.000922380916316004,
          -0.0011068570995792044,
          -0.0012913332828424053,
          -0.0014758094661056062,
          -0.0016602856493688066,
          -0.0018447618326320075,
          -0.0020292380158952084,
          -0.002213714199158409,
          -0.0023981903824216097,
          -0.0025826665656848106,
          -0.0027671427489480115,
          -0.002951618932211212,
          -0.003136095115474413,
          -0.0033205712987376137,
          -0.003505047482000814,
          -0.003689523665264015,
          -0.0037604760434421687,
          -0.003831428421620323,
          -0.003902380799798477,
          -0.003973333177976631,
          -0.004044285556154785,
          -0.00411523793433294,
          -0.004186190312511094,
          -0.004257142690689247,
          -0.004328095068867402,
          -0.004399047447045556,
          -0.00446999982522371,
          -0.004540952203401864,
          -0.0046119045815800185,
          -0.004682856959758172,
          -0.004753809337936327,
          -0.0048247617161144805,
          -0.004895714094292635,
          -0.004966666472470789,
          -0.005037618850648943,
          -0.005108571228827097,
          -0.006723308428428389
         ],
         "y": [
          -0.0001749999999999998,
          -0.0001749999999999998,
          -0.00017667901969208727,
          -0.00018172740595581239,
          -0.00019017952590968815,
          -0.00020209397431681752,
          -0.00021755566117549253,
          -0.00023667897842271973,
          -0.0002596123352549852,
          -0.00028654451206554373,
          -0.00031771352968505543,
          -0.00035341912730002794,
          -0.00039404060808526467,
          -0.000440062979563555,
          -0.000492116470139156,
          -0.0005510387168370147,
          -0.0006179777642147516,
          -0.0006945742925130766,
          -0.0007833135927245758,
          -0.0008882940511220216,
          -0.0010172467247196895,
          -0.0011888888888888878,
          -0.0016351585157288056,
          -0.0019704354670827423,
          -0.0022433846589161015,
          -0.002474106839466001,
          -0.002673257813041644,
          -0.0028472993362237595,
          -0.003000497177638193,
          -0.003135836253134757,
          -0.003255494418978311,
          -0.003361110269019927,
          -0.0034539448228188547,
          -0.0035349842686295857,
          -0.0036050079283370374,
          -0.0036646346561009283,
          -0.0037143552809437183,
          -0.0037545556667762736,
          -0.00378553323263481,
          -0.0038075087445148875,
          -0.0038206345488005725,
          -0.003825,
          -0.0038206345488005725,
          -0.0038075087445148875,
          -0.00378553323263481,
          -0.0037545556667762736,
          -0.0037143552809437183,
          -0.0036646346561009283,
          -0.0036050079283370374,
          -0.0035349842686295857,
          -0.0034539448228188547,
          -0.003361110269019927,
          -0.003255494418978311,
          -0.003135836253134757,
          -0.003000497177638193,
          -0.0028472993362237595,
          -0.002673257813041644,
          -0.002474106839466001,
          -0.0022433846589161015,
          -0.0019704354670827423,
          -0.0016351585157288056,
          -0.0011888888888888878,
          -0.0010172467247196895,
          -0.0008882940511220216,
          -0.0007833135927245758,
          -0.0006945742925130766,
          -0.0006179777642147516,
          -0.0005510387168370147,
          -0.000492116470139156,
          -0.000440062979563555,
          -0.00039404060808526467,
          -0.00035341912730002794,
          -0.00031771352968505543,
          -0.00028654451206554373,
          -0.0002596123352549852,
          -0.00023667897842271973,
          -0.00021755566117549253,
          -0.00020209397431681752,
          -0.00019017952590968815,
          -0.00018172740595581239,
          -0.00017667901969208727,
          -0.0001749999999999998,
          -0.0001749999999999998
         ]
        }
       ],
       "layout": {
        "height": 480,
        "template": {
         "data": {
          "bar": [
           {
            "error_x": {
             "color": "rgb(36,36,36)"
            },
            "error_y": {
             "color": "rgb(36,36,36)"
            },
            "marker": {
             "line": {
              "color": "white",
              "width": 0.5
             },
             "pattern": {
              "fillmode": "overlay",
              "size": 10,
              "solidity": 0.2
             }
            },
            "type": "bar"
           }
          ],
          "barpolar": [
           {
            "marker": {
             "line": {
              "color": "white",
              "width": 0.5
             },
             "pattern": {
              "fillmode": "overlay",
              "size": 10,
              "solidity": 0.2
             }
            },
            "type": "barpolar"
           }
          ],
          "carpet": [
           {
            "aaxis": {
             "endlinecolor": "rgb(36,36,36)",
             "gridcolor": "white",
             "linecolor": "white",
             "minorgridcolor": "white",
             "startlinecolor": "rgb(36,36,36)"
            },
            "baxis": {
             "endlinecolor": "rgb(36,36,36)",
             "gridcolor": "white",
             "linecolor": "white",
             "minorgridcolor": "white",
             "startlinecolor": "rgb(36,36,36)"
            },
            "type": "carpet"
           }
          ],
          "choropleth": [
           {
            "colorbar": {
             "outlinewidth": 1,
             "tickcolor": "rgb(36,36,36)",
             "ticks": "outside"
            },
            "type": "choropleth"
           }
          ],
          "contour": [
           {
            "colorbar": {
             "outlinewidth": 1,
             "tickcolor": "rgb(36,36,36)",
             "ticks": "outside"
            },
            "colorscale": [
             [
              0,
              "#440154"
             ],
             [
              0.1111111111111111,
              "#482878"
             ],
             [
              0.2222222222222222,
              "#3e4989"
             ],
             [
              0.3333333333333333,
              "#31688e"
             ],
             [
              0.4444444444444444,
              "#26828e"
             ],
             [
              0.5555555555555556,
              "#1f9e89"
             ],
             [
              0.6666666666666666,
              "#35b779"
             ],
             [
              0.7777777777777778,
              "#6ece58"
             ],
             [
              0.8888888888888888,
              "#b5de2b"
             ],
             [
              1,
              "#fde725"
             ]
            ],
            "type": "contour"
           }
          ],
          "contourcarpet": [
           {
            "colorbar": {
             "outlinewidth": 1,
             "tickcolor": "rgb(36,36,36)",
             "ticks": "outside"
            },
            "type": "contourcarpet"
           }
          ],
          "heatmap": [
           {
            "colorbar": {
             "outlinewidth": 1,
             "tickcolor": "rgb(36,36,36)",
             "ticks": "outside"
            },
            "colorscale": [
             [
              0,
              "#440154"
             ],
             [
              0.1111111111111111,
              "#482878"
             ],
             [
              0.2222222222222222,
              "#3e4989"
             ],
             [
              0.3333333333333333,
              "#31688e"
             ],
             [
              0.4444444444444444,
              "#26828e"
             ],
             [
              0.5555555555555556,
              "#1f9e89"
             ],
             [
              0.6666666666666666,
              "#35b779"
             ],
             [
              0.7777777777777778,
              "#6ece58"
             ],
             [
              0.8888888888888888,
              "#b5de2b"
             ],
             [
              1,
              "#fde725"
             ]
            ],
            "type": "heatmap"
           }
          ],
          "heatmapgl": [
           {
            "colorbar": {
             "outlinewidth": 1,
             "tickcolor": "rgb(36,36,36)",
             "ticks": "outside"
            },
            "colorscale": [
             [
              0,
              "#440154"
             ],
             [
              0.1111111111111111,
              "#482878"
             ],
             [
              0.2222222222222222,
              "#3e4989"
             ],
             [
              0.3333333333333333,
              "#31688e"
             ],
             [
              0.4444444444444444,
              "#26828e"
             ],
             [
              0.5555555555555556,
              "#1f9e89"
             ],
             [
              0.6666666666666666,
              "#35b779"
             ],
             [
              0.7777777777777778,
              "#6ece58"
             ],
             [
              0.8888888888888888,
              "#b5de2b"
             ],
             [
              1,
              "#fde725"
             ]
            ],
            "type": "heatmapgl"
           }
          ],
          "histogram": [
           {
            "marker": {
             "line": {
              "color": "white",
              "width": 0.6
             }
            },
            "type": "histogram"
           }
          ],
          "histogram2d": [
           {
            "colorbar": {
             "outlinewidth": 1,
             "tickcolor": "rgb(36,36,36)",
             "ticks": "outside"
            },
            "colorscale": [
             [
              0,
              "#440154"
             ],
             [
              0.1111111111111111,
              "#482878"
             ],
             [
              0.2222222222222222,
              "#3e4989"
             ],
             [
              0.3333333333333333,
              "#31688e"
             ],
             [
              0.4444444444444444,
              "#26828e"
             ],
             [
              0.5555555555555556,
              "#1f9e89"
             ],
             [
              0.6666666666666666,
              "#35b779"
             ],
             [
              0.7777777777777778,
              "#6ece58"
             ],
             [
              0.8888888888888888,
              "#b5de2b"
             ],
             [
              1,
              "#fde725"
             ]
            ],
            "type": "histogram2d"
           }
          ],
          "histogram2dcontour": [
           {
            "colorbar": {
             "outlinewidth": 1,
             "tickcolor": "rgb(36,36,36)",
             "ticks": "outside"
            },
            "colorscale": [
             [
              0,
              "#440154"
             ],
             [
              0.1111111111111111,
              "#482878"
             ],
             [
              0.2222222222222222,
              "#3e4989"
             ],
             [
              0.3333333333333333,
              "#31688e"
             ],
             [
              0.4444444444444444,
              "#26828e"
             ],
             [
              0.5555555555555556,
              "#1f9e89"
             ],
             [
              0.6666666666666666,
              "#35b779"
             ],
             [
              0.7777777777777778,
              "#6ece58"
             ],
             [
              0.8888888888888888,
              "#b5de2b"
             ],
             [
              1,
              "#fde725"
             ]
            ],
            "type": "histogram2dcontour"
           }
          ],
          "mesh3d": [
           {
            "colorbar": {
             "outlinewidth": 1,
             "tickcolor": "rgb(36,36,36)",
             "ticks": "outside"
            },
            "type": "mesh3d"
           }
          ],
          "parcoords": [
           {
            "line": {
             "colorbar": {
              "outlinewidth": 1,
              "tickcolor": "rgb(36,36,36)",
              "ticks": "outside"
             }
            },
            "type": "parcoords"
           }
          ],
          "pie": [
           {
            "automargin": true,
            "type": "pie"
           }
          ],
          "scatter": [
           {
            "fillpattern": {
             "fillmode": "overlay",
             "size": 10,
             "solidity": 0.2
            },
            "type": "scatter"
           }
          ],
          "scatter3d": [
           {
            "line": {
             "colorbar": {
              "outlinewidth": 1,
              "tickcolor": "rgb(36,36,36)",
              "ticks": "outside"
             }
            },
            "marker": {
             "colorbar": {
              "outlinewidth": 1,
              "tickcolor": "rgb(36,36,36)",
              "ticks": "outside"
             }
            },
            "type": "scatter3d"
           }
          ],
          "scattercarpet": [
           {
            "marker": {
             "colorbar": {
              "outlinewidth": 1,
              "tickcolor": "rgb(36,36,36)",
              "ticks": "outside"
             }
            },
            "type": "scattercarpet"
           }
          ],
          "scattergeo": [
           {
            "marker": {
             "colorbar": {
              "outlinewidth": 1,
              "tickcolor": "rgb(36,36,36)",
              "ticks": "outside"
             }
            },
            "type": "scattergeo"
           }
          ],
          "scattergl": [
           {
            "marker": {
             "colorbar": {
              "outlinewidth": 1,
              "tickcolor": "rgb(36,36,36)",
              "ticks": "outside"
             }
            },
            "type": "scattergl"
           }
          ],
          "scattermapbox": [
           {
            "marker": {
             "colorbar": {
              "outlinewidth": 1,
              "tickcolor": "rgb(36,36,36)",
              "ticks": "outside"
             }
            },
            "type": "scattermapbox"
           }
          ],
          "scatterpolar": [
           {
            "marker": {
             "colorbar": {
              "outlinewidth": 1,
              "tickcolor": "rgb(36,36,36)",
              "ticks": "outside"
             }
            },
            "type": "scatterpolar"
           }
          ],
          "scatterpolargl": [
           {
            "marker": {
             "colorbar": {
              "outlinewidth": 1,
              "tickcolor": "rgb(36,36,36)",
              "ticks": "outside"
             }
            },
            "type": "scatterpolargl"
           }
          ],
          "scatterternary": [
           {
            "marker": {
             "colorbar": {
              "outlinewidth": 1,
              "tickcolor": "rgb(36,36,36)",
              "ticks": "outside"
             }
            },
            "type": "scatterternary"
           }
          ],
          "surface": [
           {
            "colorbar": {
             "outlinewidth": 1,
             "tickcolor": "rgb(36,36,36)",
             "ticks": "outside"
            },
            "colorscale": [
             [
              0,
              "#440154"
             ],
             [
              0.1111111111111111,
              "#482878"
             ],
             [
              0.2222222222222222,
              "#3e4989"
             ],
             [
              0.3333333333333333,
              "#31688e"
             ],
             [
              0.4444444444444444,
              "#26828e"
             ],
             [
              0.5555555555555556,
              "#1f9e89"
             ],
             [
              0.6666666666666666,
              "#35b779"
             ],
             [
              0.7777777777777778,
              "#6ece58"
             ],
             [
              0.8888888888888888,
              "#b5de2b"
             ],
             [
              1,
              "#fde725"
             ]
            ],
            "type": "surface"
           }
          ],
          "table": [
           {
            "cells": {
             "fill": {
              "color": "rgb(237,237,237)"
             },
             "line": {
              "color": "white"
             }
            },
            "header": {
             "fill": {
              "color": "rgb(217,217,217)"
             },
             "line": {
              "color": "white"
             }
            },
            "type": "table"
           }
          ]
         },
         "layout": {
          "annotationdefaults": {
           "arrowhead": 0,
           "arrowwidth": 1
          },
          "autotypenumbers": "strict",
          "coloraxis": {
           "colorbar": {
            "outlinewidth": 1,
            "tickcolor": "rgb(36,36,36)",
            "ticks": "outside"
           }
          },
          "colorscale": {
           "diverging": [
            [
             0,
             "rgb(103,0,31)"
            ],
            [
             0.1,
             "rgb(178,24,43)"
            ],
            [
             0.2,
             "rgb(214,96,77)"
            ],
            [
             0.3,
             "rgb(244,165,130)"
            ],
            [
             0.4,
             "rgb(253,219,199)"
            ],
            [
             0.5,
             "rgb(247,247,247)"
            ],
            [
             0.6,
             "rgb(209,229,240)"
            ],
            [
             0.7,
             "rgb(146,197,222)"
            ],
            [
             0.8,
             "rgb(67,147,195)"
            ],
            [
             0.9,
             "rgb(33,102,172)"
            ],
            [
             1,
             "rgb(5,48,97)"
            ]
           ],
           "sequential": [
            [
             0,
             "#440154"
            ],
            [
             0.1111111111111111,
             "#482878"
            ],
            [
             0.2222222222222222,
             "#3e4989"
            ],
            [
             0.3333333333333333,
             "#31688e"
            ],
            [
             0.4444444444444444,
             "#26828e"
            ],
            [
             0.5555555555555556,
             "#1f9e89"
            ],
            [
             0.6666666666666666,
             "#35b779"
            ],
            [
             0.7777777777777778,
             "#6ece58"
            ],
            [
             0.8888888888888888,
             "#b5de2b"
            ],
            [
             1,
             "#fde725"
            ]
           ],
           "sequentialminus": [
            [
             0,
             "#440154"
            ],
            [
             0.1111111111111111,
             "#482878"
            ],
            [
             0.2222222222222222,
             "#3e4989"
            ],
            [
             0.3333333333333333,
             "#31688e"
            ],
            [
             0.4444444444444444,
             "#26828e"
            ],
            [
             0.5555555555555556,
             "#1f9e89"
            ],
            [
             0.6666666666666666,
             "#35b779"
            ],
            [
             0.7777777777777778,
             "#6ece58"
            ],
            [
             0.8888888888888888,
             "#b5de2b"
            ],
            [
             1,
             "#fde725"
            ]
           ]
          },
          "colorway": [
           "#1F77B4",
           "#FF7F0E",
           "#2CA02C",
           "#D62728",
           "#9467BD",
           "#8C564B",
           "#E377C2",
           "#7F7F7F",
           "#BCBD22",
           "#17BECF"
          ],
          "font": {
           "color": "rgb(36,36,36)"
          },
          "geo": {
           "bgcolor": "white",
           "lakecolor": "white",
           "landcolor": "white",
           "showlakes": true,
           "showland": true,
           "subunitcolor": "white"
          },
          "hoverlabel": {
           "align": "left"
          },
          "hovermode": "closest",
          "mapbox": {
           "style": "light"
          },
          "paper_bgcolor": "white",
          "plot_bgcolor": "white",
          "polar": {
           "angularaxis": {
            "gridcolor": "rgb(232,232,232)",
            "linecolor": "rgb(36,36,36)",
            "showgrid": false,
            "showline": true,
            "ticks": "outside"
           },
           "bgcolor": "white",
           "radialaxis": {
            "gridcolor": "rgb(232,232,232)",
            "linecolor": "rgb(36,36,36)",
            "showgrid": false,
            "showline": true,
            "ticks": "outside"
           }
          },
          "scene": {
           "xaxis": {
            "backgroundcolor": "white",
            "gridcolor": "rgb(232,232,232)",
            "gridwidth": 2,
            "linecolor": "rgb(36,36,36)",
            "showbackground": true,
            "showgrid": false,
            "showline": true,
            "ticks": "outside",
            "zeroline": false,
            "zerolinecolor": "rgb(36,36,36)"
           },
           "yaxis": {
            "backgroundcolor": "white",
            "gridcolor": "rgb(232,232,232)",
            "gridwidth": 2,
            "linecolor": "rgb(36,36,36)",
            "showbackground": true,
            "showgrid": false,
            "showline": true,
            "ticks": "outside",
            "zeroline": false,
            "zerolinecolor": "rgb(36,36,36)"
           },
           "zaxis": {
            "backgroundcolor": "white",
            "gridcolor": "rgb(232,232,232)",
            "gridwidth": 2,
            "linecolor": "rgb(36,36,36)",
            "showbackground": true,
            "showgrid": false,
            "showline": true,
            "ticks": "outside",
            "zeroline": false,
            "zerolinecolor": "rgb(36,36,36)"
           }
          },
          "shapedefaults": {
           "fillcolor": "black",
           "line": {
            "width": 0
           },
           "opacity": 0.3
          },
          "ternary": {
           "aaxis": {
            "gridcolor": "rgb(232,232,232)",
            "linecolor": "rgb(36,36,36)",
            "showgrid": false,
            "showline": true,
            "ticks": "outside"
           },
           "baxis": {
            "gridcolor": "rgb(232,232,232)",
            "linecolor": "rgb(36,36,36)",
            "showgrid": false,
            "showline": true,
            "ticks": "outside"
           },
           "bgcolor": "white",
           "caxis": {
            "gridcolor": "rgb(232,232,232)",
            "linecolor": "rgb(36,36,36)",
            "showgrid": false,
            "showline": true,
            "ticks": "outside"
           }
          },
          "title": {
           "x": 0.05
          },
          "xaxis": {
           "automargin": true,
           "gridcolor": "rgb(232,232,232)",
           "linecolor": "rgb(36,36,36)",
           "showgrid": false,
           "showline": true,
           "ticks": "outside",
           "title": {
            "standoff": 15
           },
           "zeroline": false,
           "zerolinecolor": "rgb(36,36,36)"
          },
          "yaxis": {
           "automargin": true,
           "gridcolor": "rgb(232,232,232)",
           "linecolor": "rgb(36,36,36)",
           "showgrid": false,
           "showline": true,
           "ticks": "outside",
           "title": {
            "standoff": 15
           },
           "zeroline": false,
           "zerolinecolor": "rgb(36,36,36)"
          }
         }
        },
        "title": {
         "text": "Roll Pass 'Fertigrund XVIa'"
        },
        "width": 640,
        "xaxis": {
         "title": {
          "text": "z"
         }
        },
        "yaxis": {
         "scaleanchor": "x",
         "scaleratio": 1,
         "title": {
          "text": "y"
         }
        }
       }
      }
     },
     "metadata": {},
     "output_type": "display_data"
    }
   ],
   "source": [
    "sequence[-1].plot()"
   ]
  },
  {
   "cell_type": "markdown",
   "id": "14f90bdabbd48292",
   "metadata": {},
   "source": [
    "# Auswertung und Vergleich mit den Versuchsdaten\n",
    "\n",
    "Nachfolgend sollen die Rechenwerte mit den Versuchswerten verglichen werden."
   ]
  },
  {
   "cell_type": "code",
   "execution_count": 47,
   "id": "e2dbd26d78071f26",
   "metadata": {
    "ExecuteTime": {
     "end_time": "2025-01-14T10:18:22.299488Z",
     "start_time": "2025-01-14T10:18:22.168787Z"
    }
   },
   "outputs": [
    {
     "data": {
      "text/html": [
       "<div>\n",
       "<style scoped>\n",
       "    .dataframe tbody tr th:only-of-type {\n",
       "        vertical-align: middle;\n",
       "    }\n",
       "\n",
       "    .dataframe tbody tr th {\n",
       "        vertical-align: top;\n",
       "    }\n",
       "\n",
       "    .dataframe thead th {\n",
       "        text-align: right;\n",
       "    }\n",
       "</style>\n",
       "<table border=\"1\" class=\"dataframe\">\n",
       "  <thead>\n",
       "    <tr style=\"text-align: right;\">\n",
       "      <th></th>\n",
       "      <th>abs_draught</th>\n",
       "      <th>back_tension</th>\n",
       "      <th>bite_angle</th>\n",
       "      <th>classifiers</th>\n",
       "      <th>contact_area</th>\n",
       "      <th>contour_lines_coords</th>\n",
       "      <th>contour_lines_height</th>\n",
       "      <th>contour_lines_length</th>\n",
       "      <th>contour_lines_width</th>\n",
       "      <th>contour_lines_x</th>\n",
       "      <th>...</th>\n",
       "      <th>volume</th>\n",
       "      <th>wusatowski_exponent</th>\n",
       "      <th>wusatowski_friction_coefficient</th>\n",
       "      <th>wusatowski_material_coefficient</th>\n",
       "      <th>wusatowski_temperature_coefficient</th>\n",
       "      <th>wusatowski_velocity_coefficient</th>\n",
       "      <th>zouhar_contact_c1</th>\n",
       "      <th>zouhar_contact_c2</th>\n",
       "      <th>zouhar_contact_c3</th>\n",
       "      <th>zouhar_contact_in_width</th>\n",
       "    </tr>\n",
       "  </thead>\n",
       "  <tbody>\n",
       "    <tr>\n",
       "      <th>0</th>\n",
       "      <td>-0.013732</td>\n",
       "      <td>0</td>\n",
       "      <td>0.347499</td>\n",
       "      <td>[circular_oval, symmetric, oval, generic_elong...</td>\n",
       "      <td>0.003680</td>\n",
       "      <td>[[-0.03583173090990724, 0.0016562598214300798]...</td>\n",
       "      <td>0.017813</td>\n",
       "      <td>0.148619</td>\n",
       "      <td>0.071663</td>\n",
       "      <td>[-0.03583173090990724, -0.026070817018267762, ...</td>\n",
       "      <td>...</td>\n",
       "      <td>3.659109e-05</td>\n",
       "      <td>0.446932</td>\n",
       "      <td>1</td>\n",
       "      <td>1</td>\n",
       "      <td>1</td>\n",
       "      <td>1.014367</td>\n",
       "      <td>0.82</td>\n",
       "      <td>0.2</td>\n",
       "      <td>1.02</td>\n",
       "      <td>0.030476</td>\n",
       "    </tr>\n",
       "    <tr>\n",
       "      <th>1</th>\n",
       "      <td>-0.011649</td>\n",
       "      <td>0</td>\n",
       "      <td>0.280793</td>\n",
       "      <td>[diamond, square, generic_elongation, symmetric]</td>\n",
       "      <td>0.001352</td>\n",
       "      <td>[[-0.023210037227734376, 0.0014999999999999996...</td>\n",
       "      <td>0.029010</td>\n",
       "      <td>0.112508</td>\n",
       "      <td>0.046420</td>\n",
       "      <td>[-0.023210037227734376, -0.017282037227734377,...</td>\n",
       "      <td>...</td>\n",
       "      <td>2.139694e-05</td>\n",
       "      <td>0.647181</td>\n",
       "      <td>1</td>\n",
       "      <td>1</td>\n",
       "      <td>1</td>\n",
       "      <td>1.000998</td>\n",
       "      <td>1.00</td>\n",
       "      <td>0.1</td>\n",
       "      <td>1.00</td>\n",
       "      <td>0.007923</td>\n",
       "    </tr>\n",
       "    <tr>\n",
       "      <th>2</th>\n",
       "      <td>-0.008682</td>\n",
       "      <td>0</td>\n",
       "      <td>0.300933</td>\n",
       "      <td>[circular_oval, symmetric, oval, generic_elong...</td>\n",
       "      <td>0.002432</td>\n",
       "      <td>[[-0.026510212098303156, 0.0016194235007149268...</td>\n",
       "      <td>0.013339</td>\n",
       "      <td>0.109488</td>\n",
       "      <td>0.053020</td>\n",
       "      <td>[-0.026510212098303156, -0.019455012207654873,...</td>\n",
       "      <td>...</td>\n",
       "      <td>1.754602e-05</td>\n",
       "      <td>0.490090</td>\n",
       "      <td>1</td>\n",
       "      <td>1</td>\n",
       "      <td>1</td>\n",
       "      <td>1.010285</td>\n",
       "      <td>0.82</td>\n",
       "      <td>0.2</td>\n",
       "      <td>1.02</td>\n",
       "      <td>0.023019</td>\n",
       "    </tr>\n",
       "    <tr>\n",
       "      <th>3</th>\n",
       "      <td>-0.008563</td>\n",
       "      <td>0</td>\n",
       "      <td>0.237338</td>\n",
       "      <td>[diamond, square, generic_elongation, symmetric]</td>\n",
       "      <td>0.000887</td>\n",
       "      <td>[[-0.01712580662215131, 0.0014999999999999996]...</td>\n",
       "      <td>0.021781</td>\n",
       "      <td>0.082552</td>\n",
       "      <td>0.034252</td>\n",
       "      <td>[-0.01712580662215131, -0.01281780662215131, -...</td>\n",
       "      <td>...</td>\n",
       "      <td>1.047274e-05</td>\n",
       "      <td>0.691330</td>\n",
       "      <td>1</td>\n",
       "      <td>1</td>\n",
       "      <td>1</td>\n",
       "      <td>1.000481</td>\n",
       "      <td>1.00</td>\n",
       "      <td>0.1</td>\n",
       "      <td>1.00</td>\n",
       "      <td>0.005922</td>\n",
       "    </tr>\n",
       "    <tr>\n",
       "      <th>4</th>\n",
       "      <td>-0.006529</td>\n",
       "      <td>0</td>\n",
       "      <td>0.270077</td>\n",
       "      <td>[circular_oval, symmetric, oval, generic_elong...</td>\n",
       "      <td>0.001537</td>\n",
       "      <td>[[-0.02189104061731336, 0.0005887238273056834]...</td>\n",
       "      <td>0.010037</td>\n",
       "      <td>0.090763</td>\n",
       "      <td>0.043782</td>\n",
       "      <td>[-0.02189104061731336, -0.016107920412020915, ...</td>\n",
       "      <td>...</td>\n",
       "      <td>8.316060e-06</td>\n",
       "      <td>0.528938</td>\n",
       "      <td>1</td>\n",
       "      <td>1</td>\n",
       "      <td>1</td>\n",
       "      <td>1.010201</td>\n",
       "      <td>0.82</td>\n",
       "      <td>0.2</td>\n",
       "      <td>1.02</td>\n",
       "      <td>0.017307</td>\n",
       "    </tr>\n",
       "    <tr>\n",
       "      <th>5</th>\n",
       "      <td>-0.008323</td>\n",
       "      <td>0</td>\n",
       "      <td>0.245759</td>\n",
       "      <td>[diamond, square, generic_elongation, symmetric]</td>\n",
       "      <td>0.000654</td>\n",
       "      <td>[[-0.01218242712474619, 4.999999999999796e-06]...</td>\n",
       "      <td>0.015402</td>\n",
       "      <td>0.060964</td>\n",
       "      <td>0.024365</td>\n",
       "      <td>[-0.01218242712474619, -0.00893842712474619, -...</td>\n",
       "      <td>...</td>\n",
       "      <td>4.832466e-06</td>\n",
       "      <td>0.708185</td>\n",
       "      <td>1</td>\n",
       "      <td>1</td>\n",
       "      <td>1</td>\n",
       "      <td>1.010437</td>\n",
       "      <td>1.00</td>\n",
       "      <td>0.1</td>\n",
       "      <td>1.00</td>\n",
       "      <td>0.004390</td>\n",
       "    </tr>\n",
       "    <tr>\n",
       "      <th>6</th>\n",
       "      <td>-0.003872</td>\n",
       "      <td>0</td>\n",
       "      <td>0.192800</td>\n",
       "      <td>[circular_oval, symmetric, oval, generic_elong...</td>\n",
       "      <td>0.000716</td>\n",
       "      <td>[[-0.01644988123876536, 0.000547777667314624],...</td>\n",
       "      <td>0.008156</td>\n",
       "      <td>0.068468</td>\n",
       "      <td>0.032900</td>\n",
       "      <td>[-0.01644988123876536, -0.012244145539807993, ...</td>\n",
       "      <td>...</td>\n",
       "      <td>3.134184e-06</td>\n",
       "      <td>0.616047</td>\n",
       "      <td>1</td>\n",
       "      <td>1</td>\n",
       "      <td>1</td>\n",
       "      <td>1.002191</td>\n",
       "      <td>0.82</td>\n",
       "      <td>0.2</td>\n",
       "      <td>1.02</td>\n",
       "      <td>0.011476</td>\n",
       "    </tr>\n",
       "    <tr>\n",
       "      <th>7</th>\n",
       "      <td>-0.004004</td>\n",
       "      <td>0</td>\n",
       "      <td>0.151850</td>\n",
       "      <td>[diamond, square, generic_elongation, symmetric]</td>\n",
       "      <td>0.000319</td>\n",
       "      <td>[[-0.01114724344186865, 4.999999999999796e-06]...</td>\n",
       "      <td>0.011791</td>\n",
       "      <td>0.053250</td>\n",
       "      <td>0.022294</td>\n",
       "      <td>[-0.01114724344186865, -0.00843124344186865, -...</td>\n",
       "      <td>...</td>\n",
       "      <td>1.846309e-06</td>\n",
       "      <td>0.717887</td>\n",
       "      <td>1</td>\n",
       "      <td>1</td>\n",
       "      <td>1</td>\n",
       "      <td>0.997912</td>\n",
       "      <td>1.00</td>\n",
       "      <td>0.1</td>\n",
       "      <td>1.00</td>\n",
       "      <td>0.004730</td>\n",
       "    </tr>\n",
       "    <tr>\n",
       "      <th>8</th>\n",
       "      <td>-0.002963</td>\n",
       "      <td>0</td>\n",
       "      <td>0.184248</td>\n",
       "      <td>[circular_oval, symmetric, oval, generic_elong...</td>\n",
       "      <td>0.000576</td>\n",
       "      <td>[[-0.012788310082940919, 0.000546315387194217]...</td>\n",
       "      <td>0.006493</td>\n",
       "      <td>0.053158</td>\n",
       "      <td>0.025577</td>\n",
       "      <td>[-0.012788310082940919, -0.009538867857350785,...</td>\n",
       "      <td>...</td>\n",
       "      <td>1.961308e-06</td>\n",
       "      <td>0.636729</td>\n",
       "      <td>1</td>\n",
       "      <td>1</td>\n",
       "      <td>1</td>\n",
       "      <td>1.001609</td>\n",
       "      <td>0.82</td>\n",
       "      <td>0.2</td>\n",
       "      <td>1.02</td>\n",
       "      <td>0.009581</td>\n",
       "    </tr>\n",
       "    <tr>\n",
       "      <th>9</th>\n",
       "      <td>-0.003478</td>\n",
       "      <td>0</td>\n",
       "      <td>0.149784</td>\n",
       "      <td>[diamond, square, generic_elongation, symmetric]</td>\n",
       "      <td>0.000252</td>\n",
       "      <td>[[-0.009003151141499629, 4.999999999999796e-06...</td>\n",
       "      <td>0.009422</td>\n",
       "      <td>0.042917</td>\n",
       "      <td>0.018006</td>\n",
       "      <td>[-0.009003151141499629, -0.0068571511414996286...</td>\n",
       "      <td>...</td>\n",
       "      <td>1.186404e-06</td>\n",
       "      <td>0.750014</td>\n",
       "      <td>1</td>\n",
       "      <td>1</td>\n",
       "      <td>1</td>\n",
       "      <td>0.999703</td>\n",
       "      <td>1.00</td>\n",
       "      <td>0.1</td>\n",
       "      <td>1.00</td>\n",
       "      <td>0.003377</td>\n",
       "    </tr>\n",
       "    <tr>\n",
       "      <th>10</th>\n",
       "      <td>-0.003136</td>\n",
       "      <td>0</td>\n",
       "      <td>0.180148</td>\n",
       "      <td>[circular_oval, symmetric, oval, generic_elong...</td>\n",
       "      <td>0.000462</td>\n",
       "      <td>[[-0.01086772137273662, 5.308413018657061e-05]...</td>\n",
       "      <td>0.004426</td>\n",
       "      <td>0.044990</td>\n",
       "      <td>0.021735</td>\n",
       "      <td>[-0.01086772137273662, -0.008068605827526835, ...</td>\n",
       "      <td>...</td>\n",
       "      <td>1.089953e-06</td>\n",
       "      <td>0.665021</td>\n",
       "      <td>1</td>\n",
       "      <td>1</td>\n",
       "      <td>1</td>\n",
       "      <td>1.012025</td>\n",
       "      <td>0.82</td>\n",
       "      <td>0.2</td>\n",
       "      <td>1.02</td>\n",
       "      <td>0.007600</td>\n",
       "    </tr>\n",
       "    <tr>\n",
       "      <th>11</th>\n",
       "      <td>-0.002849</td>\n",
       "      <td>0</td>\n",
       "      <td>0.158293</td>\n",
       "      <td>[symmetric, generic_elongation, round]</td>\n",
       "      <td>0.000170</td>\n",
       "      <td>[[-0.006723308428428389, 0.0001749999999999998...</td>\n",
       "      <td>0.007650</td>\n",
       "      <td>0.033254</td>\n",
       "      <td>0.013447</td>\n",
       "      <td>[-0.006723308428428389, -0.005108571228827097,...</td>\n",
       "      <td>...</td>\n",
       "      <td>9.078239e-07</td>\n",
       "      <td>0.822760</td>\n",
       "      <td>1</td>\n",
       "      <td>1</td>\n",
       "      <td>1</td>\n",
       "      <td>0.995907</td>\n",
       "      <td>1.00</td>\n",
       "      <td>0.0</td>\n",
       "      <td>1.00</td>\n",
       "      <td>0.001645</td>\n",
       "    </tr>\n",
       "  </tbody>\n",
       "</table>\n",
       "<p>12 rows × 257 columns</p>\n",
       "</div>"
      ],
      "text/plain": [
       "    abs_draught  back_tension  bite_angle  \\\n",
       "0     -0.013732             0    0.347499   \n",
       "1     -0.011649             0    0.280793   \n",
       "2     -0.008682             0    0.300933   \n",
       "3     -0.008563             0    0.237338   \n",
       "4     -0.006529             0    0.270077   \n",
       "5     -0.008323             0    0.245759   \n",
       "6     -0.003872             0    0.192800   \n",
       "7     -0.004004             0    0.151850   \n",
       "8     -0.002963             0    0.184248   \n",
       "9     -0.003478             0    0.149784   \n",
       "10    -0.003136             0    0.180148   \n",
       "11    -0.002849             0    0.158293   \n",
       "\n",
       "                                          classifiers  contact_area  \\\n",
       "0   [circular_oval, symmetric, oval, generic_elong...      0.003680   \n",
       "1    [diamond, square, generic_elongation, symmetric]      0.001352   \n",
       "2   [circular_oval, symmetric, oval, generic_elong...      0.002432   \n",
       "3    [diamond, square, generic_elongation, symmetric]      0.000887   \n",
       "4   [circular_oval, symmetric, oval, generic_elong...      0.001537   \n",
       "5    [diamond, square, generic_elongation, symmetric]      0.000654   \n",
       "6   [circular_oval, symmetric, oval, generic_elong...      0.000716   \n",
       "7    [diamond, square, generic_elongation, symmetric]      0.000319   \n",
       "8   [circular_oval, symmetric, oval, generic_elong...      0.000576   \n",
       "9    [diamond, square, generic_elongation, symmetric]      0.000252   \n",
       "10  [circular_oval, symmetric, oval, generic_elong...      0.000462   \n",
       "11             [symmetric, generic_elongation, round]      0.000170   \n",
       "\n",
       "                                 contour_lines_coords  contour_lines_height  \\\n",
       "0   [[-0.03583173090990724, 0.0016562598214300798]...              0.017813   \n",
       "1   [[-0.023210037227734376, 0.0014999999999999996...              0.029010   \n",
       "2   [[-0.026510212098303156, 0.0016194235007149268...              0.013339   \n",
       "3   [[-0.01712580662215131, 0.0014999999999999996]...              0.021781   \n",
       "4   [[-0.02189104061731336, 0.0005887238273056834]...              0.010037   \n",
       "5   [[-0.01218242712474619, 4.999999999999796e-06]...              0.015402   \n",
       "6   [[-0.01644988123876536, 0.000547777667314624],...              0.008156   \n",
       "7   [[-0.01114724344186865, 4.999999999999796e-06]...              0.011791   \n",
       "8   [[-0.012788310082940919, 0.000546315387194217]...              0.006493   \n",
       "9   [[-0.009003151141499629, 4.999999999999796e-06...              0.009422   \n",
       "10  [[-0.01086772137273662, 5.308413018657061e-05]...              0.004426   \n",
       "11  [[-0.006723308428428389, 0.0001749999999999998...              0.007650   \n",
       "\n",
       "    contour_lines_length  contour_lines_width  \\\n",
       "0               0.148619             0.071663   \n",
       "1               0.112508             0.046420   \n",
       "2               0.109488             0.053020   \n",
       "3               0.082552             0.034252   \n",
       "4               0.090763             0.043782   \n",
       "5               0.060964             0.024365   \n",
       "6               0.068468             0.032900   \n",
       "7               0.053250             0.022294   \n",
       "8               0.053158             0.025577   \n",
       "9               0.042917             0.018006   \n",
       "10              0.044990             0.021735   \n",
       "11              0.033254             0.013447   \n",
       "\n",
       "                                      contour_lines_x  ...        volume  \\\n",
       "0   [-0.03583173090990724, -0.026070817018267762, ...  ...  3.659109e-05   \n",
       "1   [-0.023210037227734376, -0.017282037227734377,...  ...  2.139694e-05   \n",
       "2   [-0.026510212098303156, -0.019455012207654873,...  ...  1.754602e-05   \n",
       "3   [-0.01712580662215131, -0.01281780662215131, -...  ...  1.047274e-05   \n",
       "4   [-0.02189104061731336, -0.016107920412020915, ...  ...  8.316060e-06   \n",
       "5   [-0.01218242712474619, -0.00893842712474619, -...  ...  4.832466e-06   \n",
       "6   [-0.01644988123876536, -0.012244145539807993, ...  ...  3.134184e-06   \n",
       "7   [-0.01114724344186865, -0.00843124344186865, -...  ...  1.846309e-06   \n",
       "8   [-0.012788310082940919, -0.009538867857350785,...  ...  1.961308e-06   \n",
       "9   [-0.009003151141499629, -0.0068571511414996286...  ...  1.186404e-06   \n",
       "10  [-0.01086772137273662, -0.008068605827526835, ...  ...  1.089953e-06   \n",
       "11  [-0.006723308428428389, -0.005108571228827097,...  ...  9.078239e-07   \n",
       "\n",
       "   wusatowski_exponent  wusatowski_friction_coefficient  \\\n",
       "0             0.446932                                1   \n",
       "1             0.647181                                1   \n",
       "2             0.490090                                1   \n",
       "3             0.691330                                1   \n",
       "4             0.528938                                1   \n",
       "5             0.708185                                1   \n",
       "6             0.616047                                1   \n",
       "7             0.717887                                1   \n",
       "8             0.636729                                1   \n",
       "9             0.750014                                1   \n",
       "10            0.665021                                1   \n",
       "11            0.822760                                1   \n",
       "\n",
       "    wusatowski_material_coefficient  wusatowski_temperature_coefficient  \\\n",
       "0                                 1                                   1   \n",
       "1                                 1                                   1   \n",
       "2                                 1                                   1   \n",
       "3                                 1                                   1   \n",
       "4                                 1                                   1   \n",
       "5                                 1                                   1   \n",
       "6                                 1                                   1   \n",
       "7                                 1                                   1   \n",
       "8                                 1                                   1   \n",
       "9                                 1                                   1   \n",
       "10                                1                                   1   \n",
       "11                                1                                   1   \n",
       "\n",
       "    wusatowski_velocity_coefficient  zouhar_contact_c1 zouhar_contact_c2  \\\n",
       "0                          1.014367               0.82               0.2   \n",
       "1                          1.000998               1.00               0.1   \n",
       "2                          1.010285               0.82               0.2   \n",
       "3                          1.000481               1.00               0.1   \n",
       "4                          1.010201               0.82               0.2   \n",
       "5                          1.010437               1.00               0.1   \n",
       "6                          1.002191               0.82               0.2   \n",
       "7                          0.997912               1.00               0.1   \n",
       "8                          1.001609               0.82               0.2   \n",
       "9                          0.999703               1.00               0.1   \n",
       "10                         1.012025               0.82               0.2   \n",
       "11                         0.995907               1.00               0.0   \n",
       "\n",
       "    zouhar_contact_c3  zouhar_contact_in_width  \n",
       "0                1.02                 0.030476  \n",
       "1                1.00                 0.007923  \n",
       "2                1.02                 0.023019  \n",
       "3                1.00                 0.005922  \n",
       "4                1.02                 0.017307  \n",
       "5                1.00                 0.004390  \n",
       "6                1.02                 0.011476  \n",
       "7                1.00                 0.004730  \n",
       "8                1.02                 0.009581  \n",
       "9                1.00                 0.003377  \n",
       "10               1.02                 0.007600  \n",
       "11               1.00                 0.001645  \n",
       "\n",
       "[12 rows x 257 columns]"
      ]
     },
     "execution_count": 47,
     "metadata": {},
     "output_type": "execute_result"
    }
   ],
   "source": [
    "df_roll_passes"
   ]
  },
  {
   "cell_type": "code",
   "execution_count": 48,
   "id": "6f4306a19fd9912e",
   "metadata": {
    "ExecuteTime": {
     "end_time": "2025-01-14T10:27:20.302448Z",
     "start_time": "2025-01-14T10:27:20.298974Z"
    }
   },
   "outputs": [],
   "source": [
    "# eingeben der Versuchswerte in das Dataframe\n",
    "df_roll_passes[\"roll_forces_Versuch1\"] = [113.010e3, 53.246e3, 90.498e3, 40.851e3, 182.174e3, 61.004e3, 132.096e3, 41.894e3, 120.479e3, 26.249e3, 47.306e3, 17.512e3]\n",
    "df_roll_passes[\"roll_forces_Versuch2\"] = [108.376e3, 41.491e3, 71.915e3, 34.161e3, 181.861e3, 57.770e3, 120.285e3, 39.536e3, 113.934e3, 25.952e3, 46.163e3, 17.772e3]\n",
    "df_roll_passes[\"roll_forces_Versuch3\"] = [100.291e3, 45.351e3, 74.432e3, 33.464e3, 168.936e3, 55.071e3, 116.853e3, 38.994e3, 113.371e3, 25.744e3, 46.148e3, 16.781e3]\n",
    "df_roll_passes[\"roll_forces_Versuch4\"] = [115.891e3, 49.711e3, 81.784e3, 37.159e3, 178.414e3, 58.855e3, 122.823e3, 39.483e3, 117.520e3, 27.574e3, 50.804e3, 20.921e3]\n",
    "df_roll_passes[\"roll_torque_Versuch1\"] = [11.61e3, 5.15e3, 6.29e3, 3.51e3, 6.06e3, 2.73e3, 3.96e3, 1.72e3, 3.32e3, 1.18e3, 1.03e3, 0.83e3]\n",
    "df_roll_passes[\"roll_torque_Versuch2\"] = [10.23e3, 4.73e3, 5.47e3, 3.18e3, 5.81e3, 2.63e3, 3.75e3, 1.59e3, 3.17e3, 1.10e3, 0.95e3, 0.78e3]\n",
    "df_roll_passes[\"roll_torque_Versuch3\"] = [10.53e3, 5.05e3, 5.81e3, 3.27e3, 5.73e3, 2.82e3, 3.92e3, 1.86e3, 3.44e3, 1.37e3, 1.25e3, 1.10e3]\n",
    "df_roll_passes[\"roll_torque_Versuch4\"] = [10.80e3, 5.185e3, 5.91e3, 3.30e3, 5.98e3, 2.80e3, 4.04e3, 1.81e3, 3.44e3, 1.36e3, 1.26e3, 1.10e3]\n",
    "df_roll_passes[\"temperature_Versuch1\"] = [1040 + 273.15, 0, 0, 990 + 273.15, 0, 0, 0, 0, 0, 0, 0, 760 + 273.15]\n",
    "df_roll_passes[\"temperature_Versuch2\"] = [1040 + 273.15, 0, 0, 1020 + 273.15, 0, 0, 0, 0, 0, 0, 0, 750 + 273.15]\n",
    "df_roll_passes[\"temperature_Versuch3\"] = [1040 + 273.15, 0, 0, 1030 + 273.15, 0, 0, 0, 0, 0, 0, 0, 750 + 273.15]\n",
    "df_roll_passes[\"temperature_Versuch4\"] = [1040 + 273.15, 0, 0, 1020 + 273.15, 0, 0, 0, 0, 0, 0, 0, 725 + 273.15]\n",
    "\n"
   ]
  },
  {
   "cell_type": "code",
   "execution_count": 49,
   "id": "7707d471",
   "metadata": {},
   "outputs": [],
   "source": [
    "df_roll_passes[\"roll_roll_torque\"] *= 2"
   ]
  },
  {
   "cell_type": "code",
   "execution_count": 50,
   "id": "e0232d27c75bf47c",
   "metadata": {
    "ExecuteTime": {
     "end_time": "2025-01-14T10:27:24.940879Z",
     "start_time": "2025-01-14T10:27:24.914549Z"
    }
   },
   "outputs": [
    {
     "data": {
      "application/vnd.plotly.v1+json": {
       "config": {
        "plotlyServerURL": "https://plot.ly"
       },
       "data": [
        {
         "alignmentgroup": "True",
         "hovertemplate": "variable=roll_force<br>label=%{x}<br>value=%{y}<extra></extra>",
         "legendgroup": "roll_force",
         "marker": {
          "color": "#1F77B4",
          "pattern": {
           "shape": ""
          }
         },
         "name": "roll_force",
         "offsetgroup": "roll_force",
         "orientation": "v",
         "showlegend": true,
         "textposition": "auto",
         "type": "bar",
         "x": [
          "Oval V",
          "Quadrat VI",
          "Oval VII",
          "Quadrat VIII",
          "Oval IX",
          "Quadrat X",
          "Oval XI",
          "Quadrat XII",
          "Oval XIII",
          "Quadrat XIV",
          "Oval XV",
          "Fertigrund XVIa"
         ],
         "xaxis": "x",
         "y": [
          312554.1377388395,
          110872.51121558127,
          238859.21517201638,
          84488.2761417622,
          177459.13250215555,
          76120.17954761106,
          95803.59997481419,
          43766.17627722995,
          92841.83903126986,
          41563.44474067792,
          96183.87217166467,
          29970.67080805042
         ],
         "yaxis": "y"
        },
        {
         "alignmentgroup": "True",
         "hovertemplate": "variable=roll_forces_Versuch1<br>label=%{x}<br>value=%{y}<extra></extra>",
         "legendgroup": "roll_forces_Versuch1",
         "marker": {
          "color": "#FF7F0E",
          "pattern": {
           "shape": ""
          }
         },
         "name": "roll_forces_Versuch1",
         "offsetgroup": "roll_forces_Versuch1",
         "orientation": "v",
         "showlegend": true,
         "textposition": "auto",
         "type": "bar",
         "x": [
          "Oval V",
          "Quadrat VI",
          "Oval VII",
          "Quadrat VIII",
          "Oval IX",
          "Quadrat X",
          "Oval XI",
          "Quadrat XII",
          "Oval XIII",
          "Quadrat XIV",
          "Oval XV",
          "Fertigrund XVIa"
         ],
         "xaxis": "x",
         "y": [
          113010,
          53246,
          90498,
          40851,
          182174,
          61004,
          132096,
          41894,
          120479,
          26249,
          47306,
          17512
         ],
         "yaxis": "y"
        },
        {
         "alignmentgroup": "True",
         "hovertemplate": "variable=roll_forces_Versuch2<br>label=%{x}<br>value=%{y}<extra></extra>",
         "legendgroup": "roll_forces_Versuch2",
         "marker": {
          "color": "#2CA02C",
          "pattern": {
           "shape": ""
          }
         },
         "name": "roll_forces_Versuch2",
         "offsetgroup": "roll_forces_Versuch2",
         "orientation": "v",
         "showlegend": true,
         "textposition": "auto",
         "type": "bar",
         "x": [
          "Oval V",
          "Quadrat VI",
          "Oval VII",
          "Quadrat VIII",
          "Oval IX",
          "Quadrat X",
          "Oval XI",
          "Quadrat XII",
          "Oval XIII",
          "Quadrat XIV",
          "Oval XV",
          "Fertigrund XVIa"
         ],
         "xaxis": "x",
         "y": [
          108376,
          41491,
          71915,
          34161,
          181861,
          57770,
          120285,
          39536,
          113934,
          25952,
          46163,
          17772
         ],
         "yaxis": "y"
        },
        {
         "alignmentgroup": "True",
         "hovertemplate": "variable=roll_forces_Versuch3<br>label=%{x}<br>value=%{y}<extra></extra>",
         "legendgroup": "roll_forces_Versuch3",
         "marker": {
          "color": "#D62728",
          "pattern": {
           "shape": ""
          }
         },
         "name": "roll_forces_Versuch3",
         "offsetgroup": "roll_forces_Versuch3",
         "orientation": "v",
         "showlegend": true,
         "textposition": "auto",
         "type": "bar",
         "x": [
          "Oval V",
          "Quadrat VI",
          "Oval VII",
          "Quadrat VIII",
          "Oval IX",
          "Quadrat X",
          "Oval XI",
          "Quadrat XII",
          "Oval XIII",
          "Quadrat XIV",
          "Oval XV",
          "Fertigrund XVIa"
         ],
         "xaxis": "x",
         "y": [
          100291,
          45351,
          74432,
          33464,
          168936,
          55071,
          116853,
          38994,
          113371,
          25744,
          46148,
          16781
         ],
         "yaxis": "y"
        },
        {
         "alignmentgroup": "True",
         "hovertemplate": "variable=roll_forces_Versuch4<br>label=%{x}<br>value=%{y}<extra></extra>",
         "legendgroup": "roll_forces_Versuch4",
         "marker": {
          "color": "#9467BD",
          "pattern": {
           "shape": ""
          }
         },
         "name": "roll_forces_Versuch4",
         "offsetgroup": "roll_forces_Versuch4",
         "orientation": "v",
         "showlegend": true,
         "textposition": "auto",
         "type": "bar",
         "x": [
          "Oval V",
          "Quadrat VI",
          "Oval VII",
          "Quadrat VIII",
          "Oval IX",
          "Quadrat X",
          "Oval XI",
          "Quadrat XII",
          "Oval XIII",
          "Quadrat XIV",
          "Oval XV",
          "Fertigrund XVIa"
         ],
         "xaxis": "x",
         "y": [
          115891,
          49711,
          81784,
          37159,
          178414,
          58855,
          122823,
          39483,
          117520,
          27574,
          50804,
          20921
         ],
         "yaxis": "y"
        }
       ],
       "layout": {
        "barmode": "group",
        "legend": {
         "title": {
          "text": "variable"
         },
         "tracegroupgap": 0
        },
        "margin": {
         "t": 60
        },
        "template": {
         "data": {
          "bar": [
           {
            "error_x": {
             "color": "rgb(36,36,36)"
            },
            "error_y": {
             "color": "rgb(36,36,36)"
            },
            "marker": {
             "line": {
              "color": "white",
              "width": 0.5
             },
             "pattern": {
              "fillmode": "overlay",
              "size": 10,
              "solidity": 0.2
             }
            },
            "type": "bar"
           }
          ],
          "barpolar": [
           {
            "marker": {
             "line": {
              "color": "white",
              "width": 0.5
             },
             "pattern": {
              "fillmode": "overlay",
              "size": 10,
              "solidity": 0.2
             }
            },
            "type": "barpolar"
           }
          ],
          "carpet": [
           {
            "aaxis": {
             "endlinecolor": "rgb(36,36,36)",
             "gridcolor": "white",
             "linecolor": "white",
             "minorgridcolor": "white",
             "startlinecolor": "rgb(36,36,36)"
            },
            "baxis": {
             "endlinecolor": "rgb(36,36,36)",
             "gridcolor": "white",
             "linecolor": "white",
             "minorgridcolor": "white",
             "startlinecolor": "rgb(36,36,36)"
            },
            "type": "carpet"
           }
          ],
          "choropleth": [
           {
            "colorbar": {
             "outlinewidth": 1,
             "tickcolor": "rgb(36,36,36)",
             "ticks": "outside"
            },
            "type": "choropleth"
           }
          ],
          "contour": [
           {
            "colorbar": {
             "outlinewidth": 1,
             "tickcolor": "rgb(36,36,36)",
             "ticks": "outside"
            },
            "colorscale": [
             [
              0,
              "#440154"
             ],
             [
              0.1111111111111111,
              "#482878"
             ],
             [
              0.2222222222222222,
              "#3e4989"
             ],
             [
              0.3333333333333333,
              "#31688e"
             ],
             [
              0.4444444444444444,
              "#26828e"
             ],
             [
              0.5555555555555556,
              "#1f9e89"
             ],
             [
              0.6666666666666666,
              "#35b779"
             ],
             [
              0.7777777777777778,
              "#6ece58"
             ],
             [
              0.8888888888888888,
              "#b5de2b"
             ],
             [
              1,
              "#fde725"
             ]
            ],
            "type": "contour"
           }
          ],
          "contourcarpet": [
           {
            "colorbar": {
             "outlinewidth": 1,
             "tickcolor": "rgb(36,36,36)",
             "ticks": "outside"
            },
            "type": "contourcarpet"
           }
          ],
          "heatmap": [
           {
            "colorbar": {
             "outlinewidth": 1,
             "tickcolor": "rgb(36,36,36)",
             "ticks": "outside"
            },
            "colorscale": [
             [
              0,
              "#440154"
             ],
             [
              0.1111111111111111,
              "#482878"
             ],
             [
              0.2222222222222222,
              "#3e4989"
             ],
             [
              0.3333333333333333,
              "#31688e"
             ],
             [
              0.4444444444444444,
              "#26828e"
             ],
             [
              0.5555555555555556,
              "#1f9e89"
             ],
             [
              0.6666666666666666,
              "#35b779"
             ],
             [
              0.7777777777777778,
              "#6ece58"
             ],
             [
              0.8888888888888888,
              "#b5de2b"
             ],
             [
              1,
              "#fde725"
             ]
            ],
            "type": "heatmap"
           }
          ],
          "heatmapgl": [
           {
            "colorbar": {
             "outlinewidth": 1,
             "tickcolor": "rgb(36,36,36)",
             "ticks": "outside"
            },
            "colorscale": [
             [
              0,
              "#440154"
             ],
             [
              0.1111111111111111,
              "#482878"
             ],
             [
              0.2222222222222222,
              "#3e4989"
             ],
             [
              0.3333333333333333,
              "#31688e"
             ],
             [
              0.4444444444444444,
              "#26828e"
             ],
             [
              0.5555555555555556,
              "#1f9e89"
             ],
             [
              0.6666666666666666,
              "#35b779"
             ],
             [
              0.7777777777777778,
              "#6ece58"
             ],
             [
              0.8888888888888888,
              "#b5de2b"
             ],
             [
              1,
              "#fde725"
             ]
            ],
            "type": "heatmapgl"
           }
          ],
          "histogram": [
           {
            "marker": {
             "line": {
              "color": "white",
              "width": 0.6
             }
            },
            "type": "histogram"
           }
          ],
          "histogram2d": [
           {
            "colorbar": {
             "outlinewidth": 1,
             "tickcolor": "rgb(36,36,36)",
             "ticks": "outside"
            },
            "colorscale": [
             [
              0,
              "#440154"
             ],
             [
              0.1111111111111111,
              "#482878"
             ],
             [
              0.2222222222222222,
              "#3e4989"
             ],
             [
              0.3333333333333333,
              "#31688e"
             ],
             [
              0.4444444444444444,
              "#26828e"
             ],
             [
              0.5555555555555556,
              "#1f9e89"
             ],
             [
              0.6666666666666666,
              "#35b779"
             ],
             [
              0.7777777777777778,
              "#6ece58"
             ],
             [
              0.8888888888888888,
              "#b5de2b"
             ],
             [
              1,
              "#fde725"
             ]
            ],
            "type": "histogram2d"
           }
          ],
          "histogram2dcontour": [
           {
            "colorbar": {
             "outlinewidth": 1,
             "tickcolor": "rgb(36,36,36)",
             "ticks": "outside"
            },
            "colorscale": [
             [
              0,
              "#440154"
             ],
             [
              0.1111111111111111,
              "#482878"
             ],
             [
              0.2222222222222222,
              "#3e4989"
             ],
             [
              0.3333333333333333,
              "#31688e"
             ],
             [
              0.4444444444444444,
              "#26828e"
             ],
             [
              0.5555555555555556,
              "#1f9e89"
             ],
             [
              0.6666666666666666,
              "#35b779"
             ],
             [
              0.7777777777777778,
              "#6ece58"
             ],
             [
              0.8888888888888888,
              "#b5de2b"
             ],
             [
              1,
              "#fde725"
             ]
            ],
            "type": "histogram2dcontour"
           }
          ],
          "mesh3d": [
           {
            "colorbar": {
             "outlinewidth": 1,
             "tickcolor": "rgb(36,36,36)",
             "ticks": "outside"
            },
            "type": "mesh3d"
           }
          ],
          "parcoords": [
           {
            "line": {
             "colorbar": {
              "outlinewidth": 1,
              "tickcolor": "rgb(36,36,36)",
              "ticks": "outside"
             }
            },
            "type": "parcoords"
           }
          ],
          "pie": [
           {
            "automargin": true,
            "type": "pie"
           }
          ],
          "scatter": [
           {
            "fillpattern": {
             "fillmode": "overlay",
             "size": 10,
             "solidity": 0.2
            },
            "type": "scatter"
           }
          ],
          "scatter3d": [
           {
            "line": {
             "colorbar": {
              "outlinewidth": 1,
              "tickcolor": "rgb(36,36,36)",
              "ticks": "outside"
             }
            },
            "marker": {
             "colorbar": {
              "outlinewidth": 1,
              "tickcolor": "rgb(36,36,36)",
              "ticks": "outside"
             }
            },
            "type": "scatter3d"
           }
          ],
          "scattercarpet": [
           {
            "marker": {
             "colorbar": {
              "outlinewidth": 1,
              "tickcolor": "rgb(36,36,36)",
              "ticks": "outside"
             }
            },
            "type": "scattercarpet"
           }
          ],
          "scattergeo": [
           {
            "marker": {
             "colorbar": {
              "outlinewidth": 1,
              "tickcolor": "rgb(36,36,36)",
              "ticks": "outside"
             }
            },
            "type": "scattergeo"
           }
          ],
          "scattergl": [
           {
            "marker": {
             "colorbar": {
              "outlinewidth": 1,
              "tickcolor": "rgb(36,36,36)",
              "ticks": "outside"
             }
            },
            "type": "scattergl"
           }
          ],
          "scattermapbox": [
           {
            "marker": {
             "colorbar": {
              "outlinewidth": 1,
              "tickcolor": "rgb(36,36,36)",
              "ticks": "outside"
             }
            },
            "type": "scattermapbox"
           }
          ],
          "scatterpolar": [
           {
            "marker": {
             "colorbar": {
              "outlinewidth": 1,
              "tickcolor": "rgb(36,36,36)",
              "ticks": "outside"
             }
            },
            "type": "scatterpolar"
           }
          ],
          "scatterpolargl": [
           {
            "marker": {
             "colorbar": {
              "outlinewidth": 1,
              "tickcolor": "rgb(36,36,36)",
              "ticks": "outside"
             }
            },
            "type": "scatterpolargl"
           }
          ],
          "scatterternary": [
           {
            "marker": {
             "colorbar": {
              "outlinewidth": 1,
              "tickcolor": "rgb(36,36,36)",
              "ticks": "outside"
             }
            },
            "type": "scatterternary"
           }
          ],
          "surface": [
           {
            "colorbar": {
             "outlinewidth": 1,
             "tickcolor": "rgb(36,36,36)",
             "ticks": "outside"
            },
            "colorscale": [
             [
              0,
              "#440154"
             ],
             [
              0.1111111111111111,
              "#482878"
             ],
             [
              0.2222222222222222,
              "#3e4989"
             ],
             [
              0.3333333333333333,
              "#31688e"
             ],
             [
              0.4444444444444444,
              "#26828e"
             ],
             [
              0.5555555555555556,
              "#1f9e89"
             ],
             [
              0.6666666666666666,
              "#35b779"
             ],
             [
              0.7777777777777778,
              "#6ece58"
             ],
             [
              0.8888888888888888,
              "#b5de2b"
             ],
             [
              1,
              "#fde725"
             ]
            ],
            "type": "surface"
           }
          ],
          "table": [
           {
            "cells": {
             "fill": {
              "color": "rgb(237,237,237)"
             },
             "line": {
              "color": "white"
             }
            },
            "header": {
             "fill": {
              "color": "rgb(217,217,217)"
             },
             "line": {
              "color": "white"
             }
            },
            "type": "table"
           }
          ]
         },
         "layout": {
          "annotationdefaults": {
           "arrowhead": 0,
           "arrowwidth": 1
          },
          "autotypenumbers": "strict",
          "coloraxis": {
           "colorbar": {
            "outlinewidth": 1,
            "tickcolor": "rgb(36,36,36)",
            "ticks": "outside"
           }
          },
          "colorscale": {
           "diverging": [
            [
             0,
             "rgb(103,0,31)"
            ],
            [
             0.1,
             "rgb(178,24,43)"
            ],
            [
             0.2,
             "rgb(214,96,77)"
            ],
            [
             0.3,
             "rgb(244,165,130)"
            ],
            [
             0.4,
             "rgb(253,219,199)"
            ],
            [
             0.5,
             "rgb(247,247,247)"
            ],
            [
             0.6,
             "rgb(209,229,240)"
            ],
            [
             0.7,
             "rgb(146,197,222)"
            ],
            [
             0.8,
             "rgb(67,147,195)"
            ],
            [
             0.9,
             "rgb(33,102,172)"
            ],
            [
             1,
             "rgb(5,48,97)"
            ]
           ],
           "sequential": [
            [
             0,
             "#440154"
            ],
            [
             0.1111111111111111,
             "#482878"
            ],
            [
             0.2222222222222222,
             "#3e4989"
            ],
            [
             0.3333333333333333,
             "#31688e"
            ],
            [
             0.4444444444444444,
             "#26828e"
            ],
            [
             0.5555555555555556,
             "#1f9e89"
            ],
            [
             0.6666666666666666,
             "#35b779"
            ],
            [
             0.7777777777777778,
             "#6ece58"
            ],
            [
             0.8888888888888888,
             "#b5de2b"
            ],
            [
             1,
             "#fde725"
            ]
           ],
           "sequentialminus": [
            [
             0,
             "#440154"
            ],
            [
             0.1111111111111111,
             "#482878"
            ],
            [
             0.2222222222222222,
             "#3e4989"
            ],
            [
             0.3333333333333333,
             "#31688e"
            ],
            [
             0.4444444444444444,
             "#26828e"
            ],
            [
             0.5555555555555556,
             "#1f9e89"
            ],
            [
             0.6666666666666666,
             "#35b779"
            ],
            [
             0.7777777777777778,
             "#6ece58"
            ],
            [
             0.8888888888888888,
             "#b5de2b"
            ],
            [
             1,
             "#fde725"
            ]
           ]
          },
          "colorway": [
           "#1F77B4",
           "#FF7F0E",
           "#2CA02C",
           "#D62728",
           "#9467BD",
           "#8C564B",
           "#E377C2",
           "#7F7F7F",
           "#BCBD22",
           "#17BECF"
          ],
          "font": {
           "color": "rgb(36,36,36)"
          },
          "geo": {
           "bgcolor": "white",
           "lakecolor": "white",
           "landcolor": "white",
           "showlakes": true,
           "showland": true,
           "subunitcolor": "white"
          },
          "hoverlabel": {
           "align": "left"
          },
          "hovermode": "closest",
          "mapbox": {
           "style": "light"
          },
          "paper_bgcolor": "white",
          "plot_bgcolor": "white",
          "polar": {
           "angularaxis": {
            "gridcolor": "rgb(232,232,232)",
            "linecolor": "rgb(36,36,36)",
            "showgrid": false,
            "showline": true,
            "ticks": "outside"
           },
           "bgcolor": "white",
           "radialaxis": {
            "gridcolor": "rgb(232,232,232)",
            "linecolor": "rgb(36,36,36)",
            "showgrid": false,
            "showline": true,
            "ticks": "outside"
           }
          },
          "scene": {
           "xaxis": {
            "backgroundcolor": "white",
            "gridcolor": "rgb(232,232,232)",
            "gridwidth": 2,
            "linecolor": "rgb(36,36,36)",
            "showbackground": true,
            "showgrid": false,
            "showline": true,
            "ticks": "outside",
            "zeroline": false,
            "zerolinecolor": "rgb(36,36,36)"
           },
           "yaxis": {
            "backgroundcolor": "white",
            "gridcolor": "rgb(232,232,232)",
            "gridwidth": 2,
            "linecolor": "rgb(36,36,36)",
            "showbackground": true,
            "showgrid": false,
            "showline": true,
            "ticks": "outside",
            "zeroline": false,
            "zerolinecolor": "rgb(36,36,36)"
           },
           "zaxis": {
            "backgroundcolor": "white",
            "gridcolor": "rgb(232,232,232)",
            "gridwidth": 2,
            "linecolor": "rgb(36,36,36)",
            "showbackground": true,
            "showgrid": false,
            "showline": true,
            "ticks": "outside",
            "zeroline": false,
            "zerolinecolor": "rgb(36,36,36)"
           }
          },
          "shapedefaults": {
           "fillcolor": "black",
           "line": {
            "width": 0
           },
           "opacity": 0.3
          },
          "ternary": {
           "aaxis": {
            "gridcolor": "rgb(232,232,232)",
            "linecolor": "rgb(36,36,36)",
            "showgrid": false,
            "showline": true,
            "ticks": "outside"
           },
           "baxis": {
            "gridcolor": "rgb(232,232,232)",
            "linecolor": "rgb(36,36,36)",
            "showgrid": false,
            "showline": true,
            "ticks": "outside"
           },
           "bgcolor": "white",
           "caxis": {
            "gridcolor": "rgb(232,232,232)",
            "linecolor": "rgb(36,36,36)",
            "showgrid": false,
            "showline": true,
            "ticks": "outside"
           }
          },
          "title": {
           "x": 0.05
          },
          "xaxis": {
           "automargin": true,
           "gridcolor": "rgb(232,232,232)",
           "linecolor": "rgb(36,36,36)",
           "showgrid": false,
           "showline": true,
           "ticks": "outside",
           "title": {
            "standoff": 15
           },
           "zeroline": false,
           "zerolinecolor": "rgb(36,36,36)"
          },
          "yaxis": {
           "automargin": true,
           "gridcolor": "rgb(232,232,232)",
           "linecolor": "rgb(36,36,36)",
           "showgrid": false,
           "showline": true,
           "ticks": "outside",
           "title": {
            "standoff": 15
           },
           "zeroline": false,
           "zerolinecolor": "rgb(36,36,36)"
          }
         }
        },
        "xaxis": {
         "anchor": "y",
         "domain": [
          0,
          1
         ],
         "title": {
          "text": "label"
         }
        },
        "yaxis": {
         "anchor": "x",
         "domain": [
          0,
          1
         ],
         "title": {
          "text": "value"
         }
        }
       }
      }
     },
     "metadata": {},
     "output_type": "display_data"
    }
   ],
   "source": [
    "px.bar(df_roll_passes, x=\"label\", y=[\"roll_force\", \"roll_forces_Versuch1\", \"roll_forces_Versuch2\",\"roll_forces_Versuch3\",\"roll_forces_Versuch4\" ], barmode=\"group\")"
   ]
  },
  {
   "cell_type": "code",
   "execution_count": 51,
   "id": "2e78e9d8d5fd0e5a",
   "metadata": {},
   "outputs": [
    {
     "data": {
      "application/vnd.plotly.v1+json": {
       "config": {
        "plotlyServerURL": "https://plot.ly"
       },
       "data": [
        {
         "alignmentgroup": "True",
         "hovertemplate": "variable=roll_roll_torque<br>label=%{x}<br>value=%{y}<extra></extra>",
         "legendgroup": "roll_roll_torque",
         "marker": {
          "color": "#1F77B4",
          "pattern": {
           "shape": ""
          }
         },
         "name": "roll_roll_torque",
         "offsetgroup": "roll_roll_torque",
         "orientation": "v",
         "showlegend": true,
         "textposition": "auto",
         "type": "bar",
         "x": [
          "Oval V",
          "Quadrat VI",
          "Oval VII",
          "Quadrat VIII",
          "Oval IX",
          "Quadrat X",
          "Oval XI",
          "Quadrat XII",
          "Oval XIII",
          "Quadrat XIV",
          "Oval XV",
          "Fertigrund XVIa"
         ],
         "xaxis": "x",
         "y": [
          12963.832193147462,
          6214.631080948261,
          7174.118314057287,
          4038.547700940452,
          4446.727466488036,
          3342.0426578186884,
          1999.1611776780555,
          1414.5048602198694,
          1545.350382966664,
          1204.7079785818912,
          1700.4819423250754,
          763.3549401272104
         ],
         "yaxis": "y"
        },
        {
         "alignmentgroup": "True",
         "hovertemplate": "variable=roll_torque_Versuch1<br>label=%{x}<br>value=%{y}<extra></extra>",
         "legendgroup": "roll_torque_Versuch1",
         "marker": {
          "color": "#FF7F0E",
          "pattern": {
           "shape": ""
          }
         },
         "name": "roll_torque_Versuch1",
         "offsetgroup": "roll_torque_Versuch1",
         "orientation": "v",
         "showlegend": true,
         "textposition": "auto",
         "type": "bar",
         "x": [
          "Oval V",
          "Quadrat VI",
          "Oval VII",
          "Quadrat VIII",
          "Oval IX",
          "Quadrat X",
          "Oval XI",
          "Quadrat XII",
          "Oval XIII",
          "Quadrat XIV",
          "Oval XV",
          "Fertigrund XVIa"
         ],
         "xaxis": "x",
         "y": [
          11610,
          5150,
          6290,
          3510,
          6060,
          2730,
          3960,
          1720,
          3320,
          1180,
          1030,
          830
         ],
         "yaxis": "y"
        },
        {
         "alignmentgroup": "True",
         "hovertemplate": "variable=roll_torque_Versuch2<br>label=%{x}<br>value=%{y}<extra></extra>",
         "legendgroup": "roll_torque_Versuch2",
         "marker": {
          "color": "#2CA02C",
          "pattern": {
           "shape": ""
          }
         },
         "name": "roll_torque_Versuch2",
         "offsetgroup": "roll_torque_Versuch2",
         "orientation": "v",
         "showlegend": true,
         "textposition": "auto",
         "type": "bar",
         "x": [
          "Oval V",
          "Quadrat VI",
          "Oval VII",
          "Quadrat VIII",
          "Oval IX",
          "Quadrat X",
          "Oval XI",
          "Quadrat XII",
          "Oval XIII",
          "Quadrat XIV",
          "Oval XV",
          "Fertigrund XVIa"
         ],
         "xaxis": "x",
         "y": [
          10230,
          4730,
          5470,
          3180,
          5810,
          2630,
          3750,
          1590,
          3170,
          1100,
          950,
          780
         ],
         "yaxis": "y"
        },
        {
         "alignmentgroup": "True",
         "hovertemplate": "variable=roll_torque_Versuch3<br>label=%{x}<br>value=%{y}<extra></extra>",
         "legendgroup": "roll_torque_Versuch3",
         "marker": {
          "color": "#D62728",
          "pattern": {
           "shape": ""
          }
         },
         "name": "roll_torque_Versuch3",
         "offsetgroup": "roll_torque_Versuch3",
         "orientation": "v",
         "showlegend": true,
         "textposition": "auto",
         "type": "bar",
         "x": [
          "Oval V",
          "Quadrat VI",
          "Oval VII",
          "Quadrat VIII",
          "Oval IX",
          "Quadrat X",
          "Oval XI",
          "Quadrat XII",
          "Oval XIII",
          "Quadrat XIV",
          "Oval XV",
          "Fertigrund XVIa"
         ],
         "xaxis": "x",
         "y": [
          10530,
          5050,
          5810,
          3270,
          5730,
          2820,
          3920,
          1860,
          3440,
          1370,
          1250,
          1100
         ],
         "yaxis": "y"
        },
        {
         "alignmentgroup": "True",
         "hovertemplate": "variable=roll_torque_Versuch4<br>label=%{x}<br>value=%{y}<extra></extra>",
         "legendgroup": "roll_torque_Versuch4",
         "marker": {
          "color": "#9467BD",
          "pattern": {
           "shape": ""
          }
         },
         "name": "roll_torque_Versuch4",
         "offsetgroup": "roll_torque_Versuch4",
         "orientation": "v",
         "showlegend": true,
         "textposition": "auto",
         "type": "bar",
         "x": [
          "Oval V",
          "Quadrat VI",
          "Oval VII",
          "Quadrat VIII",
          "Oval IX",
          "Quadrat X",
          "Oval XI",
          "Quadrat XII",
          "Oval XIII",
          "Quadrat XIV",
          "Oval XV",
          "Fertigrund XVIa"
         ],
         "xaxis": "x",
         "y": [
          10800,
          5185,
          5910,
          3300,
          5980,
          2800,
          4040,
          1810,
          3440,
          1360,
          1260,
          1100
         ],
         "yaxis": "y"
        }
       ],
       "layout": {
        "barmode": "group",
        "legend": {
         "title": {
          "text": "variable"
         },
         "tracegroupgap": 0
        },
        "margin": {
         "t": 60
        },
        "template": {
         "data": {
          "bar": [
           {
            "error_x": {
             "color": "rgb(36,36,36)"
            },
            "error_y": {
             "color": "rgb(36,36,36)"
            },
            "marker": {
             "line": {
              "color": "white",
              "width": 0.5
             },
             "pattern": {
              "fillmode": "overlay",
              "size": 10,
              "solidity": 0.2
             }
            },
            "type": "bar"
           }
          ],
          "barpolar": [
           {
            "marker": {
             "line": {
              "color": "white",
              "width": 0.5
             },
             "pattern": {
              "fillmode": "overlay",
              "size": 10,
              "solidity": 0.2
             }
            },
            "type": "barpolar"
           }
          ],
          "carpet": [
           {
            "aaxis": {
             "endlinecolor": "rgb(36,36,36)",
             "gridcolor": "white",
             "linecolor": "white",
             "minorgridcolor": "white",
             "startlinecolor": "rgb(36,36,36)"
            },
            "baxis": {
             "endlinecolor": "rgb(36,36,36)",
             "gridcolor": "white",
             "linecolor": "white",
             "minorgridcolor": "white",
             "startlinecolor": "rgb(36,36,36)"
            },
            "type": "carpet"
           }
          ],
          "choropleth": [
           {
            "colorbar": {
             "outlinewidth": 1,
             "tickcolor": "rgb(36,36,36)",
             "ticks": "outside"
            },
            "type": "choropleth"
           }
          ],
          "contour": [
           {
            "colorbar": {
             "outlinewidth": 1,
             "tickcolor": "rgb(36,36,36)",
             "ticks": "outside"
            },
            "colorscale": [
             [
              0,
              "#440154"
             ],
             [
              0.1111111111111111,
              "#482878"
             ],
             [
              0.2222222222222222,
              "#3e4989"
             ],
             [
              0.3333333333333333,
              "#31688e"
             ],
             [
              0.4444444444444444,
              "#26828e"
             ],
             [
              0.5555555555555556,
              "#1f9e89"
             ],
             [
              0.6666666666666666,
              "#35b779"
             ],
             [
              0.7777777777777778,
              "#6ece58"
             ],
             [
              0.8888888888888888,
              "#b5de2b"
             ],
             [
              1,
              "#fde725"
             ]
            ],
            "type": "contour"
           }
          ],
          "contourcarpet": [
           {
            "colorbar": {
             "outlinewidth": 1,
             "tickcolor": "rgb(36,36,36)",
             "ticks": "outside"
            },
            "type": "contourcarpet"
           }
          ],
          "heatmap": [
           {
            "colorbar": {
             "outlinewidth": 1,
             "tickcolor": "rgb(36,36,36)",
             "ticks": "outside"
            },
            "colorscale": [
             [
              0,
              "#440154"
             ],
             [
              0.1111111111111111,
              "#482878"
             ],
             [
              0.2222222222222222,
              "#3e4989"
             ],
             [
              0.3333333333333333,
              "#31688e"
             ],
             [
              0.4444444444444444,
              "#26828e"
             ],
             [
              0.5555555555555556,
              "#1f9e89"
             ],
             [
              0.6666666666666666,
              "#35b779"
             ],
             [
              0.7777777777777778,
              "#6ece58"
             ],
             [
              0.8888888888888888,
              "#b5de2b"
             ],
             [
              1,
              "#fde725"
             ]
            ],
            "type": "heatmap"
           }
          ],
          "heatmapgl": [
           {
            "colorbar": {
             "outlinewidth": 1,
             "tickcolor": "rgb(36,36,36)",
             "ticks": "outside"
            },
            "colorscale": [
             [
              0,
              "#440154"
             ],
             [
              0.1111111111111111,
              "#482878"
             ],
             [
              0.2222222222222222,
              "#3e4989"
             ],
             [
              0.3333333333333333,
              "#31688e"
             ],
             [
              0.4444444444444444,
              "#26828e"
             ],
             [
              0.5555555555555556,
              "#1f9e89"
             ],
             [
              0.6666666666666666,
              "#35b779"
             ],
             [
              0.7777777777777778,
              "#6ece58"
             ],
             [
              0.8888888888888888,
              "#b5de2b"
             ],
             [
              1,
              "#fde725"
             ]
            ],
            "type": "heatmapgl"
           }
          ],
          "histogram": [
           {
            "marker": {
             "line": {
              "color": "white",
              "width": 0.6
             }
            },
            "type": "histogram"
           }
          ],
          "histogram2d": [
           {
            "colorbar": {
             "outlinewidth": 1,
             "tickcolor": "rgb(36,36,36)",
             "ticks": "outside"
            },
            "colorscale": [
             [
              0,
              "#440154"
             ],
             [
              0.1111111111111111,
              "#482878"
             ],
             [
              0.2222222222222222,
              "#3e4989"
             ],
             [
              0.3333333333333333,
              "#31688e"
             ],
             [
              0.4444444444444444,
              "#26828e"
             ],
             [
              0.5555555555555556,
              "#1f9e89"
             ],
             [
              0.6666666666666666,
              "#35b779"
             ],
             [
              0.7777777777777778,
              "#6ece58"
             ],
             [
              0.8888888888888888,
              "#b5de2b"
             ],
             [
              1,
              "#fde725"
             ]
            ],
            "type": "histogram2d"
           }
          ],
          "histogram2dcontour": [
           {
            "colorbar": {
             "outlinewidth": 1,
             "tickcolor": "rgb(36,36,36)",
             "ticks": "outside"
            },
            "colorscale": [
             [
              0,
              "#440154"
             ],
             [
              0.1111111111111111,
              "#482878"
             ],
             [
              0.2222222222222222,
              "#3e4989"
             ],
             [
              0.3333333333333333,
              "#31688e"
             ],
             [
              0.4444444444444444,
              "#26828e"
             ],
             [
              0.5555555555555556,
              "#1f9e89"
             ],
             [
              0.6666666666666666,
              "#35b779"
             ],
             [
              0.7777777777777778,
              "#6ece58"
             ],
             [
              0.8888888888888888,
              "#b5de2b"
             ],
             [
              1,
              "#fde725"
             ]
            ],
            "type": "histogram2dcontour"
           }
          ],
          "mesh3d": [
           {
            "colorbar": {
             "outlinewidth": 1,
             "tickcolor": "rgb(36,36,36)",
             "ticks": "outside"
            },
            "type": "mesh3d"
           }
          ],
          "parcoords": [
           {
            "line": {
             "colorbar": {
              "outlinewidth": 1,
              "tickcolor": "rgb(36,36,36)",
              "ticks": "outside"
             }
            },
            "type": "parcoords"
           }
          ],
          "pie": [
           {
            "automargin": true,
            "type": "pie"
           }
          ],
          "scatter": [
           {
            "fillpattern": {
             "fillmode": "overlay",
             "size": 10,
             "solidity": 0.2
            },
            "type": "scatter"
           }
          ],
          "scatter3d": [
           {
            "line": {
             "colorbar": {
              "outlinewidth": 1,
              "tickcolor": "rgb(36,36,36)",
              "ticks": "outside"
             }
            },
            "marker": {
             "colorbar": {
              "outlinewidth": 1,
              "tickcolor": "rgb(36,36,36)",
              "ticks": "outside"
             }
            },
            "type": "scatter3d"
           }
          ],
          "scattercarpet": [
           {
            "marker": {
             "colorbar": {
              "outlinewidth": 1,
              "tickcolor": "rgb(36,36,36)",
              "ticks": "outside"
             }
            },
            "type": "scattercarpet"
           }
          ],
          "scattergeo": [
           {
            "marker": {
             "colorbar": {
              "outlinewidth": 1,
              "tickcolor": "rgb(36,36,36)",
              "ticks": "outside"
             }
            },
            "type": "scattergeo"
           }
          ],
          "scattergl": [
           {
            "marker": {
             "colorbar": {
              "outlinewidth": 1,
              "tickcolor": "rgb(36,36,36)",
              "ticks": "outside"
             }
            },
            "type": "scattergl"
           }
          ],
          "scattermapbox": [
           {
            "marker": {
             "colorbar": {
              "outlinewidth": 1,
              "tickcolor": "rgb(36,36,36)",
              "ticks": "outside"
             }
            },
            "type": "scattermapbox"
           }
          ],
          "scatterpolar": [
           {
            "marker": {
             "colorbar": {
              "outlinewidth": 1,
              "tickcolor": "rgb(36,36,36)",
              "ticks": "outside"
             }
            },
            "type": "scatterpolar"
           }
          ],
          "scatterpolargl": [
           {
            "marker": {
             "colorbar": {
              "outlinewidth": 1,
              "tickcolor": "rgb(36,36,36)",
              "ticks": "outside"
             }
            },
            "type": "scatterpolargl"
           }
          ],
          "scatterternary": [
           {
            "marker": {
             "colorbar": {
              "outlinewidth": 1,
              "tickcolor": "rgb(36,36,36)",
              "ticks": "outside"
             }
            },
            "type": "scatterternary"
           }
          ],
          "surface": [
           {
            "colorbar": {
             "outlinewidth": 1,
             "tickcolor": "rgb(36,36,36)",
             "ticks": "outside"
            },
            "colorscale": [
             [
              0,
              "#440154"
             ],
             [
              0.1111111111111111,
              "#482878"
             ],
             [
              0.2222222222222222,
              "#3e4989"
             ],
             [
              0.3333333333333333,
              "#31688e"
             ],
             [
              0.4444444444444444,
              "#26828e"
             ],
             [
              0.5555555555555556,
              "#1f9e89"
             ],
             [
              0.6666666666666666,
              "#35b779"
             ],
             [
              0.7777777777777778,
              "#6ece58"
             ],
             [
              0.8888888888888888,
              "#b5de2b"
             ],
             [
              1,
              "#fde725"
             ]
            ],
            "type": "surface"
           }
          ],
          "table": [
           {
            "cells": {
             "fill": {
              "color": "rgb(237,237,237)"
             },
             "line": {
              "color": "white"
             }
            },
            "header": {
             "fill": {
              "color": "rgb(217,217,217)"
             },
             "line": {
              "color": "white"
             }
            },
            "type": "table"
           }
          ]
         },
         "layout": {
          "annotationdefaults": {
           "arrowhead": 0,
           "arrowwidth": 1
          },
          "autotypenumbers": "strict",
          "coloraxis": {
           "colorbar": {
            "outlinewidth": 1,
            "tickcolor": "rgb(36,36,36)",
            "ticks": "outside"
           }
          },
          "colorscale": {
           "diverging": [
            [
             0,
             "rgb(103,0,31)"
            ],
            [
             0.1,
             "rgb(178,24,43)"
            ],
            [
             0.2,
             "rgb(214,96,77)"
            ],
            [
             0.3,
             "rgb(244,165,130)"
            ],
            [
             0.4,
             "rgb(253,219,199)"
            ],
            [
             0.5,
             "rgb(247,247,247)"
            ],
            [
             0.6,
             "rgb(209,229,240)"
            ],
            [
             0.7,
             "rgb(146,197,222)"
            ],
            [
             0.8,
             "rgb(67,147,195)"
            ],
            [
             0.9,
             "rgb(33,102,172)"
            ],
            [
             1,
             "rgb(5,48,97)"
            ]
           ],
           "sequential": [
            [
             0,
             "#440154"
            ],
            [
             0.1111111111111111,
             "#482878"
            ],
            [
             0.2222222222222222,
             "#3e4989"
            ],
            [
             0.3333333333333333,
             "#31688e"
            ],
            [
             0.4444444444444444,
             "#26828e"
            ],
            [
             0.5555555555555556,
             "#1f9e89"
            ],
            [
             0.6666666666666666,
             "#35b779"
            ],
            [
             0.7777777777777778,
             "#6ece58"
            ],
            [
             0.8888888888888888,
             "#b5de2b"
            ],
            [
             1,
             "#fde725"
            ]
           ],
           "sequentialminus": [
            [
             0,
             "#440154"
            ],
            [
             0.1111111111111111,
             "#482878"
            ],
            [
             0.2222222222222222,
             "#3e4989"
            ],
            [
             0.3333333333333333,
             "#31688e"
            ],
            [
             0.4444444444444444,
             "#26828e"
            ],
            [
             0.5555555555555556,
             "#1f9e89"
            ],
            [
             0.6666666666666666,
             "#35b779"
            ],
            [
             0.7777777777777778,
             "#6ece58"
            ],
            [
             0.8888888888888888,
             "#b5de2b"
            ],
            [
             1,
             "#fde725"
            ]
           ]
          },
          "colorway": [
           "#1F77B4",
           "#FF7F0E",
           "#2CA02C",
           "#D62728",
           "#9467BD",
           "#8C564B",
           "#E377C2",
           "#7F7F7F",
           "#BCBD22",
           "#17BECF"
          ],
          "font": {
           "color": "rgb(36,36,36)"
          },
          "geo": {
           "bgcolor": "white",
           "lakecolor": "white",
           "landcolor": "white",
           "showlakes": true,
           "showland": true,
           "subunitcolor": "white"
          },
          "hoverlabel": {
           "align": "left"
          },
          "hovermode": "closest",
          "mapbox": {
           "style": "light"
          },
          "paper_bgcolor": "white",
          "plot_bgcolor": "white",
          "polar": {
           "angularaxis": {
            "gridcolor": "rgb(232,232,232)",
            "linecolor": "rgb(36,36,36)",
            "showgrid": false,
            "showline": true,
            "ticks": "outside"
           },
           "bgcolor": "white",
           "radialaxis": {
            "gridcolor": "rgb(232,232,232)",
            "linecolor": "rgb(36,36,36)",
            "showgrid": false,
            "showline": true,
            "ticks": "outside"
           }
          },
          "scene": {
           "xaxis": {
            "backgroundcolor": "white",
            "gridcolor": "rgb(232,232,232)",
            "gridwidth": 2,
            "linecolor": "rgb(36,36,36)",
            "showbackground": true,
            "showgrid": false,
            "showline": true,
            "ticks": "outside",
            "zeroline": false,
            "zerolinecolor": "rgb(36,36,36)"
           },
           "yaxis": {
            "backgroundcolor": "white",
            "gridcolor": "rgb(232,232,232)",
            "gridwidth": 2,
            "linecolor": "rgb(36,36,36)",
            "showbackground": true,
            "showgrid": false,
            "showline": true,
            "ticks": "outside",
            "zeroline": false,
            "zerolinecolor": "rgb(36,36,36)"
           },
           "zaxis": {
            "backgroundcolor": "white",
            "gridcolor": "rgb(232,232,232)",
            "gridwidth": 2,
            "linecolor": "rgb(36,36,36)",
            "showbackground": true,
            "showgrid": false,
            "showline": true,
            "ticks": "outside",
            "zeroline": false,
            "zerolinecolor": "rgb(36,36,36)"
           }
          },
          "shapedefaults": {
           "fillcolor": "black",
           "line": {
            "width": 0
           },
           "opacity": 0.3
          },
          "ternary": {
           "aaxis": {
            "gridcolor": "rgb(232,232,232)",
            "linecolor": "rgb(36,36,36)",
            "showgrid": false,
            "showline": true,
            "ticks": "outside"
           },
           "baxis": {
            "gridcolor": "rgb(232,232,232)",
            "linecolor": "rgb(36,36,36)",
            "showgrid": false,
            "showline": true,
            "ticks": "outside"
           },
           "bgcolor": "white",
           "caxis": {
            "gridcolor": "rgb(232,232,232)",
            "linecolor": "rgb(36,36,36)",
            "showgrid": false,
            "showline": true,
            "ticks": "outside"
           }
          },
          "title": {
           "x": 0.05
          },
          "xaxis": {
           "automargin": true,
           "gridcolor": "rgb(232,232,232)",
           "linecolor": "rgb(36,36,36)",
           "showgrid": false,
           "showline": true,
           "ticks": "outside",
           "title": {
            "standoff": 15
           },
           "zeroline": false,
           "zerolinecolor": "rgb(36,36,36)"
          },
          "yaxis": {
           "automargin": true,
           "gridcolor": "rgb(232,232,232)",
           "linecolor": "rgb(36,36,36)",
           "showgrid": false,
           "showline": true,
           "ticks": "outside",
           "title": {
            "standoff": 15
           },
           "zeroline": false,
           "zerolinecolor": "rgb(36,36,36)"
          }
         }
        },
        "xaxis": {
         "anchor": "y",
         "domain": [
          0,
          1
         ],
         "title": {
          "text": "label"
         }
        },
        "yaxis": {
         "anchor": "x",
         "domain": [
          0,
          1
         ],
         "title": {
          "text": "value"
         }
        }
       }
      }
     },
     "metadata": {},
     "output_type": "display_data"
    }
   ],
   "source": [
    "px.bar(df_roll_passes, x=\"label\", y=[\"roll_roll_torque\", \"roll_torque_Versuch1\", \"roll_torque_Versuch2\",\"roll_torque_Versuch3\",\"roll_torque_Versuch4\"], barmode=\"group\")"
   ]
  },
  {
   "cell_type": "code",
   "execution_count": 52,
   "id": "61241187",
   "metadata": {},
   "outputs": [
    {
     "data": {
      "application/vnd.plotly.v1+json": {
       "config": {
        "plotlyServerURL": "https://plot.ly"
       },
       "data": [
        {
         "alignmentgroup": "True",
         "hovertemplate": "variable=out_profile_temperature<br>label=%{x}<br>value=%{y}<extra></extra>",
         "legendgroup": "out_profile_temperature",
         "marker": {
          "color": "#1F77B4",
          "pattern": {
           "shape": ""
          }
         },
         "name": "out_profile_temperature",
         "offsetgroup": "out_profile_temperature",
         "orientation": "v",
         "showlegend": true,
         "textposition": "auto",
         "type": "bar",
         "x": [
          "Oval V",
          "Quadrat VI",
          "Oval VII",
          "Quadrat VIII",
          "Oval IX",
          "Quadrat X",
          "Oval XI",
          "Quadrat XII",
          "Oval XIII",
          "Quadrat XIV",
          "Oval XV",
          "Fertigrund XVIa"
         ],
         "xaxis": "x",
         "y": [
          1327.3377992586547,
          1312.5776018681854,
          1302.3456977641786,
          1283.3293001359887,
          1271.19461179991,
          1257.139664289025,
          1232.694236063487,
          1207.4967353323186,
          1185.179212347705,
          1162.578443428933,
          1157.0771688773614,
          1119.3154150722037
         ],
         "yaxis": "y"
        },
        {
         "alignmentgroup": "True",
         "hovertemplate": "variable=temperature_Versuch1<br>label=%{x}<br>value=%{y}<extra></extra>",
         "legendgroup": "temperature_Versuch1",
         "marker": {
          "color": "#FF7F0E",
          "pattern": {
           "shape": ""
          }
         },
         "name": "temperature_Versuch1",
         "offsetgroup": "temperature_Versuch1",
         "orientation": "v",
         "showlegend": true,
         "textposition": "auto",
         "type": "bar",
         "x": [
          "Oval V",
          "Quadrat VI",
          "Oval VII",
          "Quadrat VIII",
          "Oval IX",
          "Quadrat X",
          "Oval XI",
          "Quadrat XII",
          "Oval XIII",
          "Quadrat XIV",
          "Oval XV",
          "Fertigrund XVIa"
         ],
         "xaxis": "x",
         "y": [
          1313.15,
          0,
          0,
          1263.15,
          0,
          0,
          0,
          0,
          0,
          0,
          0,
          1033.15
         ],
         "yaxis": "y"
        },
        {
         "alignmentgroup": "True",
         "hovertemplate": "variable=temperature_Versuch2<br>label=%{x}<br>value=%{y}<extra></extra>",
         "legendgroup": "temperature_Versuch2",
         "marker": {
          "color": "#2CA02C",
          "pattern": {
           "shape": ""
          }
         },
         "name": "temperature_Versuch2",
         "offsetgroup": "temperature_Versuch2",
         "orientation": "v",
         "showlegend": true,
         "textposition": "auto",
         "type": "bar",
         "x": [
          "Oval V",
          "Quadrat VI",
          "Oval VII",
          "Quadrat VIII",
          "Oval IX",
          "Quadrat X",
          "Oval XI",
          "Quadrat XII",
          "Oval XIII",
          "Quadrat XIV",
          "Oval XV",
          "Fertigrund XVIa"
         ],
         "xaxis": "x",
         "y": [
          1313.15,
          0,
          0,
          1293.15,
          0,
          0,
          0,
          0,
          0,
          0,
          0,
          1023.15
         ],
         "yaxis": "y"
        },
        {
         "alignmentgroup": "True",
         "hovertemplate": "variable=temperature_Versuch3<br>label=%{x}<br>value=%{y}<extra></extra>",
         "legendgroup": "temperature_Versuch3",
         "marker": {
          "color": "#D62728",
          "pattern": {
           "shape": ""
          }
         },
         "name": "temperature_Versuch3",
         "offsetgroup": "temperature_Versuch3",
         "orientation": "v",
         "showlegend": true,
         "textposition": "auto",
         "type": "bar",
         "x": [
          "Oval V",
          "Quadrat VI",
          "Oval VII",
          "Quadrat VIII",
          "Oval IX",
          "Quadrat X",
          "Oval XI",
          "Quadrat XII",
          "Oval XIII",
          "Quadrat XIV",
          "Oval XV",
          "Fertigrund XVIa"
         ],
         "xaxis": "x",
         "y": [
          1313.15,
          0,
          0,
          1303.15,
          0,
          0,
          0,
          0,
          0,
          0,
          0,
          1023.15
         ],
         "yaxis": "y"
        },
        {
         "alignmentgroup": "True",
         "hovertemplate": "variable=temperature_Versuch4<br>label=%{x}<br>value=%{y}<extra></extra>",
         "legendgroup": "temperature_Versuch4",
         "marker": {
          "color": "#9467BD",
          "pattern": {
           "shape": ""
          }
         },
         "name": "temperature_Versuch4",
         "offsetgroup": "temperature_Versuch4",
         "orientation": "v",
         "showlegend": true,
         "textposition": "auto",
         "type": "bar",
         "x": [
          "Oval V",
          "Quadrat VI",
          "Oval VII",
          "Quadrat VIII",
          "Oval IX",
          "Quadrat X",
          "Oval XI",
          "Quadrat XII",
          "Oval XIII",
          "Quadrat XIV",
          "Oval XV",
          "Fertigrund XVIa"
         ],
         "xaxis": "x",
         "y": [
          1313.15,
          0,
          0,
          1293.15,
          0,
          0,
          0,
          0,
          0,
          0,
          0,
          998.15
         ],
         "yaxis": "y"
        }
       ],
       "layout": {
        "barmode": "group",
        "legend": {
         "title": {
          "text": "variable"
         },
         "tracegroupgap": 0
        },
        "margin": {
         "t": 60
        },
        "template": {
         "data": {
          "bar": [
           {
            "error_x": {
             "color": "rgb(36,36,36)"
            },
            "error_y": {
             "color": "rgb(36,36,36)"
            },
            "marker": {
             "line": {
              "color": "white",
              "width": 0.5
             },
             "pattern": {
              "fillmode": "overlay",
              "size": 10,
              "solidity": 0.2
             }
            },
            "type": "bar"
           }
          ],
          "barpolar": [
           {
            "marker": {
             "line": {
              "color": "white",
              "width": 0.5
             },
             "pattern": {
              "fillmode": "overlay",
              "size": 10,
              "solidity": 0.2
             }
            },
            "type": "barpolar"
           }
          ],
          "carpet": [
           {
            "aaxis": {
             "endlinecolor": "rgb(36,36,36)",
             "gridcolor": "white",
             "linecolor": "white",
             "minorgridcolor": "white",
             "startlinecolor": "rgb(36,36,36)"
            },
            "baxis": {
             "endlinecolor": "rgb(36,36,36)",
             "gridcolor": "white",
             "linecolor": "white",
             "minorgridcolor": "white",
             "startlinecolor": "rgb(36,36,36)"
            },
            "type": "carpet"
           }
          ],
          "choropleth": [
           {
            "colorbar": {
             "outlinewidth": 1,
             "tickcolor": "rgb(36,36,36)",
             "ticks": "outside"
            },
            "type": "choropleth"
           }
          ],
          "contour": [
           {
            "colorbar": {
             "outlinewidth": 1,
             "tickcolor": "rgb(36,36,36)",
             "ticks": "outside"
            },
            "colorscale": [
             [
              0,
              "#440154"
             ],
             [
              0.1111111111111111,
              "#482878"
             ],
             [
              0.2222222222222222,
              "#3e4989"
             ],
             [
              0.3333333333333333,
              "#31688e"
             ],
             [
              0.4444444444444444,
              "#26828e"
             ],
             [
              0.5555555555555556,
              "#1f9e89"
             ],
             [
              0.6666666666666666,
              "#35b779"
             ],
             [
              0.7777777777777778,
              "#6ece58"
             ],
             [
              0.8888888888888888,
              "#b5de2b"
             ],
             [
              1,
              "#fde725"
             ]
            ],
            "type": "contour"
           }
          ],
          "contourcarpet": [
           {
            "colorbar": {
             "outlinewidth": 1,
             "tickcolor": "rgb(36,36,36)",
             "ticks": "outside"
            },
            "type": "contourcarpet"
           }
          ],
          "heatmap": [
           {
            "colorbar": {
             "outlinewidth": 1,
             "tickcolor": "rgb(36,36,36)",
             "ticks": "outside"
            },
            "colorscale": [
             [
              0,
              "#440154"
             ],
             [
              0.1111111111111111,
              "#482878"
             ],
             [
              0.2222222222222222,
              "#3e4989"
             ],
             [
              0.3333333333333333,
              "#31688e"
             ],
             [
              0.4444444444444444,
              "#26828e"
             ],
             [
              0.5555555555555556,
              "#1f9e89"
             ],
             [
              0.6666666666666666,
              "#35b779"
             ],
             [
              0.7777777777777778,
              "#6ece58"
             ],
             [
              0.8888888888888888,
              "#b5de2b"
             ],
             [
              1,
              "#fde725"
             ]
            ],
            "type": "heatmap"
           }
          ],
          "heatmapgl": [
           {
            "colorbar": {
             "outlinewidth": 1,
             "tickcolor": "rgb(36,36,36)",
             "ticks": "outside"
            },
            "colorscale": [
             [
              0,
              "#440154"
             ],
             [
              0.1111111111111111,
              "#482878"
             ],
             [
              0.2222222222222222,
              "#3e4989"
             ],
             [
              0.3333333333333333,
              "#31688e"
             ],
             [
              0.4444444444444444,
              "#26828e"
             ],
             [
              0.5555555555555556,
              "#1f9e89"
             ],
             [
              0.6666666666666666,
              "#35b779"
             ],
             [
              0.7777777777777778,
              "#6ece58"
             ],
             [
              0.8888888888888888,
              "#b5de2b"
             ],
             [
              1,
              "#fde725"
             ]
            ],
            "type": "heatmapgl"
           }
          ],
          "histogram": [
           {
            "marker": {
             "line": {
              "color": "white",
              "width": 0.6
             }
            },
            "type": "histogram"
           }
          ],
          "histogram2d": [
           {
            "colorbar": {
             "outlinewidth": 1,
             "tickcolor": "rgb(36,36,36)",
             "ticks": "outside"
            },
            "colorscale": [
             [
              0,
              "#440154"
             ],
             [
              0.1111111111111111,
              "#482878"
             ],
             [
              0.2222222222222222,
              "#3e4989"
             ],
             [
              0.3333333333333333,
              "#31688e"
             ],
             [
              0.4444444444444444,
              "#26828e"
             ],
             [
              0.5555555555555556,
              "#1f9e89"
             ],
             [
              0.6666666666666666,
              "#35b779"
             ],
             [
              0.7777777777777778,
              "#6ece58"
             ],
             [
              0.8888888888888888,
              "#b5de2b"
             ],
             [
              1,
              "#fde725"
             ]
            ],
            "type": "histogram2d"
           }
          ],
          "histogram2dcontour": [
           {
            "colorbar": {
             "outlinewidth": 1,
             "tickcolor": "rgb(36,36,36)",
             "ticks": "outside"
            },
            "colorscale": [
             [
              0,
              "#440154"
             ],
             [
              0.1111111111111111,
              "#482878"
             ],
             [
              0.2222222222222222,
              "#3e4989"
             ],
             [
              0.3333333333333333,
              "#31688e"
             ],
             [
              0.4444444444444444,
              "#26828e"
             ],
             [
              0.5555555555555556,
              "#1f9e89"
             ],
             [
              0.6666666666666666,
              "#35b779"
             ],
             [
              0.7777777777777778,
              "#6ece58"
             ],
             [
              0.8888888888888888,
              "#b5de2b"
             ],
             [
              1,
              "#fde725"
             ]
            ],
            "type": "histogram2dcontour"
           }
          ],
          "mesh3d": [
           {
            "colorbar": {
             "outlinewidth": 1,
             "tickcolor": "rgb(36,36,36)",
             "ticks": "outside"
            },
            "type": "mesh3d"
           }
          ],
          "parcoords": [
           {
            "line": {
             "colorbar": {
              "outlinewidth": 1,
              "tickcolor": "rgb(36,36,36)",
              "ticks": "outside"
             }
            },
            "type": "parcoords"
           }
          ],
          "pie": [
           {
            "automargin": true,
            "type": "pie"
           }
          ],
          "scatter": [
           {
            "fillpattern": {
             "fillmode": "overlay",
             "size": 10,
             "solidity": 0.2
            },
            "type": "scatter"
           }
          ],
          "scatter3d": [
           {
            "line": {
             "colorbar": {
              "outlinewidth": 1,
              "tickcolor": "rgb(36,36,36)",
              "ticks": "outside"
             }
            },
            "marker": {
             "colorbar": {
              "outlinewidth": 1,
              "tickcolor": "rgb(36,36,36)",
              "ticks": "outside"
             }
            },
            "type": "scatter3d"
           }
          ],
          "scattercarpet": [
           {
            "marker": {
             "colorbar": {
              "outlinewidth": 1,
              "tickcolor": "rgb(36,36,36)",
              "ticks": "outside"
             }
            },
            "type": "scattercarpet"
           }
          ],
          "scattergeo": [
           {
            "marker": {
             "colorbar": {
              "outlinewidth": 1,
              "tickcolor": "rgb(36,36,36)",
              "ticks": "outside"
             }
            },
            "type": "scattergeo"
           }
          ],
          "scattergl": [
           {
            "marker": {
             "colorbar": {
              "outlinewidth": 1,
              "tickcolor": "rgb(36,36,36)",
              "ticks": "outside"
             }
            },
            "type": "scattergl"
           }
          ],
          "scattermapbox": [
           {
            "marker": {
             "colorbar": {
              "outlinewidth": 1,
              "tickcolor": "rgb(36,36,36)",
              "ticks": "outside"
             }
            },
            "type": "scattermapbox"
           }
          ],
          "scatterpolar": [
           {
            "marker": {
             "colorbar": {
              "outlinewidth": 1,
              "tickcolor": "rgb(36,36,36)",
              "ticks": "outside"
             }
            },
            "type": "scatterpolar"
           }
          ],
          "scatterpolargl": [
           {
            "marker": {
             "colorbar": {
              "outlinewidth": 1,
              "tickcolor": "rgb(36,36,36)",
              "ticks": "outside"
             }
            },
            "type": "scatterpolargl"
           }
          ],
          "scatterternary": [
           {
            "marker": {
             "colorbar": {
              "outlinewidth": 1,
              "tickcolor": "rgb(36,36,36)",
              "ticks": "outside"
             }
            },
            "type": "scatterternary"
           }
          ],
          "surface": [
           {
            "colorbar": {
             "outlinewidth": 1,
             "tickcolor": "rgb(36,36,36)",
             "ticks": "outside"
            },
            "colorscale": [
             [
              0,
              "#440154"
             ],
             [
              0.1111111111111111,
              "#482878"
             ],
             [
              0.2222222222222222,
              "#3e4989"
             ],
             [
              0.3333333333333333,
              "#31688e"
             ],
             [
              0.4444444444444444,
              "#26828e"
             ],
             [
              0.5555555555555556,
              "#1f9e89"
             ],
             [
              0.6666666666666666,
              "#35b779"
             ],
             [
              0.7777777777777778,
              "#6ece58"
             ],
             [
              0.8888888888888888,
              "#b5de2b"
             ],
             [
              1,
              "#fde725"
             ]
            ],
            "type": "surface"
           }
          ],
          "table": [
           {
            "cells": {
             "fill": {
              "color": "rgb(237,237,237)"
             },
             "line": {
              "color": "white"
             }
            },
            "header": {
             "fill": {
              "color": "rgb(217,217,217)"
             },
             "line": {
              "color": "white"
             }
            },
            "type": "table"
           }
          ]
         },
         "layout": {
          "annotationdefaults": {
           "arrowhead": 0,
           "arrowwidth": 1
          },
          "autotypenumbers": "strict",
          "coloraxis": {
           "colorbar": {
            "outlinewidth": 1,
            "tickcolor": "rgb(36,36,36)",
            "ticks": "outside"
           }
          },
          "colorscale": {
           "diverging": [
            [
             0,
             "rgb(103,0,31)"
            ],
            [
             0.1,
             "rgb(178,24,43)"
            ],
            [
             0.2,
             "rgb(214,96,77)"
            ],
            [
             0.3,
             "rgb(244,165,130)"
            ],
            [
             0.4,
             "rgb(253,219,199)"
            ],
            [
             0.5,
             "rgb(247,247,247)"
            ],
            [
             0.6,
             "rgb(209,229,240)"
            ],
            [
             0.7,
             "rgb(146,197,222)"
            ],
            [
             0.8,
             "rgb(67,147,195)"
            ],
            [
             0.9,
             "rgb(33,102,172)"
            ],
            [
             1,
             "rgb(5,48,97)"
            ]
           ],
           "sequential": [
            [
             0,
             "#440154"
            ],
            [
             0.1111111111111111,
             "#482878"
            ],
            [
             0.2222222222222222,
             "#3e4989"
            ],
            [
             0.3333333333333333,
             "#31688e"
            ],
            [
             0.4444444444444444,
             "#26828e"
            ],
            [
             0.5555555555555556,
             "#1f9e89"
            ],
            [
             0.6666666666666666,
             "#35b779"
            ],
            [
             0.7777777777777778,
             "#6ece58"
            ],
            [
             0.8888888888888888,
             "#b5de2b"
            ],
            [
             1,
             "#fde725"
            ]
           ],
           "sequentialminus": [
            [
             0,
             "#440154"
            ],
            [
             0.1111111111111111,
             "#482878"
            ],
            [
             0.2222222222222222,
             "#3e4989"
            ],
            [
             0.3333333333333333,
             "#31688e"
            ],
            [
             0.4444444444444444,
             "#26828e"
            ],
            [
             0.5555555555555556,
             "#1f9e89"
            ],
            [
             0.6666666666666666,
             "#35b779"
            ],
            [
             0.7777777777777778,
             "#6ece58"
            ],
            [
             0.8888888888888888,
             "#b5de2b"
            ],
            [
             1,
             "#fde725"
            ]
           ]
          },
          "colorway": [
           "#1F77B4",
           "#FF7F0E",
           "#2CA02C",
           "#D62728",
           "#9467BD",
           "#8C564B",
           "#E377C2",
           "#7F7F7F",
           "#BCBD22",
           "#17BECF"
          ],
          "font": {
           "color": "rgb(36,36,36)"
          },
          "geo": {
           "bgcolor": "white",
           "lakecolor": "white",
           "landcolor": "white",
           "showlakes": true,
           "showland": true,
           "subunitcolor": "white"
          },
          "hoverlabel": {
           "align": "left"
          },
          "hovermode": "closest",
          "mapbox": {
           "style": "light"
          },
          "paper_bgcolor": "white",
          "plot_bgcolor": "white",
          "polar": {
           "angularaxis": {
            "gridcolor": "rgb(232,232,232)",
            "linecolor": "rgb(36,36,36)",
            "showgrid": false,
            "showline": true,
            "ticks": "outside"
           },
           "bgcolor": "white",
           "radialaxis": {
            "gridcolor": "rgb(232,232,232)",
            "linecolor": "rgb(36,36,36)",
            "showgrid": false,
            "showline": true,
            "ticks": "outside"
           }
          },
          "scene": {
           "xaxis": {
            "backgroundcolor": "white",
            "gridcolor": "rgb(232,232,232)",
            "gridwidth": 2,
            "linecolor": "rgb(36,36,36)",
            "showbackground": true,
            "showgrid": false,
            "showline": true,
            "ticks": "outside",
            "zeroline": false,
            "zerolinecolor": "rgb(36,36,36)"
           },
           "yaxis": {
            "backgroundcolor": "white",
            "gridcolor": "rgb(232,232,232)",
            "gridwidth": 2,
            "linecolor": "rgb(36,36,36)",
            "showbackground": true,
            "showgrid": false,
            "showline": true,
            "ticks": "outside",
            "zeroline": false,
            "zerolinecolor": "rgb(36,36,36)"
           },
           "zaxis": {
            "backgroundcolor": "white",
            "gridcolor": "rgb(232,232,232)",
            "gridwidth": 2,
            "linecolor": "rgb(36,36,36)",
            "showbackground": true,
            "showgrid": false,
            "showline": true,
            "ticks": "outside",
            "zeroline": false,
            "zerolinecolor": "rgb(36,36,36)"
           }
          },
          "shapedefaults": {
           "fillcolor": "black",
           "line": {
            "width": 0
           },
           "opacity": 0.3
          },
          "ternary": {
           "aaxis": {
            "gridcolor": "rgb(232,232,232)",
            "linecolor": "rgb(36,36,36)",
            "showgrid": false,
            "showline": true,
            "ticks": "outside"
           },
           "baxis": {
            "gridcolor": "rgb(232,232,232)",
            "linecolor": "rgb(36,36,36)",
            "showgrid": false,
            "showline": true,
            "ticks": "outside"
           },
           "bgcolor": "white",
           "caxis": {
            "gridcolor": "rgb(232,232,232)",
            "linecolor": "rgb(36,36,36)",
            "showgrid": false,
            "showline": true,
            "ticks": "outside"
           }
          },
          "title": {
           "x": 0.05
          },
          "xaxis": {
           "automargin": true,
           "gridcolor": "rgb(232,232,232)",
           "linecolor": "rgb(36,36,36)",
           "showgrid": false,
           "showline": true,
           "ticks": "outside",
           "title": {
            "standoff": 15
           },
           "zeroline": false,
           "zerolinecolor": "rgb(36,36,36)"
          },
          "yaxis": {
           "automargin": true,
           "gridcolor": "rgb(232,232,232)",
           "linecolor": "rgb(36,36,36)",
           "showgrid": false,
           "showline": true,
           "ticks": "outside",
           "title": {
            "standoff": 15
           },
           "zeroline": false,
           "zerolinecolor": "rgb(36,36,36)"
          }
         }
        },
        "xaxis": {
         "anchor": "y",
         "domain": [
          0,
          1
         ],
         "title": {
          "text": "label"
         }
        },
        "yaxis": {
         "anchor": "x",
         "domain": [
          0,
          1
         ],
         "title": {
          "text": "value"
         }
        }
       }
      }
     },
     "metadata": {},
     "output_type": "display_data"
    }
   ],
   "source": [
    "px.bar(df_roll_passes, x=\"label\", y=[\"out_profile_temperature\", \"temperature_Versuch1\", \"temperature_Versuch2\",\"temperature_Versuch3\",\"temperature_Versuch4\"], barmode=\"group\")"
   ]
  }
 ],
 "metadata": {
  "kernelspec": {
   "display_name": "Python 3",
   "language": "python",
   "name": "python3"
  },
  "language_info": {
   "codemirror_mode": {
    "name": "ipython",
    "version": 3
   },
   "file_extension": ".py",
   "mimetype": "text/x-python",
   "name": "python",
   "nbconvert_exporter": "python",
   "pygments_lexer": "ipython3",
   "version": "3.12.7"
  }
 },
 "nbformat": 4,
 "nbformat_minor": 5
}
