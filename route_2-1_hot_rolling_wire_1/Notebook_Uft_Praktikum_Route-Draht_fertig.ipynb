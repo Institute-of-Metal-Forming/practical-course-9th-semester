{
 "cells": [
  {
   "metadata": {},
   "cell_type": "markdown",
   "source": [
    "# Praktikum Umformtechnik - Warmwalzen Route: Draht\n",
    "\n",
    "Dieses Notebook soll zur Erstellung der Kaliberfolge und der Berechnung dieser mittels PyRolL dienen."
   ],
   "id": "a8ab389bfc445334"
  },
  {
   "metadata": {},
   "cell_type": "markdown",
   "source": [
    "### Einladen der Pakete\n",
    "\n",
    "Zunächst werden dazu die notwendigen Pakete eingeladen. Sollten weitere Pakete wie Numpy oder ähnliche benötigt werden können diese hier noch importiert werden (die Pakete müssen dazu installiert sein - anschließend muss die nachfolgende zelle ausgeführt werden) "
   ],
   "id": "f128e35bab440483"
  },
  {
   "cell_type": "code",
   "id": "initial_id",
   "metadata": {
    "ExecuteTime": {
     "end_time": "2025-01-14T12:42:45.381672Z",
     "start_time": "2025-01-14T12:42:45.362616Z"
    }
   },
   "source": [
    "from typing import Sequence\n",
    "import pandas as pd\n",
    "import plotly.graph_objects as go\n",
    "import plotly.express as px\n",
    "\n",
    "import pyroll.basic as pr\n",
    "from pyroll.core import Unit\n",
    "\n",
    "import plotly.io as pio\n",
    "pio.templates.default = \"simple_white\""
   ],
   "outputs": [],
   "execution_count": 38
  },
  {
   "metadata": {},
   "cell_type": "markdown",
   "source": [
    "Für PyRolL im speziellen wird hier das paket pyroll-basic verwendet. Dieses beinhaltet die nachfolgend aufgelisteten Pakete:\n",
    "\n",
    "- `pyroll-core`\n",
    "- `pyroll-cli`\n",
    "- `pyroll-report`\n",
    "- `pyroll-export`\n",
    "- `pyroll-integral-thermal`\n",
    "- `pyroll-lippmann-mahrenholz-force-torque`\n",
    "- `pyroll-wusatowski-spreading`\n",
    "- `pyroll-zouhar-contact`\n",
    "- `pyroll-freiberg-flow-stress`\n",
    "- `pyroll-lendl-equivalent-method`\n",
    "- `pyroll-linear-thermal-expansion`\n",
    "- `pyroll-elastic-mill-spring`\n",
    "- `pyroll-gripping-analysis`\n",
    "\n",
    "Dokumentation zu den Funktionsweisen der einzelnen Pakete kann auf der [GitHub Seite von PyRolL](https://github.com/pyroll-project) gefunden werden"
   ],
   "id": "45b8790fee374bcf"
  },
  {
   "metadata": {},
   "cell_type": "markdown",
   "source": "Neben den obigen Paketen zum Plotten und zur Berechnung werden nachfolgend auch Pakete für das Logging impor und dieses Konfiguriert. Dadurch erzeugt PyRolL bei der Berechnung mehr Nachrichten über den Simulationsstand.",
   "id": "806b39b4194bac18"
  },
  {
   "cell_type": "code",
   "id": "434eb59ddfe1d048",
   "metadata": {
    "ExecuteTime": {
     "end_time": "2025-01-14T12:42:48.847508Z",
     "start_time": "2025-01-14T12:42:48.841464Z"
    }
   },
   "source": [
    "import logging\n",
    "import sys\n",
    "\n",
    "logging.basicConfig(stream=sys.stdout, format='[%(levelname)s] %(name)s: %(message)s')\n",
    "logging.getLogger(\"pyroll\").setLevel(logging.INFO) "
   ],
   "outputs": [],
   "execution_count": 39
  },
  {
   "metadata": {},
   "cell_type": "markdown",
   "source": [
    "### Definition der Einlaufenden Materials und der Stichfolge\n",
    "\n",
    "Nachfolgend werden nun das in_profile also das einlaufende Profil definiert und die Stichfolge aufgesetzt.\n",
    "\n",
    "In nachfolgender Zelle soll dazu zunächst das in_profil ergänzt werden. Es soll ein runder C45 Stahl mit einem Durchmesser von 42 mm gewalzt werden. "
   ],
   "id": "f9d1786aff4db081"
  },
  {
   "cell_type": "code",
   "id": "124812022fca98a7",
   "metadata": {
    "ExecuteTime": {
     "end_time": "2025-01-14T12:42:49.791330Z",
     "start_time": "2025-01-14T12:42:49.786996Z"
    }
   },
   "source": [
    "# in_profile = pr.Profile.round(\n",
    "#     diameter=42e-3,\n",
    "#     temperature=1200 + 273.15,\n",
    "#     strain=0,\n",
    "#     length=100e-3,\n",
    "#     material=\"C45\",\n",
    "#     density=7.5e3,\n",
    "#     specific_heat_capacity=690,\n",
    "# )\n",
    "\n",
    "in_profile = pr.Profile.square(\n",
    "    diagonal=43.1e-3,\n",
    "    corner_radius=5e-3,\n",
    "    temperature=1140 + 273.15,\n",
    "    strain=0,\n",
    "    material=\"C45\",\n",
    "    density=7.5e3,\n",
    "    specific_heat_capacity=690,\n",
    ")"
   ],
   "outputs": [],
   "execution_count": 40
  },
  {
   "metadata": {},
   "cell_type": "markdown",
   "source": "Wie im Praktikum besprochen ist für die Trio-Anlage besonders, dass mittlere Walzenradien verwendet werden sollen. Diese sind nachfolgend zu definieren, um sie später einfach verwenden zu können.",
   "id": "89f2ea89440e12b0"
  },
  {
   "metadata": {
    "ExecuteTime": {
     "end_time": "2025-01-14T12:42:50.699265Z",
     "start_time": "2025-01-14T12:42:50.694737Z"
    }
   },
   "cell_type": "code",
   "source": [
    "mean_roll_radius_1_upper = (328e-3 + 324e-3) / 2 / 2\n",
    "mean_roll_radius_1_lower = (324e-3 + 320e-3) / 2 / 2\n",
    "mean_roll_radius_2_upper = (299e-3 + 297e-3) / 2 / 2\n",
    "mean_roll_radius_2_lower = (297e-3 + 295e-3) / 2 / 2\n",
    "mean_roll_radius_3_upper = (280e-3 + 278e-3) / 2 / 2\n",
    "mean_roll_radius_3_lower = (278e-3 + 276e-3) / 2 / 2"
   ],
   "id": "2efdc7b8ebc168c6",
   "outputs": [],
   "execution_count": 41
  },
  {
   "metadata": {},
   "cell_type": "markdown",
   "source": "Selbiges gilt auch für den Walzspalt. Ihn wollen wir auch nachfolgend definieren um ihn später je gerüst einheitlich verwenden und auch ändern zu können.",
   "id": "630c60a23c6e10d"
  },
  {
   "cell_type": "code",
   "id": "15217c2b177724d",
   "metadata": {
    "ExecuteTime": {
     "end_time": "2025-01-14T12:42:52.546779Z",
     "start_time": "2025-01-14T12:42:52.543670Z"
    }
   },
   "source": [
    "roll_gap_1_upper = 3e-3\n",
    "roll_gap_1_lower = 3e-3\n",
    "roll_gap_2_upper = 0.5e-3\n",
    "roll_gap_2_lower = 1e-3\n",
    "roll_gap_3_upper = 0.75e-3\n",
    "roll_gap_3_lower = 0.5e-3"
   ],
   "outputs": [],
   "execution_count": 42
  },
  {
   "metadata": {},
   "cell_type": "markdown",
   "source": "Anschließend soll nun noch der Transport definiert werden, da dieser konstant über alle Stiche bleiben wird.",
   "id": "926eb18e42ee7296"
  },
  {
   "metadata": {
    "ExecuteTime": {
     "end_time": "2025-01-14T12:42:53.907704Z",
     "start_time": "2025-01-14T12:42:53.904424Z"
    }
   },
   "cell_type": "code",
   "source": [
    "transport = pr.Transport(\n",
    "    label=\"Transport\",\n",
    "    duration=5.0\n",
    ")"
   ],
   "id": "c0845fb5f167059",
   "outputs": [],
   "execution_count": 43
  },
  {
   "metadata": {},
   "cell_type": "markdown",
   "source": "Letztlich wird nun noch die Stichfolge definiert:",
   "id": "5b4e65800ae714f0"
  },
  {
   "cell_type": "code",
   "id": "d6e489fb-79eb-4e2d-8938-3a32b8818fcc",
   "metadata": {
    "ExecuteTime": {
     "end_time": "2025-01-14T12:42:55.313475Z",
     "start_time": "2025-01-14T12:42:55.295187Z"
    }
   },
   "source": [
    "sequence = pr.PassSequence([\n",
    "    # pr.RollPass(\n",
    "    #     label=\"Raute I\",\n",
    "    #     roll=pr.Roll(\n",
    "    #         groove=pr.DiamondGroove(\n",
    "    #             usable_width=76.55e-3,\n",
    "    #             tip_depth=22.1e-3,\n",
    "    #             r1=12e-3,\n",
    "    #             r2=8e-3\n",
    "    #         ),\n",
    "    #         nominal_radius=mean_roll_radius_1_lower,\n",
    "    # \n",
    "    #     ),\n",
    "    #     gap=roll_gap_1_lower,\n",
    "    #     velocity=1,\n",
    "    #     coulomb_friction_coefficient=0.4,\n",
    "    # ),\n",
    "    # \n",
    "    # pr.Transport(\n",
    "    # label=\"Transport 1\",\n",
    "    # duration=5.0\n",
    "    # ),\n",
    "    # \n",
    "    # pr.RollPass(\n",
    "    #     label=\"Quadrat II\",\n",
    "    #     roll=pr.Roll(\n",
    "    #         groove=pr.SquareGroove(\n",
    "    #             usable_width=52.7e-3,\n",
    "    #             tip_depth=25.95e-3,\n",
    "    #             r1=8e-3,\n",
    "    #             r2=6e-3\n",
    "    #         ),\n",
    "    #         nominal_radius=mean_roll_radius_1_upper,\n",
    "    # \n",
    "    #     ),\n",
    "    #     gap=roll_gap_1_upper,\n",
    "    #     velocity=1,\n",
    "    #     coulomb_friction_coefficient=0.4,\n",
    "    # ),\n",
    "    # \n",
    "    # pr.Transport(\n",
    "    # label=\"Transport 2\",\n",
    "    # duration=5.0\n",
    "    # ),\n",
    "    # \n",
    "    # pr.RollPass(\n",
    "    #     label=\"Raute III\",\n",
    "    #     roll=pr.Roll(\n",
    "    #         groove=pr.DiamondGroove(\n",
    "    #             usable_width=58.3e-3,\n",
    "    #             tip_depth=16.85e-3,\n",
    "    #             r1=7e-3,\n",
    "    #             r2=8e-3\n",
    "    #         ),\n",
    "    #         nominal_radius=mean_roll_radius_1_lower,\n",
    "    # \n",
    "    #     ),\n",
    "    #     gap=roll_gap_1_lower,\n",
    "    #     velocity=1,\n",
    "    #     coulomb_friction_coefficient=0.4,\n",
    "    # ),\n",
    "    # \n",
    "    # pr.Transport(\n",
    "    # label=\"Transport 3\",\n",
    "    # duration=5.0\n",
    "    # ),\n",
    "    # \n",
    "    # pr.RollPass(\n",
    "    #     label=\"Quadrat IV\",\n",
    "    #     roll=pr.Roll(\n",
    "    #         groove=pr.SquareGroove(\n",
    "    #             usable_width=40.74e-3,\n",
    "    #             tip_depth=20.05e-3,\n",
    "    #             r1=7e-3,\n",
    "    #             r2=5e-3\n",
    "    #         ),\n",
    "    #         nominal_radius=mean_roll_radius_1_upper,\n",
    "    # \n",
    "    #     ),\n",
    "    #     gap=roll_gap_1_upper,\n",
    "    #     velocity=1,\n",
    "    #     coulomb_friction_coefficient=0.4,\n",
    "    # ),\n",
    "    # \n",
    "    # pr.Transport(\n",
    "    # label=\"Transport 4\",\n",
    "    # duration=5.0\n",
    "    # ),\n",
    "    \n",
    "    pr.RollPass(\n",
    "        label=\"Oval V\",\n",
    "        roll=pr.Roll(\n",
    "            groove=pr.CircularOvalGroove(\n",
    "                depth=7.25e-3,\n",
    "                r1=6e-3,\n",
    "                r2=44.5e-3\n",
    "            ),\n",
    "            nominal_radius=mean_roll_radius_1_lower,\n",
    "        ),\n",
    "        gap=roll_gap_1_lower,\n",
    "        velocity=1,\n",
    "        coulomb_friction_coefficient=0.4,\n",
    "        stand_stiffness=1e9\n",
    "    ),\n",
    "    \n",
    "    pr.Transport(\n",
    "    label=\"Transport 5\",\n",
    "    duration=5.0\n",
    "    ),\n",
    "    \n",
    "    pr.RollPass(\n",
    "        label=\"Quadrat VI\",\n",
    "        roll=pr.Roll(\n",
    "            groove=pr.SquareGroove(\n",
    "                usable_width=29.64e-3,\n",
    "                tip_depth=14.625e-3,\n",
    "                r1=6e-3,\n",
    "                r2=4e-3\n",
    "            ),\n",
    "            nominal_radius=mean_roll_radius_1_upper,\n",
    "\n",
    "        ),\n",
    "        gap=roll_gap_1_upper,\n",
    "        velocity=1,\n",
    "        coulomb_friction_coefficient=0.4,\n",
    "        stand_stiffness=1e9\n",
    "    ),\n",
    "    \n",
    "    pr.Transport(\n",
    "    label=\"Transport 6\",\n",
    "    duration=5.0\n",
    "    ),\n",
    "    \n",
    "    pr.RollPass(\n",
    "        label=\"Oval VII\",\n",
    "        roll=pr.Roll(\n",
    "            groove=pr.CircularOvalGroove(\n",
    "                depth=5.05e-3,\n",
    "                r1=7e-3,\n",
    "                r2=33e-3\n",
    "            ),\n",
    "            nominal_radius=mean_roll_radius_1_lower,\n",
    "\n",
    "        ),\n",
    "        gap=roll_gap_1_lower,\n",
    "        velocity=1,\n",
    "        coulomb_friction_coefficient=0.4,\n",
    "        stand_stiffness=1e9\n",
    "    ),\n",
    "    \n",
    "    pr.Transport(\n",
    "    label=\"Transport 7\",\n",
    "    duration=5.0\n",
    "    ),\n",
    "    \n",
    "    pr.RollPass(\n",
    "        label=\"Quadrat VIII\",\n",
    "        roll=pr.Roll(\n",
    "            groove=pr.SquareGroove(\n",
    "                usable_width=21.54e-3,\n",
    "                tip_depth=10.6e-3,\n",
    "                r1=5e-3,\n",
    "                r2=3e-3\n",
    "            ),\n",
    "            nominal_radius=mean_roll_radius_1_upper,\n",
    "\n",
    "        ),\n",
    "        gap=roll_gap_1_upper,\n",
    "        velocity=1,\n",
    "        coulomb_friction_coefficient=0.4,\n",
    "        stand_stiffness=1e9\n",
    "    ),\n",
    "    \n",
    "    pr.Transport(\n",
    "    label=\"Transport 8\",\n",
    "    duration=5.0\n",
    "    ),\n",
    "    \n",
    "    pr.RollPass(\n",
    "        label=\"Oval IX\",\n",
    "        roll=pr.Roll(\n",
    "            groove=pr.CircularOvalGroove(\n",
    "                depth=4.43e-3,\n",
    "                r1=6e-3,\n",
    "                r2=25.5e-3\n",
    "            ),\n",
    "            nominal_radius=mean_roll_radius_2_lower,\n",
    "\n",
    "        ),\n",
    "        gap=roll_gap_2_lower,\n",
    "        velocity=1,\n",
    "        coulomb_friction_coefficient=0.4,\n",
    "        stand_stiffness=1e9\n",
    "    ),\n",
    "    \n",
    "    pr.Transport(\n",
    "    label=\"Transport 9\",\n",
    "    duration=5.0\n",
    "    ),\n",
    "    \n",
    "    pr.RollPass(\n",
    "        label=\"Quadrat X\",\n",
    "        roll=pr.Roll(\n",
    "            groove=pr.SquareGroove(\n",
    "                usable_width=16.22e-3,\n",
    "                tip_depth=8.11e-3,\n",
    "                r1=2e-3,\n",
    "                r2=1e-3\n",
    "            ),\n",
    "            nominal_radius=mean_roll_radius_3_upper,\n",
    "\n",
    "        ),\n",
    "        gap=roll_gap_3_upper,\n",
    "        velocity=1,\n",
    "        coulomb_friction_coefficient=0.4,\n",
    "        stand_stiffness=1e9\n",
    "    ),\n",
    "    \n",
    "    pr.Transport(\n",
    "    label=\"Transport 10\",\n",
    "    duration=5.0\n",
    "    ),\n",
    "    \n",
    "    pr.RollPass(\n",
    "        label=\"Oval XI\",\n",
    "        roll=pr.Roll(\n",
    "            groove=pr.CircularOvalGroove(\n",
    "                depth=3.53e-3,\n",
    "                r1=6e-3,\n",
    "                r2=17e-3\n",
    "            ),\n",
    "            nominal_radius=mean_roll_radius_2_lower,\n",
    "\n",
    "        ),\n",
    "        gap=roll_gap_2_lower,\n",
    "        velocity=1,\n",
    "        coulomb_friction_coefficient=0.4,\n",
    "        stand_stiffness=1e9\n",
    "    ),\n",
    "    \n",
    "    pr.Transport(\n",
    "    label=\"Transport 11\",\n",
    "    duration=5.0\n",
    "    ),\n",
    "    \n",
    "    pr.RollPass(\n",
    "        label=\"Quadrat XII\",\n",
    "        roll=pr.Roll(\n",
    "            groove=pr.SquareGroove(\n",
    "                usable_width=13.58e-3,\n",
    "                tip_depth=6.70e-3,\n",
    "                r1=4e-3,\n",
    "                r2=2e-3\n",
    "            ),\n",
    "            nominal_radius=mean_roll_radius_3_upper,\n",
    "\n",
    "        ),\n",
    "        gap=roll_gap_3_upper,\n",
    "        velocity=1,\n",
    "        coulomb_friction_coefficient=0.4,\n",
    "        stand_stiffness=1e9\n",
    "    ),\n",
    "    \n",
    "    \n",
    "    pr.Transport(\n",
    "    label=\"Transport 12\",\n",
    "    duration=5.0\n",
    "    ),\n",
    "    \n",
    "    pr.RollPass(\n",
    "        label=\"Oval XIII\",\n",
    "        roll=pr.Roll(\n",
    "            groove=pr.CircularOvalGroove(\n",
    "                depth=2.7e-3,\n",
    "                r1=5e-3,\n",
    "                r2=13.2e-3\n",
    "            ),\n",
    "            nominal_radius=mean_roll_radius_2_lower,\n",
    "\n",
    "        ),\n",
    "        gap=roll_gap_2_lower,\n",
    "        velocity=1,\n",
    "        coulomb_friction_coefficient=0.4,\n",
    "        stand_stiffness=1e9\n",
    "    ),\n",
    "    \n",
    "    pr.Transport(\n",
    "    label=\"Transport 13\",\n",
    "    duration=5.0\n",
    "    ),\n",
    "    \n",
    "    pr.RollPass(\n",
    "        label=\"Quadrat XIV\",\n",
    "        roll=pr.Roll(\n",
    "            groove=pr.SquareGroove(\n",
    "                usable_width=10.73e-3,\n",
    "                tip_depth=5.37e-3,\n",
    "                r1=3.6e-3,\n",
    "                r2=1.6e-3\n",
    "            ),\n",
    "            nominal_radius=mean_roll_radius_3_upper,\n",
    "\n",
    "        ),\n",
    "        gap=roll_gap_3_upper,\n",
    "        velocity=1,\n",
    "        coulomb_friction_coefficient=0.4,\n",
    "        stand_stiffness=1e9\n",
    "    ),\n",
    "    \n",
    "    pr.Transport(\n",
    "    label=\"Transport 14\",\n",
    "    duration=5.0\n",
    "    ),\n",
    "    \n",
    "    pr.RollPass(\n",
    "        label=\"Oval XV\",\n",
    "        roll=pr.Roll(\n",
    "            groove=pr.CircularOvalGroove(\n",
    "                depth=2.16e-3,\n",
    "                r1=4e-3,\n",
    "                r2=12.15e-3\n",
    "            ),\n",
    "            nominal_radius=mean_roll_radius_3_lower,\n",
    "\n",
    "        ),\n",
    "        gap=roll_gap_3_lower,\n",
    "        velocity=1,\n",
    "        coulomb_friction_coefficient=0.4,\n",
    "        stand_stiffness=1e9\n",
    "    ),\n",
    "    \n",
    "    pr.Transport(\n",
    "    label=\"Transport 15\",\n",
    "    duration=5.0\n",
    "    ),\n",
    "    \n",
    "    pr.RollPass(\n",
    "        label=\"Fertigrund XVIa\",\n",
    "        roll=pr.Roll(\n",
    "            groove=pr.RoundGroove(\n",
    "                r1=1.5e-3,\n",
    "                r2=3.9e-3,\n",
    "                depth=3.65e-3\n",
    "            ),\n",
    "            nominal_radius=mean_roll_radius_2_upper,\n",
    "\n",
    "        ),\n",
    "        gap=roll_gap_2_upper,\n",
    "        velocity=1,\n",
    "        coulomb_friction_coefficient=0.4,\n",
    "        stand_stiffness=1e9\n",
    "    ),\n",
    "])"
   ],
   "outputs": [],
   "execution_count": 44
  },
  {
   "metadata": {},
   "cell_type": "markdown",
   "source": "Mit dem Solve befehl wird die Simulation nun gestartet.",
   "id": "fa9c520e40b3e367"
  },
  {
   "cell_type": "code",
   "id": "6b0587f0-01fa-4eaa-ab73-a454e08c683f",
   "metadata": {
    "ExecuteTime": {
     "end_time": "2025-01-14T12:42:59.986344Z",
     "start_time": "2025-01-14T12:42:59.094979Z"
    }
   },
   "source": [
    "sequence.solve(in_profile)"
   ],
   "outputs": [
    {
     "name": "stdout",
     "output_type": "stream",
     "text": [
      "[INFO] pyroll.core.Unit: Started solving of PassSequence.\n",
      "[INFO] pyroll.core.Unit: Started solving of TwoRollPass 'Oval V'.\n",
      "[INFO] pyroll.core.Unit: Started solving of Rotator 'Auto-Rotator for TwoRollPass 'Oval V''.\n",
      "[INFO] pyroll.core.Unit: Finished solving of Rotator 'Auto-Rotator for TwoRollPass 'Oval V'' after 2 iterations.\n",
      "[INFO] pyroll.core.Unit: Solution took 0.005 s.\n",
      "[INFO] pyroll.core.Unit: Finished solving of TwoRollPass 'Oval V' after 9 iterations.\n",
      "[INFO] pyroll.core.Unit: Solution took 0.055 s.\n",
      "[INFO] pyroll.core.Unit: Started solving of Transport 'Transport 5'.\n",
      "[INFO] pyroll.core.Unit: Finished solving of Transport 'Transport 5' after 3 iterations.\n",
      "[INFO] pyroll.core.Unit: Solution took 0.003 s.\n",
      "[INFO] pyroll.core.Unit: Started solving of TwoRollPass 'Quadrat VI'.\n",
      "[INFO] pyroll.core.Unit: Started solving of Rotator 'Auto-Rotator for TwoRollPass 'Quadrat VI''.\n",
      "[INFO] pyroll.core.Unit: Finished solving of Rotator 'Auto-Rotator for TwoRollPass 'Quadrat VI'' after 2 iterations.\n",
      "[INFO] pyroll.core.Unit: Solution took 0.003 s.\n",
      "[INFO] pyroll.core.Unit: Finished solving of TwoRollPass 'Quadrat VI' after 7 iterations.\n",
      "[INFO] pyroll.core.Unit: Solution took 0.042 s.\n",
      "[INFO] pyroll.core.Unit: Started solving of Transport 'Transport 6'.\n",
      "[INFO] pyroll.core.Unit: Finished solving of Transport 'Transport 6' after 3 iterations.\n",
      "[INFO] pyroll.core.Unit: Solution took 0.002 s.\n",
      "[INFO] pyroll.core.Unit: Started solving of TwoRollPass 'Oval VII'.\n",
      "[INFO] pyroll.core.Unit: Started solving of Rotator 'Auto-Rotator for TwoRollPass 'Oval VII''.\n",
      "[INFO] pyroll.core.Unit: Finished solving of Rotator 'Auto-Rotator for TwoRollPass 'Oval VII'' after 2 iterations.\n",
      "[INFO] pyroll.core.Unit: Solution took 0.001 s.\n",
      "[INFO] pyroll.core.Unit: Finished solving of TwoRollPass 'Oval VII' after 9 iterations.\n",
      "[INFO] pyroll.core.Unit: Solution took 0.035 s.\n",
      "[INFO] pyroll.core.Unit: Started solving of Transport 'Transport 7'.\n",
      "[INFO] pyroll.core.Unit: Finished solving of Transport 'Transport 7' after 3 iterations.\n",
      "[INFO] pyroll.core.Unit: Solution took 0.004 s.\n",
      "[INFO] pyroll.core.Unit: Started solving of TwoRollPass 'Quadrat VIII'.\n",
      "[INFO] pyroll.core.Unit: Started solving of Rotator 'Auto-Rotator for TwoRollPass 'Quadrat VIII''.\n",
      "[INFO] pyroll.core.Unit: Finished solving of Rotator 'Auto-Rotator for TwoRollPass 'Quadrat VIII'' after 2 iterations.\n",
      "[INFO] pyroll.core.Unit: Solution took 0.002 s.\n",
      "[INFO] pyroll.core.Unit: Finished solving of TwoRollPass 'Quadrat VIII' after 7 iterations.\n",
      "[INFO] pyroll.core.Unit: Solution took 0.031 s.\n",
      "[INFO] pyroll.core.Unit: Started solving of Transport 'Transport 8'.\n",
      "[INFO] pyroll.core.Unit: Finished solving of Transport 'Transport 8' after 3 iterations.\n",
      "[INFO] pyroll.core.Unit: Solution took 0.002 s.\n",
      "[INFO] pyroll.core.Unit: Started solving of TwoRollPass 'Oval IX'.\n",
      "[INFO] pyroll.core.Unit: Started solving of Rotator 'Auto-Rotator for TwoRollPass 'Oval IX''.\n",
      "[INFO] pyroll.core.Unit: Finished solving of Rotator 'Auto-Rotator for TwoRollPass 'Oval IX'' after 2 iterations.\n",
      "[INFO] pyroll.core.Unit: Solution took 0.001 s.\n",
      "[INFO] pyroll.core.Unit: Finished solving of TwoRollPass 'Oval IX' after 9 iterations.\n",
      "[INFO] pyroll.core.Unit: Solution took 0.040 s.\n",
      "[INFO] pyroll.core.Unit: Started solving of Transport 'Transport 9'.\n",
      "[INFO] pyroll.core.Unit: Finished solving of Transport 'Transport 9' after 3 iterations.\n",
      "[INFO] pyroll.core.Unit: Solution took 0.002 s.\n",
      "[INFO] pyroll.core.Unit: Started solving of TwoRollPass 'Quadrat X'.\n",
      "[INFO] pyroll.core.Unit: Started solving of Rotator 'Auto-Rotator for TwoRollPass 'Quadrat X''.\n",
      "[INFO] pyroll.core.Unit: Finished solving of Rotator 'Auto-Rotator for TwoRollPass 'Quadrat X'' after 2 iterations.\n",
      "[INFO] pyroll.core.Unit: Solution took 0.001 s.\n",
      "[INFO] pyroll.core.Unit: Finished solving of TwoRollPass 'Quadrat X' after 6 iterations.\n",
      "[INFO] pyroll.core.Unit: Solution took 0.029 s.\n",
      "[INFO] pyroll.core.Unit: Started solving of Transport 'Transport 10'.\n",
      "[INFO] pyroll.core.Unit: Finished solving of Transport 'Transport 10' after 3 iterations.\n",
      "[INFO] pyroll.core.Unit: Solution took 0.002 s.\n",
      "[INFO] pyroll.core.Unit: Started solving of TwoRollPass 'Oval XI'.\n",
      "[INFO] pyroll.core.Unit: Started solving of Rotator 'Auto-Rotator for TwoRollPass 'Oval XI''.\n",
      "[INFO] pyroll.core.Unit: Finished solving of Rotator 'Auto-Rotator for TwoRollPass 'Oval XI'' after 2 iterations.\n",
      "[INFO] pyroll.core.Unit: Solution took 0.002 s.\n",
      "[INFO] pyroll.core.Unit: Finished solving of TwoRollPass 'Oval XI' after 9 iterations.\n",
      "[INFO] pyroll.core.Unit: Solution took 0.045 s.\n",
      "[INFO] pyroll.core.Unit: Started solving of Transport 'Transport 11'.\n",
      "[INFO] pyroll.core.Unit: Finished solving of Transport 'Transport 11' after 3 iterations.\n",
      "[INFO] pyroll.core.Unit: Solution took 0.002 s.\n",
      "[INFO] pyroll.core.Unit: Started solving of TwoRollPass 'Quadrat XII'.\n",
      "[INFO] pyroll.core.Unit: Started solving of Rotator 'Auto-Rotator for TwoRollPass 'Quadrat XII''.\n",
      "[INFO] pyroll.core.Unit: Finished solving of Rotator 'Auto-Rotator for TwoRollPass 'Quadrat XII'' after 2 iterations.\n",
      "[INFO] pyroll.core.Unit: Solution took 0.001 s.\n",
      "[INFO] pyroll.core.Unit: Finished solving of TwoRollPass 'Quadrat XII' after 7 iterations.\n",
      "[INFO] pyroll.core.Unit: Solution took 0.035 s.\n",
      "[INFO] pyroll.core.Unit: Started solving of Transport 'Transport 12'.\n",
      "[INFO] pyroll.core.Unit: Finished solving of Transport 'Transport 12' after 3 iterations.\n",
      "[INFO] pyroll.core.Unit: Solution took 0.003 s.\n",
      "[INFO] pyroll.core.Unit: Started solving of TwoRollPass 'Oval XIII'.\n",
      "[INFO] pyroll.core.Unit: Started solving of Rotator 'Auto-Rotator for TwoRollPass 'Oval XIII''.\n",
      "[INFO] pyroll.core.Unit: Finished solving of Rotator 'Auto-Rotator for TwoRollPass 'Oval XIII'' after 2 iterations.\n",
      "[INFO] pyroll.core.Unit: Solution took 0.002 s.\n",
      "[INFO] pyroll.core.Unit: Finished solving of TwoRollPass 'Oval XIII' after 9 iterations.\n",
      "[INFO] pyroll.core.Unit: Solution took 0.042 s.\n",
      "[INFO] pyroll.core.Unit: Started solving of Transport 'Transport 13'.\n",
      "[INFO] pyroll.core.Unit: Finished solving of Transport 'Transport 13' after 3 iterations.\n",
      "[INFO] pyroll.core.Unit: Solution took 0.002 s.\n",
      "[INFO] pyroll.core.Unit: Started solving of TwoRollPass 'Quadrat XIV'.\n",
      "[INFO] pyroll.core.Unit: Started solving of Rotator 'Auto-Rotator for TwoRollPass 'Quadrat XIV''.\n",
      "[INFO] pyroll.core.Unit: Finished solving of Rotator 'Auto-Rotator for TwoRollPass 'Quadrat XIV'' after 2 iterations.\n",
      "[INFO] pyroll.core.Unit: Solution took 0.001 s.\n",
      "[INFO] pyroll.core.Unit: Finished solving of TwoRollPass 'Quadrat XIV' after 7 iterations.\n",
      "[INFO] pyroll.core.Unit: Solution took 0.034 s.\n",
      "[INFO] pyroll.core.Unit: Started solving of Transport 'Transport 14'.\n",
      "[INFO] pyroll.core.Unit: Finished solving of Transport 'Transport 14' after 3 iterations.\n",
      "[INFO] pyroll.core.Unit: Solution took 0.002 s.\n",
      "[INFO] pyroll.core.Unit: Started solving of TwoRollPass 'Oval XV'.\n",
      "[INFO] pyroll.core.Unit: Started solving of Rotator 'Auto-Rotator for TwoRollPass 'Oval XV''.\n",
      "[INFO] pyroll.core.Unit: Finished solving of Rotator 'Auto-Rotator for TwoRollPass 'Oval XV'' after 2 iterations.\n",
      "[INFO] pyroll.core.Unit: Solution took 0.001 s.\n",
      "[INFO] pyroll.core.Unit: Finished solving of TwoRollPass 'Oval XV' after 9 iterations.\n",
      "[INFO] pyroll.core.Unit: Solution took 0.044 s.\n",
      "[INFO] pyroll.core.Unit: Started solving of Transport 'Transport 15'.\n",
      "[INFO] pyroll.core.Unit: Finished solving of Transport 'Transport 15' after 3 iterations.\n",
      "[INFO] pyroll.core.Unit: Solution took 0.002 s.\n",
      "[INFO] pyroll.core.Unit: Started solving of TwoRollPass 'Fertigrund XVIa'.\n",
      "[INFO] pyroll.core.Unit: Started solving of Rotator 'Auto-Rotator for TwoRollPass 'Fertigrund XVIa''.\n",
      "[INFO] pyroll.core.Unit: Finished solving of Rotator 'Auto-Rotator for TwoRollPass 'Fertigrund XVIa'' after 2 iterations.\n",
      "[INFO] pyroll.core.Unit: Solution took 0.001 s.\n",
      "[INFO] pyroll.core.Unit: Finished solving of TwoRollPass 'Fertigrund XVIa' after 7 iterations.\n",
      "[INFO] pyroll.core.Unit: Solution took 0.034 s.\n",
      "[INFO] pyroll.core.Unit: Started solving of TwoRollPass 'Oval V'.\n",
      "[INFO] pyroll.core.Unit: Started solving of Rotator 'Auto-Rotator for TwoRollPass 'Oval V''.\n",
      "[INFO] pyroll.core.Unit: Finished solving of Rotator 'Auto-Rotator for TwoRollPass 'Oval V'' after 2 iterations.\n",
      "[INFO] pyroll.core.Unit: Solution took 0.004 s.\n",
      "[INFO] pyroll.core.Unit: Finished solving of TwoRollPass 'Oval V' after 7 iterations.\n",
      "[INFO] pyroll.core.Unit: Solution took 0.033 s.\n",
      "[INFO] pyroll.core.Unit: Started solving of Transport 'Transport 5'.\n",
      "[INFO] pyroll.core.Unit: Finished solving of Transport 'Transport 5' after 1 iterations.\n",
      "[INFO] pyroll.core.Unit: Solution took 0.001 s.\n",
      "[INFO] pyroll.core.Unit: Started solving of TwoRollPass 'Quadrat VI'.\n",
      "[INFO] pyroll.core.Unit: Started solving of Rotator 'Auto-Rotator for TwoRollPass 'Quadrat VI''.\n",
      "[INFO] pyroll.core.Unit: Finished solving of Rotator 'Auto-Rotator for TwoRollPass 'Quadrat VI'' after 2 iterations.\n",
      "[INFO] pyroll.core.Unit: Solution took 0.001 s.\n",
      "[INFO] pyroll.core.Unit: Finished solving of TwoRollPass 'Quadrat VI' after 5 iterations.\n",
      "[INFO] pyroll.core.Unit: Solution took 0.026 s.\n",
      "[INFO] pyroll.core.Unit: Started solving of Transport 'Transport 6'.\n",
      "[INFO] pyroll.core.Unit: Finished solving of Transport 'Transport 6' after 1 iterations.\n",
      "[INFO] pyroll.core.Unit: Solution took 0.001 s.\n",
      "[INFO] pyroll.core.Unit: Started solving of TwoRollPass 'Oval VII'.\n",
      "[INFO] pyroll.core.Unit: Started solving of Rotator 'Auto-Rotator for TwoRollPass 'Oval VII''.\n",
      "[INFO] pyroll.core.Unit: Finished solving of Rotator 'Auto-Rotator for TwoRollPass 'Oval VII'' after 2 iterations.\n",
      "[INFO] pyroll.core.Unit: Solution took 0.001 s.\n",
      "[INFO] pyroll.core.Unit: Finished solving of TwoRollPass 'Oval VII' after 7 iterations.\n",
      "[INFO] pyroll.core.Unit: Solution took 0.030 s.\n",
      "[INFO] pyroll.core.Unit: Started solving of Transport 'Transport 7'.\n",
      "[INFO] pyroll.core.Unit: Finished solving of Transport 'Transport 7' after 1 iterations.\n",
      "[INFO] pyroll.core.Unit: Solution took 0.001 s.\n",
      "[INFO] pyroll.core.Unit: Started solving of TwoRollPass 'Quadrat VIII'.\n",
      "[INFO] pyroll.core.Unit: Started solving of Rotator 'Auto-Rotator for TwoRollPass 'Quadrat VIII''.\n",
      "[INFO] pyroll.core.Unit: Finished solving of Rotator 'Auto-Rotator for TwoRollPass 'Quadrat VIII'' after 2 iterations.\n",
      "[INFO] pyroll.core.Unit: Solution took 0.001 s.\n",
      "[INFO] pyroll.core.Unit: Finished solving of TwoRollPass 'Quadrat VIII' after 5 iterations.\n",
      "[INFO] pyroll.core.Unit: Solution took 0.025 s.\n",
      "[INFO] pyroll.core.Unit: Started solving of Transport 'Transport 8'.\n",
      "[INFO] pyroll.core.Unit: Finished solving of Transport 'Transport 8' after 1 iterations.\n",
      "[INFO] pyroll.core.Unit: Solution took 0.001 s.\n",
      "[INFO] pyroll.core.Unit: Started solving of TwoRollPass 'Oval IX'.\n",
      "[INFO] pyroll.core.Unit: Started solving of Rotator 'Auto-Rotator for TwoRollPass 'Oval IX''.\n",
      "[INFO] pyroll.core.Unit: Finished solving of Rotator 'Auto-Rotator for TwoRollPass 'Oval IX'' after 2 iterations.\n",
      "[INFO] pyroll.core.Unit: Solution took 0.002 s.\n",
      "[INFO] pyroll.core.Unit: Finished solving of TwoRollPass 'Oval IX' after 7 iterations.\n",
      "[INFO] pyroll.core.Unit: Solution took 0.040 s.\n",
      "[INFO] pyroll.core.Unit: Started solving of Transport 'Transport 9'.\n",
      "[INFO] pyroll.core.Unit: Finished solving of Transport 'Transport 9' after 1 iterations.\n",
      "[INFO] pyroll.core.Unit: Solution took 0.002 s.\n",
      "[INFO] pyroll.core.Unit: Started solving of TwoRollPass 'Quadrat X'.\n",
      "[INFO] pyroll.core.Unit: Started solving of Rotator 'Auto-Rotator for TwoRollPass 'Quadrat X''.\n",
      "[INFO] pyroll.core.Unit: Finished solving of Rotator 'Auto-Rotator for TwoRollPass 'Quadrat X'' after 2 iterations.\n",
      "[INFO] pyroll.core.Unit: Solution took 0.003 s.\n",
      "[INFO] pyroll.core.Unit: Finished solving of TwoRollPass 'Quadrat X' after 4 iterations.\n",
      "[INFO] pyroll.core.Unit: Solution took 0.023 s.\n",
      "[INFO] pyroll.core.Unit: Started solving of Transport 'Transport 10'.\n",
      "[INFO] pyroll.core.Unit: Finished solving of Transport 'Transport 10' after 1 iterations.\n",
      "[INFO] pyroll.core.Unit: Solution took 0.001 s.\n",
      "[INFO] pyroll.core.Unit: Started solving of TwoRollPass 'Oval XI'.\n",
      "[INFO] pyroll.core.Unit: Started solving of Rotator 'Auto-Rotator for TwoRollPass 'Oval XI''.\n",
      "[INFO] pyroll.core.Unit: Finished solving of Rotator 'Auto-Rotator for TwoRollPass 'Oval XI'' after 2 iterations.\n",
      "[INFO] pyroll.core.Unit: Solution took 0.001 s.\n",
      "[INFO] pyroll.core.Unit: Finished solving of TwoRollPass 'Oval XI' after 5 iterations.\n",
      "[INFO] pyroll.core.Unit: Solution took 0.025 s.\n",
      "[INFO] pyroll.core.Unit: Started solving of Transport 'Transport 11'.\n",
      "[INFO] pyroll.core.Unit: Finished solving of Transport 'Transport 11' after 1 iterations.\n",
      "[INFO] pyroll.core.Unit: Solution took 0.001 s.\n",
      "[INFO] pyroll.core.Unit: Started solving of TwoRollPass 'Quadrat XII'.\n",
      "[INFO] pyroll.core.Unit: Started solving of Rotator 'Auto-Rotator for TwoRollPass 'Quadrat XII''.\n",
      "[INFO] pyroll.core.Unit: Finished solving of Rotator 'Auto-Rotator for TwoRollPass 'Quadrat XII'' after 2 iterations.\n",
      "[INFO] pyroll.core.Unit: Solution took 0.001 s.\n",
      "[INFO] pyroll.core.Unit: Finished solving of TwoRollPass 'Quadrat XII' after 5 iterations.\n",
      "[INFO] pyroll.core.Unit: Solution took 0.023 s.\n",
      "[INFO] pyroll.core.Unit: Started solving of Transport 'Transport 12'.\n",
      "[INFO] pyroll.core.Unit: Finished solving of Transport 'Transport 12' after 1 iterations.\n",
      "[INFO] pyroll.core.Unit: Solution took 0.001 s.\n",
      "[INFO] pyroll.core.Unit: Started solving of TwoRollPass 'Oval XIII'.\n",
      "[INFO] pyroll.core.Unit: Started solving of Rotator 'Auto-Rotator for TwoRollPass 'Oval XIII''.\n",
      "[INFO] pyroll.core.Unit: Finished solving of Rotator 'Auto-Rotator for TwoRollPass 'Oval XIII'' after 2 iterations.\n",
      "[INFO] pyroll.core.Unit: Solution took 0.001 s.\n",
      "[INFO] pyroll.core.Unit: Finished solving of TwoRollPass 'Oval XIII' after 6 iterations.\n",
      "[INFO] pyroll.core.Unit: Solution took 0.025 s.\n",
      "[INFO] pyroll.core.Unit: Started solving of Transport 'Transport 13'.\n",
      "[INFO] pyroll.core.Unit: Finished solving of Transport 'Transport 13' after 1 iterations.\n",
      "[INFO] pyroll.core.Unit: Solution took 0.001 s.\n",
      "[INFO] pyroll.core.Unit: Started solving of TwoRollPass 'Quadrat XIV'.\n",
      "[INFO] pyroll.core.Unit: Started solving of Rotator 'Auto-Rotator for TwoRollPass 'Quadrat XIV''.\n",
      "[INFO] pyroll.core.Unit: Finished solving of Rotator 'Auto-Rotator for TwoRollPass 'Quadrat XIV'' after 2 iterations.\n",
      "[INFO] pyroll.core.Unit: Solution took 0.001 s.\n",
      "[INFO] pyroll.core.Unit: Finished solving of TwoRollPass 'Quadrat XIV' after 5 iterations.\n",
      "[INFO] pyroll.core.Unit: Solution took 0.023 s.\n",
      "[INFO] pyroll.core.Unit: Started solving of Transport 'Transport 14'.\n",
      "[INFO] pyroll.core.Unit: Finished solving of Transport 'Transport 14' after 1 iterations.\n",
      "[INFO] pyroll.core.Unit: Solution took 0.001 s.\n",
      "[INFO] pyroll.core.Unit: Started solving of TwoRollPass 'Oval XV'.\n",
      "[INFO] pyroll.core.Unit: Started solving of Rotator 'Auto-Rotator for TwoRollPass 'Oval XV''.\n",
      "[INFO] pyroll.core.Unit: Finished solving of Rotator 'Auto-Rotator for TwoRollPass 'Oval XV'' after 2 iterations.\n",
      "[INFO] pyroll.core.Unit: Solution took 0.001 s.\n",
      "[INFO] pyroll.core.Unit: Finished solving of TwoRollPass 'Oval XV' after 4 iterations.\n",
      "[INFO] pyroll.core.Unit: Solution took 0.018 s.\n",
      "[INFO] pyroll.core.Unit: Started solving of Transport 'Transport 15'.\n",
      "[INFO] pyroll.core.Unit: Finished solving of Transport 'Transport 15' after 1 iterations.\n",
      "[INFO] pyroll.core.Unit: Solution took 0.001 s.\n",
      "[INFO] pyroll.core.Unit: Started solving of TwoRollPass 'Fertigrund XVIa'.\n",
      "[INFO] pyroll.core.Unit: Started solving of Rotator 'Auto-Rotator for TwoRollPass 'Fertigrund XVIa''.\n",
      "[INFO] pyroll.core.Unit: Finished solving of Rotator 'Auto-Rotator for TwoRollPass 'Fertigrund XVIa'' after 2 iterations.\n",
      "[INFO] pyroll.core.Unit: Solution took 0.001 s.\n",
      "[INFO] pyroll.core.Unit: Finished solving of TwoRollPass 'Fertigrund XVIa' after 3 iterations.\n",
      "[INFO] pyroll.core.Unit: Solution took 0.015 s.\n",
      "[INFO] pyroll.core.Unit: Finished solving of PassSequence after 2 iterations.\n",
      "[INFO] pyroll.core.Unit: Solution took 0.842 s.\n"
     ]
    },
    {
     "data": {
      "text/plain": [
       "Profile(\n",
       "    classifiers={'generic_elongation', 'round', 'symmetric'},\n",
       "    cross_section=Polygon(\n",
       "        area=4.349884272245522e-05,\n",
       "        height=0.0078,\n",
       "        perimeter=0.02391984696702897,\n",
       "        width=0.006394105535999934,\n",
       "        ),\n",
       "    density=7500.0,\n",
       "    length=0.0,\n",
       "    material='C45',\n",
       "    specific_heat_capacity=690,\n",
       "    strain=np.float64(0.3482182358055251),\n",
       "    t=np.float64(55.3933707390962),\n",
       "    temperature=np.float64(1139.4285002853064),\n",
       "    )"
      ],
      "text/html": [
       "<table><tr><td style='text-align: center'><div>                        <script type=\"text/javascript\">window.PlotlyConfig = {MathJaxConfig: 'local'};</script>\n",
       "        <script charset=\"utf-8\" src=\"https://cdn.plot.ly/plotly-2.35.2.min.js\"></script>                <div id=\"47c63949-367e-48e9-80a8-016f1d61dbca\" class=\"plotly-graph-div\" style=\"height:480px; width:640px;\"></div>            <script type=\"text/javascript\">                                    window.PLOTLYENV=window.PLOTLYENV || {};                                    if (document.getElementById(\"47c63949-367e-48e9-80a8-016f1d61dbca\")) {                    Plotly.newPlot(                        \"47c63949-367e-48e9-80a8-016f1d61dbca\",                        [{\"hovertemplate\":\"z=%{x}\\u003cbr\\u003ey=%{y}\\u003cextra\\u003e\\u003c\\u002fextra\\u003e\",\"legendgroup\":\"\",\"line\":{\"color\":\"#1F77B4\",\"dash\":\"solid\"},\"marker\":{\"symbol\":\"circle\"},\"mode\":\"lines\",\"name\":\"\",\"orientation\":\"v\",\"showlegend\":false,\"x\":[-0.003197052767999967,-0.003197052767999967,-0.003136095115474413,-0.002951618932211212,-0.0027671427489480115,-0.0025826665656848106,-0.0023981903824216097,-0.002213714199158409,-0.0020292380158952084,-0.0018447618326320075,-0.0016602856493688066,-0.0014758094661056062,-0.0012913332828424053,-0.0011068570995792044,-0.000922380916316004,-0.0007379047330528031,-0.0005534285497896022,-0.00036895236652640176,-0.00018447618326320088,0.0,0.00018447618326320088,0.00036895236652640176,0.0005534285497896022,0.0007379047330528031,0.000922380916316004,0.0011068570995792044,0.0012913332828424053,0.0014758094661056062,0.0016602856493688066,0.0018447618326320075,0.0020292380158952084,0.002213714199158409,0.0023981903824216097,0.0025826665656848106,0.0027671427489480115,0.002951618932211212,0.003136095115474413,0.003197052767999967,0.003197052767999967,0.003136095115474413,0.002951618932211212,0.0027671427489480115,0.0025826665656848106,0.0023981903824216097,0.002213714199158409,0.0020292380158952084,0.0018447618326320075,0.0016602856493688066,0.0014758094661056062,0.0012913332828424053,0.0011068570995792044,0.000922380916316004,0.0007379047330528031,0.0005534285497896022,0.00036895236652640176,0.00018447618326320088,0.0,-0.00018447618326320088,-0.00036895236652640176,-0.0005534285497896022,-0.0007379047330528031,-0.000922380916316004,-0.0011068570995792044,-0.0012913332828424053,-0.0014758094661056062,-0.0016602856493688066,-0.0018447618326320075,-0.0020292380158952084,-0.002213714199158409,-0.0023981903824216097,-0.0025826665656848106,-0.0027671427489480115,-0.002951618932211212,-0.003136095115474413,-0.003197052767999967],\"xaxis\":\"x\",\"y\":[-0.002228192300755861,0.002228192300755861,0.0023183846589161015,0.002549106839466001,0.002748257813041644,0.0029222993362237595,0.003075497177638193,0.003210836253134757,0.003330494418978311,0.003436110269019927,0.0035289448228188547,0.0036099842686295857,0.0036800079283370373,0.0037396346561009283,0.0037893552809437183,0.0038295556667762736,0.00386053323263481,0.0038825087445148875,0.0038956345488005725,0.0039,0.0038956345488005725,0.0038825087445148875,0.00386053323263481,0.0038295556667762736,0.0037893552809437183,0.0037396346561009283,0.0036800079283370373,0.0036099842686295857,0.0035289448228188547,0.003436110269019927,0.003330494418978311,0.003210836253134757,0.003075497177638193,0.0029222993362237595,0.002748257813041644,0.002549106839466001,0.0023183846589161015,0.002228192300755861,-0.002228192300755861,-0.0023183846589161015,-0.002549106839466001,-0.002748257813041644,-0.0029222993362237595,-0.003075497177638193,-0.003210836253134757,-0.003330494418978311,-0.003436110269019927,-0.0035289448228188547,-0.0036099842686295857,-0.0036800079283370373,-0.0037396346561009283,-0.0037893552809437183,-0.0038295556667762736,-0.00386053323263481,-0.0038825087445148875,-0.0038956345488005725,-0.0039,-0.0038956345488005725,-0.0038825087445148875,-0.00386053323263481,-0.0038295556667762736,-0.0037893552809437183,-0.0037396346561009283,-0.0036800079283370373,-0.0036099842686295857,-0.0035289448228188547,-0.003436110269019927,-0.003330494418978311,-0.003210836253134757,-0.003075497177638193,-0.0029222993362237595,-0.002748257813041644,-0.002549106839466001,-0.0023183846589161015,-0.002228192300755861],\"yaxis\":\"y\",\"type\":\"scatter\",\"fill\":\"toself\"}],                        {\"template\":{\"data\":{\"histogram2dcontour\":[{\"type\":\"histogram2dcontour\",\"colorbar\":{\"outlinewidth\":1,\"tickcolor\":\"rgb(36,36,36)\",\"ticks\":\"outside\"},\"colorscale\":[[0.0,\"#440154\"],[0.1111111111111111,\"#482878\"],[0.2222222222222222,\"#3e4989\"],[0.3333333333333333,\"#31688e\"],[0.4444444444444444,\"#26828e\"],[0.5555555555555556,\"#1f9e89\"],[0.6666666666666666,\"#35b779\"],[0.7777777777777778,\"#6ece58\"],[0.8888888888888888,\"#b5de2b\"],[1.0,\"#fde725\"]]}],\"choropleth\":[{\"type\":\"choropleth\",\"colorbar\":{\"outlinewidth\":1,\"tickcolor\":\"rgb(36,36,36)\",\"ticks\":\"outside\"}}],\"histogram2d\":[{\"type\":\"histogram2d\",\"colorbar\":{\"outlinewidth\":1,\"tickcolor\":\"rgb(36,36,36)\",\"ticks\":\"outside\"},\"colorscale\":[[0.0,\"#440154\"],[0.1111111111111111,\"#482878\"],[0.2222222222222222,\"#3e4989\"],[0.3333333333333333,\"#31688e\"],[0.4444444444444444,\"#26828e\"],[0.5555555555555556,\"#1f9e89\"],[0.6666666666666666,\"#35b779\"],[0.7777777777777778,\"#6ece58\"],[0.8888888888888888,\"#b5de2b\"],[1.0,\"#fde725\"]]}],\"heatmap\":[{\"type\":\"heatmap\",\"colorbar\":{\"outlinewidth\":1,\"tickcolor\":\"rgb(36,36,36)\",\"ticks\":\"outside\"},\"colorscale\":[[0.0,\"#440154\"],[0.1111111111111111,\"#482878\"],[0.2222222222222222,\"#3e4989\"],[0.3333333333333333,\"#31688e\"],[0.4444444444444444,\"#26828e\"],[0.5555555555555556,\"#1f9e89\"],[0.6666666666666666,\"#35b779\"],[0.7777777777777778,\"#6ece58\"],[0.8888888888888888,\"#b5de2b\"],[1.0,\"#fde725\"]]}],\"heatmapgl\":[{\"type\":\"heatmapgl\",\"colorbar\":{\"outlinewidth\":1,\"tickcolor\":\"rgb(36,36,36)\",\"ticks\":\"outside\"},\"colorscale\":[[0.0,\"#440154\"],[0.1111111111111111,\"#482878\"],[0.2222222222222222,\"#3e4989\"],[0.3333333333333333,\"#31688e\"],[0.4444444444444444,\"#26828e\"],[0.5555555555555556,\"#1f9e89\"],[0.6666666666666666,\"#35b779\"],[0.7777777777777778,\"#6ece58\"],[0.8888888888888888,\"#b5de2b\"],[1.0,\"#fde725\"]]}],\"contourcarpet\":[{\"type\":\"contourcarpet\",\"colorbar\":{\"outlinewidth\":1,\"tickcolor\":\"rgb(36,36,36)\",\"ticks\":\"outside\"}}],\"contour\":[{\"type\":\"contour\",\"colorbar\":{\"outlinewidth\":1,\"tickcolor\":\"rgb(36,36,36)\",\"ticks\":\"outside\"},\"colorscale\":[[0.0,\"#440154\"],[0.1111111111111111,\"#482878\"],[0.2222222222222222,\"#3e4989\"],[0.3333333333333333,\"#31688e\"],[0.4444444444444444,\"#26828e\"],[0.5555555555555556,\"#1f9e89\"],[0.6666666666666666,\"#35b779\"],[0.7777777777777778,\"#6ece58\"],[0.8888888888888888,\"#b5de2b\"],[1.0,\"#fde725\"]]}],\"surface\":[{\"type\":\"surface\",\"colorbar\":{\"outlinewidth\":1,\"tickcolor\":\"rgb(36,36,36)\",\"ticks\":\"outside\"},\"colorscale\":[[0.0,\"#440154\"],[0.1111111111111111,\"#482878\"],[0.2222222222222222,\"#3e4989\"],[0.3333333333333333,\"#31688e\"],[0.4444444444444444,\"#26828e\"],[0.5555555555555556,\"#1f9e89\"],[0.6666666666666666,\"#35b779\"],[0.7777777777777778,\"#6ece58\"],[0.8888888888888888,\"#b5de2b\"],[1.0,\"#fde725\"]]}],\"mesh3d\":[{\"type\":\"mesh3d\",\"colorbar\":{\"outlinewidth\":1,\"tickcolor\":\"rgb(36,36,36)\",\"ticks\":\"outside\"}}],\"scatter\":[{\"fillpattern\":{\"fillmode\":\"overlay\",\"size\":10,\"solidity\":0.2},\"type\":\"scatter\"}],\"parcoords\":[{\"type\":\"parcoords\",\"line\":{\"colorbar\":{\"outlinewidth\":1,\"tickcolor\":\"rgb(36,36,36)\",\"ticks\":\"outside\"}}}],\"scatterpolargl\":[{\"type\":\"scatterpolargl\",\"marker\":{\"colorbar\":{\"outlinewidth\":1,\"tickcolor\":\"rgb(36,36,36)\",\"ticks\":\"outside\"}}}],\"bar\":[{\"error_x\":{\"color\":\"rgb(36,36,36)\"},\"error_y\":{\"color\":\"rgb(36,36,36)\"},\"marker\":{\"line\":{\"color\":\"white\",\"width\":0.5},\"pattern\":{\"fillmode\":\"overlay\",\"size\":10,\"solidity\":0.2}},\"type\":\"bar\"}],\"scattergeo\":[{\"type\":\"scattergeo\",\"marker\":{\"colorbar\":{\"outlinewidth\":1,\"tickcolor\":\"rgb(36,36,36)\",\"ticks\":\"outside\"}}}],\"scatterpolar\":[{\"type\":\"scatterpolar\",\"marker\":{\"colorbar\":{\"outlinewidth\":1,\"tickcolor\":\"rgb(36,36,36)\",\"ticks\":\"outside\"}}}],\"histogram\":[{\"marker\":{\"line\":{\"color\":\"white\",\"width\":0.6}},\"type\":\"histogram\"}],\"scattergl\":[{\"type\":\"scattergl\",\"marker\":{\"colorbar\":{\"outlinewidth\":1,\"tickcolor\":\"rgb(36,36,36)\",\"ticks\":\"outside\"}}}],\"scatter3d\":[{\"type\":\"scatter3d\",\"line\":{\"colorbar\":{\"outlinewidth\":1,\"tickcolor\":\"rgb(36,36,36)\",\"ticks\":\"outside\"}},\"marker\":{\"colorbar\":{\"outlinewidth\":1,\"tickcolor\":\"rgb(36,36,36)\",\"ticks\":\"outside\"}}}],\"scattermapbox\":[{\"type\":\"scattermapbox\",\"marker\":{\"colorbar\":{\"outlinewidth\":1,\"tickcolor\":\"rgb(36,36,36)\",\"ticks\":\"outside\"}}}],\"scatterternary\":[{\"type\":\"scatterternary\",\"marker\":{\"colorbar\":{\"outlinewidth\":1,\"tickcolor\":\"rgb(36,36,36)\",\"ticks\":\"outside\"}}}],\"scattercarpet\":[{\"type\":\"scattercarpet\",\"marker\":{\"colorbar\":{\"outlinewidth\":1,\"tickcolor\":\"rgb(36,36,36)\",\"ticks\":\"outside\"}}}],\"carpet\":[{\"aaxis\":{\"endlinecolor\":\"rgb(36,36,36)\",\"gridcolor\":\"white\",\"linecolor\":\"white\",\"minorgridcolor\":\"white\",\"startlinecolor\":\"rgb(36,36,36)\"},\"baxis\":{\"endlinecolor\":\"rgb(36,36,36)\",\"gridcolor\":\"white\",\"linecolor\":\"white\",\"minorgridcolor\":\"white\",\"startlinecolor\":\"rgb(36,36,36)\"},\"type\":\"carpet\"}],\"table\":[{\"cells\":{\"fill\":{\"color\":\"rgb(237,237,237)\"},\"line\":{\"color\":\"white\"}},\"header\":{\"fill\":{\"color\":\"rgb(217,217,217)\"},\"line\":{\"color\":\"white\"}},\"type\":\"table\"}],\"barpolar\":[{\"marker\":{\"line\":{\"color\":\"white\",\"width\":0.5},\"pattern\":{\"fillmode\":\"overlay\",\"size\":10,\"solidity\":0.2}},\"type\":\"barpolar\"}],\"pie\":[{\"automargin\":true,\"type\":\"pie\"}]},\"layout\":{\"autotypenumbers\":\"strict\",\"colorway\":[\"#1F77B4\",\"#FF7F0E\",\"#2CA02C\",\"#D62728\",\"#9467BD\",\"#8C564B\",\"#E377C2\",\"#7F7F7F\",\"#BCBD22\",\"#17BECF\"],\"font\":{\"color\":\"rgb(36,36,36)\"},\"hovermode\":\"closest\",\"hoverlabel\":{\"align\":\"left\"},\"paper_bgcolor\":\"white\",\"plot_bgcolor\":\"white\",\"polar\":{\"bgcolor\":\"white\",\"angularaxis\":{\"gridcolor\":\"rgb(232,232,232)\",\"linecolor\":\"rgb(36,36,36)\",\"showgrid\":false,\"showline\":true,\"ticks\":\"outside\"},\"radialaxis\":{\"gridcolor\":\"rgb(232,232,232)\",\"linecolor\":\"rgb(36,36,36)\",\"showgrid\":false,\"showline\":true,\"ticks\":\"outside\"}},\"ternary\":{\"bgcolor\":\"white\",\"aaxis\":{\"gridcolor\":\"rgb(232,232,232)\",\"linecolor\":\"rgb(36,36,36)\",\"showgrid\":false,\"showline\":true,\"ticks\":\"outside\"},\"baxis\":{\"gridcolor\":\"rgb(232,232,232)\",\"linecolor\":\"rgb(36,36,36)\",\"showgrid\":false,\"showline\":true,\"ticks\":\"outside\"},\"caxis\":{\"gridcolor\":\"rgb(232,232,232)\",\"linecolor\":\"rgb(36,36,36)\",\"showgrid\":false,\"showline\":true,\"ticks\":\"outside\"}},\"coloraxis\":{\"colorbar\":{\"outlinewidth\":1,\"tickcolor\":\"rgb(36,36,36)\",\"ticks\":\"outside\"}},\"colorscale\":{\"sequential\":[[0.0,\"#440154\"],[0.1111111111111111,\"#482878\"],[0.2222222222222222,\"#3e4989\"],[0.3333333333333333,\"#31688e\"],[0.4444444444444444,\"#26828e\"],[0.5555555555555556,\"#1f9e89\"],[0.6666666666666666,\"#35b779\"],[0.7777777777777778,\"#6ece58\"],[0.8888888888888888,\"#b5de2b\"],[1.0,\"#fde725\"]],\"sequentialminus\":[[0.0,\"#440154\"],[0.1111111111111111,\"#482878\"],[0.2222222222222222,\"#3e4989\"],[0.3333333333333333,\"#31688e\"],[0.4444444444444444,\"#26828e\"],[0.5555555555555556,\"#1f9e89\"],[0.6666666666666666,\"#35b779\"],[0.7777777777777778,\"#6ece58\"],[0.8888888888888888,\"#b5de2b\"],[1.0,\"#fde725\"]],\"diverging\":[[0.0,\"rgb(103,0,31)\"],[0.1,\"rgb(178,24,43)\"],[0.2,\"rgb(214,96,77)\"],[0.3,\"rgb(244,165,130)\"],[0.4,\"rgb(253,219,199)\"],[0.5,\"rgb(247,247,247)\"],[0.6,\"rgb(209,229,240)\"],[0.7,\"rgb(146,197,222)\"],[0.8,\"rgb(67,147,195)\"],[0.9,\"rgb(33,102,172)\"],[1.0,\"rgb(5,48,97)\"]]},\"xaxis\":{\"gridcolor\":\"rgb(232,232,232)\",\"linecolor\":\"rgb(36,36,36)\",\"showgrid\":false,\"showline\":true,\"ticks\":\"outside\",\"title\":{\"standoff\":15},\"zerolinecolor\":\"rgb(36,36,36)\",\"automargin\":true,\"zeroline\":false},\"yaxis\":{\"gridcolor\":\"rgb(232,232,232)\",\"linecolor\":\"rgb(36,36,36)\",\"showgrid\":false,\"showline\":true,\"ticks\":\"outside\",\"title\":{\"standoff\":15},\"zerolinecolor\":\"rgb(36,36,36)\",\"automargin\":true,\"zeroline\":false},\"scene\":{\"xaxis\":{\"backgroundcolor\":\"white\",\"gridcolor\":\"rgb(232,232,232)\",\"linecolor\":\"rgb(36,36,36)\",\"showbackground\":true,\"showgrid\":false,\"showline\":true,\"ticks\":\"outside\",\"zerolinecolor\":\"rgb(36,36,36)\",\"gridwidth\":2,\"zeroline\":false},\"yaxis\":{\"backgroundcolor\":\"white\",\"gridcolor\":\"rgb(232,232,232)\",\"linecolor\":\"rgb(36,36,36)\",\"showbackground\":true,\"showgrid\":false,\"showline\":true,\"ticks\":\"outside\",\"zerolinecolor\":\"rgb(36,36,36)\",\"gridwidth\":2,\"zeroline\":false},\"zaxis\":{\"backgroundcolor\":\"white\",\"gridcolor\":\"rgb(232,232,232)\",\"linecolor\":\"rgb(36,36,36)\",\"showbackground\":true,\"showgrid\":false,\"showline\":true,\"ticks\":\"outside\",\"zerolinecolor\":\"rgb(36,36,36)\",\"gridwidth\":2,\"zeroline\":false}},\"shapedefaults\":{\"fillcolor\":\"black\",\"line\":{\"width\":0},\"opacity\":0.3},\"annotationdefaults\":{\"arrowhead\":0,\"arrowwidth\":1},\"geo\":{\"bgcolor\":\"white\",\"landcolor\":\"white\",\"subunitcolor\":\"white\",\"showland\":true,\"showlakes\":true,\"lakecolor\":\"white\"},\"title\":{\"x\":0.05},\"mapbox\":{\"style\":\"light\"}}},\"xaxis\":{\"anchor\":\"y\",\"domain\":[0.0,1.0],\"title\":{\"text\":\"z\"}},\"yaxis\":{\"anchor\":\"x\",\"domain\":[0.0,1.0],\"title\":{\"text\":\"y\"},\"scaleanchor\":\"x\",\"scaleratio\":1},\"legend\":{\"tracegroupgap\":0},\"margin\":{\"t\":60},\"width\":640,\"height\":480},                        {\"responsive\": true}                    )                };                            </script>        </div></td></tr><tr><td style='text-align: left'><details><summary style='font-weight:bold'>Profile</summary><table><tr><td style='text-align:left'>classifiers</td><td><table style='margin:0'><tr><td>&#x27;symmetric&#x27;</td></tr><tr><td>&#x27;round&#x27;</td></tr><tr><td>&#x27;generic_elongation&#x27;</td></tr></table></td></tr><tr><td style='text-align:left'>cross_section</td><td><table><tr><td style='text-align: center'><div>                        <script type=\"text/javascript\">window.PlotlyConfig = {MathJaxConfig: 'local'};</script>\n",
       "        <script charset=\"utf-8\" src=\"https://cdn.plot.ly/plotly-2.35.2.min.js\"></script>                <div id=\"76afb86f-c138-4a6b-9c53-070bc1e4d21b\" class=\"plotly-graph-div\" style=\"height:480px; width:640px;\"></div>            <script type=\"text/javascript\">                                    window.PLOTLYENV=window.PLOTLYENV || {};                                    if (document.getElementById(\"76afb86f-c138-4a6b-9c53-070bc1e4d21b\")) {                    Plotly.newPlot(                        \"76afb86f-c138-4a6b-9c53-070bc1e4d21b\",                        [{\"hovertemplate\":\"z=%{x}\\u003cbr\\u003ey=%{y}\\u003cextra\\u003e\\u003c\\u002fextra\\u003e\",\"legendgroup\":\"\",\"line\":{\"color\":\"#1F77B4\",\"dash\":\"solid\"},\"marker\":{\"symbol\":\"circle\"},\"mode\":\"lines\",\"name\":\"\",\"orientation\":\"v\",\"showlegend\":false,\"x\":[-0.003197052767999967,-0.003197052767999967,-0.003136095115474413,-0.002951618932211212,-0.0027671427489480115,-0.0025826665656848106,-0.0023981903824216097,-0.002213714199158409,-0.0020292380158952084,-0.0018447618326320075,-0.0016602856493688066,-0.0014758094661056062,-0.0012913332828424053,-0.0011068570995792044,-0.000922380916316004,-0.0007379047330528031,-0.0005534285497896022,-0.00036895236652640176,-0.00018447618326320088,0.0,0.00018447618326320088,0.00036895236652640176,0.0005534285497896022,0.0007379047330528031,0.000922380916316004,0.0011068570995792044,0.0012913332828424053,0.0014758094661056062,0.0016602856493688066,0.0018447618326320075,0.0020292380158952084,0.002213714199158409,0.0023981903824216097,0.0025826665656848106,0.0027671427489480115,0.002951618932211212,0.003136095115474413,0.003197052767999967,0.003197052767999967,0.003136095115474413,0.002951618932211212,0.0027671427489480115,0.0025826665656848106,0.0023981903824216097,0.002213714199158409,0.0020292380158952084,0.0018447618326320075,0.0016602856493688066,0.0014758094661056062,0.0012913332828424053,0.0011068570995792044,0.000922380916316004,0.0007379047330528031,0.0005534285497896022,0.00036895236652640176,0.00018447618326320088,0.0,-0.00018447618326320088,-0.00036895236652640176,-0.0005534285497896022,-0.0007379047330528031,-0.000922380916316004,-0.0011068570995792044,-0.0012913332828424053,-0.0014758094661056062,-0.0016602856493688066,-0.0018447618326320075,-0.0020292380158952084,-0.002213714199158409,-0.0023981903824216097,-0.0025826665656848106,-0.0027671427489480115,-0.002951618932211212,-0.003136095115474413,-0.003197052767999967],\"xaxis\":\"x\",\"y\":[-0.002228192300755861,0.002228192300755861,0.0023183846589161015,0.002549106839466001,0.002748257813041644,0.0029222993362237595,0.003075497177638193,0.003210836253134757,0.003330494418978311,0.003436110269019927,0.0035289448228188547,0.0036099842686295857,0.0036800079283370373,0.0037396346561009283,0.0037893552809437183,0.0038295556667762736,0.00386053323263481,0.0038825087445148875,0.0038956345488005725,0.0039,0.0038956345488005725,0.0038825087445148875,0.00386053323263481,0.0038295556667762736,0.0037893552809437183,0.0037396346561009283,0.0036800079283370373,0.0036099842686295857,0.0035289448228188547,0.003436110269019927,0.003330494418978311,0.003210836253134757,0.003075497177638193,0.0029222993362237595,0.002748257813041644,0.002549106839466001,0.0023183846589161015,0.002228192300755861,-0.002228192300755861,-0.0023183846589161015,-0.002549106839466001,-0.002748257813041644,-0.0029222993362237595,-0.003075497177638193,-0.003210836253134757,-0.003330494418978311,-0.003436110269019927,-0.0035289448228188547,-0.0036099842686295857,-0.0036800079283370373,-0.0037396346561009283,-0.0037893552809437183,-0.0038295556667762736,-0.00386053323263481,-0.0038825087445148875,-0.0038956345488005725,-0.0039,-0.0038956345488005725,-0.0038825087445148875,-0.00386053323263481,-0.0038295556667762736,-0.0037893552809437183,-0.0037396346561009283,-0.0036800079283370373,-0.0036099842686295857,-0.0035289448228188547,-0.003436110269019927,-0.003330494418978311,-0.003210836253134757,-0.003075497177638193,-0.0029222993362237595,-0.002748257813041644,-0.002549106839466001,-0.0023183846589161015,-0.002228192300755861],\"yaxis\":\"y\",\"type\":\"scatter\",\"fill\":\"toself\"}],                        {\"template\":{\"data\":{\"histogram2dcontour\":[{\"type\":\"histogram2dcontour\",\"colorbar\":{\"outlinewidth\":1,\"tickcolor\":\"rgb(36,36,36)\",\"ticks\":\"outside\"},\"colorscale\":[[0.0,\"#440154\"],[0.1111111111111111,\"#482878\"],[0.2222222222222222,\"#3e4989\"],[0.3333333333333333,\"#31688e\"],[0.4444444444444444,\"#26828e\"],[0.5555555555555556,\"#1f9e89\"],[0.6666666666666666,\"#35b779\"],[0.7777777777777778,\"#6ece58\"],[0.8888888888888888,\"#b5de2b\"],[1.0,\"#fde725\"]]}],\"choropleth\":[{\"type\":\"choropleth\",\"colorbar\":{\"outlinewidth\":1,\"tickcolor\":\"rgb(36,36,36)\",\"ticks\":\"outside\"}}],\"histogram2d\":[{\"type\":\"histogram2d\",\"colorbar\":{\"outlinewidth\":1,\"tickcolor\":\"rgb(36,36,36)\",\"ticks\":\"outside\"},\"colorscale\":[[0.0,\"#440154\"],[0.1111111111111111,\"#482878\"],[0.2222222222222222,\"#3e4989\"],[0.3333333333333333,\"#31688e\"],[0.4444444444444444,\"#26828e\"],[0.5555555555555556,\"#1f9e89\"],[0.6666666666666666,\"#35b779\"],[0.7777777777777778,\"#6ece58\"],[0.8888888888888888,\"#b5de2b\"],[1.0,\"#fde725\"]]}],\"heatmap\":[{\"type\":\"heatmap\",\"colorbar\":{\"outlinewidth\":1,\"tickcolor\":\"rgb(36,36,36)\",\"ticks\":\"outside\"},\"colorscale\":[[0.0,\"#440154\"],[0.1111111111111111,\"#482878\"],[0.2222222222222222,\"#3e4989\"],[0.3333333333333333,\"#31688e\"],[0.4444444444444444,\"#26828e\"],[0.5555555555555556,\"#1f9e89\"],[0.6666666666666666,\"#35b779\"],[0.7777777777777778,\"#6ece58\"],[0.8888888888888888,\"#b5de2b\"],[1.0,\"#fde725\"]]}],\"heatmapgl\":[{\"type\":\"heatmapgl\",\"colorbar\":{\"outlinewidth\":1,\"tickcolor\":\"rgb(36,36,36)\",\"ticks\":\"outside\"},\"colorscale\":[[0.0,\"#440154\"],[0.1111111111111111,\"#482878\"],[0.2222222222222222,\"#3e4989\"],[0.3333333333333333,\"#31688e\"],[0.4444444444444444,\"#26828e\"],[0.5555555555555556,\"#1f9e89\"],[0.6666666666666666,\"#35b779\"],[0.7777777777777778,\"#6ece58\"],[0.8888888888888888,\"#b5de2b\"],[1.0,\"#fde725\"]]}],\"contourcarpet\":[{\"type\":\"contourcarpet\",\"colorbar\":{\"outlinewidth\":1,\"tickcolor\":\"rgb(36,36,36)\",\"ticks\":\"outside\"}}],\"contour\":[{\"type\":\"contour\",\"colorbar\":{\"outlinewidth\":1,\"tickcolor\":\"rgb(36,36,36)\",\"ticks\":\"outside\"},\"colorscale\":[[0.0,\"#440154\"],[0.1111111111111111,\"#482878\"],[0.2222222222222222,\"#3e4989\"],[0.3333333333333333,\"#31688e\"],[0.4444444444444444,\"#26828e\"],[0.5555555555555556,\"#1f9e89\"],[0.6666666666666666,\"#35b779\"],[0.7777777777777778,\"#6ece58\"],[0.8888888888888888,\"#b5de2b\"],[1.0,\"#fde725\"]]}],\"surface\":[{\"type\":\"surface\",\"colorbar\":{\"outlinewidth\":1,\"tickcolor\":\"rgb(36,36,36)\",\"ticks\":\"outside\"},\"colorscale\":[[0.0,\"#440154\"],[0.1111111111111111,\"#482878\"],[0.2222222222222222,\"#3e4989\"],[0.3333333333333333,\"#31688e\"],[0.4444444444444444,\"#26828e\"],[0.5555555555555556,\"#1f9e89\"],[0.6666666666666666,\"#35b779\"],[0.7777777777777778,\"#6ece58\"],[0.8888888888888888,\"#b5de2b\"],[1.0,\"#fde725\"]]}],\"mesh3d\":[{\"type\":\"mesh3d\",\"colorbar\":{\"outlinewidth\":1,\"tickcolor\":\"rgb(36,36,36)\",\"ticks\":\"outside\"}}],\"scatter\":[{\"fillpattern\":{\"fillmode\":\"overlay\",\"size\":10,\"solidity\":0.2},\"type\":\"scatter\"}],\"parcoords\":[{\"type\":\"parcoords\",\"line\":{\"colorbar\":{\"outlinewidth\":1,\"tickcolor\":\"rgb(36,36,36)\",\"ticks\":\"outside\"}}}],\"scatterpolargl\":[{\"type\":\"scatterpolargl\",\"marker\":{\"colorbar\":{\"outlinewidth\":1,\"tickcolor\":\"rgb(36,36,36)\",\"ticks\":\"outside\"}}}],\"bar\":[{\"error_x\":{\"color\":\"rgb(36,36,36)\"},\"error_y\":{\"color\":\"rgb(36,36,36)\"},\"marker\":{\"line\":{\"color\":\"white\",\"width\":0.5},\"pattern\":{\"fillmode\":\"overlay\",\"size\":10,\"solidity\":0.2}},\"type\":\"bar\"}],\"scattergeo\":[{\"type\":\"scattergeo\",\"marker\":{\"colorbar\":{\"outlinewidth\":1,\"tickcolor\":\"rgb(36,36,36)\",\"ticks\":\"outside\"}}}],\"scatterpolar\":[{\"type\":\"scatterpolar\",\"marker\":{\"colorbar\":{\"outlinewidth\":1,\"tickcolor\":\"rgb(36,36,36)\",\"ticks\":\"outside\"}}}],\"histogram\":[{\"marker\":{\"line\":{\"color\":\"white\",\"width\":0.6}},\"type\":\"histogram\"}],\"scattergl\":[{\"type\":\"scattergl\",\"marker\":{\"colorbar\":{\"outlinewidth\":1,\"tickcolor\":\"rgb(36,36,36)\",\"ticks\":\"outside\"}}}],\"scatter3d\":[{\"type\":\"scatter3d\",\"line\":{\"colorbar\":{\"outlinewidth\":1,\"tickcolor\":\"rgb(36,36,36)\",\"ticks\":\"outside\"}},\"marker\":{\"colorbar\":{\"outlinewidth\":1,\"tickcolor\":\"rgb(36,36,36)\",\"ticks\":\"outside\"}}}],\"scattermapbox\":[{\"type\":\"scattermapbox\",\"marker\":{\"colorbar\":{\"outlinewidth\":1,\"tickcolor\":\"rgb(36,36,36)\",\"ticks\":\"outside\"}}}],\"scatterternary\":[{\"type\":\"scatterternary\",\"marker\":{\"colorbar\":{\"outlinewidth\":1,\"tickcolor\":\"rgb(36,36,36)\",\"ticks\":\"outside\"}}}],\"scattercarpet\":[{\"type\":\"scattercarpet\",\"marker\":{\"colorbar\":{\"outlinewidth\":1,\"tickcolor\":\"rgb(36,36,36)\",\"ticks\":\"outside\"}}}],\"carpet\":[{\"aaxis\":{\"endlinecolor\":\"rgb(36,36,36)\",\"gridcolor\":\"white\",\"linecolor\":\"white\",\"minorgridcolor\":\"white\",\"startlinecolor\":\"rgb(36,36,36)\"},\"baxis\":{\"endlinecolor\":\"rgb(36,36,36)\",\"gridcolor\":\"white\",\"linecolor\":\"white\",\"minorgridcolor\":\"white\",\"startlinecolor\":\"rgb(36,36,36)\"},\"type\":\"carpet\"}],\"table\":[{\"cells\":{\"fill\":{\"color\":\"rgb(237,237,237)\"},\"line\":{\"color\":\"white\"}},\"header\":{\"fill\":{\"color\":\"rgb(217,217,217)\"},\"line\":{\"color\":\"white\"}},\"type\":\"table\"}],\"barpolar\":[{\"marker\":{\"line\":{\"color\":\"white\",\"width\":0.5},\"pattern\":{\"fillmode\":\"overlay\",\"size\":10,\"solidity\":0.2}},\"type\":\"barpolar\"}],\"pie\":[{\"automargin\":true,\"type\":\"pie\"}]},\"layout\":{\"autotypenumbers\":\"strict\",\"colorway\":[\"#1F77B4\",\"#FF7F0E\",\"#2CA02C\",\"#D62728\",\"#9467BD\",\"#8C564B\",\"#E377C2\",\"#7F7F7F\",\"#BCBD22\",\"#17BECF\"],\"font\":{\"color\":\"rgb(36,36,36)\"},\"hovermode\":\"closest\",\"hoverlabel\":{\"align\":\"left\"},\"paper_bgcolor\":\"white\",\"plot_bgcolor\":\"white\",\"polar\":{\"bgcolor\":\"white\",\"angularaxis\":{\"gridcolor\":\"rgb(232,232,232)\",\"linecolor\":\"rgb(36,36,36)\",\"showgrid\":false,\"showline\":true,\"ticks\":\"outside\"},\"radialaxis\":{\"gridcolor\":\"rgb(232,232,232)\",\"linecolor\":\"rgb(36,36,36)\",\"showgrid\":false,\"showline\":true,\"ticks\":\"outside\"}},\"ternary\":{\"bgcolor\":\"white\",\"aaxis\":{\"gridcolor\":\"rgb(232,232,232)\",\"linecolor\":\"rgb(36,36,36)\",\"showgrid\":false,\"showline\":true,\"ticks\":\"outside\"},\"baxis\":{\"gridcolor\":\"rgb(232,232,232)\",\"linecolor\":\"rgb(36,36,36)\",\"showgrid\":false,\"showline\":true,\"ticks\":\"outside\"},\"caxis\":{\"gridcolor\":\"rgb(232,232,232)\",\"linecolor\":\"rgb(36,36,36)\",\"showgrid\":false,\"showline\":true,\"ticks\":\"outside\"}},\"coloraxis\":{\"colorbar\":{\"outlinewidth\":1,\"tickcolor\":\"rgb(36,36,36)\",\"ticks\":\"outside\"}},\"colorscale\":{\"sequential\":[[0.0,\"#440154\"],[0.1111111111111111,\"#482878\"],[0.2222222222222222,\"#3e4989\"],[0.3333333333333333,\"#31688e\"],[0.4444444444444444,\"#26828e\"],[0.5555555555555556,\"#1f9e89\"],[0.6666666666666666,\"#35b779\"],[0.7777777777777778,\"#6ece58\"],[0.8888888888888888,\"#b5de2b\"],[1.0,\"#fde725\"]],\"sequentialminus\":[[0.0,\"#440154\"],[0.1111111111111111,\"#482878\"],[0.2222222222222222,\"#3e4989\"],[0.3333333333333333,\"#31688e\"],[0.4444444444444444,\"#26828e\"],[0.5555555555555556,\"#1f9e89\"],[0.6666666666666666,\"#35b779\"],[0.7777777777777778,\"#6ece58\"],[0.8888888888888888,\"#b5de2b\"],[1.0,\"#fde725\"]],\"diverging\":[[0.0,\"rgb(103,0,31)\"],[0.1,\"rgb(178,24,43)\"],[0.2,\"rgb(214,96,77)\"],[0.3,\"rgb(244,165,130)\"],[0.4,\"rgb(253,219,199)\"],[0.5,\"rgb(247,247,247)\"],[0.6,\"rgb(209,229,240)\"],[0.7,\"rgb(146,197,222)\"],[0.8,\"rgb(67,147,195)\"],[0.9,\"rgb(33,102,172)\"],[1.0,\"rgb(5,48,97)\"]]},\"xaxis\":{\"gridcolor\":\"rgb(232,232,232)\",\"linecolor\":\"rgb(36,36,36)\",\"showgrid\":false,\"showline\":true,\"ticks\":\"outside\",\"title\":{\"standoff\":15},\"zerolinecolor\":\"rgb(36,36,36)\",\"automargin\":true,\"zeroline\":false},\"yaxis\":{\"gridcolor\":\"rgb(232,232,232)\",\"linecolor\":\"rgb(36,36,36)\",\"showgrid\":false,\"showline\":true,\"ticks\":\"outside\",\"title\":{\"standoff\":15},\"zerolinecolor\":\"rgb(36,36,36)\",\"automargin\":true,\"zeroline\":false},\"scene\":{\"xaxis\":{\"backgroundcolor\":\"white\",\"gridcolor\":\"rgb(232,232,232)\",\"linecolor\":\"rgb(36,36,36)\",\"showbackground\":true,\"showgrid\":false,\"showline\":true,\"ticks\":\"outside\",\"zerolinecolor\":\"rgb(36,36,36)\",\"gridwidth\":2,\"zeroline\":false},\"yaxis\":{\"backgroundcolor\":\"white\",\"gridcolor\":\"rgb(232,232,232)\",\"linecolor\":\"rgb(36,36,36)\",\"showbackground\":true,\"showgrid\":false,\"showline\":true,\"ticks\":\"outside\",\"zerolinecolor\":\"rgb(36,36,36)\",\"gridwidth\":2,\"zeroline\":false},\"zaxis\":{\"backgroundcolor\":\"white\",\"gridcolor\":\"rgb(232,232,232)\",\"linecolor\":\"rgb(36,36,36)\",\"showbackground\":true,\"showgrid\":false,\"showline\":true,\"ticks\":\"outside\",\"zerolinecolor\":\"rgb(36,36,36)\",\"gridwidth\":2,\"zeroline\":false}},\"shapedefaults\":{\"fillcolor\":\"black\",\"line\":{\"width\":0},\"opacity\":0.3},\"annotationdefaults\":{\"arrowhead\":0,\"arrowwidth\":1},\"geo\":{\"bgcolor\":\"white\",\"landcolor\":\"white\",\"subunitcolor\":\"white\",\"showland\":true,\"showlakes\":true,\"lakecolor\":\"white\"},\"title\":{\"x\":0.05},\"mapbox\":{\"style\":\"light\"}}},\"xaxis\":{\"anchor\":\"y\",\"domain\":[0.0,1.0],\"title\":{\"text\":\"z\"}},\"yaxis\":{\"anchor\":\"x\",\"domain\":[0.0,1.0],\"title\":{\"text\":\"y\"},\"scaleanchor\":\"x\",\"scaleratio\":1},\"legend\":{\"tracegroupgap\":0},\"margin\":{\"t\":60},\"width\":640,\"height\":480},                        {\"responsive\": true}                    )                };                            </script>        </div></td></tr><tr><td style='text-align: left'><details><summary style='font-weight:bold'>Polygon</summary><table><tr><td style='text-align:left'>area</td><td>4.349884272245522e-05</td></tr><tr><td style='text-align:left'>height</td><td>0.0078</td></tr><tr><td style='text-align:left'>perimeter</td><td>0.02391984696702897</td></tr><tr><td style='text-align:left'>width</td><td>0.006394105535999934</td></tr></table></details></td></tr></table></td></tr><tr><td style='text-align:left'>density</td><td>7500.0</td></tr><tr><td style='text-align:left'>length</td><td>0.0</td></tr><tr><td style='text-align:left'>material</td><td>&#x27;C45&#x27;</td></tr><tr><td style='text-align:left'>specific_heat_capacity</td><td>690</td></tr><tr><td style='text-align:left'>strain</td><td>np.float64(0.3482182358055251)</td></tr><tr><td style='text-align:left'>t</td><td>np.float64(55.3933707390962)</td></tr><tr><td style='text-align:left'>temperature</td><td>np.float64(1139.4285002853064)</td></tr></table></details></td></tr></table>"
      ]
     },
     "execution_count": 45,
     "metadata": {},
     "output_type": "execute_result"
    }
   ],
   "execution_count": 45
  },
  {
   "metadata": {
    "ExecuteTime": {
     "end_time": "2025-01-14T12:45:15.500843Z",
     "start_time": "2025-01-14T12:45:15.481085Z"
    }
   },
   "cell_type": "code",
   "source": "sequence.roll_passes[1].plot()",
   "id": "28cb7a7ddee8c154",
   "outputs": [
    {
     "data": {
      "application/vnd.plotly.v1+json": {
       "data": [
        {
         "fill": "toself",
         "line": {
          "color": "red"
         },
         "mode": "lines",
         "name": "in profile",
         "x": [
          0.0038712587587523637,
          -0.0038712587587523637,
          -0.0043382689484630105,
          -0.004879058498292928,
          -0.00538058037579753,
          -0.00584425849043157,
          -0.006271348640490624,
          -0.006662958795113099,
          -0.007020065868873869,
          -0.0073435296567023,
          -0.007634104445599721,
          -0.007892448705769212,
          -0.008119133177008757,
          -0.008314647599301875,
          -0.008479406284286917,
          -0.008613752682945725,
          -0.008717963071668335,
          -0.00879224945176982,
          -0.008836761735000623,
          -0.008851589268396466,
          -0.008836761735000623,
          -0.00879224945176982,
          -0.008717963071668335,
          -0.008613752682945725,
          -0.008479406284286917,
          -0.008314647599301875,
          -0.008119133177008757,
          -0.007892448705769212,
          -0.007634104445599721,
          -0.0073435296567023,
          -0.007020065868873869,
          -0.006662958795113099,
          -0.006271348640490624,
          -0.00584425849043157,
          -0.00538058037579753,
          -0.004879058498292928,
          -0.0043382689484630105,
          -0.0038712587587523637,
          0.0038712587587523637,
          0.0043382689484630105,
          0.004879058498292928,
          0.00538058037579753,
          0.00584425849043157,
          0.006271348640490624,
          0.006662958795113099,
          0.007020065868873869,
          0.0073435296567023,
          0.007634104445599721,
          0.007892448705769212,
          0.008119133177008757,
          0.008314647599301875,
          0.008479406284286917,
          0.008613752682945725,
          0.008717963071668335,
          0.00879224945176982,
          0.008836761735000623,
          0.008851589268396466,
          0.008836761735000623,
          0.00879224945176982,
          0.008717963071668335,
          0.008613752682945725,
          0.008479406284286917,
          0.008314647599301875,
          0.008119133177008757,
          0.007892448705769212,
          0.007634104445599721,
          0.0073435296567023,
          0.007020065868873869,
          0.006662958795113099,
          0.006271348640490624,
          0.00584425849043157,
          0.00538058037579753,
          0.004879058498292928,
          0.0043382689484630105,
          0.0038712587587523637
         ],
         "y": [
          -0.020449531793273645,
          -0.020449531793273645,
          -0.019527300073582967,
          -0.018378635363372205,
          -0.01722997065316144,
          -0.016081305942950676,
          -0.014932641232739914,
          -0.013783976522529152,
          -0.01263531181231839,
          -0.011486647102107627,
          -0.010337982391896863,
          -0.0091893176816861,
          -0.008040652971475338,
          -0.006891988261264574,
          -0.005743323551053812,
          -0.004594658840843049,
          -0.003445994130632287,
          -0.0022973294204215247,
          -0.0011486647102107624,
          0.0,
          0.0011486647102107624,
          0.0022973294204215247,
          0.003445994130632287,
          0.004594658840843049,
          0.005743323551053812,
          0.006891988261264574,
          0.008040652971475338,
          0.0091893176816861,
          0.010337982391896863,
          0.011486647102107627,
          0.01263531181231839,
          0.013783976522529152,
          0.014932641232739914,
          0.016081305942950676,
          0.01722997065316144,
          0.018378635363372205,
          0.019527300073582967,
          0.020449531793273645,
          0.020449531793273645,
          0.019527300073582967,
          0.018378635363372205,
          0.01722997065316144,
          0.016081305942950676,
          0.014932641232739914,
          0.013783976522529152,
          0.01263531181231839,
          0.011486647102107627,
          0.010337982391896863,
          0.0091893176816861,
          0.008040652971475338,
          0.006891988261264574,
          0.005743323551053812,
          0.004594658840843049,
          0.003445994130632287,
          0.0022973294204215247,
          0.0011486647102107624,
          0.0,
          -0.0011486647102107624,
          -0.0022973294204215247,
          -0.003445994130632287,
          -0.004594658840843049,
          -0.005743323551053812,
          -0.006891988261264574,
          -0.008040652971475338,
          -0.0091893176816861,
          -0.010337982391896863,
          -0.011486647102107627,
          -0.01263531181231839,
          -0.013783976522529152,
          -0.014932641232739914,
          -0.016081305942950676,
          -0.01722997065316144,
          -0.018378635363372205,
          -0.019527300073582967,
          -0.020449531793273645
         ],
         "type": "scatter"
        },
        {
         "line": {
          "color": "red",
          "dash": "dash"
         },
         "mode": "lines",
         "name": "in eq. rectangle",
         "x": [
          -0.008851589268396466,
          0.008851589268396466,
          0.008851589268396466,
          -0.008851589268396466,
          -0.008851589268396466
         ],
         "y": [
          -0.017746088599185507,
          -0.017746088599185507,
          0.017746088599185507,
          0.017746088599185507,
          -0.017746088599185507
         ],
         "type": "scatter"
        },
        {
         "fill": "toself",
         "line": {
          "color": "blue"
         },
         "mode": "lines",
         "name": "out profile",
         "x": [
          -0.011470176742994255,
          -0.011470176742994255,
          -0.0028096342078768456,
          -0.0026691524974830033,
          -0.002528670787089161,
          -0.0023881890766953187,
          -0.0022477073663014764,
          -0.002107225655907634,
          -0.0019667439455137922,
          -0.0018262622351199497,
          -0.0016857805247261074,
          -0.001545298814332265,
          -0.0014048171039384228,
          -0.0012643353935445805,
          -0.0011238536831507384,
          -9.833719727568961E-4,
          -8.428902623630538E-4,
          -7.024085519692115E-4,
          -5.619268415753692E-4,
          -4.214451311815269E-4,
          -2.809634207876846E-4,
          -1.404817103938423E-4,
          0.0,
          1.404817103938423E-4,
          2.809634207876846E-4,
          4.214451311815269E-4,
          5.619268415753692E-4,
          7.024085519692115E-4,
          8.428902623630538E-4,
          9.833719727568961E-4,
          0.0011238536831507384,
          0.0012643353935445805,
          0.0014048171039384228,
          0.001545298814332265,
          0.0016857805247261074,
          0.0018262622351199497,
          0.0019667439455137922,
          0.002107225655907634,
          0.0022477073663014764,
          0.0023881890766953187,
          0.002528670787089161,
          0.0026691524974830033,
          0.0028096342078768456,
          0.011470176742994255,
          0.011470176742994255,
          0.0028096342078768456,
          0.0026691524974830033,
          0.002528670787089161,
          0.0023881890766953187,
          0.0022477073663014764,
          0.002107225655907634,
          0.0019667439455137922,
          0.0018262622351199497,
          0.0016857805247261074,
          0.001545298814332265,
          0.0014048171039384228,
          0.0012643353935445805,
          0.0011238536831507384,
          9.833719727568961E-4,
          8.428902623630538E-4,
          7.024085519692115E-4,
          5.619268415753692E-4,
          4.214451311815269E-4,
          2.809634207876846E-4,
          1.404817103938423E-4,
          0.0,
          -1.404817103938423E-4,
          -2.809634207876846E-4,
          -4.214451311815269E-4,
          -5.619268415753692E-4,
          -7.024085519692115E-4,
          -8.428902623630538E-4,
          -9.833719727568961E-4,
          -0.0011238536831507384,
          -0.0012643353935445805,
          -0.0014048171039384228,
          -0.001545298814332265,
          -0.0016857805247261074,
          -0.0018262622351199497,
          -0.0019667439455137922,
          -0.002107225655907634,
          -0.0022477073663014764,
          -0.0023881890766953187,
          -0.002528670787089161,
          -0.0026691524974830033,
          -0.0028096342078768456,
          -0.011470176742994255
         ],
         "y": [
          -0.0048057466352030365,
          0.0048057466352030365,
          0.01335233466327943,
          0.013484437374540116,
          0.013604565052539522,
          0.013714062895172357,
          0.013813986404229275,
          0.013905179847085548,
          0.013988328996803327,
          0.014063997754266592,
          0.014132654278001833,
          0.014194690058030979,
          0.0142504341087258,
          0.014300163699825959,
          0.014344112576223395,
          0.014382477317787997,
          0.014415422294083697,
          0.014443083536717837,
          0.014465571761136541,
          0.014482974705648532,
          0.014495358909287638,
          0.014502771015932744,
          0.014505238665964227,
          0.014502771015932744,
          0.014495358909287638,
          0.014482974705648532,
          0.014465571761136541,
          0.014443083536717837,
          0.014415422294083697,
          0.014382477317787997,
          0.014344112576223395,
          0.014300163699825959,
          0.0142504341087258,
          0.014194690058030979,
          0.014132654278001833,
          0.014063997754266592,
          0.013988328996803327,
          0.013905179847085548,
          0.013813986404229275,
          0.013714062895172357,
          0.013604565052539522,
          0.013484437374540116,
          0.01335233466327943,
          0.0048057466352030365,
          -0.0048057466352030365,
          -0.01335233466327943,
          -0.013484437374540116,
          -0.013604565052539522,
          -0.013714062895172357,
          -0.013813986404229275,
          -0.013905179847085548,
          -0.013988328996803327,
          -0.014063997754266592,
          -0.014132654278001833,
          -0.014194690058030979,
          -0.0142504341087258,
          -0.014300163699825959,
          -0.014344112576223395,
          -0.014382477317787997,
          -0.014415422294083697,
          -0.014443083536717837,
          -0.014465571761136541,
          -0.014482974705648532,
          -0.014495358909287638,
          -0.014502771015932744,
          -0.014505238665964227,
          -0.014502771015932744,
          -0.014495358909287638,
          -0.014482974705648532,
          -0.014465571761136541,
          -0.014443083536717837,
          -0.014415422294083697,
          -0.014382477317787997,
          -0.014344112576223395,
          -0.014300163699825959,
          -0.0142504341087258,
          -0.014194690058030979,
          -0.014132654278001833,
          -0.014063997754266592,
          -0.013988328996803327,
          -0.013905179847085548,
          -0.013813986404229275,
          -0.013714062895172357,
          -0.013604565052539522,
          -0.013484437374540116,
          -0.01335233466327943,
          -0.0048057466352030365
         ],
         "type": "scatter"
        },
        {
         "line": {
          "color": "blue",
          "dash": "dash"
         },
         "mode": "lines",
         "name": "out eq. rectangle",
         "x": [
          -0.011470176742994255,
          0.011470176742994255,
          0.011470176742994255,
          -0.011470176742994255,
          -0.011470176742994255
         ],
         "y": [
          -0.011921900270731431,
          -0.011921900270731431,
          0.011921900270731431,
          0.011921900270731431,
          -0.011921900270731431
         ],
         "type": "scatter"
        },
        {
         "line": {
          "color": "black"
         },
         "mode": "lines",
         "name": "roll surface",
         "showlegend": true,
         "x": [
          -0.023210037227734376,
          -0.017282037227734377,
          -0.017071314662143615,
          -0.01686059209655285,
          -0.016649869530962084,
          -0.016439146965371323,
          -0.01622842439978056,
          -0.016017701834189796,
          -0.01580697926859903,
          -0.015596256703008269,
          -0.015385534137417506,
          -0.015174811571826742,
          -0.014964089006235979,
          -0.014753366440645215,
          -0.014542643875054452,
          -0.014331921309463688,
          -0.014121198743872925,
          -0.013910476178282161,
          -0.013699753612691398,
          -0.013489031047100634,
          -0.013278308481509871,
          -0.013067585915919108,
          -0.0028096342078768456,
          -0.0026691524974830033,
          -0.002528670787089161,
          -0.0023881890766953187,
          -0.0022477073663014764,
          -0.002107225655907634,
          -0.0019667439455137922,
          -0.0018262622351199497,
          -0.0016857805247261074,
          -0.001545298814332265,
          -0.0014048171039384228,
          -0.0012643353935445805,
          -0.0011238536831507384,
          -9.833719727568961E-4,
          -8.428902623630538E-4,
          -7.024085519692115E-4,
          -5.619268415753692E-4,
          -4.214451311815269E-4,
          -2.809634207876846E-4,
          -1.404817103938423E-4,
          0.0,
          1.404817103938423E-4,
          2.809634207876846E-4,
          4.214451311815269E-4,
          5.619268415753692E-4,
          7.024085519692115E-4,
          8.428902623630538E-4,
          9.833719727568961E-4,
          0.0011238536831507384,
          0.0012643353935445805,
          0.0014048171039384228,
          0.001545298814332265,
          0.0016857805247261074,
          0.0018262622351199497,
          0.0019667439455137922,
          0.002107225655907634,
          0.0022477073663014764,
          0.0023881890766953187,
          0.002528670787089161,
          0.0026691524974830033,
          0.0028096342078768456,
          0.013067585915919108,
          0.013278308481509871,
          0.013489031047100634,
          0.013699753612691398,
          0.013910476178282161,
          0.014121198743872925,
          0.014331921309463688,
          0.014542643875054452,
          0.014753366440645215,
          0.014964089006235979,
          0.015174811571826742,
          0.015385534137417506,
          0.015596256703008269,
          0.01580697926859903,
          0.016017701834189796,
          0.01622842439978056,
          0.016439146965371323,
          0.016649869530962084,
          0.01686059209655285,
          0.017071314662143615,
          0.017282037227734377,
          0.023210037227734376
         ],
         "y": [
          0.0014999999999999996,
          0.0014999999999999996,
          0.0015037014750472226,
          0.0015148196350148824,
          0.001533395940473541,
          0.0015595003572415264,
          0.001593232693869585,
          0.0016347245578207945,
          0.0016841420222643445,
          0.0017416891346112469,
          0.0018076124492074006,
          0.0018822068358576383,
          0.0019658229118998715,
          0.0020588765819435882,
          0.002161861367546451,
          0.0022753645037413475,
          0.002400088228318019,
          0.0025368783926024256,
          0.002686763656187802,
          0.0028510104201370555,
          0.0030312019371361663,
          0.0032293560040271944,
          0.01335233466327943,
          0.013484437374540116,
          0.013604565052539522,
          0.013714062895172357,
          0.013813986404229275,
          0.013905179847085548,
          0.013988328996803327,
          0.014063997754266592,
          0.014132654278001833,
          0.014194690058030979,
          0.0142504341087258,
          0.014300163699825959,
          0.014344112576223395,
          0.014382477317787997,
          0.014415422294083697,
          0.014443083536717837,
          0.014465571761136541,
          0.014482974705648532,
          0.014495358909287638,
          0.014502771015932744,
          0.014505238665964227,
          0.014502771015932744,
          0.014495358909287638,
          0.014482974705648532,
          0.014465571761136541,
          0.014443083536717837,
          0.014415422294083697,
          0.014382477317787997,
          0.014344112576223395,
          0.014300163699825959,
          0.0142504341087258,
          0.014194690058030979,
          0.014132654278001833,
          0.014063997754266592,
          0.013988328996803327,
          0.013905179847085548,
          0.013813986404229275,
          0.013714062895172357,
          0.013604565052539522,
          0.013484437374540116,
          0.01335233466327943,
          0.0032293560040271944,
          0.0030312019371361663,
          0.0028510104201370555,
          0.002686763656187802,
          0.0025368783926024256,
          0.002400088228318019,
          0.0022753645037413475,
          0.002161861367546451,
          0.0020588765819435882,
          0.0019658229118998715,
          0.0018822068358576383,
          0.0018076124492074006,
          0.0017416891346112469,
          0.0016841420222643445,
          0.0016347245578207945,
          0.001593232693869585,
          0.0015595003572415264,
          0.001533395940473541,
          0.0015148196350148824,
          0.0015037014750472226,
          0.0014999999999999996,
          0.0014999999999999996
         ],
         "type": "scatter"
        },
        {
         "line": {
          "color": "black"
         },
         "mode": "lines",
         "name": "roll surface",
         "showlegend": false,
         "x": [
          0.023210037227734376,
          0.017282037227734377,
          0.017071314662143615,
          0.01686059209655285,
          0.016649869530962084,
          0.016439146965371323,
          0.01622842439978056,
          0.016017701834189796,
          0.01580697926859903,
          0.015596256703008269,
          0.015385534137417506,
          0.015174811571826742,
          0.014964089006235979,
          0.014753366440645215,
          0.014542643875054452,
          0.014331921309463688,
          0.014121198743872925,
          0.013910476178282161,
          0.013699753612691398,
          0.013489031047100634,
          0.013278308481509871,
          0.013067585915919108,
          0.0028096342078768456,
          0.0026691524974830033,
          0.002528670787089161,
          0.0023881890766953187,
          0.0022477073663014764,
          0.002107225655907634,
          0.0019667439455137922,
          0.0018262622351199497,
          0.0016857805247261074,
          0.001545298814332265,
          0.0014048171039384228,
          0.0012643353935445805,
          0.0011238536831507384,
          9.833719727568961E-4,
          8.428902623630538E-4,
          7.024085519692115E-4,
          5.619268415753692E-4,
          4.214451311815269E-4,
          2.809634207876846E-4,
          1.404817103938423E-4,
          0.0,
          -1.404817103938423E-4,
          -2.809634207876846E-4,
          -4.214451311815269E-4,
          -5.619268415753692E-4,
          -7.024085519692115E-4,
          -8.428902623630538E-4,
          -9.833719727568961E-4,
          -0.0011238536831507384,
          -0.0012643353935445805,
          -0.0014048171039384228,
          -0.001545298814332265,
          -0.0016857805247261074,
          -0.0018262622351199497,
          -0.0019667439455137922,
          -0.002107225655907634,
          -0.0022477073663014764,
          -0.0023881890766953187,
          -0.002528670787089161,
          -0.0026691524974830033,
          -0.0028096342078768456,
          -0.013067585915919108,
          -0.013278308481509871,
          -0.013489031047100634,
          -0.013699753612691398,
          -0.013910476178282161,
          -0.014121198743872925,
          -0.014331921309463688,
          -0.014542643875054452,
          -0.014753366440645215,
          -0.014964089006235979,
          -0.015174811571826742,
          -0.015385534137417506,
          -0.015596256703008269,
          -0.01580697926859903,
          -0.016017701834189796,
          -0.01622842439978056,
          -0.016439146965371323,
          -0.016649869530962084,
          -0.01686059209655285,
          -0.017071314662143615,
          -0.017282037227734377,
          -0.023210037227734376
         ],
         "y": [
          -0.0014999999999999996,
          -0.0014999999999999996,
          -0.0015037014750472226,
          -0.0015148196350148824,
          -0.001533395940473541,
          -0.0015595003572415264,
          -0.001593232693869585,
          -0.0016347245578207945,
          -0.0016841420222643445,
          -0.0017416891346112469,
          -0.0018076124492074006,
          -0.0018822068358576383,
          -0.0019658229118998715,
          -0.0020588765819435882,
          -0.002161861367546451,
          -0.0022753645037413475,
          -0.002400088228318019,
          -0.0025368783926024256,
          -0.002686763656187802,
          -0.0028510104201370555,
          -0.0030312019371361663,
          -0.0032293560040271944,
          -0.01335233466327943,
          -0.013484437374540116,
          -0.013604565052539522,
          -0.013714062895172357,
          -0.013813986404229275,
          -0.013905179847085548,
          -0.013988328996803327,
          -0.014063997754266592,
          -0.014132654278001833,
          -0.014194690058030979,
          -0.0142504341087258,
          -0.014300163699825959,
          -0.014344112576223395,
          -0.014382477317787997,
          -0.014415422294083697,
          -0.014443083536717837,
          -0.014465571761136541,
          -0.014482974705648532,
          -0.014495358909287638,
          -0.014502771015932744,
          -0.014505238665964227,
          -0.014502771015932744,
          -0.014495358909287638,
          -0.014482974705648532,
          -0.014465571761136541,
          -0.014443083536717837,
          -0.014415422294083697,
          -0.014382477317787997,
          -0.014344112576223395,
          -0.014300163699825959,
          -0.0142504341087258,
          -0.014194690058030979,
          -0.014132654278001833,
          -0.014063997754266592,
          -0.013988328996803327,
          -0.013905179847085548,
          -0.013813986404229275,
          -0.013714062895172357,
          -0.013604565052539522,
          -0.013484437374540116,
          -0.01335233466327943,
          -0.0032293560040271944,
          -0.0030312019371361663,
          -0.0028510104201370555,
          -0.002686763656187802,
          -0.0025368783926024256,
          -0.002400088228318019,
          -0.0022753645037413475,
          -0.002161861367546451,
          -0.0020588765819435882,
          -0.0019658229118998715,
          -0.0018822068358576383,
          -0.0018076124492074006,
          -0.0017416891346112469,
          -0.0016841420222643445,
          -0.0016347245578207945,
          -0.001593232693869585,
          -0.0015595003572415264,
          -0.001533395940473541,
          -0.0015148196350148824,
          -0.0015037014750472226,
          -0.0014999999999999996,
          -0.0014999999999999996
         ],
         "type": "scatter"
        }
       ],
       "layout": {
        "height": 480,
        "template": {
         "data": {
          "barpolar": [
           {
            "marker": {
             "line": {
              "color": "white",
              "width": 0.5
             },
             "pattern": {
              "fillmode": "overlay",
              "size": 10,
              "solidity": 0.2
             }
            },
            "type": "barpolar"
           }
          ],
          "bar": [
           {
            "error_x": {
             "color": "rgb(36,36,36)"
            },
            "error_y": {
             "color": "rgb(36,36,36)"
            },
            "marker": {
             "line": {
              "color": "white",
              "width": 0.5
             },
             "pattern": {
              "fillmode": "overlay",
              "size": 10,
              "solidity": 0.2
             }
            },
            "type": "bar"
           }
          ],
          "carpet": [
           {
            "aaxis": {
             "endlinecolor": "rgb(36,36,36)",
             "gridcolor": "white",
             "linecolor": "white",
             "minorgridcolor": "white",
             "startlinecolor": "rgb(36,36,36)"
            },
            "baxis": {
             "endlinecolor": "rgb(36,36,36)",
             "gridcolor": "white",
             "linecolor": "white",
             "minorgridcolor": "white",
             "startlinecolor": "rgb(36,36,36)"
            },
            "type": "carpet"
           }
          ],
          "choropleth": [
           {
            "colorbar": {
             "outlinewidth": 1,
             "tickcolor": "rgb(36,36,36)",
             "ticks": "outside"
            },
            "type": "choropleth"
           }
          ],
          "contourcarpet": [
           {
            "colorbar": {
             "outlinewidth": 1,
             "tickcolor": "rgb(36,36,36)",
             "ticks": "outside"
            },
            "type": "contourcarpet"
           }
          ],
          "contour": [
           {
            "colorbar": {
             "outlinewidth": 1,
             "tickcolor": "rgb(36,36,36)",
             "ticks": "outside"
            },
            "colorscale": [
             [
              0.0,
              "#440154"
             ],
             [
              0.1111111111111111,
              "#482878"
             ],
             [
              0.2222222222222222,
              "#3e4989"
             ],
             [
              0.3333333333333333,
              "#31688e"
             ],
             [
              0.4444444444444444,
              "#26828e"
             ],
             [
              0.5555555555555556,
              "#1f9e89"
             ],
             [
              0.6666666666666666,
              "#35b779"
             ],
             [
              0.7777777777777778,
              "#6ece58"
             ],
             [
              0.8888888888888888,
              "#b5de2b"
             ],
             [
              1.0,
              "#fde725"
             ]
            ],
            "type": "contour"
           }
          ],
          "heatmapgl": [
           {
            "colorbar": {
             "outlinewidth": 1,
             "tickcolor": "rgb(36,36,36)",
             "ticks": "outside"
            },
            "colorscale": [
             [
              0.0,
              "#440154"
             ],
             [
              0.1111111111111111,
              "#482878"
             ],
             [
              0.2222222222222222,
              "#3e4989"
             ],
             [
              0.3333333333333333,
              "#31688e"
             ],
             [
              0.4444444444444444,
              "#26828e"
             ],
             [
              0.5555555555555556,
              "#1f9e89"
             ],
             [
              0.6666666666666666,
              "#35b779"
             ],
             [
              0.7777777777777778,
              "#6ece58"
             ],
             [
              0.8888888888888888,
              "#b5de2b"
             ],
             [
              1.0,
              "#fde725"
             ]
            ],
            "type": "heatmapgl"
           }
          ],
          "heatmap": [
           {
            "colorbar": {
             "outlinewidth": 1,
             "tickcolor": "rgb(36,36,36)",
             "ticks": "outside"
            },
            "colorscale": [
             [
              0.0,
              "#440154"
             ],
             [
              0.1111111111111111,
              "#482878"
             ],
             [
              0.2222222222222222,
              "#3e4989"
             ],
             [
              0.3333333333333333,
              "#31688e"
             ],
             [
              0.4444444444444444,
              "#26828e"
             ],
             [
              0.5555555555555556,
              "#1f9e89"
             ],
             [
              0.6666666666666666,
              "#35b779"
             ],
             [
              0.7777777777777778,
              "#6ece58"
             ],
             [
              0.8888888888888888,
              "#b5de2b"
             ],
             [
              1.0,
              "#fde725"
             ]
            ],
            "type": "heatmap"
           }
          ],
          "histogram2dcontour": [
           {
            "colorbar": {
             "outlinewidth": 1,
             "tickcolor": "rgb(36,36,36)",
             "ticks": "outside"
            },
            "colorscale": [
             [
              0.0,
              "#440154"
             ],
             [
              0.1111111111111111,
              "#482878"
             ],
             [
              0.2222222222222222,
              "#3e4989"
             ],
             [
              0.3333333333333333,
              "#31688e"
             ],
             [
              0.4444444444444444,
              "#26828e"
             ],
             [
              0.5555555555555556,
              "#1f9e89"
             ],
             [
              0.6666666666666666,
              "#35b779"
             ],
             [
              0.7777777777777778,
              "#6ece58"
             ],
             [
              0.8888888888888888,
              "#b5de2b"
             ],
             [
              1.0,
              "#fde725"
             ]
            ],
            "type": "histogram2dcontour"
           }
          ],
          "histogram2d": [
           {
            "colorbar": {
             "outlinewidth": 1,
             "tickcolor": "rgb(36,36,36)",
             "ticks": "outside"
            },
            "colorscale": [
             [
              0.0,
              "#440154"
             ],
             [
              0.1111111111111111,
              "#482878"
             ],
             [
              0.2222222222222222,
              "#3e4989"
             ],
             [
              0.3333333333333333,
              "#31688e"
             ],
             [
              0.4444444444444444,
              "#26828e"
             ],
             [
              0.5555555555555556,
              "#1f9e89"
             ],
             [
              0.6666666666666666,
              "#35b779"
             ],
             [
              0.7777777777777778,
              "#6ece58"
             ],
             [
              0.8888888888888888,
              "#b5de2b"
             ],
             [
              1.0,
              "#fde725"
             ]
            ],
            "type": "histogram2d"
           }
          ],
          "histogram": [
           {
            "marker": {
             "line": {
              "color": "white",
              "width": 0.6
             }
            },
            "type": "histogram"
           }
          ],
          "mesh3d": [
           {
            "colorbar": {
             "outlinewidth": 1,
             "tickcolor": "rgb(36,36,36)",
             "ticks": "outside"
            },
            "type": "mesh3d"
           }
          ],
          "parcoords": [
           {
            "line": {
             "colorbar": {
              "outlinewidth": 1,
              "tickcolor": "rgb(36,36,36)",
              "ticks": "outside"
             }
            },
            "type": "parcoords"
           }
          ],
          "pie": [
           {
            "automargin": true,
            "type": "pie"
           }
          ],
          "scatter3d": [
           {
            "line": {
             "colorbar": {
              "outlinewidth": 1,
              "tickcolor": "rgb(36,36,36)",
              "ticks": "outside"
             }
            },
            "marker": {
             "colorbar": {
              "outlinewidth": 1,
              "tickcolor": "rgb(36,36,36)",
              "ticks": "outside"
             }
            },
            "type": "scatter3d"
           }
          ],
          "scattercarpet": [
           {
            "marker": {
             "colorbar": {
              "outlinewidth": 1,
              "tickcolor": "rgb(36,36,36)",
              "ticks": "outside"
             }
            },
            "type": "scattercarpet"
           }
          ],
          "scattergeo": [
           {
            "marker": {
             "colorbar": {
              "outlinewidth": 1,
              "tickcolor": "rgb(36,36,36)",
              "ticks": "outside"
             }
            },
            "type": "scattergeo"
           }
          ],
          "scattergl": [
           {
            "marker": {
             "colorbar": {
              "outlinewidth": 1,
              "tickcolor": "rgb(36,36,36)",
              "ticks": "outside"
             }
            },
            "type": "scattergl"
           }
          ],
          "scattermapbox": [
           {
            "marker": {
             "colorbar": {
              "outlinewidth": 1,
              "tickcolor": "rgb(36,36,36)",
              "ticks": "outside"
             }
            },
            "type": "scattermapbox"
           }
          ],
          "scatterpolargl": [
           {
            "marker": {
             "colorbar": {
              "outlinewidth": 1,
              "tickcolor": "rgb(36,36,36)",
              "ticks": "outside"
             }
            },
            "type": "scatterpolargl"
           }
          ],
          "scatterpolar": [
           {
            "marker": {
             "colorbar": {
              "outlinewidth": 1,
              "tickcolor": "rgb(36,36,36)",
              "ticks": "outside"
             }
            },
            "type": "scatterpolar"
           }
          ],
          "scatter": [
           {
            "fillpattern": {
             "fillmode": "overlay",
             "size": 10,
             "solidity": 0.2
            },
            "type": "scatter"
           }
          ],
          "scatterternary": [
           {
            "marker": {
             "colorbar": {
              "outlinewidth": 1,
              "tickcolor": "rgb(36,36,36)",
              "ticks": "outside"
             }
            },
            "type": "scatterternary"
           }
          ],
          "surface": [
           {
            "colorbar": {
             "outlinewidth": 1,
             "tickcolor": "rgb(36,36,36)",
             "ticks": "outside"
            },
            "colorscale": [
             [
              0.0,
              "#440154"
             ],
             [
              0.1111111111111111,
              "#482878"
             ],
             [
              0.2222222222222222,
              "#3e4989"
             ],
             [
              0.3333333333333333,
              "#31688e"
             ],
             [
              0.4444444444444444,
              "#26828e"
             ],
             [
              0.5555555555555556,
              "#1f9e89"
             ],
             [
              0.6666666666666666,
              "#35b779"
             ],
             [
              0.7777777777777778,
              "#6ece58"
             ],
             [
              0.8888888888888888,
              "#b5de2b"
             ],
             [
              1.0,
              "#fde725"
             ]
            ],
            "type": "surface"
           }
          ],
          "table": [
           {
            "cells": {
             "fill": {
              "color": "rgb(237,237,237)"
             },
             "line": {
              "color": "white"
             }
            },
            "header": {
             "fill": {
              "color": "rgb(217,217,217)"
             },
             "line": {
              "color": "white"
             }
            },
            "type": "table"
           }
          ]
         },
         "layout": {
          "annotationdefaults": {
           "arrowhead": 0,
           "arrowwidth": 1
          },
          "autotypenumbers": "strict",
          "coloraxis": {
           "colorbar": {
            "outlinewidth": 1,
            "tickcolor": "rgb(36,36,36)",
            "ticks": "outside"
           }
          },
          "colorscale": {
           "diverging": [
            [
             0.0,
             "rgb(103,0,31)"
            ],
            [
             0.1,
             "rgb(178,24,43)"
            ],
            [
             0.2,
             "rgb(214,96,77)"
            ],
            [
             0.3,
             "rgb(244,165,130)"
            ],
            [
             0.4,
             "rgb(253,219,199)"
            ],
            [
             0.5,
             "rgb(247,247,247)"
            ],
            [
             0.6,
             "rgb(209,229,240)"
            ],
            [
             0.7,
             "rgb(146,197,222)"
            ],
            [
             0.8,
             "rgb(67,147,195)"
            ],
            [
             0.9,
             "rgb(33,102,172)"
            ],
            [
             1.0,
             "rgb(5,48,97)"
            ]
           ],
           "sequential": [
            [
             0.0,
             "#440154"
            ],
            [
             0.1111111111111111,
             "#482878"
            ],
            [
             0.2222222222222222,
             "#3e4989"
            ],
            [
             0.3333333333333333,
             "#31688e"
            ],
            [
             0.4444444444444444,
             "#26828e"
            ],
            [
             0.5555555555555556,
             "#1f9e89"
            ],
            [
             0.6666666666666666,
             "#35b779"
            ],
            [
             0.7777777777777778,
             "#6ece58"
            ],
            [
             0.8888888888888888,
             "#b5de2b"
            ],
            [
             1.0,
             "#fde725"
            ]
           ],
           "sequentialminus": [
            [
             0.0,
             "#440154"
            ],
            [
             0.1111111111111111,
             "#482878"
            ],
            [
             0.2222222222222222,
             "#3e4989"
            ],
            [
             0.3333333333333333,
             "#31688e"
            ],
            [
             0.4444444444444444,
             "#26828e"
            ],
            [
             0.5555555555555556,
             "#1f9e89"
            ],
            [
             0.6666666666666666,
             "#35b779"
            ],
            [
             0.7777777777777778,
             "#6ece58"
            ],
            [
             0.8888888888888888,
             "#b5de2b"
            ],
            [
             1.0,
             "#fde725"
            ]
           ]
          },
          "colorway": [
           "#1F77B4",
           "#FF7F0E",
           "#2CA02C",
           "#D62728",
           "#9467BD",
           "#8C564B",
           "#E377C2",
           "#7F7F7F",
           "#BCBD22",
           "#17BECF"
          ],
          "font": {
           "color": "rgb(36,36,36)"
          },
          "geo": {
           "bgcolor": "white",
           "lakecolor": "white",
           "landcolor": "white",
           "showlakes": true,
           "showland": true,
           "subunitcolor": "white"
          },
          "hoverlabel": {
           "align": "left"
          },
          "hovermode": "closest",
          "mapbox": {
           "style": "light"
          },
          "paper_bgcolor": "white",
          "plot_bgcolor": "white",
          "polar": {
           "angularaxis": {
            "gridcolor": "rgb(232,232,232)",
            "linecolor": "rgb(36,36,36)",
            "showgrid": false,
            "showline": true,
            "ticks": "outside"
           },
           "bgcolor": "white",
           "radialaxis": {
            "gridcolor": "rgb(232,232,232)",
            "linecolor": "rgb(36,36,36)",
            "showgrid": false,
            "showline": true,
            "ticks": "outside"
           }
          },
          "scene": {
           "xaxis": {
            "backgroundcolor": "white",
            "gridcolor": "rgb(232,232,232)",
            "gridwidth": 2,
            "linecolor": "rgb(36,36,36)",
            "showbackground": true,
            "showgrid": false,
            "showline": true,
            "ticks": "outside",
            "zeroline": false,
            "zerolinecolor": "rgb(36,36,36)"
           },
           "yaxis": {
            "backgroundcolor": "white",
            "gridcolor": "rgb(232,232,232)",
            "gridwidth": 2,
            "linecolor": "rgb(36,36,36)",
            "showbackground": true,
            "showgrid": false,
            "showline": true,
            "ticks": "outside",
            "zeroline": false,
            "zerolinecolor": "rgb(36,36,36)"
           },
           "zaxis": {
            "backgroundcolor": "white",
            "gridcolor": "rgb(232,232,232)",
            "gridwidth": 2,
            "linecolor": "rgb(36,36,36)",
            "showbackground": true,
            "showgrid": false,
            "showline": true,
            "ticks": "outside",
            "zeroline": false,
            "zerolinecolor": "rgb(36,36,36)"
           }
          },
          "shapedefaults": {
           "fillcolor": "black",
           "line": {
            "width": 0
           },
           "opacity": 0.3
          },
          "ternary": {
           "aaxis": {
            "gridcolor": "rgb(232,232,232)",
            "linecolor": "rgb(36,36,36)",
            "showgrid": false,
            "showline": true,
            "ticks": "outside"
           },
           "baxis": {
            "gridcolor": "rgb(232,232,232)",
            "linecolor": "rgb(36,36,36)",
            "showgrid": false,
            "showline": true,
            "ticks": "outside"
           },
           "bgcolor": "white",
           "caxis": {
            "gridcolor": "rgb(232,232,232)",
            "linecolor": "rgb(36,36,36)",
            "showgrid": false,
            "showline": true,
            "ticks": "outside"
           }
          },
          "title": {
           "x": 0.05
          },
          "xaxis": {
           "automargin": true,
           "gridcolor": "rgb(232,232,232)",
           "linecolor": "rgb(36,36,36)",
           "showgrid": false,
           "showline": true,
           "ticks": "outside",
           "title": {
            "standoff": 15
           },
           "zeroline": false,
           "zerolinecolor": "rgb(36,36,36)"
          },
          "yaxis": {
           "automargin": true,
           "gridcolor": "rgb(232,232,232)",
           "linecolor": "rgb(36,36,36)",
           "showgrid": false,
           "showline": true,
           "ticks": "outside",
           "title": {
            "standoff": 15
           },
           "zeroline": false,
           "zerolinecolor": "rgb(36,36,36)"
          }
         }
        },
        "title": {
         "text": "Roll Pass 'Quadrat VI'"
        },
        "width": 640,
        "xaxis": {
         "title": {
          "text": "z"
         }
        },
        "yaxis": {
         "scaleanchor": "x",
         "scaleratio": 1,
         "title": {
          "text": "y"
         }
        }
       },
       "config": {
        "plotlyServerURL": "https://plot.ly"
       }
      },
      "text/html": [
       "<div>                            <div id=\"4aa27207-b7d0-42e3-931e-399f19db4821\" class=\"plotly-graph-div\" style=\"height:480px; width:640px;\"></div>            <script type=\"text/javascript\">                require([\"plotly\"], function(Plotly) {                    window.PLOTLYENV=window.PLOTLYENV || {};                                    if (document.getElementById(\"4aa27207-b7d0-42e3-931e-399f19db4821\")) {                    Plotly.newPlot(                        \"4aa27207-b7d0-42e3-931e-399f19db4821\",                        [{\"fill\":\"toself\",\"line\":{\"color\":\"red\"},\"mode\":\"lines\",\"name\":\"in profile\",\"x\":[0.0038712587587523637,-0.0038712587587523637,-0.0043382689484630105,-0.004879058498292928,-0.00538058037579753,-0.00584425849043157,-0.006271348640490624,-0.006662958795113099,-0.007020065868873869,-0.0073435296567023,-0.007634104445599721,-0.007892448705769212,-0.008119133177008757,-0.008314647599301875,-0.008479406284286917,-0.008613752682945725,-0.008717963071668335,-0.00879224945176982,-0.008836761735000623,-0.008851589268396466,-0.008836761735000623,-0.00879224945176982,-0.008717963071668335,-0.008613752682945725,-0.008479406284286917,-0.008314647599301875,-0.008119133177008757,-0.007892448705769212,-0.007634104445599721,-0.0073435296567023,-0.007020065868873869,-0.006662958795113099,-0.006271348640490624,-0.00584425849043157,-0.00538058037579753,-0.004879058498292928,-0.0043382689484630105,-0.0038712587587523637,0.0038712587587523637,0.0043382689484630105,0.004879058498292928,0.00538058037579753,0.00584425849043157,0.006271348640490624,0.006662958795113099,0.007020065868873869,0.0073435296567023,0.007634104445599721,0.007892448705769212,0.008119133177008757,0.008314647599301875,0.008479406284286917,0.008613752682945725,0.008717963071668335,0.00879224945176982,0.008836761735000623,0.008851589268396466,0.008836761735000623,0.00879224945176982,0.008717963071668335,0.008613752682945725,0.008479406284286917,0.008314647599301875,0.008119133177008757,0.007892448705769212,0.007634104445599721,0.0073435296567023,0.007020065868873869,0.006662958795113099,0.006271348640490624,0.00584425849043157,0.00538058037579753,0.004879058498292928,0.0043382689484630105,0.0038712587587523637],\"y\":[-0.020449531793273645,-0.020449531793273645,-0.019527300073582967,-0.018378635363372205,-0.01722997065316144,-0.016081305942950676,-0.014932641232739914,-0.013783976522529152,-0.01263531181231839,-0.011486647102107627,-0.010337982391896863,-0.0091893176816861,-0.008040652971475338,-0.006891988261264574,-0.005743323551053812,-0.004594658840843049,-0.003445994130632287,-0.0022973294204215247,-0.0011486647102107624,0.0,0.0011486647102107624,0.0022973294204215247,0.003445994130632287,0.004594658840843049,0.005743323551053812,0.006891988261264574,0.008040652971475338,0.0091893176816861,0.010337982391896863,0.011486647102107627,0.01263531181231839,0.013783976522529152,0.014932641232739914,0.016081305942950676,0.01722997065316144,0.018378635363372205,0.019527300073582967,0.020449531793273645,0.020449531793273645,0.019527300073582967,0.018378635363372205,0.01722997065316144,0.016081305942950676,0.014932641232739914,0.013783976522529152,0.01263531181231839,0.011486647102107627,0.010337982391896863,0.0091893176816861,0.008040652971475338,0.006891988261264574,0.005743323551053812,0.004594658840843049,0.003445994130632287,0.0022973294204215247,0.0011486647102107624,0.0,-0.0011486647102107624,-0.0022973294204215247,-0.003445994130632287,-0.004594658840843049,-0.005743323551053812,-0.006891988261264574,-0.008040652971475338,-0.0091893176816861,-0.010337982391896863,-0.011486647102107627,-0.01263531181231839,-0.013783976522529152,-0.014932641232739914,-0.016081305942950676,-0.01722997065316144,-0.018378635363372205,-0.019527300073582967,-0.020449531793273645],\"type\":\"scatter\"},{\"line\":{\"color\":\"red\",\"dash\":\"dash\"},\"mode\":\"lines\",\"name\":\"in eq. rectangle\",\"x\":[-0.008851589268396466,0.008851589268396466,0.008851589268396466,-0.008851589268396466,-0.008851589268396466],\"y\":[-0.017746088599185507,-0.017746088599185507,0.017746088599185507,0.017746088599185507,-0.017746088599185507],\"type\":\"scatter\"},{\"fill\":\"toself\",\"line\":{\"color\":\"blue\"},\"mode\":\"lines\",\"name\":\"out profile\",\"x\":[-0.011470176742994255,-0.011470176742994255,-0.0028096342078768456,-0.0026691524974830033,-0.002528670787089161,-0.0023881890766953187,-0.0022477073663014764,-0.002107225655907634,-0.0019667439455137922,-0.0018262622351199497,-0.0016857805247261074,-0.001545298814332265,-0.0014048171039384228,-0.0012643353935445805,-0.0011238536831507384,-0.0009833719727568961,-0.0008428902623630538,-0.0007024085519692115,-0.0005619268415753692,-0.0004214451311815269,-0.0002809634207876846,-0.0001404817103938423,0.0,0.0001404817103938423,0.0002809634207876846,0.0004214451311815269,0.0005619268415753692,0.0007024085519692115,0.0008428902623630538,0.0009833719727568961,0.0011238536831507384,0.0012643353935445805,0.0014048171039384228,0.001545298814332265,0.0016857805247261074,0.0018262622351199497,0.0019667439455137922,0.002107225655907634,0.0022477073663014764,0.0023881890766953187,0.002528670787089161,0.0026691524974830033,0.0028096342078768456,0.011470176742994255,0.011470176742994255,0.0028096342078768456,0.0026691524974830033,0.002528670787089161,0.0023881890766953187,0.0022477073663014764,0.002107225655907634,0.0019667439455137922,0.0018262622351199497,0.0016857805247261074,0.001545298814332265,0.0014048171039384228,0.0012643353935445805,0.0011238536831507384,0.0009833719727568961,0.0008428902623630538,0.0007024085519692115,0.0005619268415753692,0.0004214451311815269,0.0002809634207876846,0.0001404817103938423,0.0,-0.0001404817103938423,-0.0002809634207876846,-0.0004214451311815269,-0.0005619268415753692,-0.0007024085519692115,-0.0008428902623630538,-0.0009833719727568961,-0.0011238536831507384,-0.0012643353935445805,-0.0014048171039384228,-0.001545298814332265,-0.0016857805247261074,-0.0018262622351199497,-0.0019667439455137922,-0.002107225655907634,-0.0022477073663014764,-0.0023881890766953187,-0.002528670787089161,-0.0026691524974830033,-0.0028096342078768456,-0.011470176742994255],\"y\":[-0.0048057466352030365,0.0048057466352030365,0.01335233466327943,0.013484437374540116,0.013604565052539522,0.013714062895172357,0.013813986404229275,0.013905179847085548,0.013988328996803327,0.014063997754266592,0.014132654278001833,0.014194690058030979,0.0142504341087258,0.014300163699825959,0.014344112576223395,0.014382477317787997,0.014415422294083697,0.014443083536717837,0.014465571761136541,0.014482974705648532,0.014495358909287638,0.014502771015932744,0.014505238665964227,0.014502771015932744,0.014495358909287638,0.014482974705648532,0.014465571761136541,0.014443083536717837,0.014415422294083697,0.014382477317787997,0.014344112576223395,0.014300163699825959,0.0142504341087258,0.014194690058030979,0.014132654278001833,0.014063997754266592,0.013988328996803327,0.013905179847085548,0.013813986404229275,0.013714062895172357,0.013604565052539522,0.013484437374540116,0.01335233466327943,0.0048057466352030365,-0.0048057466352030365,-0.01335233466327943,-0.013484437374540116,-0.013604565052539522,-0.013714062895172357,-0.013813986404229275,-0.013905179847085548,-0.013988328996803327,-0.014063997754266592,-0.014132654278001833,-0.014194690058030979,-0.0142504341087258,-0.014300163699825959,-0.014344112576223395,-0.014382477317787997,-0.014415422294083697,-0.014443083536717837,-0.014465571761136541,-0.014482974705648532,-0.014495358909287638,-0.014502771015932744,-0.014505238665964227,-0.014502771015932744,-0.014495358909287638,-0.014482974705648532,-0.014465571761136541,-0.014443083536717837,-0.014415422294083697,-0.014382477317787997,-0.014344112576223395,-0.014300163699825959,-0.0142504341087258,-0.014194690058030979,-0.014132654278001833,-0.014063997754266592,-0.013988328996803327,-0.013905179847085548,-0.013813986404229275,-0.013714062895172357,-0.013604565052539522,-0.013484437374540116,-0.01335233466327943,-0.0048057466352030365],\"type\":\"scatter\"},{\"line\":{\"color\":\"blue\",\"dash\":\"dash\"},\"mode\":\"lines\",\"name\":\"out eq. rectangle\",\"x\":[-0.011470176742994255,0.011470176742994255,0.011470176742994255,-0.011470176742994255,-0.011470176742994255],\"y\":[-0.011921900270731431,-0.011921900270731431,0.011921900270731431,0.011921900270731431,-0.011921900270731431],\"type\":\"scatter\"},{\"line\":{\"color\":\"black\"},\"mode\":\"lines\",\"name\":\"roll surface\",\"showlegend\":true,\"x\":[-0.023210037227734376,-0.017282037227734377,-0.017071314662143615,-0.01686059209655285,-0.016649869530962084,-0.016439146965371323,-0.01622842439978056,-0.016017701834189796,-0.01580697926859903,-0.015596256703008269,-0.015385534137417506,-0.015174811571826742,-0.014964089006235979,-0.014753366440645215,-0.014542643875054452,-0.014331921309463688,-0.014121198743872925,-0.013910476178282161,-0.013699753612691398,-0.013489031047100634,-0.013278308481509871,-0.013067585915919108,-0.0028096342078768456,-0.0026691524974830033,-0.002528670787089161,-0.0023881890766953187,-0.0022477073663014764,-0.002107225655907634,-0.0019667439455137922,-0.0018262622351199497,-0.0016857805247261074,-0.001545298814332265,-0.0014048171039384228,-0.0012643353935445805,-0.0011238536831507384,-0.0009833719727568961,-0.0008428902623630538,-0.0007024085519692115,-0.0005619268415753692,-0.0004214451311815269,-0.0002809634207876846,-0.0001404817103938423,0.0,0.0001404817103938423,0.0002809634207876846,0.0004214451311815269,0.0005619268415753692,0.0007024085519692115,0.0008428902623630538,0.0009833719727568961,0.0011238536831507384,0.0012643353935445805,0.0014048171039384228,0.001545298814332265,0.0016857805247261074,0.0018262622351199497,0.0019667439455137922,0.002107225655907634,0.0022477073663014764,0.0023881890766953187,0.002528670787089161,0.0026691524974830033,0.0028096342078768456,0.013067585915919108,0.013278308481509871,0.013489031047100634,0.013699753612691398,0.013910476178282161,0.014121198743872925,0.014331921309463688,0.014542643875054452,0.014753366440645215,0.014964089006235979,0.015174811571826742,0.015385534137417506,0.015596256703008269,0.01580697926859903,0.016017701834189796,0.01622842439978056,0.016439146965371323,0.016649869530962084,0.01686059209655285,0.017071314662143615,0.017282037227734377,0.023210037227734376],\"y\":[0.0014999999999999996,0.0014999999999999996,0.0015037014750472226,0.0015148196350148824,0.001533395940473541,0.0015595003572415264,0.001593232693869585,0.0016347245578207945,0.0016841420222643445,0.0017416891346112469,0.0018076124492074006,0.0018822068358576383,0.0019658229118998715,0.0020588765819435882,0.002161861367546451,0.0022753645037413475,0.002400088228318019,0.0025368783926024256,0.002686763656187802,0.0028510104201370555,0.0030312019371361663,0.0032293560040271944,0.01335233466327943,0.013484437374540116,0.013604565052539522,0.013714062895172357,0.013813986404229275,0.013905179847085548,0.013988328996803327,0.014063997754266592,0.014132654278001833,0.014194690058030979,0.0142504341087258,0.014300163699825959,0.014344112576223395,0.014382477317787997,0.014415422294083697,0.014443083536717837,0.014465571761136541,0.014482974705648532,0.014495358909287638,0.014502771015932744,0.014505238665964227,0.014502771015932744,0.014495358909287638,0.014482974705648532,0.014465571761136541,0.014443083536717837,0.014415422294083697,0.014382477317787997,0.014344112576223395,0.014300163699825959,0.0142504341087258,0.014194690058030979,0.014132654278001833,0.014063997754266592,0.013988328996803327,0.013905179847085548,0.013813986404229275,0.013714062895172357,0.013604565052539522,0.013484437374540116,0.01335233466327943,0.0032293560040271944,0.0030312019371361663,0.0028510104201370555,0.002686763656187802,0.0025368783926024256,0.002400088228318019,0.0022753645037413475,0.002161861367546451,0.0020588765819435882,0.0019658229118998715,0.0018822068358576383,0.0018076124492074006,0.0017416891346112469,0.0016841420222643445,0.0016347245578207945,0.001593232693869585,0.0015595003572415264,0.001533395940473541,0.0015148196350148824,0.0015037014750472226,0.0014999999999999996,0.0014999999999999996],\"type\":\"scatter\"},{\"line\":{\"color\":\"black\"},\"mode\":\"lines\",\"name\":\"roll surface\",\"showlegend\":false,\"x\":[0.023210037227734376,0.017282037227734377,0.017071314662143615,0.01686059209655285,0.016649869530962084,0.016439146965371323,0.01622842439978056,0.016017701834189796,0.01580697926859903,0.015596256703008269,0.015385534137417506,0.015174811571826742,0.014964089006235979,0.014753366440645215,0.014542643875054452,0.014331921309463688,0.014121198743872925,0.013910476178282161,0.013699753612691398,0.013489031047100634,0.013278308481509871,0.013067585915919108,0.0028096342078768456,0.0026691524974830033,0.002528670787089161,0.0023881890766953187,0.0022477073663014764,0.002107225655907634,0.0019667439455137922,0.0018262622351199497,0.0016857805247261074,0.001545298814332265,0.0014048171039384228,0.0012643353935445805,0.0011238536831507384,0.0009833719727568961,0.0008428902623630538,0.0007024085519692115,0.0005619268415753692,0.0004214451311815269,0.0002809634207876846,0.0001404817103938423,0.0,-0.0001404817103938423,-0.0002809634207876846,-0.0004214451311815269,-0.0005619268415753692,-0.0007024085519692115,-0.0008428902623630538,-0.0009833719727568961,-0.0011238536831507384,-0.0012643353935445805,-0.0014048171039384228,-0.001545298814332265,-0.0016857805247261074,-0.0018262622351199497,-0.0019667439455137922,-0.002107225655907634,-0.0022477073663014764,-0.0023881890766953187,-0.002528670787089161,-0.0026691524974830033,-0.0028096342078768456,-0.013067585915919108,-0.013278308481509871,-0.013489031047100634,-0.013699753612691398,-0.013910476178282161,-0.014121198743872925,-0.014331921309463688,-0.014542643875054452,-0.014753366440645215,-0.014964089006235979,-0.015174811571826742,-0.015385534137417506,-0.015596256703008269,-0.01580697926859903,-0.016017701834189796,-0.01622842439978056,-0.016439146965371323,-0.016649869530962084,-0.01686059209655285,-0.017071314662143615,-0.017282037227734377,-0.023210037227734376],\"y\":[-0.0014999999999999996,-0.0014999999999999996,-0.0015037014750472226,-0.0015148196350148824,-0.001533395940473541,-0.0015595003572415264,-0.001593232693869585,-0.0016347245578207945,-0.0016841420222643445,-0.0017416891346112469,-0.0018076124492074006,-0.0018822068358576383,-0.0019658229118998715,-0.0020588765819435882,-0.002161861367546451,-0.0022753645037413475,-0.002400088228318019,-0.0025368783926024256,-0.002686763656187802,-0.0028510104201370555,-0.0030312019371361663,-0.0032293560040271944,-0.01335233466327943,-0.013484437374540116,-0.013604565052539522,-0.013714062895172357,-0.013813986404229275,-0.013905179847085548,-0.013988328996803327,-0.014063997754266592,-0.014132654278001833,-0.014194690058030979,-0.0142504341087258,-0.014300163699825959,-0.014344112576223395,-0.014382477317787997,-0.014415422294083697,-0.014443083536717837,-0.014465571761136541,-0.014482974705648532,-0.014495358909287638,-0.014502771015932744,-0.014505238665964227,-0.014502771015932744,-0.014495358909287638,-0.014482974705648532,-0.014465571761136541,-0.014443083536717837,-0.014415422294083697,-0.014382477317787997,-0.014344112576223395,-0.014300163699825959,-0.0142504341087258,-0.014194690058030979,-0.014132654278001833,-0.014063997754266592,-0.013988328996803327,-0.013905179847085548,-0.013813986404229275,-0.013714062895172357,-0.013604565052539522,-0.013484437374540116,-0.01335233466327943,-0.0032293560040271944,-0.0030312019371361663,-0.0028510104201370555,-0.002686763656187802,-0.0025368783926024256,-0.002400088228318019,-0.0022753645037413475,-0.002161861367546451,-0.0020588765819435882,-0.0019658229118998715,-0.0018822068358576383,-0.0018076124492074006,-0.0017416891346112469,-0.0016841420222643445,-0.0016347245578207945,-0.001593232693869585,-0.0015595003572415264,-0.001533395940473541,-0.0015148196350148824,-0.0015037014750472226,-0.0014999999999999996,-0.0014999999999999996],\"type\":\"scatter\"}],                        {\"height\":480,\"template\":{\"data\":{\"barpolar\":[{\"marker\":{\"line\":{\"color\":\"white\",\"width\":0.5},\"pattern\":{\"fillmode\":\"overlay\",\"size\":10,\"solidity\":0.2}},\"type\":\"barpolar\"}],\"bar\":[{\"error_x\":{\"color\":\"rgb(36,36,36)\"},\"error_y\":{\"color\":\"rgb(36,36,36)\"},\"marker\":{\"line\":{\"color\":\"white\",\"width\":0.5},\"pattern\":{\"fillmode\":\"overlay\",\"size\":10,\"solidity\":0.2}},\"type\":\"bar\"}],\"carpet\":[{\"aaxis\":{\"endlinecolor\":\"rgb(36,36,36)\",\"gridcolor\":\"white\",\"linecolor\":\"white\",\"minorgridcolor\":\"white\",\"startlinecolor\":\"rgb(36,36,36)\"},\"baxis\":{\"endlinecolor\":\"rgb(36,36,36)\",\"gridcolor\":\"white\",\"linecolor\":\"white\",\"minorgridcolor\":\"white\",\"startlinecolor\":\"rgb(36,36,36)\"},\"type\":\"carpet\"}],\"choropleth\":[{\"colorbar\":{\"outlinewidth\":1,\"tickcolor\":\"rgb(36,36,36)\",\"ticks\":\"outside\"},\"type\":\"choropleth\"}],\"contourcarpet\":[{\"colorbar\":{\"outlinewidth\":1,\"tickcolor\":\"rgb(36,36,36)\",\"ticks\":\"outside\"},\"type\":\"contourcarpet\"}],\"contour\":[{\"colorbar\":{\"outlinewidth\":1,\"tickcolor\":\"rgb(36,36,36)\",\"ticks\":\"outside\"},\"colorscale\":[[0.0,\"#440154\"],[0.1111111111111111,\"#482878\"],[0.2222222222222222,\"#3e4989\"],[0.3333333333333333,\"#31688e\"],[0.4444444444444444,\"#26828e\"],[0.5555555555555556,\"#1f9e89\"],[0.6666666666666666,\"#35b779\"],[0.7777777777777778,\"#6ece58\"],[0.8888888888888888,\"#b5de2b\"],[1.0,\"#fde725\"]],\"type\":\"contour\"}],\"heatmapgl\":[{\"colorbar\":{\"outlinewidth\":1,\"tickcolor\":\"rgb(36,36,36)\",\"ticks\":\"outside\"},\"colorscale\":[[0.0,\"#440154\"],[0.1111111111111111,\"#482878\"],[0.2222222222222222,\"#3e4989\"],[0.3333333333333333,\"#31688e\"],[0.4444444444444444,\"#26828e\"],[0.5555555555555556,\"#1f9e89\"],[0.6666666666666666,\"#35b779\"],[0.7777777777777778,\"#6ece58\"],[0.8888888888888888,\"#b5de2b\"],[1.0,\"#fde725\"]],\"type\":\"heatmapgl\"}],\"heatmap\":[{\"colorbar\":{\"outlinewidth\":1,\"tickcolor\":\"rgb(36,36,36)\",\"ticks\":\"outside\"},\"colorscale\":[[0.0,\"#440154\"],[0.1111111111111111,\"#482878\"],[0.2222222222222222,\"#3e4989\"],[0.3333333333333333,\"#31688e\"],[0.4444444444444444,\"#26828e\"],[0.5555555555555556,\"#1f9e89\"],[0.6666666666666666,\"#35b779\"],[0.7777777777777778,\"#6ece58\"],[0.8888888888888888,\"#b5de2b\"],[1.0,\"#fde725\"]],\"type\":\"heatmap\"}],\"histogram2dcontour\":[{\"colorbar\":{\"outlinewidth\":1,\"tickcolor\":\"rgb(36,36,36)\",\"ticks\":\"outside\"},\"colorscale\":[[0.0,\"#440154\"],[0.1111111111111111,\"#482878\"],[0.2222222222222222,\"#3e4989\"],[0.3333333333333333,\"#31688e\"],[0.4444444444444444,\"#26828e\"],[0.5555555555555556,\"#1f9e89\"],[0.6666666666666666,\"#35b779\"],[0.7777777777777778,\"#6ece58\"],[0.8888888888888888,\"#b5de2b\"],[1.0,\"#fde725\"]],\"type\":\"histogram2dcontour\"}],\"histogram2d\":[{\"colorbar\":{\"outlinewidth\":1,\"tickcolor\":\"rgb(36,36,36)\",\"ticks\":\"outside\"},\"colorscale\":[[0.0,\"#440154\"],[0.1111111111111111,\"#482878\"],[0.2222222222222222,\"#3e4989\"],[0.3333333333333333,\"#31688e\"],[0.4444444444444444,\"#26828e\"],[0.5555555555555556,\"#1f9e89\"],[0.6666666666666666,\"#35b779\"],[0.7777777777777778,\"#6ece58\"],[0.8888888888888888,\"#b5de2b\"],[1.0,\"#fde725\"]],\"type\":\"histogram2d\"}],\"histogram\":[{\"marker\":{\"line\":{\"color\":\"white\",\"width\":0.6}},\"type\":\"histogram\"}],\"mesh3d\":[{\"colorbar\":{\"outlinewidth\":1,\"tickcolor\":\"rgb(36,36,36)\",\"ticks\":\"outside\"},\"type\":\"mesh3d\"}],\"parcoords\":[{\"line\":{\"colorbar\":{\"outlinewidth\":1,\"tickcolor\":\"rgb(36,36,36)\",\"ticks\":\"outside\"}},\"type\":\"parcoords\"}],\"pie\":[{\"automargin\":true,\"type\":\"pie\"}],\"scatter3d\":[{\"line\":{\"colorbar\":{\"outlinewidth\":1,\"tickcolor\":\"rgb(36,36,36)\",\"ticks\":\"outside\"}},\"marker\":{\"colorbar\":{\"outlinewidth\":1,\"tickcolor\":\"rgb(36,36,36)\",\"ticks\":\"outside\"}},\"type\":\"scatter3d\"}],\"scattercarpet\":[{\"marker\":{\"colorbar\":{\"outlinewidth\":1,\"tickcolor\":\"rgb(36,36,36)\",\"ticks\":\"outside\"}},\"type\":\"scattercarpet\"}],\"scattergeo\":[{\"marker\":{\"colorbar\":{\"outlinewidth\":1,\"tickcolor\":\"rgb(36,36,36)\",\"ticks\":\"outside\"}},\"type\":\"scattergeo\"}],\"scattergl\":[{\"marker\":{\"colorbar\":{\"outlinewidth\":1,\"tickcolor\":\"rgb(36,36,36)\",\"ticks\":\"outside\"}},\"type\":\"scattergl\"}],\"scattermapbox\":[{\"marker\":{\"colorbar\":{\"outlinewidth\":1,\"tickcolor\":\"rgb(36,36,36)\",\"ticks\":\"outside\"}},\"type\":\"scattermapbox\"}],\"scatterpolargl\":[{\"marker\":{\"colorbar\":{\"outlinewidth\":1,\"tickcolor\":\"rgb(36,36,36)\",\"ticks\":\"outside\"}},\"type\":\"scatterpolargl\"}],\"scatterpolar\":[{\"marker\":{\"colorbar\":{\"outlinewidth\":1,\"tickcolor\":\"rgb(36,36,36)\",\"ticks\":\"outside\"}},\"type\":\"scatterpolar\"}],\"scatter\":[{\"fillpattern\":{\"fillmode\":\"overlay\",\"size\":10,\"solidity\":0.2},\"type\":\"scatter\"}],\"scatterternary\":[{\"marker\":{\"colorbar\":{\"outlinewidth\":1,\"tickcolor\":\"rgb(36,36,36)\",\"ticks\":\"outside\"}},\"type\":\"scatterternary\"}],\"surface\":[{\"colorbar\":{\"outlinewidth\":1,\"tickcolor\":\"rgb(36,36,36)\",\"ticks\":\"outside\"},\"colorscale\":[[0.0,\"#440154\"],[0.1111111111111111,\"#482878\"],[0.2222222222222222,\"#3e4989\"],[0.3333333333333333,\"#31688e\"],[0.4444444444444444,\"#26828e\"],[0.5555555555555556,\"#1f9e89\"],[0.6666666666666666,\"#35b779\"],[0.7777777777777778,\"#6ece58\"],[0.8888888888888888,\"#b5de2b\"],[1.0,\"#fde725\"]],\"type\":\"surface\"}],\"table\":[{\"cells\":{\"fill\":{\"color\":\"rgb(237,237,237)\"},\"line\":{\"color\":\"white\"}},\"header\":{\"fill\":{\"color\":\"rgb(217,217,217)\"},\"line\":{\"color\":\"white\"}},\"type\":\"table\"}]},\"layout\":{\"annotationdefaults\":{\"arrowhead\":0,\"arrowwidth\":1},\"autotypenumbers\":\"strict\",\"coloraxis\":{\"colorbar\":{\"outlinewidth\":1,\"tickcolor\":\"rgb(36,36,36)\",\"ticks\":\"outside\"}},\"colorscale\":{\"diverging\":[[0.0,\"rgb(103,0,31)\"],[0.1,\"rgb(178,24,43)\"],[0.2,\"rgb(214,96,77)\"],[0.3,\"rgb(244,165,130)\"],[0.4,\"rgb(253,219,199)\"],[0.5,\"rgb(247,247,247)\"],[0.6,\"rgb(209,229,240)\"],[0.7,\"rgb(146,197,222)\"],[0.8,\"rgb(67,147,195)\"],[0.9,\"rgb(33,102,172)\"],[1.0,\"rgb(5,48,97)\"]],\"sequential\":[[0.0,\"#440154\"],[0.1111111111111111,\"#482878\"],[0.2222222222222222,\"#3e4989\"],[0.3333333333333333,\"#31688e\"],[0.4444444444444444,\"#26828e\"],[0.5555555555555556,\"#1f9e89\"],[0.6666666666666666,\"#35b779\"],[0.7777777777777778,\"#6ece58\"],[0.8888888888888888,\"#b5de2b\"],[1.0,\"#fde725\"]],\"sequentialminus\":[[0.0,\"#440154\"],[0.1111111111111111,\"#482878\"],[0.2222222222222222,\"#3e4989\"],[0.3333333333333333,\"#31688e\"],[0.4444444444444444,\"#26828e\"],[0.5555555555555556,\"#1f9e89\"],[0.6666666666666666,\"#35b779\"],[0.7777777777777778,\"#6ece58\"],[0.8888888888888888,\"#b5de2b\"],[1.0,\"#fde725\"]]},\"colorway\":[\"#1F77B4\",\"#FF7F0E\",\"#2CA02C\",\"#D62728\",\"#9467BD\",\"#8C564B\",\"#E377C2\",\"#7F7F7F\",\"#BCBD22\",\"#17BECF\"],\"font\":{\"color\":\"rgb(36,36,36)\"},\"geo\":{\"bgcolor\":\"white\",\"lakecolor\":\"white\",\"landcolor\":\"white\",\"showlakes\":true,\"showland\":true,\"subunitcolor\":\"white\"},\"hoverlabel\":{\"align\":\"left\"},\"hovermode\":\"closest\",\"mapbox\":{\"style\":\"light\"},\"paper_bgcolor\":\"white\",\"plot_bgcolor\":\"white\",\"polar\":{\"angularaxis\":{\"gridcolor\":\"rgb(232,232,232)\",\"linecolor\":\"rgb(36,36,36)\",\"showgrid\":false,\"showline\":true,\"ticks\":\"outside\"},\"bgcolor\":\"white\",\"radialaxis\":{\"gridcolor\":\"rgb(232,232,232)\",\"linecolor\":\"rgb(36,36,36)\",\"showgrid\":false,\"showline\":true,\"ticks\":\"outside\"}},\"scene\":{\"xaxis\":{\"backgroundcolor\":\"white\",\"gridcolor\":\"rgb(232,232,232)\",\"gridwidth\":2,\"linecolor\":\"rgb(36,36,36)\",\"showbackground\":true,\"showgrid\":false,\"showline\":true,\"ticks\":\"outside\",\"zeroline\":false,\"zerolinecolor\":\"rgb(36,36,36)\"},\"yaxis\":{\"backgroundcolor\":\"white\",\"gridcolor\":\"rgb(232,232,232)\",\"gridwidth\":2,\"linecolor\":\"rgb(36,36,36)\",\"showbackground\":true,\"showgrid\":false,\"showline\":true,\"ticks\":\"outside\",\"zeroline\":false,\"zerolinecolor\":\"rgb(36,36,36)\"},\"zaxis\":{\"backgroundcolor\":\"white\",\"gridcolor\":\"rgb(232,232,232)\",\"gridwidth\":2,\"linecolor\":\"rgb(36,36,36)\",\"showbackground\":true,\"showgrid\":false,\"showline\":true,\"ticks\":\"outside\",\"zeroline\":false,\"zerolinecolor\":\"rgb(36,36,36)\"}},\"shapedefaults\":{\"fillcolor\":\"black\",\"line\":{\"width\":0},\"opacity\":0.3},\"ternary\":{\"aaxis\":{\"gridcolor\":\"rgb(232,232,232)\",\"linecolor\":\"rgb(36,36,36)\",\"showgrid\":false,\"showline\":true,\"ticks\":\"outside\"},\"baxis\":{\"gridcolor\":\"rgb(232,232,232)\",\"linecolor\":\"rgb(36,36,36)\",\"showgrid\":false,\"showline\":true,\"ticks\":\"outside\"},\"bgcolor\":\"white\",\"caxis\":{\"gridcolor\":\"rgb(232,232,232)\",\"linecolor\":\"rgb(36,36,36)\",\"showgrid\":false,\"showline\":true,\"ticks\":\"outside\"}},\"title\":{\"x\":0.05},\"xaxis\":{\"automargin\":true,\"gridcolor\":\"rgb(232,232,232)\",\"linecolor\":\"rgb(36,36,36)\",\"showgrid\":false,\"showline\":true,\"ticks\":\"outside\",\"title\":{\"standoff\":15},\"zeroline\":false,\"zerolinecolor\":\"rgb(36,36,36)\"},\"yaxis\":{\"automargin\":true,\"gridcolor\":\"rgb(232,232,232)\",\"linecolor\":\"rgb(36,36,36)\",\"showgrid\":false,\"showline\":true,\"ticks\":\"outside\",\"title\":{\"standoff\":15},\"zeroline\":false,\"zerolinecolor\":\"rgb(36,36,36)\"}}},\"title\":{\"text\":\"Roll Pass 'Quadrat VI'\"},\"width\":640,\"xaxis\":{\"title\":{\"text\":\"z\"}},\"yaxis\":{\"scaleanchor\":\"x\",\"scaleratio\":1,\"title\":{\"text\":\"y\"}}},                        {\"responsive\": true}                    ).then(function(){\n",
       "                            \n",
       "var gd = document.getElementById('4aa27207-b7d0-42e3-931e-399f19db4821');\n",
       "var x = new MutationObserver(function (mutations, observer) {{\n",
       "        var display = window.getComputedStyle(gd).display;\n",
       "        if (!display || display === 'none') {{\n",
       "            console.log([gd, 'removed!']);\n",
       "            Plotly.purge(gd);\n",
       "            observer.disconnect();\n",
       "        }}\n",
       "}});\n",
       "\n",
       "// Listen for the removal of the full notebook cells\n",
       "var notebookContainer = gd.closest('#notebook-container');\n",
       "if (notebookContainer) {{\n",
       "    x.observe(notebookContainer, {childList: true});\n",
       "}}\n",
       "\n",
       "// Listen for the clearing of the current output cell\n",
       "var outputEl = gd.closest('.output');\n",
       "if (outputEl) {{\n",
       "    x.observe(outputEl, {childList: true});\n",
       "}}\n",
       "\n",
       "                        })                };                });            </script>        </div>"
      ]
     },
     "metadata": {},
     "output_type": "display_data"
    }
   ],
   "execution_count": 51
  },
  {
   "metadata": {},
   "cell_type": "markdown",
   "source": [
    "### Auswertung\n",
    "\n",
    "Nachfolgend sind nun noch einige hilfreiche funktionen oder Beispiele aus vorigen Praktika gegeben. Weitere Auswertungsmöglichkeiten werden im Praktikum besprochen."
   ],
   "id": "8ef71fbcdf2c97"
  },
  {
   "cell_type": "code",
   "id": "c51a11a07a289d48",
   "metadata": {
    "ExecuteTime": {
     "end_time": "2025-01-14T12:45:24.142565Z",
     "start_time": "2025-01-14T12:45:24.117821Z"
    }
   },
   "source": "sequence[-1].plot()",
   "outputs": [
    {
     "data": {
      "application/vnd.plotly.v1+json": {
       "data": [
        {
         "fill": "toself",
         "line": {
          "color": "red"
         },
         "mode": "lines",
         "name": "in profile",
         "x": [
          0.0010386296983040633,
          -0.0010386296983040633,
          -0.0011573596027388332,
          -0.001304900192284478,
          -0.0014422198478131478,
          -0.001569692359489854,
          -0.0016876485585959908,
          -0.001796381493672306,
          -0.001896150726592272,
          -0.00198718591509167,
          -0.0020696898110351466,
          -0.0021438407755935956,
          -0.002209794891047943,
          -0.0022676877323661877,
          -0.002317635848760751,
          -0.0023597379952084805,
          -0.00239407614573392,
          -0.0024207163136176005,
          -0.002439709198216962,
          -0.0024510906734879507,
          -0.0024548821293424914,
          -0.0024510906734879507,
          -0.002439709198216962,
          -0.0024207163136176005,
          -0.00239407614573392,
          -0.0023597379952084805,
          -0.002317635848760751,
          -0.0022676877323661877,
          -0.002209794891047943,
          -0.0021438407755935956,
          -0.0020696898110351466,
          -0.00198718591509167,
          -0.001896150726592272,
          -0.001796381493672306,
          -0.0016876485585959908,
          -0.001569692359489854,
          -0.0014422198478131478,
          -0.001304900192284478,
          -0.0011573596027388332,
          -0.0010386296983040633,
          0.0010386296983040633,
          0.0011573596027388332,
          0.001304900192284478,
          0.0014422198478131478,
          0.001569692359489854,
          0.0016876485585959908,
          0.001796381493672306,
          0.001896150726592272,
          0.00198718591509167,
          0.0020696898110351466,
          0.0021438407755935956,
          0.002209794891047943,
          0.0022676877323661877,
          0.002317635848760751,
          0.0023597379952084805,
          0.00239407614573392,
          0.0024207163136176005,
          0.002439709198216962,
          0.0024510906734879507,
          0.0024548821293424914,
          0.0024510906734879507,
          0.002439709198216962,
          0.0024207163136176005,
          0.00239407614573392,
          0.0023597379952084805,
          0.002317635848760751,
          0.0022676877323661877,
          0.002209794891047943,
          0.0021438407755935956,
          0.0020696898110351466,
          0.00198718591509167,
          0.001896150726592272,
          0.001796381493672306,
          0.0016876485585959908,
          0.001569692359489854,
          0.0014422198478131478,
          0.001304900192284478,
          0.0011573596027388332,
          0.0010386296983040633
         ],
         "y": [
          -0.005690978231065288,
          -0.005690978231065288,
          -0.005463170571145018,
          -0.005159661094970295,
          -0.004856151618795572,
          -0.004552642142620848,
          -0.004249132666446126,
          -0.0039456231902714025,
          -0.003642113714096679,
          -0.003338604237921956,
          -0.0030350947617472325,
          -0.0027315852855725096,
          -0.0024280758093977862,
          -0.0021245663332230633,
          -0.00182105685704834,
          -0.0015175473808736167,
          -0.0012140379046988933,
          -9.1052842852417E-4,
          -6.070189523494467E-4,
          -3.0350947617472333E-4,
          0.0,
          3.0350947617472333E-4,
          6.070189523494467E-4,
          9.1052842852417E-4,
          0.0012140379046988933,
          0.0015175473808736167,
          0.00182105685704834,
          0.0021245663332230633,
          0.0024280758093977862,
          0.0027315852855725096,
          0.0030350947617472325,
          0.003338604237921956,
          0.003642113714096679,
          0.0039456231902714025,
          0.004249132666446126,
          0.004552642142620848,
          0.004856151618795572,
          0.005159661094970295,
          0.005463170571145018,
          0.005690978231065288,
          0.005690978231065288,
          0.005463170571145018,
          0.005159661094970295,
          0.004856151618795572,
          0.004552642142620848,
          0.004249132666446126,
          0.0039456231902714025,
          0.003642113714096679,
          0.003338604237921956,
          0.0030350947617472325,
          0.0027315852855725096,
          0.0024280758093977862,
          0.0021245663332230633,
          0.00182105685704834,
          0.0015175473808736167,
          0.0012140379046988933,
          9.1052842852417E-4,
          6.070189523494467E-4,
          3.0350947617472333E-4,
          0.0,
          -3.0350947617472333E-4,
          -6.070189523494467E-4,
          -9.1052842852417E-4,
          -0.0012140379046988933,
          -0.0015175473808736167,
          -0.00182105685704834,
          -0.0021245663332230633,
          -0.0024280758093977862,
          -0.0027315852855725096,
          -0.0030350947617472325,
          -0.003338604237921956,
          -0.003642113714096679,
          -0.0039456231902714025,
          -0.004249132666446126,
          -0.004552642142620848,
          -0.004856151618795572,
          -0.005159661094970295,
          -0.005463170571145018,
          -0.005690978231065288
         ],
         "type": "scatter"
        },
        {
         "line": {
          "color": "red",
          "dash": "dash"
         },
         "mode": "lines",
         "name": "in eq. rectangle",
         "x": [
          -0.0024548821293424914,
          0.0024548821293424914,
          0.0024548821293424914,
          -0.0024548821293424914,
          -0.0024548821293424914
         ],
         "y": [
          -0.005191030264150955,
          -0.005191030264150955,
          0.005191030264150955,
          0.005191030264150955,
          -0.005191030264150955
         ],
         "type": "scatter"
        },
        {
         "fill": "toself",
         "line": {
          "color": "blue"
         },
         "mode": "lines",
         "name": "out profile",
         "x": [
          -0.003197052767999967,
          -0.003197052767999967,
          -0.003136095115474413,
          -0.002951618932211212,
          -0.0027671427489480115,
          -0.0025826665656848106,
          -0.0023981903824216097,
          -0.002213714199158409,
          -0.0020292380158952084,
          -0.0018447618326320075,
          -0.0016602856493688066,
          -0.0014758094661056062,
          -0.0012913332828424053,
          -0.0011068570995792044,
          -9.22380916316004E-4,
          -7.379047330528031E-4,
          -5.534285497896022E-4,
          -3.6895236652640176E-4,
          -1.8447618326320088E-4,
          0.0,
          1.8447618326320088E-4,
          3.6895236652640176E-4,
          5.534285497896022E-4,
          7.379047330528031E-4,
          9.22380916316004E-4,
          0.0011068570995792044,
          0.0012913332828424053,
          0.0014758094661056062,
          0.0016602856493688066,
          0.0018447618326320075,
          0.0020292380158952084,
          0.002213714199158409,
          0.0023981903824216097,
          0.0025826665656848106,
          0.0027671427489480115,
          0.002951618932211212,
          0.003136095115474413,
          0.003197052767999967,
          0.003197052767999967,
          0.003136095115474413,
          0.002951618932211212,
          0.0027671427489480115,
          0.0025826665656848106,
          0.0023981903824216097,
          0.002213714199158409,
          0.0020292380158952084,
          0.0018447618326320075,
          0.0016602856493688066,
          0.0014758094661056062,
          0.0012913332828424053,
          0.0011068570995792044,
          9.22380916316004E-4,
          7.379047330528031E-4,
          5.534285497896022E-4,
          3.6895236652640176E-4,
          1.8447618326320088E-4,
          0.0,
          -1.8447618326320088E-4,
          -3.6895236652640176E-4,
          -5.534285497896022E-4,
          -7.379047330528031E-4,
          -9.22380916316004E-4,
          -0.0011068570995792044,
          -0.0012913332828424053,
          -0.0014758094661056062,
          -0.0016602856493688066,
          -0.0018447618326320075,
          -0.0020292380158952084,
          -0.002213714199158409,
          -0.0023981903824216097,
          -0.0025826665656848106,
          -0.0027671427489480115,
          -0.002951618932211212,
          -0.003136095115474413,
          -0.003197052767999967
         ],
         "y": [
          -0.002228192300755861,
          0.002228192300755861,
          0.0023183846589161015,
          0.002549106839466001,
          0.002748257813041644,
          0.0029222993362237595,
          0.003075497177638193,
          0.003210836253134757,
          0.003330494418978311,
          0.003436110269019927,
          0.0035289448228188547,
          0.0036099842686295857,
          0.0036800079283370373,
          0.0037396346561009283,
          0.0037893552809437183,
          0.0038295556667762736,
          0.00386053323263481,
          0.0038825087445148875,
          0.0038956345488005725,
          0.0039,
          0.0038956345488005725,
          0.0038825087445148875,
          0.00386053323263481,
          0.0038295556667762736,
          0.0037893552809437183,
          0.0037396346561009283,
          0.0036800079283370373,
          0.0036099842686295857,
          0.0035289448228188547,
          0.003436110269019927,
          0.003330494418978311,
          0.003210836253134757,
          0.003075497177638193,
          0.0029222993362237595,
          0.002748257813041644,
          0.002549106839466001,
          0.0023183846589161015,
          0.002228192300755861,
          -0.002228192300755861,
          -0.0023183846589161015,
          -0.002549106839466001,
          -0.002748257813041644,
          -0.0029222993362237595,
          -0.003075497177638193,
          -0.003210836253134757,
          -0.003330494418978311,
          -0.003436110269019927,
          -0.0035289448228188547,
          -0.0036099842686295857,
          -0.0036800079283370373,
          -0.0037396346561009283,
          -0.0037893552809437183,
          -0.0038295556667762736,
          -0.00386053323263481,
          -0.0038825087445148875,
          -0.0038956345488005725,
          -0.0039,
          -0.0038956345488005725,
          -0.0038825087445148875,
          -0.00386053323263481,
          -0.0038295556667762736,
          -0.0037893552809437183,
          -0.0037396346561009283,
          -0.0036800079283370373,
          -0.0036099842686295857,
          -0.0035289448228188547,
          -0.003436110269019927,
          -0.003330494418978311,
          -0.003210836253134757,
          -0.003075497177638193,
          -0.0029222993362237595,
          -0.002748257813041644,
          -0.002549106839466001,
          -0.0023183846589161015,
          -0.002228192300755861
         ],
         "type": "scatter"
        },
        {
         "line": {
          "color": "blue",
          "dash": "dash"
         },
         "mode": "lines",
         "name": "out eq. rectangle",
         "x": [
          -0.003197052767999967,
          0.003197052767999967,
          0.003197052767999967,
          -0.003197052767999967,
          -0.003197052767999967
         ],
         "y": [
          -0.0037241862194681012,
          -0.0037241862194681012,
          0.0037241862194681012,
          0.0037241862194681012,
          -0.0037241862194681012
         ],
         "type": "scatter"
        },
        {
         "line": {
          "color": "black"
         },
         "mode": "lines",
         "name": "roll surface",
         "showlegend": true,
         "x": [
          -0.006723308428428389,
          -0.005108571228827097,
          -0.005037618850648943,
          -0.004966666472470789,
          -0.004895714094292635,
          -0.0048247617161144805,
          -0.004753809337936327,
          -0.004682856959758172,
          -0.0046119045815800185,
          -0.004540952203401864,
          -0.00446999982522371,
          -0.004399047447045556,
          -0.004328095068867402,
          -0.004257142690689247,
          -0.004186190312511094,
          -0.00411523793433294,
          -0.004044285556154785,
          -0.003973333177976631,
          -0.003902380799798477,
          -0.003831428421620323,
          -0.0037604760434421687,
          -0.003689523665264015,
          -0.003505047482000814,
          -0.0033205712987376137,
          -0.003136095115474413,
          -0.002951618932211212,
          -0.0027671427489480115,
          -0.0025826665656848106,
          -0.0023981903824216097,
          -0.002213714199158409,
          -0.0020292380158952084,
          -0.0018447618326320075,
          -0.0016602856493688066,
          -0.0014758094661056062,
          -0.0012913332828424053,
          -0.0011068570995792044,
          -9.22380916316004E-4,
          -7.379047330528031E-4,
          -5.534285497896022E-4,
          -3.6895236652640176E-4,
          -1.8447618326320088E-4,
          0.0,
          1.8447618326320088E-4,
          3.6895236652640176E-4,
          5.534285497896022E-4,
          7.379047330528031E-4,
          9.22380916316004E-4,
          0.0011068570995792044,
          0.0012913332828424053,
          0.0014758094661056062,
          0.0016602856493688066,
          0.0018447618326320075,
          0.0020292380158952084,
          0.002213714199158409,
          0.0023981903824216097,
          0.0025826665656848106,
          0.0027671427489480115,
          0.002951618932211212,
          0.003136095115474413,
          0.0033205712987376137,
          0.003505047482000814,
          0.003689523665264015,
          0.0037604760434421687,
          0.003831428421620323,
          0.003902380799798477,
          0.003973333177976631,
          0.004044285556154785,
          0.00411523793433294,
          0.004186190312511094,
          0.004257142690689247,
          0.004328095068867402,
          0.004399047447045556,
          0.00446999982522371,
          0.004540952203401864,
          0.0046119045815800185,
          0.004682856959758172,
          0.004753809337936327,
          0.0048247617161144805,
          0.004895714094292635,
          0.004966666472470789,
          0.005037618850648943,
          0.005108571228827097,
          0.006723308428428389
         ],
         "y": [
          2.499999999999998E-4,
          2.499999999999998E-4,
          2.5167901969208725E-4,
          2.5672740595581237E-4,
          2.6517952590968813E-4,
          2.770939743168175E-4,
          2.925556611754925E-4,
          3.116789784227197E-4,
          3.346123352549852E-4,
          3.615445120655437E-4,
          3.927135296850554E-4,
          4.284191273000279E-4,
          4.6904060808526465E-4,
          5.15062979563555E-4,
          5.67116470139156E-4,
          6.260387168370146E-4,
          6.929777642147516E-4,
          7.695742925130766E-4,
          8.583135927245758E-4,
          9.632940511220216E-4,
          0.0010922467247196895,
          0.0012638888888888877,
          0.0017101585157288056,
          0.0020454354670827422,
          0.0023183846589161015,
          0.002549106839466001,
          0.002748257813041644,
          0.0029222993362237595,
          0.003075497177638193,
          0.003210836253134757,
          0.003330494418978311,
          0.003436110269019927,
          0.0035289448228188547,
          0.0036099842686295857,
          0.0036800079283370373,
          0.0037396346561009283,
          0.0037893552809437183,
          0.0038295556667762736,
          0.00386053323263481,
          0.0038825087445148875,
          0.0038956345488005725,
          0.0039,
          0.0038956345488005725,
          0.0038825087445148875,
          0.00386053323263481,
          0.0038295556667762736,
          0.0037893552809437183,
          0.0037396346561009283,
          0.0036800079283370373,
          0.0036099842686295857,
          0.0035289448228188547,
          0.003436110269019927,
          0.003330494418978311,
          0.003210836253134757,
          0.003075497177638193,
          0.0029222993362237595,
          0.002748257813041644,
          0.002549106839466001,
          0.0023183846589161015,
          0.0020454354670827422,
          0.0017101585157288056,
          0.0012638888888888877,
          0.0010922467247196895,
          9.632940511220216E-4,
          8.583135927245758E-4,
          7.695742925130766E-4,
          6.929777642147516E-4,
          6.260387168370146E-4,
          5.67116470139156E-4,
          5.15062979563555E-4,
          4.6904060808526465E-4,
          4.284191273000279E-4,
          3.927135296850554E-4,
          3.615445120655437E-4,
          3.346123352549852E-4,
          3.116789784227197E-4,
          2.925556611754925E-4,
          2.770939743168175E-4,
          2.6517952590968813E-4,
          2.5672740595581237E-4,
          2.5167901969208725E-4,
          2.499999999999998E-4,
          2.499999999999998E-4
         ],
         "type": "scatter"
        },
        {
         "line": {
          "color": "black"
         },
         "mode": "lines",
         "name": "roll surface",
         "showlegend": false,
         "x": [
          0.006723308428428389,
          0.005108571228827097,
          0.005037618850648943,
          0.004966666472470789,
          0.004895714094292635,
          0.0048247617161144805,
          0.004753809337936327,
          0.004682856959758172,
          0.0046119045815800185,
          0.004540952203401864,
          0.00446999982522371,
          0.004399047447045556,
          0.004328095068867402,
          0.004257142690689247,
          0.004186190312511094,
          0.00411523793433294,
          0.004044285556154785,
          0.003973333177976631,
          0.003902380799798477,
          0.003831428421620323,
          0.0037604760434421687,
          0.003689523665264015,
          0.003505047482000814,
          0.0033205712987376137,
          0.003136095115474413,
          0.002951618932211212,
          0.0027671427489480115,
          0.0025826665656848106,
          0.0023981903824216097,
          0.002213714199158409,
          0.0020292380158952084,
          0.0018447618326320075,
          0.0016602856493688066,
          0.0014758094661056062,
          0.0012913332828424053,
          0.0011068570995792044,
          9.22380916316004E-4,
          7.379047330528031E-4,
          5.534285497896022E-4,
          3.6895236652640176E-4,
          1.8447618326320088E-4,
          0.0,
          -1.8447618326320088E-4,
          -3.6895236652640176E-4,
          -5.534285497896022E-4,
          -7.379047330528031E-4,
          -9.22380916316004E-4,
          -0.0011068570995792044,
          -0.0012913332828424053,
          -0.0014758094661056062,
          -0.0016602856493688066,
          -0.0018447618326320075,
          -0.0020292380158952084,
          -0.002213714199158409,
          -0.0023981903824216097,
          -0.0025826665656848106,
          -0.0027671427489480115,
          -0.002951618932211212,
          -0.003136095115474413,
          -0.0033205712987376137,
          -0.003505047482000814,
          -0.003689523665264015,
          -0.0037604760434421687,
          -0.003831428421620323,
          -0.003902380799798477,
          -0.003973333177976631,
          -0.004044285556154785,
          -0.00411523793433294,
          -0.004186190312511094,
          -0.004257142690689247,
          -0.004328095068867402,
          -0.004399047447045556,
          -0.00446999982522371,
          -0.004540952203401864,
          -0.0046119045815800185,
          -0.004682856959758172,
          -0.004753809337936327,
          -0.0048247617161144805,
          -0.004895714094292635,
          -0.004966666472470789,
          -0.005037618850648943,
          -0.005108571228827097,
          -0.006723308428428389
         ],
         "y": [
          -2.499999999999998E-4,
          -2.499999999999998E-4,
          -2.5167901969208725E-4,
          -2.5672740595581237E-4,
          -2.6517952590968813E-4,
          -2.770939743168175E-4,
          -2.925556611754925E-4,
          -3.116789784227197E-4,
          -3.346123352549852E-4,
          -3.615445120655437E-4,
          -3.927135296850554E-4,
          -4.284191273000279E-4,
          -4.6904060808526465E-4,
          -5.15062979563555E-4,
          -5.67116470139156E-4,
          -6.260387168370146E-4,
          -6.929777642147516E-4,
          -7.695742925130766E-4,
          -8.583135927245758E-4,
          -9.632940511220216E-4,
          -0.0010922467247196895,
          -0.0012638888888888877,
          -0.0017101585157288056,
          -0.0020454354670827422,
          -0.0023183846589161015,
          -0.002549106839466001,
          -0.002748257813041644,
          -0.0029222993362237595,
          -0.003075497177638193,
          -0.003210836253134757,
          -0.003330494418978311,
          -0.003436110269019927,
          -0.0035289448228188547,
          -0.0036099842686295857,
          -0.0036800079283370373,
          -0.0037396346561009283,
          -0.0037893552809437183,
          -0.0038295556667762736,
          -0.00386053323263481,
          -0.0038825087445148875,
          -0.0038956345488005725,
          -0.0039,
          -0.0038956345488005725,
          -0.0038825087445148875,
          -0.00386053323263481,
          -0.0038295556667762736,
          -0.0037893552809437183,
          -0.0037396346561009283,
          -0.0036800079283370373,
          -0.0036099842686295857,
          -0.0035289448228188547,
          -0.003436110269019927,
          -0.003330494418978311,
          -0.003210836253134757,
          -0.003075497177638193,
          -0.0029222993362237595,
          -0.002748257813041644,
          -0.002549106839466001,
          -0.0023183846589161015,
          -0.0020454354670827422,
          -0.0017101585157288056,
          -0.0012638888888888877,
          -0.0010922467247196895,
          -9.632940511220216E-4,
          -8.583135927245758E-4,
          -7.695742925130766E-4,
          -6.929777642147516E-4,
          -6.260387168370146E-4,
          -5.67116470139156E-4,
          -5.15062979563555E-4,
          -4.6904060808526465E-4,
          -4.284191273000279E-4,
          -3.927135296850554E-4,
          -3.615445120655437E-4,
          -3.346123352549852E-4,
          -3.116789784227197E-4,
          -2.925556611754925E-4,
          -2.770939743168175E-4,
          -2.6517952590968813E-4,
          -2.5672740595581237E-4,
          -2.5167901969208725E-4,
          -2.499999999999998E-4,
          -2.499999999999998E-4
         ],
         "type": "scatter"
        }
       ],
       "layout": {
        "height": 480,
        "template": {
         "data": {
          "barpolar": [
           {
            "marker": {
             "line": {
              "color": "white",
              "width": 0.5
             },
             "pattern": {
              "fillmode": "overlay",
              "size": 10,
              "solidity": 0.2
             }
            },
            "type": "barpolar"
           }
          ],
          "bar": [
           {
            "error_x": {
             "color": "rgb(36,36,36)"
            },
            "error_y": {
             "color": "rgb(36,36,36)"
            },
            "marker": {
             "line": {
              "color": "white",
              "width": 0.5
             },
             "pattern": {
              "fillmode": "overlay",
              "size": 10,
              "solidity": 0.2
             }
            },
            "type": "bar"
           }
          ],
          "carpet": [
           {
            "aaxis": {
             "endlinecolor": "rgb(36,36,36)",
             "gridcolor": "white",
             "linecolor": "white",
             "minorgridcolor": "white",
             "startlinecolor": "rgb(36,36,36)"
            },
            "baxis": {
             "endlinecolor": "rgb(36,36,36)",
             "gridcolor": "white",
             "linecolor": "white",
             "minorgridcolor": "white",
             "startlinecolor": "rgb(36,36,36)"
            },
            "type": "carpet"
           }
          ],
          "choropleth": [
           {
            "colorbar": {
             "outlinewidth": 1,
             "tickcolor": "rgb(36,36,36)",
             "ticks": "outside"
            },
            "type": "choropleth"
           }
          ],
          "contourcarpet": [
           {
            "colorbar": {
             "outlinewidth": 1,
             "tickcolor": "rgb(36,36,36)",
             "ticks": "outside"
            },
            "type": "contourcarpet"
           }
          ],
          "contour": [
           {
            "colorbar": {
             "outlinewidth": 1,
             "tickcolor": "rgb(36,36,36)",
             "ticks": "outside"
            },
            "colorscale": [
             [
              0.0,
              "#440154"
             ],
             [
              0.1111111111111111,
              "#482878"
             ],
             [
              0.2222222222222222,
              "#3e4989"
             ],
             [
              0.3333333333333333,
              "#31688e"
             ],
             [
              0.4444444444444444,
              "#26828e"
             ],
             [
              0.5555555555555556,
              "#1f9e89"
             ],
             [
              0.6666666666666666,
              "#35b779"
             ],
             [
              0.7777777777777778,
              "#6ece58"
             ],
             [
              0.8888888888888888,
              "#b5de2b"
             ],
             [
              1.0,
              "#fde725"
             ]
            ],
            "type": "contour"
           }
          ],
          "heatmapgl": [
           {
            "colorbar": {
             "outlinewidth": 1,
             "tickcolor": "rgb(36,36,36)",
             "ticks": "outside"
            },
            "colorscale": [
             [
              0.0,
              "#440154"
             ],
             [
              0.1111111111111111,
              "#482878"
             ],
             [
              0.2222222222222222,
              "#3e4989"
             ],
             [
              0.3333333333333333,
              "#31688e"
             ],
             [
              0.4444444444444444,
              "#26828e"
             ],
             [
              0.5555555555555556,
              "#1f9e89"
             ],
             [
              0.6666666666666666,
              "#35b779"
             ],
             [
              0.7777777777777778,
              "#6ece58"
             ],
             [
              0.8888888888888888,
              "#b5de2b"
             ],
             [
              1.0,
              "#fde725"
             ]
            ],
            "type": "heatmapgl"
           }
          ],
          "heatmap": [
           {
            "colorbar": {
             "outlinewidth": 1,
             "tickcolor": "rgb(36,36,36)",
             "ticks": "outside"
            },
            "colorscale": [
             [
              0.0,
              "#440154"
             ],
             [
              0.1111111111111111,
              "#482878"
             ],
             [
              0.2222222222222222,
              "#3e4989"
             ],
             [
              0.3333333333333333,
              "#31688e"
             ],
             [
              0.4444444444444444,
              "#26828e"
             ],
             [
              0.5555555555555556,
              "#1f9e89"
             ],
             [
              0.6666666666666666,
              "#35b779"
             ],
             [
              0.7777777777777778,
              "#6ece58"
             ],
             [
              0.8888888888888888,
              "#b5de2b"
             ],
             [
              1.0,
              "#fde725"
             ]
            ],
            "type": "heatmap"
           }
          ],
          "histogram2dcontour": [
           {
            "colorbar": {
             "outlinewidth": 1,
             "tickcolor": "rgb(36,36,36)",
             "ticks": "outside"
            },
            "colorscale": [
             [
              0.0,
              "#440154"
             ],
             [
              0.1111111111111111,
              "#482878"
             ],
             [
              0.2222222222222222,
              "#3e4989"
             ],
             [
              0.3333333333333333,
              "#31688e"
             ],
             [
              0.4444444444444444,
              "#26828e"
             ],
             [
              0.5555555555555556,
              "#1f9e89"
             ],
             [
              0.6666666666666666,
              "#35b779"
             ],
             [
              0.7777777777777778,
              "#6ece58"
             ],
             [
              0.8888888888888888,
              "#b5de2b"
             ],
             [
              1.0,
              "#fde725"
             ]
            ],
            "type": "histogram2dcontour"
           }
          ],
          "histogram2d": [
           {
            "colorbar": {
             "outlinewidth": 1,
             "tickcolor": "rgb(36,36,36)",
             "ticks": "outside"
            },
            "colorscale": [
             [
              0.0,
              "#440154"
             ],
             [
              0.1111111111111111,
              "#482878"
             ],
             [
              0.2222222222222222,
              "#3e4989"
             ],
             [
              0.3333333333333333,
              "#31688e"
             ],
             [
              0.4444444444444444,
              "#26828e"
             ],
             [
              0.5555555555555556,
              "#1f9e89"
             ],
             [
              0.6666666666666666,
              "#35b779"
             ],
             [
              0.7777777777777778,
              "#6ece58"
             ],
             [
              0.8888888888888888,
              "#b5de2b"
             ],
             [
              1.0,
              "#fde725"
             ]
            ],
            "type": "histogram2d"
           }
          ],
          "histogram": [
           {
            "marker": {
             "line": {
              "color": "white",
              "width": 0.6
             }
            },
            "type": "histogram"
           }
          ],
          "mesh3d": [
           {
            "colorbar": {
             "outlinewidth": 1,
             "tickcolor": "rgb(36,36,36)",
             "ticks": "outside"
            },
            "type": "mesh3d"
           }
          ],
          "parcoords": [
           {
            "line": {
             "colorbar": {
              "outlinewidth": 1,
              "tickcolor": "rgb(36,36,36)",
              "ticks": "outside"
             }
            },
            "type": "parcoords"
           }
          ],
          "pie": [
           {
            "automargin": true,
            "type": "pie"
           }
          ],
          "scatter3d": [
           {
            "line": {
             "colorbar": {
              "outlinewidth": 1,
              "tickcolor": "rgb(36,36,36)",
              "ticks": "outside"
             }
            },
            "marker": {
             "colorbar": {
              "outlinewidth": 1,
              "tickcolor": "rgb(36,36,36)",
              "ticks": "outside"
             }
            },
            "type": "scatter3d"
           }
          ],
          "scattercarpet": [
           {
            "marker": {
             "colorbar": {
              "outlinewidth": 1,
              "tickcolor": "rgb(36,36,36)",
              "ticks": "outside"
             }
            },
            "type": "scattercarpet"
           }
          ],
          "scattergeo": [
           {
            "marker": {
             "colorbar": {
              "outlinewidth": 1,
              "tickcolor": "rgb(36,36,36)",
              "ticks": "outside"
             }
            },
            "type": "scattergeo"
           }
          ],
          "scattergl": [
           {
            "marker": {
             "colorbar": {
              "outlinewidth": 1,
              "tickcolor": "rgb(36,36,36)",
              "ticks": "outside"
             }
            },
            "type": "scattergl"
           }
          ],
          "scattermapbox": [
           {
            "marker": {
             "colorbar": {
              "outlinewidth": 1,
              "tickcolor": "rgb(36,36,36)",
              "ticks": "outside"
             }
            },
            "type": "scattermapbox"
           }
          ],
          "scatterpolargl": [
           {
            "marker": {
             "colorbar": {
              "outlinewidth": 1,
              "tickcolor": "rgb(36,36,36)",
              "ticks": "outside"
             }
            },
            "type": "scatterpolargl"
           }
          ],
          "scatterpolar": [
           {
            "marker": {
             "colorbar": {
              "outlinewidth": 1,
              "tickcolor": "rgb(36,36,36)",
              "ticks": "outside"
             }
            },
            "type": "scatterpolar"
           }
          ],
          "scatter": [
           {
            "fillpattern": {
             "fillmode": "overlay",
             "size": 10,
             "solidity": 0.2
            },
            "type": "scatter"
           }
          ],
          "scatterternary": [
           {
            "marker": {
             "colorbar": {
              "outlinewidth": 1,
              "tickcolor": "rgb(36,36,36)",
              "ticks": "outside"
             }
            },
            "type": "scatterternary"
           }
          ],
          "surface": [
           {
            "colorbar": {
             "outlinewidth": 1,
             "tickcolor": "rgb(36,36,36)",
             "ticks": "outside"
            },
            "colorscale": [
             [
              0.0,
              "#440154"
             ],
             [
              0.1111111111111111,
              "#482878"
             ],
             [
              0.2222222222222222,
              "#3e4989"
             ],
             [
              0.3333333333333333,
              "#31688e"
             ],
             [
              0.4444444444444444,
              "#26828e"
             ],
             [
              0.5555555555555556,
              "#1f9e89"
             ],
             [
              0.6666666666666666,
              "#35b779"
             ],
             [
              0.7777777777777778,
              "#6ece58"
             ],
             [
              0.8888888888888888,
              "#b5de2b"
             ],
             [
              1.0,
              "#fde725"
             ]
            ],
            "type": "surface"
           }
          ],
          "table": [
           {
            "cells": {
             "fill": {
              "color": "rgb(237,237,237)"
             },
             "line": {
              "color": "white"
             }
            },
            "header": {
             "fill": {
              "color": "rgb(217,217,217)"
             },
             "line": {
              "color": "white"
             }
            },
            "type": "table"
           }
          ]
         },
         "layout": {
          "annotationdefaults": {
           "arrowhead": 0,
           "arrowwidth": 1
          },
          "autotypenumbers": "strict",
          "coloraxis": {
           "colorbar": {
            "outlinewidth": 1,
            "tickcolor": "rgb(36,36,36)",
            "ticks": "outside"
           }
          },
          "colorscale": {
           "diverging": [
            [
             0.0,
             "rgb(103,0,31)"
            ],
            [
             0.1,
             "rgb(178,24,43)"
            ],
            [
             0.2,
             "rgb(214,96,77)"
            ],
            [
             0.3,
             "rgb(244,165,130)"
            ],
            [
             0.4,
             "rgb(253,219,199)"
            ],
            [
             0.5,
             "rgb(247,247,247)"
            ],
            [
             0.6,
             "rgb(209,229,240)"
            ],
            [
             0.7,
             "rgb(146,197,222)"
            ],
            [
             0.8,
             "rgb(67,147,195)"
            ],
            [
             0.9,
             "rgb(33,102,172)"
            ],
            [
             1.0,
             "rgb(5,48,97)"
            ]
           ],
           "sequential": [
            [
             0.0,
             "#440154"
            ],
            [
             0.1111111111111111,
             "#482878"
            ],
            [
             0.2222222222222222,
             "#3e4989"
            ],
            [
             0.3333333333333333,
             "#31688e"
            ],
            [
             0.4444444444444444,
             "#26828e"
            ],
            [
             0.5555555555555556,
             "#1f9e89"
            ],
            [
             0.6666666666666666,
             "#35b779"
            ],
            [
             0.7777777777777778,
             "#6ece58"
            ],
            [
             0.8888888888888888,
             "#b5de2b"
            ],
            [
             1.0,
             "#fde725"
            ]
           ],
           "sequentialminus": [
            [
             0.0,
             "#440154"
            ],
            [
             0.1111111111111111,
             "#482878"
            ],
            [
             0.2222222222222222,
             "#3e4989"
            ],
            [
             0.3333333333333333,
             "#31688e"
            ],
            [
             0.4444444444444444,
             "#26828e"
            ],
            [
             0.5555555555555556,
             "#1f9e89"
            ],
            [
             0.6666666666666666,
             "#35b779"
            ],
            [
             0.7777777777777778,
             "#6ece58"
            ],
            [
             0.8888888888888888,
             "#b5de2b"
            ],
            [
             1.0,
             "#fde725"
            ]
           ]
          },
          "colorway": [
           "#1F77B4",
           "#FF7F0E",
           "#2CA02C",
           "#D62728",
           "#9467BD",
           "#8C564B",
           "#E377C2",
           "#7F7F7F",
           "#BCBD22",
           "#17BECF"
          ],
          "font": {
           "color": "rgb(36,36,36)"
          },
          "geo": {
           "bgcolor": "white",
           "lakecolor": "white",
           "landcolor": "white",
           "showlakes": true,
           "showland": true,
           "subunitcolor": "white"
          },
          "hoverlabel": {
           "align": "left"
          },
          "hovermode": "closest",
          "mapbox": {
           "style": "light"
          },
          "paper_bgcolor": "white",
          "plot_bgcolor": "white",
          "polar": {
           "angularaxis": {
            "gridcolor": "rgb(232,232,232)",
            "linecolor": "rgb(36,36,36)",
            "showgrid": false,
            "showline": true,
            "ticks": "outside"
           },
           "bgcolor": "white",
           "radialaxis": {
            "gridcolor": "rgb(232,232,232)",
            "linecolor": "rgb(36,36,36)",
            "showgrid": false,
            "showline": true,
            "ticks": "outside"
           }
          },
          "scene": {
           "xaxis": {
            "backgroundcolor": "white",
            "gridcolor": "rgb(232,232,232)",
            "gridwidth": 2,
            "linecolor": "rgb(36,36,36)",
            "showbackground": true,
            "showgrid": false,
            "showline": true,
            "ticks": "outside",
            "zeroline": false,
            "zerolinecolor": "rgb(36,36,36)"
           },
           "yaxis": {
            "backgroundcolor": "white",
            "gridcolor": "rgb(232,232,232)",
            "gridwidth": 2,
            "linecolor": "rgb(36,36,36)",
            "showbackground": true,
            "showgrid": false,
            "showline": true,
            "ticks": "outside",
            "zeroline": false,
            "zerolinecolor": "rgb(36,36,36)"
           },
           "zaxis": {
            "backgroundcolor": "white",
            "gridcolor": "rgb(232,232,232)",
            "gridwidth": 2,
            "linecolor": "rgb(36,36,36)",
            "showbackground": true,
            "showgrid": false,
            "showline": true,
            "ticks": "outside",
            "zeroline": false,
            "zerolinecolor": "rgb(36,36,36)"
           }
          },
          "shapedefaults": {
           "fillcolor": "black",
           "line": {
            "width": 0
           },
           "opacity": 0.3
          },
          "ternary": {
           "aaxis": {
            "gridcolor": "rgb(232,232,232)",
            "linecolor": "rgb(36,36,36)",
            "showgrid": false,
            "showline": true,
            "ticks": "outside"
           },
           "baxis": {
            "gridcolor": "rgb(232,232,232)",
            "linecolor": "rgb(36,36,36)",
            "showgrid": false,
            "showline": true,
            "ticks": "outside"
           },
           "bgcolor": "white",
           "caxis": {
            "gridcolor": "rgb(232,232,232)",
            "linecolor": "rgb(36,36,36)",
            "showgrid": false,
            "showline": true,
            "ticks": "outside"
           }
          },
          "title": {
           "x": 0.05
          },
          "xaxis": {
           "automargin": true,
           "gridcolor": "rgb(232,232,232)",
           "linecolor": "rgb(36,36,36)",
           "showgrid": false,
           "showline": true,
           "ticks": "outside",
           "title": {
            "standoff": 15
           },
           "zeroline": false,
           "zerolinecolor": "rgb(36,36,36)"
          },
          "yaxis": {
           "automargin": true,
           "gridcolor": "rgb(232,232,232)",
           "linecolor": "rgb(36,36,36)",
           "showgrid": false,
           "showline": true,
           "ticks": "outside",
           "title": {
            "standoff": 15
           },
           "zeroline": false,
           "zerolinecolor": "rgb(36,36,36)"
          }
         }
        },
        "title": {
         "text": "Roll Pass 'Fertigrund XVIa'"
        },
        "width": 640,
        "xaxis": {
         "title": {
          "text": "z"
         }
        },
        "yaxis": {
         "scaleanchor": "x",
         "scaleratio": 1,
         "title": {
          "text": "y"
         }
        }
       },
       "config": {
        "plotlyServerURL": "https://plot.ly"
       }
      },
      "text/html": [
       "<div>                            <div id=\"28424b87-330d-4824-9113-8686023f1d8e\" class=\"plotly-graph-div\" style=\"height:480px; width:640px;\"></div>            <script type=\"text/javascript\">                require([\"plotly\"], function(Plotly) {                    window.PLOTLYENV=window.PLOTLYENV || {};                                    if (document.getElementById(\"28424b87-330d-4824-9113-8686023f1d8e\")) {                    Plotly.newPlot(                        \"28424b87-330d-4824-9113-8686023f1d8e\",                        [{\"fill\":\"toself\",\"line\":{\"color\":\"red\"},\"mode\":\"lines\",\"name\":\"in profile\",\"x\":[0.0010386296983040633,-0.0010386296983040633,-0.0011573596027388332,-0.001304900192284478,-0.0014422198478131478,-0.001569692359489854,-0.0016876485585959908,-0.001796381493672306,-0.001896150726592272,-0.00198718591509167,-0.0020696898110351466,-0.0021438407755935956,-0.002209794891047943,-0.0022676877323661877,-0.002317635848760751,-0.0023597379952084805,-0.00239407614573392,-0.0024207163136176005,-0.002439709198216962,-0.0024510906734879507,-0.0024548821293424914,-0.0024510906734879507,-0.002439709198216962,-0.0024207163136176005,-0.00239407614573392,-0.0023597379952084805,-0.002317635848760751,-0.0022676877323661877,-0.002209794891047943,-0.0021438407755935956,-0.0020696898110351466,-0.00198718591509167,-0.001896150726592272,-0.001796381493672306,-0.0016876485585959908,-0.001569692359489854,-0.0014422198478131478,-0.001304900192284478,-0.0011573596027388332,-0.0010386296983040633,0.0010386296983040633,0.0011573596027388332,0.001304900192284478,0.0014422198478131478,0.001569692359489854,0.0016876485585959908,0.001796381493672306,0.001896150726592272,0.00198718591509167,0.0020696898110351466,0.0021438407755935956,0.002209794891047943,0.0022676877323661877,0.002317635848760751,0.0023597379952084805,0.00239407614573392,0.0024207163136176005,0.002439709198216962,0.0024510906734879507,0.0024548821293424914,0.0024510906734879507,0.002439709198216962,0.0024207163136176005,0.00239407614573392,0.0023597379952084805,0.002317635848760751,0.0022676877323661877,0.002209794891047943,0.0021438407755935956,0.0020696898110351466,0.00198718591509167,0.001896150726592272,0.001796381493672306,0.0016876485585959908,0.001569692359489854,0.0014422198478131478,0.001304900192284478,0.0011573596027388332,0.0010386296983040633],\"y\":[-0.005690978231065288,-0.005690978231065288,-0.005463170571145018,-0.005159661094970295,-0.004856151618795572,-0.004552642142620848,-0.004249132666446126,-0.0039456231902714025,-0.003642113714096679,-0.003338604237921956,-0.0030350947617472325,-0.0027315852855725096,-0.0024280758093977862,-0.0021245663332230633,-0.00182105685704834,-0.0015175473808736167,-0.0012140379046988933,-0.00091052842852417,-0.0006070189523494467,-0.00030350947617472333,0.0,0.00030350947617472333,0.0006070189523494467,0.00091052842852417,0.0012140379046988933,0.0015175473808736167,0.00182105685704834,0.0021245663332230633,0.0024280758093977862,0.0027315852855725096,0.0030350947617472325,0.003338604237921956,0.003642113714096679,0.0039456231902714025,0.004249132666446126,0.004552642142620848,0.004856151618795572,0.005159661094970295,0.005463170571145018,0.005690978231065288,0.005690978231065288,0.005463170571145018,0.005159661094970295,0.004856151618795572,0.004552642142620848,0.004249132666446126,0.0039456231902714025,0.003642113714096679,0.003338604237921956,0.0030350947617472325,0.0027315852855725096,0.0024280758093977862,0.0021245663332230633,0.00182105685704834,0.0015175473808736167,0.0012140379046988933,0.00091052842852417,0.0006070189523494467,0.00030350947617472333,0.0,-0.00030350947617472333,-0.0006070189523494467,-0.00091052842852417,-0.0012140379046988933,-0.0015175473808736167,-0.00182105685704834,-0.0021245663332230633,-0.0024280758093977862,-0.0027315852855725096,-0.0030350947617472325,-0.003338604237921956,-0.003642113714096679,-0.0039456231902714025,-0.004249132666446126,-0.004552642142620848,-0.004856151618795572,-0.005159661094970295,-0.005463170571145018,-0.005690978231065288],\"type\":\"scatter\"},{\"line\":{\"color\":\"red\",\"dash\":\"dash\"},\"mode\":\"lines\",\"name\":\"in eq. rectangle\",\"x\":[-0.0024548821293424914,0.0024548821293424914,0.0024548821293424914,-0.0024548821293424914,-0.0024548821293424914],\"y\":[-0.005191030264150955,-0.005191030264150955,0.005191030264150955,0.005191030264150955,-0.005191030264150955],\"type\":\"scatter\"},{\"fill\":\"toself\",\"line\":{\"color\":\"blue\"},\"mode\":\"lines\",\"name\":\"out profile\",\"x\":[-0.003197052767999967,-0.003197052767999967,-0.003136095115474413,-0.002951618932211212,-0.0027671427489480115,-0.0025826665656848106,-0.0023981903824216097,-0.002213714199158409,-0.0020292380158952084,-0.0018447618326320075,-0.0016602856493688066,-0.0014758094661056062,-0.0012913332828424053,-0.0011068570995792044,-0.000922380916316004,-0.0007379047330528031,-0.0005534285497896022,-0.00036895236652640176,-0.00018447618326320088,0.0,0.00018447618326320088,0.00036895236652640176,0.0005534285497896022,0.0007379047330528031,0.000922380916316004,0.0011068570995792044,0.0012913332828424053,0.0014758094661056062,0.0016602856493688066,0.0018447618326320075,0.0020292380158952084,0.002213714199158409,0.0023981903824216097,0.0025826665656848106,0.0027671427489480115,0.002951618932211212,0.003136095115474413,0.003197052767999967,0.003197052767999967,0.003136095115474413,0.002951618932211212,0.0027671427489480115,0.0025826665656848106,0.0023981903824216097,0.002213714199158409,0.0020292380158952084,0.0018447618326320075,0.0016602856493688066,0.0014758094661056062,0.0012913332828424053,0.0011068570995792044,0.000922380916316004,0.0007379047330528031,0.0005534285497896022,0.00036895236652640176,0.00018447618326320088,0.0,-0.00018447618326320088,-0.00036895236652640176,-0.0005534285497896022,-0.0007379047330528031,-0.000922380916316004,-0.0011068570995792044,-0.0012913332828424053,-0.0014758094661056062,-0.0016602856493688066,-0.0018447618326320075,-0.0020292380158952084,-0.002213714199158409,-0.0023981903824216097,-0.0025826665656848106,-0.0027671427489480115,-0.002951618932211212,-0.003136095115474413,-0.003197052767999967],\"y\":[-0.002228192300755861,0.002228192300755861,0.0023183846589161015,0.002549106839466001,0.002748257813041644,0.0029222993362237595,0.003075497177638193,0.003210836253134757,0.003330494418978311,0.003436110269019927,0.0035289448228188547,0.0036099842686295857,0.0036800079283370373,0.0037396346561009283,0.0037893552809437183,0.0038295556667762736,0.00386053323263481,0.0038825087445148875,0.0038956345488005725,0.0039,0.0038956345488005725,0.0038825087445148875,0.00386053323263481,0.0038295556667762736,0.0037893552809437183,0.0037396346561009283,0.0036800079283370373,0.0036099842686295857,0.0035289448228188547,0.003436110269019927,0.003330494418978311,0.003210836253134757,0.003075497177638193,0.0029222993362237595,0.002748257813041644,0.002549106839466001,0.0023183846589161015,0.002228192300755861,-0.002228192300755861,-0.0023183846589161015,-0.002549106839466001,-0.002748257813041644,-0.0029222993362237595,-0.003075497177638193,-0.003210836253134757,-0.003330494418978311,-0.003436110269019927,-0.0035289448228188547,-0.0036099842686295857,-0.0036800079283370373,-0.0037396346561009283,-0.0037893552809437183,-0.0038295556667762736,-0.00386053323263481,-0.0038825087445148875,-0.0038956345488005725,-0.0039,-0.0038956345488005725,-0.0038825087445148875,-0.00386053323263481,-0.0038295556667762736,-0.0037893552809437183,-0.0037396346561009283,-0.0036800079283370373,-0.0036099842686295857,-0.0035289448228188547,-0.003436110269019927,-0.003330494418978311,-0.003210836253134757,-0.003075497177638193,-0.0029222993362237595,-0.002748257813041644,-0.002549106839466001,-0.0023183846589161015,-0.002228192300755861],\"type\":\"scatter\"},{\"line\":{\"color\":\"blue\",\"dash\":\"dash\"},\"mode\":\"lines\",\"name\":\"out eq. rectangle\",\"x\":[-0.003197052767999967,0.003197052767999967,0.003197052767999967,-0.003197052767999967,-0.003197052767999967],\"y\":[-0.0037241862194681012,-0.0037241862194681012,0.0037241862194681012,0.0037241862194681012,-0.0037241862194681012],\"type\":\"scatter\"},{\"line\":{\"color\":\"black\"},\"mode\":\"lines\",\"name\":\"roll surface\",\"showlegend\":true,\"x\":[-0.006723308428428389,-0.005108571228827097,-0.005037618850648943,-0.004966666472470789,-0.004895714094292635,-0.0048247617161144805,-0.004753809337936327,-0.004682856959758172,-0.0046119045815800185,-0.004540952203401864,-0.00446999982522371,-0.004399047447045556,-0.004328095068867402,-0.004257142690689247,-0.004186190312511094,-0.00411523793433294,-0.004044285556154785,-0.003973333177976631,-0.003902380799798477,-0.003831428421620323,-0.0037604760434421687,-0.003689523665264015,-0.003505047482000814,-0.0033205712987376137,-0.003136095115474413,-0.002951618932211212,-0.0027671427489480115,-0.0025826665656848106,-0.0023981903824216097,-0.002213714199158409,-0.0020292380158952084,-0.0018447618326320075,-0.0016602856493688066,-0.0014758094661056062,-0.0012913332828424053,-0.0011068570995792044,-0.000922380916316004,-0.0007379047330528031,-0.0005534285497896022,-0.00036895236652640176,-0.00018447618326320088,0.0,0.00018447618326320088,0.00036895236652640176,0.0005534285497896022,0.0007379047330528031,0.000922380916316004,0.0011068570995792044,0.0012913332828424053,0.0014758094661056062,0.0016602856493688066,0.0018447618326320075,0.0020292380158952084,0.002213714199158409,0.0023981903824216097,0.0025826665656848106,0.0027671427489480115,0.002951618932211212,0.003136095115474413,0.0033205712987376137,0.003505047482000814,0.003689523665264015,0.0037604760434421687,0.003831428421620323,0.003902380799798477,0.003973333177976631,0.004044285556154785,0.00411523793433294,0.004186190312511094,0.004257142690689247,0.004328095068867402,0.004399047447045556,0.00446999982522371,0.004540952203401864,0.0046119045815800185,0.004682856959758172,0.004753809337936327,0.0048247617161144805,0.004895714094292635,0.004966666472470789,0.005037618850648943,0.005108571228827097,0.006723308428428389],\"y\":[0.0002499999999999998,0.0002499999999999998,0.00025167901969208725,0.00025672740595581237,0.00026517952590968813,0.0002770939743168175,0.0002925556611754925,0.0003116789784227197,0.0003346123352549852,0.0003615445120655437,0.0003927135296850554,0.0004284191273000279,0.00046904060808526465,0.000515062979563555,0.000567116470139156,0.0006260387168370146,0.0006929777642147516,0.0007695742925130766,0.0008583135927245758,0.0009632940511220216,0.0010922467247196895,0.0012638888888888877,0.0017101585157288056,0.0020454354670827422,0.0023183846589161015,0.002549106839466001,0.002748257813041644,0.0029222993362237595,0.003075497177638193,0.003210836253134757,0.003330494418978311,0.003436110269019927,0.0035289448228188547,0.0036099842686295857,0.0036800079283370373,0.0037396346561009283,0.0037893552809437183,0.0038295556667762736,0.00386053323263481,0.0038825087445148875,0.0038956345488005725,0.0039,0.0038956345488005725,0.0038825087445148875,0.00386053323263481,0.0038295556667762736,0.0037893552809437183,0.0037396346561009283,0.0036800079283370373,0.0036099842686295857,0.0035289448228188547,0.003436110269019927,0.003330494418978311,0.003210836253134757,0.003075497177638193,0.0029222993362237595,0.002748257813041644,0.002549106839466001,0.0023183846589161015,0.0020454354670827422,0.0017101585157288056,0.0012638888888888877,0.0010922467247196895,0.0009632940511220216,0.0008583135927245758,0.0007695742925130766,0.0006929777642147516,0.0006260387168370146,0.000567116470139156,0.000515062979563555,0.00046904060808526465,0.0004284191273000279,0.0003927135296850554,0.0003615445120655437,0.0003346123352549852,0.0003116789784227197,0.0002925556611754925,0.0002770939743168175,0.00026517952590968813,0.00025672740595581237,0.00025167901969208725,0.0002499999999999998,0.0002499999999999998],\"type\":\"scatter\"},{\"line\":{\"color\":\"black\"},\"mode\":\"lines\",\"name\":\"roll surface\",\"showlegend\":false,\"x\":[0.006723308428428389,0.005108571228827097,0.005037618850648943,0.004966666472470789,0.004895714094292635,0.0048247617161144805,0.004753809337936327,0.004682856959758172,0.0046119045815800185,0.004540952203401864,0.00446999982522371,0.004399047447045556,0.004328095068867402,0.004257142690689247,0.004186190312511094,0.00411523793433294,0.004044285556154785,0.003973333177976631,0.003902380799798477,0.003831428421620323,0.0037604760434421687,0.003689523665264015,0.003505047482000814,0.0033205712987376137,0.003136095115474413,0.002951618932211212,0.0027671427489480115,0.0025826665656848106,0.0023981903824216097,0.002213714199158409,0.0020292380158952084,0.0018447618326320075,0.0016602856493688066,0.0014758094661056062,0.0012913332828424053,0.0011068570995792044,0.000922380916316004,0.0007379047330528031,0.0005534285497896022,0.00036895236652640176,0.00018447618326320088,0.0,-0.00018447618326320088,-0.00036895236652640176,-0.0005534285497896022,-0.0007379047330528031,-0.000922380916316004,-0.0011068570995792044,-0.0012913332828424053,-0.0014758094661056062,-0.0016602856493688066,-0.0018447618326320075,-0.0020292380158952084,-0.002213714199158409,-0.0023981903824216097,-0.0025826665656848106,-0.0027671427489480115,-0.002951618932211212,-0.003136095115474413,-0.0033205712987376137,-0.003505047482000814,-0.003689523665264015,-0.0037604760434421687,-0.003831428421620323,-0.003902380799798477,-0.003973333177976631,-0.004044285556154785,-0.00411523793433294,-0.004186190312511094,-0.004257142690689247,-0.004328095068867402,-0.004399047447045556,-0.00446999982522371,-0.004540952203401864,-0.0046119045815800185,-0.004682856959758172,-0.004753809337936327,-0.0048247617161144805,-0.004895714094292635,-0.004966666472470789,-0.005037618850648943,-0.005108571228827097,-0.006723308428428389],\"y\":[-0.0002499999999999998,-0.0002499999999999998,-0.00025167901969208725,-0.00025672740595581237,-0.00026517952590968813,-0.0002770939743168175,-0.0002925556611754925,-0.0003116789784227197,-0.0003346123352549852,-0.0003615445120655437,-0.0003927135296850554,-0.0004284191273000279,-0.00046904060808526465,-0.000515062979563555,-0.000567116470139156,-0.0006260387168370146,-0.0006929777642147516,-0.0007695742925130766,-0.0008583135927245758,-0.0009632940511220216,-0.0010922467247196895,-0.0012638888888888877,-0.0017101585157288056,-0.0020454354670827422,-0.0023183846589161015,-0.002549106839466001,-0.002748257813041644,-0.0029222993362237595,-0.003075497177638193,-0.003210836253134757,-0.003330494418978311,-0.003436110269019927,-0.0035289448228188547,-0.0036099842686295857,-0.0036800079283370373,-0.0037396346561009283,-0.0037893552809437183,-0.0038295556667762736,-0.00386053323263481,-0.0038825087445148875,-0.0038956345488005725,-0.0039,-0.0038956345488005725,-0.0038825087445148875,-0.00386053323263481,-0.0038295556667762736,-0.0037893552809437183,-0.0037396346561009283,-0.0036800079283370373,-0.0036099842686295857,-0.0035289448228188547,-0.003436110269019927,-0.003330494418978311,-0.003210836253134757,-0.003075497177638193,-0.0029222993362237595,-0.002748257813041644,-0.002549106839466001,-0.0023183846589161015,-0.0020454354670827422,-0.0017101585157288056,-0.0012638888888888877,-0.0010922467247196895,-0.0009632940511220216,-0.0008583135927245758,-0.0007695742925130766,-0.0006929777642147516,-0.0006260387168370146,-0.000567116470139156,-0.000515062979563555,-0.00046904060808526465,-0.0004284191273000279,-0.0003927135296850554,-0.0003615445120655437,-0.0003346123352549852,-0.0003116789784227197,-0.0002925556611754925,-0.0002770939743168175,-0.00026517952590968813,-0.00025672740595581237,-0.00025167901969208725,-0.0002499999999999998,-0.0002499999999999998],\"type\":\"scatter\"}],                        {\"height\":480,\"template\":{\"data\":{\"barpolar\":[{\"marker\":{\"line\":{\"color\":\"white\",\"width\":0.5},\"pattern\":{\"fillmode\":\"overlay\",\"size\":10,\"solidity\":0.2}},\"type\":\"barpolar\"}],\"bar\":[{\"error_x\":{\"color\":\"rgb(36,36,36)\"},\"error_y\":{\"color\":\"rgb(36,36,36)\"},\"marker\":{\"line\":{\"color\":\"white\",\"width\":0.5},\"pattern\":{\"fillmode\":\"overlay\",\"size\":10,\"solidity\":0.2}},\"type\":\"bar\"}],\"carpet\":[{\"aaxis\":{\"endlinecolor\":\"rgb(36,36,36)\",\"gridcolor\":\"white\",\"linecolor\":\"white\",\"minorgridcolor\":\"white\",\"startlinecolor\":\"rgb(36,36,36)\"},\"baxis\":{\"endlinecolor\":\"rgb(36,36,36)\",\"gridcolor\":\"white\",\"linecolor\":\"white\",\"minorgridcolor\":\"white\",\"startlinecolor\":\"rgb(36,36,36)\"},\"type\":\"carpet\"}],\"choropleth\":[{\"colorbar\":{\"outlinewidth\":1,\"tickcolor\":\"rgb(36,36,36)\",\"ticks\":\"outside\"},\"type\":\"choropleth\"}],\"contourcarpet\":[{\"colorbar\":{\"outlinewidth\":1,\"tickcolor\":\"rgb(36,36,36)\",\"ticks\":\"outside\"},\"type\":\"contourcarpet\"}],\"contour\":[{\"colorbar\":{\"outlinewidth\":1,\"tickcolor\":\"rgb(36,36,36)\",\"ticks\":\"outside\"},\"colorscale\":[[0.0,\"#440154\"],[0.1111111111111111,\"#482878\"],[0.2222222222222222,\"#3e4989\"],[0.3333333333333333,\"#31688e\"],[0.4444444444444444,\"#26828e\"],[0.5555555555555556,\"#1f9e89\"],[0.6666666666666666,\"#35b779\"],[0.7777777777777778,\"#6ece58\"],[0.8888888888888888,\"#b5de2b\"],[1.0,\"#fde725\"]],\"type\":\"contour\"}],\"heatmapgl\":[{\"colorbar\":{\"outlinewidth\":1,\"tickcolor\":\"rgb(36,36,36)\",\"ticks\":\"outside\"},\"colorscale\":[[0.0,\"#440154\"],[0.1111111111111111,\"#482878\"],[0.2222222222222222,\"#3e4989\"],[0.3333333333333333,\"#31688e\"],[0.4444444444444444,\"#26828e\"],[0.5555555555555556,\"#1f9e89\"],[0.6666666666666666,\"#35b779\"],[0.7777777777777778,\"#6ece58\"],[0.8888888888888888,\"#b5de2b\"],[1.0,\"#fde725\"]],\"type\":\"heatmapgl\"}],\"heatmap\":[{\"colorbar\":{\"outlinewidth\":1,\"tickcolor\":\"rgb(36,36,36)\",\"ticks\":\"outside\"},\"colorscale\":[[0.0,\"#440154\"],[0.1111111111111111,\"#482878\"],[0.2222222222222222,\"#3e4989\"],[0.3333333333333333,\"#31688e\"],[0.4444444444444444,\"#26828e\"],[0.5555555555555556,\"#1f9e89\"],[0.6666666666666666,\"#35b779\"],[0.7777777777777778,\"#6ece58\"],[0.8888888888888888,\"#b5de2b\"],[1.0,\"#fde725\"]],\"type\":\"heatmap\"}],\"histogram2dcontour\":[{\"colorbar\":{\"outlinewidth\":1,\"tickcolor\":\"rgb(36,36,36)\",\"ticks\":\"outside\"},\"colorscale\":[[0.0,\"#440154\"],[0.1111111111111111,\"#482878\"],[0.2222222222222222,\"#3e4989\"],[0.3333333333333333,\"#31688e\"],[0.4444444444444444,\"#26828e\"],[0.5555555555555556,\"#1f9e89\"],[0.6666666666666666,\"#35b779\"],[0.7777777777777778,\"#6ece58\"],[0.8888888888888888,\"#b5de2b\"],[1.0,\"#fde725\"]],\"type\":\"histogram2dcontour\"}],\"histogram2d\":[{\"colorbar\":{\"outlinewidth\":1,\"tickcolor\":\"rgb(36,36,36)\",\"ticks\":\"outside\"},\"colorscale\":[[0.0,\"#440154\"],[0.1111111111111111,\"#482878\"],[0.2222222222222222,\"#3e4989\"],[0.3333333333333333,\"#31688e\"],[0.4444444444444444,\"#26828e\"],[0.5555555555555556,\"#1f9e89\"],[0.6666666666666666,\"#35b779\"],[0.7777777777777778,\"#6ece58\"],[0.8888888888888888,\"#b5de2b\"],[1.0,\"#fde725\"]],\"type\":\"histogram2d\"}],\"histogram\":[{\"marker\":{\"line\":{\"color\":\"white\",\"width\":0.6}},\"type\":\"histogram\"}],\"mesh3d\":[{\"colorbar\":{\"outlinewidth\":1,\"tickcolor\":\"rgb(36,36,36)\",\"ticks\":\"outside\"},\"type\":\"mesh3d\"}],\"parcoords\":[{\"line\":{\"colorbar\":{\"outlinewidth\":1,\"tickcolor\":\"rgb(36,36,36)\",\"ticks\":\"outside\"}},\"type\":\"parcoords\"}],\"pie\":[{\"automargin\":true,\"type\":\"pie\"}],\"scatter3d\":[{\"line\":{\"colorbar\":{\"outlinewidth\":1,\"tickcolor\":\"rgb(36,36,36)\",\"ticks\":\"outside\"}},\"marker\":{\"colorbar\":{\"outlinewidth\":1,\"tickcolor\":\"rgb(36,36,36)\",\"ticks\":\"outside\"}},\"type\":\"scatter3d\"}],\"scattercarpet\":[{\"marker\":{\"colorbar\":{\"outlinewidth\":1,\"tickcolor\":\"rgb(36,36,36)\",\"ticks\":\"outside\"}},\"type\":\"scattercarpet\"}],\"scattergeo\":[{\"marker\":{\"colorbar\":{\"outlinewidth\":1,\"tickcolor\":\"rgb(36,36,36)\",\"ticks\":\"outside\"}},\"type\":\"scattergeo\"}],\"scattergl\":[{\"marker\":{\"colorbar\":{\"outlinewidth\":1,\"tickcolor\":\"rgb(36,36,36)\",\"ticks\":\"outside\"}},\"type\":\"scattergl\"}],\"scattermapbox\":[{\"marker\":{\"colorbar\":{\"outlinewidth\":1,\"tickcolor\":\"rgb(36,36,36)\",\"ticks\":\"outside\"}},\"type\":\"scattermapbox\"}],\"scatterpolargl\":[{\"marker\":{\"colorbar\":{\"outlinewidth\":1,\"tickcolor\":\"rgb(36,36,36)\",\"ticks\":\"outside\"}},\"type\":\"scatterpolargl\"}],\"scatterpolar\":[{\"marker\":{\"colorbar\":{\"outlinewidth\":1,\"tickcolor\":\"rgb(36,36,36)\",\"ticks\":\"outside\"}},\"type\":\"scatterpolar\"}],\"scatter\":[{\"fillpattern\":{\"fillmode\":\"overlay\",\"size\":10,\"solidity\":0.2},\"type\":\"scatter\"}],\"scatterternary\":[{\"marker\":{\"colorbar\":{\"outlinewidth\":1,\"tickcolor\":\"rgb(36,36,36)\",\"ticks\":\"outside\"}},\"type\":\"scatterternary\"}],\"surface\":[{\"colorbar\":{\"outlinewidth\":1,\"tickcolor\":\"rgb(36,36,36)\",\"ticks\":\"outside\"},\"colorscale\":[[0.0,\"#440154\"],[0.1111111111111111,\"#482878\"],[0.2222222222222222,\"#3e4989\"],[0.3333333333333333,\"#31688e\"],[0.4444444444444444,\"#26828e\"],[0.5555555555555556,\"#1f9e89\"],[0.6666666666666666,\"#35b779\"],[0.7777777777777778,\"#6ece58\"],[0.8888888888888888,\"#b5de2b\"],[1.0,\"#fde725\"]],\"type\":\"surface\"}],\"table\":[{\"cells\":{\"fill\":{\"color\":\"rgb(237,237,237)\"},\"line\":{\"color\":\"white\"}},\"header\":{\"fill\":{\"color\":\"rgb(217,217,217)\"},\"line\":{\"color\":\"white\"}},\"type\":\"table\"}]},\"layout\":{\"annotationdefaults\":{\"arrowhead\":0,\"arrowwidth\":1},\"autotypenumbers\":\"strict\",\"coloraxis\":{\"colorbar\":{\"outlinewidth\":1,\"tickcolor\":\"rgb(36,36,36)\",\"ticks\":\"outside\"}},\"colorscale\":{\"diverging\":[[0.0,\"rgb(103,0,31)\"],[0.1,\"rgb(178,24,43)\"],[0.2,\"rgb(214,96,77)\"],[0.3,\"rgb(244,165,130)\"],[0.4,\"rgb(253,219,199)\"],[0.5,\"rgb(247,247,247)\"],[0.6,\"rgb(209,229,240)\"],[0.7,\"rgb(146,197,222)\"],[0.8,\"rgb(67,147,195)\"],[0.9,\"rgb(33,102,172)\"],[1.0,\"rgb(5,48,97)\"]],\"sequential\":[[0.0,\"#440154\"],[0.1111111111111111,\"#482878\"],[0.2222222222222222,\"#3e4989\"],[0.3333333333333333,\"#31688e\"],[0.4444444444444444,\"#26828e\"],[0.5555555555555556,\"#1f9e89\"],[0.6666666666666666,\"#35b779\"],[0.7777777777777778,\"#6ece58\"],[0.8888888888888888,\"#b5de2b\"],[1.0,\"#fde725\"]],\"sequentialminus\":[[0.0,\"#440154\"],[0.1111111111111111,\"#482878\"],[0.2222222222222222,\"#3e4989\"],[0.3333333333333333,\"#31688e\"],[0.4444444444444444,\"#26828e\"],[0.5555555555555556,\"#1f9e89\"],[0.6666666666666666,\"#35b779\"],[0.7777777777777778,\"#6ece58\"],[0.8888888888888888,\"#b5de2b\"],[1.0,\"#fde725\"]]},\"colorway\":[\"#1F77B4\",\"#FF7F0E\",\"#2CA02C\",\"#D62728\",\"#9467BD\",\"#8C564B\",\"#E377C2\",\"#7F7F7F\",\"#BCBD22\",\"#17BECF\"],\"font\":{\"color\":\"rgb(36,36,36)\"},\"geo\":{\"bgcolor\":\"white\",\"lakecolor\":\"white\",\"landcolor\":\"white\",\"showlakes\":true,\"showland\":true,\"subunitcolor\":\"white\"},\"hoverlabel\":{\"align\":\"left\"},\"hovermode\":\"closest\",\"mapbox\":{\"style\":\"light\"},\"paper_bgcolor\":\"white\",\"plot_bgcolor\":\"white\",\"polar\":{\"angularaxis\":{\"gridcolor\":\"rgb(232,232,232)\",\"linecolor\":\"rgb(36,36,36)\",\"showgrid\":false,\"showline\":true,\"ticks\":\"outside\"},\"bgcolor\":\"white\",\"radialaxis\":{\"gridcolor\":\"rgb(232,232,232)\",\"linecolor\":\"rgb(36,36,36)\",\"showgrid\":false,\"showline\":true,\"ticks\":\"outside\"}},\"scene\":{\"xaxis\":{\"backgroundcolor\":\"white\",\"gridcolor\":\"rgb(232,232,232)\",\"gridwidth\":2,\"linecolor\":\"rgb(36,36,36)\",\"showbackground\":true,\"showgrid\":false,\"showline\":true,\"ticks\":\"outside\",\"zeroline\":false,\"zerolinecolor\":\"rgb(36,36,36)\"},\"yaxis\":{\"backgroundcolor\":\"white\",\"gridcolor\":\"rgb(232,232,232)\",\"gridwidth\":2,\"linecolor\":\"rgb(36,36,36)\",\"showbackground\":true,\"showgrid\":false,\"showline\":true,\"ticks\":\"outside\",\"zeroline\":false,\"zerolinecolor\":\"rgb(36,36,36)\"},\"zaxis\":{\"backgroundcolor\":\"white\",\"gridcolor\":\"rgb(232,232,232)\",\"gridwidth\":2,\"linecolor\":\"rgb(36,36,36)\",\"showbackground\":true,\"showgrid\":false,\"showline\":true,\"ticks\":\"outside\",\"zeroline\":false,\"zerolinecolor\":\"rgb(36,36,36)\"}},\"shapedefaults\":{\"fillcolor\":\"black\",\"line\":{\"width\":0},\"opacity\":0.3},\"ternary\":{\"aaxis\":{\"gridcolor\":\"rgb(232,232,232)\",\"linecolor\":\"rgb(36,36,36)\",\"showgrid\":false,\"showline\":true,\"ticks\":\"outside\"},\"baxis\":{\"gridcolor\":\"rgb(232,232,232)\",\"linecolor\":\"rgb(36,36,36)\",\"showgrid\":false,\"showline\":true,\"ticks\":\"outside\"},\"bgcolor\":\"white\",\"caxis\":{\"gridcolor\":\"rgb(232,232,232)\",\"linecolor\":\"rgb(36,36,36)\",\"showgrid\":false,\"showline\":true,\"ticks\":\"outside\"}},\"title\":{\"x\":0.05},\"xaxis\":{\"automargin\":true,\"gridcolor\":\"rgb(232,232,232)\",\"linecolor\":\"rgb(36,36,36)\",\"showgrid\":false,\"showline\":true,\"ticks\":\"outside\",\"title\":{\"standoff\":15},\"zeroline\":false,\"zerolinecolor\":\"rgb(36,36,36)\"},\"yaxis\":{\"automargin\":true,\"gridcolor\":\"rgb(232,232,232)\",\"linecolor\":\"rgb(36,36,36)\",\"showgrid\":false,\"showline\":true,\"ticks\":\"outside\",\"title\":{\"standoff\":15},\"zeroline\":false,\"zerolinecolor\":\"rgb(36,36,36)\"}}},\"title\":{\"text\":\"Roll Pass 'Fertigrund XVIa'\"},\"width\":640,\"xaxis\":{\"title\":{\"text\":\"z\"}},\"yaxis\":{\"scaleanchor\":\"x\",\"scaleratio\":1,\"title\":{\"text\":\"y\"}}},                        {\"responsive\": true}                    ).then(function(){\n",
       "                            \n",
       "var gd = document.getElementById('28424b87-330d-4824-9113-8686023f1d8e');\n",
       "var x = new MutationObserver(function (mutations, observer) {{\n",
       "        var display = window.getComputedStyle(gd).display;\n",
       "        if (!display || display === 'none') {{\n",
       "            console.log([gd, 'removed!']);\n",
       "            Plotly.purge(gd);\n",
       "            observer.disconnect();\n",
       "        }}\n",
       "}});\n",
       "\n",
       "// Listen for the removal of the full notebook cells\n",
       "var notebookContainer = gd.closest('#notebook-container');\n",
       "if (notebookContainer) {{\n",
       "    x.observe(notebookContainer, {childList: true});\n",
       "}}\n",
       "\n",
       "// Listen for the clearing of the current output cell\n",
       "var outputEl = gd.closest('.output');\n",
       "if (outputEl) {{\n",
       "    x.observe(outputEl, {childList: true});\n",
       "}}\n",
       "\n",
       "                        })                };                });            </script>        </div>"
      ]
     },
     "metadata": {},
     "output_type": "display_data"
    }
   ],
   "execution_count": 52
  },
  {
   "cell_type": "code",
   "id": "acf1f049ccd31c24",
   "metadata": {
    "collapsed": false,
    "jupyter": {
     "outputs_hidden": false
    },
    "ExecuteTime": {
     "end_time": "2025-01-14T12:45:28.354117Z",
     "start_time": "2025-01-14T12:45:28.350638Z"
    }
   },
   "source": [
    "from pyroll.export.convert import _to_dict, _flatten_dict\n",
    "def to_pandas_replacement(sequence: Sequence[Unit]) -> pd.DataFrame:\n",
    "    \"\"\"\n",
    "    Exports a PyRolL PassSequence object to a pandas ``DataFrame``.\n",
    "    Uses a flattened version of the result of ``to_dict()``.\n",
    "    \"\"\"\n",
    "    df_full = pd.DataFrame([\n",
    "        _flatten_dict(_to_dict(u)) for u in sequence\n",
    "    ])\n",
    "    df_full.sort_index(axis=\"columns\", inplace=True)\n",
    "    return df_full"
   ],
   "outputs": [],
   "execution_count": 53
  },
  {
   "cell_type": "code",
   "id": "b6711e89aaa97e28",
   "metadata": {
    "ExecuteTime": {
     "end_time": "2025-01-14T12:45:29.143692Z",
     "start_time": "2025-01-14T12:45:28.973012Z"
    }
   },
   "source": [
    "df = to_pandas_replacement(sequence)\n",
    "df"
   ],
   "outputs": [
    {
     "data": {
      "text/plain": [
       "    abs_draught  back_tension  bite_angle  \\\n",
       "0     -0.013841           0.0    0.348562   \n",
       "1           NaN           NaN         NaN   \n",
       "2     -0.011648           0.0    0.282470   \n",
       "3           NaN           NaN         NaN   \n",
       "4     -0.008692           0.0    0.301652   \n",
       "5           NaN           NaN         NaN   \n",
       "6     -0.008539           0.0    0.237878   \n",
       "7           NaN           NaN         NaN   \n",
       "8     -0.006527           0.0    0.270564   \n",
       "9           NaN           NaN         NaN   \n",
       "10    -0.007665           0.0    0.234205   \n",
       "11          NaN           NaN         NaN   \n",
       "12    -0.004220           0.0    0.205541   \n",
       "13          NaN           NaN         NaN   \n",
       "14    -0.003924           0.0    0.157259   \n",
       "15          NaN           NaN         NaN   \n",
       "16    -0.003278           0.0    0.197594   \n",
       "17          NaN           NaN         NaN   \n",
       "18    -0.003344           0.0    0.155278   \n",
       "19          NaN           NaN         NaN   \n",
       "20    -0.002933           0.0    0.184650   \n",
       "21          NaN           NaN         NaN   \n",
       "22    -0.002934           0.0    0.157145   \n",
       "\n",
       "                                          classifiers  contact_area  \\\n",
       "0   [symmetric, oval, circular_oval, generic_elong...      0.003700   \n",
       "1                                                 NaN           NaN   \n",
       "2    [diamond, symmetric, generic_elongation, square]      0.001346   \n",
       "3                                                 NaN           NaN   \n",
       "4   [symmetric, oval, circular_oval, generic_elong...      0.002439   \n",
       "5                                                 NaN           NaN   \n",
       "6    [diamond, symmetric, generic_elongation, square]      0.000882   \n",
       "7                                                 NaN           NaN   \n",
       "8   [symmetric, oval, circular_oval, generic_elong...      0.001541   \n",
       "9                                                 NaN           NaN   \n",
       "10   [diamond, symmetric, generic_elongation, square]      0.000598   \n",
       "11                                                NaN           NaN   \n",
       "12  [symmetric, oval, circular_oval, generic_elong...      0.000808   \n",
       "13                                                NaN           NaN   \n",
       "14   [diamond, symmetric, generic_elongation, square]      0.000316   \n",
       "15                                                NaN           NaN   \n",
       "16  [symmetric, oval, circular_oval, generic_elong...      0.000661   \n",
       "17                                                NaN           NaN   \n",
       "18   [diamond, symmetric, generic_elongation, square]      0.000245   \n",
       "19                                                NaN           NaN   \n",
       "20  [symmetric, oval, circular_oval, generic_elong...      0.000485   \n",
       "21                                                NaN           NaN   \n",
       "22             [symmetric, round, generic_elongation]      0.000193   \n",
       "\n",
       "                                 contour_lines_coords  contour_lines_height  \\\n",
       "0   [[-0.03583173090990724, 0.0016015892683964668]...              0.017703   \n",
       "1                                                 NaN                   NaN   \n",
       "2   [[-0.023210037227734376, 0.0014999999999999996...              0.029010   \n",
       "3                                                 NaN                   NaN   \n",
       "4   [[-0.026510212098303156, 0.0015856928381784454...              0.013271   \n",
       "5                                                 NaN                   NaN   \n",
       "6   [[-0.01712580662215131, 0.0014999999999999996]...              0.021781   \n",
       "7                                                 NaN                   NaN   \n",
       "8   [[-0.02189104061731336, 0.0005695200926989803]...              0.009999   \n",
       "9                                                 NaN                   NaN   \n",
       "10  [[-0.01218242712474619, 0.00037499999999999947...              0.016142   \n",
       "11                                                NaN                   NaN   \n",
       "12  [[-0.01644988123876536, 0.0005460894486130954]...              0.008152   \n",
       "13                                                NaN                   NaN   \n",
       "14  [[-0.01114724344186865, 0.00037500000000000033...              0.012531   \n",
       "15                                                NaN                   NaN   \n",
       "16  [[-0.012788310082940919, 0.0005479599692669606...              0.006496   \n",
       "17                                                NaN                   NaN   \n",
       "18  [[-0.009003151141499629, 0.0003750000000000003...              0.010162   \n",
       "19                                                NaN                   NaN   \n",
       "20  [[-0.01086772137273662, 0.0002948821293424915]...              0.004910   \n",
       "21                                                NaN                   NaN   \n",
       "22  [[-0.006723308428428389, 0.0002499999999999998...              0.007800   \n",
       "\n",
       "    contour_lines_length  contour_lines_width  \\\n",
       "0               0.148619             0.071663   \n",
       "1                    NaN                  NaN   \n",
       "2               0.112508             0.046420   \n",
       "3                    NaN                  NaN   \n",
       "4               0.109488             0.053020   \n",
       "5                    NaN                  NaN   \n",
       "6               0.082552             0.034252   \n",
       "7                    NaN                  NaN   \n",
       "8               0.090763             0.043782   \n",
       "9                    NaN                  NaN   \n",
       "10              0.060964             0.024365   \n",
       "11                   NaN                  NaN   \n",
       "12              0.068468             0.032900   \n",
       "13                   NaN                  NaN   \n",
       "14              0.053250             0.022294   \n",
       "15                   NaN                  NaN   \n",
       "16              0.053158             0.025577   \n",
       "17                   NaN                  NaN   \n",
       "18              0.042917             0.018006   \n",
       "19                   NaN                  NaN   \n",
       "20              0.044990             0.021735   \n",
       "21                   NaN                  NaN   \n",
       "22              0.033254             0.013447   \n",
       "\n",
       "                                      contour_lines_x  ...    volume  \\\n",
       "0   [-0.03583173090990724, -0.026070817018267762, ...  ...  0.000037   \n",
       "1                                                 NaN  ...       NaN   \n",
       "2   [-0.023210037227734376, -0.017282037227734377,...  ...  0.000021   \n",
       "3                                                 NaN  ...       NaN   \n",
       "4   [-0.026510212098303156, -0.019455012207654873,...  ...  0.000018   \n",
       "5                                                 NaN  ...       NaN   \n",
       "6   [-0.01712580662215131, -0.01281780662215131, -...  ...  0.000010   \n",
       "7                                                 NaN  ...       NaN   \n",
       "8   [-0.02189104061731336, -0.016107920412020915, ...  ...  0.000008   \n",
       "9                                                 NaN  ...       NaN   \n",
       "10  [-0.01218242712474619, -0.00893842712474619, -...  ...  0.000005   \n",
       "11                                                NaN  ...       NaN   \n",
       "12  [-0.01644988123876536, -0.012244145539807993, ...  ...  0.000004   \n",
       "13                                                NaN  ...       NaN   \n",
       "14  [-0.01114724344186865, -0.00843124344186865, -...  ...  0.000002   \n",
       "15                                                NaN  ...       NaN   \n",
       "16  [-0.012788310082940919, -0.009538867857350785,...  ...  0.000002   \n",
       "17                                                NaN  ...       NaN   \n",
       "18  [-0.009003151141499629, -0.0068571511414996286...  ...  0.000001   \n",
       "19                                                NaN  ...       NaN   \n",
       "20  [-0.01086772137273662, -0.008068605827526835, ...  ...  0.000001   \n",
       "21                                                NaN  ...       NaN   \n",
       "22  [-0.006723308428428389, -0.005108571228827097,...  ...  0.000001   \n",
       "\n",
       "   wusatowski_exponent  wusatowski_friction_coefficient  \\\n",
       "0             0.446932                              1.0   \n",
       "1                  NaN                              NaN   \n",
       "2             0.649132                              1.0   \n",
       "3                  NaN                              NaN   \n",
       "4             0.489679                              1.0   \n",
       "5                  NaN                              NaN   \n",
       "6             0.692684                              1.0   \n",
       "7                  NaN                              NaN   \n",
       "8             0.528569                              1.0   \n",
       "9                  NaN                              NaN   \n",
       "10            0.710023                              1.0   \n",
       "11                 NaN                              NaN   \n",
       "12            0.605901                              1.0   \n",
       "13                 NaN                              NaN   \n",
       "14            0.723624                              1.0   \n",
       "15                 NaN                              NaN   \n",
       "16            0.625087                              1.0   \n",
       "17                 NaN                              NaN   \n",
       "18            0.755674                              1.0   \n",
       "19                 NaN                              NaN   \n",
       "20            0.650417                              1.0   \n",
       "21                 NaN                              NaN   \n",
       "22            0.806494                              1.0   \n",
       "\n",
       "    wusatowski_material_coefficient  wusatowski_temperature_coefficient  \\\n",
       "0                               1.0                                 1.0   \n",
       "1                               NaN                                 NaN   \n",
       "2                               1.0                                 1.0   \n",
       "3                               NaN                                 NaN   \n",
       "4                               1.0                                 1.0   \n",
       "5                               NaN                                 NaN   \n",
       "6                               1.0                                 1.0   \n",
       "7                               NaN                                 NaN   \n",
       "8                               1.0                                 1.0   \n",
       "9                               NaN                                 NaN   \n",
       "10                              1.0                                 1.0   \n",
       "11                              NaN                                 NaN   \n",
       "12                              1.0                                 1.0   \n",
       "13                              NaN                                 NaN   \n",
       "14                              1.0                                 1.0   \n",
       "15                              NaN                                 NaN   \n",
       "16                              1.0                                 1.0   \n",
       "17                              NaN                                 NaN   \n",
       "18                              1.0                                 1.0   \n",
       "19                              NaN                                 NaN   \n",
       "20                              1.0                                 1.0   \n",
       "21                              NaN                                 NaN   \n",
       "22                              1.0                                 1.0   \n",
       "\n",
       "    wusatowski_velocity_coefficient  zouhar_contact_c1  zouhar_contact_c2  \\\n",
       "0                          1.014738               0.82                0.2   \n",
       "1                               NaN                NaN                NaN   \n",
       "2                          1.000937               1.00                0.1   \n",
       "3                               NaN                NaN                NaN   \n",
       "4                          1.010452               0.82                0.2   \n",
       "5                               NaN                NaN                NaN   \n",
       "6                          1.000371               1.00                0.1   \n",
       "7                               NaN                NaN                NaN   \n",
       "8                          1.010296               0.82                0.2   \n",
       "9                               NaN                NaN                NaN   \n",
       "10                         1.006743               1.00                0.1   \n",
       "11                              NaN                NaN                NaN   \n",
       "12                         1.004373               0.82                0.2   \n",
       "13                              NaN                NaN                NaN   \n",
       "14                         0.995768               1.00                0.1   \n",
       "15                              NaN                NaN                NaN   \n",
       "16                         1.004135               0.82                0.2   \n",
       "17                              NaN                NaN                NaN   \n",
       "18                         0.996670               1.00                0.1   \n",
       "19                              NaN                NaN                NaN   \n",
       "20                         1.007918               0.82                0.2   \n",
       "21                              NaN                NaN                NaN   \n",
       "22                         0.996334               1.00                0.0   \n",
       "\n",
       "   zouhar_contact_c3  zouhar_contact_in_width  \n",
       "0               1.02                 0.030476  \n",
       "1                NaN                      NaN  \n",
       "2               1.00                 0.007743  \n",
       "3                NaN                      NaN  \n",
       "4               1.02                 0.023018  \n",
       "5                NaN                      NaN  \n",
       "6               1.00                 0.005835  \n",
       "7                NaN                      NaN  \n",
       "8               1.02                 0.017306  \n",
       "9                NaN                      NaN  \n",
       "10              1.00                 0.004344  \n",
       "11               NaN                      NaN  \n",
       "12              1.02                 0.012000  \n",
       "13               NaN                      NaN  \n",
       "14              1.00                 0.004239  \n",
       "15               NaN                      NaN  \n",
       "16              1.02                 0.010102  \n",
       "17               NaN                      NaN  \n",
       "18              1.00                 0.002836  \n",
       "19               NaN                      NaN  \n",
       "20              1.02                 0.008123  \n",
       "21               NaN                      NaN  \n",
       "22              1.00                 0.002077  \n",
       "\n",
       "[23 rows x 263 columns]"
      ],
      "text/html": [
       "<div>\n",
       "<style scoped>\n",
       "    .dataframe tbody tr th:only-of-type {\n",
       "        vertical-align: middle;\n",
       "    }\n",
       "\n",
       "    .dataframe tbody tr th {\n",
       "        vertical-align: top;\n",
       "    }\n",
       "\n",
       "    .dataframe thead th {\n",
       "        text-align: right;\n",
       "    }\n",
       "</style>\n",
       "<table border=\"1\" class=\"dataframe\">\n",
       "  <thead>\n",
       "    <tr style=\"text-align: right;\">\n",
       "      <th></th>\n",
       "      <th>abs_draught</th>\n",
       "      <th>back_tension</th>\n",
       "      <th>bite_angle</th>\n",
       "      <th>classifiers</th>\n",
       "      <th>contact_area</th>\n",
       "      <th>contour_lines_coords</th>\n",
       "      <th>contour_lines_height</th>\n",
       "      <th>contour_lines_length</th>\n",
       "      <th>contour_lines_width</th>\n",
       "      <th>contour_lines_x</th>\n",
       "      <th>...</th>\n",
       "      <th>volume</th>\n",
       "      <th>wusatowski_exponent</th>\n",
       "      <th>wusatowski_friction_coefficient</th>\n",
       "      <th>wusatowski_material_coefficient</th>\n",
       "      <th>wusatowski_temperature_coefficient</th>\n",
       "      <th>wusatowski_velocity_coefficient</th>\n",
       "      <th>zouhar_contact_c1</th>\n",
       "      <th>zouhar_contact_c2</th>\n",
       "      <th>zouhar_contact_c3</th>\n",
       "      <th>zouhar_contact_in_width</th>\n",
       "    </tr>\n",
       "  </thead>\n",
       "  <tbody>\n",
       "    <tr>\n",
       "      <th>0</th>\n",
       "      <td>-0.013841</td>\n",
       "      <td>0.0</td>\n",
       "      <td>0.348562</td>\n",
       "      <td>[symmetric, oval, circular_oval, generic_elong...</td>\n",
       "      <td>0.003700</td>\n",
       "      <td>[[-0.03583173090990724, 0.0016015892683964668]...</td>\n",
       "      <td>0.017703</td>\n",
       "      <td>0.148619</td>\n",
       "      <td>0.071663</td>\n",
       "      <td>[-0.03583173090990724, -0.026070817018267762, ...</td>\n",
       "      <td>...</td>\n",
       "      <td>0.000037</td>\n",
       "      <td>0.446932</td>\n",
       "      <td>1.0</td>\n",
       "      <td>1.0</td>\n",
       "      <td>1.0</td>\n",
       "      <td>1.014738</td>\n",
       "      <td>0.82</td>\n",
       "      <td>0.2</td>\n",
       "      <td>1.02</td>\n",
       "      <td>0.030476</td>\n",
       "    </tr>\n",
       "    <tr>\n",
       "      <th>1</th>\n",
       "      <td>NaN</td>\n",
       "      <td>NaN</td>\n",
       "      <td>NaN</td>\n",
       "      <td>NaN</td>\n",
       "      <td>NaN</td>\n",
       "      <td>NaN</td>\n",
       "      <td>NaN</td>\n",
       "      <td>NaN</td>\n",
       "      <td>NaN</td>\n",
       "      <td>NaN</td>\n",
       "      <td>...</td>\n",
       "      <td>NaN</td>\n",
       "      <td>NaN</td>\n",
       "      <td>NaN</td>\n",
       "      <td>NaN</td>\n",
       "      <td>NaN</td>\n",
       "      <td>NaN</td>\n",
       "      <td>NaN</td>\n",
       "      <td>NaN</td>\n",
       "      <td>NaN</td>\n",
       "      <td>NaN</td>\n",
       "    </tr>\n",
       "    <tr>\n",
       "      <th>2</th>\n",
       "      <td>-0.011648</td>\n",
       "      <td>0.0</td>\n",
       "      <td>0.282470</td>\n",
       "      <td>[diamond, symmetric, generic_elongation, square]</td>\n",
       "      <td>0.001346</td>\n",
       "      <td>[[-0.023210037227734376, 0.0014999999999999996...</td>\n",
       "      <td>0.029010</td>\n",
       "      <td>0.112508</td>\n",
       "      <td>0.046420</td>\n",
       "      <td>[-0.023210037227734376, -0.017282037227734377,...</td>\n",
       "      <td>...</td>\n",
       "      <td>0.000021</td>\n",
       "      <td>0.649132</td>\n",
       "      <td>1.0</td>\n",
       "      <td>1.0</td>\n",
       "      <td>1.0</td>\n",
       "      <td>1.000937</td>\n",
       "      <td>1.00</td>\n",
       "      <td>0.1</td>\n",
       "      <td>1.00</td>\n",
       "      <td>0.007743</td>\n",
       "    </tr>\n",
       "    <tr>\n",
       "      <th>3</th>\n",
       "      <td>NaN</td>\n",
       "      <td>NaN</td>\n",
       "      <td>NaN</td>\n",
       "      <td>NaN</td>\n",
       "      <td>NaN</td>\n",
       "      <td>NaN</td>\n",
       "      <td>NaN</td>\n",
       "      <td>NaN</td>\n",
       "      <td>NaN</td>\n",
       "      <td>NaN</td>\n",
       "      <td>...</td>\n",
       "      <td>NaN</td>\n",
       "      <td>NaN</td>\n",
       "      <td>NaN</td>\n",
       "      <td>NaN</td>\n",
       "      <td>NaN</td>\n",
       "      <td>NaN</td>\n",
       "      <td>NaN</td>\n",
       "      <td>NaN</td>\n",
       "      <td>NaN</td>\n",
       "      <td>NaN</td>\n",
       "    </tr>\n",
       "    <tr>\n",
       "      <th>4</th>\n",
       "      <td>-0.008692</td>\n",
       "      <td>0.0</td>\n",
       "      <td>0.301652</td>\n",
       "      <td>[symmetric, oval, circular_oval, generic_elong...</td>\n",
       "      <td>0.002439</td>\n",
       "      <td>[[-0.026510212098303156, 0.0015856928381784454...</td>\n",
       "      <td>0.013271</td>\n",
       "      <td>0.109488</td>\n",
       "      <td>0.053020</td>\n",
       "      <td>[-0.026510212098303156, -0.019455012207654873,...</td>\n",
       "      <td>...</td>\n",
       "      <td>0.000018</td>\n",
       "      <td>0.489679</td>\n",
       "      <td>1.0</td>\n",
       "      <td>1.0</td>\n",
       "      <td>1.0</td>\n",
       "      <td>1.010452</td>\n",
       "      <td>0.82</td>\n",
       "      <td>0.2</td>\n",
       "      <td>1.02</td>\n",
       "      <td>0.023018</td>\n",
       "    </tr>\n",
       "    <tr>\n",
       "      <th>5</th>\n",
       "      <td>NaN</td>\n",
       "      <td>NaN</td>\n",
       "      <td>NaN</td>\n",
       "      <td>NaN</td>\n",
       "      <td>NaN</td>\n",
       "      <td>NaN</td>\n",
       "      <td>NaN</td>\n",
       "      <td>NaN</td>\n",
       "      <td>NaN</td>\n",
       "      <td>NaN</td>\n",
       "      <td>...</td>\n",
       "      <td>NaN</td>\n",
       "      <td>NaN</td>\n",
       "      <td>NaN</td>\n",
       "      <td>NaN</td>\n",
       "      <td>NaN</td>\n",
       "      <td>NaN</td>\n",
       "      <td>NaN</td>\n",
       "      <td>NaN</td>\n",
       "      <td>NaN</td>\n",
       "      <td>NaN</td>\n",
       "    </tr>\n",
       "    <tr>\n",
       "      <th>6</th>\n",
       "      <td>-0.008539</td>\n",
       "      <td>0.0</td>\n",
       "      <td>0.237878</td>\n",
       "      <td>[diamond, symmetric, generic_elongation, square]</td>\n",
       "      <td>0.000882</td>\n",
       "      <td>[[-0.01712580662215131, 0.0014999999999999996]...</td>\n",
       "      <td>0.021781</td>\n",
       "      <td>0.082552</td>\n",
       "      <td>0.034252</td>\n",
       "      <td>[-0.01712580662215131, -0.01281780662215131, -...</td>\n",
       "      <td>...</td>\n",
       "      <td>0.000010</td>\n",
       "      <td>0.692684</td>\n",
       "      <td>1.0</td>\n",
       "      <td>1.0</td>\n",
       "      <td>1.0</td>\n",
       "      <td>1.000371</td>\n",
       "      <td>1.00</td>\n",
       "      <td>0.1</td>\n",
       "      <td>1.00</td>\n",
       "      <td>0.005835</td>\n",
       "    </tr>\n",
       "    <tr>\n",
       "      <th>7</th>\n",
       "      <td>NaN</td>\n",
       "      <td>NaN</td>\n",
       "      <td>NaN</td>\n",
       "      <td>NaN</td>\n",
       "      <td>NaN</td>\n",
       "      <td>NaN</td>\n",
       "      <td>NaN</td>\n",
       "      <td>NaN</td>\n",
       "      <td>NaN</td>\n",
       "      <td>NaN</td>\n",
       "      <td>...</td>\n",
       "      <td>NaN</td>\n",
       "      <td>NaN</td>\n",
       "      <td>NaN</td>\n",
       "      <td>NaN</td>\n",
       "      <td>NaN</td>\n",
       "      <td>NaN</td>\n",
       "      <td>NaN</td>\n",
       "      <td>NaN</td>\n",
       "      <td>NaN</td>\n",
       "      <td>NaN</td>\n",
       "    </tr>\n",
       "    <tr>\n",
       "      <th>8</th>\n",
       "      <td>-0.006527</td>\n",
       "      <td>0.0</td>\n",
       "      <td>0.270564</td>\n",
       "      <td>[symmetric, oval, circular_oval, generic_elong...</td>\n",
       "      <td>0.001541</td>\n",
       "      <td>[[-0.02189104061731336, 0.0005695200926989803]...</td>\n",
       "      <td>0.009999</td>\n",
       "      <td>0.090763</td>\n",
       "      <td>0.043782</td>\n",
       "      <td>[-0.02189104061731336, -0.016107920412020915, ...</td>\n",
       "      <td>...</td>\n",
       "      <td>0.000008</td>\n",
       "      <td>0.528569</td>\n",
       "      <td>1.0</td>\n",
       "      <td>1.0</td>\n",
       "      <td>1.0</td>\n",
       "      <td>1.010296</td>\n",
       "      <td>0.82</td>\n",
       "      <td>0.2</td>\n",
       "      <td>1.02</td>\n",
       "      <td>0.017306</td>\n",
       "    </tr>\n",
       "    <tr>\n",
       "      <th>9</th>\n",
       "      <td>NaN</td>\n",
       "      <td>NaN</td>\n",
       "      <td>NaN</td>\n",
       "      <td>NaN</td>\n",
       "      <td>NaN</td>\n",
       "      <td>NaN</td>\n",
       "      <td>NaN</td>\n",
       "      <td>NaN</td>\n",
       "      <td>NaN</td>\n",
       "      <td>NaN</td>\n",
       "      <td>...</td>\n",
       "      <td>NaN</td>\n",
       "      <td>NaN</td>\n",
       "      <td>NaN</td>\n",
       "      <td>NaN</td>\n",
       "      <td>NaN</td>\n",
       "      <td>NaN</td>\n",
       "      <td>NaN</td>\n",
       "      <td>NaN</td>\n",
       "      <td>NaN</td>\n",
       "      <td>NaN</td>\n",
       "    </tr>\n",
       "    <tr>\n",
       "      <th>10</th>\n",
       "      <td>-0.007665</td>\n",
       "      <td>0.0</td>\n",
       "      <td>0.234205</td>\n",
       "      <td>[diamond, symmetric, generic_elongation, square]</td>\n",
       "      <td>0.000598</td>\n",
       "      <td>[[-0.01218242712474619, 0.00037499999999999947...</td>\n",
       "      <td>0.016142</td>\n",
       "      <td>0.060964</td>\n",
       "      <td>0.024365</td>\n",
       "      <td>[-0.01218242712474619, -0.00893842712474619, -...</td>\n",
       "      <td>...</td>\n",
       "      <td>0.000005</td>\n",
       "      <td>0.710023</td>\n",
       "      <td>1.0</td>\n",
       "      <td>1.0</td>\n",
       "      <td>1.0</td>\n",
       "      <td>1.006743</td>\n",
       "      <td>1.00</td>\n",
       "      <td>0.1</td>\n",
       "      <td>1.00</td>\n",
       "      <td>0.004344</td>\n",
       "    </tr>\n",
       "    <tr>\n",
       "      <th>11</th>\n",
       "      <td>NaN</td>\n",
       "      <td>NaN</td>\n",
       "      <td>NaN</td>\n",
       "      <td>NaN</td>\n",
       "      <td>NaN</td>\n",
       "      <td>NaN</td>\n",
       "      <td>NaN</td>\n",
       "      <td>NaN</td>\n",
       "      <td>NaN</td>\n",
       "      <td>NaN</td>\n",
       "      <td>...</td>\n",
       "      <td>NaN</td>\n",
       "      <td>NaN</td>\n",
       "      <td>NaN</td>\n",
       "      <td>NaN</td>\n",
       "      <td>NaN</td>\n",
       "      <td>NaN</td>\n",
       "      <td>NaN</td>\n",
       "      <td>NaN</td>\n",
       "      <td>NaN</td>\n",
       "      <td>NaN</td>\n",
       "    </tr>\n",
       "    <tr>\n",
       "      <th>12</th>\n",
       "      <td>-0.004220</td>\n",
       "      <td>0.0</td>\n",
       "      <td>0.205541</td>\n",
       "      <td>[symmetric, oval, circular_oval, generic_elong...</td>\n",
       "      <td>0.000808</td>\n",
       "      <td>[[-0.01644988123876536, 0.0005460894486130954]...</td>\n",
       "      <td>0.008152</td>\n",
       "      <td>0.068468</td>\n",
       "      <td>0.032900</td>\n",
       "      <td>[-0.01644988123876536, -0.012244145539807993, ...</td>\n",
       "      <td>...</td>\n",
       "      <td>0.000004</td>\n",
       "      <td>0.605901</td>\n",
       "      <td>1.0</td>\n",
       "      <td>1.0</td>\n",
       "      <td>1.0</td>\n",
       "      <td>1.004373</td>\n",
       "      <td>0.82</td>\n",
       "      <td>0.2</td>\n",
       "      <td>1.02</td>\n",
       "      <td>0.012000</td>\n",
       "    </tr>\n",
       "    <tr>\n",
       "      <th>13</th>\n",
       "      <td>NaN</td>\n",
       "      <td>NaN</td>\n",
       "      <td>NaN</td>\n",
       "      <td>NaN</td>\n",
       "      <td>NaN</td>\n",
       "      <td>NaN</td>\n",
       "      <td>NaN</td>\n",
       "      <td>NaN</td>\n",
       "      <td>NaN</td>\n",
       "      <td>NaN</td>\n",
       "      <td>...</td>\n",
       "      <td>NaN</td>\n",
       "      <td>NaN</td>\n",
       "      <td>NaN</td>\n",
       "      <td>NaN</td>\n",
       "      <td>NaN</td>\n",
       "      <td>NaN</td>\n",
       "      <td>NaN</td>\n",
       "      <td>NaN</td>\n",
       "      <td>NaN</td>\n",
       "      <td>NaN</td>\n",
       "    </tr>\n",
       "    <tr>\n",
       "      <th>14</th>\n",
       "      <td>-0.003924</td>\n",
       "      <td>0.0</td>\n",
       "      <td>0.157259</td>\n",
       "      <td>[diamond, symmetric, generic_elongation, square]</td>\n",
       "      <td>0.000316</td>\n",
       "      <td>[[-0.01114724344186865, 0.00037500000000000033...</td>\n",
       "      <td>0.012531</td>\n",
       "      <td>0.053250</td>\n",
       "      <td>0.022294</td>\n",
       "      <td>[-0.01114724344186865, -0.00843124344186865, -...</td>\n",
       "      <td>...</td>\n",
       "      <td>0.000002</td>\n",
       "      <td>0.723624</td>\n",
       "      <td>1.0</td>\n",
       "      <td>1.0</td>\n",
       "      <td>1.0</td>\n",
       "      <td>0.995768</td>\n",
       "      <td>1.00</td>\n",
       "      <td>0.1</td>\n",
       "      <td>1.00</td>\n",
       "      <td>0.004239</td>\n",
       "    </tr>\n",
       "    <tr>\n",
       "      <th>15</th>\n",
       "      <td>NaN</td>\n",
       "      <td>NaN</td>\n",
       "      <td>NaN</td>\n",
       "      <td>NaN</td>\n",
       "      <td>NaN</td>\n",
       "      <td>NaN</td>\n",
       "      <td>NaN</td>\n",
       "      <td>NaN</td>\n",
       "      <td>NaN</td>\n",
       "      <td>NaN</td>\n",
       "      <td>...</td>\n",
       "      <td>NaN</td>\n",
       "      <td>NaN</td>\n",
       "      <td>NaN</td>\n",
       "      <td>NaN</td>\n",
       "      <td>NaN</td>\n",
       "      <td>NaN</td>\n",
       "      <td>NaN</td>\n",
       "      <td>NaN</td>\n",
       "      <td>NaN</td>\n",
       "      <td>NaN</td>\n",
       "    </tr>\n",
       "    <tr>\n",
       "      <th>16</th>\n",
       "      <td>-0.003278</td>\n",
       "      <td>0.0</td>\n",
       "      <td>0.197594</td>\n",
       "      <td>[symmetric, oval, circular_oval, generic_elong...</td>\n",
       "      <td>0.000661</td>\n",
       "      <td>[[-0.012788310082940919, 0.0005479599692669606...</td>\n",
       "      <td>0.006496</td>\n",
       "      <td>0.053158</td>\n",
       "      <td>0.025577</td>\n",
       "      <td>[-0.012788310082940919, -0.009538867857350785,...</td>\n",
       "      <td>...</td>\n",
       "      <td>0.000002</td>\n",
       "      <td>0.625087</td>\n",
       "      <td>1.0</td>\n",
       "      <td>1.0</td>\n",
       "      <td>1.0</td>\n",
       "      <td>1.004135</td>\n",
       "      <td>0.82</td>\n",
       "      <td>0.2</td>\n",
       "      <td>1.02</td>\n",
       "      <td>0.010102</td>\n",
       "    </tr>\n",
       "    <tr>\n",
       "      <th>17</th>\n",
       "      <td>NaN</td>\n",
       "      <td>NaN</td>\n",
       "      <td>NaN</td>\n",
       "      <td>NaN</td>\n",
       "      <td>NaN</td>\n",
       "      <td>NaN</td>\n",
       "      <td>NaN</td>\n",
       "      <td>NaN</td>\n",
       "      <td>NaN</td>\n",
       "      <td>NaN</td>\n",
       "      <td>...</td>\n",
       "      <td>NaN</td>\n",
       "      <td>NaN</td>\n",
       "      <td>NaN</td>\n",
       "      <td>NaN</td>\n",
       "      <td>NaN</td>\n",
       "      <td>NaN</td>\n",
       "      <td>NaN</td>\n",
       "      <td>NaN</td>\n",
       "      <td>NaN</td>\n",
       "      <td>NaN</td>\n",
       "    </tr>\n",
       "    <tr>\n",
       "      <th>18</th>\n",
       "      <td>-0.003344</td>\n",
       "      <td>0.0</td>\n",
       "      <td>0.155278</td>\n",
       "      <td>[diamond, symmetric, generic_elongation, square]</td>\n",
       "      <td>0.000245</td>\n",
       "      <td>[[-0.009003151141499629, 0.0003750000000000003...</td>\n",
       "      <td>0.010162</td>\n",
       "      <td>0.042917</td>\n",
       "      <td>0.018006</td>\n",
       "      <td>[-0.009003151141499629, -0.0068571511414996286...</td>\n",
       "      <td>...</td>\n",
       "      <td>0.000001</td>\n",
       "      <td>0.755674</td>\n",
       "      <td>1.0</td>\n",
       "      <td>1.0</td>\n",
       "      <td>1.0</td>\n",
       "      <td>0.996670</td>\n",
       "      <td>1.00</td>\n",
       "      <td>0.1</td>\n",
       "      <td>1.00</td>\n",
       "      <td>0.002836</td>\n",
       "    </tr>\n",
       "    <tr>\n",
       "      <th>19</th>\n",
       "      <td>NaN</td>\n",
       "      <td>NaN</td>\n",
       "      <td>NaN</td>\n",
       "      <td>NaN</td>\n",
       "      <td>NaN</td>\n",
       "      <td>NaN</td>\n",
       "      <td>NaN</td>\n",
       "      <td>NaN</td>\n",
       "      <td>NaN</td>\n",
       "      <td>NaN</td>\n",
       "      <td>...</td>\n",
       "      <td>NaN</td>\n",
       "      <td>NaN</td>\n",
       "      <td>NaN</td>\n",
       "      <td>NaN</td>\n",
       "      <td>NaN</td>\n",
       "      <td>NaN</td>\n",
       "      <td>NaN</td>\n",
       "      <td>NaN</td>\n",
       "      <td>NaN</td>\n",
       "      <td>NaN</td>\n",
       "    </tr>\n",
       "    <tr>\n",
       "      <th>20</th>\n",
       "      <td>-0.002933</td>\n",
       "      <td>0.0</td>\n",
       "      <td>0.184650</td>\n",
       "      <td>[symmetric, oval, circular_oval, generic_elong...</td>\n",
       "      <td>0.000485</td>\n",
       "      <td>[[-0.01086772137273662, 0.0002948821293424915]...</td>\n",
       "      <td>0.004910</td>\n",
       "      <td>0.044990</td>\n",
       "      <td>0.021735</td>\n",
       "      <td>[-0.01086772137273662, -0.008068605827526835, ...</td>\n",
       "      <td>...</td>\n",
       "      <td>0.000001</td>\n",
       "      <td>0.650417</td>\n",
       "      <td>1.0</td>\n",
       "      <td>1.0</td>\n",
       "      <td>1.0</td>\n",
       "      <td>1.007918</td>\n",
       "      <td>0.82</td>\n",
       "      <td>0.2</td>\n",
       "      <td>1.02</td>\n",
       "      <td>0.008123</td>\n",
       "    </tr>\n",
       "    <tr>\n",
       "      <th>21</th>\n",
       "      <td>NaN</td>\n",
       "      <td>NaN</td>\n",
       "      <td>NaN</td>\n",
       "      <td>NaN</td>\n",
       "      <td>NaN</td>\n",
       "      <td>NaN</td>\n",
       "      <td>NaN</td>\n",
       "      <td>NaN</td>\n",
       "      <td>NaN</td>\n",
       "      <td>NaN</td>\n",
       "      <td>...</td>\n",
       "      <td>NaN</td>\n",
       "      <td>NaN</td>\n",
       "      <td>NaN</td>\n",
       "      <td>NaN</td>\n",
       "      <td>NaN</td>\n",
       "      <td>NaN</td>\n",
       "      <td>NaN</td>\n",
       "      <td>NaN</td>\n",
       "      <td>NaN</td>\n",
       "      <td>NaN</td>\n",
       "    </tr>\n",
       "    <tr>\n",
       "      <th>22</th>\n",
       "      <td>-0.002934</td>\n",
       "      <td>0.0</td>\n",
       "      <td>0.157145</td>\n",
       "      <td>[symmetric, round, generic_elongation]</td>\n",
       "      <td>0.000193</td>\n",
       "      <td>[[-0.006723308428428389, 0.0002499999999999998...</td>\n",
       "      <td>0.007800</td>\n",
       "      <td>0.033254</td>\n",
       "      <td>0.013447</td>\n",
       "      <td>[-0.006723308428428389, -0.005108571228827097,...</td>\n",
       "      <td>...</td>\n",
       "      <td>0.000001</td>\n",
       "      <td>0.806494</td>\n",
       "      <td>1.0</td>\n",
       "      <td>1.0</td>\n",
       "      <td>1.0</td>\n",
       "      <td>0.996334</td>\n",
       "      <td>1.00</td>\n",
       "      <td>0.0</td>\n",
       "      <td>1.00</td>\n",
       "      <td>0.002077</td>\n",
       "    </tr>\n",
       "  </tbody>\n",
       "</table>\n",
       "<p>23 rows × 263 columns</p>\n",
       "</div>"
      ]
     },
     "execution_count": 54,
     "metadata": {},
     "output_type": "execute_result"
    }
   ],
   "execution_count": 54
  },
  {
   "cell_type": "markdown",
   "id": "3f111ed89ae21bdd",
   "metadata": {
    "collapsed": false,
    "jupyter": {
     "outputs_hidden": false
    }
   },
   "source": "Nun nutzen wir das Plot-Paket `plotly` um unsere Ergebnisse in einem Diagramm anzuzeigen. Es können auch andere Titelnamen gewählt werden aus der vorherigen Tabelle. Dazu ist der Text nach `y=df[` zu ersetzen."
  },
  {
   "cell_type": "code",
   "id": "1245a3d4c954e519",
   "metadata": {
    "ExecuteTime": {
     "end_time": "2025-01-14T12:45:32.746607Z",
     "start_time": "2025-01-14T12:45:32.739985Z"
    }
   },
   "source": [
    "fig = go.Figure()\n",
    "fig.add_trace(go.Scatter(x=df[\"label\"], y=df[\"in_profile_temperature\"], name=\"temperature_in\"))\n",
    "fig.update_layout(width=800, height=500)\n",
    "fig.show()"
   ],
   "outputs": [
    {
     "data": {
      "application/vnd.plotly.v1+json": {
       "data": [
        {
         "name": "temperature_in",
         "x": [
          "Oval V",
          "Transport 5",
          "Quadrat VI",
          "Transport 6",
          "Oval VII",
          "Transport 7",
          "Quadrat VIII",
          "Transport 8",
          "Oval IX",
          "Transport 9",
          "Quadrat X",
          "Transport 10",
          "Oval XI",
          "Transport 11",
          "Quadrat XII",
          "Transport 12",
          "Oval XIII",
          "Transport 13",
          "Quadrat XIV",
          "Transport 14",
          "Oval XV",
          "Transport 15",
          "Fertigrund XVIa"
         ],
         "y": [
          1473.15,
          1479.2505219274956,
          1442.5073917094305,
          1447.838820136952,
          1413.917203095739,
          1420.5384294580979,
          1378.7945806630803,
          1386.0449047362742,
          1348.0964213424852,
          1358.5856388669888,
          1312.277981891683,
          1326.7077308557211,
          1281.430978358314,
          1293.6154936787482,
          1245.0840220812227,
          1256.45497447477,
          1212.2186773161827,
          1228.5740530333726,
          1178.7976310456029,
          1194.260557109985,
          1149.0721622502185,
          1176.544508474104,
          1122.2134132814774
         ],
         "type": "scatter"
        }
       ],
       "layout": {
        "template": {
         "data": {
          "histogram2dcontour": [
           {
            "type": "histogram2dcontour",
            "colorbar": {
             "outlinewidth": 1,
             "tickcolor": "rgb(36,36,36)",
             "ticks": "outside"
            },
            "colorscale": [
             [
              0.0,
              "#440154"
             ],
             [
              0.1111111111111111,
              "#482878"
             ],
             [
              0.2222222222222222,
              "#3e4989"
             ],
             [
              0.3333333333333333,
              "#31688e"
             ],
             [
              0.4444444444444444,
              "#26828e"
             ],
             [
              0.5555555555555556,
              "#1f9e89"
             ],
             [
              0.6666666666666666,
              "#35b779"
             ],
             [
              0.7777777777777778,
              "#6ece58"
             ],
             [
              0.8888888888888888,
              "#b5de2b"
             ],
             [
              1.0,
              "#fde725"
             ]
            ]
           }
          ],
          "choropleth": [
           {
            "type": "choropleth",
            "colorbar": {
             "outlinewidth": 1,
             "tickcolor": "rgb(36,36,36)",
             "ticks": "outside"
            }
           }
          ],
          "histogram2d": [
           {
            "type": "histogram2d",
            "colorbar": {
             "outlinewidth": 1,
             "tickcolor": "rgb(36,36,36)",
             "ticks": "outside"
            },
            "colorscale": [
             [
              0.0,
              "#440154"
             ],
             [
              0.1111111111111111,
              "#482878"
             ],
             [
              0.2222222222222222,
              "#3e4989"
             ],
             [
              0.3333333333333333,
              "#31688e"
             ],
             [
              0.4444444444444444,
              "#26828e"
             ],
             [
              0.5555555555555556,
              "#1f9e89"
             ],
             [
              0.6666666666666666,
              "#35b779"
             ],
             [
              0.7777777777777778,
              "#6ece58"
             ],
             [
              0.8888888888888888,
              "#b5de2b"
             ],
             [
              1.0,
              "#fde725"
             ]
            ]
           }
          ],
          "heatmap": [
           {
            "type": "heatmap",
            "colorbar": {
             "outlinewidth": 1,
             "tickcolor": "rgb(36,36,36)",
             "ticks": "outside"
            },
            "colorscale": [
             [
              0.0,
              "#440154"
             ],
             [
              0.1111111111111111,
              "#482878"
             ],
             [
              0.2222222222222222,
              "#3e4989"
             ],
             [
              0.3333333333333333,
              "#31688e"
             ],
             [
              0.4444444444444444,
              "#26828e"
             ],
             [
              0.5555555555555556,
              "#1f9e89"
             ],
             [
              0.6666666666666666,
              "#35b779"
             ],
             [
              0.7777777777777778,
              "#6ece58"
             ],
             [
              0.8888888888888888,
              "#b5de2b"
             ],
             [
              1.0,
              "#fde725"
             ]
            ]
           }
          ],
          "heatmapgl": [
           {
            "type": "heatmapgl",
            "colorbar": {
             "outlinewidth": 1,
             "tickcolor": "rgb(36,36,36)",
             "ticks": "outside"
            },
            "colorscale": [
             [
              0.0,
              "#440154"
             ],
             [
              0.1111111111111111,
              "#482878"
             ],
             [
              0.2222222222222222,
              "#3e4989"
             ],
             [
              0.3333333333333333,
              "#31688e"
             ],
             [
              0.4444444444444444,
              "#26828e"
             ],
             [
              0.5555555555555556,
              "#1f9e89"
             ],
             [
              0.6666666666666666,
              "#35b779"
             ],
             [
              0.7777777777777778,
              "#6ece58"
             ],
             [
              0.8888888888888888,
              "#b5de2b"
             ],
             [
              1.0,
              "#fde725"
             ]
            ]
           }
          ],
          "contourcarpet": [
           {
            "type": "contourcarpet",
            "colorbar": {
             "outlinewidth": 1,
             "tickcolor": "rgb(36,36,36)",
             "ticks": "outside"
            }
           }
          ],
          "contour": [
           {
            "type": "contour",
            "colorbar": {
             "outlinewidth": 1,
             "tickcolor": "rgb(36,36,36)",
             "ticks": "outside"
            },
            "colorscale": [
             [
              0.0,
              "#440154"
             ],
             [
              0.1111111111111111,
              "#482878"
             ],
             [
              0.2222222222222222,
              "#3e4989"
             ],
             [
              0.3333333333333333,
              "#31688e"
             ],
             [
              0.4444444444444444,
              "#26828e"
             ],
             [
              0.5555555555555556,
              "#1f9e89"
             ],
             [
              0.6666666666666666,
              "#35b779"
             ],
             [
              0.7777777777777778,
              "#6ece58"
             ],
             [
              0.8888888888888888,
              "#b5de2b"
             ],
             [
              1.0,
              "#fde725"
             ]
            ]
           }
          ],
          "surface": [
           {
            "type": "surface",
            "colorbar": {
             "outlinewidth": 1,
             "tickcolor": "rgb(36,36,36)",
             "ticks": "outside"
            },
            "colorscale": [
             [
              0.0,
              "#440154"
             ],
             [
              0.1111111111111111,
              "#482878"
             ],
             [
              0.2222222222222222,
              "#3e4989"
             ],
             [
              0.3333333333333333,
              "#31688e"
             ],
             [
              0.4444444444444444,
              "#26828e"
             ],
             [
              0.5555555555555556,
              "#1f9e89"
             ],
             [
              0.6666666666666666,
              "#35b779"
             ],
             [
              0.7777777777777778,
              "#6ece58"
             ],
             [
              0.8888888888888888,
              "#b5de2b"
             ],
             [
              1.0,
              "#fde725"
             ]
            ]
           }
          ],
          "mesh3d": [
           {
            "type": "mesh3d",
            "colorbar": {
             "outlinewidth": 1,
             "tickcolor": "rgb(36,36,36)",
             "ticks": "outside"
            }
           }
          ],
          "scatter": [
           {
            "fillpattern": {
             "fillmode": "overlay",
             "size": 10,
             "solidity": 0.2
            },
            "type": "scatter"
           }
          ],
          "parcoords": [
           {
            "type": "parcoords",
            "line": {
             "colorbar": {
              "outlinewidth": 1,
              "tickcolor": "rgb(36,36,36)",
              "ticks": "outside"
             }
            }
           }
          ],
          "scatterpolargl": [
           {
            "type": "scatterpolargl",
            "marker": {
             "colorbar": {
              "outlinewidth": 1,
              "tickcolor": "rgb(36,36,36)",
              "ticks": "outside"
             }
            }
           }
          ],
          "bar": [
           {
            "error_x": {
             "color": "rgb(36,36,36)"
            },
            "error_y": {
             "color": "rgb(36,36,36)"
            },
            "marker": {
             "line": {
              "color": "white",
              "width": 0.5
             },
             "pattern": {
              "fillmode": "overlay",
              "size": 10,
              "solidity": 0.2
             }
            },
            "type": "bar"
           }
          ],
          "scattergeo": [
           {
            "type": "scattergeo",
            "marker": {
             "colorbar": {
              "outlinewidth": 1,
              "tickcolor": "rgb(36,36,36)",
              "ticks": "outside"
             }
            }
           }
          ],
          "scatterpolar": [
           {
            "type": "scatterpolar",
            "marker": {
             "colorbar": {
              "outlinewidth": 1,
              "tickcolor": "rgb(36,36,36)",
              "ticks": "outside"
             }
            }
           }
          ],
          "histogram": [
           {
            "marker": {
             "line": {
              "color": "white",
              "width": 0.6
             }
            },
            "type": "histogram"
           }
          ],
          "scattergl": [
           {
            "type": "scattergl",
            "marker": {
             "colorbar": {
              "outlinewidth": 1,
              "tickcolor": "rgb(36,36,36)",
              "ticks": "outside"
             }
            }
           }
          ],
          "scatter3d": [
           {
            "type": "scatter3d",
            "line": {
             "colorbar": {
              "outlinewidth": 1,
              "tickcolor": "rgb(36,36,36)",
              "ticks": "outside"
             }
            },
            "marker": {
             "colorbar": {
              "outlinewidth": 1,
              "tickcolor": "rgb(36,36,36)",
              "ticks": "outside"
             }
            }
           }
          ],
          "scattermapbox": [
           {
            "type": "scattermapbox",
            "marker": {
             "colorbar": {
              "outlinewidth": 1,
              "tickcolor": "rgb(36,36,36)",
              "ticks": "outside"
             }
            }
           }
          ],
          "scatterternary": [
           {
            "type": "scatterternary",
            "marker": {
             "colorbar": {
              "outlinewidth": 1,
              "tickcolor": "rgb(36,36,36)",
              "ticks": "outside"
             }
            }
           }
          ],
          "scattercarpet": [
           {
            "type": "scattercarpet",
            "marker": {
             "colorbar": {
              "outlinewidth": 1,
              "tickcolor": "rgb(36,36,36)",
              "ticks": "outside"
             }
            }
           }
          ],
          "carpet": [
           {
            "aaxis": {
             "endlinecolor": "rgb(36,36,36)",
             "gridcolor": "white",
             "linecolor": "white",
             "minorgridcolor": "white",
             "startlinecolor": "rgb(36,36,36)"
            },
            "baxis": {
             "endlinecolor": "rgb(36,36,36)",
             "gridcolor": "white",
             "linecolor": "white",
             "minorgridcolor": "white",
             "startlinecolor": "rgb(36,36,36)"
            },
            "type": "carpet"
           }
          ],
          "table": [
           {
            "cells": {
             "fill": {
              "color": "rgb(237,237,237)"
             },
             "line": {
              "color": "white"
             }
            },
            "header": {
             "fill": {
              "color": "rgb(217,217,217)"
             },
             "line": {
              "color": "white"
             }
            },
            "type": "table"
           }
          ],
          "barpolar": [
           {
            "marker": {
             "line": {
              "color": "white",
              "width": 0.5
             },
             "pattern": {
              "fillmode": "overlay",
              "size": 10,
              "solidity": 0.2
             }
            },
            "type": "barpolar"
           }
          ],
          "pie": [
           {
            "automargin": true,
            "type": "pie"
           }
          ]
         },
         "layout": {
          "autotypenumbers": "strict",
          "colorway": [
           "#1F77B4",
           "#FF7F0E",
           "#2CA02C",
           "#D62728",
           "#9467BD",
           "#8C564B",
           "#E377C2",
           "#7F7F7F",
           "#BCBD22",
           "#17BECF"
          ],
          "font": {
           "color": "rgb(36,36,36)"
          },
          "hovermode": "closest",
          "hoverlabel": {
           "align": "left"
          },
          "paper_bgcolor": "white",
          "plot_bgcolor": "white",
          "polar": {
           "bgcolor": "white",
           "angularaxis": {
            "gridcolor": "rgb(232,232,232)",
            "linecolor": "rgb(36,36,36)",
            "showgrid": false,
            "showline": true,
            "ticks": "outside"
           },
           "radialaxis": {
            "gridcolor": "rgb(232,232,232)",
            "linecolor": "rgb(36,36,36)",
            "showgrid": false,
            "showline": true,
            "ticks": "outside"
           }
          },
          "ternary": {
           "bgcolor": "white",
           "aaxis": {
            "gridcolor": "rgb(232,232,232)",
            "linecolor": "rgb(36,36,36)",
            "showgrid": false,
            "showline": true,
            "ticks": "outside"
           },
           "baxis": {
            "gridcolor": "rgb(232,232,232)",
            "linecolor": "rgb(36,36,36)",
            "showgrid": false,
            "showline": true,
            "ticks": "outside"
           },
           "caxis": {
            "gridcolor": "rgb(232,232,232)",
            "linecolor": "rgb(36,36,36)",
            "showgrid": false,
            "showline": true,
            "ticks": "outside"
           }
          },
          "coloraxis": {
           "colorbar": {
            "outlinewidth": 1,
            "tickcolor": "rgb(36,36,36)",
            "ticks": "outside"
           }
          },
          "colorscale": {
           "sequential": [
            [
             0.0,
             "#440154"
            ],
            [
             0.1111111111111111,
             "#482878"
            ],
            [
             0.2222222222222222,
             "#3e4989"
            ],
            [
             0.3333333333333333,
             "#31688e"
            ],
            [
             0.4444444444444444,
             "#26828e"
            ],
            [
             0.5555555555555556,
             "#1f9e89"
            ],
            [
             0.6666666666666666,
             "#35b779"
            ],
            [
             0.7777777777777778,
             "#6ece58"
            ],
            [
             0.8888888888888888,
             "#b5de2b"
            ],
            [
             1.0,
             "#fde725"
            ]
           ],
           "sequentialminus": [
            [
             0.0,
             "#440154"
            ],
            [
             0.1111111111111111,
             "#482878"
            ],
            [
             0.2222222222222222,
             "#3e4989"
            ],
            [
             0.3333333333333333,
             "#31688e"
            ],
            [
             0.4444444444444444,
             "#26828e"
            ],
            [
             0.5555555555555556,
             "#1f9e89"
            ],
            [
             0.6666666666666666,
             "#35b779"
            ],
            [
             0.7777777777777778,
             "#6ece58"
            ],
            [
             0.8888888888888888,
             "#b5de2b"
            ],
            [
             1.0,
             "#fde725"
            ]
           ],
           "diverging": [
            [
             0.0,
             "rgb(103,0,31)"
            ],
            [
             0.1,
             "rgb(178,24,43)"
            ],
            [
             0.2,
             "rgb(214,96,77)"
            ],
            [
             0.3,
             "rgb(244,165,130)"
            ],
            [
             0.4,
             "rgb(253,219,199)"
            ],
            [
             0.5,
             "rgb(247,247,247)"
            ],
            [
             0.6,
             "rgb(209,229,240)"
            ],
            [
             0.7,
             "rgb(146,197,222)"
            ],
            [
             0.8,
             "rgb(67,147,195)"
            ],
            [
             0.9,
             "rgb(33,102,172)"
            ],
            [
             1.0,
             "rgb(5,48,97)"
            ]
           ]
          },
          "xaxis": {
           "gridcolor": "rgb(232,232,232)",
           "linecolor": "rgb(36,36,36)",
           "showgrid": false,
           "showline": true,
           "ticks": "outside",
           "title": {
            "standoff": 15
           },
           "zerolinecolor": "rgb(36,36,36)",
           "automargin": true,
           "zeroline": false
          },
          "yaxis": {
           "gridcolor": "rgb(232,232,232)",
           "linecolor": "rgb(36,36,36)",
           "showgrid": false,
           "showline": true,
           "ticks": "outside",
           "title": {
            "standoff": 15
           },
           "zerolinecolor": "rgb(36,36,36)",
           "automargin": true,
           "zeroline": false
          },
          "scene": {
           "xaxis": {
            "backgroundcolor": "white",
            "gridcolor": "rgb(232,232,232)",
            "linecolor": "rgb(36,36,36)",
            "showbackground": true,
            "showgrid": false,
            "showline": true,
            "ticks": "outside",
            "zerolinecolor": "rgb(36,36,36)",
            "gridwidth": 2,
            "zeroline": false
           },
           "yaxis": {
            "backgroundcolor": "white",
            "gridcolor": "rgb(232,232,232)",
            "linecolor": "rgb(36,36,36)",
            "showbackground": true,
            "showgrid": false,
            "showline": true,
            "ticks": "outside",
            "zerolinecolor": "rgb(36,36,36)",
            "gridwidth": 2,
            "zeroline": false
           },
           "zaxis": {
            "backgroundcolor": "white",
            "gridcolor": "rgb(232,232,232)",
            "linecolor": "rgb(36,36,36)",
            "showbackground": true,
            "showgrid": false,
            "showline": true,
            "ticks": "outside",
            "zerolinecolor": "rgb(36,36,36)",
            "gridwidth": 2,
            "zeroline": false
           }
          },
          "shapedefaults": {
           "fillcolor": "black",
           "line": {
            "width": 0
           },
           "opacity": 0.3
          },
          "annotationdefaults": {
           "arrowhead": 0,
           "arrowwidth": 1
          },
          "geo": {
           "bgcolor": "white",
           "landcolor": "white",
           "subunitcolor": "white",
           "showland": true,
           "showlakes": true,
           "lakecolor": "white"
          },
          "title": {
           "x": 0.05
          },
          "mapbox": {
           "style": "light"
          }
         }
        },
        "width": 800,
        "height": 500
       },
       "config": {
        "plotlyServerURL": "https://plot.ly"
       }
      },
      "text/html": [
       "<div>                            <div id=\"84ab6b11-7333-499d-a550-86899e668bf4\" class=\"plotly-graph-div\" style=\"height:500px; width:800px;\"></div>            <script type=\"text/javascript\">                require([\"plotly\"], function(Plotly) {                    window.PLOTLYENV=window.PLOTLYENV || {};                                    if (document.getElementById(\"84ab6b11-7333-499d-a550-86899e668bf4\")) {                    Plotly.newPlot(                        \"84ab6b11-7333-499d-a550-86899e668bf4\",                        [{\"name\":\"temperature_in\",\"x\":[\"Oval V\",\"Transport 5\",\"Quadrat VI\",\"Transport 6\",\"Oval VII\",\"Transport 7\",\"Quadrat VIII\",\"Transport 8\",\"Oval IX\",\"Transport 9\",\"Quadrat X\",\"Transport 10\",\"Oval XI\",\"Transport 11\",\"Quadrat XII\",\"Transport 12\",\"Oval XIII\",\"Transport 13\",\"Quadrat XIV\",\"Transport 14\",\"Oval XV\",\"Transport 15\",\"Fertigrund XVIa\"],\"y\":[1473.15,1479.2505219274956,1442.5073917094305,1447.838820136952,1413.917203095739,1420.5384294580979,1378.7945806630803,1386.0449047362742,1348.0964213424852,1358.5856388669888,1312.277981891683,1326.7077308557211,1281.430978358314,1293.6154936787482,1245.0840220812227,1256.45497447477,1212.2186773161827,1228.5740530333726,1178.7976310456029,1194.260557109985,1149.0721622502185,1176.544508474104,1122.2134132814774],\"type\":\"scatter\"}],                        {\"template\":{\"data\":{\"histogram2dcontour\":[{\"type\":\"histogram2dcontour\",\"colorbar\":{\"outlinewidth\":1,\"tickcolor\":\"rgb(36,36,36)\",\"ticks\":\"outside\"},\"colorscale\":[[0.0,\"#440154\"],[0.1111111111111111,\"#482878\"],[0.2222222222222222,\"#3e4989\"],[0.3333333333333333,\"#31688e\"],[0.4444444444444444,\"#26828e\"],[0.5555555555555556,\"#1f9e89\"],[0.6666666666666666,\"#35b779\"],[0.7777777777777778,\"#6ece58\"],[0.8888888888888888,\"#b5de2b\"],[1.0,\"#fde725\"]]}],\"choropleth\":[{\"type\":\"choropleth\",\"colorbar\":{\"outlinewidth\":1,\"tickcolor\":\"rgb(36,36,36)\",\"ticks\":\"outside\"}}],\"histogram2d\":[{\"type\":\"histogram2d\",\"colorbar\":{\"outlinewidth\":1,\"tickcolor\":\"rgb(36,36,36)\",\"ticks\":\"outside\"},\"colorscale\":[[0.0,\"#440154\"],[0.1111111111111111,\"#482878\"],[0.2222222222222222,\"#3e4989\"],[0.3333333333333333,\"#31688e\"],[0.4444444444444444,\"#26828e\"],[0.5555555555555556,\"#1f9e89\"],[0.6666666666666666,\"#35b779\"],[0.7777777777777778,\"#6ece58\"],[0.8888888888888888,\"#b5de2b\"],[1.0,\"#fde725\"]]}],\"heatmap\":[{\"type\":\"heatmap\",\"colorbar\":{\"outlinewidth\":1,\"tickcolor\":\"rgb(36,36,36)\",\"ticks\":\"outside\"},\"colorscale\":[[0.0,\"#440154\"],[0.1111111111111111,\"#482878\"],[0.2222222222222222,\"#3e4989\"],[0.3333333333333333,\"#31688e\"],[0.4444444444444444,\"#26828e\"],[0.5555555555555556,\"#1f9e89\"],[0.6666666666666666,\"#35b779\"],[0.7777777777777778,\"#6ece58\"],[0.8888888888888888,\"#b5de2b\"],[1.0,\"#fde725\"]]}],\"heatmapgl\":[{\"type\":\"heatmapgl\",\"colorbar\":{\"outlinewidth\":1,\"tickcolor\":\"rgb(36,36,36)\",\"ticks\":\"outside\"},\"colorscale\":[[0.0,\"#440154\"],[0.1111111111111111,\"#482878\"],[0.2222222222222222,\"#3e4989\"],[0.3333333333333333,\"#31688e\"],[0.4444444444444444,\"#26828e\"],[0.5555555555555556,\"#1f9e89\"],[0.6666666666666666,\"#35b779\"],[0.7777777777777778,\"#6ece58\"],[0.8888888888888888,\"#b5de2b\"],[1.0,\"#fde725\"]]}],\"contourcarpet\":[{\"type\":\"contourcarpet\",\"colorbar\":{\"outlinewidth\":1,\"tickcolor\":\"rgb(36,36,36)\",\"ticks\":\"outside\"}}],\"contour\":[{\"type\":\"contour\",\"colorbar\":{\"outlinewidth\":1,\"tickcolor\":\"rgb(36,36,36)\",\"ticks\":\"outside\"},\"colorscale\":[[0.0,\"#440154\"],[0.1111111111111111,\"#482878\"],[0.2222222222222222,\"#3e4989\"],[0.3333333333333333,\"#31688e\"],[0.4444444444444444,\"#26828e\"],[0.5555555555555556,\"#1f9e89\"],[0.6666666666666666,\"#35b779\"],[0.7777777777777778,\"#6ece58\"],[0.8888888888888888,\"#b5de2b\"],[1.0,\"#fde725\"]]}],\"surface\":[{\"type\":\"surface\",\"colorbar\":{\"outlinewidth\":1,\"tickcolor\":\"rgb(36,36,36)\",\"ticks\":\"outside\"},\"colorscale\":[[0.0,\"#440154\"],[0.1111111111111111,\"#482878\"],[0.2222222222222222,\"#3e4989\"],[0.3333333333333333,\"#31688e\"],[0.4444444444444444,\"#26828e\"],[0.5555555555555556,\"#1f9e89\"],[0.6666666666666666,\"#35b779\"],[0.7777777777777778,\"#6ece58\"],[0.8888888888888888,\"#b5de2b\"],[1.0,\"#fde725\"]]}],\"mesh3d\":[{\"type\":\"mesh3d\",\"colorbar\":{\"outlinewidth\":1,\"tickcolor\":\"rgb(36,36,36)\",\"ticks\":\"outside\"}}],\"scatter\":[{\"fillpattern\":{\"fillmode\":\"overlay\",\"size\":10,\"solidity\":0.2},\"type\":\"scatter\"}],\"parcoords\":[{\"type\":\"parcoords\",\"line\":{\"colorbar\":{\"outlinewidth\":1,\"tickcolor\":\"rgb(36,36,36)\",\"ticks\":\"outside\"}}}],\"scatterpolargl\":[{\"type\":\"scatterpolargl\",\"marker\":{\"colorbar\":{\"outlinewidth\":1,\"tickcolor\":\"rgb(36,36,36)\",\"ticks\":\"outside\"}}}],\"bar\":[{\"error_x\":{\"color\":\"rgb(36,36,36)\"},\"error_y\":{\"color\":\"rgb(36,36,36)\"},\"marker\":{\"line\":{\"color\":\"white\",\"width\":0.5},\"pattern\":{\"fillmode\":\"overlay\",\"size\":10,\"solidity\":0.2}},\"type\":\"bar\"}],\"scattergeo\":[{\"type\":\"scattergeo\",\"marker\":{\"colorbar\":{\"outlinewidth\":1,\"tickcolor\":\"rgb(36,36,36)\",\"ticks\":\"outside\"}}}],\"scatterpolar\":[{\"type\":\"scatterpolar\",\"marker\":{\"colorbar\":{\"outlinewidth\":1,\"tickcolor\":\"rgb(36,36,36)\",\"ticks\":\"outside\"}}}],\"histogram\":[{\"marker\":{\"line\":{\"color\":\"white\",\"width\":0.6}},\"type\":\"histogram\"}],\"scattergl\":[{\"type\":\"scattergl\",\"marker\":{\"colorbar\":{\"outlinewidth\":1,\"tickcolor\":\"rgb(36,36,36)\",\"ticks\":\"outside\"}}}],\"scatter3d\":[{\"type\":\"scatter3d\",\"line\":{\"colorbar\":{\"outlinewidth\":1,\"tickcolor\":\"rgb(36,36,36)\",\"ticks\":\"outside\"}},\"marker\":{\"colorbar\":{\"outlinewidth\":1,\"tickcolor\":\"rgb(36,36,36)\",\"ticks\":\"outside\"}}}],\"scattermapbox\":[{\"type\":\"scattermapbox\",\"marker\":{\"colorbar\":{\"outlinewidth\":1,\"tickcolor\":\"rgb(36,36,36)\",\"ticks\":\"outside\"}}}],\"scatterternary\":[{\"type\":\"scatterternary\",\"marker\":{\"colorbar\":{\"outlinewidth\":1,\"tickcolor\":\"rgb(36,36,36)\",\"ticks\":\"outside\"}}}],\"scattercarpet\":[{\"type\":\"scattercarpet\",\"marker\":{\"colorbar\":{\"outlinewidth\":1,\"tickcolor\":\"rgb(36,36,36)\",\"ticks\":\"outside\"}}}],\"carpet\":[{\"aaxis\":{\"endlinecolor\":\"rgb(36,36,36)\",\"gridcolor\":\"white\",\"linecolor\":\"white\",\"minorgridcolor\":\"white\",\"startlinecolor\":\"rgb(36,36,36)\"},\"baxis\":{\"endlinecolor\":\"rgb(36,36,36)\",\"gridcolor\":\"white\",\"linecolor\":\"white\",\"minorgridcolor\":\"white\",\"startlinecolor\":\"rgb(36,36,36)\"},\"type\":\"carpet\"}],\"table\":[{\"cells\":{\"fill\":{\"color\":\"rgb(237,237,237)\"},\"line\":{\"color\":\"white\"}},\"header\":{\"fill\":{\"color\":\"rgb(217,217,217)\"},\"line\":{\"color\":\"white\"}},\"type\":\"table\"}],\"barpolar\":[{\"marker\":{\"line\":{\"color\":\"white\",\"width\":0.5},\"pattern\":{\"fillmode\":\"overlay\",\"size\":10,\"solidity\":0.2}},\"type\":\"barpolar\"}],\"pie\":[{\"automargin\":true,\"type\":\"pie\"}]},\"layout\":{\"autotypenumbers\":\"strict\",\"colorway\":[\"#1F77B4\",\"#FF7F0E\",\"#2CA02C\",\"#D62728\",\"#9467BD\",\"#8C564B\",\"#E377C2\",\"#7F7F7F\",\"#BCBD22\",\"#17BECF\"],\"font\":{\"color\":\"rgb(36,36,36)\"},\"hovermode\":\"closest\",\"hoverlabel\":{\"align\":\"left\"},\"paper_bgcolor\":\"white\",\"plot_bgcolor\":\"white\",\"polar\":{\"bgcolor\":\"white\",\"angularaxis\":{\"gridcolor\":\"rgb(232,232,232)\",\"linecolor\":\"rgb(36,36,36)\",\"showgrid\":false,\"showline\":true,\"ticks\":\"outside\"},\"radialaxis\":{\"gridcolor\":\"rgb(232,232,232)\",\"linecolor\":\"rgb(36,36,36)\",\"showgrid\":false,\"showline\":true,\"ticks\":\"outside\"}},\"ternary\":{\"bgcolor\":\"white\",\"aaxis\":{\"gridcolor\":\"rgb(232,232,232)\",\"linecolor\":\"rgb(36,36,36)\",\"showgrid\":false,\"showline\":true,\"ticks\":\"outside\"},\"baxis\":{\"gridcolor\":\"rgb(232,232,232)\",\"linecolor\":\"rgb(36,36,36)\",\"showgrid\":false,\"showline\":true,\"ticks\":\"outside\"},\"caxis\":{\"gridcolor\":\"rgb(232,232,232)\",\"linecolor\":\"rgb(36,36,36)\",\"showgrid\":false,\"showline\":true,\"ticks\":\"outside\"}},\"coloraxis\":{\"colorbar\":{\"outlinewidth\":1,\"tickcolor\":\"rgb(36,36,36)\",\"ticks\":\"outside\"}},\"colorscale\":{\"sequential\":[[0.0,\"#440154\"],[0.1111111111111111,\"#482878\"],[0.2222222222222222,\"#3e4989\"],[0.3333333333333333,\"#31688e\"],[0.4444444444444444,\"#26828e\"],[0.5555555555555556,\"#1f9e89\"],[0.6666666666666666,\"#35b779\"],[0.7777777777777778,\"#6ece58\"],[0.8888888888888888,\"#b5de2b\"],[1.0,\"#fde725\"]],\"sequentialminus\":[[0.0,\"#440154\"],[0.1111111111111111,\"#482878\"],[0.2222222222222222,\"#3e4989\"],[0.3333333333333333,\"#31688e\"],[0.4444444444444444,\"#26828e\"],[0.5555555555555556,\"#1f9e89\"],[0.6666666666666666,\"#35b779\"],[0.7777777777777778,\"#6ece58\"],[0.8888888888888888,\"#b5de2b\"],[1.0,\"#fde725\"]],\"diverging\":[[0.0,\"rgb(103,0,31)\"],[0.1,\"rgb(178,24,43)\"],[0.2,\"rgb(214,96,77)\"],[0.3,\"rgb(244,165,130)\"],[0.4,\"rgb(253,219,199)\"],[0.5,\"rgb(247,247,247)\"],[0.6,\"rgb(209,229,240)\"],[0.7,\"rgb(146,197,222)\"],[0.8,\"rgb(67,147,195)\"],[0.9,\"rgb(33,102,172)\"],[1.0,\"rgb(5,48,97)\"]]},\"xaxis\":{\"gridcolor\":\"rgb(232,232,232)\",\"linecolor\":\"rgb(36,36,36)\",\"showgrid\":false,\"showline\":true,\"ticks\":\"outside\",\"title\":{\"standoff\":15},\"zerolinecolor\":\"rgb(36,36,36)\",\"automargin\":true,\"zeroline\":false},\"yaxis\":{\"gridcolor\":\"rgb(232,232,232)\",\"linecolor\":\"rgb(36,36,36)\",\"showgrid\":false,\"showline\":true,\"ticks\":\"outside\",\"title\":{\"standoff\":15},\"zerolinecolor\":\"rgb(36,36,36)\",\"automargin\":true,\"zeroline\":false},\"scene\":{\"xaxis\":{\"backgroundcolor\":\"white\",\"gridcolor\":\"rgb(232,232,232)\",\"linecolor\":\"rgb(36,36,36)\",\"showbackground\":true,\"showgrid\":false,\"showline\":true,\"ticks\":\"outside\",\"zerolinecolor\":\"rgb(36,36,36)\",\"gridwidth\":2,\"zeroline\":false},\"yaxis\":{\"backgroundcolor\":\"white\",\"gridcolor\":\"rgb(232,232,232)\",\"linecolor\":\"rgb(36,36,36)\",\"showbackground\":true,\"showgrid\":false,\"showline\":true,\"ticks\":\"outside\",\"zerolinecolor\":\"rgb(36,36,36)\",\"gridwidth\":2,\"zeroline\":false},\"zaxis\":{\"backgroundcolor\":\"white\",\"gridcolor\":\"rgb(232,232,232)\",\"linecolor\":\"rgb(36,36,36)\",\"showbackground\":true,\"showgrid\":false,\"showline\":true,\"ticks\":\"outside\",\"zerolinecolor\":\"rgb(36,36,36)\",\"gridwidth\":2,\"zeroline\":false}},\"shapedefaults\":{\"fillcolor\":\"black\",\"line\":{\"width\":0},\"opacity\":0.3},\"annotationdefaults\":{\"arrowhead\":0,\"arrowwidth\":1},\"geo\":{\"bgcolor\":\"white\",\"landcolor\":\"white\",\"subunitcolor\":\"white\",\"showland\":true,\"showlakes\":true,\"lakecolor\":\"white\"},\"title\":{\"x\":0.05},\"mapbox\":{\"style\":\"light\"}}},\"width\":800,\"height\":500},                        {\"responsive\": true}                    ).then(function(){\n",
       "                            \n",
       "var gd = document.getElementById('84ab6b11-7333-499d-a550-86899e668bf4');\n",
       "var x = new MutationObserver(function (mutations, observer) {{\n",
       "        var display = window.getComputedStyle(gd).display;\n",
       "        if (!display || display === 'none') {{\n",
       "            console.log([gd, 'removed!']);\n",
       "            Plotly.purge(gd);\n",
       "            observer.disconnect();\n",
       "        }}\n",
       "}});\n",
       "\n",
       "// Listen for the removal of the full notebook cells\n",
       "var notebookContainer = gd.closest('#notebook-container');\n",
       "if (notebookContainer) {{\n",
       "    x.observe(notebookContainer, {childList: true});\n",
       "}}\n",
       "\n",
       "// Listen for the clearing of the current output cell\n",
       "var outputEl = gd.closest('.output');\n",
       "if (outputEl) {{\n",
       "    x.observe(outputEl, {childList: true});\n",
       "}}\n",
       "\n",
       "                        })                };                });            </script>        </div>"
      ]
     },
     "metadata": {},
     "output_type": "display_data"
    }
   ],
   "execution_count": 55
  },
  {
   "cell_type": "markdown",
   "id": "bc556589595a52a8",
   "metadata": {
    "collapsed": false,
    "jupyter": {
     "outputs_hidden": false
    }
   },
   "source": "Hier extrahieren wir alle Walzstiche aus der Stichfolge, da Transporte nicht bestimmte Werte, wie die `roll force` besitzen."
  },
  {
   "cell_type": "code",
   "id": "907be6fdd5109f2f",
   "metadata": {
    "ExecuteTime": {
     "end_time": "2025-01-14T12:49:44.255846Z",
     "start_time": "2025-01-14T12:49:44.105016Z"
    }
   },
   "source": [
    "df_roll_passes = to_pandas_replacement(sequence.roll_passes)\n",
    "df_roll_passes"
   ],
   "outputs": [
    {
     "data": {
      "text/plain": [
       "    abs_draught  back_tension  bite_angle  \\\n",
       "0     -0.013841             0    0.348562   \n",
       "1     -0.011648             0    0.282470   \n",
       "2     -0.008692             0    0.301652   \n",
       "3     -0.008539             0    0.237878   \n",
       "4     -0.006527             0    0.270564   \n",
       "5     -0.007665             0    0.234205   \n",
       "6     -0.004220             0    0.205541   \n",
       "7     -0.003924             0    0.157259   \n",
       "8     -0.003278             0    0.197594   \n",
       "9     -0.003344             0    0.155278   \n",
       "10    -0.002933             0    0.184650   \n",
       "11    -0.002934             0    0.157145   \n",
       "\n",
       "                                          classifiers  contact_area  \\\n",
       "0   [symmetric, oval, circular_oval, generic_elong...      0.003700   \n",
       "1    [diamond, symmetric, generic_elongation, square]      0.001346   \n",
       "2   [symmetric, oval, circular_oval, generic_elong...      0.002439   \n",
       "3    [diamond, symmetric, generic_elongation, square]      0.000882   \n",
       "4   [symmetric, oval, circular_oval, generic_elong...      0.001541   \n",
       "5    [diamond, symmetric, generic_elongation, square]      0.000598   \n",
       "6   [symmetric, oval, circular_oval, generic_elong...      0.000808   \n",
       "7    [diamond, symmetric, generic_elongation, square]      0.000316   \n",
       "8   [symmetric, oval, circular_oval, generic_elong...      0.000661   \n",
       "9    [diamond, symmetric, generic_elongation, square]      0.000245   \n",
       "10  [symmetric, oval, circular_oval, generic_elong...      0.000485   \n",
       "11             [symmetric, round, generic_elongation]      0.000193   \n",
       "\n",
       "                                 contour_lines_coords  contour_lines_height  \\\n",
       "0   [[-0.03583173090990724, 0.0016015892683964668]...              0.017703   \n",
       "1   [[-0.023210037227734376, 0.0014999999999999996...              0.029010   \n",
       "2   [[-0.026510212098303156, 0.0015856928381784454...              0.013271   \n",
       "3   [[-0.01712580662215131, 0.0014999999999999996]...              0.021781   \n",
       "4   [[-0.02189104061731336, 0.0005695200926989803]...              0.009999   \n",
       "5   [[-0.01218242712474619, 0.00037499999999999947...              0.016142   \n",
       "6   [[-0.01644988123876536, 0.0005460894486130954]...              0.008152   \n",
       "7   [[-0.01114724344186865, 0.00037500000000000033...              0.012531   \n",
       "8   [[-0.012788310082940919, 0.0005479599692669606...              0.006496   \n",
       "9   [[-0.009003151141499629, 0.0003750000000000003...              0.010162   \n",
       "10  [[-0.01086772137273662, 0.0002948821293424915]...              0.004910   \n",
       "11  [[-0.006723308428428389, 0.0002499999999999998...              0.007800   \n",
       "\n",
       "    contour_lines_length  contour_lines_width  \\\n",
       "0               0.148619             0.071663   \n",
       "1               0.112508             0.046420   \n",
       "2               0.109488             0.053020   \n",
       "3               0.082552             0.034252   \n",
       "4               0.090763             0.043782   \n",
       "5               0.060964             0.024365   \n",
       "6               0.068468             0.032900   \n",
       "7               0.053250             0.022294   \n",
       "8               0.053158             0.025577   \n",
       "9               0.042917             0.018006   \n",
       "10              0.044990             0.021735   \n",
       "11              0.033254             0.013447   \n",
       "\n",
       "                                      contour_lines_x  ...    volume  \\\n",
       "0   [-0.03583173090990724, -0.026070817018267762, ...  ...  0.000037   \n",
       "1   [-0.023210037227734376, -0.017282037227734377,...  ...  0.000021   \n",
       "2   [-0.026510212098303156, -0.019455012207654873,...  ...  0.000018   \n",
       "3   [-0.01712580662215131, -0.01281780662215131, -...  ...  0.000010   \n",
       "4   [-0.02189104061731336, -0.016107920412020915, ...  ...  0.000008   \n",
       "5   [-0.01218242712474619, -0.00893842712474619, -...  ...  0.000005   \n",
       "6   [-0.01644988123876536, -0.012244145539807993, ...  ...  0.000004   \n",
       "7   [-0.01114724344186865, -0.00843124344186865, -...  ...  0.000002   \n",
       "8   [-0.012788310082940919, -0.009538867857350785,...  ...  0.000002   \n",
       "9   [-0.009003151141499629, -0.0068571511414996286...  ...  0.000001   \n",
       "10  [-0.01086772137273662, -0.008068605827526835, ...  ...  0.000001   \n",
       "11  [-0.006723308428428389, -0.005108571228827097,...  ...  0.000001   \n",
       "\n",
       "   wusatowski_exponent  wusatowski_friction_coefficient  \\\n",
       "0             0.446932                                1   \n",
       "1             0.649132                                1   \n",
       "2             0.489679                                1   \n",
       "3             0.692684                                1   \n",
       "4             0.528569                                1   \n",
       "5             0.710023                                1   \n",
       "6             0.605901                                1   \n",
       "7             0.723624                                1   \n",
       "8             0.625087                                1   \n",
       "9             0.755674                                1   \n",
       "10            0.650417                                1   \n",
       "11            0.806494                                1   \n",
       "\n",
       "    wusatowski_material_coefficient  wusatowski_temperature_coefficient  \\\n",
       "0                                 1                                   1   \n",
       "1                                 1                                   1   \n",
       "2                                 1                                   1   \n",
       "3                                 1                                   1   \n",
       "4                                 1                                   1   \n",
       "5                                 1                                   1   \n",
       "6                                 1                                   1   \n",
       "7                                 1                                   1   \n",
       "8                                 1                                   1   \n",
       "9                                 1                                   1   \n",
       "10                                1                                   1   \n",
       "11                                1                                   1   \n",
       "\n",
       "    wusatowski_velocity_coefficient  zouhar_contact_c1 zouhar_contact_c2  \\\n",
       "0                          1.014738               0.82               0.2   \n",
       "1                          1.000937               1.00               0.1   \n",
       "2                          1.010452               0.82               0.2   \n",
       "3                          1.000371               1.00               0.1   \n",
       "4                          1.010296               0.82               0.2   \n",
       "5                          1.006743               1.00               0.1   \n",
       "6                          1.004373               0.82               0.2   \n",
       "7                          0.995768               1.00               0.1   \n",
       "8                          1.004135               0.82               0.2   \n",
       "9                          0.996670               1.00               0.1   \n",
       "10                         1.007918               0.82               0.2   \n",
       "11                         0.996334               1.00               0.0   \n",
       "\n",
       "    zouhar_contact_c3  zouhar_contact_in_width  \n",
       "0                1.02                 0.030476  \n",
       "1                1.00                 0.007743  \n",
       "2                1.02                 0.023018  \n",
       "3                1.00                 0.005835  \n",
       "4                1.02                 0.017306  \n",
       "5                1.00                 0.004344  \n",
       "6                1.02                 0.012000  \n",
       "7                1.00                 0.004239  \n",
       "8                1.02                 0.010102  \n",
       "9                1.00                 0.002836  \n",
       "10               1.02                 0.008123  \n",
       "11               1.00                 0.002077  \n",
       "\n",
       "[12 rows x 257 columns]"
      ],
      "text/html": [
       "<div>\n",
       "<style scoped>\n",
       "    .dataframe tbody tr th:only-of-type {\n",
       "        vertical-align: middle;\n",
       "    }\n",
       "\n",
       "    .dataframe tbody tr th {\n",
       "        vertical-align: top;\n",
       "    }\n",
       "\n",
       "    .dataframe thead th {\n",
       "        text-align: right;\n",
       "    }\n",
       "</style>\n",
       "<table border=\"1\" class=\"dataframe\">\n",
       "  <thead>\n",
       "    <tr style=\"text-align: right;\">\n",
       "      <th></th>\n",
       "      <th>abs_draught</th>\n",
       "      <th>back_tension</th>\n",
       "      <th>bite_angle</th>\n",
       "      <th>classifiers</th>\n",
       "      <th>contact_area</th>\n",
       "      <th>contour_lines_coords</th>\n",
       "      <th>contour_lines_height</th>\n",
       "      <th>contour_lines_length</th>\n",
       "      <th>contour_lines_width</th>\n",
       "      <th>contour_lines_x</th>\n",
       "      <th>...</th>\n",
       "      <th>volume</th>\n",
       "      <th>wusatowski_exponent</th>\n",
       "      <th>wusatowski_friction_coefficient</th>\n",
       "      <th>wusatowski_material_coefficient</th>\n",
       "      <th>wusatowski_temperature_coefficient</th>\n",
       "      <th>wusatowski_velocity_coefficient</th>\n",
       "      <th>zouhar_contact_c1</th>\n",
       "      <th>zouhar_contact_c2</th>\n",
       "      <th>zouhar_contact_c3</th>\n",
       "      <th>zouhar_contact_in_width</th>\n",
       "    </tr>\n",
       "  </thead>\n",
       "  <tbody>\n",
       "    <tr>\n",
       "      <th>0</th>\n",
       "      <td>-0.013841</td>\n",
       "      <td>0</td>\n",
       "      <td>0.348562</td>\n",
       "      <td>[symmetric, oval, circular_oval, generic_elong...</td>\n",
       "      <td>0.003700</td>\n",
       "      <td>[[-0.03583173090990724, 0.0016015892683964668]...</td>\n",
       "      <td>0.017703</td>\n",
       "      <td>0.148619</td>\n",
       "      <td>0.071663</td>\n",
       "      <td>[-0.03583173090990724, -0.026070817018267762, ...</td>\n",
       "      <td>...</td>\n",
       "      <td>0.000037</td>\n",
       "      <td>0.446932</td>\n",
       "      <td>1</td>\n",
       "      <td>1</td>\n",
       "      <td>1</td>\n",
       "      <td>1.014738</td>\n",
       "      <td>0.82</td>\n",
       "      <td>0.2</td>\n",
       "      <td>1.02</td>\n",
       "      <td>0.030476</td>\n",
       "    </tr>\n",
       "    <tr>\n",
       "      <th>1</th>\n",
       "      <td>-0.011648</td>\n",
       "      <td>0</td>\n",
       "      <td>0.282470</td>\n",
       "      <td>[diamond, symmetric, generic_elongation, square]</td>\n",
       "      <td>0.001346</td>\n",
       "      <td>[[-0.023210037227734376, 0.0014999999999999996...</td>\n",
       "      <td>0.029010</td>\n",
       "      <td>0.112508</td>\n",
       "      <td>0.046420</td>\n",
       "      <td>[-0.023210037227734376, -0.017282037227734377,...</td>\n",
       "      <td>...</td>\n",
       "      <td>0.000021</td>\n",
       "      <td>0.649132</td>\n",
       "      <td>1</td>\n",
       "      <td>1</td>\n",
       "      <td>1</td>\n",
       "      <td>1.000937</td>\n",
       "      <td>1.00</td>\n",
       "      <td>0.1</td>\n",
       "      <td>1.00</td>\n",
       "      <td>0.007743</td>\n",
       "    </tr>\n",
       "    <tr>\n",
       "      <th>2</th>\n",
       "      <td>-0.008692</td>\n",
       "      <td>0</td>\n",
       "      <td>0.301652</td>\n",
       "      <td>[symmetric, oval, circular_oval, generic_elong...</td>\n",
       "      <td>0.002439</td>\n",
       "      <td>[[-0.026510212098303156, 0.0015856928381784454...</td>\n",
       "      <td>0.013271</td>\n",
       "      <td>0.109488</td>\n",
       "      <td>0.053020</td>\n",
       "      <td>[-0.026510212098303156, -0.019455012207654873,...</td>\n",
       "      <td>...</td>\n",
       "      <td>0.000018</td>\n",
       "      <td>0.489679</td>\n",
       "      <td>1</td>\n",
       "      <td>1</td>\n",
       "      <td>1</td>\n",
       "      <td>1.010452</td>\n",
       "      <td>0.82</td>\n",
       "      <td>0.2</td>\n",
       "      <td>1.02</td>\n",
       "      <td>0.023018</td>\n",
       "    </tr>\n",
       "    <tr>\n",
       "      <th>3</th>\n",
       "      <td>-0.008539</td>\n",
       "      <td>0</td>\n",
       "      <td>0.237878</td>\n",
       "      <td>[diamond, symmetric, generic_elongation, square]</td>\n",
       "      <td>0.000882</td>\n",
       "      <td>[[-0.01712580662215131, 0.0014999999999999996]...</td>\n",
       "      <td>0.021781</td>\n",
       "      <td>0.082552</td>\n",
       "      <td>0.034252</td>\n",
       "      <td>[-0.01712580662215131, -0.01281780662215131, -...</td>\n",
       "      <td>...</td>\n",
       "      <td>0.000010</td>\n",
       "      <td>0.692684</td>\n",
       "      <td>1</td>\n",
       "      <td>1</td>\n",
       "      <td>1</td>\n",
       "      <td>1.000371</td>\n",
       "      <td>1.00</td>\n",
       "      <td>0.1</td>\n",
       "      <td>1.00</td>\n",
       "      <td>0.005835</td>\n",
       "    </tr>\n",
       "    <tr>\n",
       "      <th>4</th>\n",
       "      <td>-0.006527</td>\n",
       "      <td>0</td>\n",
       "      <td>0.270564</td>\n",
       "      <td>[symmetric, oval, circular_oval, generic_elong...</td>\n",
       "      <td>0.001541</td>\n",
       "      <td>[[-0.02189104061731336, 0.0005695200926989803]...</td>\n",
       "      <td>0.009999</td>\n",
       "      <td>0.090763</td>\n",
       "      <td>0.043782</td>\n",
       "      <td>[-0.02189104061731336, -0.016107920412020915, ...</td>\n",
       "      <td>...</td>\n",
       "      <td>0.000008</td>\n",
       "      <td>0.528569</td>\n",
       "      <td>1</td>\n",
       "      <td>1</td>\n",
       "      <td>1</td>\n",
       "      <td>1.010296</td>\n",
       "      <td>0.82</td>\n",
       "      <td>0.2</td>\n",
       "      <td>1.02</td>\n",
       "      <td>0.017306</td>\n",
       "    </tr>\n",
       "    <tr>\n",
       "      <th>5</th>\n",
       "      <td>-0.007665</td>\n",
       "      <td>0</td>\n",
       "      <td>0.234205</td>\n",
       "      <td>[diamond, symmetric, generic_elongation, square]</td>\n",
       "      <td>0.000598</td>\n",
       "      <td>[[-0.01218242712474619, 0.00037499999999999947...</td>\n",
       "      <td>0.016142</td>\n",
       "      <td>0.060964</td>\n",
       "      <td>0.024365</td>\n",
       "      <td>[-0.01218242712474619, -0.00893842712474619, -...</td>\n",
       "      <td>...</td>\n",
       "      <td>0.000005</td>\n",
       "      <td>0.710023</td>\n",
       "      <td>1</td>\n",
       "      <td>1</td>\n",
       "      <td>1</td>\n",
       "      <td>1.006743</td>\n",
       "      <td>1.00</td>\n",
       "      <td>0.1</td>\n",
       "      <td>1.00</td>\n",
       "      <td>0.004344</td>\n",
       "    </tr>\n",
       "    <tr>\n",
       "      <th>6</th>\n",
       "      <td>-0.004220</td>\n",
       "      <td>0</td>\n",
       "      <td>0.205541</td>\n",
       "      <td>[symmetric, oval, circular_oval, generic_elong...</td>\n",
       "      <td>0.000808</td>\n",
       "      <td>[[-0.01644988123876536, 0.0005460894486130954]...</td>\n",
       "      <td>0.008152</td>\n",
       "      <td>0.068468</td>\n",
       "      <td>0.032900</td>\n",
       "      <td>[-0.01644988123876536, -0.012244145539807993, ...</td>\n",
       "      <td>...</td>\n",
       "      <td>0.000004</td>\n",
       "      <td>0.605901</td>\n",
       "      <td>1</td>\n",
       "      <td>1</td>\n",
       "      <td>1</td>\n",
       "      <td>1.004373</td>\n",
       "      <td>0.82</td>\n",
       "      <td>0.2</td>\n",
       "      <td>1.02</td>\n",
       "      <td>0.012000</td>\n",
       "    </tr>\n",
       "    <tr>\n",
       "      <th>7</th>\n",
       "      <td>-0.003924</td>\n",
       "      <td>0</td>\n",
       "      <td>0.157259</td>\n",
       "      <td>[diamond, symmetric, generic_elongation, square]</td>\n",
       "      <td>0.000316</td>\n",
       "      <td>[[-0.01114724344186865, 0.00037500000000000033...</td>\n",
       "      <td>0.012531</td>\n",
       "      <td>0.053250</td>\n",
       "      <td>0.022294</td>\n",
       "      <td>[-0.01114724344186865, -0.00843124344186865, -...</td>\n",
       "      <td>...</td>\n",
       "      <td>0.000002</td>\n",
       "      <td>0.723624</td>\n",
       "      <td>1</td>\n",
       "      <td>1</td>\n",
       "      <td>1</td>\n",
       "      <td>0.995768</td>\n",
       "      <td>1.00</td>\n",
       "      <td>0.1</td>\n",
       "      <td>1.00</td>\n",
       "      <td>0.004239</td>\n",
       "    </tr>\n",
       "    <tr>\n",
       "      <th>8</th>\n",
       "      <td>-0.003278</td>\n",
       "      <td>0</td>\n",
       "      <td>0.197594</td>\n",
       "      <td>[symmetric, oval, circular_oval, generic_elong...</td>\n",
       "      <td>0.000661</td>\n",
       "      <td>[[-0.012788310082940919, 0.0005479599692669606...</td>\n",
       "      <td>0.006496</td>\n",
       "      <td>0.053158</td>\n",
       "      <td>0.025577</td>\n",
       "      <td>[-0.012788310082940919, -0.009538867857350785,...</td>\n",
       "      <td>...</td>\n",
       "      <td>0.000002</td>\n",
       "      <td>0.625087</td>\n",
       "      <td>1</td>\n",
       "      <td>1</td>\n",
       "      <td>1</td>\n",
       "      <td>1.004135</td>\n",
       "      <td>0.82</td>\n",
       "      <td>0.2</td>\n",
       "      <td>1.02</td>\n",
       "      <td>0.010102</td>\n",
       "    </tr>\n",
       "    <tr>\n",
       "      <th>9</th>\n",
       "      <td>-0.003344</td>\n",
       "      <td>0</td>\n",
       "      <td>0.155278</td>\n",
       "      <td>[diamond, symmetric, generic_elongation, square]</td>\n",
       "      <td>0.000245</td>\n",
       "      <td>[[-0.009003151141499629, 0.0003750000000000003...</td>\n",
       "      <td>0.010162</td>\n",
       "      <td>0.042917</td>\n",
       "      <td>0.018006</td>\n",
       "      <td>[-0.009003151141499629, -0.0068571511414996286...</td>\n",
       "      <td>...</td>\n",
       "      <td>0.000001</td>\n",
       "      <td>0.755674</td>\n",
       "      <td>1</td>\n",
       "      <td>1</td>\n",
       "      <td>1</td>\n",
       "      <td>0.996670</td>\n",
       "      <td>1.00</td>\n",
       "      <td>0.1</td>\n",
       "      <td>1.00</td>\n",
       "      <td>0.002836</td>\n",
       "    </tr>\n",
       "    <tr>\n",
       "      <th>10</th>\n",
       "      <td>-0.002933</td>\n",
       "      <td>0</td>\n",
       "      <td>0.184650</td>\n",
       "      <td>[symmetric, oval, circular_oval, generic_elong...</td>\n",
       "      <td>0.000485</td>\n",
       "      <td>[[-0.01086772137273662, 0.0002948821293424915]...</td>\n",
       "      <td>0.004910</td>\n",
       "      <td>0.044990</td>\n",
       "      <td>0.021735</td>\n",
       "      <td>[-0.01086772137273662, -0.008068605827526835, ...</td>\n",
       "      <td>...</td>\n",
       "      <td>0.000001</td>\n",
       "      <td>0.650417</td>\n",
       "      <td>1</td>\n",
       "      <td>1</td>\n",
       "      <td>1</td>\n",
       "      <td>1.007918</td>\n",
       "      <td>0.82</td>\n",
       "      <td>0.2</td>\n",
       "      <td>1.02</td>\n",
       "      <td>0.008123</td>\n",
       "    </tr>\n",
       "    <tr>\n",
       "      <th>11</th>\n",
       "      <td>-0.002934</td>\n",
       "      <td>0</td>\n",
       "      <td>0.157145</td>\n",
       "      <td>[symmetric, round, generic_elongation]</td>\n",
       "      <td>0.000193</td>\n",
       "      <td>[[-0.006723308428428389, 0.0002499999999999998...</td>\n",
       "      <td>0.007800</td>\n",
       "      <td>0.033254</td>\n",
       "      <td>0.013447</td>\n",
       "      <td>[-0.006723308428428389, -0.005108571228827097,...</td>\n",
       "      <td>...</td>\n",
       "      <td>0.000001</td>\n",
       "      <td>0.806494</td>\n",
       "      <td>1</td>\n",
       "      <td>1</td>\n",
       "      <td>1</td>\n",
       "      <td>0.996334</td>\n",
       "      <td>1.00</td>\n",
       "      <td>0.0</td>\n",
       "      <td>1.00</td>\n",
       "      <td>0.002077</td>\n",
       "    </tr>\n",
       "  </tbody>\n",
       "</table>\n",
       "<p>12 rows × 257 columns</p>\n",
       "</div>"
      ]
     },
     "execution_count": 56,
     "metadata": {},
     "output_type": "execute_result"
    }
   ],
   "execution_count": 56
  },
  {
   "cell_type": "markdown",
   "id": "9555bd3cef60b6a8",
   "metadata": {
    "collapsed": false,
    "jupyter": {
     "outputs_hidden": false
    }
   },
   "source": "Mit dieser Funktion können Sie alle Schlüssel ausgeben, die Sie für den Zugriff auf Werte verwenden können, wenn Sie sich nicht sicher sind, wie diese Schlüssel benannt sind. Sie ist standardmäßig deaktiviert. Um sie zu verwenden, entfernen Sie das `#`."
  },
  {
   "cell_type": "code",
   "id": "fc49fae2-7c05-453c-b208-aae286b000d7",
   "metadata": {
    "ExecuteTime": {
     "end_time": "2025-01-14T12:49:47.520770Z",
     "start_time": "2025-01-14T12:49:47.518279Z"
    }
   },
   "source": [
    "# for key in df_roll_passes.keys():\n",
    "#    print(key)"
   ],
   "outputs": [],
   "execution_count": 57
  },
  {
   "cell_type": "markdown",
   "id": "37727158472598aa",
   "metadata": {
    "collapsed": false,
    "jupyter": {
     "outputs_hidden": false
    }
   },
   "source": "Im Folgenden werden die Walzkräfte als Balkendiagramm dargestellt. Auch hier können Sie die angezeigten Werte ändern, indem Sie den Text hinter `y=` ändern."
  },
  {
   "cell_type": "code",
   "id": "491d9d1ad6954930",
   "metadata": {
    "ExecuteTime": {
     "end_time": "2025-01-14T12:49:48.470351Z",
     "start_time": "2025-01-14T12:49:48.251103Z"
    }
   },
   "source": [
    "fig = px.bar(df_roll_passes, x=\"label\", y=\"roll_force\")\n",
    "fig.update_layout(width=800, height=500)\n",
    "fig.show()"
   ],
   "outputs": [
    {
     "data": {
      "application/vnd.plotly.v1+json": {
       "data": [
        {
         "alignmentgroup": "True",
         "hovertemplate": "label=%{x}<br>roll_force=%{y}<extra></extra>",
         "legendgroup": "",
         "marker": {
          "color": "#1F77B4",
          "pattern": {
           "shape": ""
          }
         },
         "name": "",
         "offsetgroup": "",
         "orientation": "v",
         "showlegend": false,
         "textposition": "auto",
         "x": [
          "Oval V",
          "Quadrat VI",
          "Oval VII",
          "Quadrat VIII",
          "Oval IX",
          "Quadrat X",
          "Oval XI",
          "Quadrat XII",
          "Oval XIII",
          "Quadrat XIV",
          "Oval XV",
          "Fertigrund XVIa"
         ],
         "xaxis": "x",
         "y": [
          203195.85593261378,
          75726.55268930583,
          171393.86951199995,
          63191.39160697249,
          139048.499159957,
          56013.029350554825,
          92240.99090638405,
          36407.97852345528,
          95909.98199726814,
          34957.758417450335,
          89919.9398737483,
          32340.26458418176
         ],
         "yaxis": "y",
         "type": "bar"
        }
       ],
       "layout": {
        "template": {
         "data": {
          "histogram2dcontour": [
           {
            "type": "histogram2dcontour",
            "colorbar": {
             "outlinewidth": 1,
             "tickcolor": "rgb(36,36,36)",
             "ticks": "outside"
            },
            "colorscale": [
             [
              0.0,
              "#440154"
             ],
             [
              0.1111111111111111,
              "#482878"
             ],
             [
              0.2222222222222222,
              "#3e4989"
             ],
             [
              0.3333333333333333,
              "#31688e"
             ],
             [
              0.4444444444444444,
              "#26828e"
             ],
             [
              0.5555555555555556,
              "#1f9e89"
             ],
             [
              0.6666666666666666,
              "#35b779"
             ],
             [
              0.7777777777777778,
              "#6ece58"
             ],
             [
              0.8888888888888888,
              "#b5de2b"
             ],
             [
              1.0,
              "#fde725"
             ]
            ]
           }
          ],
          "choropleth": [
           {
            "type": "choropleth",
            "colorbar": {
             "outlinewidth": 1,
             "tickcolor": "rgb(36,36,36)",
             "ticks": "outside"
            }
           }
          ],
          "histogram2d": [
           {
            "type": "histogram2d",
            "colorbar": {
             "outlinewidth": 1,
             "tickcolor": "rgb(36,36,36)",
             "ticks": "outside"
            },
            "colorscale": [
             [
              0.0,
              "#440154"
             ],
             [
              0.1111111111111111,
              "#482878"
             ],
             [
              0.2222222222222222,
              "#3e4989"
             ],
             [
              0.3333333333333333,
              "#31688e"
             ],
             [
              0.4444444444444444,
              "#26828e"
             ],
             [
              0.5555555555555556,
              "#1f9e89"
             ],
             [
              0.6666666666666666,
              "#35b779"
             ],
             [
              0.7777777777777778,
              "#6ece58"
             ],
             [
              0.8888888888888888,
              "#b5de2b"
             ],
             [
              1.0,
              "#fde725"
             ]
            ]
           }
          ],
          "heatmap": [
           {
            "type": "heatmap",
            "colorbar": {
             "outlinewidth": 1,
             "tickcolor": "rgb(36,36,36)",
             "ticks": "outside"
            },
            "colorscale": [
             [
              0.0,
              "#440154"
             ],
             [
              0.1111111111111111,
              "#482878"
             ],
             [
              0.2222222222222222,
              "#3e4989"
             ],
             [
              0.3333333333333333,
              "#31688e"
             ],
             [
              0.4444444444444444,
              "#26828e"
             ],
             [
              0.5555555555555556,
              "#1f9e89"
             ],
             [
              0.6666666666666666,
              "#35b779"
             ],
             [
              0.7777777777777778,
              "#6ece58"
             ],
             [
              0.8888888888888888,
              "#b5de2b"
             ],
             [
              1.0,
              "#fde725"
             ]
            ]
           }
          ],
          "heatmapgl": [
           {
            "type": "heatmapgl",
            "colorbar": {
             "outlinewidth": 1,
             "tickcolor": "rgb(36,36,36)",
             "ticks": "outside"
            },
            "colorscale": [
             [
              0.0,
              "#440154"
             ],
             [
              0.1111111111111111,
              "#482878"
             ],
             [
              0.2222222222222222,
              "#3e4989"
             ],
             [
              0.3333333333333333,
              "#31688e"
             ],
             [
              0.4444444444444444,
              "#26828e"
             ],
             [
              0.5555555555555556,
              "#1f9e89"
             ],
             [
              0.6666666666666666,
              "#35b779"
             ],
             [
              0.7777777777777778,
              "#6ece58"
             ],
             [
              0.8888888888888888,
              "#b5de2b"
             ],
             [
              1.0,
              "#fde725"
             ]
            ]
           }
          ],
          "contourcarpet": [
           {
            "type": "contourcarpet",
            "colorbar": {
             "outlinewidth": 1,
             "tickcolor": "rgb(36,36,36)",
             "ticks": "outside"
            }
           }
          ],
          "contour": [
           {
            "type": "contour",
            "colorbar": {
             "outlinewidth": 1,
             "tickcolor": "rgb(36,36,36)",
             "ticks": "outside"
            },
            "colorscale": [
             [
              0.0,
              "#440154"
             ],
             [
              0.1111111111111111,
              "#482878"
             ],
             [
              0.2222222222222222,
              "#3e4989"
             ],
             [
              0.3333333333333333,
              "#31688e"
             ],
             [
              0.4444444444444444,
              "#26828e"
             ],
             [
              0.5555555555555556,
              "#1f9e89"
             ],
             [
              0.6666666666666666,
              "#35b779"
             ],
             [
              0.7777777777777778,
              "#6ece58"
             ],
             [
              0.8888888888888888,
              "#b5de2b"
             ],
             [
              1.0,
              "#fde725"
             ]
            ]
           }
          ],
          "surface": [
           {
            "type": "surface",
            "colorbar": {
             "outlinewidth": 1,
             "tickcolor": "rgb(36,36,36)",
             "ticks": "outside"
            },
            "colorscale": [
             [
              0.0,
              "#440154"
             ],
             [
              0.1111111111111111,
              "#482878"
             ],
             [
              0.2222222222222222,
              "#3e4989"
             ],
             [
              0.3333333333333333,
              "#31688e"
             ],
             [
              0.4444444444444444,
              "#26828e"
             ],
             [
              0.5555555555555556,
              "#1f9e89"
             ],
             [
              0.6666666666666666,
              "#35b779"
             ],
             [
              0.7777777777777778,
              "#6ece58"
             ],
             [
              0.8888888888888888,
              "#b5de2b"
             ],
             [
              1.0,
              "#fde725"
             ]
            ]
           }
          ],
          "mesh3d": [
           {
            "type": "mesh3d",
            "colorbar": {
             "outlinewidth": 1,
             "tickcolor": "rgb(36,36,36)",
             "ticks": "outside"
            }
           }
          ],
          "scatter": [
           {
            "fillpattern": {
             "fillmode": "overlay",
             "size": 10,
             "solidity": 0.2
            },
            "type": "scatter"
           }
          ],
          "parcoords": [
           {
            "type": "parcoords",
            "line": {
             "colorbar": {
              "outlinewidth": 1,
              "tickcolor": "rgb(36,36,36)",
              "ticks": "outside"
             }
            }
           }
          ],
          "scatterpolargl": [
           {
            "type": "scatterpolargl",
            "marker": {
             "colorbar": {
              "outlinewidth": 1,
              "tickcolor": "rgb(36,36,36)",
              "ticks": "outside"
             }
            }
           }
          ],
          "bar": [
           {
            "error_x": {
             "color": "rgb(36,36,36)"
            },
            "error_y": {
             "color": "rgb(36,36,36)"
            },
            "marker": {
             "line": {
              "color": "white",
              "width": 0.5
             },
             "pattern": {
              "fillmode": "overlay",
              "size": 10,
              "solidity": 0.2
             }
            },
            "type": "bar"
           }
          ],
          "scattergeo": [
           {
            "type": "scattergeo",
            "marker": {
             "colorbar": {
              "outlinewidth": 1,
              "tickcolor": "rgb(36,36,36)",
              "ticks": "outside"
             }
            }
           }
          ],
          "scatterpolar": [
           {
            "type": "scatterpolar",
            "marker": {
             "colorbar": {
              "outlinewidth": 1,
              "tickcolor": "rgb(36,36,36)",
              "ticks": "outside"
             }
            }
           }
          ],
          "histogram": [
           {
            "marker": {
             "line": {
              "color": "white",
              "width": 0.6
             }
            },
            "type": "histogram"
           }
          ],
          "scattergl": [
           {
            "type": "scattergl",
            "marker": {
             "colorbar": {
              "outlinewidth": 1,
              "tickcolor": "rgb(36,36,36)",
              "ticks": "outside"
             }
            }
           }
          ],
          "scatter3d": [
           {
            "type": "scatter3d",
            "line": {
             "colorbar": {
              "outlinewidth": 1,
              "tickcolor": "rgb(36,36,36)",
              "ticks": "outside"
             }
            },
            "marker": {
             "colorbar": {
              "outlinewidth": 1,
              "tickcolor": "rgb(36,36,36)",
              "ticks": "outside"
             }
            }
           }
          ],
          "scattermapbox": [
           {
            "type": "scattermapbox",
            "marker": {
             "colorbar": {
              "outlinewidth": 1,
              "tickcolor": "rgb(36,36,36)",
              "ticks": "outside"
             }
            }
           }
          ],
          "scatterternary": [
           {
            "type": "scatterternary",
            "marker": {
             "colorbar": {
              "outlinewidth": 1,
              "tickcolor": "rgb(36,36,36)",
              "ticks": "outside"
             }
            }
           }
          ],
          "scattercarpet": [
           {
            "type": "scattercarpet",
            "marker": {
             "colorbar": {
              "outlinewidth": 1,
              "tickcolor": "rgb(36,36,36)",
              "ticks": "outside"
             }
            }
           }
          ],
          "carpet": [
           {
            "aaxis": {
             "endlinecolor": "rgb(36,36,36)",
             "gridcolor": "white",
             "linecolor": "white",
             "minorgridcolor": "white",
             "startlinecolor": "rgb(36,36,36)"
            },
            "baxis": {
             "endlinecolor": "rgb(36,36,36)",
             "gridcolor": "white",
             "linecolor": "white",
             "minorgridcolor": "white",
             "startlinecolor": "rgb(36,36,36)"
            },
            "type": "carpet"
           }
          ],
          "table": [
           {
            "cells": {
             "fill": {
              "color": "rgb(237,237,237)"
             },
             "line": {
              "color": "white"
             }
            },
            "header": {
             "fill": {
              "color": "rgb(217,217,217)"
             },
             "line": {
              "color": "white"
             }
            },
            "type": "table"
           }
          ],
          "barpolar": [
           {
            "marker": {
             "line": {
              "color": "white",
              "width": 0.5
             },
             "pattern": {
              "fillmode": "overlay",
              "size": 10,
              "solidity": 0.2
             }
            },
            "type": "barpolar"
           }
          ],
          "pie": [
           {
            "automargin": true,
            "type": "pie"
           }
          ]
         },
         "layout": {
          "autotypenumbers": "strict",
          "colorway": [
           "#1F77B4",
           "#FF7F0E",
           "#2CA02C",
           "#D62728",
           "#9467BD",
           "#8C564B",
           "#E377C2",
           "#7F7F7F",
           "#BCBD22",
           "#17BECF"
          ],
          "font": {
           "color": "rgb(36,36,36)"
          },
          "hovermode": "closest",
          "hoverlabel": {
           "align": "left"
          },
          "paper_bgcolor": "white",
          "plot_bgcolor": "white",
          "polar": {
           "bgcolor": "white",
           "angularaxis": {
            "gridcolor": "rgb(232,232,232)",
            "linecolor": "rgb(36,36,36)",
            "showgrid": false,
            "showline": true,
            "ticks": "outside"
           },
           "radialaxis": {
            "gridcolor": "rgb(232,232,232)",
            "linecolor": "rgb(36,36,36)",
            "showgrid": false,
            "showline": true,
            "ticks": "outside"
           }
          },
          "ternary": {
           "bgcolor": "white",
           "aaxis": {
            "gridcolor": "rgb(232,232,232)",
            "linecolor": "rgb(36,36,36)",
            "showgrid": false,
            "showline": true,
            "ticks": "outside"
           },
           "baxis": {
            "gridcolor": "rgb(232,232,232)",
            "linecolor": "rgb(36,36,36)",
            "showgrid": false,
            "showline": true,
            "ticks": "outside"
           },
           "caxis": {
            "gridcolor": "rgb(232,232,232)",
            "linecolor": "rgb(36,36,36)",
            "showgrid": false,
            "showline": true,
            "ticks": "outside"
           }
          },
          "coloraxis": {
           "colorbar": {
            "outlinewidth": 1,
            "tickcolor": "rgb(36,36,36)",
            "ticks": "outside"
           }
          },
          "colorscale": {
           "sequential": [
            [
             0.0,
             "#440154"
            ],
            [
             0.1111111111111111,
             "#482878"
            ],
            [
             0.2222222222222222,
             "#3e4989"
            ],
            [
             0.3333333333333333,
             "#31688e"
            ],
            [
             0.4444444444444444,
             "#26828e"
            ],
            [
             0.5555555555555556,
             "#1f9e89"
            ],
            [
             0.6666666666666666,
             "#35b779"
            ],
            [
             0.7777777777777778,
             "#6ece58"
            ],
            [
             0.8888888888888888,
             "#b5de2b"
            ],
            [
             1.0,
             "#fde725"
            ]
           ],
           "sequentialminus": [
            [
             0.0,
             "#440154"
            ],
            [
             0.1111111111111111,
             "#482878"
            ],
            [
             0.2222222222222222,
             "#3e4989"
            ],
            [
             0.3333333333333333,
             "#31688e"
            ],
            [
             0.4444444444444444,
             "#26828e"
            ],
            [
             0.5555555555555556,
             "#1f9e89"
            ],
            [
             0.6666666666666666,
             "#35b779"
            ],
            [
             0.7777777777777778,
             "#6ece58"
            ],
            [
             0.8888888888888888,
             "#b5de2b"
            ],
            [
             1.0,
             "#fde725"
            ]
           ],
           "diverging": [
            [
             0.0,
             "rgb(103,0,31)"
            ],
            [
             0.1,
             "rgb(178,24,43)"
            ],
            [
             0.2,
             "rgb(214,96,77)"
            ],
            [
             0.3,
             "rgb(244,165,130)"
            ],
            [
             0.4,
             "rgb(253,219,199)"
            ],
            [
             0.5,
             "rgb(247,247,247)"
            ],
            [
             0.6,
             "rgb(209,229,240)"
            ],
            [
             0.7,
             "rgb(146,197,222)"
            ],
            [
             0.8,
             "rgb(67,147,195)"
            ],
            [
             0.9,
             "rgb(33,102,172)"
            ],
            [
             1.0,
             "rgb(5,48,97)"
            ]
           ]
          },
          "xaxis": {
           "gridcolor": "rgb(232,232,232)",
           "linecolor": "rgb(36,36,36)",
           "showgrid": false,
           "showline": true,
           "ticks": "outside",
           "title": {
            "standoff": 15
           },
           "zerolinecolor": "rgb(36,36,36)",
           "automargin": true,
           "zeroline": false
          },
          "yaxis": {
           "gridcolor": "rgb(232,232,232)",
           "linecolor": "rgb(36,36,36)",
           "showgrid": false,
           "showline": true,
           "ticks": "outside",
           "title": {
            "standoff": 15
           },
           "zerolinecolor": "rgb(36,36,36)",
           "automargin": true,
           "zeroline": false
          },
          "scene": {
           "xaxis": {
            "backgroundcolor": "white",
            "gridcolor": "rgb(232,232,232)",
            "linecolor": "rgb(36,36,36)",
            "showbackground": true,
            "showgrid": false,
            "showline": true,
            "ticks": "outside",
            "zerolinecolor": "rgb(36,36,36)",
            "gridwidth": 2,
            "zeroline": false
           },
           "yaxis": {
            "backgroundcolor": "white",
            "gridcolor": "rgb(232,232,232)",
            "linecolor": "rgb(36,36,36)",
            "showbackground": true,
            "showgrid": false,
            "showline": true,
            "ticks": "outside",
            "zerolinecolor": "rgb(36,36,36)",
            "gridwidth": 2,
            "zeroline": false
           },
           "zaxis": {
            "backgroundcolor": "white",
            "gridcolor": "rgb(232,232,232)",
            "linecolor": "rgb(36,36,36)",
            "showbackground": true,
            "showgrid": false,
            "showline": true,
            "ticks": "outside",
            "zerolinecolor": "rgb(36,36,36)",
            "gridwidth": 2,
            "zeroline": false
           }
          },
          "shapedefaults": {
           "fillcolor": "black",
           "line": {
            "width": 0
           },
           "opacity": 0.3
          },
          "annotationdefaults": {
           "arrowhead": 0,
           "arrowwidth": 1
          },
          "geo": {
           "bgcolor": "white",
           "landcolor": "white",
           "subunitcolor": "white",
           "showland": true,
           "showlakes": true,
           "lakecolor": "white"
          },
          "title": {
           "x": 0.05
          },
          "mapbox": {
           "style": "light"
          }
         }
        },
        "xaxis": {
         "anchor": "y",
         "domain": [
          0.0,
          1.0
         ],
         "title": {
          "text": "label"
         }
        },
        "yaxis": {
         "anchor": "x",
         "domain": [
          0.0,
          1.0
         ],
         "title": {
          "text": "roll_force"
         }
        },
        "legend": {
         "tracegroupgap": 0
        },
        "margin": {
         "t": 60
        },
        "barmode": "relative",
        "width": 800,
        "height": 500
       },
       "config": {
        "plotlyServerURL": "https://plot.ly"
       }
      },
      "text/html": [
       "<div>                            <div id=\"4777f8b5-9929-456e-a4a3-705a95da1386\" class=\"plotly-graph-div\" style=\"height:500px; width:800px;\"></div>            <script type=\"text/javascript\">                require([\"plotly\"], function(Plotly) {                    window.PLOTLYENV=window.PLOTLYENV || {};                                    if (document.getElementById(\"4777f8b5-9929-456e-a4a3-705a95da1386\")) {                    Plotly.newPlot(                        \"4777f8b5-9929-456e-a4a3-705a95da1386\",                        [{\"alignmentgroup\":\"True\",\"hovertemplate\":\"label=%{x}\\u003cbr\\u003eroll_force=%{y}\\u003cextra\\u003e\\u003c\\u002fextra\\u003e\",\"legendgroup\":\"\",\"marker\":{\"color\":\"#1F77B4\",\"pattern\":{\"shape\":\"\"}},\"name\":\"\",\"offsetgroup\":\"\",\"orientation\":\"v\",\"showlegend\":false,\"textposition\":\"auto\",\"x\":[\"Oval V\",\"Quadrat VI\",\"Oval VII\",\"Quadrat VIII\",\"Oval IX\",\"Quadrat X\",\"Oval XI\",\"Quadrat XII\",\"Oval XIII\",\"Quadrat XIV\",\"Oval XV\",\"Fertigrund XVIa\"],\"xaxis\":\"x\",\"y\":[203195.85593261378,75726.55268930583,171393.86951199995,63191.39160697249,139048.499159957,56013.029350554825,92240.99090638405,36407.97852345528,95909.98199726814,34957.758417450335,89919.9398737483,32340.26458418176],\"yaxis\":\"y\",\"type\":\"bar\"}],                        {\"template\":{\"data\":{\"histogram2dcontour\":[{\"type\":\"histogram2dcontour\",\"colorbar\":{\"outlinewidth\":1,\"tickcolor\":\"rgb(36,36,36)\",\"ticks\":\"outside\"},\"colorscale\":[[0.0,\"#440154\"],[0.1111111111111111,\"#482878\"],[0.2222222222222222,\"#3e4989\"],[0.3333333333333333,\"#31688e\"],[0.4444444444444444,\"#26828e\"],[0.5555555555555556,\"#1f9e89\"],[0.6666666666666666,\"#35b779\"],[0.7777777777777778,\"#6ece58\"],[0.8888888888888888,\"#b5de2b\"],[1.0,\"#fde725\"]]}],\"choropleth\":[{\"type\":\"choropleth\",\"colorbar\":{\"outlinewidth\":1,\"tickcolor\":\"rgb(36,36,36)\",\"ticks\":\"outside\"}}],\"histogram2d\":[{\"type\":\"histogram2d\",\"colorbar\":{\"outlinewidth\":1,\"tickcolor\":\"rgb(36,36,36)\",\"ticks\":\"outside\"},\"colorscale\":[[0.0,\"#440154\"],[0.1111111111111111,\"#482878\"],[0.2222222222222222,\"#3e4989\"],[0.3333333333333333,\"#31688e\"],[0.4444444444444444,\"#26828e\"],[0.5555555555555556,\"#1f9e89\"],[0.6666666666666666,\"#35b779\"],[0.7777777777777778,\"#6ece58\"],[0.8888888888888888,\"#b5de2b\"],[1.0,\"#fde725\"]]}],\"heatmap\":[{\"type\":\"heatmap\",\"colorbar\":{\"outlinewidth\":1,\"tickcolor\":\"rgb(36,36,36)\",\"ticks\":\"outside\"},\"colorscale\":[[0.0,\"#440154\"],[0.1111111111111111,\"#482878\"],[0.2222222222222222,\"#3e4989\"],[0.3333333333333333,\"#31688e\"],[0.4444444444444444,\"#26828e\"],[0.5555555555555556,\"#1f9e89\"],[0.6666666666666666,\"#35b779\"],[0.7777777777777778,\"#6ece58\"],[0.8888888888888888,\"#b5de2b\"],[1.0,\"#fde725\"]]}],\"heatmapgl\":[{\"type\":\"heatmapgl\",\"colorbar\":{\"outlinewidth\":1,\"tickcolor\":\"rgb(36,36,36)\",\"ticks\":\"outside\"},\"colorscale\":[[0.0,\"#440154\"],[0.1111111111111111,\"#482878\"],[0.2222222222222222,\"#3e4989\"],[0.3333333333333333,\"#31688e\"],[0.4444444444444444,\"#26828e\"],[0.5555555555555556,\"#1f9e89\"],[0.6666666666666666,\"#35b779\"],[0.7777777777777778,\"#6ece58\"],[0.8888888888888888,\"#b5de2b\"],[1.0,\"#fde725\"]]}],\"contourcarpet\":[{\"type\":\"contourcarpet\",\"colorbar\":{\"outlinewidth\":1,\"tickcolor\":\"rgb(36,36,36)\",\"ticks\":\"outside\"}}],\"contour\":[{\"type\":\"contour\",\"colorbar\":{\"outlinewidth\":1,\"tickcolor\":\"rgb(36,36,36)\",\"ticks\":\"outside\"},\"colorscale\":[[0.0,\"#440154\"],[0.1111111111111111,\"#482878\"],[0.2222222222222222,\"#3e4989\"],[0.3333333333333333,\"#31688e\"],[0.4444444444444444,\"#26828e\"],[0.5555555555555556,\"#1f9e89\"],[0.6666666666666666,\"#35b779\"],[0.7777777777777778,\"#6ece58\"],[0.8888888888888888,\"#b5de2b\"],[1.0,\"#fde725\"]]}],\"surface\":[{\"type\":\"surface\",\"colorbar\":{\"outlinewidth\":1,\"tickcolor\":\"rgb(36,36,36)\",\"ticks\":\"outside\"},\"colorscale\":[[0.0,\"#440154\"],[0.1111111111111111,\"#482878\"],[0.2222222222222222,\"#3e4989\"],[0.3333333333333333,\"#31688e\"],[0.4444444444444444,\"#26828e\"],[0.5555555555555556,\"#1f9e89\"],[0.6666666666666666,\"#35b779\"],[0.7777777777777778,\"#6ece58\"],[0.8888888888888888,\"#b5de2b\"],[1.0,\"#fde725\"]]}],\"mesh3d\":[{\"type\":\"mesh3d\",\"colorbar\":{\"outlinewidth\":1,\"tickcolor\":\"rgb(36,36,36)\",\"ticks\":\"outside\"}}],\"scatter\":[{\"fillpattern\":{\"fillmode\":\"overlay\",\"size\":10,\"solidity\":0.2},\"type\":\"scatter\"}],\"parcoords\":[{\"type\":\"parcoords\",\"line\":{\"colorbar\":{\"outlinewidth\":1,\"tickcolor\":\"rgb(36,36,36)\",\"ticks\":\"outside\"}}}],\"scatterpolargl\":[{\"type\":\"scatterpolargl\",\"marker\":{\"colorbar\":{\"outlinewidth\":1,\"tickcolor\":\"rgb(36,36,36)\",\"ticks\":\"outside\"}}}],\"bar\":[{\"error_x\":{\"color\":\"rgb(36,36,36)\"},\"error_y\":{\"color\":\"rgb(36,36,36)\"},\"marker\":{\"line\":{\"color\":\"white\",\"width\":0.5},\"pattern\":{\"fillmode\":\"overlay\",\"size\":10,\"solidity\":0.2}},\"type\":\"bar\"}],\"scattergeo\":[{\"type\":\"scattergeo\",\"marker\":{\"colorbar\":{\"outlinewidth\":1,\"tickcolor\":\"rgb(36,36,36)\",\"ticks\":\"outside\"}}}],\"scatterpolar\":[{\"type\":\"scatterpolar\",\"marker\":{\"colorbar\":{\"outlinewidth\":1,\"tickcolor\":\"rgb(36,36,36)\",\"ticks\":\"outside\"}}}],\"histogram\":[{\"marker\":{\"line\":{\"color\":\"white\",\"width\":0.6}},\"type\":\"histogram\"}],\"scattergl\":[{\"type\":\"scattergl\",\"marker\":{\"colorbar\":{\"outlinewidth\":1,\"tickcolor\":\"rgb(36,36,36)\",\"ticks\":\"outside\"}}}],\"scatter3d\":[{\"type\":\"scatter3d\",\"line\":{\"colorbar\":{\"outlinewidth\":1,\"tickcolor\":\"rgb(36,36,36)\",\"ticks\":\"outside\"}},\"marker\":{\"colorbar\":{\"outlinewidth\":1,\"tickcolor\":\"rgb(36,36,36)\",\"ticks\":\"outside\"}}}],\"scattermapbox\":[{\"type\":\"scattermapbox\",\"marker\":{\"colorbar\":{\"outlinewidth\":1,\"tickcolor\":\"rgb(36,36,36)\",\"ticks\":\"outside\"}}}],\"scatterternary\":[{\"type\":\"scatterternary\",\"marker\":{\"colorbar\":{\"outlinewidth\":1,\"tickcolor\":\"rgb(36,36,36)\",\"ticks\":\"outside\"}}}],\"scattercarpet\":[{\"type\":\"scattercarpet\",\"marker\":{\"colorbar\":{\"outlinewidth\":1,\"tickcolor\":\"rgb(36,36,36)\",\"ticks\":\"outside\"}}}],\"carpet\":[{\"aaxis\":{\"endlinecolor\":\"rgb(36,36,36)\",\"gridcolor\":\"white\",\"linecolor\":\"white\",\"minorgridcolor\":\"white\",\"startlinecolor\":\"rgb(36,36,36)\"},\"baxis\":{\"endlinecolor\":\"rgb(36,36,36)\",\"gridcolor\":\"white\",\"linecolor\":\"white\",\"minorgridcolor\":\"white\",\"startlinecolor\":\"rgb(36,36,36)\"},\"type\":\"carpet\"}],\"table\":[{\"cells\":{\"fill\":{\"color\":\"rgb(237,237,237)\"},\"line\":{\"color\":\"white\"}},\"header\":{\"fill\":{\"color\":\"rgb(217,217,217)\"},\"line\":{\"color\":\"white\"}},\"type\":\"table\"}],\"barpolar\":[{\"marker\":{\"line\":{\"color\":\"white\",\"width\":0.5},\"pattern\":{\"fillmode\":\"overlay\",\"size\":10,\"solidity\":0.2}},\"type\":\"barpolar\"}],\"pie\":[{\"automargin\":true,\"type\":\"pie\"}]},\"layout\":{\"autotypenumbers\":\"strict\",\"colorway\":[\"#1F77B4\",\"#FF7F0E\",\"#2CA02C\",\"#D62728\",\"#9467BD\",\"#8C564B\",\"#E377C2\",\"#7F7F7F\",\"#BCBD22\",\"#17BECF\"],\"font\":{\"color\":\"rgb(36,36,36)\"},\"hovermode\":\"closest\",\"hoverlabel\":{\"align\":\"left\"},\"paper_bgcolor\":\"white\",\"plot_bgcolor\":\"white\",\"polar\":{\"bgcolor\":\"white\",\"angularaxis\":{\"gridcolor\":\"rgb(232,232,232)\",\"linecolor\":\"rgb(36,36,36)\",\"showgrid\":false,\"showline\":true,\"ticks\":\"outside\"},\"radialaxis\":{\"gridcolor\":\"rgb(232,232,232)\",\"linecolor\":\"rgb(36,36,36)\",\"showgrid\":false,\"showline\":true,\"ticks\":\"outside\"}},\"ternary\":{\"bgcolor\":\"white\",\"aaxis\":{\"gridcolor\":\"rgb(232,232,232)\",\"linecolor\":\"rgb(36,36,36)\",\"showgrid\":false,\"showline\":true,\"ticks\":\"outside\"},\"baxis\":{\"gridcolor\":\"rgb(232,232,232)\",\"linecolor\":\"rgb(36,36,36)\",\"showgrid\":false,\"showline\":true,\"ticks\":\"outside\"},\"caxis\":{\"gridcolor\":\"rgb(232,232,232)\",\"linecolor\":\"rgb(36,36,36)\",\"showgrid\":false,\"showline\":true,\"ticks\":\"outside\"}},\"coloraxis\":{\"colorbar\":{\"outlinewidth\":1,\"tickcolor\":\"rgb(36,36,36)\",\"ticks\":\"outside\"}},\"colorscale\":{\"sequential\":[[0.0,\"#440154\"],[0.1111111111111111,\"#482878\"],[0.2222222222222222,\"#3e4989\"],[0.3333333333333333,\"#31688e\"],[0.4444444444444444,\"#26828e\"],[0.5555555555555556,\"#1f9e89\"],[0.6666666666666666,\"#35b779\"],[0.7777777777777778,\"#6ece58\"],[0.8888888888888888,\"#b5de2b\"],[1.0,\"#fde725\"]],\"sequentialminus\":[[0.0,\"#440154\"],[0.1111111111111111,\"#482878\"],[0.2222222222222222,\"#3e4989\"],[0.3333333333333333,\"#31688e\"],[0.4444444444444444,\"#26828e\"],[0.5555555555555556,\"#1f9e89\"],[0.6666666666666666,\"#35b779\"],[0.7777777777777778,\"#6ece58\"],[0.8888888888888888,\"#b5de2b\"],[1.0,\"#fde725\"]],\"diverging\":[[0.0,\"rgb(103,0,31)\"],[0.1,\"rgb(178,24,43)\"],[0.2,\"rgb(214,96,77)\"],[0.3,\"rgb(244,165,130)\"],[0.4,\"rgb(253,219,199)\"],[0.5,\"rgb(247,247,247)\"],[0.6,\"rgb(209,229,240)\"],[0.7,\"rgb(146,197,222)\"],[0.8,\"rgb(67,147,195)\"],[0.9,\"rgb(33,102,172)\"],[1.0,\"rgb(5,48,97)\"]]},\"xaxis\":{\"gridcolor\":\"rgb(232,232,232)\",\"linecolor\":\"rgb(36,36,36)\",\"showgrid\":false,\"showline\":true,\"ticks\":\"outside\",\"title\":{\"standoff\":15},\"zerolinecolor\":\"rgb(36,36,36)\",\"automargin\":true,\"zeroline\":false},\"yaxis\":{\"gridcolor\":\"rgb(232,232,232)\",\"linecolor\":\"rgb(36,36,36)\",\"showgrid\":false,\"showline\":true,\"ticks\":\"outside\",\"title\":{\"standoff\":15},\"zerolinecolor\":\"rgb(36,36,36)\",\"automargin\":true,\"zeroline\":false},\"scene\":{\"xaxis\":{\"backgroundcolor\":\"white\",\"gridcolor\":\"rgb(232,232,232)\",\"linecolor\":\"rgb(36,36,36)\",\"showbackground\":true,\"showgrid\":false,\"showline\":true,\"ticks\":\"outside\",\"zerolinecolor\":\"rgb(36,36,36)\",\"gridwidth\":2,\"zeroline\":false},\"yaxis\":{\"backgroundcolor\":\"white\",\"gridcolor\":\"rgb(232,232,232)\",\"linecolor\":\"rgb(36,36,36)\",\"showbackground\":true,\"showgrid\":false,\"showline\":true,\"ticks\":\"outside\",\"zerolinecolor\":\"rgb(36,36,36)\",\"gridwidth\":2,\"zeroline\":false},\"zaxis\":{\"backgroundcolor\":\"white\",\"gridcolor\":\"rgb(232,232,232)\",\"linecolor\":\"rgb(36,36,36)\",\"showbackground\":true,\"showgrid\":false,\"showline\":true,\"ticks\":\"outside\",\"zerolinecolor\":\"rgb(36,36,36)\",\"gridwidth\":2,\"zeroline\":false}},\"shapedefaults\":{\"fillcolor\":\"black\",\"line\":{\"width\":0},\"opacity\":0.3},\"annotationdefaults\":{\"arrowhead\":0,\"arrowwidth\":1},\"geo\":{\"bgcolor\":\"white\",\"landcolor\":\"white\",\"subunitcolor\":\"white\",\"showland\":true,\"showlakes\":true,\"lakecolor\":\"white\"},\"title\":{\"x\":0.05},\"mapbox\":{\"style\":\"light\"}}},\"xaxis\":{\"anchor\":\"y\",\"domain\":[0.0,1.0],\"title\":{\"text\":\"label\"}},\"yaxis\":{\"anchor\":\"x\",\"domain\":[0.0,1.0],\"title\":{\"text\":\"roll_force\"}},\"legend\":{\"tracegroupgap\":0},\"margin\":{\"t\":60},\"barmode\":\"relative\",\"width\":800,\"height\":500},                        {\"responsive\": true}                    ).then(function(){\n",
       "                            \n",
       "var gd = document.getElementById('4777f8b5-9929-456e-a4a3-705a95da1386');\n",
       "var x = new MutationObserver(function (mutations, observer) {{\n",
       "        var display = window.getComputedStyle(gd).display;\n",
       "        if (!display || display === 'none') {{\n",
       "            console.log([gd, 'removed!']);\n",
       "            Plotly.purge(gd);\n",
       "            observer.disconnect();\n",
       "        }}\n",
       "}});\n",
       "\n",
       "// Listen for the removal of the full notebook cells\n",
       "var notebookContainer = gd.closest('#notebook-container');\n",
       "if (notebookContainer) {{\n",
       "    x.observe(notebookContainer, {childList: true});\n",
       "}}\n",
       "\n",
       "// Listen for the clearing of the current output cell\n",
       "var outputEl = gd.closest('.output');\n",
       "if (outputEl) {{\n",
       "    x.observe(outputEl, {childList: true});\n",
       "}}\n",
       "\n",
       "                        })                };                });            </script>        </div>"
      ]
     },
     "metadata": {},
     "output_type": "display_data"
    }
   ],
   "execution_count": 58
  },
  {
   "cell_type": "markdown",
   "id": "c18a6ebf2b606247",
   "metadata": {
    "collapsed": false,
    "jupyter": {
     "outputs_hidden": false
    }
   },
   "source": "Diese Tabelle dient dazu, Ihnen einen besseren Überblick über mehrere Werte zu geben. Sie können die Ansicht einfach ändern, indem Sie auf die Reiter klicken."
  },
  {
   "cell_type": "code",
   "id": "861aa817caac5dff",
   "metadata": {
    "ExecuteTime": {
     "end_time": "2025-01-14T12:49:50.435332Z",
     "start_time": "2025-01-14T12:49:50.426215Z"
    }
   },
   "source": [
    "import plotly.graph_objects as go\n",
    "\n",
    "columns = [\"roll_force\", \"roll_roll_torque\", \"roll_contact_area\", \"in_profile_cross_section_height\", \"out_profile_cross_section_height\", \"temperature_change_by_contact\", \"temperature_change_by_deformation\", \"in_profile_temperature\", \"out_profile_flow_stress\"]\n",
    "fig = go.Figure()\n",
    "\n",
    "buttons = []\n",
    "for i, col in enumerate(columns):\n",
    "    fig.add_trace(go.Bar(x=df_roll_passes[\"label\"], y=df_roll_passes[col], visible=(i == 0), name=col))\n",
    "    visibility = [False] * len(columns)\n",
    "    visibility[i] = True\n",
    "    buttons.append(dict(label=col, method=\"update\", args=[{\"visible\": visibility}]))\n",
    "    \n",
    "fig.update_layout(updatemenus=[dict(active=0, buttons=buttons, type=\"buttons\", direction=\"down\", x=-0.15, y=1)], width=1000, height=500)\n",
    "fig.show()"
   ],
   "outputs": [
    {
     "data": {
      "application/vnd.plotly.v1+json": {
       "data": [
        {
         "name": "roll_force",
         "visible": true,
         "x": [
          "Oval V",
          "Quadrat VI",
          "Oval VII",
          "Quadrat VIII",
          "Oval IX",
          "Quadrat X",
          "Oval XI",
          "Quadrat XII",
          "Oval XIII",
          "Quadrat XIV",
          "Oval XV",
          "Fertigrund XVIa"
         ],
         "y": [
          203195.85593261378,
          75726.55268930583,
          171393.86951199995,
          63191.39160697249,
          139048.499159957,
          56013.029350554825,
          92240.99090638405,
          36407.97852345528,
          95909.98199726814,
          34957.758417450335,
          89919.9398737483,
          32340.26458418176
         ],
         "type": "bar"
        },
        {
         "name": "roll_roll_torque",
         "visible": false,
         "x": [
          "Oval V",
          "Quadrat VI",
          "Oval VII",
          "Quadrat VIII",
          "Oval IX",
          "Quadrat X",
          "Oval XI",
          "Quadrat XII",
          "Oval XIII",
          "Quadrat XIV",
          "Oval XV",
          "Fertigrund XVIa"
         ],
         "y": [
          4232.589345939802,
          2117.790364182336,
          2570.1560118526177,
          1506.167978509356,
          1738.1238103222026,
          1199.477281106482,
          981.6227035534577,
          575.1138736306941,
          821.2054455048323,
          492.44155745797116,
          730.7186842558789,
          414.1326681033915
         ],
         "type": "bar"
        },
        {
         "name": "roll_contact_area",
         "visible": false,
         "x": [
          "Oval V",
          "Quadrat VI",
          "Oval VII",
          "Quadrat VIII",
          "Oval IX",
          "Quadrat X",
          "Oval XI",
          "Quadrat XII",
          "Oval XIII",
          "Quadrat XIV",
          "Oval XV",
          "Fertigrund XVIa"
         ],
         "y": [
          0.0018498060043948912,
          6.731608589976158E-4,
          0.0012197150080037152,
          4.412064718422947E-4,
          7.70243056248524E-4,
          2.9915291165566644E-4,
          4.039868973265039E-4,
          1.5804863124213895E-4,
          3.304265123707719E-4,
          1.223420382300549E-4,
          2.4239918854531976E-4,
          9.635184651565087E-5
         ],
         "type": "bar"
        },
        {
         "name": "in_profile_cross_section_height",
         "visible": false,
         "x": [
          "Oval V",
          "Quadrat VI",
          "Oval VII",
          "Quadrat VIII",
          "Oval IX",
          "Quadrat X",
          "Oval XI",
          "Quadrat XII",
          "Oval XIII",
          "Quadrat XIV",
          "Oval XV",
          "Fertigrund XVIa"
         ],
         "y": [
          0.0304763022691402,
          0.04089906358654729,
          0.02301763158159193,
          0.030432620499946782,
          0.017306055849889056,
          0.023338295031664704,
          0.011999602076735711,
          0.01582794694358584,
          0.010101767677372076,
          0.013405936500129926,
          0.008123165075150984,
          0.011381956462130575
         ],
         "type": "bar"
        },
        {
         "name": "out_profile_cross_section_height",
         "visible": false,
         "x": [
          "Oval V",
          "Quadrat VI",
          "Oval VII",
          "Quadrat VIII",
          "Oval IX",
          "Quadrat X",
          "Oval XI",
          "Quadrat XII",
          "Oval XIII",
          "Quadrat XIV",
          "Oval XV",
          "Fertigrund XVIa"
         ],
         "y": [
          0.017703178536792933,
          0.029010477331928453,
          0.01327138567635689,
          0.021781420591108196,
          0.00999904018539796,
          0.016141572875253807,
          0.00815217889722619,
          0.01253051088946687,
          0.006495919938533922,
          0.010162407309954975,
          0.004909764258684983,
          0.0078
         ],
         "type": "bar"
        },
        {
         "name": "temperature_change_by_contact",
         "visible": false,
         "x": [
          "Oval V",
          "Quadrat VI",
          "Oval VII",
          "Quadrat VIII",
          "Oval IX",
          "Quadrat X",
          "Oval XI",
          "Quadrat XII",
          "Oval XIII",
          "Quadrat XIV",
          "Oval XV",
          "Fertigrund XVIa"
         ],
         "y": [
          -7.284963112532938,
          -3.506991317264352,
          -8.412718441373565,
          -3.8575019157876076,
          -8.754119165344354,
          -4.545081332210841,
          -7.816282555248596,
          -3.6049341020144015,
          -9.108623134159345,
          -3.9788529464206452,
          -9.728898826662414,
          -4.2408896869596235
         ],
         "type": "bar"
        },
        {
         "name": "temperature_change_by_deformation",
         "visible": false,
         "x": [
          "Oval V",
          "Quadrat VI",
          "Oval VII",
          "Quadrat VIII",
          "Oval IX",
          "Quadrat X",
          "Oval XI",
          "Quadrat XII",
          "Oval XIII",
          "Quadrat XIV",
          "Oval XV",
          "Fertigrund XVIa"
         ],
         "y": [
          13.38548504002834,
          8.838419744785947,
          15.033944803732446,
          11.10782598898166,
          19.24333668984805,
          18.974830296248854,
          20.00079787568278,
          14.975886495561758,
          25.463998851349245,
          19.441779010802705,
          37.20124505054808,
          21.455976690788738
         ],
         "type": "bar"
        },
        {
         "name": "in_profile_temperature",
         "visible": false,
         "x": [
          "Oval V",
          "Quadrat VI",
          "Oval VII",
          "Quadrat VIII",
          "Oval IX",
          "Quadrat X",
          "Oval XI",
          "Quadrat XII",
          "Oval XIII",
          "Quadrat XIV",
          "Oval XV",
          "Fertigrund XVIa"
         ],
         "y": [
          1473.15,
          1442.5073917094305,
          1413.917203095739,
          1378.7945806630803,
          1348.0964213424852,
          1312.277981891683,
          1281.430978358314,
          1245.0840220812227,
          1212.2186773161827,
          1178.7976310456029,
          1149.0721622502185,
          1122.2134132814774
         ],
         "type": "bar"
        },
        {
         "name": "out_profile_flow_stress",
         "visible": false,
         "x": [
          "Oval V",
          "Quadrat VI",
          "Oval VII",
          "Quadrat VIII",
          "Oval IX",
          "Quadrat X",
          "Oval XI",
          "Quadrat XII",
          "Oval XIII",
          "Quadrat XIV",
          "Oval XV",
          "Fertigrund XVIa"
         ],
         "y": [
          7.659123490324932E7,
          8.904760244832394E7,
          9.442826012546174E7,
          1.0895568653973332E8,
          1.1713598912528583E8,
          1.3346620420540373E8,
          1.47351776010744E8,
          1.6848211911886114E8,
          1.7835432585097513E8,
          2.0100110619270736E8,
          2.120700185918419E8,
          2.2940545911614364E8
         ],
         "type": "bar"
        }
       ],
       "layout": {
        "template": {
         "data": {
          "histogram2dcontour": [
           {
            "type": "histogram2dcontour",
            "colorbar": {
             "outlinewidth": 1,
             "tickcolor": "rgb(36,36,36)",
             "ticks": "outside"
            },
            "colorscale": [
             [
              0.0,
              "#440154"
             ],
             [
              0.1111111111111111,
              "#482878"
             ],
             [
              0.2222222222222222,
              "#3e4989"
             ],
             [
              0.3333333333333333,
              "#31688e"
             ],
             [
              0.4444444444444444,
              "#26828e"
             ],
             [
              0.5555555555555556,
              "#1f9e89"
             ],
             [
              0.6666666666666666,
              "#35b779"
             ],
             [
              0.7777777777777778,
              "#6ece58"
             ],
             [
              0.8888888888888888,
              "#b5de2b"
             ],
             [
              1.0,
              "#fde725"
             ]
            ]
           }
          ],
          "choropleth": [
           {
            "type": "choropleth",
            "colorbar": {
             "outlinewidth": 1,
             "tickcolor": "rgb(36,36,36)",
             "ticks": "outside"
            }
           }
          ],
          "histogram2d": [
           {
            "type": "histogram2d",
            "colorbar": {
             "outlinewidth": 1,
             "tickcolor": "rgb(36,36,36)",
             "ticks": "outside"
            },
            "colorscale": [
             [
              0.0,
              "#440154"
             ],
             [
              0.1111111111111111,
              "#482878"
             ],
             [
              0.2222222222222222,
              "#3e4989"
             ],
             [
              0.3333333333333333,
              "#31688e"
             ],
             [
              0.4444444444444444,
              "#26828e"
             ],
             [
              0.5555555555555556,
              "#1f9e89"
             ],
             [
              0.6666666666666666,
              "#35b779"
             ],
             [
              0.7777777777777778,
              "#6ece58"
             ],
             [
              0.8888888888888888,
              "#b5de2b"
             ],
             [
              1.0,
              "#fde725"
             ]
            ]
           }
          ],
          "heatmap": [
           {
            "type": "heatmap",
            "colorbar": {
             "outlinewidth": 1,
             "tickcolor": "rgb(36,36,36)",
             "ticks": "outside"
            },
            "colorscale": [
             [
              0.0,
              "#440154"
             ],
             [
              0.1111111111111111,
              "#482878"
             ],
             [
              0.2222222222222222,
              "#3e4989"
             ],
             [
              0.3333333333333333,
              "#31688e"
             ],
             [
              0.4444444444444444,
              "#26828e"
             ],
             [
              0.5555555555555556,
              "#1f9e89"
             ],
             [
              0.6666666666666666,
              "#35b779"
             ],
             [
              0.7777777777777778,
              "#6ece58"
             ],
             [
              0.8888888888888888,
              "#b5de2b"
             ],
             [
              1.0,
              "#fde725"
             ]
            ]
           }
          ],
          "heatmapgl": [
           {
            "type": "heatmapgl",
            "colorbar": {
             "outlinewidth": 1,
             "tickcolor": "rgb(36,36,36)",
             "ticks": "outside"
            },
            "colorscale": [
             [
              0.0,
              "#440154"
             ],
             [
              0.1111111111111111,
              "#482878"
             ],
             [
              0.2222222222222222,
              "#3e4989"
             ],
             [
              0.3333333333333333,
              "#31688e"
             ],
             [
              0.4444444444444444,
              "#26828e"
             ],
             [
              0.5555555555555556,
              "#1f9e89"
             ],
             [
              0.6666666666666666,
              "#35b779"
             ],
             [
              0.7777777777777778,
              "#6ece58"
             ],
             [
              0.8888888888888888,
              "#b5de2b"
             ],
             [
              1.0,
              "#fde725"
             ]
            ]
           }
          ],
          "contourcarpet": [
           {
            "type": "contourcarpet",
            "colorbar": {
             "outlinewidth": 1,
             "tickcolor": "rgb(36,36,36)",
             "ticks": "outside"
            }
           }
          ],
          "contour": [
           {
            "type": "contour",
            "colorbar": {
             "outlinewidth": 1,
             "tickcolor": "rgb(36,36,36)",
             "ticks": "outside"
            },
            "colorscale": [
             [
              0.0,
              "#440154"
             ],
             [
              0.1111111111111111,
              "#482878"
             ],
             [
              0.2222222222222222,
              "#3e4989"
             ],
             [
              0.3333333333333333,
              "#31688e"
             ],
             [
              0.4444444444444444,
              "#26828e"
             ],
             [
              0.5555555555555556,
              "#1f9e89"
             ],
             [
              0.6666666666666666,
              "#35b779"
             ],
             [
              0.7777777777777778,
              "#6ece58"
             ],
             [
              0.8888888888888888,
              "#b5de2b"
             ],
             [
              1.0,
              "#fde725"
             ]
            ]
           }
          ],
          "surface": [
           {
            "type": "surface",
            "colorbar": {
             "outlinewidth": 1,
             "tickcolor": "rgb(36,36,36)",
             "ticks": "outside"
            },
            "colorscale": [
             [
              0.0,
              "#440154"
             ],
             [
              0.1111111111111111,
              "#482878"
             ],
             [
              0.2222222222222222,
              "#3e4989"
             ],
             [
              0.3333333333333333,
              "#31688e"
             ],
             [
              0.4444444444444444,
              "#26828e"
             ],
             [
              0.5555555555555556,
              "#1f9e89"
             ],
             [
              0.6666666666666666,
              "#35b779"
             ],
             [
              0.7777777777777778,
              "#6ece58"
             ],
             [
              0.8888888888888888,
              "#b5de2b"
             ],
             [
              1.0,
              "#fde725"
             ]
            ]
           }
          ],
          "mesh3d": [
           {
            "type": "mesh3d",
            "colorbar": {
             "outlinewidth": 1,
             "tickcolor": "rgb(36,36,36)",
             "ticks": "outside"
            }
           }
          ],
          "scatter": [
           {
            "fillpattern": {
             "fillmode": "overlay",
             "size": 10,
             "solidity": 0.2
            },
            "type": "scatter"
           }
          ],
          "parcoords": [
           {
            "type": "parcoords",
            "line": {
             "colorbar": {
              "outlinewidth": 1,
              "tickcolor": "rgb(36,36,36)",
              "ticks": "outside"
             }
            }
           }
          ],
          "scatterpolargl": [
           {
            "type": "scatterpolargl",
            "marker": {
             "colorbar": {
              "outlinewidth": 1,
              "tickcolor": "rgb(36,36,36)",
              "ticks": "outside"
             }
            }
           }
          ],
          "bar": [
           {
            "error_x": {
             "color": "rgb(36,36,36)"
            },
            "error_y": {
             "color": "rgb(36,36,36)"
            },
            "marker": {
             "line": {
              "color": "white",
              "width": 0.5
             },
             "pattern": {
              "fillmode": "overlay",
              "size": 10,
              "solidity": 0.2
             }
            },
            "type": "bar"
           }
          ],
          "scattergeo": [
           {
            "type": "scattergeo",
            "marker": {
             "colorbar": {
              "outlinewidth": 1,
              "tickcolor": "rgb(36,36,36)",
              "ticks": "outside"
             }
            }
           }
          ],
          "scatterpolar": [
           {
            "type": "scatterpolar",
            "marker": {
             "colorbar": {
              "outlinewidth": 1,
              "tickcolor": "rgb(36,36,36)",
              "ticks": "outside"
             }
            }
           }
          ],
          "histogram": [
           {
            "marker": {
             "line": {
              "color": "white",
              "width": 0.6
             }
            },
            "type": "histogram"
           }
          ],
          "scattergl": [
           {
            "type": "scattergl",
            "marker": {
             "colorbar": {
              "outlinewidth": 1,
              "tickcolor": "rgb(36,36,36)",
              "ticks": "outside"
             }
            }
           }
          ],
          "scatter3d": [
           {
            "type": "scatter3d",
            "line": {
             "colorbar": {
              "outlinewidth": 1,
              "tickcolor": "rgb(36,36,36)",
              "ticks": "outside"
             }
            },
            "marker": {
             "colorbar": {
              "outlinewidth": 1,
              "tickcolor": "rgb(36,36,36)",
              "ticks": "outside"
             }
            }
           }
          ],
          "scattermapbox": [
           {
            "type": "scattermapbox",
            "marker": {
             "colorbar": {
              "outlinewidth": 1,
              "tickcolor": "rgb(36,36,36)",
              "ticks": "outside"
             }
            }
           }
          ],
          "scatterternary": [
           {
            "type": "scatterternary",
            "marker": {
             "colorbar": {
              "outlinewidth": 1,
              "tickcolor": "rgb(36,36,36)",
              "ticks": "outside"
             }
            }
           }
          ],
          "scattercarpet": [
           {
            "type": "scattercarpet",
            "marker": {
             "colorbar": {
              "outlinewidth": 1,
              "tickcolor": "rgb(36,36,36)",
              "ticks": "outside"
             }
            }
           }
          ],
          "carpet": [
           {
            "aaxis": {
             "endlinecolor": "rgb(36,36,36)",
             "gridcolor": "white",
             "linecolor": "white",
             "minorgridcolor": "white",
             "startlinecolor": "rgb(36,36,36)"
            },
            "baxis": {
             "endlinecolor": "rgb(36,36,36)",
             "gridcolor": "white",
             "linecolor": "white",
             "minorgridcolor": "white",
             "startlinecolor": "rgb(36,36,36)"
            },
            "type": "carpet"
           }
          ],
          "table": [
           {
            "cells": {
             "fill": {
              "color": "rgb(237,237,237)"
             },
             "line": {
              "color": "white"
             }
            },
            "header": {
             "fill": {
              "color": "rgb(217,217,217)"
             },
             "line": {
              "color": "white"
             }
            },
            "type": "table"
           }
          ],
          "barpolar": [
           {
            "marker": {
             "line": {
              "color": "white",
              "width": 0.5
             },
             "pattern": {
              "fillmode": "overlay",
              "size": 10,
              "solidity": 0.2
             }
            },
            "type": "barpolar"
           }
          ],
          "pie": [
           {
            "automargin": true,
            "type": "pie"
           }
          ]
         },
         "layout": {
          "autotypenumbers": "strict",
          "colorway": [
           "#1F77B4",
           "#FF7F0E",
           "#2CA02C",
           "#D62728",
           "#9467BD",
           "#8C564B",
           "#E377C2",
           "#7F7F7F",
           "#BCBD22",
           "#17BECF"
          ],
          "font": {
           "color": "rgb(36,36,36)"
          },
          "hovermode": "closest",
          "hoverlabel": {
           "align": "left"
          },
          "paper_bgcolor": "white",
          "plot_bgcolor": "white",
          "polar": {
           "bgcolor": "white",
           "angularaxis": {
            "gridcolor": "rgb(232,232,232)",
            "linecolor": "rgb(36,36,36)",
            "showgrid": false,
            "showline": true,
            "ticks": "outside"
           },
           "radialaxis": {
            "gridcolor": "rgb(232,232,232)",
            "linecolor": "rgb(36,36,36)",
            "showgrid": false,
            "showline": true,
            "ticks": "outside"
           }
          },
          "ternary": {
           "bgcolor": "white",
           "aaxis": {
            "gridcolor": "rgb(232,232,232)",
            "linecolor": "rgb(36,36,36)",
            "showgrid": false,
            "showline": true,
            "ticks": "outside"
           },
           "baxis": {
            "gridcolor": "rgb(232,232,232)",
            "linecolor": "rgb(36,36,36)",
            "showgrid": false,
            "showline": true,
            "ticks": "outside"
           },
           "caxis": {
            "gridcolor": "rgb(232,232,232)",
            "linecolor": "rgb(36,36,36)",
            "showgrid": false,
            "showline": true,
            "ticks": "outside"
           }
          },
          "coloraxis": {
           "colorbar": {
            "outlinewidth": 1,
            "tickcolor": "rgb(36,36,36)",
            "ticks": "outside"
           }
          },
          "colorscale": {
           "sequential": [
            [
             0.0,
             "#440154"
            ],
            [
             0.1111111111111111,
             "#482878"
            ],
            [
             0.2222222222222222,
             "#3e4989"
            ],
            [
             0.3333333333333333,
             "#31688e"
            ],
            [
             0.4444444444444444,
             "#26828e"
            ],
            [
             0.5555555555555556,
             "#1f9e89"
            ],
            [
             0.6666666666666666,
             "#35b779"
            ],
            [
             0.7777777777777778,
             "#6ece58"
            ],
            [
             0.8888888888888888,
             "#b5de2b"
            ],
            [
             1.0,
             "#fde725"
            ]
           ],
           "sequentialminus": [
            [
             0.0,
             "#440154"
            ],
            [
             0.1111111111111111,
             "#482878"
            ],
            [
             0.2222222222222222,
             "#3e4989"
            ],
            [
             0.3333333333333333,
             "#31688e"
            ],
            [
             0.4444444444444444,
             "#26828e"
            ],
            [
             0.5555555555555556,
             "#1f9e89"
            ],
            [
             0.6666666666666666,
             "#35b779"
            ],
            [
             0.7777777777777778,
             "#6ece58"
            ],
            [
             0.8888888888888888,
             "#b5de2b"
            ],
            [
             1.0,
             "#fde725"
            ]
           ],
           "diverging": [
            [
             0.0,
             "rgb(103,0,31)"
            ],
            [
             0.1,
             "rgb(178,24,43)"
            ],
            [
             0.2,
             "rgb(214,96,77)"
            ],
            [
             0.3,
             "rgb(244,165,130)"
            ],
            [
             0.4,
             "rgb(253,219,199)"
            ],
            [
             0.5,
             "rgb(247,247,247)"
            ],
            [
             0.6,
             "rgb(209,229,240)"
            ],
            [
             0.7,
             "rgb(146,197,222)"
            ],
            [
             0.8,
             "rgb(67,147,195)"
            ],
            [
             0.9,
             "rgb(33,102,172)"
            ],
            [
             1.0,
             "rgb(5,48,97)"
            ]
           ]
          },
          "xaxis": {
           "gridcolor": "rgb(232,232,232)",
           "linecolor": "rgb(36,36,36)",
           "showgrid": false,
           "showline": true,
           "ticks": "outside",
           "title": {
            "standoff": 15
           },
           "zerolinecolor": "rgb(36,36,36)",
           "automargin": true,
           "zeroline": false
          },
          "yaxis": {
           "gridcolor": "rgb(232,232,232)",
           "linecolor": "rgb(36,36,36)",
           "showgrid": false,
           "showline": true,
           "ticks": "outside",
           "title": {
            "standoff": 15
           },
           "zerolinecolor": "rgb(36,36,36)",
           "automargin": true,
           "zeroline": false
          },
          "scene": {
           "xaxis": {
            "backgroundcolor": "white",
            "gridcolor": "rgb(232,232,232)",
            "linecolor": "rgb(36,36,36)",
            "showbackground": true,
            "showgrid": false,
            "showline": true,
            "ticks": "outside",
            "zerolinecolor": "rgb(36,36,36)",
            "gridwidth": 2,
            "zeroline": false
           },
           "yaxis": {
            "backgroundcolor": "white",
            "gridcolor": "rgb(232,232,232)",
            "linecolor": "rgb(36,36,36)",
            "showbackground": true,
            "showgrid": false,
            "showline": true,
            "ticks": "outside",
            "zerolinecolor": "rgb(36,36,36)",
            "gridwidth": 2,
            "zeroline": false
           },
           "zaxis": {
            "backgroundcolor": "white",
            "gridcolor": "rgb(232,232,232)",
            "linecolor": "rgb(36,36,36)",
            "showbackground": true,
            "showgrid": false,
            "showline": true,
            "ticks": "outside",
            "zerolinecolor": "rgb(36,36,36)",
            "gridwidth": 2,
            "zeroline": false
           }
          },
          "shapedefaults": {
           "fillcolor": "black",
           "line": {
            "width": 0
           },
           "opacity": 0.3
          },
          "annotationdefaults": {
           "arrowhead": 0,
           "arrowwidth": 1
          },
          "geo": {
           "bgcolor": "white",
           "landcolor": "white",
           "subunitcolor": "white",
           "showland": true,
           "showlakes": true,
           "lakecolor": "white"
          },
          "title": {
           "x": 0.05
          },
          "mapbox": {
           "style": "light"
          }
         }
        },
        "updatemenus": [
         {
          "active": 0,
          "buttons": [
           {
            "args": [
             {
              "visible": [
               true,
               false,
               false,
               false,
               false,
               false,
               false,
               false,
               false
              ]
             }
            ],
            "label": "roll_force",
            "method": "update"
           },
           {
            "args": [
             {
              "visible": [
               false,
               true,
               false,
               false,
               false,
               false,
               false,
               false,
               false
              ]
             }
            ],
            "label": "roll_roll_torque",
            "method": "update"
           },
           {
            "args": [
             {
              "visible": [
               false,
               false,
               true,
               false,
               false,
               false,
               false,
               false,
               false
              ]
             }
            ],
            "label": "roll_contact_area",
            "method": "update"
           },
           {
            "args": [
             {
              "visible": [
               false,
               false,
               false,
               true,
               false,
               false,
               false,
               false,
               false
              ]
             }
            ],
            "label": "in_profile_cross_section_height",
            "method": "update"
           },
           {
            "args": [
             {
              "visible": [
               false,
               false,
               false,
               false,
               true,
               false,
               false,
               false,
               false
              ]
             }
            ],
            "label": "out_profile_cross_section_height",
            "method": "update"
           },
           {
            "args": [
             {
              "visible": [
               false,
               false,
               false,
               false,
               false,
               true,
               false,
               false,
               false
              ]
             }
            ],
            "label": "temperature_change_by_contact",
            "method": "update"
           },
           {
            "args": [
             {
              "visible": [
               false,
               false,
               false,
               false,
               false,
               false,
               true,
               false,
               false
              ]
             }
            ],
            "label": "temperature_change_by_deformation",
            "method": "update"
           },
           {
            "args": [
             {
              "visible": [
               false,
               false,
               false,
               false,
               false,
               false,
               false,
               true,
               false
              ]
             }
            ],
            "label": "in_profile_temperature",
            "method": "update"
           },
           {
            "args": [
             {
              "visible": [
               false,
               false,
               false,
               false,
               false,
               false,
               false,
               false,
               true
              ]
             }
            ],
            "label": "out_profile_flow_stress",
            "method": "update"
           }
          ],
          "direction": "down",
          "type": "buttons",
          "x": -0.15,
          "y": 1
         }
        ],
        "width": 1000,
        "height": 500
       },
       "config": {
        "plotlyServerURL": "https://plot.ly"
       }
      },
      "text/html": [
       "<div>                            <div id=\"a3a6bd0e-48a5-40ea-a282-c98e05e5d404\" class=\"plotly-graph-div\" style=\"height:500px; width:1000px;\"></div>            <script type=\"text/javascript\">                require([\"plotly\"], function(Plotly) {                    window.PLOTLYENV=window.PLOTLYENV || {};                                    if (document.getElementById(\"a3a6bd0e-48a5-40ea-a282-c98e05e5d404\")) {                    Plotly.newPlot(                        \"a3a6bd0e-48a5-40ea-a282-c98e05e5d404\",                        [{\"name\":\"roll_force\",\"visible\":true,\"x\":[\"Oval V\",\"Quadrat VI\",\"Oval VII\",\"Quadrat VIII\",\"Oval IX\",\"Quadrat X\",\"Oval XI\",\"Quadrat XII\",\"Oval XIII\",\"Quadrat XIV\",\"Oval XV\",\"Fertigrund XVIa\"],\"y\":[203195.85593261378,75726.55268930583,171393.86951199995,63191.39160697249,139048.499159957,56013.029350554825,92240.99090638405,36407.97852345528,95909.98199726814,34957.758417450335,89919.9398737483,32340.26458418176],\"type\":\"bar\"},{\"name\":\"roll_roll_torque\",\"visible\":false,\"x\":[\"Oval V\",\"Quadrat VI\",\"Oval VII\",\"Quadrat VIII\",\"Oval IX\",\"Quadrat X\",\"Oval XI\",\"Quadrat XII\",\"Oval XIII\",\"Quadrat XIV\",\"Oval XV\",\"Fertigrund XVIa\"],\"y\":[4232.589345939802,2117.790364182336,2570.1560118526177,1506.167978509356,1738.1238103222026,1199.477281106482,981.6227035534577,575.1138736306941,821.2054455048323,492.44155745797116,730.7186842558789,414.1326681033915],\"type\":\"bar\"},{\"name\":\"roll_contact_area\",\"visible\":false,\"x\":[\"Oval V\",\"Quadrat VI\",\"Oval VII\",\"Quadrat VIII\",\"Oval IX\",\"Quadrat X\",\"Oval XI\",\"Quadrat XII\",\"Oval XIII\",\"Quadrat XIV\",\"Oval XV\",\"Fertigrund XVIa\"],\"y\":[0.0018498060043948912,0.0006731608589976158,0.0012197150080037152,0.0004412064718422947,0.000770243056248524,0.00029915291165566644,0.0004039868973265039,0.00015804863124213895,0.0003304265123707719,0.0001223420382300549,0.00024239918854531976,9.635184651565087e-05],\"type\":\"bar\"},{\"name\":\"in_profile_cross_section_height\",\"visible\":false,\"x\":[\"Oval V\",\"Quadrat VI\",\"Oval VII\",\"Quadrat VIII\",\"Oval IX\",\"Quadrat X\",\"Oval XI\",\"Quadrat XII\",\"Oval XIII\",\"Quadrat XIV\",\"Oval XV\",\"Fertigrund XVIa\"],\"y\":[0.0304763022691402,0.04089906358654729,0.02301763158159193,0.030432620499946782,0.017306055849889056,0.023338295031664704,0.011999602076735711,0.01582794694358584,0.010101767677372076,0.013405936500129926,0.008123165075150984,0.011381956462130575],\"type\":\"bar\"},{\"name\":\"out_profile_cross_section_height\",\"visible\":false,\"x\":[\"Oval V\",\"Quadrat VI\",\"Oval VII\",\"Quadrat VIII\",\"Oval IX\",\"Quadrat X\",\"Oval XI\",\"Quadrat XII\",\"Oval XIII\",\"Quadrat XIV\",\"Oval XV\",\"Fertigrund XVIa\"],\"y\":[0.017703178536792933,0.029010477331928453,0.01327138567635689,0.021781420591108196,0.00999904018539796,0.016141572875253807,0.00815217889722619,0.01253051088946687,0.006495919938533922,0.010162407309954975,0.004909764258684983,0.0078],\"type\":\"bar\"},{\"name\":\"temperature_change_by_contact\",\"visible\":false,\"x\":[\"Oval V\",\"Quadrat VI\",\"Oval VII\",\"Quadrat VIII\",\"Oval IX\",\"Quadrat X\",\"Oval XI\",\"Quadrat XII\",\"Oval XIII\",\"Quadrat XIV\",\"Oval XV\",\"Fertigrund XVIa\"],\"y\":[-7.284963112532938,-3.506991317264352,-8.412718441373565,-3.8575019157876076,-8.754119165344354,-4.545081332210841,-7.816282555248596,-3.6049341020144015,-9.108623134159345,-3.9788529464206452,-9.728898826662414,-4.2408896869596235],\"type\":\"bar\"},{\"name\":\"temperature_change_by_deformation\",\"visible\":false,\"x\":[\"Oval V\",\"Quadrat VI\",\"Oval VII\",\"Quadrat VIII\",\"Oval IX\",\"Quadrat X\",\"Oval XI\",\"Quadrat XII\",\"Oval XIII\",\"Quadrat XIV\",\"Oval XV\",\"Fertigrund XVIa\"],\"y\":[13.38548504002834,8.838419744785947,15.033944803732446,11.10782598898166,19.24333668984805,18.974830296248854,20.00079787568278,14.975886495561758,25.463998851349245,19.441779010802705,37.20124505054808,21.455976690788738],\"type\":\"bar\"},{\"name\":\"in_profile_temperature\",\"visible\":false,\"x\":[\"Oval V\",\"Quadrat VI\",\"Oval VII\",\"Quadrat VIII\",\"Oval IX\",\"Quadrat X\",\"Oval XI\",\"Quadrat XII\",\"Oval XIII\",\"Quadrat XIV\",\"Oval XV\",\"Fertigrund XVIa\"],\"y\":[1473.15,1442.5073917094305,1413.917203095739,1378.7945806630803,1348.0964213424852,1312.277981891683,1281.430978358314,1245.0840220812227,1212.2186773161827,1178.7976310456029,1149.0721622502185,1122.2134132814774],\"type\":\"bar\"},{\"name\":\"out_profile_flow_stress\",\"visible\":false,\"x\":[\"Oval V\",\"Quadrat VI\",\"Oval VII\",\"Quadrat VIII\",\"Oval IX\",\"Quadrat X\",\"Oval XI\",\"Quadrat XII\",\"Oval XIII\",\"Quadrat XIV\",\"Oval XV\",\"Fertigrund XVIa\"],\"y\":[76591234.90324932,89047602.44832394,94428260.12546174,108955686.53973332,117135989.12528583,133466204.20540373,147351776.010744,168482119.11886114,178354325.85097513,201001106.19270736,212070018.5918419,229405459.11614364],\"type\":\"bar\"}],                        {\"template\":{\"data\":{\"histogram2dcontour\":[{\"type\":\"histogram2dcontour\",\"colorbar\":{\"outlinewidth\":1,\"tickcolor\":\"rgb(36,36,36)\",\"ticks\":\"outside\"},\"colorscale\":[[0.0,\"#440154\"],[0.1111111111111111,\"#482878\"],[0.2222222222222222,\"#3e4989\"],[0.3333333333333333,\"#31688e\"],[0.4444444444444444,\"#26828e\"],[0.5555555555555556,\"#1f9e89\"],[0.6666666666666666,\"#35b779\"],[0.7777777777777778,\"#6ece58\"],[0.8888888888888888,\"#b5de2b\"],[1.0,\"#fde725\"]]}],\"choropleth\":[{\"type\":\"choropleth\",\"colorbar\":{\"outlinewidth\":1,\"tickcolor\":\"rgb(36,36,36)\",\"ticks\":\"outside\"}}],\"histogram2d\":[{\"type\":\"histogram2d\",\"colorbar\":{\"outlinewidth\":1,\"tickcolor\":\"rgb(36,36,36)\",\"ticks\":\"outside\"},\"colorscale\":[[0.0,\"#440154\"],[0.1111111111111111,\"#482878\"],[0.2222222222222222,\"#3e4989\"],[0.3333333333333333,\"#31688e\"],[0.4444444444444444,\"#26828e\"],[0.5555555555555556,\"#1f9e89\"],[0.6666666666666666,\"#35b779\"],[0.7777777777777778,\"#6ece58\"],[0.8888888888888888,\"#b5de2b\"],[1.0,\"#fde725\"]]}],\"heatmap\":[{\"type\":\"heatmap\",\"colorbar\":{\"outlinewidth\":1,\"tickcolor\":\"rgb(36,36,36)\",\"ticks\":\"outside\"},\"colorscale\":[[0.0,\"#440154\"],[0.1111111111111111,\"#482878\"],[0.2222222222222222,\"#3e4989\"],[0.3333333333333333,\"#31688e\"],[0.4444444444444444,\"#26828e\"],[0.5555555555555556,\"#1f9e89\"],[0.6666666666666666,\"#35b779\"],[0.7777777777777778,\"#6ece58\"],[0.8888888888888888,\"#b5de2b\"],[1.0,\"#fde725\"]]}],\"heatmapgl\":[{\"type\":\"heatmapgl\",\"colorbar\":{\"outlinewidth\":1,\"tickcolor\":\"rgb(36,36,36)\",\"ticks\":\"outside\"},\"colorscale\":[[0.0,\"#440154\"],[0.1111111111111111,\"#482878\"],[0.2222222222222222,\"#3e4989\"],[0.3333333333333333,\"#31688e\"],[0.4444444444444444,\"#26828e\"],[0.5555555555555556,\"#1f9e89\"],[0.6666666666666666,\"#35b779\"],[0.7777777777777778,\"#6ece58\"],[0.8888888888888888,\"#b5de2b\"],[1.0,\"#fde725\"]]}],\"contourcarpet\":[{\"type\":\"contourcarpet\",\"colorbar\":{\"outlinewidth\":1,\"tickcolor\":\"rgb(36,36,36)\",\"ticks\":\"outside\"}}],\"contour\":[{\"type\":\"contour\",\"colorbar\":{\"outlinewidth\":1,\"tickcolor\":\"rgb(36,36,36)\",\"ticks\":\"outside\"},\"colorscale\":[[0.0,\"#440154\"],[0.1111111111111111,\"#482878\"],[0.2222222222222222,\"#3e4989\"],[0.3333333333333333,\"#31688e\"],[0.4444444444444444,\"#26828e\"],[0.5555555555555556,\"#1f9e89\"],[0.6666666666666666,\"#35b779\"],[0.7777777777777778,\"#6ece58\"],[0.8888888888888888,\"#b5de2b\"],[1.0,\"#fde725\"]]}],\"surface\":[{\"type\":\"surface\",\"colorbar\":{\"outlinewidth\":1,\"tickcolor\":\"rgb(36,36,36)\",\"ticks\":\"outside\"},\"colorscale\":[[0.0,\"#440154\"],[0.1111111111111111,\"#482878\"],[0.2222222222222222,\"#3e4989\"],[0.3333333333333333,\"#31688e\"],[0.4444444444444444,\"#26828e\"],[0.5555555555555556,\"#1f9e89\"],[0.6666666666666666,\"#35b779\"],[0.7777777777777778,\"#6ece58\"],[0.8888888888888888,\"#b5de2b\"],[1.0,\"#fde725\"]]}],\"mesh3d\":[{\"type\":\"mesh3d\",\"colorbar\":{\"outlinewidth\":1,\"tickcolor\":\"rgb(36,36,36)\",\"ticks\":\"outside\"}}],\"scatter\":[{\"fillpattern\":{\"fillmode\":\"overlay\",\"size\":10,\"solidity\":0.2},\"type\":\"scatter\"}],\"parcoords\":[{\"type\":\"parcoords\",\"line\":{\"colorbar\":{\"outlinewidth\":1,\"tickcolor\":\"rgb(36,36,36)\",\"ticks\":\"outside\"}}}],\"scatterpolargl\":[{\"type\":\"scatterpolargl\",\"marker\":{\"colorbar\":{\"outlinewidth\":1,\"tickcolor\":\"rgb(36,36,36)\",\"ticks\":\"outside\"}}}],\"bar\":[{\"error_x\":{\"color\":\"rgb(36,36,36)\"},\"error_y\":{\"color\":\"rgb(36,36,36)\"},\"marker\":{\"line\":{\"color\":\"white\",\"width\":0.5},\"pattern\":{\"fillmode\":\"overlay\",\"size\":10,\"solidity\":0.2}},\"type\":\"bar\"}],\"scattergeo\":[{\"type\":\"scattergeo\",\"marker\":{\"colorbar\":{\"outlinewidth\":1,\"tickcolor\":\"rgb(36,36,36)\",\"ticks\":\"outside\"}}}],\"scatterpolar\":[{\"type\":\"scatterpolar\",\"marker\":{\"colorbar\":{\"outlinewidth\":1,\"tickcolor\":\"rgb(36,36,36)\",\"ticks\":\"outside\"}}}],\"histogram\":[{\"marker\":{\"line\":{\"color\":\"white\",\"width\":0.6}},\"type\":\"histogram\"}],\"scattergl\":[{\"type\":\"scattergl\",\"marker\":{\"colorbar\":{\"outlinewidth\":1,\"tickcolor\":\"rgb(36,36,36)\",\"ticks\":\"outside\"}}}],\"scatter3d\":[{\"type\":\"scatter3d\",\"line\":{\"colorbar\":{\"outlinewidth\":1,\"tickcolor\":\"rgb(36,36,36)\",\"ticks\":\"outside\"}},\"marker\":{\"colorbar\":{\"outlinewidth\":1,\"tickcolor\":\"rgb(36,36,36)\",\"ticks\":\"outside\"}}}],\"scattermapbox\":[{\"type\":\"scattermapbox\",\"marker\":{\"colorbar\":{\"outlinewidth\":1,\"tickcolor\":\"rgb(36,36,36)\",\"ticks\":\"outside\"}}}],\"scatterternary\":[{\"type\":\"scatterternary\",\"marker\":{\"colorbar\":{\"outlinewidth\":1,\"tickcolor\":\"rgb(36,36,36)\",\"ticks\":\"outside\"}}}],\"scattercarpet\":[{\"type\":\"scattercarpet\",\"marker\":{\"colorbar\":{\"outlinewidth\":1,\"tickcolor\":\"rgb(36,36,36)\",\"ticks\":\"outside\"}}}],\"carpet\":[{\"aaxis\":{\"endlinecolor\":\"rgb(36,36,36)\",\"gridcolor\":\"white\",\"linecolor\":\"white\",\"minorgridcolor\":\"white\",\"startlinecolor\":\"rgb(36,36,36)\"},\"baxis\":{\"endlinecolor\":\"rgb(36,36,36)\",\"gridcolor\":\"white\",\"linecolor\":\"white\",\"minorgridcolor\":\"white\",\"startlinecolor\":\"rgb(36,36,36)\"},\"type\":\"carpet\"}],\"table\":[{\"cells\":{\"fill\":{\"color\":\"rgb(237,237,237)\"},\"line\":{\"color\":\"white\"}},\"header\":{\"fill\":{\"color\":\"rgb(217,217,217)\"},\"line\":{\"color\":\"white\"}},\"type\":\"table\"}],\"barpolar\":[{\"marker\":{\"line\":{\"color\":\"white\",\"width\":0.5},\"pattern\":{\"fillmode\":\"overlay\",\"size\":10,\"solidity\":0.2}},\"type\":\"barpolar\"}],\"pie\":[{\"automargin\":true,\"type\":\"pie\"}]},\"layout\":{\"autotypenumbers\":\"strict\",\"colorway\":[\"#1F77B4\",\"#FF7F0E\",\"#2CA02C\",\"#D62728\",\"#9467BD\",\"#8C564B\",\"#E377C2\",\"#7F7F7F\",\"#BCBD22\",\"#17BECF\"],\"font\":{\"color\":\"rgb(36,36,36)\"},\"hovermode\":\"closest\",\"hoverlabel\":{\"align\":\"left\"},\"paper_bgcolor\":\"white\",\"plot_bgcolor\":\"white\",\"polar\":{\"bgcolor\":\"white\",\"angularaxis\":{\"gridcolor\":\"rgb(232,232,232)\",\"linecolor\":\"rgb(36,36,36)\",\"showgrid\":false,\"showline\":true,\"ticks\":\"outside\"},\"radialaxis\":{\"gridcolor\":\"rgb(232,232,232)\",\"linecolor\":\"rgb(36,36,36)\",\"showgrid\":false,\"showline\":true,\"ticks\":\"outside\"}},\"ternary\":{\"bgcolor\":\"white\",\"aaxis\":{\"gridcolor\":\"rgb(232,232,232)\",\"linecolor\":\"rgb(36,36,36)\",\"showgrid\":false,\"showline\":true,\"ticks\":\"outside\"},\"baxis\":{\"gridcolor\":\"rgb(232,232,232)\",\"linecolor\":\"rgb(36,36,36)\",\"showgrid\":false,\"showline\":true,\"ticks\":\"outside\"},\"caxis\":{\"gridcolor\":\"rgb(232,232,232)\",\"linecolor\":\"rgb(36,36,36)\",\"showgrid\":false,\"showline\":true,\"ticks\":\"outside\"}},\"coloraxis\":{\"colorbar\":{\"outlinewidth\":1,\"tickcolor\":\"rgb(36,36,36)\",\"ticks\":\"outside\"}},\"colorscale\":{\"sequential\":[[0.0,\"#440154\"],[0.1111111111111111,\"#482878\"],[0.2222222222222222,\"#3e4989\"],[0.3333333333333333,\"#31688e\"],[0.4444444444444444,\"#26828e\"],[0.5555555555555556,\"#1f9e89\"],[0.6666666666666666,\"#35b779\"],[0.7777777777777778,\"#6ece58\"],[0.8888888888888888,\"#b5de2b\"],[1.0,\"#fde725\"]],\"sequentialminus\":[[0.0,\"#440154\"],[0.1111111111111111,\"#482878\"],[0.2222222222222222,\"#3e4989\"],[0.3333333333333333,\"#31688e\"],[0.4444444444444444,\"#26828e\"],[0.5555555555555556,\"#1f9e89\"],[0.6666666666666666,\"#35b779\"],[0.7777777777777778,\"#6ece58\"],[0.8888888888888888,\"#b5de2b\"],[1.0,\"#fde725\"]],\"diverging\":[[0.0,\"rgb(103,0,31)\"],[0.1,\"rgb(178,24,43)\"],[0.2,\"rgb(214,96,77)\"],[0.3,\"rgb(244,165,130)\"],[0.4,\"rgb(253,219,199)\"],[0.5,\"rgb(247,247,247)\"],[0.6,\"rgb(209,229,240)\"],[0.7,\"rgb(146,197,222)\"],[0.8,\"rgb(67,147,195)\"],[0.9,\"rgb(33,102,172)\"],[1.0,\"rgb(5,48,97)\"]]},\"xaxis\":{\"gridcolor\":\"rgb(232,232,232)\",\"linecolor\":\"rgb(36,36,36)\",\"showgrid\":false,\"showline\":true,\"ticks\":\"outside\",\"title\":{\"standoff\":15},\"zerolinecolor\":\"rgb(36,36,36)\",\"automargin\":true,\"zeroline\":false},\"yaxis\":{\"gridcolor\":\"rgb(232,232,232)\",\"linecolor\":\"rgb(36,36,36)\",\"showgrid\":false,\"showline\":true,\"ticks\":\"outside\",\"title\":{\"standoff\":15},\"zerolinecolor\":\"rgb(36,36,36)\",\"automargin\":true,\"zeroline\":false},\"scene\":{\"xaxis\":{\"backgroundcolor\":\"white\",\"gridcolor\":\"rgb(232,232,232)\",\"linecolor\":\"rgb(36,36,36)\",\"showbackground\":true,\"showgrid\":false,\"showline\":true,\"ticks\":\"outside\",\"zerolinecolor\":\"rgb(36,36,36)\",\"gridwidth\":2,\"zeroline\":false},\"yaxis\":{\"backgroundcolor\":\"white\",\"gridcolor\":\"rgb(232,232,232)\",\"linecolor\":\"rgb(36,36,36)\",\"showbackground\":true,\"showgrid\":false,\"showline\":true,\"ticks\":\"outside\",\"zerolinecolor\":\"rgb(36,36,36)\",\"gridwidth\":2,\"zeroline\":false},\"zaxis\":{\"backgroundcolor\":\"white\",\"gridcolor\":\"rgb(232,232,232)\",\"linecolor\":\"rgb(36,36,36)\",\"showbackground\":true,\"showgrid\":false,\"showline\":true,\"ticks\":\"outside\",\"zerolinecolor\":\"rgb(36,36,36)\",\"gridwidth\":2,\"zeroline\":false}},\"shapedefaults\":{\"fillcolor\":\"black\",\"line\":{\"width\":0},\"opacity\":0.3},\"annotationdefaults\":{\"arrowhead\":0,\"arrowwidth\":1},\"geo\":{\"bgcolor\":\"white\",\"landcolor\":\"white\",\"subunitcolor\":\"white\",\"showland\":true,\"showlakes\":true,\"lakecolor\":\"white\"},\"title\":{\"x\":0.05},\"mapbox\":{\"style\":\"light\"}}},\"updatemenus\":[{\"active\":0,\"buttons\":[{\"args\":[{\"visible\":[true,false,false,false,false,false,false,false,false]}],\"label\":\"roll_force\",\"method\":\"update\"},{\"args\":[{\"visible\":[false,true,false,false,false,false,false,false,false]}],\"label\":\"roll_roll_torque\",\"method\":\"update\"},{\"args\":[{\"visible\":[false,false,true,false,false,false,false,false,false]}],\"label\":\"roll_contact_area\",\"method\":\"update\"},{\"args\":[{\"visible\":[false,false,false,true,false,false,false,false,false]}],\"label\":\"in_profile_cross_section_height\",\"method\":\"update\"},{\"args\":[{\"visible\":[false,false,false,false,true,false,false,false,false]}],\"label\":\"out_profile_cross_section_height\",\"method\":\"update\"},{\"args\":[{\"visible\":[false,false,false,false,false,true,false,false,false]}],\"label\":\"temperature_change_by_contact\",\"method\":\"update\"},{\"args\":[{\"visible\":[false,false,false,false,false,false,true,false,false]}],\"label\":\"temperature_change_by_deformation\",\"method\":\"update\"},{\"args\":[{\"visible\":[false,false,false,false,false,false,false,true,false]}],\"label\":\"in_profile_temperature\",\"method\":\"update\"},{\"args\":[{\"visible\":[false,false,false,false,false,false,false,false,true]}],\"label\":\"out_profile_flow_stress\",\"method\":\"update\"}],\"direction\":\"down\",\"type\":\"buttons\",\"x\":-0.15,\"y\":1}],\"width\":1000,\"height\":500},                        {\"responsive\": true}                    ).then(function(){\n",
       "                            \n",
       "var gd = document.getElementById('a3a6bd0e-48a5-40ea-a282-c98e05e5d404');\n",
       "var x = new MutationObserver(function (mutations, observer) {{\n",
       "        var display = window.getComputedStyle(gd).display;\n",
       "        if (!display || display === 'none') {{\n",
       "            console.log([gd, 'removed!']);\n",
       "            Plotly.purge(gd);\n",
       "            observer.disconnect();\n",
       "        }}\n",
       "}});\n",
       "\n",
       "// Listen for the removal of the full notebook cells\n",
       "var notebookContainer = gd.closest('#notebook-container');\n",
       "if (notebookContainer) {{\n",
       "    x.observe(notebookContainer, {childList: true});\n",
       "}}\n",
       "\n",
       "// Listen for the clearing of the current output cell\n",
       "var outputEl = gd.closest('.output');\n",
       "if (outputEl) {{\n",
       "    x.observe(outputEl, {childList: true});\n",
       "}}\n",
       "\n",
       "                        })                };                });            </script>        </div>"
      ]
     },
     "metadata": {},
     "output_type": "display_data"
    }
   ],
   "execution_count": 59
  },
  {
   "cell_type": "code",
   "id": "aaf967d151dc238f",
   "metadata": {
    "collapsed": false,
    "jupyter": {
     "outputs_hidden": false
    },
    "ExecuteTime": {
     "end_time": "2025-01-14T10:18:22.167669Z",
     "start_time": "2025-01-14T10:18:22.138259Z"
    }
   },
   "source": [
    "sequence[-1].plot()"
   ],
   "outputs": [
    {
     "data": {
      "application/vnd.plotly.v1+json": {
       "data": [
        {
         "fill": "toself",
         "line": {
          "color": "red"
         },
         "mode": "lines",
         "name": "in profile",
         "x": [
          0.0010386296983040633,
          -0.0010386296983040633,
          -0.0011573596027388332,
          -0.001304900192284478,
          -0.0014422198478131478,
          -0.001569692359489854,
          -0.0016876485585959908,
          -0.001796381493672306,
          -0.001896150726592272,
          -0.00198718591509167,
          -0.0020696898110351466,
          -0.0021438407755935956,
          -0.002209794891047943,
          -0.0022676877323661877,
          -0.002317635848760751,
          -0.0023597379952084805,
          -0.00239407614573392,
          -0.0024207163136176005,
          -0.002439709198216962,
          -0.0024510906734879507,
          -0.0024548821293424914,
          -0.0024510906734879507,
          -0.002439709198216962,
          -0.0024207163136176005,
          -0.00239407614573392,
          -0.0023597379952084805,
          -0.002317635848760751,
          -0.0022676877323661877,
          -0.002209794891047943,
          -0.0021438407755935956,
          -0.0020696898110351466,
          -0.00198718591509167,
          -0.001896150726592272,
          -0.001796381493672306,
          -0.0016876485585959908,
          -0.001569692359489854,
          -0.0014422198478131478,
          -0.001304900192284478,
          -0.0011573596027388332,
          -0.0010386296983040633,
          0.0010386296983040633,
          0.0011573596027388332,
          0.001304900192284478,
          0.0014422198478131478,
          0.001569692359489854,
          0.0016876485585959908,
          0.001796381493672306,
          0.001896150726592272,
          0.00198718591509167,
          0.0020696898110351466,
          0.0021438407755935956,
          0.002209794891047943,
          0.0022676877323661877,
          0.002317635848760751,
          0.0023597379952084805,
          0.00239407614573392,
          0.0024207163136176005,
          0.002439709198216962,
          0.0024510906734879507,
          0.0024548821293424914,
          0.0024510906734879507,
          0.002439709198216962,
          0.0024207163136176005,
          0.00239407614573392,
          0.0023597379952084805,
          0.002317635848760751,
          0.0022676877323661877,
          0.002209794891047943,
          0.0021438407755935956,
          0.0020696898110351466,
          0.00198718591509167,
          0.001896150726592272,
          0.001796381493672306,
          0.0016876485585959908,
          0.001569692359489854,
          0.0014422198478131478,
          0.001304900192284478,
          0.0011573596027388332,
          0.0010386296983040633
         ],
         "y": [
          -0.005690978231065288,
          -0.005690978231065288,
          -0.005463170571145018,
          -0.005159661094970295,
          -0.004856151618795572,
          -0.004552642142620848,
          -0.004249132666446126,
          -0.0039456231902714025,
          -0.003642113714096679,
          -0.003338604237921956,
          -0.0030350947617472325,
          -0.0027315852855725096,
          -0.0024280758093977862,
          -0.0021245663332230633,
          -0.00182105685704834,
          -0.0015175473808736167,
          -0.0012140379046988933,
          -9.1052842852417E-4,
          -6.070189523494467E-4,
          -3.0350947617472333E-4,
          0.0,
          3.0350947617472333E-4,
          6.070189523494467E-4,
          9.1052842852417E-4,
          0.0012140379046988933,
          0.0015175473808736167,
          0.00182105685704834,
          0.0021245663332230633,
          0.0024280758093977862,
          0.0027315852855725096,
          0.0030350947617472325,
          0.003338604237921956,
          0.003642113714096679,
          0.0039456231902714025,
          0.004249132666446126,
          0.004552642142620848,
          0.004856151618795572,
          0.005159661094970295,
          0.005463170571145018,
          0.005690978231065288,
          0.005690978231065288,
          0.005463170571145018,
          0.005159661094970295,
          0.004856151618795572,
          0.004552642142620848,
          0.004249132666446126,
          0.0039456231902714025,
          0.003642113714096679,
          0.003338604237921956,
          0.0030350947617472325,
          0.0027315852855725096,
          0.0024280758093977862,
          0.0021245663332230633,
          0.00182105685704834,
          0.0015175473808736167,
          0.0012140379046988933,
          9.1052842852417E-4,
          6.070189523494467E-4,
          3.0350947617472333E-4,
          0.0,
          -3.0350947617472333E-4,
          -6.070189523494467E-4,
          -9.1052842852417E-4,
          -0.0012140379046988933,
          -0.0015175473808736167,
          -0.00182105685704834,
          -0.0021245663332230633,
          -0.0024280758093977862,
          -0.0027315852855725096,
          -0.0030350947617472325,
          -0.003338604237921956,
          -0.003642113714096679,
          -0.0039456231902714025,
          -0.004249132666446126,
          -0.004552642142620848,
          -0.004856151618795572,
          -0.005159661094970295,
          -0.005463170571145018,
          -0.005690978231065288
         ],
         "type": "scatter"
        },
        {
         "line": {
          "color": "red",
          "dash": "dash"
         },
         "mode": "lines",
         "name": "in eq. rectangle",
         "x": [
          -0.0024548821293424914,
          0.0024548821293424914,
          0.0024548821293424914,
          -0.0024548821293424914,
          -0.0024548821293424914
         ],
         "y": [
          -0.005191030264150955,
          -0.005191030264150955,
          0.005191030264150955,
          0.005191030264150955,
          -0.005191030264150955
         ],
         "type": "scatter"
        },
        {
         "fill": "toself",
         "line": {
          "color": "blue"
         },
         "mode": "lines",
         "name": "out profile",
         "x": [
          -0.003197052767999967,
          -0.003197052767999967,
          -0.003136095115474413,
          -0.002951618932211212,
          -0.0027671427489480115,
          -0.0025826665656848106,
          -0.0023981903824216097,
          -0.002213714199158409,
          -0.0020292380158952084,
          -0.0018447618326320075,
          -0.0016602856493688066,
          -0.0014758094661056062,
          -0.0012913332828424053,
          -0.0011068570995792044,
          -9.22380916316004E-4,
          -7.379047330528031E-4,
          -5.534285497896022E-4,
          -3.6895236652640176E-4,
          -1.8447618326320088E-4,
          0.0,
          1.8447618326320088E-4,
          3.6895236652640176E-4,
          5.534285497896022E-4,
          7.379047330528031E-4,
          9.22380916316004E-4,
          0.0011068570995792044,
          0.0012913332828424053,
          0.0014758094661056062,
          0.0016602856493688066,
          0.0018447618326320075,
          0.0020292380158952084,
          0.002213714199158409,
          0.0023981903824216097,
          0.0025826665656848106,
          0.0027671427489480115,
          0.002951618932211212,
          0.003136095115474413,
          0.003197052767999967,
          0.003197052767999967,
          0.003136095115474413,
          0.002951618932211212,
          0.0027671427489480115,
          0.0025826665656848106,
          0.0023981903824216097,
          0.002213714199158409,
          0.0020292380158952084,
          0.0018447618326320075,
          0.0016602856493688066,
          0.0014758094661056062,
          0.0012913332828424053,
          0.0011068570995792044,
          9.22380916316004E-4,
          7.379047330528031E-4,
          5.534285497896022E-4,
          3.6895236652640176E-4,
          1.8447618326320088E-4,
          0.0,
          -1.8447618326320088E-4,
          -3.6895236652640176E-4,
          -5.534285497896022E-4,
          -7.379047330528031E-4,
          -9.22380916316004E-4,
          -0.0011068570995792044,
          -0.0012913332828424053,
          -0.0014758094661056062,
          -0.0016602856493688066,
          -0.0018447618326320075,
          -0.0020292380158952084,
          -0.002213714199158409,
          -0.0023981903824216097,
          -0.0025826665656848106,
          -0.0027671427489480115,
          -0.002951618932211212,
          -0.003136095115474413,
          -0.003197052767999967
         ],
         "y": [
          -0.002228192300755861,
          0.002228192300755861,
          0.0023183846589161015,
          0.002549106839466001,
          0.002748257813041644,
          0.0029222993362237595,
          0.003075497177638193,
          0.003210836253134757,
          0.003330494418978311,
          0.003436110269019927,
          0.0035289448228188547,
          0.0036099842686295857,
          0.0036800079283370373,
          0.0037396346561009283,
          0.0037893552809437183,
          0.0038295556667762736,
          0.00386053323263481,
          0.0038825087445148875,
          0.0038956345488005725,
          0.0039,
          0.0038956345488005725,
          0.0038825087445148875,
          0.00386053323263481,
          0.0038295556667762736,
          0.0037893552809437183,
          0.0037396346561009283,
          0.0036800079283370373,
          0.0036099842686295857,
          0.0035289448228188547,
          0.003436110269019927,
          0.003330494418978311,
          0.003210836253134757,
          0.003075497177638193,
          0.0029222993362237595,
          0.002748257813041644,
          0.002549106839466001,
          0.0023183846589161015,
          0.002228192300755861,
          -0.002228192300755861,
          -0.0023183846589161015,
          -0.002549106839466001,
          -0.002748257813041644,
          -0.0029222993362237595,
          -0.003075497177638193,
          -0.003210836253134757,
          -0.003330494418978311,
          -0.003436110269019927,
          -0.0035289448228188547,
          -0.0036099842686295857,
          -0.0036800079283370373,
          -0.0037396346561009283,
          -0.0037893552809437183,
          -0.0038295556667762736,
          -0.00386053323263481,
          -0.0038825087445148875,
          -0.0038956345488005725,
          -0.0039,
          -0.0038956345488005725,
          -0.0038825087445148875,
          -0.00386053323263481,
          -0.0038295556667762736,
          -0.0037893552809437183,
          -0.0037396346561009283,
          -0.0036800079283370373,
          -0.0036099842686295857,
          -0.0035289448228188547,
          -0.003436110269019927,
          -0.003330494418978311,
          -0.003210836253134757,
          -0.003075497177638193,
          -0.0029222993362237595,
          -0.002748257813041644,
          -0.002549106839466001,
          -0.0023183846589161015,
          -0.002228192300755861
         ],
         "type": "scatter"
        },
        {
         "line": {
          "color": "blue",
          "dash": "dash"
         },
         "mode": "lines",
         "name": "out eq. rectangle",
         "x": [
          -0.003197052767999967,
          0.003197052767999967,
          0.003197052767999967,
          -0.003197052767999967,
          -0.003197052767999967
         ],
         "y": [
          -0.0037241862194681012,
          -0.0037241862194681012,
          0.0037241862194681012,
          0.0037241862194681012,
          -0.0037241862194681012
         ],
         "type": "scatter"
        },
        {
         "line": {
          "color": "black"
         },
         "mode": "lines",
         "name": "roll surface",
         "showlegend": true,
         "x": [
          -0.006723308428428389,
          -0.005108571228827097,
          -0.005037618850648943,
          -0.004966666472470789,
          -0.004895714094292635,
          -0.0048247617161144805,
          -0.004753809337936327,
          -0.004682856959758172,
          -0.0046119045815800185,
          -0.004540952203401864,
          -0.00446999982522371,
          -0.004399047447045556,
          -0.004328095068867402,
          -0.004257142690689247,
          -0.004186190312511094,
          -0.00411523793433294,
          -0.004044285556154785,
          -0.003973333177976631,
          -0.003902380799798477,
          -0.003831428421620323,
          -0.0037604760434421687,
          -0.003689523665264015,
          -0.003505047482000814,
          -0.0033205712987376137,
          -0.003136095115474413,
          -0.002951618932211212,
          -0.0027671427489480115,
          -0.0025826665656848106,
          -0.0023981903824216097,
          -0.002213714199158409,
          -0.0020292380158952084,
          -0.0018447618326320075,
          -0.0016602856493688066,
          -0.0014758094661056062,
          -0.0012913332828424053,
          -0.0011068570995792044,
          -9.22380916316004E-4,
          -7.379047330528031E-4,
          -5.534285497896022E-4,
          -3.6895236652640176E-4,
          -1.8447618326320088E-4,
          0.0,
          1.8447618326320088E-4,
          3.6895236652640176E-4,
          5.534285497896022E-4,
          7.379047330528031E-4,
          9.22380916316004E-4,
          0.0011068570995792044,
          0.0012913332828424053,
          0.0014758094661056062,
          0.0016602856493688066,
          0.0018447618326320075,
          0.0020292380158952084,
          0.002213714199158409,
          0.0023981903824216097,
          0.0025826665656848106,
          0.0027671427489480115,
          0.002951618932211212,
          0.003136095115474413,
          0.0033205712987376137,
          0.003505047482000814,
          0.003689523665264015,
          0.0037604760434421687,
          0.003831428421620323,
          0.003902380799798477,
          0.003973333177976631,
          0.004044285556154785,
          0.00411523793433294,
          0.004186190312511094,
          0.004257142690689247,
          0.004328095068867402,
          0.004399047447045556,
          0.00446999982522371,
          0.004540952203401864,
          0.0046119045815800185,
          0.004682856959758172,
          0.004753809337936327,
          0.0048247617161144805,
          0.004895714094292635,
          0.004966666472470789,
          0.005037618850648943,
          0.005108571228827097,
          0.006723308428428389
         ],
         "y": [
          2.499999999999998E-4,
          2.499999999999998E-4,
          2.5167901969208725E-4,
          2.5672740595581237E-4,
          2.6517952590968813E-4,
          2.770939743168175E-4,
          2.925556611754925E-4,
          3.116789784227197E-4,
          3.346123352549852E-4,
          3.615445120655437E-4,
          3.927135296850554E-4,
          4.284191273000279E-4,
          4.6904060808526465E-4,
          5.15062979563555E-4,
          5.67116470139156E-4,
          6.260387168370146E-4,
          6.929777642147516E-4,
          7.695742925130766E-4,
          8.583135927245758E-4,
          9.632940511220216E-4,
          0.0010922467247196895,
          0.0012638888888888877,
          0.0017101585157288056,
          0.0020454354670827422,
          0.0023183846589161015,
          0.002549106839466001,
          0.002748257813041644,
          0.0029222993362237595,
          0.003075497177638193,
          0.003210836253134757,
          0.003330494418978311,
          0.003436110269019927,
          0.0035289448228188547,
          0.0036099842686295857,
          0.0036800079283370373,
          0.0037396346561009283,
          0.0037893552809437183,
          0.0038295556667762736,
          0.00386053323263481,
          0.0038825087445148875,
          0.0038956345488005725,
          0.0039,
          0.0038956345488005725,
          0.0038825087445148875,
          0.00386053323263481,
          0.0038295556667762736,
          0.0037893552809437183,
          0.0037396346561009283,
          0.0036800079283370373,
          0.0036099842686295857,
          0.0035289448228188547,
          0.003436110269019927,
          0.003330494418978311,
          0.003210836253134757,
          0.003075497177638193,
          0.0029222993362237595,
          0.002748257813041644,
          0.002549106839466001,
          0.0023183846589161015,
          0.0020454354670827422,
          0.0017101585157288056,
          0.0012638888888888877,
          0.0010922467247196895,
          9.632940511220216E-4,
          8.583135927245758E-4,
          7.695742925130766E-4,
          6.929777642147516E-4,
          6.260387168370146E-4,
          5.67116470139156E-4,
          5.15062979563555E-4,
          4.6904060808526465E-4,
          4.284191273000279E-4,
          3.927135296850554E-4,
          3.615445120655437E-4,
          3.346123352549852E-4,
          3.116789784227197E-4,
          2.925556611754925E-4,
          2.770939743168175E-4,
          2.6517952590968813E-4,
          2.5672740595581237E-4,
          2.5167901969208725E-4,
          2.499999999999998E-4,
          2.499999999999998E-4
         ],
         "type": "scatter"
        },
        {
         "line": {
          "color": "black"
         },
         "mode": "lines",
         "name": "roll surface",
         "showlegend": false,
         "x": [
          0.006723308428428389,
          0.005108571228827097,
          0.005037618850648943,
          0.004966666472470789,
          0.004895714094292635,
          0.0048247617161144805,
          0.004753809337936327,
          0.004682856959758172,
          0.0046119045815800185,
          0.004540952203401864,
          0.00446999982522371,
          0.004399047447045556,
          0.004328095068867402,
          0.004257142690689247,
          0.004186190312511094,
          0.00411523793433294,
          0.004044285556154785,
          0.003973333177976631,
          0.003902380799798477,
          0.003831428421620323,
          0.0037604760434421687,
          0.003689523665264015,
          0.003505047482000814,
          0.0033205712987376137,
          0.003136095115474413,
          0.002951618932211212,
          0.0027671427489480115,
          0.0025826665656848106,
          0.0023981903824216097,
          0.002213714199158409,
          0.0020292380158952084,
          0.0018447618326320075,
          0.0016602856493688066,
          0.0014758094661056062,
          0.0012913332828424053,
          0.0011068570995792044,
          9.22380916316004E-4,
          7.379047330528031E-4,
          5.534285497896022E-4,
          3.6895236652640176E-4,
          1.8447618326320088E-4,
          0.0,
          -1.8447618326320088E-4,
          -3.6895236652640176E-4,
          -5.534285497896022E-4,
          -7.379047330528031E-4,
          -9.22380916316004E-4,
          -0.0011068570995792044,
          -0.0012913332828424053,
          -0.0014758094661056062,
          -0.0016602856493688066,
          -0.0018447618326320075,
          -0.0020292380158952084,
          -0.002213714199158409,
          -0.0023981903824216097,
          -0.0025826665656848106,
          -0.0027671427489480115,
          -0.002951618932211212,
          -0.003136095115474413,
          -0.0033205712987376137,
          -0.003505047482000814,
          -0.003689523665264015,
          -0.0037604760434421687,
          -0.003831428421620323,
          -0.003902380799798477,
          -0.003973333177976631,
          -0.004044285556154785,
          -0.00411523793433294,
          -0.004186190312511094,
          -0.004257142690689247,
          -0.004328095068867402,
          -0.004399047447045556,
          -0.00446999982522371,
          -0.004540952203401864,
          -0.0046119045815800185,
          -0.004682856959758172,
          -0.004753809337936327,
          -0.0048247617161144805,
          -0.004895714094292635,
          -0.004966666472470789,
          -0.005037618850648943,
          -0.005108571228827097,
          -0.006723308428428389
         ],
         "y": [
          -2.499999999999998E-4,
          -2.499999999999998E-4,
          -2.5167901969208725E-4,
          -2.5672740595581237E-4,
          -2.6517952590968813E-4,
          -2.770939743168175E-4,
          -2.925556611754925E-4,
          -3.116789784227197E-4,
          -3.346123352549852E-4,
          -3.615445120655437E-4,
          -3.927135296850554E-4,
          -4.284191273000279E-4,
          -4.6904060808526465E-4,
          -5.15062979563555E-4,
          -5.67116470139156E-4,
          -6.260387168370146E-4,
          -6.929777642147516E-4,
          -7.695742925130766E-4,
          -8.583135927245758E-4,
          -9.632940511220216E-4,
          -0.0010922467247196895,
          -0.0012638888888888877,
          -0.0017101585157288056,
          -0.0020454354670827422,
          -0.0023183846589161015,
          -0.002549106839466001,
          -0.002748257813041644,
          -0.0029222993362237595,
          -0.003075497177638193,
          -0.003210836253134757,
          -0.003330494418978311,
          -0.003436110269019927,
          -0.0035289448228188547,
          -0.0036099842686295857,
          -0.0036800079283370373,
          -0.0037396346561009283,
          -0.0037893552809437183,
          -0.0038295556667762736,
          -0.00386053323263481,
          -0.0038825087445148875,
          -0.0038956345488005725,
          -0.0039,
          -0.0038956345488005725,
          -0.0038825087445148875,
          -0.00386053323263481,
          -0.0038295556667762736,
          -0.0037893552809437183,
          -0.0037396346561009283,
          -0.0036800079283370373,
          -0.0036099842686295857,
          -0.0035289448228188547,
          -0.003436110269019927,
          -0.003330494418978311,
          -0.003210836253134757,
          -0.003075497177638193,
          -0.0029222993362237595,
          -0.002748257813041644,
          -0.002549106839466001,
          -0.0023183846589161015,
          -0.0020454354670827422,
          -0.0017101585157288056,
          -0.0012638888888888877,
          -0.0010922467247196895,
          -9.632940511220216E-4,
          -8.583135927245758E-4,
          -7.695742925130766E-4,
          -6.929777642147516E-4,
          -6.260387168370146E-4,
          -5.67116470139156E-4,
          -5.15062979563555E-4,
          -4.6904060808526465E-4,
          -4.284191273000279E-4,
          -3.927135296850554E-4,
          -3.615445120655437E-4,
          -3.346123352549852E-4,
          -3.116789784227197E-4,
          -2.925556611754925E-4,
          -2.770939743168175E-4,
          -2.6517952590968813E-4,
          -2.5672740595581237E-4,
          -2.5167901969208725E-4,
          -2.499999999999998E-4,
          -2.499999999999998E-4
         ],
         "type": "scatter"
        }
       ],
       "layout": {
        "height": 480,
        "template": {
         "data": {
          "barpolar": [
           {
            "marker": {
             "line": {
              "color": "white",
              "width": 0.5
             },
             "pattern": {
              "fillmode": "overlay",
              "size": 10,
              "solidity": 0.2
             }
            },
            "type": "barpolar"
           }
          ],
          "bar": [
           {
            "error_x": {
             "color": "rgb(36,36,36)"
            },
            "error_y": {
             "color": "rgb(36,36,36)"
            },
            "marker": {
             "line": {
              "color": "white",
              "width": 0.5
             },
             "pattern": {
              "fillmode": "overlay",
              "size": 10,
              "solidity": 0.2
             }
            },
            "type": "bar"
           }
          ],
          "carpet": [
           {
            "aaxis": {
             "endlinecolor": "rgb(36,36,36)",
             "gridcolor": "white",
             "linecolor": "white",
             "minorgridcolor": "white",
             "startlinecolor": "rgb(36,36,36)"
            },
            "baxis": {
             "endlinecolor": "rgb(36,36,36)",
             "gridcolor": "white",
             "linecolor": "white",
             "minorgridcolor": "white",
             "startlinecolor": "rgb(36,36,36)"
            },
            "type": "carpet"
           }
          ],
          "choropleth": [
           {
            "colorbar": {
             "outlinewidth": 1,
             "tickcolor": "rgb(36,36,36)",
             "ticks": "outside"
            },
            "type": "choropleth"
           }
          ],
          "contourcarpet": [
           {
            "colorbar": {
             "outlinewidth": 1,
             "tickcolor": "rgb(36,36,36)",
             "ticks": "outside"
            },
            "type": "contourcarpet"
           }
          ],
          "contour": [
           {
            "colorbar": {
             "outlinewidth": 1,
             "tickcolor": "rgb(36,36,36)",
             "ticks": "outside"
            },
            "colorscale": [
             [
              0.0,
              "#440154"
             ],
             [
              0.1111111111111111,
              "#482878"
             ],
             [
              0.2222222222222222,
              "#3e4989"
             ],
             [
              0.3333333333333333,
              "#31688e"
             ],
             [
              0.4444444444444444,
              "#26828e"
             ],
             [
              0.5555555555555556,
              "#1f9e89"
             ],
             [
              0.6666666666666666,
              "#35b779"
             ],
             [
              0.7777777777777778,
              "#6ece58"
             ],
             [
              0.8888888888888888,
              "#b5de2b"
             ],
             [
              1.0,
              "#fde725"
             ]
            ],
            "type": "contour"
           }
          ],
          "heatmapgl": [
           {
            "colorbar": {
             "outlinewidth": 1,
             "tickcolor": "rgb(36,36,36)",
             "ticks": "outside"
            },
            "colorscale": [
             [
              0.0,
              "#440154"
             ],
             [
              0.1111111111111111,
              "#482878"
             ],
             [
              0.2222222222222222,
              "#3e4989"
             ],
             [
              0.3333333333333333,
              "#31688e"
             ],
             [
              0.4444444444444444,
              "#26828e"
             ],
             [
              0.5555555555555556,
              "#1f9e89"
             ],
             [
              0.6666666666666666,
              "#35b779"
             ],
             [
              0.7777777777777778,
              "#6ece58"
             ],
             [
              0.8888888888888888,
              "#b5de2b"
             ],
             [
              1.0,
              "#fde725"
             ]
            ],
            "type": "heatmapgl"
           }
          ],
          "heatmap": [
           {
            "colorbar": {
             "outlinewidth": 1,
             "tickcolor": "rgb(36,36,36)",
             "ticks": "outside"
            },
            "colorscale": [
             [
              0.0,
              "#440154"
             ],
             [
              0.1111111111111111,
              "#482878"
             ],
             [
              0.2222222222222222,
              "#3e4989"
             ],
             [
              0.3333333333333333,
              "#31688e"
             ],
             [
              0.4444444444444444,
              "#26828e"
             ],
             [
              0.5555555555555556,
              "#1f9e89"
             ],
             [
              0.6666666666666666,
              "#35b779"
             ],
             [
              0.7777777777777778,
              "#6ece58"
             ],
             [
              0.8888888888888888,
              "#b5de2b"
             ],
             [
              1.0,
              "#fde725"
             ]
            ],
            "type": "heatmap"
           }
          ],
          "histogram2dcontour": [
           {
            "colorbar": {
             "outlinewidth": 1,
             "tickcolor": "rgb(36,36,36)",
             "ticks": "outside"
            },
            "colorscale": [
             [
              0.0,
              "#440154"
             ],
             [
              0.1111111111111111,
              "#482878"
             ],
             [
              0.2222222222222222,
              "#3e4989"
             ],
             [
              0.3333333333333333,
              "#31688e"
             ],
             [
              0.4444444444444444,
              "#26828e"
             ],
             [
              0.5555555555555556,
              "#1f9e89"
             ],
             [
              0.6666666666666666,
              "#35b779"
             ],
             [
              0.7777777777777778,
              "#6ece58"
             ],
             [
              0.8888888888888888,
              "#b5de2b"
             ],
             [
              1.0,
              "#fde725"
             ]
            ],
            "type": "histogram2dcontour"
           }
          ],
          "histogram2d": [
           {
            "colorbar": {
             "outlinewidth": 1,
             "tickcolor": "rgb(36,36,36)",
             "ticks": "outside"
            },
            "colorscale": [
             [
              0.0,
              "#440154"
             ],
             [
              0.1111111111111111,
              "#482878"
             ],
             [
              0.2222222222222222,
              "#3e4989"
             ],
             [
              0.3333333333333333,
              "#31688e"
             ],
             [
              0.4444444444444444,
              "#26828e"
             ],
             [
              0.5555555555555556,
              "#1f9e89"
             ],
             [
              0.6666666666666666,
              "#35b779"
             ],
             [
              0.7777777777777778,
              "#6ece58"
             ],
             [
              0.8888888888888888,
              "#b5de2b"
             ],
             [
              1.0,
              "#fde725"
             ]
            ],
            "type": "histogram2d"
           }
          ],
          "histogram": [
           {
            "marker": {
             "line": {
              "color": "white",
              "width": 0.6
             }
            },
            "type": "histogram"
           }
          ],
          "mesh3d": [
           {
            "colorbar": {
             "outlinewidth": 1,
             "tickcolor": "rgb(36,36,36)",
             "ticks": "outside"
            },
            "type": "mesh3d"
           }
          ],
          "parcoords": [
           {
            "line": {
             "colorbar": {
              "outlinewidth": 1,
              "tickcolor": "rgb(36,36,36)",
              "ticks": "outside"
             }
            },
            "type": "parcoords"
           }
          ],
          "pie": [
           {
            "automargin": true,
            "type": "pie"
           }
          ],
          "scatter3d": [
           {
            "line": {
             "colorbar": {
              "outlinewidth": 1,
              "tickcolor": "rgb(36,36,36)",
              "ticks": "outside"
             }
            },
            "marker": {
             "colorbar": {
              "outlinewidth": 1,
              "tickcolor": "rgb(36,36,36)",
              "ticks": "outside"
             }
            },
            "type": "scatter3d"
           }
          ],
          "scattercarpet": [
           {
            "marker": {
             "colorbar": {
              "outlinewidth": 1,
              "tickcolor": "rgb(36,36,36)",
              "ticks": "outside"
             }
            },
            "type": "scattercarpet"
           }
          ],
          "scattergeo": [
           {
            "marker": {
             "colorbar": {
              "outlinewidth": 1,
              "tickcolor": "rgb(36,36,36)",
              "ticks": "outside"
             }
            },
            "type": "scattergeo"
           }
          ],
          "scattergl": [
           {
            "marker": {
             "colorbar": {
              "outlinewidth": 1,
              "tickcolor": "rgb(36,36,36)",
              "ticks": "outside"
             }
            },
            "type": "scattergl"
           }
          ],
          "scattermapbox": [
           {
            "marker": {
             "colorbar": {
              "outlinewidth": 1,
              "tickcolor": "rgb(36,36,36)",
              "ticks": "outside"
             }
            },
            "type": "scattermapbox"
           }
          ],
          "scatterpolargl": [
           {
            "marker": {
             "colorbar": {
              "outlinewidth": 1,
              "tickcolor": "rgb(36,36,36)",
              "ticks": "outside"
             }
            },
            "type": "scatterpolargl"
           }
          ],
          "scatterpolar": [
           {
            "marker": {
             "colorbar": {
              "outlinewidth": 1,
              "tickcolor": "rgb(36,36,36)",
              "ticks": "outside"
             }
            },
            "type": "scatterpolar"
           }
          ],
          "scatter": [
           {
            "fillpattern": {
             "fillmode": "overlay",
             "size": 10,
             "solidity": 0.2
            },
            "type": "scatter"
           }
          ],
          "scatterternary": [
           {
            "marker": {
             "colorbar": {
              "outlinewidth": 1,
              "tickcolor": "rgb(36,36,36)",
              "ticks": "outside"
             }
            },
            "type": "scatterternary"
           }
          ],
          "surface": [
           {
            "colorbar": {
             "outlinewidth": 1,
             "tickcolor": "rgb(36,36,36)",
             "ticks": "outside"
            },
            "colorscale": [
             [
              0.0,
              "#440154"
             ],
             [
              0.1111111111111111,
              "#482878"
             ],
             [
              0.2222222222222222,
              "#3e4989"
             ],
             [
              0.3333333333333333,
              "#31688e"
             ],
             [
              0.4444444444444444,
              "#26828e"
             ],
             [
              0.5555555555555556,
              "#1f9e89"
             ],
             [
              0.6666666666666666,
              "#35b779"
             ],
             [
              0.7777777777777778,
              "#6ece58"
             ],
             [
              0.8888888888888888,
              "#b5de2b"
             ],
             [
              1.0,
              "#fde725"
             ]
            ],
            "type": "surface"
           }
          ],
          "table": [
           {
            "cells": {
             "fill": {
              "color": "rgb(237,237,237)"
             },
             "line": {
              "color": "white"
             }
            },
            "header": {
             "fill": {
              "color": "rgb(217,217,217)"
             },
             "line": {
              "color": "white"
             }
            },
            "type": "table"
           }
          ]
         },
         "layout": {
          "annotationdefaults": {
           "arrowhead": 0,
           "arrowwidth": 1
          },
          "autotypenumbers": "strict",
          "coloraxis": {
           "colorbar": {
            "outlinewidth": 1,
            "tickcolor": "rgb(36,36,36)",
            "ticks": "outside"
           }
          },
          "colorscale": {
           "diverging": [
            [
             0.0,
             "rgb(103,0,31)"
            ],
            [
             0.1,
             "rgb(178,24,43)"
            ],
            [
             0.2,
             "rgb(214,96,77)"
            ],
            [
             0.3,
             "rgb(244,165,130)"
            ],
            [
             0.4,
             "rgb(253,219,199)"
            ],
            [
             0.5,
             "rgb(247,247,247)"
            ],
            [
             0.6,
             "rgb(209,229,240)"
            ],
            [
             0.7,
             "rgb(146,197,222)"
            ],
            [
             0.8,
             "rgb(67,147,195)"
            ],
            [
             0.9,
             "rgb(33,102,172)"
            ],
            [
             1.0,
             "rgb(5,48,97)"
            ]
           ],
           "sequential": [
            [
             0.0,
             "#440154"
            ],
            [
             0.1111111111111111,
             "#482878"
            ],
            [
             0.2222222222222222,
             "#3e4989"
            ],
            [
             0.3333333333333333,
             "#31688e"
            ],
            [
             0.4444444444444444,
             "#26828e"
            ],
            [
             0.5555555555555556,
             "#1f9e89"
            ],
            [
             0.6666666666666666,
             "#35b779"
            ],
            [
             0.7777777777777778,
             "#6ece58"
            ],
            [
             0.8888888888888888,
             "#b5de2b"
            ],
            [
             1.0,
             "#fde725"
            ]
           ],
           "sequentialminus": [
            [
             0.0,
             "#440154"
            ],
            [
             0.1111111111111111,
             "#482878"
            ],
            [
             0.2222222222222222,
             "#3e4989"
            ],
            [
             0.3333333333333333,
             "#31688e"
            ],
            [
             0.4444444444444444,
             "#26828e"
            ],
            [
             0.5555555555555556,
             "#1f9e89"
            ],
            [
             0.6666666666666666,
             "#35b779"
            ],
            [
             0.7777777777777778,
             "#6ece58"
            ],
            [
             0.8888888888888888,
             "#b5de2b"
            ],
            [
             1.0,
             "#fde725"
            ]
           ]
          },
          "colorway": [
           "#1F77B4",
           "#FF7F0E",
           "#2CA02C",
           "#D62728",
           "#9467BD",
           "#8C564B",
           "#E377C2",
           "#7F7F7F",
           "#BCBD22",
           "#17BECF"
          ],
          "font": {
           "color": "rgb(36,36,36)"
          },
          "geo": {
           "bgcolor": "white",
           "lakecolor": "white",
           "landcolor": "white",
           "showlakes": true,
           "showland": true,
           "subunitcolor": "white"
          },
          "hoverlabel": {
           "align": "left"
          },
          "hovermode": "closest",
          "mapbox": {
           "style": "light"
          },
          "paper_bgcolor": "white",
          "plot_bgcolor": "white",
          "polar": {
           "angularaxis": {
            "gridcolor": "rgb(232,232,232)",
            "linecolor": "rgb(36,36,36)",
            "showgrid": false,
            "showline": true,
            "ticks": "outside"
           },
           "bgcolor": "white",
           "radialaxis": {
            "gridcolor": "rgb(232,232,232)",
            "linecolor": "rgb(36,36,36)",
            "showgrid": false,
            "showline": true,
            "ticks": "outside"
           }
          },
          "scene": {
           "xaxis": {
            "backgroundcolor": "white",
            "gridcolor": "rgb(232,232,232)",
            "gridwidth": 2,
            "linecolor": "rgb(36,36,36)",
            "showbackground": true,
            "showgrid": false,
            "showline": true,
            "ticks": "outside",
            "zeroline": false,
            "zerolinecolor": "rgb(36,36,36)"
           },
           "yaxis": {
            "backgroundcolor": "white",
            "gridcolor": "rgb(232,232,232)",
            "gridwidth": 2,
            "linecolor": "rgb(36,36,36)",
            "showbackground": true,
            "showgrid": false,
            "showline": true,
            "ticks": "outside",
            "zeroline": false,
            "zerolinecolor": "rgb(36,36,36)"
           },
           "zaxis": {
            "backgroundcolor": "white",
            "gridcolor": "rgb(232,232,232)",
            "gridwidth": 2,
            "linecolor": "rgb(36,36,36)",
            "showbackground": true,
            "showgrid": false,
            "showline": true,
            "ticks": "outside",
            "zeroline": false,
            "zerolinecolor": "rgb(36,36,36)"
           }
          },
          "shapedefaults": {
           "fillcolor": "black",
           "line": {
            "width": 0
           },
           "opacity": 0.3
          },
          "ternary": {
           "aaxis": {
            "gridcolor": "rgb(232,232,232)",
            "linecolor": "rgb(36,36,36)",
            "showgrid": false,
            "showline": true,
            "ticks": "outside"
           },
           "baxis": {
            "gridcolor": "rgb(232,232,232)",
            "linecolor": "rgb(36,36,36)",
            "showgrid": false,
            "showline": true,
            "ticks": "outside"
           },
           "bgcolor": "white",
           "caxis": {
            "gridcolor": "rgb(232,232,232)",
            "linecolor": "rgb(36,36,36)",
            "showgrid": false,
            "showline": true,
            "ticks": "outside"
           }
          },
          "title": {
           "x": 0.05
          },
          "xaxis": {
           "automargin": true,
           "gridcolor": "rgb(232,232,232)",
           "linecolor": "rgb(36,36,36)",
           "showgrid": false,
           "showline": true,
           "ticks": "outside",
           "title": {
            "standoff": 15
           },
           "zeroline": false,
           "zerolinecolor": "rgb(36,36,36)"
          },
          "yaxis": {
           "automargin": true,
           "gridcolor": "rgb(232,232,232)",
           "linecolor": "rgb(36,36,36)",
           "showgrid": false,
           "showline": true,
           "ticks": "outside",
           "title": {
            "standoff": 15
           },
           "zeroline": false,
           "zerolinecolor": "rgb(36,36,36)"
          }
         }
        },
        "title": {
         "text": "Roll Pass 'Fertigrund XVIa'"
        },
        "width": 640,
        "xaxis": {
         "title": {
          "text": "z"
         }
        },
        "yaxis": {
         "scaleanchor": "x",
         "scaleratio": 1,
         "title": {
          "text": "y"
         }
        }
       },
       "config": {
        "plotlyServerURL": "https://plot.ly"
       }
      },
      "text/html": [
       "<div>                            <div id=\"27d2e036-d686-4016-bae1-0b42d0eec22a\" class=\"plotly-graph-div\" style=\"height:480px; width:640px;\"></div>            <script type=\"text/javascript\">                require([\"plotly\"], function(Plotly) {                    window.PLOTLYENV=window.PLOTLYENV || {};                                    if (document.getElementById(\"27d2e036-d686-4016-bae1-0b42d0eec22a\")) {                    Plotly.newPlot(                        \"27d2e036-d686-4016-bae1-0b42d0eec22a\",                        [{\"fill\":\"toself\",\"line\":{\"color\":\"red\"},\"mode\":\"lines\",\"name\":\"in profile\",\"x\":[0.0010386296983040633,-0.0010386296983040633,-0.0011573596027388332,-0.001304900192284478,-0.0014422198478131478,-0.001569692359489854,-0.0016876485585959908,-0.001796381493672306,-0.001896150726592272,-0.00198718591509167,-0.0020696898110351466,-0.0021438407755935956,-0.002209794891047943,-0.0022676877323661877,-0.002317635848760751,-0.0023597379952084805,-0.00239407614573392,-0.0024207163136176005,-0.002439709198216962,-0.0024510906734879507,-0.0024548821293424914,-0.0024510906734879507,-0.002439709198216962,-0.0024207163136176005,-0.00239407614573392,-0.0023597379952084805,-0.002317635848760751,-0.0022676877323661877,-0.002209794891047943,-0.0021438407755935956,-0.0020696898110351466,-0.00198718591509167,-0.001896150726592272,-0.001796381493672306,-0.0016876485585959908,-0.001569692359489854,-0.0014422198478131478,-0.001304900192284478,-0.0011573596027388332,-0.0010386296983040633,0.0010386296983040633,0.0011573596027388332,0.001304900192284478,0.0014422198478131478,0.001569692359489854,0.0016876485585959908,0.001796381493672306,0.001896150726592272,0.00198718591509167,0.0020696898110351466,0.0021438407755935956,0.002209794891047943,0.0022676877323661877,0.002317635848760751,0.0023597379952084805,0.00239407614573392,0.0024207163136176005,0.002439709198216962,0.0024510906734879507,0.0024548821293424914,0.0024510906734879507,0.002439709198216962,0.0024207163136176005,0.00239407614573392,0.0023597379952084805,0.002317635848760751,0.0022676877323661877,0.002209794891047943,0.0021438407755935956,0.0020696898110351466,0.00198718591509167,0.001896150726592272,0.001796381493672306,0.0016876485585959908,0.001569692359489854,0.0014422198478131478,0.001304900192284478,0.0011573596027388332,0.0010386296983040633],\"y\":[-0.005690978231065288,-0.005690978231065288,-0.005463170571145018,-0.005159661094970295,-0.004856151618795572,-0.004552642142620848,-0.004249132666446126,-0.0039456231902714025,-0.003642113714096679,-0.003338604237921956,-0.0030350947617472325,-0.0027315852855725096,-0.0024280758093977862,-0.0021245663332230633,-0.00182105685704834,-0.0015175473808736167,-0.0012140379046988933,-0.00091052842852417,-0.0006070189523494467,-0.00030350947617472333,0.0,0.00030350947617472333,0.0006070189523494467,0.00091052842852417,0.0012140379046988933,0.0015175473808736167,0.00182105685704834,0.0021245663332230633,0.0024280758093977862,0.0027315852855725096,0.0030350947617472325,0.003338604237921956,0.003642113714096679,0.0039456231902714025,0.004249132666446126,0.004552642142620848,0.004856151618795572,0.005159661094970295,0.005463170571145018,0.005690978231065288,0.005690978231065288,0.005463170571145018,0.005159661094970295,0.004856151618795572,0.004552642142620848,0.004249132666446126,0.0039456231902714025,0.003642113714096679,0.003338604237921956,0.0030350947617472325,0.0027315852855725096,0.0024280758093977862,0.0021245663332230633,0.00182105685704834,0.0015175473808736167,0.0012140379046988933,0.00091052842852417,0.0006070189523494467,0.00030350947617472333,0.0,-0.00030350947617472333,-0.0006070189523494467,-0.00091052842852417,-0.0012140379046988933,-0.0015175473808736167,-0.00182105685704834,-0.0021245663332230633,-0.0024280758093977862,-0.0027315852855725096,-0.0030350947617472325,-0.003338604237921956,-0.003642113714096679,-0.0039456231902714025,-0.004249132666446126,-0.004552642142620848,-0.004856151618795572,-0.005159661094970295,-0.005463170571145018,-0.005690978231065288],\"type\":\"scatter\"},{\"line\":{\"color\":\"red\",\"dash\":\"dash\"},\"mode\":\"lines\",\"name\":\"in eq. rectangle\",\"x\":[-0.0024548821293424914,0.0024548821293424914,0.0024548821293424914,-0.0024548821293424914,-0.0024548821293424914],\"y\":[-0.005191030264150955,-0.005191030264150955,0.005191030264150955,0.005191030264150955,-0.005191030264150955],\"type\":\"scatter\"},{\"fill\":\"toself\",\"line\":{\"color\":\"blue\"},\"mode\":\"lines\",\"name\":\"out profile\",\"x\":[-0.003197052767999967,-0.003197052767999967,-0.003136095115474413,-0.002951618932211212,-0.0027671427489480115,-0.0025826665656848106,-0.0023981903824216097,-0.002213714199158409,-0.0020292380158952084,-0.0018447618326320075,-0.0016602856493688066,-0.0014758094661056062,-0.0012913332828424053,-0.0011068570995792044,-0.000922380916316004,-0.0007379047330528031,-0.0005534285497896022,-0.00036895236652640176,-0.00018447618326320088,0.0,0.00018447618326320088,0.00036895236652640176,0.0005534285497896022,0.0007379047330528031,0.000922380916316004,0.0011068570995792044,0.0012913332828424053,0.0014758094661056062,0.0016602856493688066,0.0018447618326320075,0.0020292380158952084,0.002213714199158409,0.0023981903824216097,0.0025826665656848106,0.0027671427489480115,0.002951618932211212,0.003136095115474413,0.003197052767999967,0.003197052767999967,0.003136095115474413,0.002951618932211212,0.0027671427489480115,0.0025826665656848106,0.0023981903824216097,0.002213714199158409,0.0020292380158952084,0.0018447618326320075,0.0016602856493688066,0.0014758094661056062,0.0012913332828424053,0.0011068570995792044,0.000922380916316004,0.0007379047330528031,0.0005534285497896022,0.00036895236652640176,0.00018447618326320088,0.0,-0.00018447618326320088,-0.00036895236652640176,-0.0005534285497896022,-0.0007379047330528031,-0.000922380916316004,-0.0011068570995792044,-0.0012913332828424053,-0.0014758094661056062,-0.0016602856493688066,-0.0018447618326320075,-0.0020292380158952084,-0.002213714199158409,-0.0023981903824216097,-0.0025826665656848106,-0.0027671427489480115,-0.002951618932211212,-0.003136095115474413,-0.003197052767999967],\"y\":[-0.002228192300755861,0.002228192300755861,0.0023183846589161015,0.002549106839466001,0.002748257813041644,0.0029222993362237595,0.003075497177638193,0.003210836253134757,0.003330494418978311,0.003436110269019927,0.0035289448228188547,0.0036099842686295857,0.0036800079283370373,0.0037396346561009283,0.0037893552809437183,0.0038295556667762736,0.00386053323263481,0.0038825087445148875,0.0038956345488005725,0.0039,0.0038956345488005725,0.0038825087445148875,0.00386053323263481,0.0038295556667762736,0.0037893552809437183,0.0037396346561009283,0.0036800079283370373,0.0036099842686295857,0.0035289448228188547,0.003436110269019927,0.003330494418978311,0.003210836253134757,0.003075497177638193,0.0029222993362237595,0.002748257813041644,0.002549106839466001,0.0023183846589161015,0.002228192300755861,-0.002228192300755861,-0.0023183846589161015,-0.002549106839466001,-0.002748257813041644,-0.0029222993362237595,-0.003075497177638193,-0.003210836253134757,-0.003330494418978311,-0.003436110269019927,-0.0035289448228188547,-0.0036099842686295857,-0.0036800079283370373,-0.0037396346561009283,-0.0037893552809437183,-0.0038295556667762736,-0.00386053323263481,-0.0038825087445148875,-0.0038956345488005725,-0.0039,-0.0038956345488005725,-0.0038825087445148875,-0.00386053323263481,-0.0038295556667762736,-0.0037893552809437183,-0.0037396346561009283,-0.0036800079283370373,-0.0036099842686295857,-0.0035289448228188547,-0.003436110269019927,-0.003330494418978311,-0.003210836253134757,-0.003075497177638193,-0.0029222993362237595,-0.002748257813041644,-0.002549106839466001,-0.0023183846589161015,-0.002228192300755861],\"type\":\"scatter\"},{\"line\":{\"color\":\"blue\",\"dash\":\"dash\"},\"mode\":\"lines\",\"name\":\"out eq. rectangle\",\"x\":[-0.003197052767999967,0.003197052767999967,0.003197052767999967,-0.003197052767999967,-0.003197052767999967],\"y\":[-0.0037241862194681012,-0.0037241862194681012,0.0037241862194681012,0.0037241862194681012,-0.0037241862194681012],\"type\":\"scatter\"},{\"line\":{\"color\":\"black\"},\"mode\":\"lines\",\"name\":\"roll surface\",\"showlegend\":true,\"x\":[-0.006723308428428389,-0.005108571228827097,-0.005037618850648943,-0.004966666472470789,-0.004895714094292635,-0.0048247617161144805,-0.004753809337936327,-0.004682856959758172,-0.0046119045815800185,-0.004540952203401864,-0.00446999982522371,-0.004399047447045556,-0.004328095068867402,-0.004257142690689247,-0.004186190312511094,-0.00411523793433294,-0.004044285556154785,-0.003973333177976631,-0.003902380799798477,-0.003831428421620323,-0.0037604760434421687,-0.003689523665264015,-0.003505047482000814,-0.0033205712987376137,-0.003136095115474413,-0.002951618932211212,-0.0027671427489480115,-0.0025826665656848106,-0.0023981903824216097,-0.002213714199158409,-0.0020292380158952084,-0.0018447618326320075,-0.0016602856493688066,-0.0014758094661056062,-0.0012913332828424053,-0.0011068570995792044,-0.000922380916316004,-0.0007379047330528031,-0.0005534285497896022,-0.00036895236652640176,-0.00018447618326320088,0.0,0.00018447618326320088,0.00036895236652640176,0.0005534285497896022,0.0007379047330528031,0.000922380916316004,0.0011068570995792044,0.0012913332828424053,0.0014758094661056062,0.0016602856493688066,0.0018447618326320075,0.0020292380158952084,0.002213714199158409,0.0023981903824216097,0.0025826665656848106,0.0027671427489480115,0.002951618932211212,0.003136095115474413,0.0033205712987376137,0.003505047482000814,0.003689523665264015,0.0037604760434421687,0.003831428421620323,0.003902380799798477,0.003973333177976631,0.004044285556154785,0.00411523793433294,0.004186190312511094,0.004257142690689247,0.004328095068867402,0.004399047447045556,0.00446999982522371,0.004540952203401864,0.0046119045815800185,0.004682856959758172,0.004753809337936327,0.0048247617161144805,0.004895714094292635,0.004966666472470789,0.005037618850648943,0.005108571228827097,0.006723308428428389],\"y\":[0.0002499999999999998,0.0002499999999999998,0.00025167901969208725,0.00025672740595581237,0.00026517952590968813,0.0002770939743168175,0.0002925556611754925,0.0003116789784227197,0.0003346123352549852,0.0003615445120655437,0.0003927135296850554,0.0004284191273000279,0.00046904060808526465,0.000515062979563555,0.000567116470139156,0.0006260387168370146,0.0006929777642147516,0.0007695742925130766,0.0008583135927245758,0.0009632940511220216,0.0010922467247196895,0.0012638888888888877,0.0017101585157288056,0.0020454354670827422,0.0023183846589161015,0.002549106839466001,0.002748257813041644,0.0029222993362237595,0.003075497177638193,0.003210836253134757,0.003330494418978311,0.003436110269019927,0.0035289448228188547,0.0036099842686295857,0.0036800079283370373,0.0037396346561009283,0.0037893552809437183,0.0038295556667762736,0.00386053323263481,0.0038825087445148875,0.0038956345488005725,0.0039,0.0038956345488005725,0.0038825087445148875,0.00386053323263481,0.0038295556667762736,0.0037893552809437183,0.0037396346561009283,0.0036800079283370373,0.0036099842686295857,0.0035289448228188547,0.003436110269019927,0.003330494418978311,0.003210836253134757,0.003075497177638193,0.0029222993362237595,0.002748257813041644,0.002549106839466001,0.0023183846589161015,0.0020454354670827422,0.0017101585157288056,0.0012638888888888877,0.0010922467247196895,0.0009632940511220216,0.0008583135927245758,0.0007695742925130766,0.0006929777642147516,0.0006260387168370146,0.000567116470139156,0.000515062979563555,0.00046904060808526465,0.0004284191273000279,0.0003927135296850554,0.0003615445120655437,0.0003346123352549852,0.0003116789784227197,0.0002925556611754925,0.0002770939743168175,0.00026517952590968813,0.00025672740595581237,0.00025167901969208725,0.0002499999999999998,0.0002499999999999998],\"type\":\"scatter\"},{\"line\":{\"color\":\"black\"},\"mode\":\"lines\",\"name\":\"roll surface\",\"showlegend\":false,\"x\":[0.006723308428428389,0.005108571228827097,0.005037618850648943,0.004966666472470789,0.004895714094292635,0.0048247617161144805,0.004753809337936327,0.004682856959758172,0.0046119045815800185,0.004540952203401864,0.00446999982522371,0.004399047447045556,0.004328095068867402,0.004257142690689247,0.004186190312511094,0.00411523793433294,0.004044285556154785,0.003973333177976631,0.003902380799798477,0.003831428421620323,0.0037604760434421687,0.003689523665264015,0.003505047482000814,0.0033205712987376137,0.003136095115474413,0.002951618932211212,0.0027671427489480115,0.0025826665656848106,0.0023981903824216097,0.002213714199158409,0.0020292380158952084,0.0018447618326320075,0.0016602856493688066,0.0014758094661056062,0.0012913332828424053,0.0011068570995792044,0.000922380916316004,0.0007379047330528031,0.0005534285497896022,0.00036895236652640176,0.00018447618326320088,0.0,-0.00018447618326320088,-0.00036895236652640176,-0.0005534285497896022,-0.0007379047330528031,-0.000922380916316004,-0.0011068570995792044,-0.0012913332828424053,-0.0014758094661056062,-0.0016602856493688066,-0.0018447618326320075,-0.0020292380158952084,-0.002213714199158409,-0.0023981903824216097,-0.0025826665656848106,-0.0027671427489480115,-0.002951618932211212,-0.003136095115474413,-0.0033205712987376137,-0.003505047482000814,-0.003689523665264015,-0.0037604760434421687,-0.003831428421620323,-0.003902380799798477,-0.003973333177976631,-0.004044285556154785,-0.00411523793433294,-0.004186190312511094,-0.004257142690689247,-0.004328095068867402,-0.004399047447045556,-0.00446999982522371,-0.004540952203401864,-0.0046119045815800185,-0.004682856959758172,-0.004753809337936327,-0.0048247617161144805,-0.004895714094292635,-0.004966666472470789,-0.005037618850648943,-0.005108571228827097,-0.006723308428428389],\"y\":[-0.0002499999999999998,-0.0002499999999999998,-0.00025167901969208725,-0.00025672740595581237,-0.00026517952590968813,-0.0002770939743168175,-0.0002925556611754925,-0.0003116789784227197,-0.0003346123352549852,-0.0003615445120655437,-0.0003927135296850554,-0.0004284191273000279,-0.00046904060808526465,-0.000515062979563555,-0.000567116470139156,-0.0006260387168370146,-0.0006929777642147516,-0.0007695742925130766,-0.0008583135927245758,-0.0009632940511220216,-0.0010922467247196895,-0.0012638888888888877,-0.0017101585157288056,-0.0020454354670827422,-0.0023183846589161015,-0.002549106839466001,-0.002748257813041644,-0.0029222993362237595,-0.003075497177638193,-0.003210836253134757,-0.003330494418978311,-0.003436110269019927,-0.0035289448228188547,-0.0036099842686295857,-0.0036800079283370373,-0.0037396346561009283,-0.0037893552809437183,-0.0038295556667762736,-0.00386053323263481,-0.0038825087445148875,-0.0038956345488005725,-0.0039,-0.0038956345488005725,-0.0038825087445148875,-0.00386053323263481,-0.0038295556667762736,-0.0037893552809437183,-0.0037396346561009283,-0.0036800079283370373,-0.0036099842686295857,-0.0035289448228188547,-0.003436110269019927,-0.003330494418978311,-0.003210836253134757,-0.003075497177638193,-0.0029222993362237595,-0.002748257813041644,-0.002549106839466001,-0.0023183846589161015,-0.0020454354670827422,-0.0017101585157288056,-0.0012638888888888877,-0.0010922467247196895,-0.0009632940511220216,-0.0008583135927245758,-0.0007695742925130766,-0.0006929777642147516,-0.0006260387168370146,-0.000567116470139156,-0.000515062979563555,-0.00046904060808526465,-0.0004284191273000279,-0.0003927135296850554,-0.0003615445120655437,-0.0003346123352549852,-0.0003116789784227197,-0.0002925556611754925,-0.0002770939743168175,-0.00026517952590968813,-0.00025672740595581237,-0.00025167901969208725,-0.0002499999999999998,-0.0002499999999999998],\"type\":\"scatter\"}],                        {\"height\":480,\"template\":{\"data\":{\"barpolar\":[{\"marker\":{\"line\":{\"color\":\"white\",\"width\":0.5},\"pattern\":{\"fillmode\":\"overlay\",\"size\":10,\"solidity\":0.2}},\"type\":\"barpolar\"}],\"bar\":[{\"error_x\":{\"color\":\"rgb(36,36,36)\"},\"error_y\":{\"color\":\"rgb(36,36,36)\"},\"marker\":{\"line\":{\"color\":\"white\",\"width\":0.5},\"pattern\":{\"fillmode\":\"overlay\",\"size\":10,\"solidity\":0.2}},\"type\":\"bar\"}],\"carpet\":[{\"aaxis\":{\"endlinecolor\":\"rgb(36,36,36)\",\"gridcolor\":\"white\",\"linecolor\":\"white\",\"minorgridcolor\":\"white\",\"startlinecolor\":\"rgb(36,36,36)\"},\"baxis\":{\"endlinecolor\":\"rgb(36,36,36)\",\"gridcolor\":\"white\",\"linecolor\":\"white\",\"minorgridcolor\":\"white\",\"startlinecolor\":\"rgb(36,36,36)\"},\"type\":\"carpet\"}],\"choropleth\":[{\"colorbar\":{\"outlinewidth\":1,\"tickcolor\":\"rgb(36,36,36)\",\"ticks\":\"outside\"},\"type\":\"choropleth\"}],\"contourcarpet\":[{\"colorbar\":{\"outlinewidth\":1,\"tickcolor\":\"rgb(36,36,36)\",\"ticks\":\"outside\"},\"type\":\"contourcarpet\"}],\"contour\":[{\"colorbar\":{\"outlinewidth\":1,\"tickcolor\":\"rgb(36,36,36)\",\"ticks\":\"outside\"},\"colorscale\":[[0.0,\"#440154\"],[0.1111111111111111,\"#482878\"],[0.2222222222222222,\"#3e4989\"],[0.3333333333333333,\"#31688e\"],[0.4444444444444444,\"#26828e\"],[0.5555555555555556,\"#1f9e89\"],[0.6666666666666666,\"#35b779\"],[0.7777777777777778,\"#6ece58\"],[0.8888888888888888,\"#b5de2b\"],[1.0,\"#fde725\"]],\"type\":\"contour\"}],\"heatmapgl\":[{\"colorbar\":{\"outlinewidth\":1,\"tickcolor\":\"rgb(36,36,36)\",\"ticks\":\"outside\"},\"colorscale\":[[0.0,\"#440154\"],[0.1111111111111111,\"#482878\"],[0.2222222222222222,\"#3e4989\"],[0.3333333333333333,\"#31688e\"],[0.4444444444444444,\"#26828e\"],[0.5555555555555556,\"#1f9e89\"],[0.6666666666666666,\"#35b779\"],[0.7777777777777778,\"#6ece58\"],[0.8888888888888888,\"#b5de2b\"],[1.0,\"#fde725\"]],\"type\":\"heatmapgl\"}],\"heatmap\":[{\"colorbar\":{\"outlinewidth\":1,\"tickcolor\":\"rgb(36,36,36)\",\"ticks\":\"outside\"},\"colorscale\":[[0.0,\"#440154\"],[0.1111111111111111,\"#482878\"],[0.2222222222222222,\"#3e4989\"],[0.3333333333333333,\"#31688e\"],[0.4444444444444444,\"#26828e\"],[0.5555555555555556,\"#1f9e89\"],[0.6666666666666666,\"#35b779\"],[0.7777777777777778,\"#6ece58\"],[0.8888888888888888,\"#b5de2b\"],[1.0,\"#fde725\"]],\"type\":\"heatmap\"}],\"histogram2dcontour\":[{\"colorbar\":{\"outlinewidth\":1,\"tickcolor\":\"rgb(36,36,36)\",\"ticks\":\"outside\"},\"colorscale\":[[0.0,\"#440154\"],[0.1111111111111111,\"#482878\"],[0.2222222222222222,\"#3e4989\"],[0.3333333333333333,\"#31688e\"],[0.4444444444444444,\"#26828e\"],[0.5555555555555556,\"#1f9e89\"],[0.6666666666666666,\"#35b779\"],[0.7777777777777778,\"#6ece58\"],[0.8888888888888888,\"#b5de2b\"],[1.0,\"#fde725\"]],\"type\":\"histogram2dcontour\"}],\"histogram2d\":[{\"colorbar\":{\"outlinewidth\":1,\"tickcolor\":\"rgb(36,36,36)\",\"ticks\":\"outside\"},\"colorscale\":[[0.0,\"#440154\"],[0.1111111111111111,\"#482878\"],[0.2222222222222222,\"#3e4989\"],[0.3333333333333333,\"#31688e\"],[0.4444444444444444,\"#26828e\"],[0.5555555555555556,\"#1f9e89\"],[0.6666666666666666,\"#35b779\"],[0.7777777777777778,\"#6ece58\"],[0.8888888888888888,\"#b5de2b\"],[1.0,\"#fde725\"]],\"type\":\"histogram2d\"}],\"histogram\":[{\"marker\":{\"line\":{\"color\":\"white\",\"width\":0.6}},\"type\":\"histogram\"}],\"mesh3d\":[{\"colorbar\":{\"outlinewidth\":1,\"tickcolor\":\"rgb(36,36,36)\",\"ticks\":\"outside\"},\"type\":\"mesh3d\"}],\"parcoords\":[{\"line\":{\"colorbar\":{\"outlinewidth\":1,\"tickcolor\":\"rgb(36,36,36)\",\"ticks\":\"outside\"}},\"type\":\"parcoords\"}],\"pie\":[{\"automargin\":true,\"type\":\"pie\"}],\"scatter3d\":[{\"line\":{\"colorbar\":{\"outlinewidth\":1,\"tickcolor\":\"rgb(36,36,36)\",\"ticks\":\"outside\"}},\"marker\":{\"colorbar\":{\"outlinewidth\":1,\"tickcolor\":\"rgb(36,36,36)\",\"ticks\":\"outside\"}},\"type\":\"scatter3d\"}],\"scattercarpet\":[{\"marker\":{\"colorbar\":{\"outlinewidth\":1,\"tickcolor\":\"rgb(36,36,36)\",\"ticks\":\"outside\"}},\"type\":\"scattercarpet\"}],\"scattergeo\":[{\"marker\":{\"colorbar\":{\"outlinewidth\":1,\"tickcolor\":\"rgb(36,36,36)\",\"ticks\":\"outside\"}},\"type\":\"scattergeo\"}],\"scattergl\":[{\"marker\":{\"colorbar\":{\"outlinewidth\":1,\"tickcolor\":\"rgb(36,36,36)\",\"ticks\":\"outside\"}},\"type\":\"scattergl\"}],\"scattermapbox\":[{\"marker\":{\"colorbar\":{\"outlinewidth\":1,\"tickcolor\":\"rgb(36,36,36)\",\"ticks\":\"outside\"}},\"type\":\"scattermapbox\"}],\"scatterpolargl\":[{\"marker\":{\"colorbar\":{\"outlinewidth\":1,\"tickcolor\":\"rgb(36,36,36)\",\"ticks\":\"outside\"}},\"type\":\"scatterpolargl\"}],\"scatterpolar\":[{\"marker\":{\"colorbar\":{\"outlinewidth\":1,\"tickcolor\":\"rgb(36,36,36)\",\"ticks\":\"outside\"}},\"type\":\"scatterpolar\"}],\"scatter\":[{\"fillpattern\":{\"fillmode\":\"overlay\",\"size\":10,\"solidity\":0.2},\"type\":\"scatter\"}],\"scatterternary\":[{\"marker\":{\"colorbar\":{\"outlinewidth\":1,\"tickcolor\":\"rgb(36,36,36)\",\"ticks\":\"outside\"}},\"type\":\"scatterternary\"}],\"surface\":[{\"colorbar\":{\"outlinewidth\":1,\"tickcolor\":\"rgb(36,36,36)\",\"ticks\":\"outside\"},\"colorscale\":[[0.0,\"#440154\"],[0.1111111111111111,\"#482878\"],[0.2222222222222222,\"#3e4989\"],[0.3333333333333333,\"#31688e\"],[0.4444444444444444,\"#26828e\"],[0.5555555555555556,\"#1f9e89\"],[0.6666666666666666,\"#35b779\"],[0.7777777777777778,\"#6ece58\"],[0.8888888888888888,\"#b5de2b\"],[1.0,\"#fde725\"]],\"type\":\"surface\"}],\"table\":[{\"cells\":{\"fill\":{\"color\":\"rgb(237,237,237)\"},\"line\":{\"color\":\"white\"}},\"header\":{\"fill\":{\"color\":\"rgb(217,217,217)\"},\"line\":{\"color\":\"white\"}},\"type\":\"table\"}]},\"layout\":{\"annotationdefaults\":{\"arrowhead\":0,\"arrowwidth\":1},\"autotypenumbers\":\"strict\",\"coloraxis\":{\"colorbar\":{\"outlinewidth\":1,\"tickcolor\":\"rgb(36,36,36)\",\"ticks\":\"outside\"}},\"colorscale\":{\"diverging\":[[0.0,\"rgb(103,0,31)\"],[0.1,\"rgb(178,24,43)\"],[0.2,\"rgb(214,96,77)\"],[0.3,\"rgb(244,165,130)\"],[0.4,\"rgb(253,219,199)\"],[0.5,\"rgb(247,247,247)\"],[0.6,\"rgb(209,229,240)\"],[0.7,\"rgb(146,197,222)\"],[0.8,\"rgb(67,147,195)\"],[0.9,\"rgb(33,102,172)\"],[1.0,\"rgb(5,48,97)\"]],\"sequential\":[[0.0,\"#440154\"],[0.1111111111111111,\"#482878\"],[0.2222222222222222,\"#3e4989\"],[0.3333333333333333,\"#31688e\"],[0.4444444444444444,\"#26828e\"],[0.5555555555555556,\"#1f9e89\"],[0.6666666666666666,\"#35b779\"],[0.7777777777777778,\"#6ece58\"],[0.8888888888888888,\"#b5de2b\"],[1.0,\"#fde725\"]],\"sequentialminus\":[[0.0,\"#440154\"],[0.1111111111111111,\"#482878\"],[0.2222222222222222,\"#3e4989\"],[0.3333333333333333,\"#31688e\"],[0.4444444444444444,\"#26828e\"],[0.5555555555555556,\"#1f9e89\"],[0.6666666666666666,\"#35b779\"],[0.7777777777777778,\"#6ece58\"],[0.8888888888888888,\"#b5de2b\"],[1.0,\"#fde725\"]]},\"colorway\":[\"#1F77B4\",\"#FF7F0E\",\"#2CA02C\",\"#D62728\",\"#9467BD\",\"#8C564B\",\"#E377C2\",\"#7F7F7F\",\"#BCBD22\",\"#17BECF\"],\"font\":{\"color\":\"rgb(36,36,36)\"},\"geo\":{\"bgcolor\":\"white\",\"lakecolor\":\"white\",\"landcolor\":\"white\",\"showlakes\":true,\"showland\":true,\"subunitcolor\":\"white\"},\"hoverlabel\":{\"align\":\"left\"},\"hovermode\":\"closest\",\"mapbox\":{\"style\":\"light\"},\"paper_bgcolor\":\"white\",\"plot_bgcolor\":\"white\",\"polar\":{\"angularaxis\":{\"gridcolor\":\"rgb(232,232,232)\",\"linecolor\":\"rgb(36,36,36)\",\"showgrid\":false,\"showline\":true,\"ticks\":\"outside\"},\"bgcolor\":\"white\",\"radialaxis\":{\"gridcolor\":\"rgb(232,232,232)\",\"linecolor\":\"rgb(36,36,36)\",\"showgrid\":false,\"showline\":true,\"ticks\":\"outside\"}},\"scene\":{\"xaxis\":{\"backgroundcolor\":\"white\",\"gridcolor\":\"rgb(232,232,232)\",\"gridwidth\":2,\"linecolor\":\"rgb(36,36,36)\",\"showbackground\":true,\"showgrid\":false,\"showline\":true,\"ticks\":\"outside\",\"zeroline\":false,\"zerolinecolor\":\"rgb(36,36,36)\"},\"yaxis\":{\"backgroundcolor\":\"white\",\"gridcolor\":\"rgb(232,232,232)\",\"gridwidth\":2,\"linecolor\":\"rgb(36,36,36)\",\"showbackground\":true,\"showgrid\":false,\"showline\":true,\"ticks\":\"outside\",\"zeroline\":false,\"zerolinecolor\":\"rgb(36,36,36)\"},\"zaxis\":{\"backgroundcolor\":\"white\",\"gridcolor\":\"rgb(232,232,232)\",\"gridwidth\":2,\"linecolor\":\"rgb(36,36,36)\",\"showbackground\":true,\"showgrid\":false,\"showline\":true,\"ticks\":\"outside\",\"zeroline\":false,\"zerolinecolor\":\"rgb(36,36,36)\"}},\"shapedefaults\":{\"fillcolor\":\"black\",\"line\":{\"width\":0},\"opacity\":0.3},\"ternary\":{\"aaxis\":{\"gridcolor\":\"rgb(232,232,232)\",\"linecolor\":\"rgb(36,36,36)\",\"showgrid\":false,\"showline\":true,\"ticks\":\"outside\"},\"baxis\":{\"gridcolor\":\"rgb(232,232,232)\",\"linecolor\":\"rgb(36,36,36)\",\"showgrid\":false,\"showline\":true,\"ticks\":\"outside\"},\"bgcolor\":\"white\",\"caxis\":{\"gridcolor\":\"rgb(232,232,232)\",\"linecolor\":\"rgb(36,36,36)\",\"showgrid\":false,\"showline\":true,\"ticks\":\"outside\"}},\"title\":{\"x\":0.05},\"xaxis\":{\"automargin\":true,\"gridcolor\":\"rgb(232,232,232)\",\"linecolor\":\"rgb(36,36,36)\",\"showgrid\":false,\"showline\":true,\"ticks\":\"outside\",\"title\":{\"standoff\":15},\"zeroline\":false,\"zerolinecolor\":\"rgb(36,36,36)\"},\"yaxis\":{\"automargin\":true,\"gridcolor\":\"rgb(232,232,232)\",\"linecolor\":\"rgb(36,36,36)\",\"showgrid\":false,\"showline\":true,\"ticks\":\"outside\",\"title\":{\"standoff\":15},\"zeroline\":false,\"zerolinecolor\":\"rgb(36,36,36)\"}}},\"title\":{\"text\":\"Roll Pass 'Fertigrund XVIa'\"},\"width\":640,\"xaxis\":{\"title\":{\"text\":\"z\"}},\"yaxis\":{\"scaleanchor\":\"x\",\"scaleratio\":1,\"title\":{\"text\":\"y\"}}},                        {\"responsive\": true}                    ).then(function(){\n",
       "                            \n",
       "var gd = document.getElementById('27d2e036-d686-4016-bae1-0b42d0eec22a');\n",
       "var x = new MutationObserver(function (mutations, observer) {{\n",
       "        var display = window.getComputedStyle(gd).display;\n",
       "        if (!display || display === 'none') {{\n",
       "            console.log([gd, 'removed!']);\n",
       "            Plotly.purge(gd);\n",
       "            observer.disconnect();\n",
       "        }}\n",
       "}});\n",
       "\n",
       "// Listen for the removal of the full notebook cells\n",
       "var notebookContainer = gd.closest('#notebook-container');\n",
       "if (notebookContainer) {{\n",
       "    x.observe(notebookContainer, {childList: true});\n",
       "}}\n",
       "\n",
       "// Listen for the clearing of the current output cell\n",
       "var outputEl = gd.closest('.output');\n",
       "if (outputEl) {{\n",
       "    x.observe(outputEl, {childList: true});\n",
       "}}\n",
       "\n",
       "                        })                };                });            </script>        </div>"
      ]
     },
     "metadata": {},
     "output_type": "display_data"
    }
   ],
   "execution_count": 19
  },
  {
   "metadata": {},
   "cell_type": "markdown",
   "source": [
    "# Auswertung und Vergleich mit den Versuchsdaten\n",
    "\n",
    "Nachfolgend sollen die Rechenwerte mit den Versuchswerten verglichen werden."
   ],
   "id": "14f90bdabbd48292"
  },
  {
   "metadata": {
    "ExecuteTime": {
     "end_time": "2025-01-14T15:08:19.332667Z",
     "start_time": "2025-01-14T15:08:19.328561Z"
    }
   },
   "cell_type": "code",
   "source": [
    "for k in df_roll_passes.keys():\n",
    "    print(k)"
   ],
   "id": "e2dbd26d78071f26",
   "outputs": [
    {
     "name": "stdout",
     "output_type": "stream",
     "text": [
      "abs_draught\n",
      "back_tension\n",
      "bite_angle\n",
      "classifiers\n",
      "contact_area\n",
      "contour_lines_coords\n",
      "contour_lines_height\n",
      "contour_lines_length\n",
      "contour_lines_width\n",
      "contour_lines_x\n",
      "contour_lines_xy\n",
      "contour_lines_y\n",
      "coulomb_friction_coefficient\n",
      "deformation_heat_efficiency\n",
      "deformation_resistance\n",
      "disk_element_count\n",
      "displaced_cross_section_area\n",
      "displaced_cross_section_coords\n",
      "displaced_cross_section_height\n",
      "displaced_cross_section_perimeter\n",
      "displaced_cross_section_width\n",
      "displaced_cross_section_x\n",
      "displaced_cross_section_xy\n",
      "displaced_cross_section_y\n",
      "draught\n",
      "duration\n",
      "elastic_gap_offset\n",
      "elongation\n",
      "elongation_efficiency\n",
      "entry_point\n",
      "exit_point\n",
      "front_tension\n",
      "gap\n",
      "height\n",
      "in_profile_classifiers\n",
      "in_profile_cross_section_area\n",
      "in_profile_cross_section_coords\n",
      "in_profile_cross_section_error\n",
      "in_profile_cross_section_filling_ratio\n",
      "in_profile_cross_section_height\n",
      "in_profile_cross_section_perimeter\n",
      "in_profile_cross_section_width\n",
      "in_profile_cross_section_x\n",
      "in_profile_cross_section_xy\n",
      "in_profile_cross_section_y\n",
      "in_profile_density\n",
      "in_profile_equivalent_height\n",
      "in_profile_equivalent_rectangle_area\n",
      "in_profile_equivalent_rectangle_coords\n",
      "in_profile_equivalent_rectangle_height\n",
      "in_profile_equivalent_rectangle_perimeter\n",
      "in_profile_equivalent_rectangle_width\n",
      "in_profile_equivalent_rectangle_x\n",
      "in_profile_equivalent_rectangle_xy\n",
      "in_profile_equivalent_rectangle_y\n",
      "in_profile_equivalent_width\n",
      "in_profile_filling_error\n",
      "in_profile_filling_ratio\n",
      "in_profile_flow_stress\n",
      "in_profile_freiberg_flow_stress_coefficients_a\n",
      "in_profile_freiberg_flow_stress_coefficients_baseStrain\n",
      "in_profile_freiberg_flow_stress_coefficients_baseStrainRate\n",
      "in_profile_freiberg_flow_stress_coefficients_m1\n",
      "in_profile_freiberg_flow_stress_coefficients_m2\n",
      "in_profile_freiberg_flow_stress_coefficients_m3\n",
      "in_profile_freiberg_flow_stress_coefficients_m4\n",
      "in_profile_freiberg_flow_stress_coefficients_m5\n",
      "in_profile_freiberg_flow_stress_coefficients_m6\n",
      "in_profile_freiberg_flow_stress_coefficients_m7\n",
      "in_profile_freiberg_flow_stress_coefficients_m8\n",
      "in_profile_freiberg_flow_stress_coefficients_m9\n",
      "in_profile_height\n",
      "in_profile_lendl_section_area\n",
      "in_profile_lendl_section_coords\n",
      "in_profile_lendl_section_height\n",
      "in_profile_lendl_section_perimeter\n",
      "in_profile_lendl_section_width\n",
      "in_profile_lendl_section_x\n",
      "in_profile_lendl_section_xy\n",
      "in_profile_lendl_section_y\n",
      "in_profile_length\n",
      "in_profile_material\n",
      "in_profile_specific_heat_capacity\n",
      "in_profile_strain\n",
      "in_profile_t\n",
      "in_profile_technologically_orientated_cross_section_area\n",
      "in_profile_technologically_orientated_cross_section_coords\n",
      "in_profile_technologically_orientated_cross_section_height\n",
      "in_profile_technologically_orientated_cross_section_perimeter\n",
      "in_profile_technologically_orientated_cross_section_width\n",
      "in_profile_technologically_orientated_cross_section_x\n",
      "in_profile_technologically_orientated_cross_section_xy\n",
      "in_profile_technologically_orientated_cross_section_y\n",
      "in_profile_temperature\n",
      "in_profile_type\n",
      "in_profile_velocity\n",
      "in_profile_width\n",
      "inverse_forming_efficiency\n",
      "iteration_precision\n",
      "label\n",
      "lendl_width\n",
      "length\n",
      "log_draught\n",
      "log_elongation\n",
      "log_spread\n",
      "max_iteration_count\n",
      "nominal_gap\n",
      "orientation\n",
      "out_profile_classifiers\n",
      "out_profile_cross_section_area\n",
      "out_profile_cross_section_coords\n",
      "out_profile_cross_section_error\n",
      "out_profile_cross_section_filling_ratio\n",
      "out_profile_cross_section_height\n",
      "out_profile_cross_section_perimeter\n",
      "out_profile_cross_section_width\n",
      "out_profile_cross_section_x\n",
      "out_profile_cross_section_xy\n",
      "out_profile_cross_section_y\n",
      "out_profile_density\n",
      "out_profile_equivalent_height\n",
      "out_profile_equivalent_rectangle_area\n",
      "out_profile_equivalent_rectangle_coords\n",
      "out_profile_equivalent_rectangle_height\n",
      "out_profile_equivalent_rectangle_perimeter\n",
      "out_profile_equivalent_rectangle_width\n",
      "out_profile_equivalent_rectangle_x\n",
      "out_profile_equivalent_rectangle_xy\n",
      "out_profile_equivalent_rectangle_y\n",
      "out_profile_equivalent_width\n",
      "out_profile_filling_error\n",
      "out_profile_filling_ratio\n",
      "out_profile_flow_stress\n",
      "out_profile_freiberg_flow_stress_coefficients_a\n",
      "out_profile_freiberg_flow_stress_coefficients_baseStrain\n",
      "out_profile_freiberg_flow_stress_coefficients_baseStrainRate\n",
      "out_profile_freiberg_flow_stress_coefficients_m1\n",
      "out_profile_freiberg_flow_stress_coefficients_m2\n",
      "out_profile_freiberg_flow_stress_coefficients_m3\n",
      "out_profile_freiberg_flow_stress_coefficients_m4\n",
      "out_profile_freiberg_flow_stress_coefficients_m5\n",
      "out_profile_freiberg_flow_stress_coefficients_m6\n",
      "out_profile_freiberg_flow_stress_coefficients_m7\n",
      "out_profile_freiberg_flow_stress_coefficients_m8\n",
      "out_profile_freiberg_flow_stress_coefficients_m9\n",
      "out_profile_lendl_section_area\n",
      "out_profile_lendl_section_coords\n",
      "out_profile_lendl_section_height\n",
      "out_profile_lendl_section_perimeter\n",
      "out_profile_lendl_section_width\n",
      "out_profile_lendl_section_x\n",
      "out_profile_lendl_section_xy\n",
      "out_profile_lendl_section_y\n",
      "out_profile_length\n",
      "out_profile_material\n",
      "out_profile_specific_heat_capacity\n",
      "out_profile_strain\n",
      "out_profile_t\n",
      "out_profile_technologically_orientated_cross_section_area\n",
      "out_profile_technologically_orientated_cross_section_coords\n",
      "out_profile_technologically_orientated_cross_section_height\n",
      "out_profile_technologically_orientated_cross_section_perimeter\n",
      "out_profile_technologically_orientated_cross_section_width\n",
      "out_profile_technologically_orientated_cross_section_x\n",
      "out_profile_technologically_orientated_cross_section_xy\n",
      "out_profile_technologically_orientated_cross_section_y\n",
      "out_profile_temperature\n",
      "out_profile_type\n",
      "out_profile_velocity\n",
      "out_profile_width\n",
      "passed_gripping_condition\n",
      "power\n",
      "reappearing_cross_section_area\n",
      "reappearing_cross_section_coords\n",
      "reappearing_cross_section_height\n",
      "reappearing_cross_section_perimeter\n",
      "reappearing_cross_section_width\n",
      "reappearing_cross_section_x\n",
      "reappearing_cross_section_xy\n",
      "reappearing_cross_section_y\n",
      "rel_draught\n",
      "roll_contact_area\n",
      "roll_contact_heat_transfer_coefficient\n",
      "roll_contact_length\n",
      "roll_contour_points\n",
      "roll_entry_angle\n",
      "roll_force\n",
      "roll_groove_alpha1\n",
      "roll_groove_alpha2\n",
      "roll_groove_classifiers\n",
      "roll_groove_contour_line_coords\n",
      "roll_groove_contour_line_height\n",
      "roll_groove_contour_line_length\n",
      "roll_groove_contour_line_width\n",
      "roll_groove_contour_line_x\n",
      "roll_groove_contour_line_xy\n",
      "roll_groove_contour_line_y\n",
      "roll_groove_depth\n",
      "roll_groove_flank_angle\n",
      "roll_groove_ground_width\n",
      "roll_groove_r1\n",
      "roll_groove_r2\n",
      "roll_groove_tip_depth\n",
      "roll_groove_type\n",
      "roll_groove_usable_width\n",
      "roll_max_radius\n",
      "roll_min_radius\n",
      "roll_neutral_angle\n",
      "roll_nominal_radius\n",
      "roll_roll_power\n",
      "roll_roll_torque\n",
      "roll_rotational_frequency\n",
      "roll_surface_velocity\n",
      "roll_temperature\n",
      "roll_torque_loss_function\n",
      "roll_type\n",
      "roll_working_radius\n",
      "roll_working_velocity\n",
      "rotation\n",
      "spread\n",
      "stand_stiffness\n",
      "strain\n",
      "strain_rate\n",
      "target_cross_section_area\n",
      "target_filling_ratio\n",
      "target_width\n",
      "technologically_orientated_contour_lines_coords\n",
      "technologically_orientated_contour_lines_height\n",
      "technologically_orientated_contour_lines_length\n",
      "technologically_orientated_contour_lines_width\n",
      "technologically_orientated_contour_lines_x\n",
      "technologically_orientated_contour_lines_xy\n",
      "technologically_orientated_contour_lines_y\n",
      "temperature_change\n",
      "temperature_change_by_contact\n",
      "temperature_change_by_deformation\n",
      "type\n",
      "usable_cross_section_area\n",
      "usable_cross_section_coords\n",
      "usable_cross_section_height\n",
      "usable_cross_section_perimeter\n",
      "usable_cross_section_width\n",
      "usable_cross_section_x\n",
      "usable_cross_section_xy\n",
      "usable_cross_section_y\n",
      "usable_width\n",
      "velocity\n",
      "volume\n",
      "wusatowski_exponent\n",
      "wusatowski_friction_coefficient\n",
      "wusatowski_material_coefficient\n",
      "wusatowski_temperature_coefficient\n",
      "wusatowski_velocity_coefficient\n",
      "zouhar_contact_c1\n",
      "zouhar_contact_c2\n",
      "zouhar_contact_c3\n",
      "zouhar_contact_in_width\n"
     ]
    }
   ],
   "execution_count": 61
  },
  {
   "metadata": {
    "ExecuteTime": {
     "end_time": "2025-01-14T15:11:53.196359Z",
     "start_time": "2025-01-14T15:11:53.190290Z"
    }
   },
   "cell_type": "code",
   "source": [
    "# eingeben der Versuchswerte in das Dataframe\n",
    "df_roll_passes[\"roll_forces_Versuch1\"] = [1e4, 1e4, 1e4, 1e4, 1e4, 1e4, 1e4, 1e4, 1e4, 1e4, 1e4, 1e4]\n",
    "# df_roll_passes[\"roll_forces_V2\"] = # ...\n",
    "\n",
    "\n",
    "# df_roll_passes[\"roll_torque_Versuch1\"] = \n",
    "\n",
    "\n",
    "df_roll_passes[\"temperature_Versuch1\"] = [1040 + 273.15, 0, 0, 990 + 273.15, 0, 0, 0, 0, 0, 0, 0, 760 + 273.15]\n"
   ],
   "id": "6f4306a19fd9912e",
   "outputs": [],
   "execution_count": 67
  },
  {
   "metadata": {
    "ExecuteTime": {
     "end_time": "2025-01-14T10:27:24.940879Z",
     "start_time": "2025-01-14T10:27:24.914549Z"
    }
   },
   "cell_type": "code",
   "source": "px.bar(df_roll_passes, x=\"label\", y=[\"roll_force\", \"roll_forces_Versuch1\"], barmode=\"group\")",
   "id": "e0232d27c75bf47c",
   "outputs": [
    {
     "data": {
      "application/vnd.plotly.v1+json": {
       "data": [
        {
         "alignmentgroup": "True",
         "hovertemplate": "variable=roll_force<br>label=%{x}<br>value=%{y}<extra></extra>",
         "legendgroup": "roll_force",
         "marker": {
          "color": "#1F77B4",
          "pattern": {
           "shape": ""
          }
         },
         "name": "roll_force",
         "offsetgroup": "roll_force",
         "orientation": "v",
         "showlegend": true,
         "textposition": "auto",
         "x": [
          "Oval V",
          "Quadrat VI",
          "Oval VII",
          "Quadrat VIII",
          "Oval IX",
          "Quadrat X",
          "Oval XI",
          "Quadrat XII",
          "Oval XIII",
          "Quadrat XIV",
          "Oval XV",
          "Fertigrund XVIa"
         ],
         "xaxis": "x",
         "y": [
          203195.85593261378,
          75726.55268930583,
          171393.86951199995,
          63191.39160697249,
          139048.499159957,
          56013.029350554825,
          92240.99090638405,
          36407.97852345528,
          95909.98199726814,
          34957.758417450335,
          89919.9398737483,
          32340.26458418176
         ],
         "yaxis": "y",
         "type": "bar"
        },
        {
         "alignmentgroup": "True",
         "hovertemplate": "variable=roll_forces_Versuch1<br>label=%{x}<br>value=%{y}<extra></extra>",
         "legendgroup": "roll_forces_Versuch1",
         "marker": {
          "color": "#FF7F0E",
          "pattern": {
           "shape": ""
          }
         },
         "name": "roll_forces_Versuch1",
         "offsetgroup": "roll_forces_Versuch1",
         "orientation": "v",
         "showlegend": true,
         "textposition": "auto",
         "x": [
          "Oval V",
          "Quadrat VI",
          "Oval VII",
          "Quadrat VIII",
          "Oval IX",
          "Quadrat X",
          "Oval XI",
          "Quadrat XII",
          "Oval XIII",
          "Quadrat XIV",
          "Oval XV",
          "Fertigrund XVIa"
         ],
         "xaxis": "x",
         "y": [
          10000.0,
          10000.0,
          10000.0,
          10000.0,
          10000.0,
          10000.0,
          10000.0,
          10000.0,
          10000.0,
          10000.0,
          10000.0,
          10000.0
         ],
         "yaxis": "y",
         "type": "bar"
        }
       ],
       "layout": {
        "template": {
         "data": {
          "histogram2dcontour": [
           {
            "type": "histogram2dcontour",
            "colorbar": {
             "outlinewidth": 1,
             "tickcolor": "rgb(36,36,36)",
             "ticks": "outside"
            },
            "colorscale": [
             [
              0.0,
              "#440154"
             ],
             [
              0.1111111111111111,
              "#482878"
             ],
             [
              0.2222222222222222,
              "#3e4989"
             ],
             [
              0.3333333333333333,
              "#31688e"
             ],
             [
              0.4444444444444444,
              "#26828e"
             ],
             [
              0.5555555555555556,
              "#1f9e89"
             ],
             [
              0.6666666666666666,
              "#35b779"
             ],
             [
              0.7777777777777778,
              "#6ece58"
             ],
             [
              0.8888888888888888,
              "#b5de2b"
             ],
             [
              1.0,
              "#fde725"
             ]
            ]
           }
          ],
          "choropleth": [
           {
            "type": "choropleth",
            "colorbar": {
             "outlinewidth": 1,
             "tickcolor": "rgb(36,36,36)",
             "ticks": "outside"
            }
           }
          ],
          "histogram2d": [
           {
            "type": "histogram2d",
            "colorbar": {
             "outlinewidth": 1,
             "tickcolor": "rgb(36,36,36)",
             "ticks": "outside"
            },
            "colorscale": [
             [
              0.0,
              "#440154"
             ],
             [
              0.1111111111111111,
              "#482878"
             ],
             [
              0.2222222222222222,
              "#3e4989"
             ],
             [
              0.3333333333333333,
              "#31688e"
             ],
             [
              0.4444444444444444,
              "#26828e"
             ],
             [
              0.5555555555555556,
              "#1f9e89"
             ],
             [
              0.6666666666666666,
              "#35b779"
             ],
             [
              0.7777777777777778,
              "#6ece58"
             ],
             [
              0.8888888888888888,
              "#b5de2b"
             ],
             [
              1.0,
              "#fde725"
             ]
            ]
           }
          ],
          "heatmap": [
           {
            "type": "heatmap",
            "colorbar": {
             "outlinewidth": 1,
             "tickcolor": "rgb(36,36,36)",
             "ticks": "outside"
            },
            "colorscale": [
             [
              0.0,
              "#440154"
             ],
             [
              0.1111111111111111,
              "#482878"
             ],
             [
              0.2222222222222222,
              "#3e4989"
             ],
             [
              0.3333333333333333,
              "#31688e"
             ],
             [
              0.4444444444444444,
              "#26828e"
             ],
             [
              0.5555555555555556,
              "#1f9e89"
             ],
             [
              0.6666666666666666,
              "#35b779"
             ],
             [
              0.7777777777777778,
              "#6ece58"
             ],
             [
              0.8888888888888888,
              "#b5de2b"
             ],
             [
              1.0,
              "#fde725"
             ]
            ]
           }
          ],
          "heatmapgl": [
           {
            "type": "heatmapgl",
            "colorbar": {
             "outlinewidth": 1,
             "tickcolor": "rgb(36,36,36)",
             "ticks": "outside"
            },
            "colorscale": [
             [
              0.0,
              "#440154"
             ],
             [
              0.1111111111111111,
              "#482878"
             ],
             [
              0.2222222222222222,
              "#3e4989"
             ],
             [
              0.3333333333333333,
              "#31688e"
             ],
             [
              0.4444444444444444,
              "#26828e"
             ],
             [
              0.5555555555555556,
              "#1f9e89"
             ],
             [
              0.6666666666666666,
              "#35b779"
             ],
             [
              0.7777777777777778,
              "#6ece58"
             ],
             [
              0.8888888888888888,
              "#b5de2b"
             ],
             [
              1.0,
              "#fde725"
             ]
            ]
           }
          ],
          "contourcarpet": [
           {
            "type": "contourcarpet",
            "colorbar": {
             "outlinewidth": 1,
             "tickcolor": "rgb(36,36,36)",
             "ticks": "outside"
            }
           }
          ],
          "contour": [
           {
            "type": "contour",
            "colorbar": {
             "outlinewidth": 1,
             "tickcolor": "rgb(36,36,36)",
             "ticks": "outside"
            },
            "colorscale": [
             [
              0.0,
              "#440154"
             ],
             [
              0.1111111111111111,
              "#482878"
             ],
             [
              0.2222222222222222,
              "#3e4989"
             ],
             [
              0.3333333333333333,
              "#31688e"
             ],
             [
              0.4444444444444444,
              "#26828e"
             ],
             [
              0.5555555555555556,
              "#1f9e89"
             ],
             [
              0.6666666666666666,
              "#35b779"
             ],
             [
              0.7777777777777778,
              "#6ece58"
             ],
             [
              0.8888888888888888,
              "#b5de2b"
             ],
             [
              1.0,
              "#fde725"
             ]
            ]
           }
          ],
          "surface": [
           {
            "type": "surface",
            "colorbar": {
             "outlinewidth": 1,
             "tickcolor": "rgb(36,36,36)",
             "ticks": "outside"
            },
            "colorscale": [
             [
              0.0,
              "#440154"
             ],
             [
              0.1111111111111111,
              "#482878"
             ],
             [
              0.2222222222222222,
              "#3e4989"
             ],
             [
              0.3333333333333333,
              "#31688e"
             ],
             [
              0.4444444444444444,
              "#26828e"
             ],
             [
              0.5555555555555556,
              "#1f9e89"
             ],
             [
              0.6666666666666666,
              "#35b779"
             ],
             [
              0.7777777777777778,
              "#6ece58"
             ],
             [
              0.8888888888888888,
              "#b5de2b"
             ],
             [
              1.0,
              "#fde725"
             ]
            ]
           }
          ],
          "mesh3d": [
           {
            "type": "mesh3d",
            "colorbar": {
             "outlinewidth": 1,
             "tickcolor": "rgb(36,36,36)",
             "ticks": "outside"
            }
           }
          ],
          "scatter": [
           {
            "fillpattern": {
             "fillmode": "overlay",
             "size": 10,
             "solidity": 0.2
            },
            "type": "scatter"
           }
          ],
          "parcoords": [
           {
            "type": "parcoords",
            "line": {
             "colorbar": {
              "outlinewidth": 1,
              "tickcolor": "rgb(36,36,36)",
              "ticks": "outside"
             }
            }
           }
          ],
          "scatterpolargl": [
           {
            "type": "scatterpolargl",
            "marker": {
             "colorbar": {
              "outlinewidth": 1,
              "tickcolor": "rgb(36,36,36)",
              "ticks": "outside"
             }
            }
           }
          ],
          "bar": [
           {
            "error_x": {
             "color": "rgb(36,36,36)"
            },
            "error_y": {
             "color": "rgb(36,36,36)"
            },
            "marker": {
             "line": {
              "color": "white",
              "width": 0.5
             },
             "pattern": {
              "fillmode": "overlay",
              "size": 10,
              "solidity": 0.2
             }
            },
            "type": "bar"
           }
          ],
          "scattergeo": [
           {
            "type": "scattergeo",
            "marker": {
             "colorbar": {
              "outlinewidth": 1,
              "tickcolor": "rgb(36,36,36)",
              "ticks": "outside"
             }
            }
           }
          ],
          "scatterpolar": [
           {
            "type": "scatterpolar",
            "marker": {
             "colorbar": {
              "outlinewidth": 1,
              "tickcolor": "rgb(36,36,36)",
              "ticks": "outside"
             }
            }
           }
          ],
          "histogram": [
           {
            "marker": {
             "line": {
              "color": "white",
              "width": 0.6
             }
            },
            "type": "histogram"
           }
          ],
          "scattergl": [
           {
            "type": "scattergl",
            "marker": {
             "colorbar": {
              "outlinewidth": 1,
              "tickcolor": "rgb(36,36,36)",
              "ticks": "outside"
             }
            }
           }
          ],
          "scatter3d": [
           {
            "type": "scatter3d",
            "line": {
             "colorbar": {
              "outlinewidth": 1,
              "tickcolor": "rgb(36,36,36)",
              "ticks": "outside"
             }
            },
            "marker": {
             "colorbar": {
              "outlinewidth": 1,
              "tickcolor": "rgb(36,36,36)",
              "ticks": "outside"
             }
            }
           }
          ],
          "scattermapbox": [
           {
            "type": "scattermapbox",
            "marker": {
             "colorbar": {
              "outlinewidth": 1,
              "tickcolor": "rgb(36,36,36)",
              "ticks": "outside"
             }
            }
           }
          ],
          "scatterternary": [
           {
            "type": "scatterternary",
            "marker": {
             "colorbar": {
              "outlinewidth": 1,
              "tickcolor": "rgb(36,36,36)",
              "ticks": "outside"
             }
            }
           }
          ],
          "scattercarpet": [
           {
            "type": "scattercarpet",
            "marker": {
             "colorbar": {
              "outlinewidth": 1,
              "tickcolor": "rgb(36,36,36)",
              "ticks": "outside"
             }
            }
           }
          ],
          "carpet": [
           {
            "aaxis": {
             "endlinecolor": "rgb(36,36,36)",
             "gridcolor": "white",
             "linecolor": "white",
             "minorgridcolor": "white",
             "startlinecolor": "rgb(36,36,36)"
            },
            "baxis": {
             "endlinecolor": "rgb(36,36,36)",
             "gridcolor": "white",
             "linecolor": "white",
             "minorgridcolor": "white",
             "startlinecolor": "rgb(36,36,36)"
            },
            "type": "carpet"
           }
          ],
          "table": [
           {
            "cells": {
             "fill": {
              "color": "rgb(237,237,237)"
             },
             "line": {
              "color": "white"
             }
            },
            "header": {
             "fill": {
              "color": "rgb(217,217,217)"
             },
             "line": {
              "color": "white"
             }
            },
            "type": "table"
           }
          ],
          "barpolar": [
           {
            "marker": {
             "line": {
              "color": "white",
              "width": 0.5
             },
             "pattern": {
              "fillmode": "overlay",
              "size": 10,
              "solidity": 0.2
             }
            },
            "type": "barpolar"
           }
          ],
          "pie": [
           {
            "automargin": true,
            "type": "pie"
           }
          ]
         },
         "layout": {
          "autotypenumbers": "strict",
          "colorway": [
           "#1F77B4",
           "#FF7F0E",
           "#2CA02C",
           "#D62728",
           "#9467BD",
           "#8C564B",
           "#E377C2",
           "#7F7F7F",
           "#BCBD22",
           "#17BECF"
          ],
          "font": {
           "color": "rgb(36,36,36)"
          },
          "hovermode": "closest",
          "hoverlabel": {
           "align": "left"
          },
          "paper_bgcolor": "white",
          "plot_bgcolor": "white",
          "polar": {
           "bgcolor": "white",
           "angularaxis": {
            "gridcolor": "rgb(232,232,232)",
            "linecolor": "rgb(36,36,36)",
            "showgrid": false,
            "showline": true,
            "ticks": "outside"
           },
           "radialaxis": {
            "gridcolor": "rgb(232,232,232)",
            "linecolor": "rgb(36,36,36)",
            "showgrid": false,
            "showline": true,
            "ticks": "outside"
           }
          },
          "ternary": {
           "bgcolor": "white",
           "aaxis": {
            "gridcolor": "rgb(232,232,232)",
            "linecolor": "rgb(36,36,36)",
            "showgrid": false,
            "showline": true,
            "ticks": "outside"
           },
           "baxis": {
            "gridcolor": "rgb(232,232,232)",
            "linecolor": "rgb(36,36,36)",
            "showgrid": false,
            "showline": true,
            "ticks": "outside"
           },
           "caxis": {
            "gridcolor": "rgb(232,232,232)",
            "linecolor": "rgb(36,36,36)",
            "showgrid": false,
            "showline": true,
            "ticks": "outside"
           }
          },
          "coloraxis": {
           "colorbar": {
            "outlinewidth": 1,
            "tickcolor": "rgb(36,36,36)",
            "ticks": "outside"
           }
          },
          "colorscale": {
           "sequential": [
            [
             0.0,
             "#440154"
            ],
            [
             0.1111111111111111,
             "#482878"
            ],
            [
             0.2222222222222222,
             "#3e4989"
            ],
            [
             0.3333333333333333,
             "#31688e"
            ],
            [
             0.4444444444444444,
             "#26828e"
            ],
            [
             0.5555555555555556,
             "#1f9e89"
            ],
            [
             0.6666666666666666,
             "#35b779"
            ],
            [
             0.7777777777777778,
             "#6ece58"
            ],
            [
             0.8888888888888888,
             "#b5de2b"
            ],
            [
             1.0,
             "#fde725"
            ]
           ],
           "sequentialminus": [
            [
             0.0,
             "#440154"
            ],
            [
             0.1111111111111111,
             "#482878"
            ],
            [
             0.2222222222222222,
             "#3e4989"
            ],
            [
             0.3333333333333333,
             "#31688e"
            ],
            [
             0.4444444444444444,
             "#26828e"
            ],
            [
             0.5555555555555556,
             "#1f9e89"
            ],
            [
             0.6666666666666666,
             "#35b779"
            ],
            [
             0.7777777777777778,
             "#6ece58"
            ],
            [
             0.8888888888888888,
             "#b5de2b"
            ],
            [
             1.0,
             "#fde725"
            ]
           ],
           "diverging": [
            [
             0.0,
             "rgb(103,0,31)"
            ],
            [
             0.1,
             "rgb(178,24,43)"
            ],
            [
             0.2,
             "rgb(214,96,77)"
            ],
            [
             0.3,
             "rgb(244,165,130)"
            ],
            [
             0.4,
             "rgb(253,219,199)"
            ],
            [
             0.5,
             "rgb(247,247,247)"
            ],
            [
             0.6,
             "rgb(209,229,240)"
            ],
            [
             0.7,
             "rgb(146,197,222)"
            ],
            [
             0.8,
             "rgb(67,147,195)"
            ],
            [
             0.9,
             "rgb(33,102,172)"
            ],
            [
             1.0,
             "rgb(5,48,97)"
            ]
           ]
          },
          "xaxis": {
           "gridcolor": "rgb(232,232,232)",
           "linecolor": "rgb(36,36,36)",
           "showgrid": false,
           "showline": true,
           "ticks": "outside",
           "title": {
            "standoff": 15
           },
           "zerolinecolor": "rgb(36,36,36)",
           "automargin": true,
           "zeroline": false
          },
          "yaxis": {
           "gridcolor": "rgb(232,232,232)",
           "linecolor": "rgb(36,36,36)",
           "showgrid": false,
           "showline": true,
           "ticks": "outside",
           "title": {
            "standoff": 15
           },
           "zerolinecolor": "rgb(36,36,36)",
           "automargin": true,
           "zeroline": false
          },
          "scene": {
           "xaxis": {
            "backgroundcolor": "white",
            "gridcolor": "rgb(232,232,232)",
            "linecolor": "rgb(36,36,36)",
            "showbackground": true,
            "showgrid": false,
            "showline": true,
            "ticks": "outside",
            "zerolinecolor": "rgb(36,36,36)",
            "gridwidth": 2,
            "zeroline": false
           },
           "yaxis": {
            "backgroundcolor": "white",
            "gridcolor": "rgb(232,232,232)",
            "linecolor": "rgb(36,36,36)",
            "showbackground": true,
            "showgrid": false,
            "showline": true,
            "ticks": "outside",
            "zerolinecolor": "rgb(36,36,36)",
            "gridwidth": 2,
            "zeroline": false
           },
           "zaxis": {
            "backgroundcolor": "white",
            "gridcolor": "rgb(232,232,232)",
            "linecolor": "rgb(36,36,36)",
            "showbackground": true,
            "showgrid": false,
            "showline": true,
            "ticks": "outside",
            "zerolinecolor": "rgb(36,36,36)",
            "gridwidth": 2,
            "zeroline": false
           }
          },
          "shapedefaults": {
           "fillcolor": "black",
           "line": {
            "width": 0
           },
           "opacity": 0.3
          },
          "annotationdefaults": {
           "arrowhead": 0,
           "arrowwidth": 1
          },
          "geo": {
           "bgcolor": "white",
           "landcolor": "white",
           "subunitcolor": "white",
           "showland": true,
           "showlakes": true,
           "lakecolor": "white"
          },
          "title": {
           "x": 0.05
          },
          "mapbox": {
           "style": "light"
          }
         }
        },
        "xaxis": {
         "anchor": "y",
         "domain": [
          0.0,
          1.0
         ],
         "title": {
          "text": "label"
         }
        },
        "yaxis": {
         "anchor": "x",
         "domain": [
          0.0,
          1.0
         ],
         "title": {
          "text": "value"
         }
        },
        "legend": {
         "title": {
          "text": "variable"
         },
         "tracegroupgap": 0
        },
        "margin": {
         "t": 60
        },
        "barmode": "group"
       },
       "config": {
        "plotlyServerURL": "https://plot.ly"
       }
      },
      "text/html": [
       "<div>                            <div id=\"958f62ba-4621-4a31-80df-0161dd719be9\" class=\"plotly-graph-div\" style=\"height:525px; width:100%;\"></div>            <script type=\"text/javascript\">                require([\"plotly\"], function(Plotly) {                    window.PLOTLYENV=window.PLOTLYENV || {};                                    if (document.getElementById(\"958f62ba-4621-4a31-80df-0161dd719be9\")) {                    Plotly.newPlot(                        \"958f62ba-4621-4a31-80df-0161dd719be9\",                        [{\"alignmentgroup\":\"True\",\"hovertemplate\":\"variable=roll_force\\u003cbr\\u003elabel=%{x}\\u003cbr\\u003evalue=%{y}\\u003cextra\\u003e\\u003c\\u002fextra\\u003e\",\"legendgroup\":\"roll_force\",\"marker\":{\"color\":\"#1F77B4\",\"pattern\":{\"shape\":\"\"}},\"name\":\"roll_force\",\"offsetgroup\":\"roll_force\",\"orientation\":\"v\",\"showlegend\":true,\"textposition\":\"auto\",\"x\":[\"Oval V\",\"Quadrat VI\",\"Oval VII\",\"Quadrat VIII\",\"Oval IX\",\"Quadrat X\",\"Oval XI\",\"Quadrat XII\",\"Oval XIII\",\"Quadrat XIV\",\"Oval XV\",\"Fertigrund XVIa\"],\"xaxis\":\"x\",\"y\":[203195.85593261378,75726.55268930583,171393.86951199995,63191.39160697249,139048.499159957,56013.029350554825,92240.99090638405,36407.97852345528,95909.98199726814,34957.758417450335,89919.9398737483,32340.26458418176],\"yaxis\":\"y\",\"type\":\"bar\"},{\"alignmentgroup\":\"True\",\"hovertemplate\":\"variable=roll_forces_Versuch1\\u003cbr\\u003elabel=%{x}\\u003cbr\\u003evalue=%{y}\\u003cextra\\u003e\\u003c\\u002fextra\\u003e\",\"legendgroup\":\"roll_forces_Versuch1\",\"marker\":{\"color\":\"#FF7F0E\",\"pattern\":{\"shape\":\"\"}},\"name\":\"roll_forces_Versuch1\",\"offsetgroup\":\"roll_forces_Versuch1\",\"orientation\":\"v\",\"showlegend\":true,\"textposition\":\"auto\",\"x\":[\"Oval V\",\"Quadrat VI\",\"Oval VII\",\"Quadrat VIII\",\"Oval IX\",\"Quadrat X\",\"Oval XI\",\"Quadrat XII\",\"Oval XIII\",\"Quadrat XIV\",\"Oval XV\",\"Fertigrund XVIa\"],\"xaxis\":\"x\",\"y\":[10000.0,10000.0,10000.0,10000.0,10000.0,10000.0,10000.0,10000.0,10000.0,10000.0,10000.0,10000.0],\"yaxis\":\"y\",\"type\":\"bar\"}],                        {\"template\":{\"data\":{\"histogram2dcontour\":[{\"type\":\"histogram2dcontour\",\"colorbar\":{\"outlinewidth\":1,\"tickcolor\":\"rgb(36,36,36)\",\"ticks\":\"outside\"},\"colorscale\":[[0.0,\"#440154\"],[0.1111111111111111,\"#482878\"],[0.2222222222222222,\"#3e4989\"],[0.3333333333333333,\"#31688e\"],[0.4444444444444444,\"#26828e\"],[0.5555555555555556,\"#1f9e89\"],[0.6666666666666666,\"#35b779\"],[0.7777777777777778,\"#6ece58\"],[0.8888888888888888,\"#b5de2b\"],[1.0,\"#fde725\"]]}],\"choropleth\":[{\"type\":\"choropleth\",\"colorbar\":{\"outlinewidth\":1,\"tickcolor\":\"rgb(36,36,36)\",\"ticks\":\"outside\"}}],\"histogram2d\":[{\"type\":\"histogram2d\",\"colorbar\":{\"outlinewidth\":1,\"tickcolor\":\"rgb(36,36,36)\",\"ticks\":\"outside\"},\"colorscale\":[[0.0,\"#440154\"],[0.1111111111111111,\"#482878\"],[0.2222222222222222,\"#3e4989\"],[0.3333333333333333,\"#31688e\"],[0.4444444444444444,\"#26828e\"],[0.5555555555555556,\"#1f9e89\"],[0.6666666666666666,\"#35b779\"],[0.7777777777777778,\"#6ece58\"],[0.8888888888888888,\"#b5de2b\"],[1.0,\"#fde725\"]]}],\"heatmap\":[{\"type\":\"heatmap\",\"colorbar\":{\"outlinewidth\":1,\"tickcolor\":\"rgb(36,36,36)\",\"ticks\":\"outside\"},\"colorscale\":[[0.0,\"#440154\"],[0.1111111111111111,\"#482878\"],[0.2222222222222222,\"#3e4989\"],[0.3333333333333333,\"#31688e\"],[0.4444444444444444,\"#26828e\"],[0.5555555555555556,\"#1f9e89\"],[0.6666666666666666,\"#35b779\"],[0.7777777777777778,\"#6ece58\"],[0.8888888888888888,\"#b5de2b\"],[1.0,\"#fde725\"]]}],\"heatmapgl\":[{\"type\":\"heatmapgl\",\"colorbar\":{\"outlinewidth\":1,\"tickcolor\":\"rgb(36,36,36)\",\"ticks\":\"outside\"},\"colorscale\":[[0.0,\"#440154\"],[0.1111111111111111,\"#482878\"],[0.2222222222222222,\"#3e4989\"],[0.3333333333333333,\"#31688e\"],[0.4444444444444444,\"#26828e\"],[0.5555555555555556,\"#1f9e89\"],[0.6666666666666666,\"#35b779\"],[0.7777777777777778,\"#6ece58\"],[0.8888888888888888,\"#b5de2b\"],[1.0,\"#fde725\"]]}],\"contourcarpet\":[{\"type\":\"contourcarpet\",\"colorbar\":{\"outlinewidth\":1,\"tickcolor\":\"rgb(36,36,36)\",\"ticks\":\"outside\"}}],\"contour\":[{\"type\":\"contour\",\"colorbar\":{\"outlinewidth\":1,\"tickcolor\":\"rgb(36,36,36)\",\"ticks\":\"outside\"},\"colorscale\":[[0.0,\"#440154\"],[0.1111111111111111,\"#482878\"],[0.2222222222222222,\"#3e4989\"],[0.3333333333333333,\"#31688e\"],[0.4444444444444444,\"#26828e\"],[0.5555555555555556,\"#1f9e89\"],[0.6666666666666666,\"#35b779\"],[0.7777777777777778,\"#6ece58\"],[0.8888888888888888,\"#b5de2b\"],[1.0,\"#fde725\"]]}],\"surface\":[{\"type\":\"surface\",\"colorbar\":{\"outlinewidth\":1,\"tickcolor\":\"rgb(36,36,36)\",\"ticks\":\"outside\"},\"colorscale\":[[0.0,\"#440154\"],[0.1111111111111111,\"#482878\"],[0.2222222222222222,\"#3e4989\"],[0.3333333333333333,\"#31688e\"],[0.4444444444444444,\"#26828e\"],[0.5555555555555556,\"#1f9e89\"],[0.6666666666666666,\"#35b779\"],[0.7777777777777778,\"#6ece58\"],[0.8888888888888888,\"#b5de2b\"],[1.0,\"#fde725\"]]}],\"mesh3d\":[{\"type\":\"mesh3d\",\"colorbar\":{\"outlinewidth\":1,\"tickcolor\":\"rgb(36,36,36)\",\"ticks\":\"outside\"}}],\"scatter\":[{\"fillpattern\":{\"fillmode\":\"overlay\",\"size\":10,\"solidity\":0.2},\"type\":\"scatter\"}],\"parcoords\":[{\"type\":\"parcoords\",\"line\":{\"colorbar\":{\"outlinewidth\":1,\"tickcolor\":\"rgb(36,36,36)\",\"ticks\":\"outside\"}}}],\"scatterpolargl\":[{\"type\":\"scatterpolargl\",\"marker\":{\"colorbar\":{\"outlinewidth\":1,\"tickcolor\":\"rgb(36,36,36)\",\"ticks\":\"outside\"}}}],\"bar\":[{\"error_x\":{\"color\":\"rgb(36,36,36)\"},\"error_y\":{\"color\":\"rgb(36,36,36)\"},\"marker\":{\"line\":{\"color\":\"white\",\"width\":0.5},\"pattern\":{\"fillmode\":\"overlay\",\"size\":10,\"solidity\":0.2}},\"type\":\"bar\"}],\"scattergeo\":[{\"type\":\"scattergeo\",\"marker\":{\"colorbar\":{\"outlinewidth\":1,\"tickcolor\":\"rgb(36,36,36)\",\"ticks\":\"outside\"}}}],\"scatterpolar\":[{\"type\":\"scatterpolar\",\"marker\":{\"colorbar\":{\"outlinewidth\":1,\"tickcolor\":\"rgb(36,36,36)\",\"ticks\":\"outside\"}}}],\"histogram\":[{\"marker\":{\"line\":{\"color\":\"white\",\"width\":0.6}},\"type\":\"histogram\"}],\"scattergl\":[{\"type\":\"scattergl\",\"marker\":{\"colorbar\":{\"outlinewidth\":1,\"tickcolor\":\"rgb(36,36,36)\",\"ticks\":\"outside\"}}}],\"scatter3d\":[{\"type\":\"scatter3d\",\"line\":{\"colorbar\":{\"outlinewidth\":1,\"tickcolor\":\"rgb(36,36,36)\",\"ticks\":\"outside\"}},\"marker\":{\"colorbar\":{\"outlinewidth\":1,\"tickcolor\":\"rgb(36,36,36)\",\"ticks\":\"outside\"}}}],\"scattermapbox\":[{\"type\":\"scattermapbox\",\"marker\":{\"colorbar\":{\"outlinewidth\":1,\"tickcolor\":\"rgb(36,36,36)\",\"ticks\":\"outside\"}}}],\"scatterternary\":[{\"type\":\"scatterternary\",\"marker\":{\"colorbar\":{\"outlinewidth\":1,\"tickcolor\":\"rgb(36,36,36)\",\"ticks\":\"outside\"}}}],\"scattercarpet\":[{\"type\":\"scattercarpet\",\"marker\":{\"colorbar\":{\"outlinewidth\":1,\"tickcolor\":\"rgb(36,36,36)\",\"ticks\":\"outside\"}}}],\"carpet\":[{\"aaxis\":{\"endlinecolor\":\"rgb(36,36,36)\",\"gridcolor\":\"white\",\"linecolor\":\"white\",\"minorgridcolor\":\"white\",\"startlinecolor\":\"rgb(36,36,36)\"},\"baxis\":{\"endlinecolor\":\"rgb(36,36,36)\",\"gridcolor\":\"white\",\"linecolor\":\"white\",\"minorgridcolor\":\"white\",\"startlinecolor\":\"rgb(36,36,36)\"},\"type\":\"carpet\"}],\"table\":[{\"cells\":{\"fill\":{\"color\":\"rgb(237,237,237)\"},\"line\":{\"color\":\"white\"}},\"header\":{\"fill\":{\"color\":\"rgb(217,217,217)\"},\"line\":{\"color\":\"white\"}},\"type\":\"table\"}],\"barpolar\":[{\"marker\":{\"line\":{\"color\":\"white\",\"width\":0.5},\"pattern\":{\"fillmode\":\"overlay\",\"size\":10,\"solidity\":0.2}},\"type\":\"barpolar\"}],\"pie\":[{\"automargin\":true,\"type\":\"pie\"}]},\"layout\":{\"autotypenumbers\":\"strict\",\"colorway\":[\"#1F77B4\",\"#FF7F0E\",\"#2CA02C\",\"#D62728\",\"#9467BD\",\"#8C564B\",\"#E377C2\",\"#7F7F7F\",\"#BCBD22\",\"#17BECF\"],\"font\":{\"color\":\"rgb(36,36,36)\"},\"hovermode\":\"closest\",\"hoverlabel\":{\"align\":\"left\"},\"paper_bgcolor\":\"white\",\"plot_bgcolor\":\"white\",\"polar\":{\"bgcolor\":\"white\",\"angularaxis\":{\"gridcolor\":\"rgb(232,232,232)\",\"linecolor\":\"rgb(36,36,36)\",\"showgrid\":false,\"showline\":true,\"ticks\":\"outside\"},\"radialaxis\":{\"gridcolor\":\"rgb(232,232,232)\",\"linecolor\":\"rgb(36,36,36)\",\"showgrid\":false,\"showline\":true,\"ticks\":\"outside\"}},\"ternary\":{\"bgcolor\":\"white\",\"aaxis\":{\"gridcolor\":\"rgb(232,232,232)\",\"linecolor\":\"rgb(36,36,36)\",\"showgrid\":false,\"showline\":true,\"ticks\":\"outside\"},\"baxis\":{\"gridcolor\":\"rgb(232,232,232)\",\"linecolor\":\"rgb(36,36,36)\",\"showgrid\":false,\"showline\":true,\"ticks\":\"outside\"},\"caxis\":{\"gridcolor\":\"rgb(232,232,232)\",\"linecolor\":\"rgb(36,36,36)\",\"showgrid\":false,\"showline\":true,\"ticks\":\"outside\"}},\"coloraxis\":{\"colorbar\":{\"outlinewidth\":1,\"tickcolor\":\"rgb(36,36,36)\",\"ticks\":\"outside\"}},\"colorscale\":{\"sequential\":[[0.0,\"#440154\"],[0.1111111111111111,\"#482878\"],[0.2222222222222222,\"#3e4989\"],[0.3333333333333333,\"#31688e\"],[0.4444444444444444,\"#26828e\"],[0.5555555555555556,\"#1f9e89\"],[0.6666666666666666,\"#35b779\"],[0.7777777777777778,\"#6ece58\"],[0.8888888888888888,\"#b5de2b\"],[1.0,\"#fde725\"]],\"sequentialminus\":[[0.0,\"#440154\"],[0.1111111111111111,\"#482878\"],[0.2222222222222222,\"#3e4989\"],[0.3333333333333333,\"#31688e\"],[0.4444444444444444,\"#26828e\"],[0.5555555555555556,\"#1f9e89\"],[0.6666666666666666,\"#35b779\"],[0.7777777777777778,\"#6ece58\"],[0.8888888888888888,\"#b5de2b\"],[1.0,\"#fde725\"]],\"diverging\":[[0.0,\"rgb(103,0,31)\"],[0.1,\"rgb(178,24,43)\"],[0.2,\"rgb(214,96,77)\"],[0.3,\"rgb(244,165,130)\"],[0.4,\"rgb(253,219,199)\"],[0.5,\"rgb(247,247,247)\"],[0.6,\"rgb(209,229,240)\"],[0.7,\"rgb(146,197,222)\"],[0.8,\"rgb(67,147,195)\"],[0.9,\"rgb(33,102,172)\"],[1.0,\"rgb(5,48,97)\"]]},\"xaxis\":{\"gridcolor\":\"rgb(232,232,232)\",\"linecolor\":\"rgb(36,36,36)\",\"showgrid\":false,\"showline\":true,\"ticks\":\"outside\",\"title\":{\"standoff\":15},\"zerolinecolor\":\"rgb(36,36,36)\",\"automargin\":true,\"zeroline\":false},\"yaxis\":{\"gridcolor\":\"rgb(232,232,232)\",\"linecolor\":\"rgb(36,36,36)\",\"showgrid\":false,\"showline\":true,\"ticks\":\"outside\",\"title\":{\"standoff\":15},\"zerolinecolor\":\"rgb(36,36,36)\",\"automargin\":true,\"zeroline\":false},\"scene\":{\"xaxis\":{\"backgroundcolor\":\"white\",\"gridcolor\":\"rgb(232,232,232)\",\"linecolor\":\"rgb(36,36,36)\",\"showbackground\":true,\"showgrid\":false,\"showline\":true,\"ticks\":\"outside\",\"zerolinecolor\":\"rgb(36,36,36)\",\"gridwidth\":2,\"zeroline\":false},\"yaxis\":{\"backgroundcolor\":\"white\",\"gridcolor\":\"rgb(232,232,232)\",\"linecolor\":\"rgb(36,36,36)\",\"showbackground\":true,\"showgrid\":false,\"showline\":true,\"ticks\":\"outside\",\"zerolinecolor\":\"rgb(36,36,36)\",\"gridwidth\":2,\"zeroline\":false},\"zaxis\":{\"backgroundcolor\":\"white\",\"gridcolor\":\"rgb(232,232,232)\",\"linecolor\":\"rgb(36,36,36)\",\"showbackground\":true,\"showgrid\":false,\"showline\":true,\"ticks\":\"outside\",\"zerolinecolor\":\"rgb(36,36,36)\",\"gridwidth\":2,\"zeroline\":false}},\"shapedefaults\":{\"fillcolor\":\"black\",\"line\":{\"width\":0},\"opacity\":0.3},\"annotationdefaults\":{\"arrowhead\":0,\"arrowwidth\":1},\"geo\":{\"bgcolor\":\"white\",\"landcolor\":\"white\",\"subunitcolor\":\"white\",\"showland\":true,\"showlakes\":true,\"lakecolor\":\"white\"},\"title\":{\"x\":0.05},\"mapbox\":{\"style\":\"light\"}}},\"xaxis\":{\"anchor\":\"y\",\"domain\":[0.0,1.0],\"title\":{\"text\":\"label\"}},\"yaxis\":{\"anchor\":\"x\",\"domain\":[0.0,1.0],\"title\":{\"text\":\"value\"}},\"legend\":{\"title\":{\"text\":\"variable\"},\"tracegroupgap\":0},\"margin\":{\"t\":60},\"barmode\":\"group\"},                        {\"responsive\": true}                    ).then(function(){\n",
       "                            \n",
       "var gd = document.getElementById('958f62ba-4621-4a31-80df-0161dd719be9');\n",
       "var x = new MutationObserver(function (mutations, observer) {{\n",
       "        var display = window.getComputedStyle(gd).display;\n",
       "        if (!display || display === 'none') {{\n",
       "            console.log([gd, 'removed!']);\n",
       "            Plotly.purge(gd);\n",
       "            observer.disconnect();\n",
       "        }}\n",
       "}});\n",
       "\n",
       "// Listen for the removal of the full notebook cells\n",
       "var notebookContainer = gd.closest('#notebook-container');\n",
       "if (notebookContainer) {{\n",
       "    x.observe(notebookContainer, {childList: true});\n",
       "}}\n",
       "\n",
       "// Listen for the clearing of the current output cell\n",
       "var outputEl = gd.closest('.output');\n",
       "if (outputEl) {{\n",
       "    x.observe(outputEl, {childList: true});\n",
       "}}\n",
       "\n",
       "                        })                };                });            </script>        </div>"
      ]
     },
     "metadata": {},
     "output_type": "display_data"
    }
   ],
   "execution_count": 37
  },
  {
   "metadata": {
    "ExecuteTime": {
     "end_time": "2025-01-14T15:12:12.601771Z",
     "start_time": "2025-01-14T15:12:12.570461Z"
    }
   },
   "cell_type": "code",
   "source": "px.bar(df_roll_passes, x=\"label\", y=[\"out_profile_temperature\", \"temperature_Versuch1\"], barmode=\"group\")",
   "id": "2e78e9d8d5fd0e5a",
   "outputs": [
    {
     "data": {
      "application/vnd.plotly.v1+json": {
       "data": [
        {
         "alignmentgroup": "True",
         "hovertemplate": "variable=out_profile_temperature<br>label=%{x}<br>value=%{y}<extra></extra>",
         "legendgroup": "out_profile_temperature",
         "marker": {
          "color": "#1F77B4",
          "pattern": {
           "shape": ""
          }
         },
         "name": "out_profile_temperature",
         "offsetgroup": "out_profile_temperature",
         "orientation": "v",
         "showlegend": true,
         "textposition": "auto",
         "x": [
          "Oval V",
          "Quadrat VI",
          "Oval VII",
          "Quadrat VIII",
          "Oval IX",
          "Quadrat X",
          "Oval XI",
          "Quadrat XII",
          "Oval XIII",
          "Quadrat XIV",
          "Oval XV",
          "Fertigrund XVIa"
         ],
         "xaxis": "x",
         "y": [
          1479.2505219274956,
          1447.838820136952,
          1420.5384294580979,
          1386.0449047362742,
          1358.5856388669888,
          1326.7077308557211,
          1293.6154936787482,
          1256.45497447477,
          1228.5740530333726,
          1194.260557109985,
          1176.544508474104,
          1139.4285002853064
         ],
         "yaxis": "y",
         "type": "bar"
        },
        {
         "alignmentgroup": "True",
         "hovertemplate": "variable=temperature_Versuch1<br>label=%{x}<br>value=%{y}<extra></extra>",
         "legendgroup": "temperature_Versuch1",
         "marker": {
          "color": "#FF7F0E",
          "pattern": {
           "shape": ""
          }
         },
         "name": "temperature_Versuch1",
         "offsetgroup": "temperature_Versuch1",
         "orientation": "v",
         "showlegend": true,
         "textposition": "auto",
         "x": [
          "Oval V",
          "Quadrat VI",
          "Oval VII",
          "Quadrat VIII",
          "Oval IX",
          "Quadrat X",
          "Oval XI",
          "Quadrat XII",
          "Oval XIII",
          "Quadrat XIV",
          "Oval XV",
          "Fertigrund XVIa"
         ],
         "xaxis": "x",
         "y": [
          1313.15,
          0.0,
          0.0,
          1263.15,
          0.0,
          0.0,
          0.0,
          0.0,
          0.0,
          0.0,
          0.0,
          1033.15
         ],
         "yaxis": "y",
         "type": "bar"
        }
       ],
       "layout": {
        "template": {
         "data": {
          "histogram2dcontour": [
           {
            "type": "histogram2dcontour",
            "colorbar": {
             "outlinewidth": 1,
             "tickcolor": "rgb(36,36,36)",
             "ticks": "outside"
            },
            "colorscale": [
             [
              0.0,
              "#440154"
             ],
             [
              0.1111111111111111,
              "#482878"
             ],
             [
              0.2222222222222222,
              "#3e4989"
             ],
             [
              0.3333333333333333,
              "#31688e"
             ],
             [
              0.4444444444444444,
              "#26828e"
             ],
             [
              0.5555555555555556,
              "#1f9e89"
             ],
             [
              0.6666666666666666,
              "#35b779"
             ],
             [
              0.7777777777777778,
              "#6ece58"
             ],
             [
              0.8888888888888888,
              "#b5de2b"
             ],
             [
              1.0,
              "#fde725"
             ]
            ]
           }
          ],
          "choropleth": [
           {
            "type": "choropleth",
            "colorbar": {
             "outlinewidth": 1,
             "tickcolor": "rgb(36,36,36)",
             "ticks": "outside"
            }
           }
          ],
          "histogram2d": [
           {
            "type": "histogram2d",
            "colorbar": {
             "outlinewidth": 1,
             "tickcolor": "rgb(36,36,36)",
             "ticks": "outside"
            },
            "colorscale": [
             [
              0.0,
              "#440154"
             ],
             [
              0.1111111111111111,
              "#482878"
             ],
             [
              0.2222222222222222,
              "#3e4989"
             ],
             [
              0.3333333333333333,
              "#31688e"
             ],
             [
              0.4444444444444444,
              "#26828e"
             ],
             [
              0.5555555555555556,
              "#1f9e89"
             ],
             [
              0.6666666666666666,
              "#35b779"
             ],
             [
              0.7777777777777778,
              "#6ece58"
             ],
             [
              0.8888888888888888,
              "#b5de2b"
             ],
             [
              1.0,
              "#fde725"
             ]
            ]
           }
          ],
          "heatmap": [
           {
            "type": "heatmap",
            "colorbar": {
             "outlinewidth": 1,
             "tickcolor": "rgb(36,36,36)",
             "ticks": "outside"
            },
            "colorscale": [
             [
              0.0,
              "#440154"
             ],
             [
              0.1111111111111111,
              "#482878"
             ],
             [
              0.2222222222222222,
              "#3e4989"
             ],
             [
              0.3333333333333333,
              "#31688e"
             ],
             [
              0.4444444444444444,
              "#26828e"
             ],
             [
              0.5555555555555556,
              "#1f9e89"
             ],
             [
              0.6666666666666666,
              "#35b779"
             ],
             [
              0.7777777777777778,
              "#6ece58"
             ],
             [
              0.8888888888888888,
              "#b5de2b"
             ],
             [
              1.0,
              "#fde725"
             ]
            ]
           }
          ],
          "heatmapgl": [
           {
            "type": "heatmapgl",
            "colorbar": {
             "outlinewidth": 1,
             "tickcolor": "rgb(36,36,36)",
             "ticks": "outside"
            },
            "colorscale": [
             [
              0.0,
              "#440154"
             ],
             [
              0.1111111111111111,
              "#482878"
             ],
             [
              0.2222222222222222,
              "#3e4989"
             ],
             [
              0.3333333333333333,
              "#31688e"
             ],
             [
              0.4444444444444444,
              "#26828e"
             ],
             [
              0.5555555555555556,
              "#1f9e89"
             ],
             [
              0.6666666666666666,
              "#35b779"
             ],
             [
              0.7777777777777778,
              "#6ece58"
             ],
             [
              0.8888888888888888,
              "#b5de2b"
             ],
             [
              1.0,
              "#fde725"
             ]
            ]
           }
          ],
          "contourcarpet": [
           {
            "type": "contourcarpet",
            "colorbar": {
             "outlinewidth": 1,
             "tickcolor": "rgb(36,36,36)",
             "ticks": "outside"
            }
           }
          ],
          "contour": [
           {
            "type": "contour",
            "colorbar": {
             "outlinewidth": 1,
             "tickcolor": "rgb(36,36,36)",
             "ticks": "outside"
            },
            "colorscale": [
             [
              0.0,
              "#440154"
             ],
             [
              0.1111111111111111,
              "#482878"
             ],
             [
              0.2222222222222222,
              "#3e4989"
             ],
             [
              0.3333333333333333,
              "#31688e"
             ],
             [
              0.4444444444444444,
              "#26828e"
             ],
             [
              0.5555555555555556,
              "#1f9e89"
             ],
             [
              0.6666666666666666,
              "#35b779"
             ],
             [
              0.7777777777777778,
              "#6ece58"
             ],
             [
              0.8888888888888888,
              "#b5de2b"
             ],
             [
              1.0,
              "#fde725"
             ]
            ]
           }
          ],
          "surface": [
           {
            "type": "surface",
            "colorbar": {
             "outlinewidth": 1,
             "tickcolor": "rgb(36,36,36)",
             "ticks": "outside"
            },
            "colorscale": [
             [
              0.0,
              "#440154"
             ],
             [
              0.1111111111111111,
              "#482878"
             ],
             [
              0.2222222222222222,
              "#3e4989"
             ],
             [
              0.3333333333333333,
              "#31688e"
             ],
             [
              0.4444444444444444,
              "#26828e"
             ],
             [
              0.5555555555555556,
              "#1f9e89"
             ],
             [
              0.6666666666666666,
              "#35b779"
             ],
             [
              0.7777777777777778,
              "#6ece58"
             ],
             [
              0.8888888888888888,
              "#b5de2b"
             ],
             [
              1.0,
              "#fde725"
             ]
            ]
           }
          ],
          "mesh3d": [
           {
            "type": "mesh3d",
            "colorbar": {
             "outlinewidth": 1,
             "tickcolor": "rgb(36,36,36)",
             "ticks": "outside"
            }
           }
          ],
          "scatter": [
           {
            "fillpattern": {
             "fillmode": "overlay",
             "size": 10,
             "solidity": 0.2
            },
            "type": "scatter"
           }
          ],
          "parcoords": [
           {
            "type": "parcoords",
            "line": {
             "colorbar": {
              "outlinewidth": 1,
              "tickcolor": "rgb(36,36,36)",
              "ticks": "outside"
             }
            }
           }
          ],
          "scatterpolargl": [
           {
            "type": "scatterpolargl",
            "marker": {
             "colorbar": {
              "outlinewidth": 1,
              "tickcolor": "rgb(36,36,36)",
              "ticks": "outside"
             }
            }
           }
          ],
          "bar": [
           {
            "error_x": {
             "color": "rgb(36,36,36)"
            },
            "error_y": {
             "color": "rgb(36,36,36)"
            },
            "marker": {
             "line": {
              "color": "white",
              "width": 0.5
             },
             "pattern": {
              "fillmode": "overlay",
              "size": 10,
              "solidity": 0.2
             }
            },
            "type": "bar"
           }
          ],
          "scattergeo": [
           {
            "type": "scattergeo",
            "marker": {
             "colorbar": {
              "outlinewidth": 1,
              "tickcolor": "rgb(36,36,36)",
              "ticks": "outside"
             }
            }
           }
          ],
          "scatterpolar": [
           {
            "type": "scatterpolar",
            "marker": {
             "colorbar": {
              "outlinewidth": 1,
              "tickcolor": "rgb(36,36,36)",
              "ticks": "outside"
             }
            }
           }
          ],
          "histogram": [
           {
            "marker": {
             "line": {
              "color": "white",
              "width": 0.6
             }
            },
            "type": "histogram"
           }
          ],
          "scattergl": [
           {
            "type": "scattergl",
            "marker": {
             "colorbar": {
              "outlinewidth": 1,
              "tickcolor": "rgb(36,36,36)",
              "ticks": "outside"
             }
            }
           }
          ],
          "scatter3d": [
           {
            "type": "scatter3d",
            "line": {
             "colorbar": {
              "outlinewidth": 1,
              "tickcolor": "rgb(36,36,36)",
              "ticks": "outside"
             }
            },
            "marker": {
             "colorbar": {
              "outlinewidth": 1,
              "tickcolor": "rgb(36,36,36)",
              "ticks": "outside"
             }
            }
           }
          ],
          "scattermapbox": [
           {
            "type": "scattermapbox",
            "marker": {
             "colorbar": {
              "outlinewidth": 1,
              "tickcolor": "rgb(36,36,36)",
              "ticks": "outside"
             }
            }
           }
          ],
          "scatterternary": [
           {
            "type": "scatterternary",
            "marker": {
             "colorbar": {
              "outlinewidth": 1,
              "tickcolor": "rgb(36,36,36)",
              "ticks": "outside"
             }
            }
           }
          ],
          "scattercarpet": [
           {
            "type": "scattercarpet",
            "marker": {
             "colorbar": {
              "outlinewidth": 1,
              "tickcolor": "rgb(36,36,36)",
              "ticks": "outside"
             }
            }
           }
          ],
          "carpet": [
           {
            "aaxis": {
             "endlinecolor": "rgb(36,36,36)",
             "gridcolor": "white",
             "linecolor": "white",
             "minorgridcolor": "white",
             "startlinecolor": "rgb(36,36,36)"
            },
            "baxis": {
             "endlinecolor": "rgb(36,36,36)",
             "gridcolor": "white",
             "linecolor": "white",
             "minorgridcolor": "white",
             "startlinecolor": "rgb(36,36,36)"
            },
            "type": "carpet"
           }
          ],
          "table": [
           {
            "cells": {
             "fill": {
              "color": "rgb(237,237,237)"
             },
             "line": {
              "color": "white"
             }
            },
            "header": {
             "fill": {
              "color": "rgb(217,217,217)"
             },
             "line": {
              "color": "white"
             }
            },
            "type": "table"
           }
          ],
          "barpolar": [
           {
            "marker": {
             "line": {
              "color": "white",
              "width": 0.5
             },
             "pattern": {
              "fillmode": "overlay",
              "size": 10,
              "solidity": 0.2
             }
            },
            "type": "barpolar"
           }
          ],
          "pie": [
           {
            "automargin": true,
            "type": "pie"
           }
          ]
         },
         "layout": {
          "autotypenumbers": "strict",
          "colorway": [
           "#1F77B4",
           "#FF7F0E",
           "#2CA02C",
           "#D62728",
           "#9467BD",
           "#8C564B",
           "#E377C2",
           "#7F7F7F",
           "#BCBD22",
           "#17BECF"
          ],
          "font": {
           "color": "rgb(36,36,36)"
          },
          "hovermode": "closest",
          "hoverlabel": {
           "align": "left"
          },
          "paper_bgcolor": "white",
          "plot_bgcolor": "white",
          "polar": {
           "bgcolor": "white",
           "angularaxis": {
            "gridcolor": "rgb(232,232,232)",
            "linecolor": "rgb(36,36,36)",
            "showgrid": false,
            "showline": true,
            "ticks": "outside"
           },
           "radialaxis": {
            "gridcolor": "rgb(232,232,232)",
            "linecolor": "rgb(36,36,36)",
            "showgrid": false,
            "showline": true,
            "ticks": "outside"
           }
          },
          "ternary": {
           "bgcolor": "white",
           "aaxis": {
            "gridcolor": "rgb(232,232,232)",
            "linecolor": "rgb(36,36,36)",
            "showgrid": false,
            "showline": true,
            "ticks": "outside"
           },
           "baxis": {
            "gridcolor": "rgb(232,232,232)",
            "linecolor": "rgb(36,36,36)",
            "showgrid": false,
            "showline": true,
            "ticks": "outside"
           },
           "caxis": {
            "gridcolor": "rgb(232,232,232)",
            "linecolor": "rgb(36,36,36)",
            "showgrid": false,
            "showline": true,
            "ticks": "outside"
           }
          },
          "coloraxis": {
           "colorbar": {
            "outlinewidth": 1,
            "tickcolor": "rgb(36,36,36)",
            "ticks": "outside"
           }
          },
          "colorscale": {
           "sequential": [
            [
             0.0,
             "#440154"
            ],
            [
             0.1111111111111111,
             "#482878"
            ],
            [
             0.2222222222222222,
             "#3e4989"
            ],
            [
             0.3333333333333333,
             "#31688e"
            ],
            [
             0.4444444444444444,
             "#26828e"
            ],
            [
             0.5555555555555556,
             "#1f9e89"
            ],
            [
             0.6666666666666666,
             "#35b779"
            ],
            [
             0.7777777777777778,
             "#6ece58"
            ],
            [
             0.8888888888888888,
             "#b5de2b"
            ],
            [
             1.0,
             "#fde725"
            ]
           ],
           "sequentialminus": [
            [
             0.0,
             "#440154"
            ],
            [
             0.1111111111111111,
             "#482878"
            ],
            [
             0.2222222222222222,
             "#3e4989"
            ],
            [
             0.3333333333333333,
             "#31688e"
            ],
            [
             0.4444444444444444,
             "#26828e"
            ],
            [
             0.5555555555555556,
             "#1f9e89"
            ],
            [
             0.6666666666666666,
             "#35b779"
            ],
            [
             0.7777777777777778,
             "#6ece58"
            ],
            [
             0.8888888888888888,
             "#b5de2b"
            ],
            [
             1.0,
             "#fde725"
            ]
           ],
           "diverging": [
            [
             0.0,
             "rgb(103,0,31)"
            ],
            [
             0.1,
             "rgb(178,24,43)"
            ],
            [
             0.2,
             "rgb(214,96,77)"
            ],
            [
             0.3,
             "rgb(244,165,130)"
            ],
            [
             0.4,
             "rgb(253,219,199)"
            ],
            [
             0.5,
             "rgb(247,247,247)"
            ],
            [
             0.6,
             "rgb(209,229,240)"
            ],
            [
             0.7,
             "rgb(146,197,222)"
            ],
            [
             0.8,
             "rgb(67,147,195)"
            ],
            [
             0.9,
             "rgb(33,102,172)"
            ],
            [
             1.0,
             "rgb(5,48,97)"
            ]
           ]
          },
          "xaxis": {
           "gridcolor": "rgb(232,232,232)",
           "linecolor": "rgb(36,36,36)",
           "showgrid": false,
           "showline": true,
           "ticks": "outside",
           "title": {
            "standoff": 15
           },
           "zerolinecolor": "rgb(36,36,36)",
           "automargin": true,
           "zeroline": false
          },
          "yaxis": {
           "gridcolor": "rgb(232,232,232)",
           "linecolor": "rgb(36,36,36)",
           "showgrid": false,
           "showline": true,
           "ticks": "outside",
           "title": {
            "standoff": 15
           },
           "zerolinecolor": "rgb(36,36,36)",
           "automargin": true,
           "zeroline": false
          },
          "scene": {
           "xaxis": {
            "backgroundcolor": "white",
            "gridcolor": "rgb(232,232,232)",
            "linecolor": "rgb(36,36,36)",
            "showbackground": true,
            "showgrid": false,
            "showline": true,
            "ticks": "outside",
            "zerolinecolor": "rgb(36,36,36)",
            "gridwidth": 2,
            "zeroline": false
           },
           "yaxis": {
            "backgroundcolor": "white",
            "gridcolor": "rgb(232,232,232)",
            "linecolor": "rgb(36,36,36)",
            "showbackground": true,
            "showgrid": false,
            "showline": true,
            "ticks": "outside",
            "zerolinecolor": "rgb(36,36,36)",
            "gridwidth": 2,
            "zeroline": false
           },
           "zaxis": {
            "backgroundcolor": "white",
            "gridcolor": "rgb(232,232,232)",
            "linecolor": "rgb(36,36,36)",
            "showbackground": true,
            "showgrid": false,
            "showline": true,
            "ticks": "outside",
            "zerolinecolor": "rgb(36,36,36)",
            "gridwidth": 2,
            "zeroline": false
           }
          },
          "shapedefaults": {
           "fillcolor": "black",
           "line": {
            "width": 0
           },
           "opacity": 0.3
          },
          "annotationdefaults": {
           "arrowhead": 0,
           "arrowwidth": 1
          },
          "geo": {
           "bgcolor": "white",
           "landcolor": "white",
           "subunitcolor": "white",
           "showland": true,
           "showlakes": true,
           "lakecolor": "white"
          },
          "title": {
           "x": 0.05
          },
          "mapbox": {
           "style": "light"
          }
         }
        },
        "xaxis": {
         "anchor": "y",
         "domain": [
          0.0,
          1.0
         ],
         "title": {
          "text": "label"
         }
        },
        "yaxis": {
         "anchor": "x",
         "domain": [
          0.0,
          1.0
         ],
         "title": {
          "text": "value"
         }
        },
        "legend": {
         "title": {
          "text": "variable"
         },
         "tracegroupgap": 0
        },
        "margin": {
         "t": 60
        },
        "barmode": "group"
       },
       "config": {
        "plotlyServerURL": "https://plot.ly"
       }
      },
      "text/html": [
       "<div>                            <div id=\"d332cf19-4258-4009-a7cb-a72b0eeed905\" class=\"plotly-graph-div\" style=\"height:525px; width:100%;\"></div>            <script type=\"text/javascript\">                require([\"plotly\"], function(Plotly) {                    window.PLOTLYENV=window.PLOTLYENV || {};                                    if (document.getElementById(\"d332cf19-4258-4009-a7cb-a72b0eeed905\")) {                    Plotly.newPlot(                        \"d332cf19-4258-4009-a7cb-a72b0eeed905\",                        [{\"alignmentgroup\":\"True\",\"hovertemplate\":\"variable=out_profile_temperature\\u003cbr\\u003elabel=%{x}\\u003cbr\\u003evalue=%{y}\\u003cextra\\u003e\\u003c\\u002fextra\\u003e\",\"legendgroup\":\"out_profile_temperature\",\"marker\":{\"color\":\"#1F77B4\",\"pattern\":{\"shape\":\"\"}},\"name\":\"out_profile_temperature\",\"offsetgroup\":\"out_profile_temperature\",\"orientation\":\"v\",\"showlegend\":true,\"textposition\":\"auto\",\"x\":[\"Oval V\",\"Quadrat VI\",\"Oval VII\",\"Quadrat VIII\",\"Oval IX\",\"Quadrat X\",\"Oval XI\",\"Quadrat XII\",\"Oval XIII\",\"Quadrat XIV\",\"Oval XV\",\"Fertigrund XVIa\"],\"xaxis\":\"x\",\"y\":[1479.2505219274956,1447.838820136952,1420.5384294580979,1386.0449047362742,1358.5856388669888,1326.7077308557211,1293.6154936787482,1256.45497447477,1228.5740530333726,1194.260557109985,1176.544508474104,1139.4285002853064],\"yaxis\":\"y\",\"type\":\"bar\"},{\"alignmentgroup\":\"True\",\"hovertemplate\":\"variable=temperature_Versuch1\\u003cbr\\u003elabel=%{x}\\u003cbr\\u003evalue=%{y}\\u003cextra\\u003e\\u003c\\u002fextra\\u003e\",\"legendgroup\":\"temperature_Versuch1\",\"marker\":{\"color\":\"#FF7F0E\",\"pattern\":{\"shape\":\"\"}},\"name\":\"temperature_Versuch1\",\"offsetgroup\":\"temperature_Versuch1\",\"orientation\":\"v\",\"showlegend\":true,\"textposition\":\"auto\",\"x\":[\"Oval V\",\"Quadrat VI\",\"Oval VII\",\"Quadrat VIII\",\"Oval IX\",\"Quadrat X\",\"Oval XI\",\"Quadrat XII\",\"Oval XIII\",\"Quadrat XIV\",\"Oval XV\",\"Fertigrund XVIa\"],\"xaxis\":\"x\",\"y\":[1313.15,0.0,0.0,1263.15,0.0,0.0,0.0,0.0,0.0,0.0,0.0,1033.15],\"yaxis\":\"y\",\"type\":\"bar\"}],                        {\"template\":{\"data\":{\"histogram2dcontour\":[{\"type\":\"histogram2dcontour\",\"colorbar\":{\"outlinewidth\":1,\"tickcolor\":\"rgb(36,36,36)\",\"ticks\":\"outside\"},\"colorscale\":[[0.0,\"#440154\"],[0.1111111111111111,\"#482878\"],[0.2222222222222222,\"#3e4989\"],[0.3333333333333333,\"#31688e\"],[0.4444444444444444,\"#26828e\"],[0.5555555555555556,\"#1f9e89\"],[0.6666666666666666,\"#35b779\"],[0.7777777777777778,\"#6ece58\"],[0.8888888888888888,\"#b5de2b\"],[1.0,\"#fde725\"]]}],\"choropleth\":[{\"type\":\"choropleth\",\"colorbar\":{\"outlinewidth\":1,\"tickcolor\":\"rgb(36,36,36)\",\"ticks\":\"outside\"}}],\"histogram2d\":[{\"type\":\"histogram2d\",\"colorbar\":{\"outlinewidth\":1,\"tickcolor\":\"rgb(36,36,36)\",\"ticks\":\"outside\"},\"colorscale\":[[0.0,\"#440154\"],[0.1111111111111111,\"#482878\"],[0.2222222222222222,\"#3e4989\"],[0.3333333333333333,\"#31688e\"],[0.4444444444444444,\"#26828e\"],[0.5555555555555556,\"#1f9e89\"],[0.6666666666666666,\"#35b779\"],[0.7777777777777778,\"#6ece58\"],[0.8888888888888888,\"#b5de2b\"],[1.0,\"#fde725\"]]}],\"heatmap\":[{\"type\":\"heatmap\",\"colorbar\":{\"outlinewidth\":1,\"tickcolor\":\"rgb(36,36,36)\",\"ticks\":\"outside\"},\"colorscale\":[[0.0,\"#440154\"],[0.1111111111111111,\"#482878\"],[0.2222222222222222,\"#3e4989\"],[0.3333333333333333,\"#31688e\"],[0.4444444444444444,\"#26828e\"],[0.5555555555555556,\"#1f9e89\"],[0.6666666666666666,\"#35b779\"],[0.7777777777777778,\"#6ece58\"],[0.8888888888888888,\"#b5de2b\"],[1.0,\"#fde725\"]]}],\"heatmapgl\":[{\"type\":\"heatmapgl\",\"colorbar\":{\"outlinewidth\":1,\"tickcolor\":\"rgb(36,36,36)\",\"ticks\":\"outside\"},\"colorscale\":[[0.0,\"#440154\"],[0.1111111111111111,\"#482878\"],[0.2222222222222222,\"#3e4989\"],[0.3333333333333333,\"#31688e\"],[0.4444444444444444,\"#26828e\"],[0.5555555555555556,\"#1f9e89\"],[0.6666666666666666,\"#35b779\"],[0.7777777777777778,\"#6ece58\"],[0.8888888888888888,\"#b5de2b\"],[1.0,\"#fde725\"]]}],\"contourcarpet\":[{\"type\":\"contourcarpet\",\"colorbar\":{\"outlinewidth\":1,\"tickcolor\":\"rgb(36,36,36)\",\"ticks\":\"outside\"}}],\"contour\":[{\"type\":\"contour\",\"colorbar\":{\"outlinewidth\":1,\"tickcolor\":\"rgb(36,36,36)\",\"ticks\":\"outside\"},\"colorscale\":[[0.0,\"#440154\"],[0.1111111111111111,\"#482878\"],[0.2222222222222222,\"#3e4989\"],[0.3333333333333333,\"#31688e\"],[0.4444444444444444,\"#26828e\"],[0.5555555555555556,\"#1f9e89\"],[0.6666666666666666,\"#35b779\"],[0.7777777777777778,\"#6ece58\"],[0.8888888888888888,\"#b5de2b\"],[1.0,\"#fde725\"]]}],\"surface\":[{\"type\":\"surface\",\"colorbar\":{\"outlinewidth\":1,\"tickcolor\":\"rgb(36,36,36)\",\"ticks\":\"outside\"},\"colorscale\":[[0.0,\"#440154\"],[0.1111111111111111,\"#482878\"],[0.2222222222222222,\"#3e4989\"],[0.3333333333333333,\"#31688e\"],[0.4444444444444444,\"#26828e\"],[0.5555555555555556,\"#1f9e89\"],[0.6666666666666666,\"#35b779\"],[0.7777777777777778,\"#6ece58\"],[0.8888888888888888,\"#b5de2b\"],[1.0,\"#fde725\"]]}],\"mesh3d\":[{\"type\":\"mesh3d\",\"colorbar\":{\"outlinewidth\":1,\"tickcolor\":\"rgb(36,36,36)\",\"ticks\":\"outside\"}}],\"scatter\":[{\"fillpattern\":{\"fillmode\":\"overlay\",\"size\":10,\"solidity\":0.2},\"type\":\"scatter\"}],\"parcoords\":[{\"type\":\"parcoords\",\"line\":{\"colorbar\":{\"outlinewidth\":1,\"tickcolor\":\"rgb(36,36,36)\",\"ticks\":\"outside\"}}}],\"scatterpolargl\":[{\"type\":\"scatterpolargl\",\"marker\":{\"colorbar\":{\"outlinewidth\":1,\"tickcolor\":\"rgb(36,36,36)\",\"ticks\":\"outside\"}}}],\"bar\":[{\"error_x\":{\"color\":\"rgb(36,36,36)\"},\"error_y\":{\"color\":\"rgb(36,36,36)\"},\"marker\":{\"line\":{\"color\":\"white\",\"width\":0.5},\"pattern\":{\"fillmode\":\"overlay\",\"size\":10,\"solidity\":0.2}},\"type\":\"bar\"}],\"scattergeo\":[{\"type\":\"scattergeo\",\"marker\":{\"colorbar\":{\"outlinewidth\":1,\"tickcolor\":\"rgb(36,36,36)\",\"ticks\":\"outside\"}}}],\"scatterpolar\":[{\"type\":\"scatterpolar\",\"marker\":{\"colorbar\":{\"outlinewidth\":1,\"tickcolor\":\"rgb(36,36,36)\",\"ticks\":\"outside\"}}}],\"histogram\":[{\"marker\":{\"line\":{\"color\":\"white\",\"width\":0.6}},\"type\":\"histogram\"}],\"scattergl\":[{\"type\":\"scattergl\",\"marker\":{\"colorbar\":{\"outlinewidth\":1,\"tickcolor\":\"rgb(36,36,36)\",\"ticks\":\"outside\"}}}],\"scatter3d\":[{\"type\":\"scatter3d\",\"line\":{\"colorbar\":{\"outlinewidth\":1,\"tickcolor\":\"rgb(36,36,36)\",\"ticks\":\"outside\"}},\"marker\":{\"colorbar\":{\"outlinewidth\":1,\"tickcolor\":\"rgb(36,36,36)\",\"ticks\":\"outside\"}}}],\"scattermapbox\":[{\"type\":\"scattermapbox\",\"marker\":{\"colorbar\":{\"outlinewidth\":1,\"tickcolor\":\"rgb(36,36,36)\",\"ticks\":\"outside\"}}}],\"scatterternary\":[{\"type\":\"scatterternary\",\"marker\":{\"colorbar\":{\"outlinewidth\":1,\"tickcolor\":\"rgb(36,36,36)\",\"ticks\":\"outside\"}}}],\"scattercarpet\":[{\"type\":\"scattercarpet\",\"marker\":{\"colorbar\":{\"outlinewidth\":1,\"tickcolor\":\"rgb(36,36,36)\",\"ticks\":\"outside\"}}}],\"carpet\":[{\"aaxis\":{\"endlinecolor\":\"rgb(36,36,36)\",\"gridcolor\":\"white\",\"linecolor\":\"white\",\"minorgridcolor\":\"white\",\"startlinecolor\":\"rgb(36,36,36)\"},\"baxis\":{\"endlinecolor\":\"rgb(36,36,36)\",\"gridcolor\":\"white\",\"linecolor\":\"white\",\"minorgridcolor\":\"white\",\"startlinecolor\":\"rgb(36,36,36)\"},\"type\":\"carpet\"}],\"table\":[{\"cells\":{\"fill\":{\"color\":\"rgb(237,237,237)\"},\"line\":{\"color\":\"white\"}},\"header\":{\"fill\":{\"color\":\"rgb(217,217,217)\"},\"line\":{\"color\":\"white\"}},\"type\":\"table\"}],\"barpolar\":[{\"marker\":{\"line\":{\"color\":\"white\",\"width\":0.5},\"pattern\":{\"fillmode\":\"overlay\",\"size\":10,\"solidity\":0.2}},\"type\":\"barpolar\"}],\"pie\":[{\"automargin\":true,\"type\":\"pie\"}]},\"layout\":{\"autotypenumbers\":\"strict\",\"colorway\":[\"#1F77B4\",\"#FF7F0E\",\"#2CA02C\",\"#D62728\",\"#9467BD\",\"#8C564B\",\"#E377C2\",\"#7F7F7F\",\"#BCBD22\",\"#17BECF\"],\"font\":{\"color\":\"rgb(36,36,36)\"},\"hovermode\":\"closest\",\"hoverlabel\":{\"align\":\"left\"},\"paper_bgcolor\":\"white\",\"plot_bgcolor\":\"white\",\"polar\":{\"bgcolor\":\"white\",\"angularaxis\":{\"gridcolor\":\"rgb(232,232,232)\",\"linecolor\":\"rgb(36,36,36)\",\"showgrid\":false,\"showline\":true,\"ticks\":\"outside\"},\"radialaxis\":{\"gridcolor\":\"rgb(232,232,232)\",\"linecolor\":\"rgb(36,36,36)\",\"showgrid\":false,\"showline\":true,\"ticks\":\"outside\"}},\"ternary\":{\"bgcolor\":\"white\",\"aaxis\":{\"gridcolor\":\"rgb(232,232,232)\",\"linecolor\":\"rgb(36,36,36)\",\"showgrid\":false,\"showline\":true,\"ticks\":\"outside\"},\"baxis\":{\"gridcolor\":\"rgb(232,232,232)\",\"linecolor\":\"rgb(36,36,36)\",\"showgrid\":false,\"showline\":true,\"ticks\":\"outside\"},\"caxis\":{\"gridcolor\":\"rgb(232,232,232)\",\"linecolor\":\"rgb(36,36,36)\",\"showgrid\":false,\"showline\":true,\"ticks\":\"outside\"}},\"coloraxis\":{\"colorbar\":{\"outlinewidth\":1,\"tickcolor\":\"rgb(36,36,36)\",\"ticks\":\"outside\"}},\"colorscale\":{\"sequential\":[[0.0,\"#440154\"],[0.1111111111111111,\"#482878\"],[0.2222222222222222,\"#3e4989\"],[0.3333333333333333,\"#31688e\"],[0.4444444444444444,\"#26828e\"],[0.5555555555555556,\"#1f9e89\"],[0.6666666666666666,\"#35b779\"],[0.7777777777777778,\"#6ece58\"],[0.8888888888888888,\"#b5de2b\"],[1.0,\"#fde725\"]],\"sequentialminus\":[[0.0,\"#440154\"],[0.1111111111111111,\"#482878\"],[0.2222222222222222,\"#3e4989\"],[0.3333333333333333,\"#31688e\"],[0.4444444444444444,\"#26828e\"],[0.5555555555555556,\"#1f9e89\"],[0.6666666666666666,\"#35b779\"],[0.7777777777777778,\"#6ece58\"],[0.8888888888888888,\"#b5de2b\"],[1.0,\"#fde725\"]],\"diverging\":[[0.0,\"rgb(103,0,31)\"],[0.1,\"rgb(178,24,43)\"],[0.2,\"rgb(214,96,77)\"],[0.3,\"rgb(244,165,130)\"],[0.4,\"rgb(253,219,199)\"],[0.5,\"rgb(247,247,247)\"],[0.6,\"rgb(209,229,240)\"],[0.7,\"rgb(146,197,222)\"],[0.8,\"rgb(67,147,195)\"],[0.9,\"rgb(33,102,172)\"],[1.0,\"rgb(5,48,97)\"]]},\"xaxis\":{\"gridcolor\":\"rgb(232,232,232)\",\"linecolor\":\"rgb(36,36,36)\",\"showgrid\":false,\"showline\":true,\"ticks\":\"outside\",\"title\":{\"standoff\":15},\"zerolinecolor\":\"rgb(36,36,36)\",\"automargin\":true,\"zeroline\":false},\"yaxis\":{\"gridcolor\":\"rgb(232,232,232)\",\"linecolor\":\"rgb(36,36,36)\",\"showgrid\":false,\"showline\":true,\"ticks\":\"outside\",\"title\":{\"standoff\":15},\"zerolinecolor\":\"rgb(36,36,36)\",\"automargin\":true,\"zeroline\":false},\"scene\":{\"xaxis\":{\"backgroundcolor\":\"white\",\"gridcolor\":\"rgb(232,232,232)\",\"linecolor\":\"rgb(36,36,36)\",\"showbackground\":true,\"showgrid\":false,\"showline\":true,\"ticks\":\"outside\",\"zerolinecolor\":\"rgb(36,36,36)\",\"gridwidth\":2,\"zeroline\":false},\"yaxis\":{\"backgroundcolor\":\"white\",\"gridcolor\":\"rgb(232,232,232)\",\"linecolor\":\"rgb(36,36,36)\",\"showbackground\":true,\"showgrid\":false,\"showline\":true,\"ticks\":\"outside\",\"zerolinecolor\":\"rgb(36,36,36)\",\"gridwidth\":2,\"zeroline\":false},\"zaxis\":{\"backgroundcolor\":\"white\",\"gridcolor\":\"rgb(232,232,232)\",\"linecolor\":\"rgb(36,36,36)\",\"showbackground\":true,\"showgrid\":false,\"showline\":true,\"ticks\":\"outside\",\"zerolinecolor\":\"rgb(36,36,36)\",\"gridwidth\":2,\"zeroline\":false}},\"shapedefaults\":{\"fillcolor\":\"black\",\"line\":{\"width\":0},\"opacity\":0.3},\"annotationdefaults\":{\"arrowhead\":0,\"arrowwidth\":1},\"geo\":{\"bgcolor\":\"white\",\"landcolor\":\"white\",\"subunitcolor\":\"white\",\"showland\":true,\"showlakes\":true,\"lakecolor\":\"white\"},\"title\":{\"x\":0.05},\"mapbox\":{\"style\":\"light\"}}},\"xaxis\":{\"anchor\":\"y\",\"domain\":[0.0,1.0],\"title\":{\"text\":\"label\"}},\"yaxis\":{\"anchor\":\"x\",\"domain\":[0.0,1.0],\"title\":{\"text\":\"value\"}},\"legend\":{\"title\":{\"text\":\"variable\"},\"tracegroupgap\":0},\"margin\":{\"t\":60},\"barmode\":\"group\"},                        {\"responsive\": true}                    ).then(function(){\n",
       "                            \n",
       "var gd = document.getElementById('d332cf19-4258-4009-a7cb-a72b0eeed905');\n",
       "var x = new MutationObserver(function (mutations, observer) {{\n",
       "        var display = window.getComputedStyle(gd).display;\n",
       "        if (!display || display === 'none') {{\n",
       "            console.log([gd, 'removed!']);\n",
       "            Plotly.purge(gd);\n",
       "            observer.disconnect();\n",
       "        }}\n",
       "}});\n",
       "\n",
       "// Listen for the removal of the full notebook cells\n",
       "var notebookContainer = gd.closest('#notebook-container');\n",
       "if (notebookContainer) {{\n",
       "    x.observe(notebookContainer, {childList: true});\n",
       "}}\n",
       "\n",
       "// Listen for the clearing of the current output cell\n",
       "var outputEl = gd.closest('.output');\n",
       "if (outputEl) {{\n",
       "    x.observe(outputEl, {childList: true});\n",
       "}}\n",
       "\n",
       "                        })                };                });            </script>        </div>"
      ]
     },
     "metadata": {},
     "output_type": "display_data"
    }
   ],
   "execution_count": 68
  },
  {
   "metadata": {},
   "cell_type": "code",
   "outputs": [],
   "execution_count": null,
   "source": "",
   "id": "a8a7b40c492e376d"
  }
 ],
 "metadata": {
  "kernelspec": {
   "display_name": "Python 3 (ipykernel)",
   "language": "python",
   "name": "python3"
  },
  "language_info": {
   "codemirror_mode": {
    "name": "ipython",
    "version": 3
   },
   "file_extension": ".py",
   "mimetype": "text/x-python",
   "name": "python",
   "nbconvert_exporter": "python",
   "pygments_lexer": "ipython3",
   "version": "3.12.4"
  }
 },
 "nbformat": 4,
 "nbformat_minor": 5
}
